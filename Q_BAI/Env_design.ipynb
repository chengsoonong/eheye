{
 "cells": [
  {
   "cell_type": "code",
   "execution_count": 1,
   "metadata": {},
   "outputs": [],
   "source": [
    "# direct to proper path\n",
    "import os\n",
    "import sys\n",
    "module_path = os.path.abspath(os.path.join('..'))\n",
    "if module_path not in sys.path:\n",
    "    sys.path.append(module_path)\n",
    "    \n",
    "import numpy as np\n",
    "from ipywidgets import IntProgress\n",
    "from IPython.display import display\n",
    "import matplotlib.pyplot as plt\n",
    "from collections import defaultdict\n",
    "import seaborn as sns\n",
    "import pickle\n",
    "from prettytable import PrettyTable\n",
    "\n",
    "from codes.Q_BAI import Q_SAR, uniform_sampling, Q_UGapEb\n",
    "from codes.Environment import Mixture_AbsGau, setup_env, Exp, generate_samples\n",
    "from codes.SimulatedGames import simulate\n",
    "from codes.plots import plot_hist, plot_eva, plot_eva_m\n",
    "\n",
    "import pickle\n",
    "\n",
    "%matplotlib inline"
   ]
  },
  {
   "cell_type": "markdown",
   "metadata": {},
   "source": [
    "# Generate samples setting"
   ]
  },
  {
   "cell_type": "code",
   "execution_count": 2,
   "metadata": {},
   "outputs": [],
   "source": [
    "budget = 5000\n",
    "num_exper = 1000"
   ]
  },
  {
   "cell_type": "markdown",
   "metadata": {},
   "source": [
    "# Group One Design\n",
    "\n",
    "The idea is to show median/0.8-quantile and mean has different order of preference of arms. "
   ]
  },
  {
   "cell_type": "markdown",
   "metadata": {},
   "source": [
    "## Three arms example"
   ]
  },
  {
   "cell_type": "code",
   "execution_count": 26,
   "metadata": {},
   "outputs": [
    {
     "name": "stdout",
     "output_type": "stream",
     "text": [
      "{<class 'codes.Environment.Mixture_AbsGau'>: [[0, 1.5, 0, 1, 1], [3.5, 2, 0, 1, 1]], <class 'codes.Environment.Exp'>: [[0.25]]}\n"
     ]
    }
   ],
   "source": [
    "# environment\n",
    "\n",
    "environments = [\n",
    "    {Mixture_AbsGau: [[0, 1.5, 0,1, 1], [3.5, 2, 0, 1, 1], \n",
    "                     ],\n",
    "     Exp: [[1/4]]\n",
    "    } # mu1, sigma1, mu2, sigma2, p\n",
    "    \n",
    "]\n",
    "\n",
    "tau = 0.5 # quantile level\n",
    "est_flag = False # True: estimate the lower bound of hazard rate L; False: use the true L\n",
    "\n",
    "rewards_env, quantiles, Ls, means, samples = setup_env(environments, tau)"
   ]
  },
  {
   "cell_type": "code",
   "execution_count": 27,
   "metadata": {},
   "outputs": [
    {
     "name": "stdout",
     "output_type": "stream",
     "text": [
      "Mixture_AbsGau_[[0, 1.5, 0, 1, 1], [3.5, 2, 0, 1, 1]]Exp_[[0.25]]\n",
      "+--------------+--------------------+---------------------+------+----------+\n",
      "|     Eva      |         A          |          B          |  C   | Best Arm |\n",
      "+--------------+--------------------+---------------------+------+----------+\n",
      "| 0.5-Quantile |        1.01        |         3.49        | 2.76 |    B     |\n",
      "|     Mean     |        1.2         |         3.56        | 3.98 |    C     |\n",
      "|      L       | 0.5319230405352436 | 0.08627731882651153 | 0.25 |    A     |\n",
      "+--------------+--------------------+---------------------+------+----------+\n",
      "\n"
     ]
    }
   ],
   "source": [
    "arm_name_dict = {\n",
    "    0: 'A',\n",
    "    1: 'B',\n",
    "    2: 'C',\n",
    "}\n",
    "\n",
    "for key in quantiles.keys():\n",
    "    print(key)\n",
    "    quantiles[key] = list(np.around(np.array(quantiles[key]),2))\n",
    "    means[key] = list(np.around(np.array(means[key]),2))\n",
    "    t = PrettyTable(['Eva', 'A', 'B', 'C', 'Best Arm'])\n",
    "    t.add_row([str(tau) + '-Quantile'] + quantiles[key]+ [arm_name_dict[np.argmax(quantiles[key])]])\n",
    "    t.add_row(['Mean']+ means[key]+ [arm_name_dict[np.argmax(means[key])]])\n",
    "    t.add_row(['L']+ Ls[key]+ [arm_name_dict[np.argmax(Ls[key])]])\n",
    "    print(t)\n",
    "    print()\n"
   ]
  },
  {
   "cell_type": "code",
   "execution_count": 28,
   "metadata": {},
   "outputs": [
    {
     "data": {
      "image/png": "[encoded data removed]",
      "text/plain": [
       "<Figure size 864x216 with 1 Axes>"
      ]
     },
     "metadata": {
      "needs_background": "light"
     },
     "output_type": "display_data"
    }
   ],
   "source": [
    "plot_hist(samples)"
   ]
  },
  {
   "cell_type": "markdown",
   "metadata": {},
   "source": [
    "## 20 Arms"
   ]
  },
  {
   "cell_type": "code",
   "execution_count": 6,
   "metadata": {},
   "outputs": [
    {
     "name": "stdout",
     "output_type": "stream",
     "text": [
      "{<class 'codes.Environment.Mixture_AbsGau'>: [[0, 1.5, 0, 1, 1], [3.5, 2, 0, 1, 1], [0, 1.5, 0, 1, 1], [0, 1.5, 0, 1, 1], [0, 1.5, 0, 1, 1], [0, 1.5, 0, 1, 1], [0, 1.5, 0, 1, 1], [0, 1.5, 0, 1, 1], [0, 1.5, 0, 1, 1], [0, 1.5, 0, 1, 1], [0, 1.5, 0, 1, 1], [0, 1.5, 0, 1, 1], [0, 1.5, 0, 1, 1], [0, 1.5, 0, 1, 1], [0, 1.5, 0, 1, 1], [0, 1.5, 0, 1, 1], [0, 1.5, 0, 1, 1]], <class 'codes.Environment.Exp'>: [[0.2777777777777778], [0.2777777777777778], [0.2777777777777778], [0.2777777777777778]]}\n"
     ]
    }
   ],
   "source": [
    "# environment\n",
    "\n",
    "environments = [\n",
    "    {Mixture_AbsGau: [[0, 1.5, 0,1, 1], [3.5, 2, 0, 1, 1], \n",
    "                      [0, 1.5, 0,1, 1],\n",
    "                      [0, 1.5, 0,1, 1],\n",
    "                      [0, 1.5, 0,1, 1],\n",
    "                      [0, 1.5, 0,1, 1],\n",
    "                      [0, 1.5, 0,1, 1],\n",
    "                      [0, 1.5, 0,1, 1],\n",
    "                      [0, 1.5, 0,1, 1],\n",
    "                      [0, 1.5, 0,1, 1],\n",
    "                      [0, 1.5, 0,1, 1],\n",
    "                      [0, 1.5, 0,1, 1],\n",
    "                      [0, 1.5, 0,1, 1],\n",
    "                      [0, 1.5, 0,1, 1],\n",
    "                      [0, 1.5, 0,1, 1],\n",
    "                      [0, 1.5, 0,1, 1],\n",
    "                      [0, 1.5, 0,1, 1],\n",
    "                     ],\n",
    "     Exp: [[1/4],\n",
    "          [1/4],\n",
    "          [1/4],\n",
    "          [1/4],\n",
    "          ]\n",
    "    } # mu1, sigma1, mu2, sigma2, p\n",
    "    \n",
    "]\n",
    "\n",
    "tau = 0.5 # quantile level\n",
    "est_flag = False # True: estimate the lower bound of hazard rate L; False: use the true L\n",
    "\n",
    "rewards_env, quantiles, Ls, means, samples = setup_env(environments, tau)"
   ]
  },
  {
   "cell_type": "code",
   "execution_count": 7,
   "metadata": {},
   "outputs": [],
   "source": [
    "group_one_list = []\n",
    "\n",
    "\n",
    "for i in range(num_exper):\n",
    "    group_one_list.append(generate_samples(environments[0], tau, budget))\n",
    "\n",
    "file_name = 'group_one_samples_tau'+ str(tau) + '_budget' + str(budget) + '_exper' + str(num_exper) + '.pickle'\n",
    "with open(file_name, 'wb') as handle:\n",
    "    pickle.dump(group_one_list, handle, protocol=pickle.HIGHEST_PROTOCOL)"
   ]
  },
  {
   "cell_type": "markdown",
   "metadata": {},
   "source": [
    "# Group Two Design \n",
    "\n",
    "The idea is to show the (smallest) gap median/0.8 quantiles is much bigger than the gap for means, so that it is easier to identify the best arms."
   ]
  },
  {
   "cell_type": "markdown",
   "metadata": {},
   "source": [
    "## Three arms example"
   ]
  },
  {
   "cell_type": "code",
   "execution_count": 29,
   "metadata": {},
   "outputs": [
    {
     "name": "stdout",
     "output_type": "stream",
     "text": [
      "{<class 'codes.Environment.Mixture_AbsGau'>: [[0, 1.5, 0, 1, 1], [3.5, 2, 0, 1, 1]], <class 'codes.Environment.Exp'>: [[0.25]]}\n"
     ]
    }
   ],
   "source": [
    "# environment\n",
    "\n",
    "environments = [\n",
    "    {Mixture_AbsGau: [[0, 1.5, 0,1, 1], [3.5, 2, 0, 1, 1], \n",
    "                     ],\n",
    "     Exp: [[1/4]]\n",
    "    } # mu1, sigma1, mu2, sigma2, p\n",
    "    \n",
    "]\n",
    "\n",
    "\n",
    "\n",
    "tau = 0.8 # quantile level\n",
    "est_flag = False # True: estimate the lower bound of hazard rate L; False: use the true L\n",
    "\n",
    "rewards_env, quantiles, Ls, means, samples = setup_env(environments, tau)"
   ]
  },
  {
   "cell_type": "code",
   "execution_count": 30,
   "metadata": {},
   "outputs": [
    {
     "name": "stdout",
     "output_type": "stream",
     "text": [
      "Mixture_AbsGau_[[0, 1.5, 0, 1, 1], [3.5, 2, 0, 1, 1]]Exp_[[0.25]]\n",
      "+--------------+--------------------+---------------------+------+----------+\n",
      "|     Eva      |         A          |          B          |  C   | Best Arm |\n",
      "+--------------+--------------------+---------------------+------+----------+\n",
      "| 0.8-Quantile |        1.93        |         5.21        | 6.42 |    C     |\n",
      "|     Mean     |        1.2         |         3.58        | 3.99 |    C     |\n",
      "|      L       | 0.5319230405352436 | 0.08627731882651153 | 0.25 |    A     |\n",
      "+--------------+--------------------+---------------------+------+----------+\n",
      "\n"
     ]
    }
   ],
   "source": [
    "\n",
    "arm_name_dict = {\n",
    "    0: 'A',\n",
    "    1: 'B',\n",
    "    2: 'C',\n",
    "}\n",
    "\n",
    "for key in quantiles.keys():\n",
    "    print(key)\n",
    "    quantiles[key] = list(np.around(np.array(quantiles[key]),2))\n",
    "    means[key] = list(np.around(np.array(means[key]),2))\n",
    "    t = PrettyTable(['Eva', 'A', 'B', 'C', 'Best Arm'])\n",
    "    t.add_row([str(tau) + '-Quantile'] + quantiles[key]+ [arm_name_dict[np.argmax(quantiles[key])]])\n",
    "    t.add_row(['Mean']+ means[key]+ [arm_name_dict[np.argmax(means[key])]])\n",
    "    t.add_row(['L']+ Ls[key]+ [arm_name_dict[np.argmax(Ls[key])]])\n",
    "    print(t)\n",
    "    print()\n"
   ]
  },
  {
   "cell_type": "code",
   "execution_count": 22,
   "metadata": {},
   "outputs": [
    {
     "data": {
      "image/png": "[encoded data removed]",
      "text/plain": [
       "<Figure size 864x216 with 1 Axes>"
      ]
     },
     "metadata": {
      "needs_background": "light"
     },
     "output_type": "display_data"
    }
   ],
   "source": [
    "plot_hist(samples)"
   ]
  },
  {
   "cell_type": "markdown",
   "metadata": {},
   "source": [
    "## 20 Arms"
   ]
  },
  {
   "cell_type": "code",
   "execution_count": 11,
   "metadata": {},
   "outputs": [
    {
     "name": "stdout",
     "output_type": "stream",
     "text": [
      "{<class 'codes.Environment.Mixture_AbsGau'>: [[0, 1.5, 0, 1, 1], [3.5, 2, 0, 1, 1], [0, 1.5, 0, 1, 1], [0, 1.5, 0, 1, 1], [0, 1.5, 0, 1, 1], [0, 1.5, 0, 1, 1], [0, 1.5, 0, 1, 1], [0, 1.5, 0, 1, 1], [0, 1.5, 0, 1, 1], [0, 1.5, 0, 1, 1], [0, 1.5, 0, 1, 1], [0, 1.5, 0, 1, 1], [0, 1.5, 0, 1, 1], [0, 1.5, 0, 1, 1], [0, 1.5, 0, 1, 1], [0, 1.5, 0, 1, 1], [0, 1.5, 0, 1, 1]], <class 'codes.Environment.Exp'>: [[0.2777777777777778], [0.2777777777777778], [0.2777777777777778], [0.2777777777777778]]}\n"
     ]
    }
   ],
   "source": [
    "# environment\n",
    "\n",
    "environments = [\n",
    "    {Mixture_AbsGau: [[0, 1.5, 0,1, 1], [3.5, 2, 0, 1, 1], \n",
    "                      [0, 1.5, 0,1, 1], [3.5, 2, 0, 1, 1], \n",
    "                      [0, 1.5, 0,1, 1], [3.5, 2, 0, 1, 1], \n",
    "                      [0, 1.5, 0,1, 1], [3.5, 2, 0, 1, 1], \n",
    "                      [0, 1.5, 0,1, 1], [3.5, 2, 0, 1, 1], \n",
    "                      [0, 1.5, 0,1, 1], [3.5, 2, 0, 1, 1], \n",
    "                      [0, 1.5, 0,1, 1], [3.5, 2, 0, 1, 1], \n",
    "                      [0, 1.5, 0,1, 1], [3.5, 2, 0, 1, 1], \n",
    "                      [0, 1.5, 0,1, 1], [3.5, 2, 0, 1, 1], \n",
    "                      [0, 1.5, 0,1, 1],\n",
    "                     ],\n",
    "     Exp: [[1/3.6]\n",
    "          ]\n",
    "    } # mu1, sigma1, mu2, sigma2, p\n",
    "    \n",
    "]\n",
    "\n",
    "tau = 0.8 # quantile level\n",
    "est_flag = False # True: estimate the lower bound of hazard rate L; False: use the true L\n",
    "\n",
    "rewards_env, quantiles, Ls, means, samples = setup_env(environments, tau)"
   ]
  },
  {
   "cell_type": "code",
   "execution_count": 12,
   "metadata": {},
   "outputs": [],
   "source": [
    "group_two_list = []\n",
    "\n",
    "for i in range(num_exper):\n",
    "    group_two_list.append(generate_samples(environments[0], tau, budget))\n",
    "\n",
    "file_name = 'group_one_samples_tau'+ str(tau) + '_budget' + str(budget) + '_exper' + str(num_exper) + '.pickle'\n",
    "with open(file_name, 'wb') as handle:\n",
    "    pickle.dump(group_two_list, handle, protocol=pickle.HIGHEST_PROTOCOL)"
   ]
  },
  {
   "cell_type": "code",
   "execution_count": null,
   "metadata": {},
   "outputs": [],
   "source": []
  }
 ],
 "metadata": {
  "kernelspec": {
   "display_name": "Python 3",
   "language": "python",
   "name": "python3"
  },
  "language_info": {
   "codemirror_mode": {
    "name": "ipython",
    "version": 3
   },
   "file_extension": ".py",
   "mimetype": "text/x-python",
   "name": "python",
   "nbconvert_exporter": "python",
   "pygments_lexer": "ipython3",
   "version": "3.7.4"
  }
 },
 "nbformat": 4,
 "nbformat_minor": 2
}
