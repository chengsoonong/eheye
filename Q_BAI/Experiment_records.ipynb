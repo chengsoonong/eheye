{
 "cells": [
  {
   "cell_type": "markdown",
   "metadata": {},
   "source": [
    "# Group 1\n",
    "\n",
    "Same setting as the MUCB paper\n",
    "\n",
    "###  environment\n",
    "\n",
    "environments = [\n",
    "    {Mixture_AbsGau: [[3, 1, 0,1, 1], [1.2, 4, 0, 1, 1],                     \n",
    "                     ],\n",
    "     Exp: [[1/3.5]]} # mu1, sigma1, mu2, sigma2, p\n",
    "    \n",
    "]\n",
    "\n",
    "tau = 0.5 # quantile level\n",
    "est_flag = False # True: estimate the lower bound of hazard rate L; False: use the true L\n",
    "\n",
    "### Q-UGapEc\n",
    "\n",
    "num_exper = 1000\n",
    "confi = 0.02\n",
    "epsilon = 0.5\n",
    "m = 1\n",
    "hyperpara_list = [[0.0005, 1]]"
   ]
  },
  {
   "cell_type": "markdown",
   "metadata": {},
   "source": [
    "# Group 2\n",
    "\n",
    "Pick 1 arm from 10 arms\n",
    "\n",
    "### environment\n",
    "\n",
    "environments = [\n",
    "    {Mixture_AbsGau: [[2, 1, 0,1, 1], [1.2, 4, 0, 1, 1], \n",
    "                      [2, 1, 0,1, 1], [1.2, 4, 0, 1, 1],\n",
    "                      [2, 1, 0,1, 1], [1.2, 4, 0, 1, 1],\n",
    "                      [2, 1, 0,1, 1], [1.2, 4, 0, 1, 1],\n",
    "                      [2, 1, 0,1, 1]\n",
    "                     ],\n",
    "     Exp: [[1/3.5]]} # mu1, sigma1, mu2, sigma2, p\n",
    "    \n",
    "]\n",
    "\n",
    "tau = 0.9 # quantile level\n",
    "est_flag = False # True: estimate the lower bound of hazard rate L; False: use the true L"
   ]
  },
  {
   "cell_type": "markdown",
   "metadata": {},
   "source": [
    "# Group 3\n",
    "\n",
    "Pick 2 arms from 10 arms\n",
    "\n",
    "### environment\n",
    "\n",
    "environments = [\n",
    "    {Mixture_AbsGau: [[2, 1, 0,1, 1], [1.2, 4, 0, 1, 1], \n",
    "                      [2, 1, 0,1, 1], [1.2, 4, 0, 1, 1],\n",
    "                      [2, 1, 0,1, 1], [1.2, 4, 0, 1, 1],\n",
    "                      [2, 1, 0,1, 1], [1.2, 4, 0, 1, 1],\n",
    "                      [2, 1, 0,1, 1]\n",
    "                     ],\n",
    "     Exp: [[1/3.5], [1/3.5]]} # mu1, sigma1, mu2, sigma2, p\n",
    "    \n",
    "]\n",
    "\n",
    "tau = 0.9 # quantile level\n",
    "est_flag = False # True: estimate the lower bound of hazard rate L; False: use the true L"
   ]
  },
  {
   "cell_type": "code",
   "execution_count": null,
   "metadata": {},
   "outputs": [],
   "source": [
    "# Group 4\n",
    "\n",
    "Pick 4 arms from 20 arms"
   ]
  }
 ],
 "metadata": {
  "kernelspec": {
   "display_name": "Python 3",
   "language": "python",
   "name": "python3"
  },
  "language_info": {
   "codemirror_mode": {
    "name": "ipython",
    "version": 3
   },
   "file_extension": ".py",
   "mimetype": "text/x-python",
   "name": "python",
   "nbconvert_exporter": "python",
   "pygments_lexer": "ipython3",
   "version": "3.7.3"
  }
 },
 "nbformat": 4,
 "nbformat_minor": 2
}
