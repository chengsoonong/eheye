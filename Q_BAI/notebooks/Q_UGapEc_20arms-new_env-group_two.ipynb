{
 "cells": [
  {
   "cell_type": "code",
   "execution_count": 1,
   "metadata": {},
   "outputs": [],
   "source": [
    "# direct to proper path\n",
    "import os\n",
    "import sys\n",
    "module_path = os.path.abspath(os.path.join('..'))\n",
    "if module_path not in sys.path:\n",
    "    sys.path.append(module_path)\n",
    "    \n",
    "import numpy as np\n",
    "from ipywidgets import IntProgress\n",
    "from IPython.display import display\n",
    "import matplotlib.pyplot as plt\n",
    "from collections import defaultdict\n",
    "import seaborn as sns\n",
    "import pickle\n",
    "from prettytable import PrettyTable\n",
    "\n",
    "from codes.Q_BAI import Q_UGapEc, QPAC\n",
    "from codes.Mean_BAI import UGapEc\n",
    "from codes.Environment import Mixture_AbsGau, setup_env, Exp\n",
    "from codes.SimulatedGames import simulate, simulate_mean\n",
    "from codes.plots import plot_hist, plot_eva, plot_eva_m\n",
    "\n",
    "%matplotlib inline"
   ]
  },
  {
   "cell_type": "code",
   "execution_count": 2,
   "metadata": {},
   "outputs": [
    {
     "name": "stdout",
     "output_type": "stream",
     "text": [
      "{<class 'codes.Environment.Mixture_AbsGau'>: [[0, 1.5, 0, 1, 1], [3.5, 2, 0, 1, 1], [0, 1.5, 0, 1, 1], [3.5, 2, 0, 1, 1], [0, 1.5, 0, 1, 1], [3.5, 2, 0, 1, 1], [0, 1.5, 0, 1, 1], [0, 1.5, 0, 1, 1], [0, 1.5, 0, 1, 1], [0, 1.5, 0, 1, 1], [0, 1.5, 0, 1, 1], [0, 1.5, 0, 1, 1], [0, 1.5, 0, 1, 1], [0, 1.5, 0, 1, 1], [0, 1.5, 0, 1, 1], [0, 1.5, 0, 1, 1], [0, 1.5, 0, 1, 1], [0, 1.5, 0, 1, 1]], <class 'codes.Environment.Exp'>: [[0.25], [0.25]]}\n"
     ]
    }
   ],
   "source": [
    "# environment\n",
    "\n",
    "environments = [\n",
    "    {Mixture_AbsGau: [[0, 1.5, 0,1, 1], [3.5, 2, 0, 1, 1], \n",
    "                      [0, 1.5, 0,1, 1], [3.5, 2, 0, 1, 1], \n",
    "                      [0, 1.5, 0,1, 1], [3.5, 2, 0, 1, 1], \n",
    "                      [0, 1.5, 0,1, 1], \n",
    "                      [0, 1.5, 0,1, 1],  \n",
    "                      [0, 1.5, 0,1, 1], \n",
    "                      [0, 1.5, 0,1, 1], \n",
    "                      [0, 1.5, 0,1, 1], \n",
    "                      [0, 1.5, 0,1, 1], \n",
    "                      [0, 1.5, 0,1, 1],\n",
    "                      [0, 1.5, 0,1, 1], \n",
    "                      [0, 1.5, 0,1, 1], \n",
    "                      [0, 1.5, 0,1, 1], \n",
    "                      [0, 1.5, 0,1, 1], \n",
    "                      [0, 1.5, 0,1, 1],\n",
    "                     ],\n",
    "     Exp: [[1/4], [1/4]\n",
    "          ]\n",
    "    } # mu1, sigma1, mu2, sigma2, p\n",
    "    \n",
    "]\n",
    "\n",
    "\n",
    "tau = 0.8 # quantile level\n",
    "est_flag = True # True: estimate the lower bound of hazard rate L; False: use the true L\n",
    "\n",
    "\n",
    "rewards_env, quantiles, Ls, means, samples = setup_env(environments, tau)"
   ]
  },
  {
   "cell_type": "code",
   "execution_count": 3,
   "metadata": {},
   "outputs": [],
   "source": [
    "import pickle\n",
    "\n",
    "#with open('group_two_samples_tau0.8_budget5000_exper100.pickle', 'rb') as handle:\n",
    "#    fixed_samples_list = pickle.load(handle)\n",
    "fixed_samples_list = None"
   ]
  },
  {
   "cell_type": "code",
   "execution_count": 4,
   "metadata": {},
   "outputs": [],
   "source": [
    "# run experiments\n",
    "\n",
    "def run_exper(rewards_env, hyperpara_list, num_arms, num_exper, budget_or_confi, epsilon, tau, policy, summary_stats, est_flags = [est_flag], fixed_samples_list = None):\n",
    "    for key in rewards_env.keys():\n",
    "        for hyperpara in hyperpara_list:\n",
    "            for est_flag in est_flags:\n",
    "                name = key + '_' + str(num_exper) + '_' + str(budget_or_confi) \n",
    "                policy_name = str(policy).split('.')[-1].split('\\'')[0] + '-'\n",
    "                subname = policy_name + str(hyperpara) \n",
    "                print(name + subname)\n",
    "                p = IntProgress(max = num_exper)\n",
    "                p.description = 'Running'\n",
    "                display(p)\n",
    "                results[name][subname] = []\n",
    "                for m in [2]:\n",
    "                    #print('m: ', m)\n",
    "                    results[name][subname].append(simulate(rewards_env[key],summary_stats[key], policy, \n",
    "                                                 epsilon, tau, m, budget_or_confi, num_exper, est_flag, hyperpara, None,  p, fixed_samples_list))"
   ]
  },
  {
   "cell_type": "code",
   "execution_count": 5,
   "metadata": {},
   "outputs": [],
   "source": [
    "def run_exper_mean(rewards_env, hyperpara_list, num_arms, num_exper, budget_or_confi, epsilon, policy, summary_stats, fixed_samples_list = None):\n",
    "    for key in rewards_env.keys():\n",
    "        for hyperpara in hyperpara_list:\n",
    "            name = key + '_' + str(num_exper) + '_' + str(budget_or_confi) \n",
    "            policy_name = str(policy).split('.')[-1].split('\\'')[0] + '-'\n",
    "            subname = policy_name + str(hyperpara) \n",
    "            print(name + subname)\n",
    "            p = IntProgress(max = num_exper)\n",
    "            p.description = 'Running'\n",
    "            display(p)\n",
    "            results[name][subname] = []\n",
    "            for m in [2]:\n",
    "                #print('m: ', m)\n",
    "                results[name][subname].append(simulate_mean(rewards_env[key],summary_stats[key], policy, \n",
    "                                             epsilon, m, budget_or_confi, num_exper, hyperpara, p, fixed_samples_list))"
   ]
  },
  {
   "cell_type": "code",
   "execution_count": 6,
   "metadata": {},
   "outputs": [],
   "source": [
    "def run_exper_mean(rewards_env, hyperpara_list, num_arms, num_exper, budget_or_confi, epsilon, policy, summary_stats, fixed_samples_list = None):\n",
    "    for key in rewards_env.keys():\n",
    "        for hyperpara in hyperpara_list:\n",
    "            name = key + '_' + str(num_exper) + '_' + str(budget_or_confi) \n",
    "            policy_name = str(policy).split('.')[-1].split('\\'')[0] + '-'\n",
    "            subname = policy_name + str(hyperpara) \n",
    "            print(name + subname)\n",
    "            p = IntProgress(max = num_exper)\n",
    "            p.description = 'Running'\n",
    "            display(p)\n",
    "            results[name][subname] = []\n",
    "            for m in [2]:\n",
    "                #print('m: ', m)\n",
    "                results[name][subname].append(simulate_mean(rewards_env[key],summary_stats[key], policy, \n",
    "                                             epsilon, m, budget_or_confi, num_exper, hyperpara, p, fixed_samples_list))"
   ]
  },
  {
   "cell_type": "code",
   "execution_count": 7,
   "metadata": {},
   "outputs": [],
   "source": [
    "# setting\n",
    "\n",
    "results = defaultdict(dict)\n",
    "num_arms = 20\n",
    "num_exper = 10\n",
    "confi = 0.2\n",
    "epsilon = 0.05\n"
   ]
  },
  {
   "cell_type": "code",
   "execution_count": 8,
   "metadata": {},
   "outputs": [
    {
     "name": "stdout",
     "output_type": "stream",
     "text": [
      "Mixture_AbsGau_[[0, 1.5, 0, 1, 1], [3.5, 2, 0, 1, 1], [0, 1.5, 0, 1, 1], [3.5, 2, 0, 1, 1], [0, 1.5, 0, 1, 1], [3.5, 2, 0, 1, 1], [0, 1.5, 0, 1, 1], [0, 1.5, 0, 1, 1], [0, 1.5, 0, 1, 1], [0, 1.5, 0, 1, 1], [0, 1.5, 0, 1, 1], [0, 1.5, 0, 1, 1], [0, 1.5, 0, 1, 1], [0, 1.5, 0, 1, 1], [0, 1.5, 0, 1, 1], [0, 1.5, 0, 1, 1], [0, 1.5, 0, 1, 1], [0, 1.5, 0, 1, 1]]Exp_[[0.25], [0.25]]_10_0.2Q_UGapEc-[0.01, 1]\n"
     ]
    },
    {
     "data": {
      "application/vnd.jupyter.widget-view+json": {
       "model_id": "f5e48da5248342d6ac104986dcf74373",
       "version_major": 2,
       "version_minor": 0
      },
      "text/plain": [
       "IntProgress(value=0, description='Running', max=10)"
      ]
     },
     "metadata": {},
     "output_type": "display_data"
    },
    {
     "name": "stdout",
     "output_type": "stream",
     "text": [
      "rec_Set:  {18, 19}\n",
      "rec_Set:  {18, 19}\n",
      "rec_Set:  {18, 19}\n",
      "rec_Set:  {18, 19}\n",
      "rec_Set:  {18, 19}\n",
      "rec_Set:  {18, 19}\n",
      "rec_Set:  {18, 19}\n",
      "rec_Set:  {18, 19}\n",
      "rec_Set:  {18, 19}\n",
      "rec_Set:  {18, 19}\n",
      "Mixture_AbsGau_[[0, 1.5, 0, 1, 1], [3.5, 2, 0, 1, 1], [0, 1.5, 0, 1, 1], [3.5, 2, 0, 1, 1], [0, 1.5, 0, 1, 1], [3.5, 2, 0, 1, 1], [0, 1.5, 0, 1, 1], [0, 1.5, 0, 1, 1], [0, 1.5, 0, 1, 1], [0, 1.5, 0, 1, 1], [0, 1.5, 0, 1, 1], [0, 1.5, 0, 1, 1], [0, 1.5, 0, 1, 1], [0, 1.5, 0, 1, 1], [0, 1.5, 0, 1, 1], [0, 1.5, 0, 1, 1], [0, 1.5, 0, 1, 1], [0, 1.5, 0, 1, 1]]Exp_[[0.25], [0.25]]_10_0.2Q_UGapEc-[0.05, 1]\n"
     ]
    },
    {
     "data": {
      "application/vnd.jupyter.widget-view+json": {
       "model_id": "a99d9de9c9174141af4163ee9df8e89c",
       "version_major": 2,
       "version_minor": 0
      },
      "text/plain": [
       "IntProgress(value=0, description='Running', max=10)"
      ]
     },
     "metadata": {},
     "output_type": "display_data"
    },
    {
     "name": "stdout",
     "output_type": "stream",
     "text": [
      "rec_Set:  {18, 19}\n",
      "rec_Set:  {18, 19}\n",
      "rec_Set:  {18, 19}\n",
      "rec_Set:  {18, 19}\n",
      "rec_Set:  {18, 19}\n",
      "rec_Set:  {18, 19}\n",
      "rec_Set:  {18, 19}\n",
      "rec_Set:  {18, 19}\n",
      "rec_Set:  {18, 19}\n",
      "rec_Set:  {18, 19}\n",
      "Mixture_AbsGau_[[0, 1.5, 0, 1, 1], [3.5, 2, 0, 1, 1], [0, 1.5, 0, 1, 1], [3.5, 2, 0, 1, 1], [0, 1.5, 0, 1, 1], [3.5, 2, 0, 1, 1], [0, 1.5, 0, 1, 1], [0, 1.5, 0, 1, 1], [0, 1.5, 0, 1, 1], [0, 1.5, 0, 1, 1], [0, 1.5, 0, 1, 1], [0, 1.5, 0, 1, 1], [0, 1.5, 0, 1, 1], [0, 1.5, 0, 1, 1], [0, 1.5, 0, 1, 1], [0, 1.5, 0, 1, 1], [0, 1.5, 0, 1, 1], [0, 1.5, 0, 1, 1]]Exp_[[0.25], [0.25]]_10_0.2UGapEc-[0.01, 1]\n"
     ]
    },
    {
     "data": {
      "application/vnd.jupyter.widget-view+json": {
       "model_id": "adaf3ac0e24b4c8db2231f6669c0ec99",
       "version_major": 2,
       "version_minor": 0
      },
      "text/plain": [
       "IntProgress(value=0, description='Running', max=10)"
      ]
     },
     "metadata": {},
     "output_type": "display_data"
    },
    {
     "name": "stdout",
     "output_type": "stream",
     "text": [
      "{1, 3}\n",
      "{18, 5}\n",
      "{1, 3}\n",
      "{18, 19}\n",
      "{19, 5}\n",
      "{18, 5}\n",
      "{18, 19}\n",
      "{3, 5}\n",
      "{18, 19}\n",
      "{18, 3}\n",
      "Mixture_AbsGau_[[0, 1.5, 0, 1, 1], [3.5, 2, 0, 1, 1], [0, 1.5, 0, 1, 1], [3.5, 2, 0, 1, 1], [0, 1.5, 0, 1, 1], [3.5, 2, 0, 1, 1], [0, 1.5, 0, 1, 1], [0, 1.5, 0, 1, 1], [0, 1.5, 0, 1, 1], [0, 1.5, 0, 1, 1], [0, 1.5, 0, 1, 1], [0, 1.5, 0, 1, 1], [0, 1.5, 0, 1, 1], [0, 1.5, 0, 1, 1], [0, 1.5, 0, 1, 1], [0, 1.5, 0, 1, 1], [0, 1.5, 0, 1, 1], [0, 1.5, 0, 1, 1]]Exp_[[0.25], [0.25]]_10_0.2UGapEc-[0.05, 1]\n"
     ]
    },
    {
     "data": {
      "application/vnd.jupyter.widget-view+json": {
       "model_id": "23890517cd074dcb896293178abf8d5a",
       "version_major": 2,
       "version_minor": 0
      },
      "text/plain": [
       "IntProgress(value=0, description='Running', max=10)"
      ]
     },
     "metadata": {},
     "output_type": "display_data"
    },
    {
     "name": "stdout",
     "output_type": "stream",
     "text": [
      "{18, 5}\n",
      "{3, 5}\n",
      "{3, 5}\n",
      "{1, 19}\n",
      "{18, 19}\n",
      "{18, 19}\n",
      "{0, 1}\n",
      "{3, 5}\n",
      "{3, 19}\n",
      "{1, 5}\n"
     ]
    }
   ],
   "source": [
    "# hyperpara_list = [[0.0001, 1], [0.0005, 1]]\n",
    "hyperpara_list = [[0.005, 1], [0.01, 1], [0.05, 1]]\n",
    "run_exper(rewards_env, hyperpara_list, num_arms, num_exper, confi, epsilon, tau, Q_UGapEc, quantiles, fixed_samples_list = fixed_samples_list)\n",
    "\n",
    "\n",
    "# run_exper(rewards_env, hyperpara_list, num_arms, num_exper, budget, epsilon, tau, uniform_sampling, quantiles)"
   ]
  },
  {
   "cell_type": "code",
   "execution_count": 13,
   "metadata": {},
   "outputs": [
    {
     "name": "stdout",
     "output_type": "stream",
     "text": [
      "Mixture_AbsGau_[[0, 1.5, 0, 1, 1], [3.5, 2, 0, 1, 1], [0, 1.5, 0, 1, 1], [3.5, 2, 0, 1, 1], [0, 1.5, 0, 1, 1], [3.5, 2, 0, 1, 1], [0, 1.5, 0, 1, 1], [0, 1.5, 0, 1, 1], [0, 1.5, 0, 1, 1], [0, 1.5, 0, 1, 1], [0, 1.5, 0, 1, 1], [0, 1.5, 0, 1, 1], [0, 1.5, 0, 1, 1], [0, 1.5, 0, 1, 1], [0, 1.5, 0, 1, 1], [0, 1.5, 0, 1, 1], [0, 1.5, 0, 1, 1], [0, 1.5, 0, 1, 1]]Exp_[[0.25], [0.25]]_10_0.2UGapEc-[0.5, 1]\n"
     ]
    },
    {
     "data": {
      "application/vnd.jupyter.widget-view+json": {
       "model_id": "7a463b8369804c1cb89e0f8eb388c808",
       "version_major": 2,
       "version_minor": 0
      },
      "text/plain": [
       "IntProgress(value=0, description='Running', max=10)"
      ]
     },
     "metadata": {},
     "output_type": "display_data"
    },
    {
     "name": "stdout",
     "output_type": "stream",
     "text": [
      "{3, 19}\n",
      "{18, 5}\n",
      "{3, 19}\n",
      "{18, 5}\n",
      "{1, 18}\n",
      "{18, 19}\n",
      "{1, 19}\n",
      "{18, 19}\n",
      "{18, 3}\n",
      "{18, 19}\n"
     ]
    }
   ],
   "source": [
    "hyperpara_list = [[0.1,1], [0.5, 1], [1,1]]\n",
    "run_exper_mean(rewards_env, hyperpara_list, num_arms, num_exper, confi, epsilon, UGapEc, means, fixed_samples_list = fixed_samples_list)"
   ]
  },
  {
   "cell_type": "code",
   "execution_count": 14,
   "metadata": {},
   "outputs": [
    {
     "data": {
      "image/png": "[encoded data removed]",
      "text/plain": [
       "<Figure size 864x216 with 1 Axes>"
      ]
     },
     "metadata": {
      "needs_background": "light"
     },
     "output_type": "display_data"
    }
   ],
   "source": [
    "plot_eva(results, 'sc', paper_flag = False)"
   ]
  },
  {
   "cell_type": "code",
   "execution_count": 10,
   "metadata": {},
   "outputs": [],
   "source": [
    "import pickle\n",
    "\n",
    "#with open('Fixed_confi_20arms_new_env_group_two.pickle', 'wb') as handle:\n",
    "#    pickle.dump(results, handle, protocol=pickle.HIGHEST_PROTOCOL)"
   ]
  },
  {
   "cell_type": "code",
   "execution_count": null,
   "metadata": {},
   "outputs": [],
   "source": []
  }
 ],
 "metadata": {
  "kernelspec": {
   "display_name": "Python 3",
   "language": "python",
   "name": "python3"
  },
  "language_info": {
   "codemirror_mode": {
    "name": "ipython",
    "version": 3
   },
   "file_extension": ".py",
   "mimetype": "text/x-python",
   "name": "python",
   "nbconvert_exporter": "python",
   "pygments_lexer": "ipython3",
   "version": "3.7.3"
  }
 },
 "nbformat": 4,
 "nbformat_minor": 2
}
