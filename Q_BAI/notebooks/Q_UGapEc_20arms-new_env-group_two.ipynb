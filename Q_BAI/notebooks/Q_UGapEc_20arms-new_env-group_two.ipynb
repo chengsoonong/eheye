{
 "cells": [
  {
   "cell_type": "code",
   "execution_count": 1,
   "metadata": {},
   "outputs": [],
   "source": [
    "# direct to proper path\n",
    "import os\n",
    "import sys\n",
    "module_path = os.path.abspath(os.path.join('..'))\n",
    "if module_path not in sys.path:\n",
    "    sys.path.append(module_path)\n",
    "    \n",
    "import numpy as np\n",
    "from ipywidgets import IntProgress\n",
    "from IPython.display import display\n",
    "import matplotlib.pyplot as plt\n",
    "from collections import defaultdict\n",
    "import seaborn as sns\n",
    "import pickle\n",
    "from prettytable import PrettyTable\n",
    "\n",
    "from codes.Q_BAI import Q_UGapEc, QPAC\n",
    "from codes.Mean_BAI import UGapEc\n",
    "from codes.Environment import Mixture_AbsGau, setup_env, Exp\n",
    "from codes.SimulatedGames import simulate, simulate_mean\n",
    "from codes.plots import plot_hist, plot_eva, plot_eva_m\n",
    "\n",
    "%matplotlib inline"
   ]
  },
  {
   "cell_type": "code",
   "execution_count": 2,
   "metadata": {},
   "outputs": [
    {
     "name": "stdout",
     "output_type": "stream",
     "text": [
      "{<class 'codes.Environment.Mixture_AbsGau'>: [[0, 1.5, 0, 1, 1], [3.5, 2, 0, 1, 1], [0, 1.5, 0, 1, 1], [3.5, 2, 0, 1, 1], [0, 1.5, 0, 1, 1], [3.5, 2, 0, 1, 1], [0, 1.5, 0, 1, 1], [0, 1.5, 0, 1, 1], [0, 1.5, 0, 1, 1], [0, 1.5, 0, 1, 1], [0, 1.5, 0, 1, 1], [0, 1.5, 0, 1, 1], [0, 1.5, 0, 1, 1], [0, 1.5, 0, 1, 1], [0, 1.5, 0, 1, 1], [0, 1.5, 0, 1, 1], [0, 1.5, 0, 1, 1], [0, 1.5, 0, 1, 1]], <class 'codes.Environment.Exp'>: [[0.25], [0.25]]}\n"
     ]
    }
   ],
   "source": [
    "# environment\n",
    "\n",
    "environments = [\n",
    "    {Mixture_AbsGau: [[0, 1.5, 0,1, 1], [3.5, 2, 0, 1, 1], \n",
    "                      [0, 1.5, 0,1, 1], [3.5, 2, 0, 1, 1], \n",
    "                      [0, 1.5, 0,1, 1], [3.5, 2, 0, 1, 1], \n",
    "                      [0, 1.5, 0,1, 1], \n",
    "                      [0, 1.5, 0,1, 1],  \n",
    "                      [0, 1.5, 0,1, 1], \n",
    "                      [0, 1.5, 0,1, 1], \n",
    "                      [0, 1.5, 0,1, 1], \n",
    "                      [0, 1.5, 0,1, 1], \n",
    "                      [0, 1.5, 0,1, 1],\n",
    "                      [0, 1.5, 0,1, 1], \n",
    "                      [0, 1.5, 0,1, 1], \n",
    "                      [0, 1.5, 0,1, 1], \n",
    "                      [0, 1.5, 0,1, 1], \n",
    "                      [0, 1.5, 0,1, 1],\n",
    "                     ],\n",
    "     Exp: [[1/4], [1/4]\n",
    "          ]\n",
    "    } # mu1, sigma1, mu2, sigma2, p\n",
    "    \n",
    "]\n",
    "\n",
    "\n",
    "tau = 0.8 # quantile level\n",
    "est_L_flag = True # True: estimate the lower bound of hazard rate L; False: use the true L\n",
    "\n",
    "\n",
    "rewards_env, quantiles, Ls, means, samples = setup_env(environments, tau)"
   ]
  },
  {
   "cell_type": "code",
   "execution_count": 3,
   "metadata": {},
   "outputs": [],
   "source": [
    "# run experiments\n",
    "\n",
    "def run_exper(rewards_env, summary_stats, policy, epsilon, m, budget_or_confi, num_exper, hyperpara_list, \n",
    "              fixed_samples_list = None, est_H_flag = False, est_L_flag = None, fixed_L = None , tau = None):\n",
    "    for key in rewards_env.keys():\n",
    "        for hyperpara in hyperpara_list:\n",
    "            name = key + '_' + str(num_exper) + '_' + str(budget_or_confi) \n",
    "            policy_name = str(policy).split('.')[-1].split('\\'')[0] + '-'\n",
    "            subname = policy_name + str(hyperpara) \n",
    "            if est_H_flag:\n",
    "                subname = 'Adp_' + subname\n",
    "            print(name + subname)\n",
    "            p = IntProgress(max = num_exper)\n",
    "            p.description = 'Running'\n",
    "            display(p)\n",
    "            results[name][subname] = []\n",
    "            est_Hs[name][subname] = []\n",
    "            if est_H_flag:\n",
    "                result, est_H_list = simulate(rewards_env[key],summary_stats[key], policy, \n",
    "                        epsilon, m, budget_or_confi, num_exper, hyperpara, p, fixed_samples_list,\n",
    "                        est_H_flag, est_L_flag, fixed_L, tau)\n",
    "                est_Hs[name][subname].append(est_H_list)\n",
    "            else:\n",
    "                result = simulate(rewards_env[key],summary_stats[key], policy, \n",
    "                        epsilon, m, budget_or_confi, num_exper, hyperpara, p, fixed_samples_list,\n",
    "                        est_H_flag, est_L_flag, fixed_L, tau)\n",
    "            results[name][subname].append(result)"
   ]
  },
  {
   "cell_type": "code",
   "execution_count": 4,
   "metadata": {},
   "outputs": [],
   "source": [
    "# setting\n",
    "\n",
    "results = defaultdict(dict)\n",
    "est_Hs = defaultdict(dict)\n",
    "\n",
    "num_arms = 20\n",
    "num_exper = 10\n",
    "confi = 0.1\n",
    "epsilon = 0.05\n",
    "m = 2\n"
   ]
  },
  {
   "cell_type": "code",
   "execution_count": 5,
   "metadata": {
    "scrolled": true
   },
   "outputs": [
    {
     "name": "stdout",
     "output_type": "stream",
     "text": [
      "Mixture_AbsGau_[[0, 1.5, 0, 1, 1], [3.5, 2, 0, 1, 1], [0, 1.5, 0, 1, 1], [3.5, 2, 0, 1, 1], [0, 1.5, 0, 1, 1], [3.5, 2, 0, 1, 1], [0, 1.5, 0, 1, 1], [0, 1.5, 0, 1, 1], [0, 1.5, 0, 1, 1], [0, 1.5, 0, 1, 1], [0, 1.5, 0, 1, 1], [0, 1.5, 0, 1, 1], [0, 1.5, 0, 1, 1], [0, 1.5, 0, 1, 1], [0, 1.5, 0, 1, 1], [0, 1.5, 0, 1, 1], [0, 1.5, 0, 1, 1], [0, 1.5, 0, 1, 1]]Exp_[[0.25], [0.25]]_10_0.1Q_UGapEc-[0.0002, 1]\n"
     ]
    },
    {
     "data": {
      "application/vnd.jupyter.widget-view+json": {
       "model_id": "a50972f3dcd94b3594fc52af504b0232",
       "version_major": 2,
       "version_minor": 0
      },
      "text/plain": [
       "IntProgress(value=0, description='Running', max=10)"
      ]
     },
     "metadata": {},
     "output_type": "display_data"
    },
    {
     "name": "stdout",
     "output_type": "stream",
     "text": [
      "Mixture_AbsGau_[[0, 1.5, 0, 1, 1], [3.5, 2, 0, 1, 1], [0, 1.5, 0, 1, 1], [3.5, 2, 0, 1, 1], [0, 1.5, 0, 1, 1], [3.5, 2, 0, 1, 1], [0, 1.5, 0, 1, 1], [0, 1.5, 0, 1, 1], [0, 1.5, 0, 1, 1], [0, 1.5, 0, 1, 1], [0, 1.5, 0, 1, 1], [0, 1.5, 0, 1, 1], [0, 1.5, 0, 1, 1], [0, 1.5, 0, 1, 1], [0, 1.5, 0, 1, 1], [0, 1.5, 0, 1, 1], [0, 1.5, 0, 1, 1], [0, 1.5, 0, 1, 1]]Exp_[[0.25], [0.25]]_10_0.1Q_UGapEc-[0.0005, 1]\n"
     ]
    },
    {
     "data": {
      "application/vnd.jupyter.widget-view+json": {
       "model_id": "957466d2f31e4cfa819a69f763eca896",
       "version_major": 2,
       "version_minor": 0
      },
      "text/plain": [
       "IntProgress(value=0, description='Running', max=10)"
      ]
     },
     "metadata": {},
     "output_type": "display_data"
    }
   ],
   "source": [
    "hyperpara_list = [[0.0002, 1], [0.0005, 1]]\n",
    "# hyperpara_list = [[0.001, 1], [0.005, 1]]\n",
    "\n",
    "run_exper(rewards_env, quantiles, Q_UGapEc, epsilon, m, confi, num_exper, hyperpara_list, \n",
    "            est_H_flag = False, est_L_flag = est_L_flag, tau = tau)\n",
    "# run_exper(rewards_env, hyperpara_list, num_arms, num_exper, budget, epsilon, tau, uniform_sampling, quantiles)"
   ]
  },
  {
   "cell_type": "code",
   "execution_count": 6,
   "metadata": {},
   "outputs": [
    {
     "name": "stdout",
     "output_type": "stream",
     "text": [
      "Mixture_AbsGau_[[0, 1.5, 0, 1, 1], [3.5, 2, 0, 1, 1], [0, 1.5, 0, 1, 1], [3.5, 2, 0, 1, 1], [0, 1.5, 0, 1, 1], [3.5, 2, 0, 1, 1], [0, 1.5, 0, 1, 1], [0, 1.5, 0, 1, 1], [0, 1.5, 0, 1, 1], [0, 1.5, 0, 1, 1], [0, 1.5, 0, 1, 1], [0, 1.5, 0, 1, 1], [0, 1.5, 0, 1, 1], [0, 1.5, 0, 1, 1], [0, 1.5, 0, 1, 1], [0, 1.5, 0, 1, 1], [0, 1.5, 0, 1, 1], [0, 1.5, 0, 1, 1]]Exp_[[0.25], [0.25]]_10_0.1UGapEc-[0.2, 1]\n"
     ]
    },
    {
     "data": {
      "application/vnd.jupyter.widget-view+json": {
       "model_id": "9a03e05f7a054d498ebd3fc4c90a49de",
       "version_major": 2,
       "version_minor": 0
      },
      "text/plain": [
       "IntProgress(value=0, description='Running', max=10)"
      ]
     },
     "metadata": {},
     "output_type": "display_data"
    },
    {
     "name": "stdout",
     "output_type": "stream",
     "text": [
      "{18, 19}\n",
      "{18, 19}\n",
      "{1, 18}\n",
      "{18, 3}\n",
      "{1, 3}\n",
      "{19, 5}\n",
      "{1, 5}\n",
      "{3, 5}\n",
      "{18, 5}\n",
      "{18, 19}\n",
      "Mixture_AbsGau_[[0, 1.5, 0, 1, 1], [3.5, 2, 0, 1, 1], [0, 1.5, 0, 1, 1], [3.5, 2, 0, 1, 1], [0, 1.5, 0, 1, 1], [3.5, 2, 0, 1, 1], [0, 1.5, 0, 1, 1], [0, 1.5, 0, 1, 1], [0, 1.5, 0, 1, 1], [0, 1.5, 0, 1, 1], [0, 1.5, 0, 1, 1], [0, 1.5, 0, 1, 1], [0, 1.5, 0, 1, 1], [0, 1.5, 0, 1, 1], [0, 1.5, 0, 1, 1], [0, 1.5, 0, 1, 1], [0, 1.5, 0, 1, 1], [0, 1.5, 0, 1, 1]]Exp_[[0.25], [0.25]]_10_0.1UGapEc-[0.5, 1]\n"
     ]
    },
    {
     "data": {
      "application/vnd.jupyter.widget-view+json": {
       "model_id": "1b2dba57b7c046fc8fb6b226aebcc3c3",
       "version_major": 2,
       "version_minor": 0
      },
      "text/plain": [
       "IntProgress(value=0, description='Running', max=10)"
      ]
     },
     "metadata": {},
     "output_type": "display_data"
    },
    {
     "name": "stdout",
     "output_type": "stream",
     "text": [
      "{19, 5}\n",
      "{18, 19}\n",
      "{18, 19}\n",
      "{19, 3}\n",
      "{1, 18}\n",
      "{3, 19}\n",
      "{18, 5}\n",
      "{18, 19}\n",
      "{18, 19}\n",
      "{1, 19}\n"
     ]
    }
   ],
   "source": [
    "hyperpara_list = [ [0.2,1], [0.5, 1]]\n",
    "run_exper(rewards_env, quantiles, UGapEc, epsilon, m, confi, num_exper, hyperpara_list, \n",
    "            est_H_flag = False, est_L_flag = est_L_flag)"
   ]
  },
  {
   "cell_type": "code",
   "execution_count": 7,
   "metadata": {},
   "outputs": [
    {
     "data": {
      "image/png": "[encoded data removed]",
      "text/plain": [
       "<Figure size 864x216 with 1 Axes>"
      ]
     },
     "metadata": {
      "needs_background": "light"
     },
     "output_type": "display_data"
    }
   ],
   "source": [
    "plot_eva(results, 'sc', paper_flag = False, save_flag=False, log_scale=True)"
   ]
  },
  {
   "cell_type": "code",
   "execution_count": 8,
   "metadata": {},
   "outputs": [],
   "source": [
    "import pickle\n",
    "\n",
    "#with open('Fixed_confi_20arms_new_env_group_two.pickle', 'wb') as handle:\n",
    "#    pickle.dump(results, handle, protocol=pickle.HIGHEST_PROTOCOL)"
   ]
  },
  {
   "cell_type": "code",
   "execution_count": null,
   "metadata": {},
   "outputs": [],
   "source": []
  }
 ],
 "metadata": {
  "kernelspec": {
   "display_name": "Python 3",
   "language": "python",
   "name": "python3"
  },
  "language_info": {
   "codemirror_mode": {
    "name": "ipython",
    "version": 3
   },
   "file_extension": ".py",
   "mimetype": "text/x-python",
   "name": "python",
   "nbconvert_exporter": "python",
   "pygments_lexer": "ipython3",
   "version": "3.7.3"
  }
 },
 "nbformat": 4,
 "nbformat_minor": 2
}
