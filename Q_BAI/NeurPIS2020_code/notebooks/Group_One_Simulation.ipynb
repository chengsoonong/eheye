{
 "cells": [
  {
   "cell_type": "markdown",
   "metadata": {},
   "source": [
    "In this notebook, we show the simulation for the Group One design.\n",
    "\n",
    "Group one shows quantiles and means can reflect different preference order and the quantiles are preferred by the risk-averse agents, i.e. Arm B is preferred since its less low rewards.\n",
    "We compare our algorithms with the quantile-based baseline algorithms in terms of Group One design.\n",
    "\n",
    "To be able to compare with quantile based baseline algorithm, our first group of experiment is constraint with identifying a single arm ($m$ = 1). We consider $K = 20$ arms with 15 arm A, 1 arm B and 4 arm C. The quality of arm is evaluated by 0.5-quantile ($\\tau = 0.5$). The optimal arm  is $B$."
   ]
  },
  {
   "cell_type": "code",
   "execution_count": 1,
   "metadata": {},
   "outputs": [],
   "source": [
    "# direct to proper path\n",
    "import os\n",
    "import sys\n",
    "module_path = os.path.abspath(os.path.join('..'))\n",
    "if module_path not in sys.path:\n",
    "    sys.path.append(module_path)\n",
    "    \n",
    "import numpy as np\n",
    "from ipywidgets import IntProgress\n",
    "from IPython.display import display\n",
    "import matplotlib.pyplot as plt\n",
    "from collections import defaultdict\n",
    "import seaborn as sns\n",
    "import pickle\n",
    "from prettytable import PrettyTable\n",
    "\n",
    "from codes.Q_BAI import *\n",
    "from codes.Environment import Mixture_AbsGau, setup_env, Exp\n",
    "from codes.SimulatedGames import simulate\n",
    "from codes.plots import plot_hist, plot_eva, plot_eva_m\n",
    "\n",
    "%matplotlib inline"
   ]
  },
  {
   "cell_type": "code",
   "execution_count": 2,
   "metadata": {},
   "outputs": [
    {
     "name": "stdout",
     "output_type": "stream",
     "text": [
      "{<class 'codes.Environment.Mixture_AbsGau'>: [[0, 2, 0, 1, 1], [3.5, 2, 0, 1, 1], [0, 2, 0, 1, 1], [0, 2, 0, 1, 1], [0, 2, 0, 1, 1], [0, 2, 0, 1, 1], [0, 2, 0, 1, 1], [0, 2, 0, 1, 1], [0, 2, 0, 1, 1], [0, 2, 0, 1, 1], [0, 2, 0, 1, 1], [0, 2, 0, 1, 1], [0, 2, 0, 1, 1], [0, 2, 0, 1, 1], [0, 2, 0, 1, 1], [0, 2, 0, 1, 1]], <class 'codes.Environment.Exp'>: [[0.25], [0.25], [0.25], [0.25]]}\n"
     ]
    }
   ],
   "source": [
    "# environment\n",
    "\n",
    "environments = [\n",
    "    {Mixture_AbsGau: [[0, 2, 0,1, 1], [3.5, 2, 0, 1, 1], \n",
    "                      [0, 2, 0,1, 1],  \n",
    "                      [0, 2, 0,1, 1], \n",
    "                      [0, 2, 0,1, 1], \n",
    "                      [0, 2, 0,1, 1],  \n",
    "                      [0, 2, 0,1, 1], \n",
    "                      [0, 2, 0,1, 1], \n",
    "                      [0, 2, 0,1, 1],  \n",
    "                      [0, 2, 0,1, 1], \n",
    "                      [0, 2, 0,1, 1], \n",
    "                      [0, 2, 0,1, 1],  \n",
    "                      [0, 2, 0,1, 1], \n",
    "                      [0, 2, 0,1, 1], \n",
    "                      [0, 2, 0,1, 1],  \n",
    "                      [0, 2, 0,1, 1],  \n",
    "                     ],\n",
    "     Exp: [[1/4], [1/4], [1/4], [1/4]]\n",
    "    } # mu1, sigma1, mu2, sigma2, p\n",
    "    \n",
    "]\n",
    "\n",
    "tau = 0.5 # quantile level\n",
    "\n",
    "rewards_env, quantiles, Ls, means, samples = setup_env(environments, tau)"
   ]
  },
  {
   "cell_type": "code",
   "execution_count": 3,
   "metadata": {},
   "outputs": [],
   "source": [
    "# run experiments\n",
    "\n",
    "def run_exper(rewards_env, summary_stats, policy, epsilon, m, budget_or_confi, num_exper, hyperpara_list, \n",
    "              fixed_samples_list = None, est_H_flag = False, est_L_flag = None, fixed_L = None , tau = None):\n",
    "    for key in rewards_env.keys():\n",
    "        for hyperpara in hyperpara_list:\n",
    "            name = key + '_' + str(num_exper) + '_' + str(budget_or_confi) \n",
    "            policy_name = str(policy).split('.')[-1].split('\\'')[0] + '-'\n",
    "            subname = policy_name + str(hyperpara) \n",
    "            if est_H_flag:\n",
    "                subname = 'Adp_' + subname\n",
    "            #print(name + subname)\n",
    "            p = IntProgress(max = num_exper)\n",
    "            p.description = 'Running'\n",
    "            display(p)\n",
    "            results[name][subname] = []\n",
    "            est_Hs[name][subname] = []\n",
    "            if est_H_flag:\n",
    "                result, est_H_list = simulate(rewards_env[key],summary_stats[key], policy, \n",
    "                        epsilon, m, budget_or_confi, num_exper, hyperpara, p, fixed_samples_list,\n",
    "                        est_H_flag, est_L_flag, fixed_L, tau)\n",
    "                est_Hs[name][subname].append(est_H_list)\n",
    "            else:\n",
    "                result = simulate(rewards_env[key],summary_stats[key], policy, \n",
    "                        epsilon, m, budget_or_confi, num_exper, hyperpara, p, fixed_samples_list,\n",
    "                        est_H_flag, est_L_flag, fixed_L, tau)\n",
    "            results[name][subname].append(result)"
   ]
  },
  {
   "cell_type": "markdown",
   "metadata": {},
   "source": [
    "## Fixed Budget\n",
    "\n",
    "We consider the problem of ($\\epsilon, m , \\tau$)-best arm identification problem with $\\epsilon = 0, m = 1, \\tau = 0.5$ and a fixed budget $N$ = 2500. \n",
    "We show the performance of \n",
    "- Q-UGapEb with true problem complexity, \n",
    "- Adaptive Q-UGapEb (Adp-Q-UGapEb, with estimated problem complexity).\n",
    "- And we also show the performance Q-SAR. \n",
    "\n",
    "We compare our algorithms with \n",
    "- Quantile uniform sampling (Q-Uniform), where each arm is sampled uniformly and select the arm with the maximum 0.5-quantile; \n",
    "- Quantile Batch Elimination (Q-BE) proposed in , where we choose drop one arm for each phase.\n",
    "\n",
    "The performance is evaluated by the probability of error with 100 times of repeated experiment."
   ]
  },
  {
   "cell_type": "code",
   "execution_count": 4,
   "metadata": {},
   "outputs": [],
   "source": [
    "# setting\n",
    "\n",
    "results = defaultdict(dict)\n",
    "est_Hs = defaultdict(dict)\n",
    "\n",
    "num_arms = 20\n",
    "num_exper = 100\n",
    "budget = 2500\n",
    "epsilon = 0\n",
    "m = 1\n",
    "\n",
    "est_L_flag = True # True: estimate the lower bound of hazard rate L; False: use the true L"
   ]
  },
  {
   "cell_type": "code",
   "execution_count": 5,
   "metadata": {},
   "outputs": [],
   "source": [
    "hyperpara_list = [[1,1], [4, 1]]\n",
    "\n",
    "est_H_flag = False # use true problem complexity\n",
    "\n",
    "run_exper(rewards_env, quantiles, Q_UGapEb, epsilon, m, budget, num_exper, hyperpara_list, est_H_flag = est_H_flag, est_L_flag = est_L_flag, tau = tau)\n",
    "\n",
    "est_H_flag = True # adaptively estimate the problem complexity H\n",
    "\n",
    "run_exper(rewards_env, quantiles, Q_UGapEb, epsilon, m, budget, num_exper, hyperpara_list, est_H_flag = est_H_flag, est_L_flag = est_L_flag, tau = tau)\n",
    "\n",
    "hyperpara_list = [[1]]\n",
    "\n",
    "run_exper(rewards_env, quantiles, Q_SAR_Simplified, epsilon, m, budget, num_exper, hyperpara_list, est_L_flag = est_L_flag, tau = tau)\n",
    "\n",
    "run_exper(rewards_env, quantiles, batch_elimination, epsilon, m, budget, num_exper, hyperpara_list, est_L_flag = est_L_flag, tau = tau)\n",
    "\n",
    "run_exper(rewards_env, quantiles, uniform_sampling, epsilon, m, budget, num_exper, hyperpara_list, est_L_flag = est_L_flag, tau = tau)"
   ]
  },
  {
   "cell_type": "code",
   "execution_count": 6,
   "metadata": {},
   "outputs": [
    {
     "data": {
      "image/png": "[encoded data removed]",
      "text/plain": [
       "<Figure size 864x216 with 1 Axes>"
      ]
     },
     "metadata": {
      "needs_background": "light"
     },
     "output_type": "display_data"
    }
   ],
   "source": [
    "# save results\n",
    "'''\n",
    "with open('../saved_results/Group_One_Fixed_Budget.pickle', 'wb') as handle:\n",
    "     pickle.dump(results, handle, protocol=pickle.HIGHEST_PROTOCOL)\n",
    "\n",
    "with open('../saved_results/Group_One_Fixed_Budget.pickle', 'rb') as handle:\n",
    "    results = pickle.load(handle)\n",
    "'''\n",
    "plot_eva(results, 'pe', paper_flag = True, with_para = True, title = 'Group_One_Fixed_Budget', log_scale = False)"
   ]
  },
  {
   "cell_type": "markdown",
   "metadata": {},
   "source": [
    "## Fixed Confidence \n",
    "\n",
    "we consider the problem of ($\\epsilon, m , \\tau$)-best arm identification problem with $\\epsilon = 0.05, m = 1, \\tau = 0.5$ and fixed confidence level $1 - \\delta = 0.95$. We show the performance of Q-UGapEc with hyperparameter $\\beta = [0.01, 0.05]$. We compare our algorithm with i) QPAC ii) MaxQ. The performance is evaluated by the expected sample complexity with 100 repeated experiments. "
   ]
  },
  {
   "cell_type": "code",
   "execution_count": 7,
   "metadata": {},
   "outputs": [],
   "source": [
    "# setting\n",
    "\n",
    "results = defaultdict(dict)\n",
    "num_arms = 20\n",
    "num_exper = 100\n",
    "confi = 0.05\n",
    "epsilon = 0.05\n",
    "\n",
    "est_L_flag = True # True: estimate the lower bound of hazard rate L; False: use the true L"
   ]
  },
  {
   "cell_type": "code",
   "execution_count": 8,
   "metadata": {},
   "outputs": [],
   "source": [
    "hyperpara_list = [[0.01, 1], [0.05, 1]]\n",
    "\n",
    "run_exper(rewards_env, quantiles, Q_UGapEc, epsilon, m, confi, num_exper, hyperpara_list, est_L_flag = est_L_flag, tau = tau)\n",
    "\n",
    "hyperpara_list = [[1]]\n",
    "\n",
    "run_exper(rewards_env, quantiles, QPAC, epsilon, m, confi, num_exper, hyperpara_list, est_L_flag = est_L_flag, tau = tau)\n",
    "\n",
    "run_exper(rewards_env, quantiles, MaxQ, epsilon, m, confi, num_exper, hyperpara_list, est_L_flag = est_L_flag, tau = tau)"
   ]
  },
  {
   "cell_type": "code",
   "execution_count": 9,
   "metadata": {},
   "outputs": [
    {
     "data": {
      "image/png": "[encoded data removed]",
      "text/plain": [
       "<Figure size 864x216 with 1 Axes>"
      ]
     },
     "metadata": {
      "needs_background": "light"
     },
     "output_type": "display_data"
    }
   ],
   "source": [
    "# save results\n",
    "'''\n",
    "with open('../saved_results/Group_One_Fixed_Confidence.pickle', 'wb') as handle:\n",
    "     pickle.dump(results, handle, protocol=pickle.HIGHEST_PROTOCOL)\n",
    "\n",
    "with open('../saved_results/Group_One_Fixed_Confidence.pickle', 'rb') as handle:\n",
    "    results = pickle.load(handle)\n",
    "'''\n",
    "plot_eva(results, 'sc', paper_flag = True, with_para = True, title = 'Group_One_Fixed_Confidence', log_scale = True)"
   ]
  },
  {
   "cell_type": "code",
   "execution_count": null,
   "metadata": {},
   "outputs": [],
   "source": []
  }
 ],
 "metadata": {
  "kernelspec": {
   "display_name": "Python 3",
   "language": "python",
   "name": "python3"
  },
  "language_info": {
   "codemirror_mode": {
    "name": "ipython",
    "version": 3
   },
   "file_extension": ".py",
   "mimetype": "text/x-python",
   "name": "python",
   "nbconvert_exporter": "python",
   "pygments_lexer": "ipython3",
   "version": "3.7.3"
  }
 },
 "nbformat": 4,
 "nbformat_minor": 2
}
