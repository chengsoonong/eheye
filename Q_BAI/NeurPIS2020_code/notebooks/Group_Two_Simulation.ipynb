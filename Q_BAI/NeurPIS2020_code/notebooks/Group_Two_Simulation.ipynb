{
 "cells": [
  {
   "cell_type": "markdown",
   "metadata": {},
   "source": [
    "In this notebook, we show the simulation for the Group Two design.\n",
    "\n",
    "We show how our algorithms performance on identifying multiple arms, compared with mean based baseline algorithms. \n",
    "The make the comparison fair, the mean and 0.8-quantile reflects the same arm preference order. \n",
    "We consider $K = 20$ arms with 15 arms A, 3 arm B and 2 arms C. The quality of arm is evaluated by 0.8-quantile ($\\tau = 0.8$). The 2 optimal arms are replicated Arm $C$. \n",
    "\n",
    "This experiment is designed to show that quantiles can provide a larger minimum gap, the minimum gap (between optimal set $\\mathcal{S}^\\ast$ and non-optimal set) for 0.8-quantiles is 1.21, while it is 0.4 for mean. We expect the quantile-based algorithms has a better performance. "
   ]
  },
  {
   "cell_type": "code",
   "execution_count": 1,
   "metadata": {},
   "outputs": [],
   "source": [
    "# direct to proper path\n",
    "import os\n",
    "import sys\n",
    "module_path = os.path.abspath(os.path.join('..'))\n",
    "if module_path not in sys.path:\n",
    "    sys.path.append(module_path)\n",
    "    \n",
    "import numpy as np\n",
    "from ipywidgets import IntProgress\n",
    "from IPython.display import display\n",
    "import matplotlib.pyplot as plt\n",
    "from collections import defaultdict\n",
    "import seaborn as sns\n",
    "import pickle\n",
    "from prettytable import PrettyTable\n",
    "\n",
    "from codes.Q_BAI import *\n",
    "from codes.Mean_BAI import *\n",
    "from codes.Environment import Mixture_AbsGau, setup_env, Exp\n",
    "from codes.SimulatedGames import simulate\n",
    "from codes.plots import plot_hist, plot_eva, plot_eva_m\n",
    "\n",
    "%matplotlib inline"
   ]
  },
  {
   "cell_type": "code",
   "execution_count": 2,
   "metadata": {},
   "outputs": [
    {
     "name": "stdout",
     "output_type": "stream",
     "text": [
      "{<class 'codes.Environment.Mixture_AbsGau'>: [[0, 1.5, 0, 1, 1], [3.5, 2, 0, 1, 1], [0, 1.5, 0, 1, 1], [3.5, 2, 0, 1, 1], [0, 1.5, 0, 1, 1], [3.5, 2, 0, 1, 1], [0, 1.5, 0, 1, 1], [0, 1.5, 0, 1, 1], [0, 1.5, 0, 1, 1], [0, 1.5, 0, 1, 1], [0, 1.5, 0, 1, 1], [0, 1.5, 0, 1, 1], [0, 1.5, 0, 1, 1], [0, 1.5, 0, 1, 1], [0, 1.5, 0, 1, 1], [0, 1.5, 0, 1, 1], [0, 1.5, 0, 1, 1], [0, 1.5, 0, 1, 1]], <class 'codes.Environment.Exp'>: [[0.25], [0.25]]}\n"
     ]
    }
   ],
   "source": [
    "# environment\n",
    "\n",
    "environments = [\n",
    "    {Mixture_AbsGau: [[0, 1.5, 0,1, 1], [3.5, 2, 0, 1, 1], \n",
    "                      [0, 1.5, 0,1, 1], [3.5, 2, 0, 1, 1], \n",
    "                      [0, 1.5, 0,1, 1], [3.5, 2, 0, 1, 1], \n",
    "                      [0, 1.5, 0,1, 1], \n",
    "                      [0, 1.5, 0,1, 1],  \n",
    "                      [0, 1.5, 0,1, 1], \n",
    "                      [0, 1.5, 0,1, 1], \n",
    "                      [0, 1.5, 0,1, 1], \n",
    "                      [0, 1.5, 0,1, 1], \n",
    "                      [0, 1.5, 0,1, 1],\n",
    "                      [0, 1.5, 0,1, 1], \n",
    "                      [0, 1.5, 0,1, 1], \n",
    "                      [0, 1.5, 0,1, 1], \n",
    "                      [0, 1.5, 0,1, 1], \n",
    "                      [0, 1.5, 0,1, 1],\n",
    "                     ],\n",
    "     Exp: [[1/4], [1/4]\n",
    "          ]\n",
    "    } # mu1, sigma1, mu2, sigma2, p\n",
    "    \n",
    "]\n",
    "\n",
    "\n",
    "tau = 0.8 # quantile level\n",
    "rewards_env, quantiles, Ls, means, samples = setup_env(environments, tau)"
   ]
  },
  {
   "cell_type": "code",
   "execution_count": 3,
   "metadata": {},
   "outputs": [],
   "source": [
    "# run experiments\n",
    "\n",
    "def run_exper(rewards_env, summary_stats, policy, epsilon, m, budget_or_confi, num_exper, hyperpara_list, \n",
    "              fixed_samples_list = None, est_H_flag = False, est_L_flag = None, fixed_L = None , tau = None):\n",
    "    for key in rewards_env.keys():\n",
    "        for hyperpara in hyperpara_list:\n",
    "            name = key + '_' + str(num_exper) + '_' + str(budget_or_confi) \n",
    "            policy_name = str(policy).split('.')[-1].split('\\'')[0] + '-'\n",
    "            subname = policy_name + str(hyperpara) \n",
    "            if est_H_flag:\n",
    "                subname = 'Adp_' + subname\n",
    "            #print(name + subname)\n",
    "            p = IntProgress(max = num_exper)\n",
    "            p.description = 'Running'\n",
    "            display(p)\n",
    "            results[name][subname] = []\n",
    "            est_Hs[name][subname] = []\n",
    "            if est_H_flag:\n",
    "                result, est_H_list = simulate(rewards_env[key],summary_stats[key], policy, \n",
    "                        epsilon, m, budget_or_confi, num_exper, hyperpara, p, fixed_samples_list,\n",
    "                        est_H_flag, est_L_flag, fixed_L, tau)\n",
    "                est_Hs[name][subname].append(est_H_list)\n",
    "            else:\n",
    "                result = simulate(rewards_env[key],summary_stats[key], policy, \n",
    "                        epsilon, m, budget_or_confi, num_exper, hyperpara, p, fixed_samples_list,\n",
    "                        est_H_flag, est_L_flag, fixed_L, tau)\n",
    "            results[name][subname].append(result)"
   ]
  },
  {
   "cell_type": "markdown",
   "metadata": {},
   "source": [
    "## Fixed Budget\n",
    "\n",
    "we consider the problem of ($\\epsilon, m , \\tau$)-best arm identification problem with $\\epsilon = 0, m = 2, \\tau = 0.8$ and a fixed budget $N$ = 3000. \n",
    "We show the performance of Q-UGapEb (with true problem complexity), Adaptive Q-UGapEb (Adp-Q-UGapEb, with estimated problem complexity).\n",
    "We show the performance of the Q-SAR. \n",
    "We compare our algorithms with the two algorithms we adapted from, namely the U-GapEb  and the Q-SAR algorithms. "
   ]
  },
  {
   "cell_type": "code",
   "execution_count": 4,
   "metadata": {},
   "outputs": [],
   "source": [
    "# setting\n",
    "\n",
    "results = defaultdict(dict)\n",
    "est_Hs = defaultdict(dict)\n",
    "\n",
    "num_arms = 20\n",
    "num_exper = 100\n",
    "budget = 3000\n",
    "epsilon = 0\n",
    "m = 2\n",
    "\n",
    "est_L_flag = True # True: estimate the lower bound of hazard rate L; False: use the true L"
   ]
  },
  {
   "cell_type": "code",
   "execution_count": 5,
   "metadata": {},
   "outputs": [],
   "source": [
    "hyperpara_list = [[200,1]]\n",
    "\n",
    "run_exper(rewards_env, quantiles, Q_UGapEb, epsilon, m, budget, num_exper, hyperpara_list, \n",
    "            est_H_flag = False, est_L_flag = est_L_flag, tau = tau)\n",
    "\n",
    "run_exper(rewards_env, quantiles, Q_UGapEb, epsilon, m, budget, num_exper, hyperpara_list, \n",
    "            est_H_flag = True, est_L_flag = est_L_flag, tau = tau)\n",
    "\n",
    "run_exper(rewards_env, quantiles, Q_SAR_Simplified, epsilon, m, budget, num_exper, [[1]], tau = tau)\n",
    "\n",
    "# baseline algorithms\n",
    "\n",
    "run_exper(rewards_env, quantiles, UGapEb, epsilon, m, budget, num_exper, hyperpara_list, est_H_flag = False)\n",
    "\n",
    "\n",
    "run_exper(rewards_env, quantiles, UGapEb, epsilon, m, budget, num_exper, hyperpara_list, est_H_flag = True)\n",
    "\n",
    "run_exper(rewards_env, quantiles, SAR_Simplified, epsilon, m, budget, num_exper, [[1]])"
   ]
  },
  {
   "cell_type": "code",
   "execution_count": 6,
   "metadata": {},
   "outputs": [
    {
     "data": {
      "image/png": "[encoded data removed]",
      "text/plain": [
       "<Figure size 864x216 with 1 Axes>"
      ]
     },
     "metadata": {
      "needs_background": "light"
     },
     "output_type": "display_data"
    }
   ],
   "source": [
    "# save results\n",
    "'''\n",
    "with open('../saved_results/Group_Two_Fixed_Budget.pickle', 'wb') as handle:\n",
    "     pickle.dump(results, handle, protocol=pickle.HIGHEST_PROTOCOL)\n",
    "with open('../saved_results/Group_Two_Fixed_Budget.pickle', 'rb') as handle:\n",
    "     results = pickle.load(handle)\n",
    "'''\n",
    "        \n",
    "plot_eva(results, 'pe', paper_flag = True, with_para = False, title = 'Group_Two_Fixed_Budget', log_scale = False, save_flag = True)"
   ]
  },
  {
   "cell_type": "markdown",
   "metadata": {},
   "source": [
    "## Fixed Confidence \n",
    "\n",
    "we consider the problem of ($\\epsilon, m , \\tau$)-best arm identification problem with $\\epsilon = 0.05, m = 2, \\tau = 0.8$ and fixed confidence level $1 - \\delta = 0.95$. \n",
    "We show the performance of Q-UGapEc with hyperparameter $\\beta = [0.001, 0.005]$. \n",
    "We compare our algorithms with the algorithms we adapted from, namely the U-GapEc.\n",
    "The performance is evaluated by the expected sample complexity with 100 repeated experiments. "
   ]
  },
  {
   "cell_type": "code",
   "execution_count": 7,
   "metadata": {},
   "outputs": [],
   "source": [
    "# setting\n",
    "\n",
    "results = defaultdict(dict)\n",
    "num_arms = 20\n",
    "num_exper = 100\n",
    "confi = 0.05\n",
    "epsilon = 0.05"
   ]
  },
  {
   "cell_type": "code",
   "execution_count": 8,
   "metadata": {},
   "outputs": [],
   "source": [
    "hyperpara_list = [[0.001, 1], [0.005, 1]]\n",
    "\n",
    "run_exper(rewards_env, quantiles, Q_UGapEc, epsilon, m, budget, num_exper, hyperpara_list, est_L_flag = est_L_flag, tau = tau)\n",
    "\n",
    "# baseline algorithms\n",
    "\n",
    "run_exper(rewards_env, quantiles, UGapEc, epsilon, m, budget, num_exper, hyperpara_list)"
   ]
  },
  {
   "cell_type": "code",
   "execution_count": 9,
   "metadata": {},
   "outputs": [
    {
     "data": {
      "image/png": "[encoded data removed]",
      "text/plain": [
       "<Figure size 864x216 with 1 Axes>"
      ]
     },
     "metadata": {
      "needs_background": "light"
     },
     "output_type": "display_data"
    }
   ],
   "source": [
    "# save results\n",
    "'''\n",
    "with open('../saved_results/Group_Two_Fixed_Confidence.pickle', 'wb') as handle:\n",
    "     pickle.dump(results, handle, protocol=pickle.HIGHEST_PROTOCOL)\n",
    "\n",
    "with open('../saved_results/Group_Two_Fixed_Confidence.pickle', 'rb') as handle:\n",
    "     results = pickle.load(handle)\n",
    "'''\n",
    "        \n",
    "plot_eva(results, 'sc', paper_flag = True, with_para = True, title = 'Group_Two_Fixed_Confidence', log_scale = True)"
   ]
  },
  {
   "cell_type": "code",
   "execution_count": null,
   "metadata": {},
   "outputs": [],
   "source": []
  }
 ],
 "metadata": {
  "kernelspec": {
   "display_name": "Python 3",
   "language": "python",
   "name": "python3"
  },
  "language_info": {
   "codemirror_mode": {
    "name": "ipython",
    "version": 3
   },
   "file_extension": ".py",
   "mimetype": "text/x-python",
   "name": "python",
   "nbconvert_exporter": "python",
   "pygments_lexer": "ipython3",
   "version": "3.7.3"
  }
 },
 "nbformat": 4,
 "nbformat_minor": 2
}
