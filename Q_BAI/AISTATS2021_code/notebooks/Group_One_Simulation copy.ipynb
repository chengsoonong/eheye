{
 "cells": [
  {
   "cell_type": "markdown",
   "metadata": {},
   "source": [
    "In this notebook, we show the simulation for the Group One design.\n",
    "\n",
    "Group one shows quantiles and means can reflect different preference order and the quantiles are preferred by the risk-averse agents, i.e. Arm B is preferred since its less low rewards.\n",
    "We compare our algorithms with the quantile-based baseline algorithms in terms of Group One design.\n",
    "\n",
    "To be able to compare with quantile based baseline algorithm, our first group of experiment is constraint with identifying a single arm ($m$ = 1). We consider $K = 20$ arms with 15 arm A, 1 arm B and 4 arm C. The quality of arm is evaluated by 0.5-quantile ($\\tau = 0.5$). The optimal arm  is $B$."
   ]
  },
  {
   "cell_type": "code",
   "execution_count": 1,
   "metadata": {},
   "outputs": [],
   "source": [
    "# direct to proper path\n",
    "import os\n",
    "import sys\n",
    "module_path = os.path.abspath(os.path.join('..'))\n",
    "if module_path not in sys.path:\n",
    "    sys.path.append(module_path)\n",
    "    \n",
    "import numpy as np\n",
    "from ipywidgets import IntProgress\n",
    "from IPython.display import display\n",
    "import matplotlib.pyplot as plt\n",
    "from collections import defaultdict\n",
    "import seaborn as sns\n",
    "import pickle\n",
    "from prettytable import PrettyTable\n",
    "\n",
    "from codes.BAI_FixedBudget import *\n",
    "from codes.Environment import Mixture_AbsGau, setup_env, Exp\n",
    "from codes.SimulatedGames import simulate\n",
    "from codes.plots import *\n",
    "\n",
    "%matplotlib inline"
   ]
  },
  {
   "cell_type": "code",
   "execution_count": 2,
   "metadata": {
    "tags": []
   },
   "outputs": [],
   "source": [
    "# environments = [\n",
    "#     {Mixture_AbsGau: [[0, 2, 0,1, 1], [3.5, 2, 0, 1, 1], \n",
    "#                      ],\n",
    "#      Exp: [[1/4]]\n",
    "#     } # mu1, sigma1, mu2, sigma2, p\n",
    "    \n",
    "# ]\n",
    "\n",
    "# rewards_env, true_ss_dict, samples = setup_env(environments, ['quantile_0.5'])\n",
    "# plot_hist(samples)"
   ]
  },
  {
   "cell_type": "code",
   "execution_count": 3,
   "metadata": {
    "tags": []
   },
   "outputs": [
    {
     "output_type": "stream",
     "name": "stdout",
     "text": "{<class 'codes.Environment.Mixture_AbsGau'>: [[0.0009194639053610687, 2, 0, 1, 1], [3.510937139911343, 2, 0, 1, 1], [3.5042758970211407, 2, 0, 1, 1], [3.5109698558036557, 2, 0, 1, 1], [3.5156063799283226, 2, 0, 1, 1], [3.5115000257359856, 2, 0, 1, 1], [0.012751200912408974, 2, 0, 1, 1], [0.018342333456041925, 2, 0, 1, 1], [0.0005371601660963132, 2, 0, 1, 1], [0.006961151305508771, 2, 0, 1, 1], [0.0006409251204139977, 2, 0, 1, 1], [0.016315049343887385, 2, 0, 1, 1], [0.014191534974100641, 2, 0, 1, 1], [0.019631419269852565, 2, 0, 1, 1], [0.0038772609346467467, 2, 0, 1, 1], [0.0015616608603548677, 2, 0, 1, 1], [0.016074515696348858, 2, 0, 1, 1], [0.011303327322493284, 2, 0, 1, 1], [0.0010826788859752323, 2, 0, 1, 1], [0.008208488892433665, 2, 0, 1, 1]], <class 'codes.Environment.Exp'>: [[0.2697700115777458], [0.26348100825263454], [0.26761237822099737], [0.25793058406839064], [0.2640051244251513]]}\n"
    }
   ],
   "source": [
    "# environment\n",
    "def noise():\n",
    "    return 0.02 * np.random.rand()\n",
    "\n",
    "environments = [\n",
    "    {Mixture_AbsGau: [[0+noise(), 2, 0,1, 1], [3.5+noise(), 2, 0, 1, 1], \n",
    "                      [3.5+noise(), 2, 0, 1, 1], [3.5+noise(), 2, 0, 1, 1], \n",
    "                      [3.5+noise(), 2, 0, 1, 1], [3.5+noise(), 2, 0, 1, 1], \n",
    "                      [0+noise(), 2, 0,1, 1],\n",
    "                      [0+noise(), 2, 0,1, 1],\n",
    "                      [0+noise(), 2, 0,1, 1],\n",
    "                      [0+noise(), 2, 0,1, 1],\n",
    "                      [0+noise(), 2, 0,1, 1],\n",
    "                      [0+noise(), 2, 0,1, 1], \n",
    "                      [0+noise(), 2, 0,1, 1],\n",
    "                      [0+noise(), 2, 0,1, 1],\n",
    "                      [0+noise(), 2, 0,1, 1],\n",
    "                      [0+noise(), 2, 0,1, 1], \n",
    "                      [0+noise(), 2, 0,1, 1],\n",
    "                      [0+noise(), 2, 0,1, 1],\n",
    "                      [0+noise(), 2, 0,1, 1], \n",
    "                      [0+noise(), 2, 0,1, 1],\n",
    "                     ],\n",
    "     Exp: [[1/4+noise()], [1/4+noise()], [1/4+noise()], [1/4+noise()], [1/4+noise()]]\n",
    "    } # mu1, sigma1, mu2, sigma2, p\n",
    "    \n",
    "]\n",
    "\n",
    "# environments = [\n",
    "#     {Mixture_AbsGau: [[0, 1.5, 0, 1, 1],\n",
    "#                         [0, 1.5, 0, 1, 1],\n",
    "#                         [0, 1.5, 0, 1, 1],\n",
    "#                         [0, 1.5, 0, 1, 1],\n",
    "#                         [0, 1.5, 0, 1, 1], \n",
    "#                       [3.5, 2, 0,1, 1],\n",
    "#                       [3.5, 2, 0,1, 1],\n",
    "#                       [3.5, 2, 0,1, 1],\n",
    "#                       [3.5, 2, 0,1, 1],\n",
    "#                       [3.5, 2, 0,1, 1],\n",
    "#                      ],\n",
    "#      Exp: [[1/4], [1/4], [1/4], [1/4], [1/4]]\n",
    "#     } # mu1, sigma1, mu2, sigma2, p\n",
    "    \n",
    "# ]\n",
    "\n",
    "tau = 0.5 # quantile level\n",
    "\n",
    "rewards_env, true_ss_dict, samples = setup_env(environments, ['quantile_0.5'])"
   ]
  },
  {
   "cell_type": "code",
   "execution_count": 4,
   "metadata": {},
   "outputs": [
    {
     "output_type": "execute_result",
     "data": {
      "text/plain": "{'Mixture_AbsGau_[[0.0009194639053610687, 2, 0, 1, 1], [3.510937139911343, 2, 0, 1, 1], [3.5042758970211407, 2, 0, 1, 1], [3.5109698558036557, 2, 0, 1, 1], [3.5156063799283226, 2, 0, 1, 1], [3.5115000257359856, 2, 0, 1, 1], [0.012751200912408974, 2, 0, 1, 1], [0.018342333456041925, 2, 0, 1, 1], [0.0005371601660963132, 2, 0, 1, 1], [0.006961151305508771, 2, 0, 1, 1], [0.0006409251204139977, 2, 0, 1, 1], [0.016315049343887385, 2, 0, 1, 1], [0.014191534974100641, 2, 0, 1, 1], [0.019631419269852565, 2, 0, 1, 1], [0.0038772609346467467, 2, 0, 1, 1], [0.0015616608603548677, 2, 0, 1, 1], [0.016074515696348858, 2, 0, 1, 1], [0.011303327322493284, 2, 0, 1, 1], [0.0010826788859752323, 2, 0, 1, 1], [0.008208488892433665, 2, 0, 1, 1]]Exp_[[0.2697700115777458], [0.26348100825263454], [0.26761237822099737], [0.25793058406839064], [0.2640051244251513]]': defaultdict(list,\n             {'quantile_0.5': [1.3429237964816214,\n               3.5317578149504856,\n               3.5006557538324117,\n               3.5049317662869512,\n               3.505452873840019,\n               3.5231858640925644,\n               1.3473062780518166,\n               1.349265751174804,\n               1.340316265048527,\n               1.3459983104653885,\n               1.3534586667372188,\n               1.357815149792141,\n               1.3398996214214887,\n               1.3471339662850692,\n               1.3499971839992562,\n               1.3456286322669873,\n               1.3443115549858997,\n               1.348163773229592,\n               1.3399470103476732,\n               1.346692006045624,\n               2.560071835115984,\n               2.6264951973782376,\n               2.5883960833170674,\n               2.659994839355363,\n               2.628886555192221]})}"
     },
     "metadata": {},
     "execution_count": 4
    }
   ],
   "source": [
    "true_ss_dict"
   ]
  },
  {
   "cell_type": "code",
   "execution_count": 5,
   "metadata": {},
   "outputs": [],
   "source": [
    "# run experiments\n",
    "\n",
    "def run_exper(rewards_env, summary_stats, policy, epsilon, m, budget, num_exper, \n",
    "              fixed_samples_list = None):\n",
    "    for key in rewards_env.keys():\n",
    "        name = key + '_' + str(num_exper)\n",
    "        policy_name = str(policy).split('.')[-1].split('\\'')[0] + '-'\n",
    "        subname = policy_name  + str(budget) \n",
    "        p = IntProgress(max = num_exper)\n",
    "        p.description = 'Running'\n",
    "        display(p)\n",
    "        results[name][subname] = []\n",
    "\n",
    "        result = simulate(rewards_env[key],summary_stats[key], policy, \n",
    "                epsilon, m, budget, num_exper, p, fixed_samples_list)\n",
    "        results[name][subname].append(result)"
   ]
  },
  {
   "cell_type": "markdown",
   "metadata": {},
   "source": [
    "## Fixed Budget\n",
    "\n",
    "We consider the problem of ($\\epsilon, m , \\tau$)-best arm identification problem with $\\epsilon = 0, m = 1, \\tau = 0.5$ and a fixed budget $N$ = 2500. \n",
    "We show the performance of \n",
    "- Q-UGapEb with true problem complexity, \n",
    "- Adaptive Q-UGapEb (Adp-Q-UGapEb, with estimated problem complexity).\n",
    "- And we also show the performance Q-SAR. \n",
    "\n",
    "We compare our algorithms with \n",
    "- Quantile uniform sampling (Q-Uniform), where each arm is sampled uniformly and select the arm with the maximum 0.5-quantile; \n",
    "- Quantile Batch Elimination (Q-BE) proposed in , where we choose drop one arm for each phase.\n",
    "\n",
    "The performance is evaluated by the probability of error with 100 times of repeated experiment."
   ]
  },
  {
   "cell_type": "code",
   "execution_count": 6,
   "metadata": {},
   "outputs": [],
   "source": [
    "# setting\n",
    "\n",
    "results = defaultdict(dict)\n",
    "\n",
    "num_arms = 25\n",
    "num_exper = 5000\n",
    "budget = 1000\n",
    "epsilon = 0\n",
    "m = 5"
   ]
  },
  {
   "cell_type": "code",
   "execution_count": 7,
   "metadata": {
    "tags": []
   },
   "outputs": [
    {
     "output_type": "display_data",
     "data": {
      "text/plain": "IntProgress(value=0, description='Running', max=5000)",
      "application/vnd.jupyter.widget-view+json": {
       "version_major": 2,
       "version_minor": 0,
       "model_id": "fd94bd97abba4bf4aa2bed253bbd418e"
      }
     },
     "metadata": {}
    },
    {
     "output_type": "display_data",
     "data": {
      "text/plain": "IntProgress(value=0, description='Running', max=5000)",
      "application/vnd.jupyter.widget-view+json": {
       "version_major": 2,
       "version_minor": 0,
       "model_id": "f124932fec104739aac4df3b588cc2f7"
      }
     },
     "metadata": {}
    },
    {
     "output_type": "display_data",
     "data": {
      "text/plain": "IntProgress(value=0, description='Running', max=5000)",
      "application/vnd.jupyter.widget-view+json": {
       "version_major": 2,
       "version_minor": 0,
       "model_id": "79a245448b004ed5a006b450deee1461"
      }
     },
     "metadata": {}
    },
    {
     "output_type": "display_data",
     "data": {
      "text/plain": "IntProgress(value=0, description='Running', max=5000)",
      "application/vnd.jupyter.widget-view+json": {
       "version_major": 2,
       "version_minor": 0,
       "model_id": "6ed666fdaa244187be997ef60ca97cd4"
      }
     },
     "metadata": {}
    },
    {
     "output_type": "display_data",
     "data": {
      "text/plain": "IntProgress(value=0, description='Running', max=5000)",
      "application/vnd.jupyter.widget-view+json": {
       "version_major": 2,
       "version_minor": 0,
       "model_id": "c6f08cb7496d481bb35a017ee22c06a5"
      }
     },
     "metadata": {}
    },
    {
     "output_type": "display_data",
     "data": {
      "text/plain": "IntProgress(value=0, description='Running', max=5000)",
      "application/vnd.jupyter.widget-view+json": {
       "version_major": 2,
       "version_minor": 0,
       "model_id": "3deaefe5c04742c59da634cf2b8b8d55"
      }
     },
     "metadata": {}
    },
    {
     "output_type": "display_data",
     "data": {
      "text/plain": "IntProgress(value=0, description='Running', max=5000)",
      "application/vnd.jupyter.widget-view+json": {
       "version_major": 2,
       "version_minor": 0,
       "model_id": "fdd99fe5b4454907b78a594558f6f280"
      }
     },
     "metadata": {}
    },
    {
     "output_type": "display_data",
     "data": {
      "text/plain": "IntProgress(value=0, description='Running', max=5000)",
      "application/vnd.jupyter.widget-view+json": {
       "version_major": 2,
       "version_minor": 0,
       "model_id": "c80c4fcc3a184008a3186dc78c784342"
      }
     },
     "metadata": {}
    },
    {
     "output_type": "display_data",
     "data": {
      "text/plain": "IntProgress(value=0, description='Running', max=5000)",
      "application/vnd.jupyter.widget-view+json": {
       "version_major": 2,
       "version_minor": 0,
       "model_id": "1a54c59027284d2ead400a5db83e242d"
      }
     },
     "metadata": {}
    },
    {
     "output_type": "display_data",
     "data": {
      "text/plain": "IntProgress(value=0, description='Running', max=5000)",
      "application/vnd.jupyter.widget-view+json": {
       "version_major": 2,
       "version_minor": 0,
       "model_id": "725270a23e4f4c8e9d507fd75b11ebff"
      }
     },
     "metadata": {}
    },
    {
     "output_type": "display_data",
     "data": {
      "text/plain": "IntProgress(value=0, description='Running', max=5000)",
      "application/vnd.jupyter.widget-view+json": {
       "version_major": 2,
       "version_minor": 0,
       "model_id": "ebd8db2bc1914b8f9c937764ba79ea6a"
      }
     },
     "metadata": {}
    },
    {
     "output_type": "display_data",
     "data": {
      "text/plain": "IntProgress(value=0, description='Running', max=5000)",
      "application/vnd.jupyter.widget-view+json": {
       "version_major": 2,
       "version_minor": 0,
       "model_id": "ef9f1e41e25444768f559189446af925"
      }
     },
     "metadata": {}
    },
    {
     "output_type": "display_data",
     "data": {
      "text/plain": "IntProgress(value=0, description='Running', max=5000)",
      "application/vnd.jupyter.widget-view+json": {
       "version_major": 2,
       "version_minor": 0,
       "model_id": "bdb7bd6cb23f47d497bf8733e3d9479a"
      }
     },
     "metadata": {}
    },
    {
     "output_type": "display_data",
     "data": {
      "text/plain": "IntProgress(value=0, description='Running', max=5000)",
      "application/vnd.jupyter.widget-view+json": {
       "version_major": 2,
       "version_minor": 0,
       "model_id": "e5fa05aefdd84daeb6c82b2c5fb50b85"
      }
     },
     "metadata": {}
    },
    {
     "output_type": "display_data",
     "data": {
      "text/plain": "IntProgress(value=0, description='Running', max=5000)",
      "application/vnd.jupyter.widget-view+json": {
       "version_major": 2,
       "version_minor": 0,
       "model_id": "8bb25b13855e4d2c9ca3113153dec0af"
      }
     },
     "metadata": {}
    },
    {
     "output_type": "display_data",
     "data": {
      "text/plain": "IntProgress(value=0, description='Running', max=5000)",
      "application/vnd.jupyter.widget-view+json": {
       "version_major": 2,
       "version_minor": 0,
       "model_id": "5f9c7392feb344d8a52a87ce8a5b295d"
      }
     },
     "metadata": {}
    },
    {
     "output_type": "display_data",
     "data": {
      "text/plain": "IntProgress(value=0, description='Running', max=5000)",
      "application/vnd.jupyter.widget-view+json": {
       "version_major": 2,
       "version_minor": 0,
       "model_id": "cd602a82062f497c903b03bedd347f1e"
      }
     },
     "metadata": {}
    },
    {
     "output_type": "display_data",
     "data": {
      "text/plain": "IntProgress(value=0, description='Running', max=5000)",
      "application/vnd.jupyter.widget-view+json": {
       "version_major": 2,
       "version_minor": 0,
       "model_id": "9f842e97f3aa4890a44e47979d6446a6"
      }
     },
     "metadata": {}
    },
    {
     "output_type": "display_data",
     "data": {
      "text/plain": "IntProgress(value=0, description='Running', max=5000)",
      "application/vnd.jupyter.widget-view+json": {
       "version_major": 2,
       "version_minor": 0,
       "model_id": "7dcf7ae12b964174b48407ad3ca64fa4"
      }
     },
     "metadata": {}
    },
    {
     "output_type": "display_data",
     "data": {
      "text/plain": "IntProgress(value=0, description='Running', max=5000)",
      "application/vnd.jupyter.widget-view+json": {
       "version_major": 2,
       "version_minor": 0,
       "model_id": "9cb0d1c153494ea5860593d4831e8887"
      }
     },
     "metadata": {}
    },
    {
     "output_type": "display_data",
     "data": {
      "text/plain": "IntProgress(value=0, description='Running', max=5000)",
      "application/vnd.jupyter.widget-view+json": {
       "version_major": 2,
       "version_minor": 0,
       "model_id": "1c718cb620114b6b8de9f1afe18ef4da"
      }
     },
     "metadata": {}
    },
    {
     "output_type": "display_data",
     "data": {
      "text/plain": "IntProgress(value=0, description='Running', max=5000)",
      "application/vnd.jupyter.widget-view+json": {
       "version_major": 2,
       "version_minor": 0,
       "model_id": "22e58b90af9a427792af228e0c1456b8"
      }
     },
     "metadata": {}
    },
    {
     "output_type": "display_data",
     "data": {
      "text/plain": "IntProgress(value=0, description='Running', max=5000)",
      "application/vnd.jupyter.widget-view+json": {
       "version_major": 2,
       "version_minor": 0,
       "model_id": "a3f9a3336edd46e7b72b6f2c31c2b7d5"
      }
     },
     "metadata": {}
    },
    {
     "output_type": "display_data",
     "data": {
      "text/plain": "IntProgress(value=0, description='Running', max=5000)",
      "application/vnd.jupyter.widget-view+json": {
       "version_major": 2,
       "version_minor": 0,
       "model_id": "9d4c49eb50044a41a42394d59ec56d91"
      }
     },
     "metadata": {}
    },
    {
     "output_type": "display_data",
     "data": {
      "text/plain": "IntProgress(value=0, description='Running', max=5000)",
      "application/vnd.jupyter.widget-view+json": {
       "version_major": 2,
       "version_minor": 0,
       "model_id": "f804ac1ec67c4cf58a0eebefc277cfcb"
      }
     },
     "metadata": {}
    },
    {
     "output_type": "display_data",
     "data": {
      "text/plain": "IntProgress(value=0, description='Running', max=5000)",
      "application/vnd.jupyter.widget-view+json": {
       "version_major": 2,
       "version_minor": 0,
       "model_id": "aa4ba46633344756a1545256c0a45dab"
      }
     },
     "metadata": {}
    },
    {
     "output_type": "display_data",
     "data": {
      "text/plain": "IntProgress(value=0, description='Running', max=5000)",
      "application/vnd.jupyter.widget-view+json": {
       "version_major": 2,
       "version_minor": 0,
       "model_id": "233dc0afbc7443eda74bbe3a0f29be6f"
      }
     },
     "metadata": {}
    },
    {
     "output_type": "display_data",
     "data": {
      "text/plain": "IntProgress(value=0, description='Running', max=5000)",
      "application/vnd.jupyter.widget-view+json": {
       "version_major": 2,
       "version_minor": 0,
       "model_id": "541c0d5aca20477bab0e1d2188939a15"
      }
     },
     "metadata": {}
    },
    {
     "output_type": "display_data",
     "data": {
      "text/plain": "IntProgress(value=0, description='Running', max=5000)",
      "application/vnd.jupyter.widget-view+json": {
       "version_major": 2,
       "version_minor": 0,
       "model_id": "2723b96257974da997113593ed8d807e"
      }
     },
     "metadata": {}
    },
    {
     "output_type": "display_data",
     "data": {
      "text/plain": "IntProgress(value=0, description='Running', max=5000)",
      "application/vnd.jupyter.widget-view+json": {
       "version_major": 2,
       "version_minor": 0,
       "model_id": "e1bae813bfe74aaeaaf541dcbbe02dfa"
      }
     },
     "metadata": {}
    },
    {
     "output_type": "display_data",
     "data": {
      "text/plain": "IntProgress(value=0, description='Running', max=5000)",
      "application/vnd.jupyter.widget-view+json": {
       "version_major": 2,
       "version_minor": 0,
       "model_id": "7c57f8a88ded4fa88145986b9a70779c"
      }
     },
     "metadata": {}
    },
    {
     "output_type": "display_data",
     "data": {
      "text/plain": "IntProgress(value=0, description='Running', max=5000)",
      "application/vnd.jupyter.widget-view+json": {
       "version_major": 2,
       "version_minor": 0,
       "model_id": "cdbd2a19dd6a42abb38c58c9f57e1037"
      }
     },
     "metadata": {}
    },
    {
     "output_type": "display_data",
     "data": {
      "text/plain": "IntProgress(value=0, description='Running', max=5000)",
      "application/vnd.jupyter.widget-view+json": {
       "version_major": 2,
       "version_minor": 0,
       "model_id": "8cce5ac0b40e424fbf481a7575b60db6"
      }
     },
     "metadata": {}
    },
    {
     "output_type": "display_data",
     "data": {
      "text/plain": "IntProgress(value=0, description='Running', max=5000)",
      "application/vnd.jupyter.widget-view+json": {
       "version_major": 2,
       "version_minor": 0,
       "model_id": "cf550684655c41268ba820caf9a4616d"
      }
     },
     "metadata": {}
    },
    {
     "output_type": "display_data",
     "data": {
      "text/plain": "IntProgress(value=0, description='Running', max=5000)",
      "application/vnd.jupyter.widget-view+json": {
       "version_major": 2,
       "version_minor": 0,
       "model_id": "2c4d9348221f47599350140badfcd083"
      }
     },
     "metadata": {}
    },
    {
     "output_type": "display_data",
     "data": {
      "text/plain": "IntProgress(value=0, description='Running', max=5000)",
      "application/vnd.jupyter.widget-view+json": {
       "version_major": 2,
       "version_minor": 0,
       "model_id": "a505829409584601b37f02c6e797ad28"
      }
     },
     "metadata": {}
    },
    {
     "output_type": "display_data",
     "data": {
      "text/plain": "IntProgress(value=0, description='Running', max=5000)",
      "application/vnd.jupyter.widget-view+json": {
       "version_major": 2,
       "version_minor": 0,
       "model_id": "d80a1050102e4eba9458c95e37660a63"
      }
     },
     "metadata": {}
    },
    {
     "output_type": "display_data",
     "data": {
      "text/plain": "IntProgress(value=0, description='Running', max=5000)",
      "application/vnd.jupyter.widget-view+json": {
       "version_major": 2,
       "version_minor": 0,
       "model_id": "2381c46eb8cb4721ad061f525d27737c"
      }
     },
     "metadata": {}
    },
    {
     "output_type": "display_data",
     "data": {
      "text/plain": "IntProgress(value=0, description='Running', max=5000)",
      "application/vnd.jupyter.widget-view+json": {
       "version_major": 2,
       "version_minor": 0,
       "model_id": "02945888abab4650a9ffced5bc355abb"
      }
     },
     "metadata": {}
    },
    {
     "output_type": "display_data",
     "data": {
      "text/plain": "IntProgress(value=0, description='Running', max=5000)",
      "application/vnd.jupyter.widget-view+json": {
       "version_major": 2,
       "version_minor": 0,
       "model_id": "e2f136980d874f43bfc9dff56e9c5bb8"
      }
     },
     "metadata": {}
    },
    {
     "output_type": "display_data",
     "data": {
      "text/plain": "IntProgress(value=0, description='Running', max=5000)",
      "application/vnd.jupyter.widget-view+json": {
       "version_major": 2,
       "version_minor": 0,
       "model_id": "534bbc4ff19f4a93aadcfceccc41a8bf"
      }
     },
     "metadata": {}
    },
    {
     "output_type": "display_data",
     "data": {
      "text/plain": "IntProgress(value=0, description='Running', max=5000)",
      "application/vnd.jupyter.widget-view+json": {
       "version_major": 2,
       "version_minor": 0,
       "model_id": "e0f5cb58f9e14e4687d9ca7e0fd68ea9"
      }
     },
     "metadata": {}
    },
    {
     "output_type": "display_data",
     "data": {
      "text/plain": "IntProgress(value=0, description='Running', max=5000)",
      "application/vnd.jupyter.widget-view+json": {
       "version_major": 2,
       "version_minor": 0,
       "model_id": "8643019d8e934ed09fc0cd1abbea291f"
      }
     },
     "metadata": {}
    },
    {
     "output_type": "display_data",
     "data": {
      "text/plain": "IntProgress(value=0, description='Running', max=5000)",
      "application/vnd.jupyter.widget-view+json": {
       "version_major": 2,
       "version_minor": 0,
       "model_id": "3e65c21743ca4fb2bd6621d289d9507c"
      }
     },
     "metadata": {}
    },
    {
     "output_type": "display_data",
     "data": {
      "text/plain": "IntProgress(value=0, description='Running', max=5000)",
      "application/vnd.jupyter.widget-view+json": {
       "version_major": 2,
       "version_minor": 0,
       "model_id": "5b4c5c0df8584c168e83347732d09ec4"
      }
     },
     "metadata": {}
    },
    {
     "output_type": "display_data",
     "data": {
      "text/plain": "IntProgress(value=0, description='Running', max=5000)",
      "application/vnd.jupyter.widget-view+json": {
       "version_major": 2,
       "version_minor": 0,
       "model_id": "eb737af8ce364d389e3ad27334cb1f7d"
      }
     },
     "metadata": {}
    },
    {
     "output_type": "display_data",
     "data": {
      "text/plain": "IntProgress(value=0, description='Running', max=5000)",
      "application/vnd.jupyter.widget-view+json": {
       "version_major": 2,
       "version_minor": 0,
       "model_id": "f17a792ca4894e7d9b6ffcabb1cf80e3"
      }
     },
     "metadata": {}
    },
    {
     "output_type": "display_data",
     "data": {
      "text/plain": "IntProgress(value=0, description='Running', max=5000)",
      "application/vnd.jupyter.widget-view+json": {
       "version_major": 2,
       "version_minor": 0,
       "model_id": "5814fda6ccbe4bd7bba45a326be0abb5"
      }
     },
     "metadata": {}
    },
    {
     "output_type": "display_data",
     "data": {
      "text/plain": "IntProgress(value=0, description='Running', max=5000)",
      "application/vnd.jupyter.widget-view+json": {
       "version_major": 2,
       "version_minor": 0,
       "model_id": "c83b756d859348cdbc7f6279fbb1f36c"
      }
     },
     "metadata": {}
    },
    {
     "output_type": "display_data",
     "data": {
      "text/plain": "IntProgress(value=0, description='Running', max=5000)",
      "application/vnd.jupyter.widget-view+json": {
       "version_major": 2,
       "version_minor": 0,
       "model_id": "64c9bafc831848a68a0610184fefc51b"
      }
     },
     "metadata": {}
    },
    {
     "output_type": "display_data",
     "data": {
      "text/plain": "IntProgress(value=0, description='Running', max=5000)",
      "application/vnd.jupyter.widget-view+json": {
       "version_major": 2,
       "version_minor": 0,
       "model_id": "0819100d3798410d9bf92cb9279f31a8"
      }
     },
     "metadata": {}
    },
    {
     "output_type": "display_data",
     "data": {
      "text/plain": "IntProgress(value=0, description='Running', max=5000)",
      "application/vnd.jupyter.widget-view+json": {
       "version_major": 2,
       "version_minor": 0,
       "model_id": "ef1df52a5f034828b8fc2caf7efb43a0"
      }
     },
     "metadata": {}
    }
   ],
   "source": [
    "for budget in [1000, 1250, 1500, 1750, 2000, 2250, 2500, 2750, 3000, 3250, 3500, 3750, 4000]:\n",
    "# for budget in [500, 750, 1000, 1250, 1500, 1750, 2000, 2250, 2500]:\n",
    "# for budget in [500]:\n",
    "    # run_exper(rewards_env, true_ss_dict, Q_SAR_Simplified_Large_Margin, epsilon, m, budget, num_exper)\n",
    "\n",
    "    # run_exper(rewards_env, true_ss_dict, Q_SAR, epsilon, m, budget, num_exper)\n",
    "    run_exper(rewards_env, true_ss_dict, Q_SR, epsilon, m, budget, num_exper)\n",
    "\n",
    "    run_exper(rewards_env, true_ss_dict, Q_SAR_Simplified, epsilon, m, budget, num_exper)\n",
    "\n",
    "    # run_exper(rewards_env, true_ss_dict, OS_SAR_Simplified, epsilon, m, budget, num_exper)\n",
    "\n",
    "    run_exper(rewards_env, true_ss_dict, batch_elimination, epsilon, m, budget, num_exper)\n",
    "\n",
    "    run_exper(rewards_env, true_ss_dict, uniform_sampling, epsilon, m, budget, num_exper)"
   ]
  },
  {
   "cell_type": "code",
   "execution_count": 9,
   "metadata": {
    "tags": []
   },
   "outputs": [
    {
     "output_type": "stream",
     "name": "stdout",
     "text": "Budget  Probability of Error       std     Policy\n0   1000                0.4988  0.050000       Q-SR\n1   1000                0.5016  0.050000      Q-SAR\n2   1000                0.5548  0.049699       Q-BS\n3   1000                0.7216  0.044821  Q-Uniform\n4   1250                0.3900  0.048775       Q-SR\n"
    },
    {
     "output_type": "execute_result",
     "data": {
      "text/plain": "   Budget  Probability of Error       std     Policy\n0    1000                0.4988  0.050000       Q-SR\n1    1000                0.5016  0.050000      Q-SAR\n2    1000                0.5548  0.049699       Q-BS\n3    1000                0.7216  0.044821  Q-Uniform\n4    1250                0.3900  0.048775       Q-SR\n5    1250                0.3852  0.048664      Q-SAR\n6    1250                0.5474  0.049775       Q-BS\n7    1250                0.6452  0.047845  Q-Uniform\n8    1500                0.3098  0.046241       Q-SR\n9    1500                0.2778  0.044791      Q-SAR\n10   1500                0.4222  0.049391       Q-BS\n11   1500                0.5698  0.049510  Q-Uniform\n12   1750                0.2356  0.042437       Q-SR\n13   1750                0.2002  0.040015      Q-SAR\n14   1750                0.3206  0.046671       Q-BS\n15   1750                0.4986  0.050000  Q-Uniform\n16   2000                0.1742  0.037928       Q-SR\n17   2000                0.1354  0.034215      Q-SAR\n18   2000                0.2456  0.043044       Q-BS\n19   2000                0.4404  0.049644  Q-Uniform\n20   2250                0.1412  0.034823       Q-SR\n21   2250                0.1046  0.030604      Q-SAR\n22   2250                0.2394  0.042672       Q-BS\n23   2250                0.3740  0.048386  Q-Uniform\n24   2500                0.1082  0.031063       Q-SR\n25   2500                0.0608  0.023896      Q-SAR\n26   2500                0.1748  0.037980       Q-BS\n27   2500                0.3304  0.047036  Q-Uniform\n28   2750                0.0718  0.025816       Q-SR\n29   2750                0.0478  0.021334      Q-SAR\n30   2750                0.1298  0.033608       Q-BS\n31   2750                0.2968  0.045685  Q-Uniform\n32   3000                0.0616  0.024043       Q-SR\n33   3000                0.0334  0.017968      Q-SAR\n34   3000                0.0942  0.029211       Q-BS\n35   3000                0.2440  0.042949  Q-Uniform\n36   3250                0.0474  0.021249       Q-SR\n37   3250                0.0238  0.015243      Q-SAR\n38   3250                0.0688  0.025311       Q-BS\n39   3250                0.2144  0.041041  Q-Uniform\n40   3500                0.0308  0.017278       Q-SR\n41   3500                0.0128  0.011241      Q-SAR\n42   3500                0.0682  0.025209       Q-BS\n43   3500                0.1774  0.038201  Q-Uniform\n44   3750                0.0220  0.014668       Q-SR\n45   3750                0.0122  0.010978      Q-SAR\n46   3750                0.0490  0.021587       Q-BS\n47   3750                0.1532  0.036018  Q-Uniform\n48   4000                0.0184  0.013439       Q-SR\n49   4000                0.0070  0.008337      Q-SAR\n50   4000                0.0332  0.017916       Q-BS\n51   4000                0.1378  0.034469  Q-Uniform",
      "text/html": "<div>\n<style scoped>\n    .dataframe tbody tr th:only-of-type {\n        vertical-align: middle;\n    }\n\n    .dataframe tbody tr th {\n        vertical-align: top;\n    }\n\n    .dataframe thead th {\n        text-align: right;\n    }\n</style>\n<table border=\"1\" class=\"dataframe\">\n  <thead>\n    <tr style=\"text-align: right;\">\n      <th></th>\n      <th>Budget</th>\n      <th>Probability of Error</th>\n      <th>std</th>\n      <th>Policy</th>\n    </tr>\n  </thead>\n  <tbody>\n    <tr>\n      <th>0</th>\n      <td>1000</td>\n      <td>0.4988</td>\n      <td>0.050000</td>\n      <td>Q-SR</td>\n    </tr>\n    <tr>\n      <th>1</th>\n      <td>1000</td>\n      <td>0.5016</td>\n      <td>0.050000</td>\n      <td>Q-SAR</td>\n    </tr>\n    <tr>\n      <th>2</th>\n      <td>1000</td>\n      <td>0.5548</td>\n      <td>0.049699</td>\n      <td>Q-BS</td>\n    </tr>\n    <tr>\n      <th>3</th>\n      <td>1000</td>\n      <td>0.7216</td>\n      <td>0.044821</td>\n      <td>Q-Uniform</td>\n    </tr>\n    <tr>\n      <th>4</th>\n      <td>1250</td>\n      <td>0.3900</td>\n      <td>0.048775</td>\n      <td>Q-SR</td>\n    </tr>\n    <tr>\n      <th>5</th>\n      <td>1250</td>\n      <td>0.3852</td>\n      <td>0.048664</td>\n      <td>Q-SAR</td>\n    </tr>\n    <tr>\n      <th>6</th>\n      <td>1250</td>\n      <td>0.5474</td>\n      <td>0.049775</td>\n      <td>Q-BS</td>\n    </tr>\n    <tr>\n      <th>7</th>\n      <td>1250</td>\n      <td>0.6452</td>\n      <td>0.047845</td>\n      <td>Q-Uniform</td>\n    </tr>\n    <tr>\n      <th>8</th>\n      <td>1500</td>\n      <td>0.3098</td>\n      <td>0.046241</td>\n      <td>Q-SR</td>\n    </tr>\n    <tr>\n      <th>9</th>\n      <td>1500</td>\n      <td>0.2778</td>\n      <td>0.044791</td>\n      <td>Q-SAR</td>\n    </tr>\n    <tr>\n      <th>10</th>\n      <td>1500</td>\n      <td>0.4222</td>\n      <td>0.049391</td>\n      <td>Q-BS</td>\n    </tr>\n    <tr>\n      <th>11</th>\n      <td>1500</td>\n      <td>0.5698</td>\n      <td>0.049510</td>\n      <td>Q-Uniform</td>\n    </tr>\n    <tr>\n      <th>12</th>\n      <td>1750</td>\n      <td>0.2356</td>\n      <td>0.042437</td>\n      <td>Q-SR</td>\n    </tr>\n    <tr>\n      <th>13</th>\n      <td>1750</td>\n      <td>0.2002</td>\n      <td>0.040015</td>\n      <td>Q-SAR</td>\n    </tr>\n    <tr>\n      <th>14</th>\n      <td>1750</td>\n      <td>0.3206</td>\n      <td>0.046671</td>\n      <td>Q-BS</td>\n    </tr>\n    <tr>\n      <th>15</th>\n      <td>1750</td>\n      <td>0.4986</td>\n      <td>0.050000</td>\n      <td>Q-Uniform</td>\n    </tr>\n    <tr>\n      <th>16</th>\n      <td>2000</td>\n      <td>0.1742</td>\n      <td>0.037928</td>\n      <td>Q-SR</td>\n    </tr>\n    <tr>\n      <th>17</th>\n      <td>2000</td>\n      <td>0.1354</td>\n      <td>0.034215</td>\n      <td>Q-SAR</td>\n    </tr>\n    <tr>\n      <th>18</th>\n      <td>2000</td>\n      <td>0.2456</td>\n      <td>0.043044</td>\n      <td>Q-BS</td>\n    </tr>\n    <tr>\n      <th>19</th>\n      <td>2000</td>\n      <td>0.4404</td>\n      <td>0.049644</td>\n      <td>Q-Uniform</td>\n    </tr>\n    <tr>\n      <th>20</th>\n      <td>2250</td>\n      <td>0.1412</td>\n      <td>0.034823</td>\n      <td>Q-SR</td>\n    </tr>\n    <tr>\n      <th>21</th>\n      <td>2250</td>\n      <td>0.1046</td>\n      <td>0.030604</td>\n      <td>Q-SAR</td>\n    </tr>\n    <tr>\n      <th>22</th>\n      <td>2250</td>\n      <td>0.2394</td>\n      <td>0.042672</td>\n      <td>Q-BS</td>\n    </tr>\n    <tr>\n      <th>23</th>\n      <td>2250</td>\n      <td>0.3740</td>\n      <td>0.048386</td>\n      <td>Q-Uniform</td>\n    </tr>\n    <tr>\n      <th>24</th>\n      <td>2500</td>\n      <td>0.1082</td>\n      <td>0.031063</td>\n      <td>Q-SR</td>\n    </tr>\n    <tr>\n      <th>25</th>\n      <td>2500</td>\n      <td>0.0608</td>\n      <td>0.023896</td>\n      <td>Q-SAR</td>\n    </tr>\n    <tr>\n      <th>26</th>\n      <td>2500</td>\n      <td>0.1748</td>\n      <td>0.037980</td>\n      <td>Q-BS</td>\n    </tr>\n    <tr>\n      <th>27</th>\n      <td>2500</td>\n      <td>0.3304</td>\n      <td>0.047036</td>\n      <td>Q-Uniform</td>\n    </tr>\n    <tr>\n      <th>28</th>\n      <td>2750</td>\n      <td>0.0718</td>\n      <td>0.025816</td>\n      <td>Q-SR</td>\n    </tr>\n    <tr>\n      <th>29</th>\n      <td>2750</td>\n      <td>0.0478</td>\n      <td>0.021334</td>\n      <td>Q-SAR</td>\n    </tr>\n    <tr>\n      <th>30</th>\n      <td>2750</td>\n      <td>0.1298</td>\n      <td>0.033608</td>\n      <td>Q-BS</td>\n    </tr>\n    <tr>\n      <th>31</th>\n      <td>2750</td>\n      <td>0.2968</td>\n      <td>0.045685</td>\n      <td>Q-Uniform</td>\n    </tr>\n    <tr>\n      <th>32</th>\n      <td>3000</td>\n      <td>0.0616</td>\n      <td>0.024043</td>\n      <td>Q-SR</td>\n    </tr>\n    <tr>\n      <th>33</th>\n      <td>3000</td>\n      <td>0.0334</td>\n      <td>0.017968</td>\n      <td>Q-SAR</td>\n    </tr>\n    <tr>\n      <th>34</th>\n      <td>3000</td>\n      <td>0.0942</td>\n      <td>0.029211</td>\n      <td>Q-BS</td>\n    </tr>\n    <tr>\n      <th>35</th>\n      <td>3000</td>\n      <td>0.2440</td>\n      <td>0.042949</td>\n      <td>Q-Uniform</td>\n    </tr>\n    <tr>\n      <th>36</th>\n      <td>3250</td>\n      <td>0.0474</td>\n      <td>0.021249</td>\n      <td>Q-SR</td>\n    </tr>\n    <tr>\n      <th>37</th>\n      <td>3250</td>\n      <td>0.0238</td>\n      <td>0.015243</td>\n      <td>Q-SAR</td>\n    </tr>\n    <tr>\n      <th>38</th>\n      <td>3250</td>\n      <td>0.0688</td>\n      <td>0.025311</td>\n      <td>Q-BS</td>\n    </tr>\n    <tr>\n      <th>39</th>\n      <td>3250</td>\n      <td>0.2144</td>\n      <td>0.041041</td>\n      <td>Q-Uniform</td>\n    </tr>\n    <tr>\n      <th>40</th>\n      <td>3500</td>\n      <td>0.0308</td>\n      <td>0.017278</td>\n      <td>Q-SR</td>\n    </tr>\n    <tr>\n      <th>41</th>\n      <td>3500</td>\n      <td>0.0128</td>\n      <td>0.011241</td>\n      <td>Q-SAR</td>\n    </tr>\n    <tr>\n      <th>42</th>\n      <td>3500</td>\n      <td>0.0682</td>\n      <td>0.025209</td>\n      <td>Q-BS</td>\n    </tr>\n    <tr>\n      <th>43</th>\n      <td>3500</td>\n      <td>0.1774</td>\n      <td>0.038201</td>\n      <td>Q-Uniform</td>\n    </tr>\n    <tr>\n      <th>44</th>\n      <td>3750</td>\n      <td>0.0220</td>\n      <td>0.014668</td>\n      <td>Q-SR</td>\n    </tr>\n    <tr>\n      <th>45</th>\n      <td>3750</td>\n      <td>0.0122</td>\n      <td>0.010978</td>\n      <td>Q-SAR</td>\n    </tr>\n    <tr>\n      <th>46</th>\n      <td>3750</td>\n      <td>0.0490</td>\n      <td>0.021587</td>\n      <td>Q-BS</td>\n    </tr>\n    <tr>\n      <th>47</th>\n      <td>3750</td>\n      <td>0.1532</td>\n      <td>0.036018</td>\n      <td>Q-Uniform</td>\n    </tr>\n    <tr>\n      <th>48</th>\n      <td>4000</td>\n      <td>0.0184</td>\n      <td>0.013439</td>\n      <td>Q-SR</td>\n    </tr>\n    <tr>\n      <th>49</th>\n      <td>4000</td>\n      <td>0.0070</td>\n      <td>0.008337</td>\n      <td>Q-SAR</td>\n    </tr>\n    <tr>\n      <th>50</th>\n      <td>4000</td>\n      <td>0.0332</td>\n      <td>0.017916</td>\n      <td>Q-BS</td>\n    </tr>\n    <tr>\n      <th>51</th>\n      <td>4000</td>\n      <td>0.1378</td>\n      <td>0.034469</td>\n      <td>Q-Uniform</td>\n    </tr>\n  </tbody>\n</table>\n</div>"
     },
     "metadata": {},
     "execution_count": 9
    },
    {
     "output_type": "display_data",
     "data": {
      "text/plain": "<Figure size 360x288 with 1 Axes>",
      "image/svg+xml": "<?xml version=\"1.0\" encoding=\"utf-8\" standalone=\"no\"?>\n<!DOCTYPE svg PUBLIC \"-//W3C//DTD SVG 1.1//EN\"\n  \"http://www.w3.org/Graphics/SVG/1.1/DTD/svg11.dtd\">\n<!-- Created with matplotlib (https://matplotlib.org/) -->\n<svg height=\"286.160625pt\" version=\"1.1\" viewBox=\"0 0 338.832869 286.160625\" width=\"338.832869pt\" xmlns=\"http://www.w3.org/2000/svg\" xmlns:xlink=\"http://www.w3.org/1999/xlink\">\n <defs>\n  <style type=\"text/css\">\n*{stroke-linecap:butt;stroke-linejoin:round;white-space:pre;}\n  </style>\n </defs>\n <g id=\"figure_1\">\n  <g id=\"patch_1\">\n   <path d=\"M -0 286.160625 \nL 338.832869 286.160625 \nL 338.832869 0 \nL -0 0 \nz\n\" style=\"fill:none;\"/>\n  </g>\n  <g id=\"axes_1\">\n   <g id=\"patch_2\">\n    <path d=\"M 51.399063 242.7975 \nL 330.399063 242.7975 \nL 330.399063 25.3575 \nL 51.399063 25.3575 \nz\n\" style=\"fill:#ffffff;\"/>\n   </g>\n   <g id=\"matplotlib.axis_1\">\n    <g id=\"xtick_1\">\n     <g id=\"line2d_1\">\n      <defs>\n       <path d=\"M 0 0 \nL 0 3.5 \n\" id=\"m941d8610c1\" style=\"stroke:#000000;stroke-width:0.8;\"/>\n      </defs>\n      <g>\n       <use style=\"stroke:#000000;stroke-width:0.8;\" x=\"64.080881\" xlink:href=\"#m941d8610c1\" y=\"242.7975\"/>\n      </g>\n     </g>\n     <g id=\"text_1\">\n      <!-- 1000 -->\n      <defs>\n       <path d=\"M 11.71875 12.984375 \nL 28.328125 12.984375 \nL 28.328125 60.109375 \nL 11.28125 56.59375 \nL 11.28125 69.390625 \nL 28.21875 72.90625 \nL 46.09375 72.90625 \nL 46.09375 12.984375 \nL 62.703125 12.984375 \nL 62.703125 0 \nL 11.71875 0 \nz\n\" id=\"DejaVuSans-Bold-49\"/>\n       <path d=\"M 46 36.53125 \nQ 46 50.203125 43.4375 55.78125 \nQ 40.875 61.375 34.8125 61.375 \nQ 28.765625 61.375 26.171875 55.78125 \nQ 23.578125 50.203125 23.578125 36.53125 \nQ 23.578125 22.703125 26.171875 17.03125 \nQ 28.765625 11.375 34.8125 11.375 \nQ 40.828125 11.375 43.40625 17.03125 \nQ 46 22.703125 46 36.53125 \nz\nM 64.796875 36.375 \nQ 64.796875 18.265625 56.984375 8.421875 \nQ 49.171875 -1.421875 34.8125 -1.421875 \nQ 20.40625 -1.421875 12.59375 8.421875 \nQ 4.78125 18.265625 4.78125 36.375 \nQ 4.78125 54.546875 12.59375 64.375 \nQ 20.40625 74.21875 34.8125 74.21875 \nQ 49.171875 74.21875 56.984375 64.375 \nQ 64.796875 54.546875 64.796875 36.375 \nz\n\" id=\"DejaVuSans-Bold-48\"/>\n      </defs>\n      <g transform=\"translate(50.165256 257.395938)scale(0.1 -0.1)\">\n       <use xlink:href=\"#DejaVuSans-Bold-49\"/>\n       <use x=\"69.580078\" xlink:href=\"#DejaVuSans-Bold-48\"/>\n       <use x=\"139.160156\" xlink:href=\"#DejaVuSans-Bold-48\"/>\n       <use x=\"208.740234\" xlink:href=\"#DejaVuSans-Bold-48\"/>\n      </g>\n     </g>\n    </g>\n    <g id=\"xtick_2\">\n     <g id=\"line2d_2\">\n      <g>\n       <use style=\"stroke:#000000;stroke-width:0.8;\" x=\"106.353608\" xlink:href=\"#m941d8610c1\" y=\"242.7975\"/>\n      </g>\n     </g>\n     <g id=\"text_2\">\n      <!-- 1500 -->\n      <defs>\n       <path d=\"M 10.59375 72.90625 \nL 57.328125 72.90625 \nL 57.328125 59.078125 \nL 25.59375 59.078125 \nL 25.59375 47.796875 \nQ 27.734375 48.390625 29.90625 48.703125 \nQ 32.078125 49.03125 34.421875 49.03125 \nQ 47.75 49.03125 55.171875 42.359375 \nQ 62.59375 35.6875 62.59375 23.78125 \nQ 62.59375 11.96875 54.515625 5.265625 \nQ 46.4375 -1.421875 32.078125 -1.421875 \nQ 25.875 -1.421875 19.796875 -0.21875 \nQ 13.71875 0.984375 7.71875 3.421875 \nL 7.71875 18.21875 \nQ 13.671875 14.796875 19.015625 13.078125 \nQ 24.359375 11.375 29.109375 11.375 \nQ 35.9375 11.375 39.859375 14.71875 \nQ 43.796875 18.0625 43.796875 23.78125 \nQ 43.796875 29.546875 39.859375 32.859375 \nQ 35.9375 36.1875 29.109375 36.1875 \nQ 25.046875 36.1875 20.453125 35.125 \nQ 15.875 34.078125 10.59375 31.890625 \nz\n\" id=\"DejaVuSans-Bold-53\"/>\n      </defs>\n      <g transform=\"translate(92.437983 257.395938)scale(0.1 -0.1)\">\n       <use xlink:href=\"#DejaVuSans-Bold-49\"/>\n       <use x=\"69.580078\" xlink:href=\"#DejaVuSans-Bold-53\"/>\n       <use x=\"139.160156\" xlink:href=\"#DejaVuSans-Bold-48\"/>\n       <use x=\"208.740234\" xlink:href=\"#DejaVuSans-Bold-48\"/>\n      </g>\n     </g>\n    </g>\n    <g id=\"xtick_3\">\n     <g id=\"line2d_3\">\n      <g>\n       <use style=\"stroke:#000000;stroke-width:0.8;\" x=\"148.626335\" xlink:href=\"#m941d8610c1\" y=\"242.7975\"/>\n      </g>\n     </g>\n     <g id=\"text_3\">\n      <!-- 2000 -->\n      <defs>\n       <path d=\"M 28.8125 13.8125 \nL 60.890625 13.8125 \nL 60.890625 0 \nL 7.90625 0 \nL 7.90625 13.8125 \nL 34.515625 37.3125 \nQ 38.09375 40.53125 39.796875 43.609375 \nQ 41.5 46.6875 41.5 50 \nQ 41.5 55.125 38.0625 58.25 \nQ 34.625 61.375 28.90625 61.375 \nQ 24.515625 61.375 19.28125 59.5 \nQ 14.0625 57.625 8.109375 53.90625 \nL 8.109375 69.921875 \nQ 14.453125 72.015625 20.65625 73.109375 \nQ 26.859375 74.21875 32.8125 74.21875 \nQ 45.90625 74.21875 53.15625 68.453125 \nQ 60.40625 62.703125 60.40625 52.390625 \nQ 60.40625 46.4375 57.328125 41.28125 \nQ 54.25 36.140625 44.390625 27.484375 \nz\n\" id=\"DejaVuSans-Bold-50\"/>\n      </defs>\n      <g transform=\"translate(134.71071 257.395938)scale(0.1 -0.1)\">\n       <use xlink:href=\"#DejaVuSans-Bold-50\"/>\n       <use x=\"69.580078\" xlink:href=\"#DejaVuSans-Bold-48\"/>\n       <use x=\"139.160156\" xlink:href=\"#DejaVuSans-Bold-48\"/>\n       <use x=\"208.740234\" xlink:href=\"#DejaVuSans-Bold-48\"/>\n      </g>\n     </g>\n    </g>\n    <g id=\"xtick_4\">\n     <g id=\"line2d_4\">\n      <g>\n       <use style=\"stroke:#000000;stroke-width:0.8;\" x=\"190.899063\" xlink:href=\"#m941d8610c1\" y=\"242.7975\"/>\n      </g>\n     </g>\n     <g id=\"text_4\">\n      <!-- 2500 -->\n      <g transform=\"translate(176.983438 257.395938)scale(0.1 -0.1)\">\n       <use xlink:href=\"#DejaVuSans-Bold-50\"/>\n       <use x=\"69.580078\" xlink:href=\"#DejaVuSans-Bold-53\"/>\n       <use x=\"139.160156\" xlink:href=\"#DejaVuSans-Bold-48\"/>\n       <use x=\"208.740234\" xlink:href=\"#DejaVuSans-Bold-48\"/>\n      </g>\n     </g>\n    </g>\n    <g id=\"xtick_5\">\n     <g id=\"line2d_5\">\n      <g>\n       <use style=\"stroke:#000000;stroke-width:0.8;\" x=\"233.17179\" xlink:href=\"#m941d8610c1\" y=\"242.7975\"/>\n      </g>\n     </g>\n     <g id=\"text_5\">\n      <!-- 3000 -->\n      <defs>\n       <path d=\"M 46.578125 39.3125 \nQ 53.953125 37.40625 57.78125 32.6875 \nQ 61.625 27.984375 61.625 20.703125 \nQ 61.625 9.859375 53.3125 4.21875 \nQ 45.015625 -1.421875 29.109375 -1.421875 \nQ 23.484375 -1.421875 17.84375 -0.515625 \nQ 12.203125 0.390625 6.6875 2.203125 \nL 6.6875 16.703125 \nQ 11.96875 14.0625 17.15625 12.71875 \nQ 22.359375 11.375 27.390625 11.375 \nQ 34.859375 11.375 38.84375 13.953125 \nQ 42.828125 16.546875 42.828125 21.390625 \nQ 42.828125 26.375 38.75 28.9375 \nQ 34.671875 31.5 26.703125 31.5 \nL 19.1875 31.5 \nL 19.1875 43.609375 \nL 27.09375 43.609375 \nQ 34.1875 43.609375 37.640625 45.828125 \nQ 41.109375 48.046875 41.109375 52.59375 \nQ 41.109375 56.78125 37.734375 59.078125 \nQ 34.375 61.375 28.21875 61.375 \nQ 23.6875 61.375 19.046875 60.34375 \nQ 14.40625 59.328125 9.8125 57.328125 \nL 9.8125 71.09375 \nQ 15.375 72.65625 20.84375 73.4375 \nQ 26.3125 74.21875 31.59375 74.21875 \nQ 45.796875 74.21875 52.84375 69.546875 \nQ 59.90625 64.890625 59.90625 55.515625 \nQ 59.90625 49.125 56.53125 45.046875 \nQ 53.171875 40.96875 46.578125 39.3125 \nz\n\" id=\"DejaVuSans-Bold-51\"/>\n      </defs>\n      <g transform=\"translate(219.256165 257.395938)scale(0.1 -0.1)\">\n       <use xlink:href=\"#DejaVuSans-Bold-51\"/>\n       <use x=\"69.580078\" xlink:href=\"#DejaVuSans-Bold-48\"/>\n       <use x=\"139.160156\" xlink:href=\"#DejaVuSans-Bold-48\"/>\n       <use x=\"208.740234\" xlink:href=\"#DejaVuSans-Bold-48\"/>\n      </g>\n     </g>\n    </g>\n    <g id=\"xtick_6\">\n     <g id=\"line2d_6\">\n      <g>\n       <use style=\"stroke:#000000;stroke-width:0.8;\" x=\"275.444517\" xlink:href=\"#m941d8610c1\" y=\"242.7975\"/>\n      </g>\n     </g>\n     <g id=\"text_6\">\n      <!-- 3500 -->\n      <g transform=\"translate(261.528892 257.395938)scale(0.1 -0.1)\">\n       <use xlink:href=\"#DejaVuSans-Bold-51\"/>\n       <use x=\"69.580078\" xlink:href=\"#DejaVuSans-Bold-53\"/>\n       <use x=\"139.160156\" xlink:href=\"#DejaVuSans-Bold-48\"/>\n       <use x=\"208.740234\" xlink:href=\"#DejaVuSans-Bold-48\"/>\n      </g>\n     </g>\n    </g>\n    <g id=\"xtick_7\">\n     <g id=\"line2d_7\">\n      <g>\n       <use style=\"stroke:#000000;stroke-width:0.8;\" x=\"317.717244\" xlink:href=\"#m941d8610c1\" y=\"242.7975\"/>\n      </g>\n     </g>\n     <g id=\"text_7\">\n      <!-- 4000 -->\n      <defs>\n       <path d=\"M 36.8125 57.421875 \nL 16.21875 26.90625 \nL 36.8125 26.90625 \nz\nM 33.6875 72.90625 \nL 54.59375 72.90625 \nL 54.59375 26.90625 \nL 64.984375 26.90625 \nL 64.984375 13.28125 \nL 54.59375 13.28125 \nL 54.59375 0 \nL 36.8125 0 \nL 36.8125 13.28125 \nL 4.5 13.28125 \nL 4.5 29.390625 \nz\n\" id=\"DejaVuSans-Bold-52\"/>\n      </defs>\n      <g transform=\"translate(303.801619 257.395938)scale(0.1 -0.1)\">\n       <use xlink:href=\"#DejaVuSans-Bold-52\"/>\n       <use x=\"69.580078\" xlink:href=\"#DejaVuSans-Bold-48\"/>\n       <use x=\"139.160156\" xlink:href=\"#DejaVuSans-Bold-48\"/>\n       <use x=\"208.740234\" xlink:href=\"#DejaVuSans-Bold-48\"/>\n      </g>\n     </g>\n    </g>\n    <g id=\"text_8\">\n     <!-- Budget -->\n     <defs>\n      <path d=\"M 19.671875 34.8125 \nL 19.671875 8.109375 \nL 35.5 8.109375 \nQ 43.453125 8.109375 47.28125 11.40625 \nQ 51.125 14.703125 51.125 21.484375 \nQ 51.125 28.328125 47.28125 31.5625 \nQ 43.453125 34.8125 35.5 34.8125 \nz\nM 19.671875 64.796875 \nL 19.671875 42.828125 \nL 34.28125 42.828125 \nQ 41.5 42.828125 45.03125 45.53125 \nQ 48.578125 48.25 48.578125 53.8125 \nQ 48.578125 59.328125 45.03125 62.0625 \nQ 41.5 64.796875 34.28125 64.796875 \nz\nM 9.8125 72.90625 \nL 35.015625 72.90625 \nQ 46.296875 72.90625 52.390625 68.21875 \nQ 58.5 63.53125 58.5 54.890625 \nQ 58.5 48.1875 55.375 44.234375 \nQ 52.25 40.28125 46.1875 39.3125 \nQ 53.46875 37.75 57.5 32.78125 \nQ 61.53125 27.828125 61.53125 20.40625 \nQ 61.53125 10.640625 54.890625 5.3125 \nQ 48.25 0 35.984375 0 \nL 9.8125 0 \nz\n\" id=\"DejaVuSans-66\"/>\n      <path d=\"M 8.5 21.578125 \nL 8.5 54.6875 \nL 17.484375 54.6875 \nL 17.484375 21.921875 \nQ 17.484375 14.15625 20.5 10.265625 \nQ 23.53125 6.390625 29.59375 6.390625 \nQ 36.859375 6.390625 41.078125 11.03125 \nQ 45.3125 15.671875 45.3125 23.6875 \nL 45.3125 54.6875 \nL 54.296875 54.6875 \nL 54.296875 0 \nL 45.3125 0 \nL 45.3125 8.40625 \nQ 42.046875 3.421875 37.71875 1 \nQ 33.40625 -1.421875 27.6875 -1.421875 \nQ 18.265625 -1.421875 13.375 4.4375 \nQ 8.5 10.296875 8.5 21.578125 \nz\nM 31.109375 56 \nz\n\" id=\"DejaVuSans-117\"/>\n      <path d=\"M 45.40625 46.390625 \nL 45.40625 75.984375 \nL 54.390625 75.984375 \nL 54.390625 0 \nL 45.40625 0 \nL 45.40625 8.203125 \nQ 42.578125 3.328125 38.25 0.953125 \nQ 33.9375 -1.421875 27.875 -1.421875 \nQ 17.96875 -1.421875 11.734375 6.484375 \nQ 5.515625 14.40625 5.515625 27.296875 \nQ 5.515625 40.1875 11.734375 48.09375 \nQ 17.96875 56 27.875 56 \nQ 33.9375 56 38.25 53.625 \nQ 42.578125 51.265625 45.40625 46.390625 \nz\nM 14.796875 27.296875 \nQ 14.796875 17.390625 18.875 11.75 \nQ 22.953125 6.109375 30.078125 6.109375 \nQ 37.203125 6.109375 41.296875 11.75 \nQ 45.40625 17.390625 45.40625 27.296875 \nQ 45.40625 37.203125 41.296875 42.84375 \nQ 37.203125 48.484375 30.078125 48.484375 \nQ 22.953125 48.484375 18.875 42.84375 \nQ 14.796875 37.203125 14.796875 27.296875 \nz\n\" id=\"DejaVuSans-100\"/>\n      <path d=\"M 45.40625 27.984375 \nQ 45.40625 37.75 41.375 43.109375 \nQ 37.359375 48.484375 30.078125 48.484375 \nQ 22.859375 48.484375 18.828125 43.109375 \nQ 14.796875 37.75 14.796875 27.984375 \nQ 14.796875 18.265625 18.828125 12.890625 \nQ 22.859375 7.515625 30.078125 7.515625 \nQ 37.359375 7.515625 41.375 12.890625 \nQ 45.40625 18.265625 45.40625 27.984375 \nz\nM 54.390625 6.78125 \nQ 54.390625 -7.171875 48.1875 -13.984375 \nQ 42 -20.796875 29.203125 -20.796875 \nQ 24.46875 -20.796875 20.265625 -20.09375 \nQ 16.0625 -19.390625 12.109375 -17.921875 \nL 12.109375 -9.1875 \nQ 16.0625 -11.328125 19.921875 -12.34375 \nQ 23.78125 -13.375 27.78125 -13.375 \nQ 36.625 -13.375 41.015625 -8.765625 \nQ 45.40625 -4.15625 45.40625 5.171875 \nL 45.40625 9.625 \nQ 42.625 4.78125 38.28125 2.390625 \nQ 33.9375 0 27.875 0 \nQ 17.828125 0 11.671875 7.65625 \nQ 5.515625 15.328125 5.515625 27.984375 \nQ 5.515625 40.671875 11.671875 48.328125 \nQ 17.828125 56 27.875 56 \nQ 33.9375 56 38.28125 53.609375 \nQ 42.625 51.21875 45.40625 46.390625 \nL 45.40625 54.6875 \nL 54.390625 54.6875 \nz\n\" id=\"DejaVuSans-103\"/>\n      <path d=\"M 56.203125 29.59375 \nL 56.203125 25.203125 \nL 14.890625 25.203125 \nQ 15.484375 15.921875 20.484375 11.0625 \nQ 25.484375 6.203125 34.421875 6.203125 \nQ 39.59375 6.203125 44.453125 7.46875 \nQ 49.3125 8.734375 54.109375 11.28125 \nL 54.109375 2.78125 \nQ 49.265625 0.734375 44.1875 -0.34375 \nQ 39.109375 -1.421875 33.890625 -1.421875 \nQ 20.796875 -1.421875 13.15625 6.1875 \nQ 5.515625 13.8125 5.515625 26.8125 \nQ 5.515625 40.234375 12.765625 48.109375 \nQ 20.015625 56 32.328125 56 \nQ 43.359375 56 49.78125 48.890625 \nQ 56.203125 41.796875 56.203125 29.59375 \nz\nM 47.21875 32.234375 \nQ 47.125 39.59375 43.09375 43.984375 \nQ 39.0625 48.390625 32.421875 48.390625 \nQ 24.90625 48.390625 20.390625 44.140625 \nQ 15.875 39.890625 15.1875 32.171875 \nz\n\" id=\"DejaVuSans-101\"/>\n      <path d=\"M 18.3125 70.21875 \nL 18.3125 54.6875 \nL 36.8125 54.6875 \nL 36.8125 47.703125 \nL 18.3125 47.703125 \nL 18.3125 18.015625 \nQ 18.3125 11.328125 20.140625 9.421875 \nQ 21.96875 7.515625 27.59375 7.515625 \nL 36.8125 7.515625 \nL 36.8125 0 \nL 27.59375 0 \nQ 17.1875 0 13.234375 3.875 \nQ 9.28125 7.765625 9.28125 18.015625 \nL 9.28125 47.703125 \nL 2.6875 47.703125 \nL 2.6875 54.6875 \nL 9.28125 54.6875 \nL 9.28125 70.21875 \nz\n\" id=\"DejaVuSans-116\"/>\n     </defs>\n     <g transform=\"translate(162.124063 275.633125)scale(0.16 -0.16)\">\n      <use xlink:href=\"#DejaVuSans-66\"/>\n      <use x=\"68.603516\" xlink:href=\"#DejaVuSans-117\"/>\n      <use x=\"131.982422\" xlink:href=\"#DejaVuSans-100\"/>\n      <use x=\"195.458984\" xlink:href=\"#DejaVuSans-103\"/>\n      <use x=\"258.935547\" xlink:href=\"#DejaVuSans-101\"/>\n      <use x=\"320.458984\" xlink:href=\"#DejaVuSans-116\"/>\n     </g>\n    </g>\n   </g>\n   <g id=\"matplotlib.axis_2\">\n    <g id=\"ytick_1\">\n     <g id=\"line2d_8\">\n      <defs>\n       <path d=\"M 0 0 \nL -3.5 0 \n\" id=\"me429da55a8\" style=\"stroke:#000000;stroke-width:0.8;\"/>\n      </defs>\n      <g>\n       <use style=\"stroke:#000000;stroke-width:0.8;\" x=\"51.399063\" xlink:href=\"#me429da55a8\" y=\"232.913864\"/>\n      </g>\n     </g>\n     <g id=\"text_9\">\n      <!-- 0.0 -->\n      <defs>\n       <path d=\"M 10.203125 18.890625 \nL 27.78125 18.890625 \nL 27.78125 0 \nL 10.203125 0 \nz\n\" id=\"DejaVuSans-Bold-46\"/>\n      </defs>\n      <g transform=\"translate(26.685 236.713082)scale(0.1 -0.1)\">\n       <use xlink:href=\"#DejaVuSans-Bold-48\"/>\n       <use x=\"69.580078\" xlink:href=\"#DejaVuSans-Bold-46\"/>\n       <use x=\"107.568359\" xlink:href=\"#DejaVuSans-Bold-48\"/>\n      </g>\n     </g>\n    </g>\n    <g id=\"ytick_2\">\n     <g id=\"line2d_9\">\n      <g>\n       <use style=\"stroke:#000000;stroke-width:0.8;\" x=\"51.399063\" xlink:href=\"#me429da55a8\" y=\"193.379318\"/>\n      </g>\n     </g>\n     <g id=\"text_10\">\n      <!-- 0.2 -->\n      <g transform=\"translate(26.685 197.178537)scale(0.1 -0.1)\">\n       <use xlink:href=\"#DejaVuSans-Bold-48\"/>\n       <use x=\"69.580078\" xlink:href=\"#DejaVuSans-Bold-46\"/>\n       <use x=\"107.568359\" xlink:href=\"#DejaVuSans-Bold-50\"/>\n      </g>\n     </g>\n    </g>\n    <g id=\"ytick_3\">\n     <g id=\"line2d_10\">\n      <g>\n       <use style=\"stroke:#000000;stroke-width:0.8;\" x=\"51.399063\" xlink:href=\"#me429da55a8\" y=\"153.844773\"/>\n      </g>\n     </g>\n     <g id=\"text_11\">\n      <!-- 0.4 -->\n      <g transform=\"translate(26.685 157.643991)scale(0.1 -0.1)\">\n       <use xlink:href=\"#DejaVuSans-Bold-48\"/>\n       <use x=\"69.580078\" xlink:href=\"#DejaVuSans-Bold-46\"/>\n       <use x=\"107.568359\" xlink:href=\"#DejaVuSans-Bold-52\"/>\n      </g>\n     </g>\n    </g>\n    <g id=\"ytick_4\">\n     <g id=\"line2d_11\">\n      <g>\n       <use style=\"stroke:#000000;stroke-width:0.8;\" x=\"51.399063\" xlink:href=\"#me429da55a8\" y=\"114.310227\"/>\n      </g>\n     </g>\n     <g id=\"text_12\">\n      <!-- 0.6 -->\n      <defs>\n       <path d=\"M 36.1875 35.984375 \nQ 31.25 35.984375 28.78125 32.78125 \nQ 26.3125 29.59375 26.3125 23.1875 \nQ 26.3125 16.796875 28.78125 13.59375 \nQ 31.25 10.40625 36.1875 10.40625 \nQ 41.15625 10.40625 43.625 13.59375 \nQ 46.09375 16.796875 46.09375 23.1875 \nQ 46.09375 29.59375 43.625 32.78125 \nQ 41.15625 35.984375 36.1875 35.984375 \nz\nM 59.421875 71 \nL 59.421875 57.515625 \nQ 54.78125 59.71875 50.671875 60.765625 \nQ 46.578125 61.8125 42.671875 61.8125 \nQ 34.28125 61.8125 29.59375 57.140625 \nQ 24.90625 52.484375 24.125 43.3125 \nQ 27.34375 45.703125 31.09375 46.890625 \nQ 34.859375 48.09375 39.3125 48.09375 \nQ 50.484375 48.09375 57.34375 41.546875 \nQ 64.203125 35.015625 64.203125 24.421875 \nQ 64.203125 12.703125 56.53125 5.640625 \nQ 48.875 -1.421875 35.984375 -1.421875 \nQ 21.78125 -1.421875 13.984375 8.171875 \nQ 6.203125 17.78125 6.203125 35.40625 \nQ 6.203125 53.46875 15.3125 63.796875 \nQ 24.421875 74.125 40.28125 74.125 \nQ 45.3125 74.125 50.046875 73.34375 \nQ 54.78125 72.5625 59.421875 71 \nz\n\" id=\"DejaVuSans-Bold-54\"/>\n      </defs>\n      <g transform=\"translate(26.685 118.109446)scale(0.1 -0.1)\">\n       <use xlink:href=\"#DejaVuSans-Bold-48\"/>\n       <use x=\"69.580078\" xlink:href=\"#DejaVuSans-Bold-46\"/>\n       <use x=\"107.568359\" xlink:href=\"#DejaVuSans-Bold-54\"/>\n      </g>\n     </g>\n    </g>\n    <g id=\"ytick_5\">\n     <g id=\"line2d_12\">\n      <g>\n       <use style=\"stroke:#000000;stroke-width:0.8;\" x=\"51.399063\" xlink:href=\"#me429da55a8\" y=\"74.775682\"/>\n      </g>\n     </g>\n     <g id=\"text_13\">\n      <!-- 0.8 -->\n      <defs>\n       <path d=\"M 34.8125 32.625 \nQ 29.546875 32.625 26.703125 29.734375 \nQ 23.875 26.859375 23.875 21.484375 \nQ 23.875 16.109375 26.703125 13.25 \nQ 29.546875 10.40625 34.8125 10.40625 \nQ 40.046875 10.40625 42.828125 13.25 \nQ 45.609375 16.109375 45.609375 21.484375 \nQ 45.609375 26.90625 42.828125 29.765625 \nQ 40.046875 32.625 34.8125 32.625 \nz\nM 21.09375 38.8125 \nQ 14.453125 40.828125 11.078125 44.96875 \nQ 7.71875 49.125 7.71875 55.328125 \nQ 7.71875 64.546875 14.59375 69.375 \nQ 21.484375 74.21875 34.8125 74.21875 \nQ 48.046875 74.21875 54.921875 69.40625 \nQ 61.8125 64.59375 61.8125 55.328125 \nQ 61.8125 49.125 58.421875 44.96875 \nQ 55.03125 40.828125 48.390625 38.8125 \nQ 55.8125 36.765625 59.59375 32.15625 \nQ 63.375 27.546875 63.375 20.515625 \nQ 63.375 9.671875 56.171875 4.125 \nQ 48.96875 -1.421875 34.8125 -1.421875 \nQ 20.609375 -1.421875 13.359375 4.125 \nQ 6.109375 9.671875 6.109375 20.515625 \nQ 6.109375 27.546875 9.890625 32.15625 \nQ 13.671875 36.765625 21.09375 38.8125 \nz\nM 25.484375 53.421875 \nQ 25.484375 49.078125 27.90625 46.734375 \nQ 30.328125 44.390625 34.8125 44.390625 \nQ 39.203125 44.390625 41.59375 46.734375 \nQ 44 49.078125 44 53.421875 \nQ 44 57.765625 41.59375 60.078125 \nQ 39.203125 62.40625 34.8125 62.40625 \nQ 30.328125 62.40625 27.90625 60.0625 \nQ 25.484375 57.71875 25.484375 53.421875 \nz\n\" id=\"DejaVuSans-Bold-56\"/>\n      </defs>\n      <g transform=\"translate(26.685 78.574901)scale(0.1 -0.1)\">\n       <use xlink:href=\"#DejaVuSans-Bold-48\"/>\n       <use x=\"69.580078\" xlink:href=\"#DejaVuSans-Bold-46\"/>\n       <use x=\"107.568359\" xlink:href=\"#DejaVuSans-Bold-56\"/>\n      </g>\n     </g>\n    </g>\n    <g id=\"ytick_6\">\n     <g id=\"line2d_13\">\n      <g>\n       <use style=\"stroke:#000000;stroke-width:0.8;\" x=\"51.399063\" xlink:href=\"#me429da55a8\" y=\"35.241136\"/>\n      </g>\n     </g>\n     <g id=\"text_14\">\n      <!-- 1.0 -->\n      <g transform=\"translate(26.685 39.040355)scale(0.1 -0.1)\">\n       <use xlink:href=\"#DejaVuSans-Bold-49\"/>\n       <use x=\"69.580078\" xlink:href=\"#DejaVuSans-Bold-46\"/>\n       <use x=\"107.568359\" xlink:href=\"#DejaVuSans-Bold-48\"/>\n      </g>\n     </g>\n    </g>\n    <g id=\"text_15\">\n     <!-- Probability of Error -->\n     <defs>\n      <path d=\"M 19.671875 64.796875 \nL 19.671875 37.40625 \nL 32.078125 37.40625 \nQ 38.96875 37.40625 42.71875 40.96875 \nQ 46.484375 44.53125 46.484375 51.125 \nQ 46.484375 57.671875 42.71875 61.234375 \nQ 38.96875 64.796875 32.078125 64.796875 \nz\nM 9.8125 72.90625 \nL 32.078125 72.90625 \nQ 44.34375 72.90625 50.609375 67.359375 \nQ 56.890625 61.8125 56.890625 51.125 \nQ 56.890625 40.328125 50.609375 34.8125 \nQ 44.34375 29.296875 32.078125 29.296875 \nL 19.671875 29.296875 \nL 19.671875 0 \nL 9.8125 0 \nz\n\" id=\"DejaVuSans-80\"/>\n      <path d=\"M 41.109375 46.296875 \nQ 39.59375 47.171875 37.8125 47.578125 \nQ 36.03125 48 33.890625 48 \nQ 26.265625 48 22.1875 43.046875 \nQ 18.109375 38.09375 18.109375 28.8125 \nL 18.109375 0 \nL 9.078125 0 \nL 9.078125 54.6875 \nL 18.109375 54.6875 \nL 18.109375 46.1875 \nQ 20.953125 51.171875 25.484375 53.578125 \nQ 30.03125 56 36.53125 56 \nQ 37.453125 56 38.578125 55.875 \nQ 39.703125 55.765625 41.0625 55.515625 \nz\n\" id=\"DejaVuSans-114\"/>\n      <path d=\"M 30.609375 48.390625 \nQ 23.390625 48.390625 19.1875 42.75 \nQ 14.984375 37.109375 14.984375 27.296875 \nQ 14.984375 17.484375 19.15625 11.84375 \nQ 23.34375 6.203125 30.609375 6.203125 \nQ 37.796875 6.203125 41.984375 11.859375 \nQ 46.1875 17.53125 46.1875 27.296875 \nQ 46.1875 37.015625 41.984375 42.703125 \nQ 37.796875 48.390625 30.609375 48.390625 \nz\nM 30.609375 56 \nQ 42.328125 56 49.015625 48.375 \nQ 55.71875 40.765625 55.71875 27.296875 \nQ 55.71875 13.875 49.015625 6.21875 \nQ 42.328125 -1.421875 30.609375 -1.421875 \nQ 18.84375 -1.421875 12.171875 6.21875 \nQ 5.515625 13.875 5.515625 27.296875 \nQ 5.515625 40.765625 12.171875 48.375 \nQ 18.84375 56 30.609375 56 \nz\n\" id=\"DejaVuSans-111\"/>\n      <path d=\"M 48.6875 27.296875 \nQ 48.6875 37.203125 44.609375 42.84375 \nQ 40.53125 48.484375 33.40625 48.484375 \nQ 26.265625 48.484375 22.1875 42.84375 \nQ 18.109375 37.203125 18.109375 27.296875 \nQ 18.109375 17.390625 22.1875 11.75 \nQ 26.265625 6.109375 33.40625 6.109375 \nQ 40.53125 6.109375 44.609375 11.75 \nQ 48.6875 17.390625 48.6875 27.296875 \nz\nM 18.109375 46.390625 \nQ 20.953125 51.265625 25.265625 53.625 \nQ 29.59375 56 35.59375 56 \nQ 45.5625 56 51.78125 48.09375 \nQ 58.015625 40.1875 58.015625 27.296875 \nQ 58.015625 14.40625 51.78125 6.484375 \nQ 45.5625 -1.421875 35.59375 -1.421875 \nQ 29.59375 -1.421875 25.265625 0.953125 \nQ 20.953125 3.328125 18.109375 8.203125 \nL 18.109375 0 \nL 9.078125 0 \nL 9.078125 75.984375 \nL 18.109375 75.984375 \nz\n\" id=\"DejaVuSans-98\"/>\n      <path d=\"M 34.28125 27.484375 \nQ 23.390625 27.484375 19.1875 25 \nQ 14.984375 22.515625 14.984375 16.5 \nQ 14.984375 11.71875 18.140625 8.90625 \nQ 21.296875 6.109375 26.703125 6.109375 \nQ 34.1875 6.109375 38.703125 11.40625 \nQ 43.21875 16.703125 43.21875 25.484375 \nL 43.21875 27.484375 \nz\nM 52.203125 31.203125 \nL 52.203125 0 \nL 43.21875 0 \nL 43.21875 8.296875 \nQ 40.140625 3.328125 35.546875 0.953125 \nQ 30.953125 -1.421875 24.3125 -1.421875 \nQ 15.921875 -1.421875 10.953125 3.296875 \nQ 6 8.015625 6 15.921875 \nQ 6 25.140625 12.171875 29.828125 \nQ 18.359375 34.515625 30.609375 34.515625 \nL 43.21875 34.515625 \nL 43.21875 35.40625 \nQ 43.21875 41.609375 39.140625 45 \nQ 35.0625 48.390625 27.6875 48.390625 \nQ 23 48.390625 18.546875 47.265625 \nQ 14.109375 46.140625 10.015625 43.890625 \nL 10.015625 52.203125 \nQ 14.9375 54.109375 19.578125 55.046875 \nQ 24.21875 56 28.609375 56 \nQ 40.484375 56 46.34375 49.84375 \nQ 52.203125 43.703125 52.203125 31.203125 \nz\n\" id=\"DejaVuSans-97\"/>\n      <path d=\"M 9.421875 54.6875 \nL 18.40625 54.6875 \nL 18.40625 0 \nL 9.421875 0 \nz\nM 9.421875 75.984375 \nL 18.40625 75.984375 \nL 18.40625 64.59375 \nL 9.421875 64.59375 \nz\n\" id=\"DejaVuSans-105\"/>\n      <path d=\"M 9.421875 75.984375 \nL 18.40625 75.984375 \nL 18.40625 0 \nL 9.421875 0 \nz\n\" id=\"DejaVuSans-108\"/>\n      <path d=\"M 32.171875 -5.078125 \nQ 28.375 -14.84375 24.75 -17.8125 \nQ 21.140625 -20.796875 15.09375 -20.796875 \nL 7.90625 -20.796875 \nL 7.90625 -13.28125 \nL 13.1875 -13.28125 \nQ 16.890625 -13.28125 18.9375 -11.515625 \nQ 21 -9.765625 23.484375 -3.21875 \nL 25.09375 0.875 \nL 2.984375 54.6875 \nL 12.5 54.6875 \nL 29.59375 11.921875 \nL 46.6875 54.6875 \nL 56.203125 54.6875 \nz\n\" id=\"DejaVuSans-121\"/>\n      <path id=\"DejaVuSans-32\"/>\n      <path d=\"M 37.109375 75.984375 \nL 37.109375 68.5 \nL 28.515625 68.5 \nQ 23.6875 68.5 21.796875 66.546875 \nQ 19.921875 64.59375 19.921875 59.515625 \nL 19.921875 54.6875 \nL 34.71875 54.6875 \nL 34.71875 47.703125 \nL 19.921875 47.703125 \nL 19.921875 0 \nL 10.890625 0 \nL 10.890625 47.703125 \nL 2.296875 47.703125 \nL 2.296875 54.6875 \nL 10.890625 54.6875 \nL 10.890625 58.5 \nQ 10.890625 67.625 15.140625 71.796875 \nQ 19.390625 75.984375 28.609375 75.984375 \nz\n\" id=\"DejaVuSans-102\"/>\n      <path d=\"M 9.8125 72.90625 \nL 55.90625 72.90625 \nL 55.90625 64.59375 \nL 19.671875 64.59375 \nL 19.671875 43.015625 \nL 54.390625 43.015625 \nL 54.390625 34.71875 \nL 19.671875 34.71875 \nL 19.671875 8.296875 \nL 56.78125 8.296875 \nL 56.78125 0 \nL 9.8125 0 \nz\n\" id=\"DejaVuSans-69\"/>\n     </defs>\n     <g transform=\"translate(19.3575 209.28875)rotate(-90)scale(0.16 -0.16)\">\n      <use xlink:href=\"#DejaVuSans-80\"/>\n      <use x=\"60.287109\" xlink:href=\"#DejaVuSans-114\"/>\n      <use x=\"101.369141\" xlink:href=\"#DejaVuSans-111\"/>\n      <use x=\"162.550781\" xlink:href=\"#DejaVuSans-98\"/>\n      <use x=\"226.027344\" xlink:href=\"#DejaVuSans-97\"/>\n      <use x=\"287.306641\" xlink:href=\"#DejaVuSans-98\"/>\n      <use x=\"350.783203\" xlink:href=\"#DejaVuSans-105\"/>\n      <use x=\"378.566406\" xlink:href=\"#DejaVuSans-108\"/>\n      <use x=\"406.349609\" xlink:href=\"#DejaVuSans-105\"/>\n      <use x=\"434.132812\" xlink:href=\"#DejaVuSans-116\"/>\n      <use x=\"473.341797\" xlink:href=\"#DejaVuSans-121\"/>\n      <use x=\"532.521484\" xlink:href=\"#DejaVuSans-32\"/>\n      <use x=\"564.308594\" xlink:href=\"#DejaVuSans-111\"/>\n      <use x=\"625.490234\" xlink:href=\"#DejaVuSans-102\"/>\n      <use x=\"660.695312\" xlink:href=\"#DejaVuSans-32\"/>\n      <use x=\"692.482422\" xlink:href=\"#DejaVuSans-69\"/>\n      <use x=\"755.666016\" xlink:href=\"#DejaVuSans-114\"/>\n      <use x=\"796.763672\" xlink:href=\"#DejaVuSans-114\"/>\n      <use x=\"837.845703\" xlink:href=\"#DejaVuSans-111\"/>\n      <use x=\"899.027344\" xlink:href=\"#DejaVuSans-114\"/>\n     </g>\n    </g>\n   </g>\n   <g id=\"line2d_14\">\n    <path clip-path=\"url(#p6920446083)\" d=\"M 64.080881 134.314707 \nL 85.217244 155.8215 \nL 106.353608 171.674853 \nL 127.489972 186.342169 \nL 148.626335 198.479275 \nL 169.762699 205.002475 \nL 190.899063 211.525675 \nL 212.035426 218.720962 \nL 233.17179 220.737224 \nL 254.308153 223.544176 \nL 275.444517 226.825544 \nL 296.580881 228.565064 \nL 317.717244 229.276685 \n\" style=\"fill:none;stroke:#1f77b4;stroke-linecap:square;stroke-width:1.5;\"/>\n    <defs>\n     <path d=\"M 0 3 \nC 0.795609 3 1.55874 2.683901 2.12132 2.12132 \nC 2.683901 1.55874 3 0.795609 3 0 \nC 3 -0.795609 2.683901 -1.55874 2.12132 -2.12132 \nC 1.55874 -2.683901 0.795609 -3 0 -3 \nC -0.795609 -3 -1.55874 -2.683901 -2.12132 -2.12132 \nC -2.683901 -1.55874 -3 -0.795609 -3 0 \nC -3 0.795609 -2.683901 1.55874 -2.12132 2.12132 \nC -1.55874 2.683901 -0.795609 3 0 3 \nz\n\" id=\"m2a5a055e31\" style=\"stroke:#ffffff;stroke-width:0.75;\"/>\n    </defs>\n    <g clip-path=\"url(#p6920446083)\">\n     <use style=\"fill:#1f77b4;stroke:#ffffff;stroke-width:0.75;\" x=\"64.080881\" xlink:href=\"#m2a5a055e31\" y=\"134.314707\"/>\n     <use style=\"fill:#1f77b4;stroke:#ffffff;stroke-width:0.75;\" x=\"85.217244\" xlink:href=\"#m2a5a055e31\" y=\"155.8215\"/>\n     <use style=\"fill:#1f77b4;stroke:#ffffff;stroke-width:0.75;\" x=\"106.353608\" xlink:href=\"#m2a5a055e31\" y=\"171.674853\"/>\n     <use style=\"fill:#1f77b4;stroke:#ffffff;stroke-width:0.75;\" x=\"127.489972\" xlink:href=\"#m2a5a055e31\" y=\"186.342169\"/>\n     <use style=\"fill:#1f77b4;stroke:#ffffff;stroke-width:0.75;\" x=\"148.626335\" xlink:href=\"#m2a5a055e31\" y=\"198.479275\"/>\n     <use style=\"fill:#1f77b4;stroke:#ffffff;stroke-width:0.75;\" x=\"169.762699\" xlink:href=\"#m2a5a055e31\" y=\"205.002475\"/>\n     <use style=\"fill:#1f77b4;stroke:#ffffff;stroke-width:0.75;\" x=\"190.899063\" xlink:href=\"#m2a5a055e31\" y=\"211.525675\"/>\n     <use style=\"fill:#1f77b4;stroke:#ffffff;stroke-width:0.75;\" x=\"212.035426\" xlink:href=\"#m2a5a055e31\" y=\"218.720962\"/>\n     <use style=\"fill:#1f77b4;stroke:#ffffff;stroke-width:0.75;\" x=\"233.17179\" xlink:href=\"#m2a5a055e31\" y=\"220.737224\"/>\n     <use style=\"fill:#1f77b4;stroke:#ffffff;stroke-width:0.75;\" x=\"254.308153\" xlink:href=\"#m2a5a055e31\" y=\"223.544176\"/>\n     <use style=\"fill:#1f77b4;stroke:#ffffff;stroke-width:0.75;\" x=\"275.444517\" xlink:href=\"#m2a5a055e31\" y=\"226.825544\"/>\n     <use style=\"fill:#1f77b4;stroke:#ffffff;stroke-width:0.75;\" x=\"296.580881\" xlink:href=\"#m2a5a055e31\" y=\"228.565064\"/>\n     <use style=\"fill:#1f77b4;stroke:#ffffff;stroke-width:0.75;\" x=\"317.717244\" xlink:href=\"#m2a5a055e31\" y=\"229.276685\"/>\n    </g>\n   </g>\n   <g id=\"line2d_15\">\n    <path clip-path=\"url(#p6920446083)\" d=\"M 64.080881 133.761224 \nL 85.217244 156.770329 \nL 106.353608 178.00038 \nL 127.489972 193.339784 \nL 148.626335 206.148976 \nL 169.762699 212.237296 \nL 190.899063 220.895362 \nL 212.035426 223.465107 \nL 233.17179 226.311595 \nL 254.308153 228.209253 \nL 275.444517 230.383653 \nL 296.580881 230.502256 \nL 317.717244 231.530155 \n\" style=\"fill:none;stroke:#ff7f0e;stroke-linecap:square;stroke-width:1.5;\"/>\n    <defs>\n     <path d=\"M -1.5 3 \nL 0 1.5 \nL 1.5 3 \nL 3 1.5 \nL 1.5 0 \nL 3 -1.5 \nL 1.5 -3 \nL 0 -1.5 \nL -1.5 -3 \nL -3 -1.5 \nL -1.5 0 \nL -3 1.5 \nz\n\" id=\"mab294f9a8d\" style=\"stroke:#ffffff;stroke-linejoin:miter;stroke-width:0.75;\"/>\n    </defs>\n    <g clip-path=\"url(#p6920446083)\">\n     <use style=\"fill:#ff7f0e;stroke:#ffffff;stroke-linejoin:miter;stroke-width:0.75;\" x=\"64.080881\" xlink:href=\"#mab294f9a8d\" y=\"133.761224\"/>\n     <use style=\"fill:#ff7f0e;stroke:#ffffff;stroke-linejoin:miter;stroke-width:0.75;\" x=\"85.217244\" xlink:href=\"#mab294f9a8d\" y=\"156.770329\"/>\n     <use style=\"fill:#ff7f0e;stroke:#ffffff;stroke-linejoin:miter;stroke-width:0.75;\" x=\"106.353608\" xlink:href=\"#mab294f9a8d\" y=\"178.00038\"/>\n     <use style=\"fill:#ff7f0e;stroke:#ffffff;stroke-linejoin:miter;stroke-width:0.75;\" x=\"127.489972\" xlink:href=\"#mab294f9a8d\" y=\"193.339784\"/>\n     <use style=\"fill:#ff7f0e;stroke:#ffffff;stroke-linejoin:miter;stroke-width:0.75;\" x=\"148.626335\" xlink:href=\"#mab294f9a8d\" y=\"206.148976\"/>\n     <use style=\"fill:#ff7f0e;stroke:#ffffff;stroke-linejoin:miter;stroke-width:0.75;\" x=\"169.762699\" xlink:href=\"#mab294f9a8d\" y=\"212.237296\"/>\n     <use style=\"fill:#ff7f0e;stroke:#ffffff;stroke-linejoin:miter;stroke-width:0.75;\" x=\"190.899063\" xlink:href=\"#mab294f9a8d\" y=\"220.895362\"/>\n     <use style=\"fill:#ff7f0e;stroke:#ffffff;stroke-linejoin:miter;stroke-width:0.75;\" x=\"212.035426\" xlink:href=\"#mab294f9a8d\" y=\"223.465107\"/>\n     <use style=\"fill:#ff7f0e;stroke:#ffffff;stroke-linejoin:miter;stroke-width:0.75;\" x=\"233.17179\" xlink:href=\"#mab294f9a8d\" y=\"226.311595\"/>\n     <use style=\"fill:#ff7f0e;stroke:#ffffff;stroke-linejoin:miter;stroke-width:0.75;\" x=\"254.308153\" xlink:href=\"#mab294f9a8d\" y=\"228.209253\"/>\n     <use style=\"fill:#ff7f0e;stroke:#ffffff;stroke-linejoin:miter;stroke-width:0.75;\" x=\"275.444517\" xlink:href=\"#mab294f9a8d\" y=\"230.383653\"/>\n     <use style=\"fill:#ff7f0e;stroke:#ffffff;stroke-linejoin:miter;stroke-width:0.75;\" x=\"296.580881\" xlink:href=\"#mab294f9a8d\" y=\"230.502256\"/>\n     <use style=\"fill:#ff7f0e;stroke:#ffffff;stroke-linejoin:miter;stroke-width:0.75;\" x=\"317.717244\" xlink:href=\"#mab294f9a8d\" y=\"231.530155\"/>\n    </g>\n   </g>\n   <g id=\"line2d_16\">\n    <path clip-path=\"url(#p6920446083)\" d=\"M 64.080881 123.245035 \nL 85.217244 124.707813 \nL 106.353608 149.456438 \nL 127.489972 169.539987 \nL 148.626335 184.365442 \nL 169.762699 185.591013 \nL 190.899063 198.360671 \nL 212.035426 207.255944 \nL 233.17179 214.293093 \nL 254.308153 219.31398 \nL 275.444517 219.432584 \nL 296.580881 223.2279 \nL 317.717244 226.351129 \n\" style=\"fill:none;stroke:#2ca02c;stroke-linecap:square;stroke-width:1.5;\"/>\n    <defs>\n     <path d=\"M -3 3 \nL 3 3 \nL 3 -3 \nL -3 -3 \nz\n\" id=\"mdc5b9bc454\" style=\"stroke:#ffffff;stroke-linejoin:miter;stroke-width:0.75;\"/>\n    </defs>\n    <g clip-path=\"url(#p6920446083)\">\n     <use style=\"fill:#2ca02c;stroke:#ffffff;stroke-linejoin:miter;stroke-width:0.75;\" x=\"64.080881\" xlink:href=\"#mdc5b9bc454\" y=\"123.245035\"/>\n     <use style=\"fill:#2ca02c;stroke:#ffffff;stroke-linejoin:miter;stroke-width:0.75;\" x=\"85.217244\" xlink:href=\"#mdc5b9bc454\" y=\"124.707813\"/>\n     <use style=\"fill:#2ca02c;stroke:#ffffff;stroke-linejoin:miter;stroke-width:0.75;\" x=\"106.353608\" xlink:href=\"#mdc5b9bc454\" y=\"149.456438\"/>\n     <use style=\"fill:#2ca02c;stroke:#ffffff;stroke-linejoin:miter;stroke-width:0.75;\" x=\"127.489972\" xlink:href=\"#mdc5b9bc454\" y=\"169.539987\"/>\n     <use style=\"fill:#2ca02c;stroke:#ffffff;stroke-linejoin:miter;stroke-width:0.75;\" x=\"148.626335\" xlink:href=\"#mdc5b9bc454\" y=\"184.365442\"/>\n     <use style=\"fill:#2ca02c;stroke:#ffffff;stroke-linejoin:miter;stroke-width:0.75;\" x=\"169.762699\" xlink:href=\"#mdc5b9bc454\" y=\"185.591013\"/>\n     <use style=\"fill:#2ca02c;stroke:#ffffff;stroke-linejoin:miter;stroke-width:0.75;\" x=\"190.899063\" xlink:href=\"#mdc5b9bc454\" y=\"198.360671\"/>\n     <use style=\"fill:#2ca02c;stroke:#ffffff;stroke-linejoin:miter;stroke-width:0.75;\" x=\"212.035426\" xlink:href=\"#mdc5b9bc454\" y=\"207.255944\"/>\n     <use style=\"fill:#2ca02c;stroke:#ffffff;stroke-linejoin:miter;stroke-width:0.75;\" x=\"233.17179\" xlink:href=\"#mdc5b9bc454\" y=\"214.293093\"/>\n     <use style=\"fill:#2ca02c;stroke:#ffffff;stroke-linejoin:miter;stroke-width:0.75;\" x=\"254.308153\" xlink:href=\"#mdc5b9bc454\" y=\"219.31398\"/>\n     <use style=\"fill:#2ca02c;stroke:#ffffff;stroke-linejoin:miter;stroke-width:0.75;\" x=\"275.444517\" xlink:href=\"#mdc5b9bc454\" y=\"219.432584\"/>\n     <use style=\"fill:#2ca02c;stroke:#ffffff;stroke-linejoin:miter;stroke-width:0.75;\" x=\"296.580881\" xlink:href=\"#mdc5b9bc454\" y=\"223.2279\"/>\n     <use style=\"fill:#2ca02c;stroke:#ffffff;stroke-linejoin:miter;stroke-width:0.75;\" x=\"317.717244\" xlink:href=\"#mdc5b9bc454\" y=\"226.351129\"/>\n    </g>\n   </g>\n   <g id=\"line2d_17\">\n    <path clip-path=\"url(#p6920446083)\" d=\"M 64.080881 90.273224 \nL 85.217244 105.37542 \nL 106.353608 120.279944 \nL 127.489972 134.354242 \nL 148.626335 145.858795 \nL 169.762699 158.984264 \nL 190.899063 167.602795 \nL 212.035426 174.244598 \nL 233.17179 184.681718 \nL 254.308153 190.532831 \nL 275.444517 197.846722 \nL 296.580881 202.630402 \nL 317.717244 205.674562 \n\" style=\"fill:none;stroke:#d62728;stroke-linecap:square;stroke-width:1.5;\"/>\n    <defs>\n     <path d=\"M -1 3 \nL 1 3 \nL 1 1 \nL 3 1 \nL 3 -1 \nL 1 -1 \nL 1 -3 \nL -1 -3 \nL -1 -1 \nL -3 -1 \nL -3 1 \nL -1 1 \nz\n\" id=\"m081d141d74\" style=\"stroke:#ffffff;stroke-linejoin:miter;stroke-width:0.75;\"/>\n    </defs>\n    <g clip-path=\"url(#p6920446083)\">\n     <use style=\"fill:#d62728;stroke:#ffffff;stroke-linejoin:miter;stroke-width:0.75;\" x=\"64.080881\" xlink:href=\"#m081d141d74\" y=\"90.273224\"/>\n     <use style=\"fill:#d62728;stroke:#ffffff;stroke-linejoin:miter;stroke-width:0.75;\" x=\"85.217244\" xlink:href=\"#m081d141d74\" y=\"105.37542\"/>\n     <use style=\"fill:#d62728;stroke:#ffffff;stroke-linejoin:miter;stroke-width:0.75;\" x=\"106.353608\" xlink:href=\"#m081d141d74\" y=\"120.279944\"/>\n     <use style=\"fill:#d62728;stroke:#ffffff;stroke-linejoin:miter;stroke-width:0.75;\" x=\"127.489972\" xlink:href=\"#m081d141d74\" y=\"134.354242\"/>\n     <use style=\"fill:#d62728;stroke:#ffffff;stroke-linejoin:miter;stroke-width:0.75;\" x=\"148.626335\" xlink:href=\"#m081d141d74\" y=\"145.858795\"/>\n     <use style=\"fill:#d62728;stroke:#ffffff;stroke-linejoin:miter;stroke-width:0.75;\" x=\"169.762699\" xlink:href=\"#m081d141d74\" y=\"158.984264\"/>\n     <use style=\"fill:#d62728;stroke:#ffffff;stroke-linejoin:miter;stroke-width:0.75;\" x=\"190.899063\" xlink:href=\"#m081d141d74\" y=\"167.602795\"/>\n     <use style=\"fill:#d62728;stroke:#ffffff;stroke-linejoin:miter;stroke-width:0.75;\" x=\"212.035426\" xlink:href=\"#m081d141d74\" y=\"174.244598\"/>\n     <use style=\"fill:#d62728;stroke:#ffffff;stroke-linejoin:miter;stroke-width:0.75;\" x=\"233.17179\" xlink:href=\"#m081d141d74\" y=\"184.681718\"/>\n     <use style=\"fill:#d62728;stroke:#ffffff;stroke-linejoin:miter;stroke-width:0.75;\" x=\"254.308153\" xlink:href=\"#m081d141d74\" y=\"190.532831\"/>\n     <use style=\"fill:#d62728;stroke:#ffffff;stroke-linejoin:miter;stroke-width:0.75;\" x=\"275.444517\" xlink:href=\"#m081d141d74\" y=\"197.846722\"/>\n     <use style=\"fill:#d62728;stroke:#ffffff;stroke-linejoin:miter;stroke-width:0.75;\" x=\"296.580881\" xlink:href=\"#m081d141d74\" y=\"202.630402\"/>\n     <use style=\"fill:#d62728;stroke:#ffffff;stroke-linejoin:miter;stroke-width:0.75;\" x=\"317.717244\" xlink:href=\"#m081d141d74\" y=\"205.674562\"/>\n    </g>\n   </g>\n   <g id=\"line2d_18\"/>\n   <g id=\"line2d_19\"/>\n   <g id=\"line2d_20\"/>\n   <g id=\"line2d_21\"/>\n   <g id=\"line2d_22\"/>\n   <g id=\"patch_3\">\n    <path d=\"M 51.399063 242.7975 \nL 51.399063 25.3575 \n\" style=\"fill:none;stroke:#000000;stroke-linecap:square;stroke-linejoin:miter;stroke-width:0.8;\"/>\n   </g>\n   <g id=\"patch_4\">\n    <path d=\"M 330.399063 242.7975 \nL 330.399063 25.3575 \n\" style=\"fill:none;stroke:#000000;stroke-linecap:square;stroke-linejoin:miter;stroke-width:0.8;\"/>\n   </g>\n   <g id=\"patch_5\">\n    <path d=\"M 51.399063 242.7975 \nL 330.399063 242.7975 \n\" style=\"fill:none;stroke:#000000;stroke-linecap:square;stroke-linejoin:miter;stroke-width:0.8;\"/>\n   </g>\n   <g id=\"patch_6\">\n    <path d=\"M 51.399063 25.3575 \nL 330.399063 25.3575 \n\" style=\"fill:none;stroke:#000000;stroke-linecap:square;stroke-linejoin:miter;stroke-width:0.8;\"/>\n   </g>\n   <g id=\"text_16\">\n    <!-- Group_One_Fixed_Budget -->\n    <defs>\n     <path d=\"M 59.515625 10.40625 \nL 59.515625 29.984375 \nL 43.40625 29.984375 \nL 43.40625 38.09375 \nL 69.28125 38.09375 \nL 69.28125 6.78125 \nQ 63.578125 2.734375 56.6875 0.65625 \nQ 49.8125 -1.421875 42 -1.421875 \nQ 24.90625 -1.421875 15.25 8.5625 \nQ 5.609375 18.5625 5.609375 36.375 \nQ 5.609375 54.25 15.25 64.234375 \nQ 24.90625 74.21875 42 74.21875 \nQ 49.125 74.21875 55.546875 72.453125 \nQ 61.96875 70.703125 67.390625 67.28125 \nL 67.390625 56.78125 \nQ 61.921875 61.421875 55.765625 63.765625 \nQ 49.609375 66.109375 42.828125 66.109375 \nQ 29.4375 66.109375 22.71875 58.640625 \nQ 16.015625 51.171875 16.015625 36.375 \nQ 16.015625 21.625 22.71875 14.15625 \nQ 29.4375 6.6875 42.828125 6.6875 \nQ 48.046875 6.6875 52.140625 7.59375 \nQ 56.25 8.5 59.515625 10.40625 \nz\n\" id=\"DejaVuSans-71\"/>\n     <path d=\"M 18.109375 8.203125 \nL 18.109375 -20.796875 \nL 9.078125 -20.796875 \nL 9.078125 54.6875 \nL 18.109375 54.6875 \nL 18.109375 46.390625 \nQ 20.953125 51.265625 25.265625 53.625 \nQ 29.59375 56 35.59375 56 \nQ 45.5625 56 51.78125 48.09375 \nQ 58.015625 40.1875 58.015625 27.296875 \nQ 58.015625 14.40625 51.78125 6.484375 \nQ 45.5625 -1.421875 35.59375 -1.421875 \nQ 29.59375 -1.421875 25.265625 0.953125 \nQ 20.953125 3.328125 18.109375 8.203125 \nz\nM 48.6875 27.296875 \nQ 48.6875 37.203125 44.609375 42.84375 \nQ 40.53125 48.484375 33.40625 48.484375 \nQ 26.265625 48.484375 22.1875 42.84375 \nQ 18.109375 37.203125 18.109375 27.296875 \nQ 18.109375 17.390625 22.1875 11.75 \nQ 26.265625 6.109375 33.40625 6.109375 \nQ 40.53125 6.109375 44.609375 11.75 \nQ 48.6875 17.390625 48.6875 27.296875 \nz\n\" id=\"DejaVuSans-112\"/>\n     <path d=\"M 50.984375 -16.609375 \nL 50.984375 -23.578125 \nL -0.984375 -23.578125 \nL -0.984375 -16.609375 \nz\n\" id=\"DejaVuSans-95\"/>\n     <path d=\"M 39.40625 66.21875 \nQ 28.65625 66.21875 22.328125 58.203125 \nQ 16.015625 50.203125 16.015625 36.375 \nQ 16.015625 22.609375 22.328125 14.59375 \nQ 28.65625 6.59375 39.40625 6.59375 \nQ 50.140625 6.59375 56.421875 14.59375 \nQ 62.703125 22.609375 62.703125 36.375 \nQ 62.703125 50.203125 56.421875 58.203125 \nQ 50.140625 66.21875 39.40625 66.21875 \nz\nM 39.40625 74.21875 \nQ 54.734375 74.21875 63.90625 63.9375 \nQ 73.09375 53.65625 73.09375 36.375 \nQ 73.09375 19.140625 63.90625 8.859375 \nQ 54.734375 -1.421875 39.40625 -1.421875 \nQ 24.03125 -1.421875 14.8125 8.828125 \nQ 5.609375 19.09375 5.609375 36.375 \nQ 5.609375 53.65625 14.8125 63.9375 \nQ 24.03125 74.21875 39.40625 74.21875 \nz\n\" id=\"DejaVuSans-79\"/>\n     <path d=\"M 54.890625 33.015625 \nL 54.890625 0 \nL 45.90625 0 \nL 45.90625 32.71875 \nQ 45.90625 40.484375 42.875 44.328125 \nQ 39.84375 48.1875 33.796875 48.1875 \nQ 26.515625 48.1875 22.3125 43.546875 \nQ 18.109375 38.921875 18.109375 30.90625 \nL 18.109375 0 \nL 9.078125 0 \nL 9.078125 54.6875 \nL 18.109375 54.6875 \nL 18.109375 46.1875 \nQ 21.34375 51.125 25.703125 53.5625 \nQ 30.078125 56 35.796875 56 \nQ 45.21875 56 50.046875 50.171875 \nQ 54.890625 44.34375 54.890625 33.015625 \nz\n\" id=\"DejaVuSans-110\"/>\n     <path d=\"M 9.8125 72.90625 \nL 51.703125 72.90625 \nL 51.703125 64.59375 \nL 19.671875 64.59375 \nL 19.671875 43.109375 \nL 48.578125 43.109375 \nL 48.578125 34.8125 \nL 19.671875 34.8125 \nL 19.671875 0 \nL 9.8125 0 \nz\n\" id=\"DejaVuSans-70\"/>\n     <path d=\"M 54.890625 54.6875 \nL 35.109375 28.078125 \nL 55.90625 0 \nL 45.3125 0 \nL 29.390625 21.484375 \nL 13.484375 0 \nL 2.875 0 \nL 24.125 28.609375 \nL 4.6875 54.6875 \nL 15.28125 54.6875 \nL 29.78125 35.203125 \nL 44.28125 54.6875 \nz\n\" id=\"DejaVuSans-120\"/>\n    </defs>\n    <g transform=\"translate(87.757813 19.3575)scale(0.16 -0.16)\">\n     <use xlink:href=\"#DejaVuSans-71\"/>\n     <use x=\"77.490234\" xlink:href=\"#DejaVuSans-114\"/>\n     <use x=\"118.572266\" xlink:href=\"#DejaVuSans-111\"/>\n     <use x=\"179.753906\" xlink:href=\"#DejaVuSans-117\"/>\n     <use x=\"243.132812\" xlink:href=\"#DejaVuSans-112\"/>\n     <use x=\"306.609375\" xlink:href=\"#DejaVuSans-95\"/>\n     <use x=\"356.609375\" xlink:href=\"#DejaVuSans-79\"/>\n     <use x=\"435.320312\" xlink:href=\"#DejaVuSans-110\"/>\n     <use x=\"498.699219\" xlink:href=\"#DejaVuSans-101\"/>\n     <use x=\"560.222656\" xlink:href=\"#DejaVuSans-95\"/>\n     <use x=\"610.222656\" xlink:href=\"#DejaVuSans-70\"/>\n     <use x=\"667.632812\" xlink:href=\"#DejaVuSans-105\"/>\n     <use x=\"695.416016\" xlink:href=\"#DejaVuSans-120\"/>\n     <use x=\"754.548828\" xlink:href=\"#DejaVuSans-101\"/>\n     <use x=\"816.072266\" xlink:href=\"#DejaVuSans-100\"/>\n     <use x=\"879.548828\" xlink:href=\"#DejaVuSans-95\"/>\n     <use x=\"929.548828\" xlink:href=\"#DejaVuSans-66\"/>\n     <use x=\"998.152344\" xlink:href=\"#DejaVuSans-117\"/>\n     <use x=\"1061.53125\" xlink:href=\"#DejaVuSans-100\"/>\n     <use x=\"1125.007812\" xlink:href=\"#DejaVuSans-103\"/>\n     <use x=\"1188.484375\" xlink:href=\"#DejaVuSans-101\"/>\n     <use x=\"1250.007812\" xlink:href=\"#DejaVuSans-116\"/>\n    </g>\n   </g>\n   <g id=\"legend_1\">\n    <g id=\"patch_7\">\n     <path d=\"M 233.506875 106.82625 \nL 323.399063 106.82625 \nQ 325.399063 106.82625 325.399063 104.82625 \nL 325.399063 32.3575 \nQ 325.399063 30.3575 323.399063 30.3575 \nL 233.506875 30.3575 \nQ 231.506875 30.3575 231.506875 32.3575 \nL 231.506875 104.82625 \nQ 231.506875 106.82625 233.506875 106.82625 \nz\n\" style=\"fill:#ffffff;opacity:0.8;stroke:#cccccc;stroke-linejoin:miter;\"/>\n    </g>\n    <g id=\"line2d_23\">\n     <path d=\"M 235.506875 38.455937 \nL 255.506875 38.455937 \n\" style=\"fill:none;\"/>\n    </g>\n    <g id=\"line2d_24\"/>\n    <g id=\"text_17\">\n     <!-- Policy -->\n     <defs>\n      <path d=\"M 9.1875 72.90625 \nL 40.375 72.90625 \nQ 54.296875 72.90625 61.734375 66.71875 \nQ 69.1875 60.546875 69.1875 49.125 \nQ 69.1875 37.640625 61.734375 31.46875 \nQ 54.296875 25.296875 40.375 25.296875 \nL 27.984375 25.296875 \nL 27.984375 0 \nL 9.1875 0 \nz\nM 27.984375 59.28125 \nL 27.984375 38.921875 \nL 38.375 38.921875 \nQ 43.84375 38.921875 46.828125 41.578125 \nQ 49.8125 44.234375 49.8125 49.125 \nQ 49.8125 54 46.828125 56.640625 \nQ 43.84375 59.28125 38.375 59.28125 \nz\n\" id=\"DejaVuSans-Bold-80\"/>\n      <path d=\"M 34.421875 43.5 \nQ 28.609375 43.5 25.5625 39.328125 \nQ 22.515625 35.15625 22.515625 27.296875 \nQ 22.515625 19.4375 25.5625 15.25 \nQ 28.609375 11.078125 34.421875 11.078125 \nQ 40.140625 11.078125 43.15625 15.25 \nQ 46.1875 19.4375 46.1875 27.296875 \nQ 46.1875 35.15625 43.15625 39.328125 \nQ 40.140625 43.5 34.421875 43.5 \nz\nM 34.421875 56 \nQ 48.53125 56 56.46875 48.375 \nQ 64.40625 40.765625 64.40625 27.296875 \nQ 64.40625 13.8125 56.46875 6.1875 \nQ 48.53125 -1.421875 34.421875 -1.421875 \nQ 20.265625 -1.421875 12.28125 6.1875 \nQ 4.296875 13.8125 4.296875 27.296875 \nQ 4.296875 40.765625 12.28125 48.375 \nQ 20.265625 56 34.421875 56 \nz\n\" id=\"DejaVuSans-Bold-111\"/>\n      <path d=\"M 8.40625 75.984375 \nL 25.875 75.984375 \nL 25.875 0 \nL 8.40625 0 \nz\n\" id=\"DejaVuSans-Bold-108\"/>\n      <path d=\"M 8.40625 54.6875 \nL 25.875 54.6875 \nL 25.875 0 \nL 8.40625 0 \nz\nM 8.40625 75.984375 \nL 25.875 75.984375 \nL 25.875 61.71875 \nL 8.40625 61.71875 \nz\n\" id=\"DejaVuSans-Bold-105\"/>\n      <path d=\"M 52.59375 52.984375 \nL 52.59375 38.71875 \nQ 49.03125 41.15625 45.4375 42.328125 \nQ 41.84375 43.5 37.984375 43.5 \nQ 30.671875 43.5 26.59375 39.234375 \nQ 22.515625 34.96875 22.515625 27.296875 \nQ 22.515625 19.625 26.59375 15.34375 \nQ 30.671875 11.078125 37.984375 11.078125 \nQ 42.09375 11.078125 45.78125 12.296875 \nQ 49.46875 13.53125 52.59375 15.921875 \nL 52.59375 1.609375 \nQ 48.484375 0.09375 44.265625 -0.65625 \nQ 40.046875 -1.421875 35.796875 -1.421875 \nQ 21 -1.421875 12.640625 6.171875 \nQ 4.296875 13.765625 4.296875 27.296875 \nQ 4.296875 40.828125 12.640625 48.40625 \nQ 21 56 35.796875 56 \nQ 40.09375 56 44.265625 55.25 \nQ 48.4375 54.5 52.59375 52.984375 \nz\n\" id=\"DejaVuSans-Bold-99\"/>\n      <path d=\"M 1.21875 54.6875 \nL 18.703125 54.6875 \nL 33.40625 17.578125 \nL 45.90625 54.6875 \nL 63.375 54.6875 \nL 40.375 -5.171875 \nQ 36.921875 -14.3125 32.296875 -17.9375 \nQ 27.6875 -21.578125 20.125 -21.578125 \nL 10.015625 -21.578125 \nL 10.015625 -10.109375 \nL 15.484375 -10.109375 \nQ 19.921875 -10.109375 21.9375 -8.6875 \nQ 23.96875 -7.28125 25.09375 -3.609375 \nL 25.59375 -2.09375 \nz\n\" id=\"DejaVuSans-Bold-121\"/>\n     </defs>\n     <g transform=\"translate(263.506875 41.955937)scale(0.1 -0.1)\">\n      <use xlink:href=\"#DejaVuSans-Bold-80\"/>\n      <use x=\"73.291016\" xlink:href=\"#DejaVuSans-Bold-111\"/>\n      <use x=\"141.992188\" xlink:href=\"#DejaVuSans-Bold-108\"/>\n      <use x=\"176.269531\" xlink:href=\"#DejaVuSans-Bold-105\"/>\n      <use x=\"210.546875\" xlink:href=\"#DejaVuSans-Bold-99\"/>\n      <use x=\"269.824219\" xlink:href=\"#DejaVuSans-Bold-121\"/>\n     </g>\n    </g>\n    <g id=\"line2d_25\">\n     <path d=\"M 235.506875 53.212187 \nL 255.506875 53.212187 \n\" style=\"fill:none;stroke:#1f77b4;stroke-linecap:square;stroke-width:1.5;\"/>\n    </g>\n    <g id=\"line2d_26\">\n     <defs>\n      <path d=\"M 0 3 \nC 0.795609 3 1.55874 2.683901 2.12132 2.12132 \nC 2.683901 1.55874 3 0.795609 3 0 \nC 3 -0.795609 2.683901 -1.55874 2.12132 -2.12132 \nC 1.55874 -2.683901 0.795609 -3 0 -3 \nC -0.795609 -3 -1.55874 -2.683901 -2.12132 -2.12132 \nC -2.683901 -1.55874 -3 -0.795609 -3 0 \nC -3 0.795609 -2.683901 1.55874 -2.12132 2.12132 \nC -1.55874 2.683901 -0.795609 3 0 3 \nz\n\" id=\"m4c4d38507e\" style=\"stroke:#1f77b4;\"/>\n     </defs>\n     <g>\n      <use style=\"fill:#1f77b4;stroke:#1f77b4;\" x=\"245.506875\" xlink:href=\"#m4c4d38507e\" y=\"53.212187\"/>\n     </g>\n    </g>\n    <g id=\"text_18\">\n     <!-- Q-SR -->\n     <defs>\n      <path d=\"M 44.484375 -1.3125 \nL 43.015625 -1.3125 \nQ 25 -1.3125 14.984375 8.640625 \nQ 4.984375 18.609375 4.984375 36.375 \nQ 4.984375 54.109375 14.96875 64.15625 \nQ 24.953125 74.21875 42.484375 74.21875 \nQ 60.203125 74.21875 70.09375 64.25 \nQ 79.984375 54.296875 79.984375 36.375 \nQ 79.984375 24.078125 74.734375 15.1875 \nQ 69.484375 6.296875 59.625 1.8125 \nL 74.3125 -14.59375 \nL 56.390625 -14.59375 \nz\nM 42.484375 60.59375 \nQ 33.890625 60.59375 29.15625 54.25 \nQ 24.421875 47.90625 24.421875 36.375 \nQ 24.421875 24.65625 29.046875 18.421875 \nQ 33.6875 12.203125 42.484375 12.203125 \nQ 51.125 12.203125 55.859375 18.546875 \nQ 60.59375 24.90625 60.59375 36.375 \nQ 60.59375 47.90625 55.859375 54.25 \nQ 51.125 60.59375 42.484375 60.59375 \nz\n\" id=\"DejaVuSans-Bold-81\"/>\n      <path d=\"M 5.421875 35.890625 \nL 36.078125 35.890625 \nL 36.078125 21.6875 \nL 5.421875 21.6875 \nz\n\" id=\"DejaVuSans-Bold-45\"/>\n      <path d=\"M 59.90625 70.609375 \nL 59.90625 55.171875 \nQ 53.90625 57.859375 48.1875 59.21875 \nQ 42.484375 60.59375 37.40625 60.59375 \nQ 30.671875 60.59375 27.4375 58.734375 \nQ 24.21875 56.890625 24.21875 52.984375 \nQ 24.21875 50.046875 26.390625 48.40625 \nQ 28.5625 46.78125 34.28125 45.609375 \nL 42.28125 44 \nQ 54.4375 41.546875 59.5625 36.5625 \nQ 64.703125 31.59375 64.703125 22.40625 \nQ 64.703125 10.359375 57.546875 4.46875 \nQ 50.390625 -1.421875 35.6875 -1.421875 \nQ 28.765625 -1.421875 21.78125 -0.09375 \nQ 14.796875 1.21875 7.8125 3.8125 \nL 7.8125 19.671875 \nQ 14.796875 15.96875 21.3125 14.078125 \nQ 27.828125 12.203125 33.890625 12.203125 \nQ 40.046875 12.203125 43.3125 14.25 \nQ 46.578125 16.3125 46.578125 20.125 \nQ 46.578125 23.53125 44.359375 25.390625 \nQ 42.140625 27.25 35.5 28.71875 \nL 28.21875 30.328125 \nQ 17.28125 32.671875 12.21875 37.796875 \nQ 7.171875 42.921875 7.171875 51.609375 \nQ 7.171875 62.5 14.203125 68.359375 \nQ 21.234375 74.21875 34.421875 74.21875 \nQ 40.4375 74.21875 46.78125 73.3125 \nQ 53.125 72.40625 59.90625 70.609375 \nz\n\" id=\"DejaVuSans-Bold-83\"/>\n      <path d=\"M 35.890625 40.578125 \nQ 41.796875 40.578125 44.359375 42.765625 \nQ 46.921875 44.96875 46.921875 50 \nQ 46.921875 54.984375 44.359375 57.125 \nQ 41.796875 59.28125 35.890625 59.28125 \nL 27.984375 59.28125 \nL 27.984375 40.578125 \nz\nM 27.984375 27.59375 \nL 27.984375 0 \nL 9.1875 0 \nL 9.1875 72.90625 \nL 37.890625 72.90625 \nQ 52.296875 72.90625 59 68.0625 \nQ 65.71875 63.234375 65.71875 52.78125 \nQ 65.71875 45.5625 62.21875 40.921875 \nQ 58.734375 36.28125 51.703125 34.078125 \nQ 55.5625 33.203125 58.609375 30.09375 \nQ 61.671875 27 64.796875 20.703125 \nL 75 0 \nL 54.984375 0 \nL 46.09375 18.109375 \nQ 43.40625 23.578125 40.640625 25.578125 \nQ 37.890625 27.59375 33.296875 27.59375 \nz\n\" id=\"DejaVuSans-Bold-82\"/>\n     </defs>\n     <g transform=\"translate(263.506875 56.712187)scale(0.1 -0.1)\">\n      <use xlink:href=\"#DejaVuSans-Bold-81\"/>\n      <use x=\"85.025391\" xlink:href=\"#DejaVuSans-Bold-45\"/>\n      <use x=\"126.529297\" xlink:href=\"#DejaVuSans-Bold-83\"/>\n      <use x=\"198.550781\" xlink:href=\"#DejaVuSans-Bold-82\"/>\n     </g>\n    </g>\n    <g id=\"line2d_27\">\n     <path d=\"M 235.506875 67.890312 \nL 255.506875 67.890312 \n\" style=\"fill:none;stroke:#ff7f0e;stroke-linecap:square;stroke-width:1.5;\"/>\n    </g>\n    <g id=\"line2d_28\">\n     <defs>\n      <path d=\"M -1.5 3 \nL 0 1.5 \nL 1.5 3 \nL 3 1.5 \nL 1.5 0 \nL 3 -1.5 \nL 1.5 -3 \nL 0 -1.5 \nL -1.5 -3 \nL -3 -1.5 \nL -1.5 0 \nL -3 1.5 \nz\n\" id=\"mf3de27599a\" style=\"stroke:#ff7f0e;stroke-linejoin:miter;\"/>\n     </defs>\n     <g>\n      <use style=\"fill:#ff7f0e;stroke:#ff7f0e;stroke-linejoin:miter;\" x=\"245.506875\" xlink:href=\"#mf3de27599a\" y=\"67.890312\"/>\n     </g>\n    </g>\n    <g id=\"text_19\">\n     <!-- Q-SAR -->\n     <defs>\n      <path d=\"M 53.421875 13.28125 \nL 24.03125 13.28125 \nL 19.390625 0 \nL 0.484375 0 \nL 27.484375 72.90625 \nL 49.90625 72.90625 \nL 76.90625 0 \nL 58.015625 0 \nz\nM 28.71875 26.8125 \nL 48.6875 26.8125 \nL 38.71875 55.8125 \nz\n\" id=\"DejaVuSans-Bold-65\"/>\n     </defs>\n     <g transform=\"translate(263.506875 71.390312)scale(0.1 -0.1)\">\n      <use xlink:href=\"#DejaVuSans-Bold-81\"/>\n      <use x=\"85.025391\" xlink:href=\"#DejaVuSans-Bold-45\"/>\n      <use x=\"126.529297\" xlink:href=\"#DejaVuSans-Bold-83\"/>\n      <use x=\"198.550781\" xlink:href=\"#DejaVuSans-Bold-65\"/>\n      <use x=\"275.943359\" xlink:href=\"#DejaVuSans-Bold-82\"/>\n     </g>\n    </g>\n    <g id=\"line2d_29\">\n     <path d=\"M 235.506875 82.568437 \nL 255.506875 82.568437 \n\" style=\"fill:none;stroke:#2ca02c;stroke-linecap:square;stroke-width:1.5;\"/>\n    </g>\n    <g id=\"line2d_30\">\n     <defs>\n      <path d=\"M -3 3 \nL 3 3 \nL 3 -3 \nL -3 -3 \nz\n\" id=\"m71a39ede29\" style=\"stroke:#2ca02c;stroke-linejoin:miter;\"/>\n     </defs>\n     <g>\n      <use style=\"fill:#2ca02c;stroke:#2ca02c;stroke-linejoin:miter;\" x=\"245.506875\" xlink:href=\"#m71a39ede29\" y=\"82.568437\"/>\n     </g>\n    </g>\n    <g id=\"text_20\">\n     <!-- Q-BS -->\n     <defs>\n      <path d=\"M 38.375 44.671875 \nQ 42.828125 44.671875 45.109375 46.625 \nQ 47.40625 48.578125 47.40625 52.390625 \nQ 47.40625 56.15625 45.109375 58.125 \nQ 42.828125 60.109375 38.375 60.109375 \nL 27.984375 60.109375 \nL 27.984375 44.671875 \nz\nM 39.015625 12.796875 \nQ 44.671875 12.796875 47.53125 15.1875 \nQ 50.390625 17.578125 50.390625 22.40625 \nQ 50.390625 27.15625 47.5625 29.515625 \nQ 44.734375 31.890625 39.015625 31.890625 \nL 27.984375 31.890625 \nL 27.984375 12.796875 \nz\nM 56.5 39.015625 \nQ 62.546875 37.25 65.859375 32.515625 \nQ 69.1875 27.78125 69.1875 20.90625 \nQ 69.1875 10.359375 62.0625 5.171875 \nQ 54.9375 0 40.375 0 \nL 9.1875 0 \nL 9.1875 72.90625 \nL 37.40625 72.90625 \nQ 52.59375 72.90625 59.40625 68.3125 \nQ 66.21875 63.71875 66.21875 53.609375 \nQ 66.21875 48.296875 63.71875 44.5625 \nQ 61.234375 40.828125 56.5 39.015625 \nz\n\" id=\"DejaVuSans-Bold-66\"/>\n     </defs>\n     <g transform=\"translate(263.506875 86.068437)scale(0.1 -0.1)\">\n      <use xlink:href=\"#DejaVuSans-Bold-81\"/>\n      <use x=\"85.025391\" xlink:href=\"#DejaVuSans-Bold-45\"/>\n      <use x=\"126.529297\" xlink:href=\"#DejaVuSans-Bold-66\"/>\n      <use x=\"202.75\" xlink:href=\"#DejaVuSans-Bold-83\"/>\n     </g>\n    </g>\n    <g id=\"line2d_31\">\n     <path d=\"M 235.506875 97.246562 \nL 255.506875 97.246562 \n\" style=\"fill:none;stroke:#d62728;stroke-linecap:square;stroke-width:1.5;\"/>\n    </g>\n    <g id=\"line2d_32\">\n     <defs>\n      <path d=\"M -1 3 \nL 1 3 \nL 1 1 \nL 3 1 \nL 3 -1 \nL 1 -1 \nL 1 -3 \nL -1 -3 \nL -1 -1 \nL -3 -1 \nL -3 1 \nL -1 1 \nz\n\" id=\"md5ab3ef1a8\" style=\"stroke:#d62728;stroke-linejoin:miter;\"/>\n     </defs>\n     <g>\n      <use style=\"fill:#d62728;stroke:#d62728;stroke-linejoin:miter;\" x=\"245.506875\" xlink:href=\"#md5ab3ef1a8\" y=\"97.246562\"/>\n     </g>\n    </g>\n    <g id=\"text_21\">\n     <!-- Q-Uniform -->\n     <defs>\n      <path d=\"M 9.1875 72.90625 \nL 27.984375 72.90625 \nL 27.984375 29.203125 \nQ 27.984375 20.171875 30.9375 16.28125 \nQ 33.890625 12.40625 40.578125 12.40625 \nQ 47.3125 12.40625 50.265625 16.28125 \nQ 53.21875 20.171875 53.21875 29.203125 \nL 53.21875 72.90625 \nL 72.015625 72.90625 \nL 72.015625 29.203125 \nQ 72.015625 13.71875 64.25 6.140625 \nQ 56.5 -1.421875 40.578125 -1.421875 \nQ 24.703125 -1.421875 16.9375 6.140625 \nQ 9.1875 13.71875 9.1875 29.203125 \nz\n\" id=\"DejaVuSans-Bold-85\"/>\n      <path d=\"M 63.375 33.296875 \nL 63.375 0 \nL 45.796875 0 \nL 45.796875 5.421875 \nL 45.796875 25.484375 \nQ 45.796875 32.5625 45.484375 35.25 \nQ 45.171875 37.9375 44.390625 39.203125 \nQ 43.359375 40.921875 41.59375 41.875 \nQ 39.84375 42.828125 37.59375 42.828125 \nQ 32.125 42.828125 29 38.59375 \nQ 25.875 34.375 25.875 26.90625 \nL 25.875 0 \nL 8.40625 0 \nL 8.40625 54.6875 \nL 25.875 54.6875 \nL 25.875 46.6875 \nQ 29.828125 51.46875 34.265625 53.734375 \nQ 38.71875 56 44.09375 56 \nQ 53.5625 56 58.46875 50.1875 \nQ 63.375 44.390625 63.375 33.296875 \nz\n\" id=\"DejaVuSans-Bold-110\"/>\n      <path d=\"M 44.390625 75.984375 \nL 44.390625 64.5 \nL 34.71875 64.5 \nQ 31 64.5 29.53125 63.15625 \nQ 28.078125 61.8125 28.078125 58.5 \nL 28.078125 54.6875 \nL 43.015625 54.6875 \nL 43.015625 42.1875 \nL 28.078125 42.1875 \nL 28.078125 0 \nL 10.59375 0 \nL 10.59375 42.1875 \nL 1.90625 42.1875 \nL 1.90625 54.6875 \nL 10.59375 54.6875 \nL 10.59375 58.5 \nQ 10.59375 67.4375 15.578125 71.703125 \nQ 20.5625 75.984375 31 75.984375 \nz\n\" id=\"DejaVuSans-Bold-102\"/>\n      <path d=\"M 49.03125 39.796875 \nQ 46.734375 40.875 44.453125 41.375 \nQ 42.1875 41.890625 39.890625 41.890625 \nQ 33.15625 41.890625 29.515625 37.5625 \nQ 25.875 33.25 25.875 25.203125 \nL 25.875 0 \nL 8.40625 0 \nL 8.40625 54.6875 \nL 25.875 54.6875 \nL 25.875 45.703125 \nQ 29.25 51.078125 33.609375 53.53125 \nQ 37.984375 56 44.09375 56 \nQ 44.96875 56 45.984375 55.921875 \nQ 47.015625 55.859375 48.96875 55.609375 \nz\n\" id=\"DejaVuSans-Bold-114\"/>\n      <path d=\"M 59.078125 45.609375 \nQ 62.40625 50.6875 66.96875 53.34375 \nQ 71.53125 56 77 56 \nQ 86.421875 56 91.359375 50.1875 \nQ 96.296875 44.390625 96.296875 33.296875 \nL 96.296875 0 \nL 78.71875 0 \nL 78.71875 28.515625 \nQ 78.765625 29.15625 78.78125 29.828125 \nQ 78.8125 30.515625 78.8125 31.78125 \nQ 78.8125 37.59375 77.09375 40.203125 \nQ 75.390625 42.828125 71.578125 42.828125 \nQ 66.609375 42.828125 63.890625 38.71875 \nQ 61.1875 34.625 61.078125 26.859375 \nL 61.078125 0 \nL 43.5 0 \nL 43.5 28.515625 \nQ 43.5 37.59375 41.9375 40.203125 \nQ 40.375 42.828125 36.375 42.828125 \nQ 31.34375 42.828125 28.609375 38.703125 \nQ 25.875 34.578125 25.875 26.90625 \nL 25.875 0 \nL 8.296875 0 \nL 8.296875 54.6875 \nL 25.875 54.6875 \nL 25.875 46.6875 \nQ 29.109375 51.3125 33.28125 53.65625 \nQ 37.453125 56 42.484375 56 \nQ 48.140625 56 52.484375 53.265625 \nQ 56.84375 50.53125 59.078125 45.609375 \nz\n\" id=\"DejaVuSans-Bold-109\"/>\n     </defs>\n     <g transform=\"translate(263.506875 100.746562)scale(0.1 -0.1)\">\n      <use xlink:href=\"#DejaVuSans-Bold-81\"/>\n      <use x=\"85.025391\" xlink:href=\"#DejaVuSans-Bold-45\"/>\n      <use x=\"126.529297\" xlink:href=\"#DejaVuSans-Bold-85\"/>\n      <use x=\"207.730469\" xlink:href=\"#DejaVuSans-Bold-110\"/>\n      <use x=\"278.921875\" xlink:href=\"#DejaVuSans-Bold-105\"/>\n      <use x=\"313.199219\" xlink:href=\"#DejaVuSans-Bold-102\"/>\n      <use x=\"356.705078\" xlink:href=\"#DejaVuSans-Bold-111\"/>\n      <use x=\"425.40625\" xlink:href=\"#DejaVuSans-Bold-114\"/>\n      <use x=\"474.722656\" xlink:href=\"#DejaVuSans-Bold-109\"/>\n     </g>\n    </g>\n   </g>\n  </g>\n </g>\n <defs>\n  <clipPath id=\"p6920446083\">\n   <rect height=\"217.44\" width=\"279\" x=\"51.399063\" y=\"25.3575\"/>\n  </clipPath>\n </defs>\n</svg>\n",
      "image/png": "[encoded data removed]"
     },
     "metadata": {
      "needs_background": "light"
     }
    }
   ],
   "source": [
    "# save results\n",
    "\n",
    "with open('../Group_One_Fixed_Budget_m5_exper_100_budget_1000_4000_with_noise.pickle', 'wb') as handle:\n",
    "     pickle.dump(results, handle, protocol=pickle.HIGHEST_PROTOCOL)\n",
    "\n",
    "# with open('../Group_One_Fixed_Budget.pickle', 'rb') as handle:\n",
    "#     results = pickle.load(handle)\n",
    "\n",
    "plot_eva_budget(results, 'pe', paper_flag = True, with_para = True, title = 'Group_One_Fixed_Budget', log_scale = False)"
   ]
  },
  {
   "cell_type": "code",
   "execution_count": null,
   "metadata": {},
   "outputs": [],
   "source": []
  }
 ],
 "metadata": {
  "kernelspec": {
   "display_name": "Python 3",
   "language": "python",
   "name": "python3"
  },
  "language_info": {
   "codemirror_mode": {
    "name": "ipython",
    "version": 3
   },
   "file_extension": ".py",
   "mimetype": "text/x-python",
   "name": "python",
   "nbconvert_exporter": "python",
   "pygments_lexer": "ipython3",
   "version": "3.7.3-final"
  },
  "toc": {
   "base_numbering": 1,
   "nav_menu": {},
   "number_sections": true,
   "sideBar": true,
   "skip_h1_title": false,
   "title_cell": "Table of Contents",
   "title_sidebar": "Contents",
   "toc_cell": false,
   "toc_position": {},
   "toc_section_display": true,
   "toc_window_display": false
  },
  "varInspector": {
   "cols": {
    "lenName": 16,
    "lenType": 16,
    "lenVar": 40
   },
   "kernels_config": {
    "python": {
     "delete_cmd_postfix": "",
     "delete_cmd_prefix": "del ",
     "library": "var_list.py",
     "varRefreshCmd": "print(var_dic_list())"
    },
    "r": {
     "delete_cmd_postfix": ") ",
     "delete_cmd_prefix": "rm(",
     "library": "var_list.r",
     "varRefreshCmd": "cat(var_dic_list()) "
    }
   },
   "types_to_exclude": [
    "module",
    "function",
    "builtin_function_or_method",
    "instance",
    "_Feature"
   ],
   "window_display": false
  }
 },
 "nbformat": 4,
 "nbformat_minor": 2
}