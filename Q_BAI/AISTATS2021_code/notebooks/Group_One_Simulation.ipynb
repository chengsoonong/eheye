{
 "cells": [
  {
   "cell_type": "markdown",
   "metadata": {},
   "source": [
    "In this notebook, we show the simulation for the Group One design.\n",
    "\n",
    "Group one shows quantiles and means can reflect different preference order and the quantiles are preferred by the risk-averse agents, i.e. Arm B is preferred since its less low rewards.\n",
    "We compare our algorithms with the quantile-based baseline algorithms in terms of Group One design.\n",
    "\n",
    "To be able to compare with quantile based baseline algorithm, our first group of experiment is constraint with identifying a single arm ($m$ = 1). We consider $K = 20$ arms with 15 arm A, 1 arm B and 4 arm C. The quality of arm is evaluated by 0.5-quantile ($\\tau = 0.5$). The optimal arm  is $B$."
   ]
  },
  {
   "cell_type": "code",
   "execution_count": 8,
   "metadata": {},
   "outputs": [],
   "source": [
    "# direct to proper path\n",
    "import os\n",
    "import sys\n",
    "module_path = os.path.abspath(os.path.join('..'))\n",
    "if module_path not in sys.path:\n",
    "    sys.path.append(module_path)\n",
    "    \n",
    "import numpy as np\n",
    "from ipywidgets import IntProgress\n",
    "from IPython.display import display\n",
    "import matplotlib.pyplot as plt\n",
    "from collections import defaultdict\n",
    "import seaborn as sns\n",
    "import pickle\n",
    "from prettytable import PrettyTable\n",
    "\n",
    "from codes.BAI_FixedBudget import *\n",
    "from codes.Environment import Mixture_AbsGau, setup_env, Exp\n",
    "from codes.SimulatedGames import simulate\n",
    "from codes.plots import *\n",
    "\n",
    "%matplotlib inline"
   ]
  },
  {
   "cell_type": "code",
   "execution_count": 17,
   "metadata": {
    "tags": []
   },
   "outputs": [
    {
     "output_type": "stream",
     "name": "stdout",
     "text": "{<class 'codes.Environment.Mixture_AbsGau'>: [[0, 2, 0, 1, 1], [3.5, 2, 0, 1, 1], [3.5, 2, 0, 1, 1], [3.5, 2, 0, 1, 1], [3.5, 2, 0, 1, 1], [3.5, 2, 0, 1, 1], [0, 2, 0, 1, 1], [0, 2, 0, 1, 1], [0, 2, 0, 1, 1], [0, 2, 0, 1, 1], [0, 2, 0, 1, 1], [0, 2, 0, 1, 1], [0, 2, 0, 1, 1], [0, 2, 0, 1, 1], [0, 2, 0, 1, 1], [0, 2, 0, 1, 1], [0, 2, 0, 1, 1], [0, 2, 0, 1, 1], [0, 2, 0, 1, 1], [0, 2, 0, 1, 1]], <class 'codes.Environment.Exp'>: [[0.25], [0.25], [0.25], [0.25]]}\n"
    }
   ],
   "source": [
    "# environment\n",
    "\n",
    "environments = [\n",
    "    {Mixture_AbsGau: [[0, 2, 0,1, 1], [3.5, 2, 0, 1, 1], \n",
    "                      [3.5, 2, 0, 1, 1], [3.5, 2, 0, 1, 1], \n",
    "                      [3.5, 2, 0, 1, 1], [3.5, 2, 0, 1, 1], \n",
    "                      [0, 2, 0,1, 1],  \n",
    "                      [0, 2, 0,1, 1], \n",
    "                      [0, 2, 0,1, 1], \n",
    "                      [0, 2, 0,1, 1],  \n",
    "                      [0, 2, 0,1, 1], \n",
    "                      [0, 2, 0,1, 1], \n",
    "                      [0, 2, 0,1, 1],  \n",
    "                      [0, 2, 0,1, 1], \n",
    "                      [0, 2, 0,1, 1], \n",
    "                      [0, 2, 0,1, 1],  \n",
    "                      [0, 2, 0,1, 1], \n",
    "                      [0, 2, 0,1, 1], \n",
    "                      [0, 2, 0,1, 1],  \n",
    "                      [0, 2, 0,1, 1],  \n",
    "                     ],\n",
    "     Exp: [[1/4], [1/4], [1/4], [1/4]]\n",
    "    } # mu1, sigma1, mu2, sigma2, p\n",
    "    \n",
    "]\n",
    "\n",
    "# environments = [\n",
    "#     {Mixture_AbsGau: [[0, 1.5, 0, 1, 1],\n",
    "#                         [0, 1.5, 0, 1, 1],\n",
    "#                         [0, 1.5, 0, 1, 1],\n",
    "#                         [0, 1.5, 0, 1, 1],\n",
    "#                         [0, 1.5, 0, 1, 1], \n",
    "#                       [3.5, 2, 0,1, 1],\n",
    "#                       [3.5, 2, 0,1, 1],\n",
    "#                       [3.5, 2, 0,1, 1],\n",
    "#                       [3.5, 2, 0,1, 1],\n",
    "#                       [3.5, 2, 0,1, 1],\n",
    "#                      ],\n",
    "#      Exp: [[1/4], [1/4], [1/4], [1/4], [1/4]]\n",
    "#     } # mu1, sigma1, mu2, sigma2, p\n",
    "    \n",
    "# ]\n",
    "\n",
    "tau = 0.5 # quantile level\n",
    "\n",
    "rewards_env, true_ss_dict, samples = setup_env(environments, ['quantile_0.5'])"
   ]
  },
  {
   "cell_type": "code",
   "execution_count": 18,
   "metadata": {},
   "outputs": [
    {
     "output_type": "execute_result",
     "data": {
      "text/plain": "{'Mixture_AbsGau_[[0, 2, 0, 1, 1], [3.5, 2, 0, 1, 1], [3.5, 2, 0, 1, 1], [3.5, 2, 0, 1, 1], [3.5, 2, 0, 1, 1], [3.5, 2, 0, 1, 1], [0, 2, 0, 1, 1], [0, 2, 0, 1, 1], [0, 2, 0, 1, 1], [0, 2, 0, 1, 1], [0, 2, 0, 1, 1], [0, 2, 0, 1, 1], [0, 2, 0, 1, 1], [0, 2, 0, 1, 1], [0, 2, 0, 1, 1], [0, 2, 0, 1, 1], [0, 2, 0, 1, 1], [0, 2, 0, 1, 1], [0, 2, 0, 1, 1], [0, 2, 0, 1, 1]]Exp_[[0.25], [0.25], [0.25], [0.25]]': defaultdict(list,\n             {'mean': [1.5900549575100253,\n               3.5630806277284885,\n               3.564956059751195,\n               3.5672079227193,\n               3.553032312661414,\n               3.565025285536994,\n               1.5865632766964313,\n               1.5997200088534864,\n               1.598716744569231,\n               1.6033372415087226,\n               1.5921725025216173,\n               1.5905340608880452,\n               1.595264375032306,\n               1.5940390001683917,\n               1.5855921783662617,\n               1.5920311157012519,\n               1.6037909990627115,\n               1.6000505702822545,\n               1.6059284368016986,\n               1.5953122169388887,\n               4.0132044878915165,\n               3.9953179730945023,\n               3.950232360615221,\n               4.0034209004836345]})}"
     },
     "metadata": {},
     "execution_count": 18
    }
   ],
   "source": [
    "true_ss_dict"
   ]
  },
  {
   "cell_type": "code",
   "execution_count": 11,
   "metadata": {},
   "outputs": [],
   "source": [
    "# run experiments\n",
    "\n",
    "def run_exper(rewards_env, summary_stats, policy, epsilon, m, budget, num_exper, \n",
    "              fixed_samples_list = None):\n",
    "    for key in rewards_env.keys():\n",
    "        name = key + '_' + str(num_exper)\n",
    "        policy_name = str(policy).split('.')[-1].split('\\'')[0] + '-'\n",
    "        subname = policy_name  + str(budget) \n",
    "        p = IntProgress(max = num_exper)\n",
    "        p.description = 'Running'\n",
    "        display(p)\n",
    "        results[name][subname] = []\n",
    "\n",
    "        result = simulate(rewards_env[key],summary_stats[key], policy, \n",
    "                epsilon, m, budget, num_exper, p, fixed_samples_list)\n",
    "        results[name][subname].append(result)"
   ]
  },
  {
   "cell_type": "markdown",
   "metadata": {},
   "source": [
    "## Fixed Budget\n",
    "\n",
    "We consider the problem of ($\\epsilon, m , \\tau$)-best arm identification problem with $\\epsilon = 0, m = 1, \\tau = 0.5$ and a fixed budget $N$ = 2500. \n",
    "We show the performance of \n",
    "- Q-UGapEb with true problem complexity, \n",
    "- Adaptive Q-UGapEb (Adp-Q-UGapEb, with estimated problem complexity).\n",
    "- And we also show the performance Q-SAR. \n",
    "\n",
    "We compare our algorithms with \n",
    "- Quantile uniform sampling (Q-Uniform), where each arm is sampled uniformly and select the arm with the maximum 0.5-quantile; \n",
    "- Quantile Batch Elimination (Q-BE) proposed in , where we choose drop one arm for each phase.\n",
    "\n",
    "The performance is evaluated by the probability of error with 100 times of repeated experiment."
   ]
  },
  {
   "cell_type": "code",
   "execution_count": 12,
   "metadata": {},
   "outputs": [],
   "source": [
    "# setting\n",
    "\n",
    "results = defaultdict(dict)\n",
    "\n",
    "num_arms = 20\n",
    "num_exper = 500\n",
    "budget = 1000\n",
    "epsilon = 0\n",
    "m = 5"
   ]
  },
  {
   "cell_type": "code",
   "execution_count": 13,
   "metadata": {
    "tags": []
   },
   "outputs": [
    {
     "output_type": "display_data",
     "data": {
      "text/plain": "IntProgress(value=0, description='Running', max=500)",
      "application/vnd.jupyter.widget-view+json": {
       "version_major": 2,
       "version_minor": 0,
       "model_id": "c88141f6b49142febc8f0282484bde6c"
      }
     },
     "metadata": {}
    },
    {
     "output_type": "display_data",
     "data": {
      "text/plain": "IntProgress(value=0, description='Running', max=500)",
      "application/vnd.jupyter.widget-view+json": {
       "version_major": 2,
       "version_minor": 0,
       "model_id": "7e7fd80ed7834375bed28838c99667bb"
      }
     },
     "metadata": {}
    },
    {
     "output_type": "display_data",
     "data": {
      "text/plain": "IntProgress(value=0, description='Running', max=500)",
      "application/vnd.jupyter.widget-view+json": {
       "version_major": 2,
       "version_minor": 0,
       "model_id": "b3c882e455d44d8ab0716f595638507c"
      }
     },
     "metadata": {}
    },
    {
     "output_type": "display_data",
     "data": {
      "text/plain": "IntProgress(value=0, description='Running', max=500)",
      "application/vnd.jupyter.widget-view+json": {
       "version_major": 2,
       "version_minor": 0,
       "model_id": "dfa8df025a2645f1b4b8c4fe0f2c219a"
      }
     },
     "metadata": {}
    },
    {
     "output_type": "display_data",
     "data": {
      "text/plain": "IntProgress(value=0, description='Running', max=500)",
      "application/vnd.jupyter.widget-view+json": {
       "version_major": 2,
       "version_minor": 0,
       "model_id": "2fddabcc9c0943e9af469f55adfba90e"
      }
     },
     "metadata": {}
    },
    {
     "output_type": "display_data",
     "data": {
      "text/plain": "IntProgress(value=0, description='Running', max=500)",
      "application/vnd.jupyter.widget-view+json": {
       "version_major": 2,
       "version_minor": 0,
       "model_id": "1066a5eeaadb4155a3994dfb8ad7f9e6"
      }
     },
     "metadata": {}
    },
    {
     "output_type": "display_data",
     "data": {
      "text/plain": "IntProgress(value=0, description='Running', max=500)",
      "application/vnd.jupyter.widget-view+json": {
       "version_major": 2,
       "version_minor": 0,
       "model_id": "5cd2fb25aca048918d9cb0c77aabb887"
      }
     },
     "metadata": {}
    },
    {
     "output_type": "display_data",
     "data": {
      "text/plain": "IntProgress(value=0, description='Running', max=500)",
      "application/vnd.jupyter.widget-view+json": {
       "version_major": 2,
       "version_minor": 0,
       "model_id": "647bb42a65ea4556ba80d6cfb2a184a4"
      }
     },
     "metadata": {}
    },
    {
     "output_type": "display_data",
     "data": {
      "text/plain": "IntProgress(value=0, description='Running', max=500)",
      "application/vnd.jupyter.widget-view+json": {
       "version_major": 2,
       "version_minor": 0,
       "model_id": "14f321ea8e0245ec969d7a896bc34700"
      }
     },
     "metadata": {}
    },
    {
     "output_type": "display_data",
     "data": {
      "text/plain": "IntProgress(value=0, description='Running', max=500)",
      "application/vnd.jupyter.widget-view+json": {
       "version_major": 2,
       "version_minor": 0,
       "model_id": "fcd4bbc24d4b4849878c5dff884e79bc"
      }
     },
     "metadata": {}
    },
    {
     "output_type": "display_data",
     "data": {
      "text/plain": "IntProgress(value=0, description='Running', max=500)",
      "application/vnd.jupyter.widget-view+json": {
       "version_major": 2,
       "version_minor": 0,
       "model_id": "6631a042e2d8475b9a8ef06878d273e1"
      }
     },
     "metadata": {}
    },
    {
     "output_type": "display_data",
     "data": {
      "text/plain": "IntProgress(value=0, description='Running', max=500)",
      "application/vnd.jupyter.widget-view+json": {
       "version_major": 2,
       "version_minor": 0,
       "model_id": "23c7fc59dbda45c5bfa841c5be444d96"
      }
     },
     "metadata": {}
    },
    {
     "output_type": "display_data",
     "data": {
      "text/plain": "IntProgress(value=0, description='Running', max=500)",
      "application/vnd.jupyter.widget-view+json": {
       "version_major": 2,
       "version_minor": 0,
       "model_id": "176d38f2e54245c2becbdb2ad0a74ea7"
      }
     },
     "metadata": {}
    },
    {
     "output_type": "display_data",
     "data": {
      "text/plain": "IntProgress(value=0, description='Running', max=500)",
      "application/vnd.jupyter.widget-view+json": {
       "version_major": 2,
       "version_minor": 0,
       "model_id": "3f46685bd94c4c5d97269dfd784b44f4"
      }
     },
     "metadata": {}
    },
    {
     "output_type": "display_data",
     "data": {
      "text/plain": "IntProgress(value=0, description='Running', max=500)",
      "application/vnd.jupyter.widget-view+json": {
       "version_major": 2,
       "version_minor": 0,
       "model_id": "bb5bcde100ef4eb781324103b96a837a"
      }
     },
     "metadata": {}
    },
    {
     "output_type": "display_data",
     "data": {
      "text/plain": "IntProgress(value=0, description='Running', max=500)",
      "application/vnd.jupyter.widget-view+json": {
       "version_major": 2,
       "version_minor": 0,
       "model_id": "2ca455d6edd04da0a736dd762ec7307a"
      }
     },
     "metadata": {}
    },
    {
     "output_type": "display_data",
     "data": {
      "text/plain": "IntProgress(value=0, description='Running', max=500)",
      "application/vnd.jupyter.widget-view+json": {
       "version_major": 2,
       "version_minor": 0,
       "model_id": "2514622d16154f089c2b95ca1b755db9"
      }
     },
     "metadata": {}
    },
    {
     "output_type": "display_data",
     "data": {
      "text/plain": "IntProgress(value=0, description='Running', max=500)",
      "application/vnd.jupyter.widget-view+json": {
       "version_major": 2,
       "version_minor": 0,
       "model_id": "479ec6680cd14b4ba2da6cbc408d93d2"
      }
     },
     "metadata": {}
    },
    {
     "output_type": "display_data",
     "data": {
      "text/plain": "IntProgress(value=0, description='Running', max=500)",
      "application/vnd.jupyter.widget-view+json": {
       "version_major": 2,
       "version_minor": 0,
       "model_id": "b2cf363efa2f46bbb55b5943c0245c8a"
      }
     },
     "metadata": {}
    },
    {
     "output_type": "display_data",
     "data": {
      "text/plain": "IntProgress(value=0, description='Running', max=500)",
      "application/vnd.jupyter.widget-view+json": {
       "version_major": 2,
       "version_minor": 0,
       "model_id": "0ea6b2e0dafa497c8fdfc41ca029a897"
      }
     },
     "metadata": {}
    },
    {
     "output_type": "display_data",
     "data": {
      "text/plain": "IntProgress(value=0, description='Running', max=500)",
      "application/vnd.jupyter.widget-view+json": {
       "version_major": 2,
       "version_minor": 0,
       "model_id": "a8cf60abff7a4012934a750b22725762"
      }
     },
     "metadata": {}
    },
    {
     "output_type": "display_data",
     "data": {
      "text/plain": "IntProgress(value=0, description='Running', max=500)",
      "application/vnd.jupyter.widget-view+json": {
       "version_major": 2,
       "version_minor": 0,
       "model_id": "2e43dc946f3349a5a6e4a59b876c2b77"
      }
     },
     "metadata": {}
    },
    {
     "output_type": "display_data",
     "data": {
      "text/plain": "IntProgress(value=0, description='Running', max=500)",
      "application/vnd.jupyter.widget-view+json": {
       "version_major": 2,
       "version_minor": 0,
       "model_id": "12ec625c49b54a03927f9f2605f1315f"
      }
     },
     "metadata": {}
    },
    {
     "output_type": "display_data",
     "data": {
      "text/plain": "IntProgress(value=0, description='Running', max=500)",
      "application/vnd.jupyter.widget-view+json": {
       "version_major": 2,
       "version_minor": 0,
       "model_id": "095504d9677a4df19572182bcccbdcc0"
      }
     },
     "metadata": {}
    },
    {
     "output_type": "display_data",
     "data": {
      "text/plain": "IntProgress(value=0, description='Running', max=500)",
      "application/vnd.jupyter.widget-view+json": {
       "version_major": 2,
       "version_minor": 0,
       "model_id": "19565c35519b4afb834a2c05484dbbff"
      }
     },
     "metadata": {}
    },
    {
     "output_type": "display_data",
     "data": {
      "text/plain": "IntProgress(value=0, description='Running', max=500)",
      "application/vnd.jupyter.widget-view+json": {
       "version_major": 2,
       "version_minor": 0,
       "model_id": "69d74facc6a54136a3fd0d535bb40b6d"
      }
     },
     "metadata": {}
    },
    {
     "output_type": "display_data",
     "data": {
      "text/plain": "IntProgress(value=0, description='Running', max=500)",
      "application/vnd.jupyter.widget-view+json": {
       "version_major": 2,
       "version_minor": 0,
       "model_id": "1aed656ca28d41ba8b1ac5469de9608c"
      }
     },
     "metadata": {}
    },
    {
     "output_type": "display_data",
     "data": {
      "text/plain": "IntProgress(value=0, description='Running', max=500)",
      "application/vnd.jupyter.widget-view+json": {
       "version_major": 2,
       "version_minor": 0,
       "model_id": "dc905f69f9604ccda71b52b92ca635de"
      }
     },
     "metadata": {}
    },
    {
     "output_type": "display_data",
     "data": {
      "text/plain": "IntProgress(value=0, description='Running', max=500)",
      "application/vnd.jupyter.widget-view+json": {
       "version_major": 2,
       "version_minor": 0,
       "model_id": "12b8eaf7d8e040099e2f2f7b45a5b503"
      }
     },
     "metadata": {}
    },
    {
     "output_type": "display_data",
     "data": {
      "text/plain": "IntProgress(value=0, description='Running', max=500)",
      "application/vnd.jupyter.widget-view+json": {
       "version_major": 2,
       "version_minor": 0,
       "model_id": "227e900d6bcd460a843fde36e1c6f679"
      }
     },
     "metadata": {}
    },
    {
     "output_type": "display_data",
     "data": {
      "text/plain": "IntProgress(value=0, description='Running', max=500)",
      "application/vnd.jupyter.widget-view+json": {
       "version_major": 2,
       "version_minor": 0,
       "model_id": "26733c8a763141d3b80929e2a4205efb"
      }
     },
     "metadata": {}
    },
    {
     "output_type": "display_data",
     "data": {
      "text/plain": "IntProgress(value=0, description='Running', max=500)",
      "application/vnd.jupyter.widget-view+json": {
       "version_major": 2,
       "version_minor": 0,
       "model_id": "6dc1933a534c40dabb03c195bd39c0e7"
      }
     },
     "metadata": {}
    },
    {
     "output_type": "display_data",
     "data": {
      "text/plain": "IntProgress(value=0, description='Running', max=500)",
      "application/vnd.jupyter.widget-view+json": {
       "version_major": 2,
       "version_minor": 0,
       "model_id": "737a9854cb234506bf9dab5dc3ab6f72"
      }
     },
     "metadata": {}
    },
    {
     "output_type": "display_data",
     "data": {
      "text/plain": "IntProgress(value=0, description='Running', max=500)",
      "application/vnd.jupyter.widget-view+json": {
       "version_major": 2,
       "version_minor": 0,
       "model_id": "fa2b6693395e4b2bbe869c09494d470b"
      }
     },
     "metadata": {}
    },
    {
     "output_type": "display_data",
     "data": {
      "text/plain": "IntProgress(value=0, description='Running', max=500)",
      "application/vnd.jupyter.widget-view+json": {
       "version_major": 2,
       "version_minor": 0,
       "model_id": "bbd7062782604ead8842e178ba8af516"
      }
     },
     "metadata": {}
    },
    {
     "output_type": "display_data",
     "data": {
      "text/plain": "IntProgress(value=0, description='Running', max=500)",
      "application/vnd.jupyter.widget-view+json": {
       "version_major": 2,
       "version_minor": 0,
       "model_id": "5c282f54664349308c4d86e18aef0bd2"
      }
     },
     "metadata": {}
    }
   ],
   "source": [
    "for budget in [500, 750, 1000, 1250, 1500, 1750, 2000, 2250, 2500]:\n",
    "    # run_exper(rewards_env, true_ss_dict, Q_SAR_Simplified_Large_Margin, epsilon, m, budget, num_exper)\n",
    "\n",
    "    # run_exper(rewards_env, true_ss_dict, Q_SAR, epsilon, m, budget, num_exper)\n",
    "\n",
    "    run_exper(rewards_env, true_ss_dict, Q_SAR_Simplified, epsilon, m, budget, num_exper)\n",
    "\n",
    "    run_exper(rewards_env, true_ss_dict, Q_SR, epsilon, m, budget, num_exper)\n",
    "\n",
    "    # run_exper(rewards_env, true_ss_dict, OS_SAR_Simplified, epsilon, m, budget, num_exper)\n",
    "\n",
    "    run_exper(rewards_env, true_ss_dict, batch_elimination, epsilon, m, budget, num_exper)\n",
    "\n",
    "    run_exper(rewards_env, true_ss_dict, uniform_sampling, epsilon, m, budget, num_exper)"
   ]
  },
  {
   "cell_type": "code",
   "execution_count": 14,
   "metadata": {
    "tags": []
   },
   "outputs": [
    {
     "output_type": "stream",
     "name": "stdout",
     "text": "Budget  Probability of Error       std     Policy\n0    500                 0.844  0.036286      Q-SAR\n1    500                 0.814  0.038911       Q-SR\n2    500                 0.902  0.029731       Q-BS\n3    500                 0.870  0.033630  Q-Uniform\n4    750                 0.692  0.046167      Q-SAR\n"
    },
    {
     "output_type": "execute_result",
     "data": {
      "text/plain": "   Budget  Probability of Error       std     Policy\n0     500                 0.844  0.036286      Q-SAR\n1     500                 0.814  0.038911       Q-SR\n2     500                 0.902  0.029731       Q-BS\n3     500                 0.870  0.033630  Q-Uniform\n4     750                 0.692  0.046167      Q-SAR\n5     750                 0.790  0.040731       Q-SR\n6     750                 0.758  0.042829       Q-BS\n7     750                 0.798  0.040149  Q-Uniform\n8    1000                 0.630  0.048280      Q-SAR\n9    1000                 0.710  0.045376       Q-SR\n10   1000                 0.662  0.047303       Q-BS\n11   1000                 0.764  0.042462  Q-Uniform\n12   1250                 0.546  0.049788      Q-SAR\n13   1250                 0.654  0.047569       Q-SR\n14   1250                 0.572  0.049479       Q-BS\n15   1250                 0.692  0.046167  Q-Uniform\n16   1500                 0.436  0.049589      Q-SAR\n17   1500                 0.574  0.049449       Q-SR\n18   1500                 0.482  0.049968       Q-BS\n19   1500                 0.590  0.049183  Q-Uniform\n20   1750                 0.316  0.046491      Q-SAR\n21   1750                 0.498  0.050000       Q-SR\n22   1750                 0.476  0.049942       Q-BS\n23   1750                 0.592  0.049146  Q-Uniform\n24   2000                 0.230  0.042083      Q-SAR\n25   2000                 0.502  0.050000       Q-SR\n26   2000                 0.440  0.049639       Q-BS\n27   2000                 0.534  0.049884  Q-Uniform\n28   2250                 0.214  0.041013      Q-SAR\n29   2250                 0.378  0.048489       Q-SR\n30   2250                 0.364  0.048115       Q-BS\n31   2250                 0.550  0.049749  Q-Uniform\n32   2500                 0.176  0.038082      Q-SAR\n33   2500                 0.372  0.048334       Q-SR\n34   2500                 0.300  0.045826       Q-BS\n35   2500                 0.484  0.049974  Q-Uniform",
      "text/html": "<div>\n<style scoped>\n    .dataframe tbody tr th:only-of-type {\n        vertical-align: middle;\n    }\n\n    .dataframe tbody tr th {\n        vertical-align: top;\n    }\n\n    .dataframe thead th {\n        text-align: right;\n    }\n</style>\n<table border=\"1\" class=\"dataframe\">\n  <thead>\n    <tr style=\"text-align: right;\">\n      <th></th>\n      <th>Budget</th>\n      <th>Probability of Error</th>\n      <th>std</th>\n      <th>Policy</th>\n    </tr>\n  </thead>\n  <tbody>\n    <tr>\n      <th>0</th>\n      <td>500</td>\n      <td>0.844</td>\n      <td>0.036286</td>\n      <td>Q-SAR</td>\n    </tr>\n    <tr>\n      <th>1</th>\n      <td>500</td>\n      <td>0.814</td>\n      <td>0.038911</td>\n      <td>Q-SR</td>\n    </tr>\n    <tr>\n      <th>2</th>\n      <td>500</td>\n      <td>0.902</td>\n      <td>0.029731</td>\n      <td>Q-BS</td>\n    </tr>\n    <tr>\n      <th>3</th>\n      <td>500</td>\n      <td>0.870</td>\n      <td>0.033630</td>\n      <td>Q-Uniform</td>\n    </tr>\n    <tr>\n      <th>4</th>\n      <td>750</td>\n      <td>0.692</td>\n      <td>0.046167</td>\n      <td>Q-SAR</td>\n    </tr>\n    <tr>\n      <th>5</th>\n      <td>750</td>\n      <td>0.790</td>\n      <td>0.040731</td>\n      <td>Q-SR</td>\n    </tr>\n    <tr>\n      <th>6</th>\n      <td>750</td>\n      <td>0.758</td>\n      <td>0.042829</td>\n      <td>Q-BS</td>\n    </tr>\n    <tr>\n      <th>7</th>\n      <td>750</td>\n      <td>0.798</td>\n      <td>0.040149</td>\n      <td>Q-Uniform</td>\n    </tr>\n    <tr>\n      <th>8</th>\n      <td>1000</td>\n      <td>0.630</td>\n      <td>0.048280</td>\n      <td>Q-SAR</td>\n    </tr>\n    <tr>\n      <th>9</th>\n      <td>1000</td>\n      <td>0.710</td>\n      <td>0.045376</td>\n      <td>Q-SR</td>\n    </tr>\n    <tr>\n      <th>10</th>\n      <td>1000</td>\n      <td>0.662</td>\n      <td>0.047303</td>\n      <td>Q-BS</td>\n    </tr>\n    <tr>\n      <th>11</th>\n      <td>1000</td>\n      <td>0.764</td>\n      <td>0.042462</td>\n      <td>Q-Uniform</td>\n    </tr>\n    <tr>\n      <th>12</th>\n      <td>1250</td>\n      <td>0.546</td>\n      <td>0.049788</td>\n      <td>Q-SAR</td>\n    </tr>\n    <tr>\n      <th>13</th>\n      <td>1250</td>\n      <td>0.654</td>\n      <td>0.047569</td>\n      <td>Q-SR</td>\n    </tr>\n    <tr>\n      <th>14</th>\n      <td>1250</td>\n      <td>0.572</td>\n      <td>0.049479</td>\n      <td>Q-BS</td>\n    </tr>\n    <tr>\n      <th>15</th>\n      <td>1250</td>\n      <td>0.692</td>\n      <td>0.046167</td>\n      <td>Q-Uniform</td>\n    </tr>\n    <tr>\n      <th>16</th>\n      <td>1500</td>\n      <td>0.436</td>\n      <td>0.049589</td>\n      <td>Q-SAR</td>\n    </tr>\n    <tr>\n      <th>17</th>\n      <td>1500</td>\n      <td>0.574</td>\n      <td>0.049449</td>\n      <td>Q-SR</td>\n    </tr>\n    <tr>\n      <th>18</th>\n      <td>1500</td>\n      <td>0.482</td>\n      <td>0.049968</td>\n      <td>Q-BS</td>\n    </tr>\n    <tr>\n      <th>19</th>\n      <td>1500</td>\n      <td>0.590</td>\n      <td>0.049183</td>\n      <td>Q-Uniform</td>\n    </tr>\n    <tr>\n      <th>20</th>\n      <td>1750</td>\n      <td>0.316</td>\n      <td>0.046491</td>\n      <td>Q-SAR</td>\n    </tr>\n    <tr>\n      <th>21</th>\n      <td>1750</td>\n      <td>0.498</td>\n      <td>0.050000</td>\n      <td>Q-SR</td>\n    </tr>\n    <tr>\n      <th>22</th>\n      <td>1750</td>\n      <td>0.476</td>\n      <td>0.049942</td>\n      <td>Q-BS</td>\n    </tr>\n    <tr>\n      <th>23</th>\n      <td>1750</td>\n      <td>0.592</td>\n      <td>0.049146</td>\n      <td>Q-Uniform</td>\n    </tr>\n    <tr>\n      <th>24</th>\n      <td>2000</td>\n      <td>0.230</td>\n      <td>0.042083</td>\n      <td>Q-SAR</td>\n    </tr>\n    <tr>\n      <th>25</th>\n      <td>2000</td>\n      <td>0.502</td>\n      <td>0.050000</td>\n      <td>Q-SR</td>\n    </tr>\n    <tr>\n      <th>26</th>\n      <td>2000</td>\n      <td>0.440</td>\n      <td>0.049639</td>\n      <td>Q-BS</td>\n    </tr>\n    <tr>\n      <th>27</th>\n      <td>2000</td>\n      <td>0.534</td>\n      <td>0.049884</td>\n      <td>Q-Uniform</td>\n    </tr>\n    <tr>\n      <th>28</th>\n      <td>2250</td>\n      <td>0.214</td>\n      <td>0.041013</td>\n      <td>Q-SAR</td>\n    </tr>\n    <tr>\n      <th>29</th>\n      <td>2250</td>\n      <td>0.378</td>\n      <td>0.048489</td>\n      <td>Q-SR</td>\n    </tr>\n    <tr>\n      <th>30</th>\n      <td>2250</td>\n      <td>0.364</td>\n      <td>0.048115</td>\n      <td>Q-BS</td>\n    </tr>\n    <tr>\n      <th>31</th>\n      <td>2250</td>\n      <td>0.550</td>\n      <td>0.049749</td>\n      <td>Q-Uniform</td>\n    </tr>\n    <tr>\n      <th>32</th>\n      <td>2500</td>\n      <td>0.176</td>\n      <td>0.038082</td>\n      <td>Q-SAR</td>\n    </tr>\n    <tr>\n      <th>33</th>\n      <td>2500</td>\n      <td>0.372</td>\n      <td>0.048334</td>\n      <td>Q-SR</td>\n    </tr>\n    <tr>\n      <th>34</th>\n      <td>2500</td>\n      <td>0.300</td>\n      <td>0.045826</td>\n      <td>Q-BS</td>\n    </tr>\n    <tr>\n      <th>35</th>\n      <td>2500</td>\n      <td>0.484</td>\n      <td>0.049974</td>\n      <td>Q-Uniform</td>\n    </tr>\n  </tbody>\n</table>\n</div>"
     },
     "metadata": {},
     "execution_count": 14
    },
    {
     "output_type": "display_data",
     "data": {
      "text/plain": "<Figure size 432x288 with 1 Axes>",
      "image/svg+xml": "<?xml version=\"1.0\" encoding=\"utf-8\" standalone=\"no\"?>\n<!DOCTYPE svg PUBLIC \"-//W3C//DTD SVG 1.1//EN\"\n  \"http://www.w3.org/Graphics/SVG/1.1/DTD/svg11.dtd\">\n<!-- Created with matplotlib (https://matplotlib.org/) -->\n<svg height=\"262.19625pt\" version=\"1.1\" viewBox=\"0 0 385.78125 262.19625\" width=\"385.78125pt\" xmlns=\"http://www.w3.org/2000/svg\" xmlns:xlink=\"http://www.w3.org/1999/xlink\">\n <defs>\n  <style type=\"text/css\">\n*{stroke-linecap:butt;stroke-linejoin:round;white-space:pre;}\n  </style>\n </defs>\n <g id=\"figure_1\">\n  <g id=\"patch_1\">\n   <path d=\"M 0 262.19625 \nL 385.78125 262.19625 \nL 385.78125 0 \nL 0 0 \nz\n\" style=\"fill:none;\"/>\n  </g>\n  <g id=\"axes_1\">\n   <g id=\"patch_2\">\n    <path d=\"M 43.78125 224.64 \nL 378.58125 224.64 \nL 378.58125 7.2 \nL 43.78125 7.2 \nz\n\" style=\"fill:#ffffff;\"/>\n   </g>\n   <g id=\"matplotlib.axis_1\">\n    <g id=\"xtick_1\">\n     <g id=\"line2d_1\">\n      <defs>\n       <path d=\"M 0 0 \nL 0 3.5 \n\" id=\"m8b9b20ecac\" style=\"stroke:#000000;stroke-width:0.8;\"/>\n      </defs>\n      <g>\n       <use style=\"stroke:#000000;stroke-width:0.8;\" x=\"58.999432\" xlink:href=\"#m8b9b20ecac\" y=\"224.64\"/>\n      </g>\n     </g>\n     <g id=\"text_1\">\n      <!-- 500 -->\n      <defs>\n       <path d=\"M 10.796875 72.90625 \nL 49.515625 72.90625 \nL 49.515625 64.59375 \nL 19.828125 64.59375 \nL 19.828125 46.734375 \nQ 21.96875 47.46875 24.109375 47.828125 \nQ 26.265625 48.1875 28.421875 48.1875 \nQ 40.625 48.1875 47.75 41.5 \nQ 54.890625 34.8125 54.890625 23.390625 \nQ 54.890625 11.625 47.5625 5.09375 \nQ 40.234375 -1.421875 26.90625 -1.421875 \nQ 22.3125 -1.421875 17.546875 -0.640625 \nQ 12.796875 0.140625 7.71875 1.703125 \nL 7.71875 11.625 \nQ 12.109375 9.234375 16.796875 8.0625 \nQ 21.484375 6.890625 26.703125 6.890625 \nQ 35.15625 6.890625 40.078125 11.328125 \nQ 45.015625 15.765625 45.015625 23.390625 \nQ 45.015625 31 40.078125 35.4375 \nQ 35.15625 39.890625 26.703125 39.890625 \nQ 22.75 39.890625 18.8125 39.015625 \nQ 14.890625 38.140625 10.796875 36.28125 \nz\n\" id=\"DejaVuSans-53\"/>\n       <path d=\"M 31.78125 66.40625 \nQ 24.171875 66.40625 20.328125 58.90625 \nQ 16.5 51.421875 16.5 36.375 \nQ 16.5 21.390625 20.328125 13.890625 \nQ 24.171875 6.390625 31.78125 6.390625 \nQ 39.453125 6.390625 43.28125 13.890625 \nQ 47.125 21.390625 47.125 36.375 \nQ 47.125 51.421875 43.28125 58.90625 \nQ 39.453125 66.40625 31.78125 66.40625 \nz\nM 31.78125 74.21875 \nQ 44.046875 74.21875 50.515625 64.515625 \nQ 56.984375 54.828125 56.984375 36.375 \nQ 56.984375 17.96875 50.515625 8.265625 \nQ 44.046875 -1.421875 31.78125 -1.421875 \nQ 19.53125 -1.421875 13.0625 8.265625 \nQ 6.59375 17.96875 6.59375 36.375 \nQ 6.59375 54.828125 13.0625 64.515625 \nQ 19.53125 74.21875 31.78125 74.21875 \nz\n\" id=\"DejaVuSans-48\"/>\n      </defs>\n      <g transform=\"translate(49.455682 239.238438)scale(0.1 -0.1)\">\n       <use xlink:href=\"#DejaVuSans-53\"/>\n       <use x=\"63.623047\" xlink:href=\"#DejaVuSans-48\"/>\n       <use x=\"127.246094\" xlink:href=\"#DejaVuSans-48\"/>\n      </g>\n     </g>\n    </g>\n    <g id=\"xtick_2\">\n     <g id=\"line2d_2\">\n      <g>\n       <use style=\"stroke:#000000;stroke-width:0.8;\" x=\"97.044886\" xlink:href=\"#m8b9b20ecac\" y=\"224.64\"/>\n      </g>\n     </g>\n     <g id=\"text_2\">\n      <!-- 750 -->\n      <defs>\n       <path d=\"M 8.203125 72.90625 \nL 55.078125 72.90625 \nL 55.078125 68.703125 \nL 28.609375 0 \nL 18.3125 0 \nL 43.21875 64.59375 \nL 8.203125 64.59375 \nz\n\" id=\"DejaVuSans-55\"/>\n      </defs>\n      <g transform=\"translate(87.501136 239.238438)scale(0.1 -0.1)\">\n       <use xlink:href=\"#DejaVuSans-55\"/>\n       <use x=\"63.623047\" xlink:href=\"#DejaVuSans-53\"/>\n       <use x=\"127.246094\" xlink:href=\"#DejaVuSans-48\"/>\n      </g>\n     </g>\n    </g>\n    <g id=\"xtick_3\">\n     <g id=\"line2d_3\">\n      <g>\n       <use style=\"stroke:#000000;stroke-width:0.8;\" x=\"135.090341\" xlink:href=\"#m8b9b20ecac\" y=\"224.64\"/>\n      </g>\n     </g>\n     <g id=\"text_3\">\n      <!-- 1000 -->\n      <defs>\n       <path d=\"M 12.40625 8.296875 \nL 28.515625 8.296875 \nL 28.515625 63.921875 \nL 10.984375 60.40625 \nL 10.984375 69.390625 \nL 28.421875 72.90625 \nL 38.28125 72.90625 \nL 38.28125 8.296875 \nL 54.390625 8.296875 \nL 54.390625 0 \nL 12.40625 0 \nz\n\" id=\"DejaVuSans-49\"/>\n      </defs>\n      <g transform=\"translate(122.365341 239.238438)scale(0.1 -0.1)\">\n       <use xlink:href=\"#DejaVuSans-49\"/>\n       <use x=\"63.623047\" xlink:href=\"#DejaVuSans-48\"/>\n       <use x=\"127.246094\" xlink:href=\"#DejaVuSans-48\"/>\n       <use x=\"190.869141\" xlink:href=\"#DejaVuSans-48\"/>\n      </g>\n     </g>\n    </g>\n    <g id=\"xtick_4\">\n     <g id=\"line2d_4\">\n      <g>\n       <use style=\"stroke:#000000;stroke-width:0.8;\" x=\"173.135795\" xlink:href=\"#m8b9b20ecac\" y=\"224.64\"/>\n      </g>\n     </g>\n     <g id=\"text_4\">\n      <!-- 1250 -->\n      <defs>\n       <path d=\"M 19.1875 8.296875 \nL 53.609375 8.296875 \nL 53.609375 0 \nL 7.328125 0 \nL 7.328125 8.296875 \nQ 12.9375 14.109375 22.625 23.890625 \nQ 32.328125 33.6875 34.8125 36.53125 \nQ 39.546875 41.84375 41.421875 45.53125 \nQ 43.3125 49.21875 43.3125 52.78125 \nQ 43.3125 58.59375 39.234375 62.25 \nQ 35.15625 65.921875 28.609375 65.921875 \nQ 23.96875 65.921875 18.8125 64.3125 \nQ 13.671875 62.703125 7.8125 59.421875 \nL 7.8125 69.390625 \nQ 13.765625 71.78125 18.9375 73 \nQ 24.125 74.21875 28.421875 74.21875 \nQ 39.75 74.21875 46.484375 68.546875 \nQ 53.21875 62.890625 53.21875 53.421875 \nQ 53.21875 48.921875 51.53125 44.890625 \nQ 49.859375 40.875 45.40625 35.40625 \nQ 44.1875 33.984375 37.640625 27.21875 \nQ 31.109375 20.453125 19.1875 8.296875 \nz\n\" id=\"DejaVuSans-50\"/>\n      </defs>\n      <g transform=\"translate(160.410795 239.238438)scale(0.1 -0.1)\">\n       <use xlink:href=\"#DejaVuSans-49\"/>\n       <use x=\"63.623047\" xlink:href=\"#DejaVuSans-50\"/>\n       <use x=\"127.246094\" xlink:href=\"#DejaVuSans-53\"/>\n       <use x=\"190.869141\" xlink:href=\"#DejaVuSans-48\"/>\n      </g>\n     </g>\n    </g>\n    <g id=\"xtick_5\">\n     <g id=\"line2d_5\">\n      <g>\n       <use style=\"stroke:#000000;stroke-width:0.8;\" x=\"211.18125\" xlink:href=\"#m8b9b20ecac\" y=\"224.64\"/>\n      </g>\n     </g>\n     <g id=\"text_5\">\n      <!-- 1500 -->\n      <g transform=\"translate(198.45625 239.238438)scale(0.1 -0.1)\">\n       <use xlink:href=\"#DejaVuSans-49\"/>\n       <use x=\"63.623047\" xlink:href=\"#DejaVuSans-53\"/>\n       <use x=\"127.246094\" xlink:href=\"#DejaVuSans-48\"/>\n       <use x=\"190.869141\" xlink:href=\"#DejaVuSans-48\"/>\n      </g>\n     </g>\n    </g>\n    <g id=\"xtick_6\">\n     <g id=\"line2d_6\">\n      <g>\n       <use style=\"stroke:#000000;stroke-width:0.8;\" x=\"249.226705\" xlink:href=\"#m8b9b20ecac\" y=\"224.64\"/>\n      </g>\n     </g>\n     <g id=\"text_6\">\n      <!-- 1750 -->\n      <g transform=\"translate(236.501705 239.238438)scale(0.1 -0.1)\">\n       <use xlink:href=\"#DejaVuSans-49\"/>\n       <use x=\"63.623047\" xlink:href=\"#DejaVuSans-55\"/>\n       <use x=\"127.246094\" xlink:href=\"#DejaVuSans-53\"/>\n       <use x=\"190.869141\" xlink:href=\"#DejaVuSans-48\"/>\n      </g>\n     </g>\n    </g>\n    <g id=\"xtick_7\">\n     <g id=\"line2d_7\">\n      <g>\n       <use style=\"stroke:#000000;stroke-width:0.8;\" x=\"287.272159\" xlink:href=\"#m8b9b20ecac\" y=\"224.64\"/>\n      </g>\n     </g>\n     <g id=\"text_7\">\n      <!-- 2000 -->\n      <g transform=\"translate(274.547159 239.238438)scale(0.1 -0.1)\">\n       <use xlink:href=\"#DejaVuSans-50\"/>\n       <use x=\"63.623047\" xlink:href=\"#DejaVuSans-48\"/>\n       <use x=\"127.246094\" xlink:href=\"#DejaVuSans-48\"/>\n       <use x=\"190.869141\" xlink:href=\"#DejaVuSans-48\"/>\n      </g>\n     </g>\n    </g>\n    <g id=\"xtick_8\">\n     <g id=\"line2d_8\">\n      <g>\n       <use style=\"stroke:#000000;stroke-width:0.8;\" x=\"325.317614\" xlink:href=\"#m8b9b20ecac\" y=\"224.64\"/>\n      </g>\n     </g>\n     <g id=\"text_8\">\n      <!-- 2250 -->\n      <g transform=\"translate(312.592614 239.238438)scale(0.1 -0.1)\">\n       <use xlink:href=\"#DejaVuSans-50\"/>\n       <use x=\"63.623047\" xlink:href=\"#DejaVuSans-50\"/>\n       <use x=\"127.246094\" xlink:href=\"#DejaVuSans-53\"/>\n       <use x=\"190.869141\" xlink:href=\"#DejaVuSans-48\"/>\n      </g>\n     </g>\n    </g>\n    <g id=\"xtick_9\">\n     <g id=\"line2d_9\">\n      <g>\n       <use style=\"stroke:#000000;stroke-width:0.8;\" x=\"363.363068\" xlink:href=\"#m8b9b20ecac\" y=\"224.64\"/>\n      </g>\n     </g>\n     <g id=\"text_9\">\n      <!-- 2500 -->\n      <g transform=\"translate(350.638068 239.238438)scale(0.1 -0.1)\">\n       <use xlink:href=\"#DejaVuSans-50\"/>\n       <use x=\"63.623047\" xlink:href=\"#DejaVuSans-53\"/>\n       <use x=\"127.246094\" xlink:href=\"#DejaVuSans-48\"/>\n       <use x=\"190.869141\" xlink:href=\"#DejaVuSans-48\"/>\n      </g>\n     </g>\n    </g>\n    <g id=\"text_10\">\n     <!-- Budget -->\n     <defs>\n      <path d=\"M 19.671875 34.8125 \nL 19.671875 8.109375 \nL 35.5 8.109375 \nQ 43.453125 8.109375 47.28125 11.40625 \nQ 51.125 14.703125 51.125 21.484375 \nQ 51.125 28.328125 47.28125 31.5625 \nQ 43.453125 34.8125 35.5 34.8125 \nz\nM 19.671875 64.796875 \nL 19.671875 42.828125 \nL 34.28125 42.828125 \nQ 41.5 42.828125 45.03125 45.53125 \nQ 48.578125 48.25 48.578125 53.8125 \nQ 48.578125 59.328125 45.03125 62.0625 \nQ 41.5 64.796875 34.28125 64.796875 \nz\nM 9.8125 72.90625 \nL 35.015625 72.90625 \nQ 46.296875 72.90625 52.390625 68.21875 \nQ 58.5 63.53125 58.5 54.890625 \nQ 58.5 48.1875 55.375 44.234375 \nQ 52.25 40.28125 46.1875 39.3125 \nQ 53.46875 37.75 57.5 32.78125 \nQ 61.53125 27.828125 61.53125 20.40625 \nQ 61.53125 10.640625 54.890625 5.3125 \nQ 48.25 0 35.984375 0 \nL 9.8125 0 \nz\n\" id=\"DejaVuSans-66\"/>\n      <path d=\"M 8.5 21.578125 \nL 8.5 54.6875 \nL 17.484375 54.6875 \nL 17.484375 21.921875 \nQ 17.484375 14.15625 20.5 10.265625 \nQ 23.53125 6.390625 29.59375 6.390625 \nQ 36.859375 6.390625 41.078125 11.03125 \nQ 45.3125 15.671875 45.3125 23.6875 \nL 45.3125 54.6875 \nL 54.296875 54.6875 \nL 54.296875 0 \nL 45.3125 0 \nL 45.3125 8.40625 \nQ 42.046875 3.421875 37.71875 1 \nQ 33.40625 -1.421875 27.6875 -1.421875 \nQ 18.265625 -1.421875 13.375 4.4375 \nQ 8.5 10.296875 8.5 21.578125 \nz\nM 31.109375 56 \nz\n\" id=\"DejaVuSans-117\"/>\n      <path d=\"M 45.40625 46.390625 \nL 45.40625 75.984375 \nL 54.390625 75.984375 \nL 54.390625 0 \nL 45.40625 0 \nL 45.40625 8.203125 \nQ 42.578125 3.328125 38.25 0.953125 \nQ 33.9375 -1.421875 27.875 -1.421875 \nQ 17.96875 -1.421875 11.734375 6.484375 \nQ 5.515625 14.40625 5.515625 27.296875 \nQ 5.515625 40.1875 11.734375 48.09375 \nQ 17.96875 56 27.875 56 \nQ 33.9375 56 38.25 53.625 \nQ 42.578125 51.265625 45.40625 46.390625 \nz\nM 14.796875 27.296875 \nQ 14.796875 17.390625 18.875 11.75 \nQ 22.953125 6.109375 30.078125 6.109375 \nQ 37.203125 6.109375 41.296875 11.75 \nQ 45.40625 17.390625 45.40625 27.296875 \nQ 45.40625 37.203125 41.296875 42.84375 \nQ 37.203125 48.484375 30.078125 48.484375 \nQ 22.953125 48.484375 18.875 42.84375 \nQ 14.796875 37.203125 14.796875 27.296875 \nz\n\" id=\"DejaVuSans-100\"/>\n      <path d=\"M 45.40625 27.984375 \nQ 45.40625 37.75 41.375 43.109375 \nQ 37.359375 48.484375 30.078125 48.484375 \nQ 22.859375 48.484375 18.828125 43.109375 \nQ 14.796875 37.75 14.796875 27.984375 \nQ 14.796875 18.265625 18.828125 12.890625 \nQ 22.859375 7.515625 30.078125 7.515625 \nQ 37.359375 7.515625 41.375 12.890625 \nQ 45.40625 18.265625 45.40625 27.984375 \nz\nM 54.390625 6.78125 \nQ 54.390625 -7.171875 48.1875 -13.984375 \nQ 42 -20.796875 29.203125 -20.796875 \nQ 24.46875 -20.796875 20.265625 -20.09375 \nQ 16.0625 -19.390625 12.109375 -17.921875 \nL 12.109375 -9.1875 \nQ 16.0625 -11.328125 19.921875 -12.34375 \nQ 23.78125 -13.375 27.78125 -13.375 \nQ 36.625 -13.375 41.015625 -8.765625 \nQ 45.40625 -4.15625 45.40625 5.171875 \nL 45.40625 9.625 \nQ 42.625 4.78125 38.28125 2.390625 \nQ 33.9375 0 27.875 0 \nQ 17.828125 0 11.671875 7.65625 \nQ 5.515625 15.328125 5.515625 27.984375 \nQ 5.515625 40.671875 11.671875 48.328125 \nQ 17.828125 56 27.875 56 \nQ 33.9375 56 38.28125 53.609375 \nQ 42.625 51.21875 45.40625 46.390625 \nL 45.40625 54.6875 \nL 54.390625 54.6875 \nz\n\" id=\"DejaVuSans-103\"/>\n      <path d=\"M 56.203125 29.59375 \nL 56.203125 25.203125 \nL 14.890625 25.203125 \nQ 15.484375 15.921875 20.484375 11.0625 \nQ 25.484375 6.203125 34.421875 6.203125 \nQ 39.59375 6.203125 44.453125 7.46875 \nQ 49.3125 8.734375 54.109375 11.28125 \nL 54.109375 2.78125 \nQ 49.265625 0.734375 44.1875 -0.34375 \nQ 39.109375 -1.421875 33.890625 -1.421875 \nQ 20.796875 -1.421875 13.15625 6.1875 \nQ 5.515625 13.8125 5.515625 26.8125 \nQ 5.515625 40.234375 12.765625 48.109375 \nQ 20.015625 56 32.328125 56 \nQ 43.359375 56 49.78125 48.890625 \nQ 56.203125 41.796875 56.203125 29.59375 \nz\nM 47.21875 32.234375 \nQ 47.125 39.59375 43.09375 43.984375 \nQ 39.0625 48.390625 32.421875 48.390625 \nQ 24.90625 48.390625 20.390625 44.140625 \nQ 15.875 39.890625 15.1875 32.171875 \nz\n\" id=\"DejaVuSans-101\"/>\n      <path d=\"M 18.3125 70.21875 \nL 18.3125 54.6875 \nL 36.8125 54.6875 \nL 36.8125 47.703125 \nL 18.3125 47.703125 \nL 18.3125 18.015625 \nQ 18.3125 11.328125 20.140625 9.421875 \nQ 21.96875 7.515625 27.59375 7.515625 \nL 36.8125 7.515625 \nL 36.8125 0 \nL 27.59375 0 \nQ 17.1875 0 13.234375 3.875 \nQ 9.28125 7.765625 9.28125 18.015625 \nL 9.28125 47.703125 \nL 2.6875 47.703125 \nL 2.6875 54.6875 \nL 9.28125 54.6875 \nL 9.28125 70.21875 \nz\n\" id=\"DejaVuSans-116\"/>\n     </defs>\n     <g transform=\"translate(193.196875 252.916563)scale(0.1 -0.1)\">\n      <use xlink:href=\"#DejaVuSans-66\"/>\n      <use x=\"68.603516\" xlink:href=\"#DejaVuSans-117\"/>\n      <use x=\"131.982422\" xlink:href=\"#DejaVuSans-100\"/>\n      <use x=\"195.458984\" xlink:href=\"#DejaVuSans-103\"/>\n      <use x=\"258.935547\" xlink:href=\"#DejaVuSans-101\"/>\n      <use x=\"320.458984\" xlink:href=\"#DejaVuSans-116\"/>\n     </g>\n    </g>\n   </g>\n   <g id=\"matplotlib.axis_2\">\n    <g id=\"ytick_1\">\n     <g id=\"line2d_10\">\n      <defs>\n       <path d=\"M 0 0 \nL -3.5 0 \n\" id=\"m7b2dd1aa6f\" style=\"stroke:#000000;stroke-width:0.8;\"/>\n      </defs>\n      <g>\n       <use style=\"stroke:#000000;stroke-width:0.8;\" x=\"43.78125\" xlink:href=\"#m7b2dd1aa6f\" y=\"208.221728\"/>\n      </g>\n     </g>\n     <g id=\"text_11\">\n      <!-- 0.2 -->\n      <defs>\n       <path d=\"M 10.6875 12.40625 \nL 21 12.40625 \nL 21 0 \nL 10.6875 0 \nz\n\" id=\"DejaVuSans-46\"/>\n      </defs>\n      <g transform=\"translate(20.878125 212.020947)scale(0.1 -0.1)\">\n       <use xlink:href=\"#DejaVuSans-48\"/>\n       <use x=\"63.623047\" xlink:href=\"#DejaVuSans-46\"/>\n       <use x=\"95.410156\" xlink:href=\"#DejaVuSans-50\"/>\n      </g>\n     </g>\n    </g>\n    <g id=\"ytick_2\">\n     <g id=\"line2d_11\">\n      <g>\n       <use style=\"stroke:#000000;stroke-width:0.8;\" x=\"43.78125\" xlink:href=\"#m7b2dd1aa6f\" y=\"180.99408\"/>\n      </g>\n     </g>\n     <g id=\"text_12\">\n      <!-- 0.3 -->\n      <defs>\n       <path d=\"M 40.578125 39.3125 \nQ 47.65625 37.796875 51.625 33 \nQ 55.609375 28.21875 55.609375 21.1875 \nQ 55.609375 10.40625 48.1875 4.484375 \nQ 40.765625 -1.421875 27.09375 -1.421875 \nQ 22.515625 -1.421875 17.65625 -0.515625 \nQ 12.796875 0.390625 7.625 2.203125 \nL 7.625 11.71875 \nQ 11.71875 9.328125 16.59375 8.109375 \nQ 21.484375 6.890625 26.8125 6.890625 \nQ 36.078125 6.890625 40.9375 10.546875 \nQ 45.796875 14.203125 45.796875 21.1875 \nQ 45.796875 27.640625 41.28125 31.265625 \nQ 36.765625 34.90625 28.71875 34.90625 \nL 20.21875 34.90625 \nL 20.21875 43.015625 \nL 29.109375 43.015625 \nQ 36.375 43.015625 40.234375 45.921875 \nQ 44.09375 48.828125 44.09375 54.296875 \nQ 44.09375 59.90625 40.109375 62.90625 \nQ 36.140625 65.921875 28.71875 65.921875 \nQ 24.65625 65.921875 20.015625 65.03125 \nQ 15.375 64.15625 9.8125 62.3125 \nL 9.8125 71.09375 \nQ 15.4375 72.65625 20.34375 73.4375 \nQ 25.25 74.21875 29.59375 74.21875 \nQ 40.828125 74.21875 47.359375 69.109375 \nQ 53.90625 64.015625 53.90625 55.328125 \nQ 53.90625 49.265625 50.4375 45.09375 \nQ 46.96875 40.921875 40.578125 39.3125 \nz\n\" id=\"DejaVuSans-51\"/>\n      </defs>\n      <g transform=\"translate(20.878125 184.793298)scale(0.1 -0.1)\">\n       <use xlink:href=\"#DejaVuSans-48\"/>\n       <use x=\"63.623047\" xlink:href=\"#DejaVuSans-46\"/>\n       <use x=\"95.410156\" xlink:href=\"#DejaVuSans-51\"/>\n      </g>\n     </g>\n    </g>\n    <g id=\"ytick_3\">\n     <g id=\"line2d_12\">\n      <g>\n       <use style=\"stroke:#000000;stroke-width:0.8;\" x=\"43.78125\" xlink:href=\"#m7b2dd1aa6f\" y=\"153.766431\"/>\n      </g>\n     </g>\n     <g id=\"text_13\">\n      <!-- 0.4 -->\n      <defs>\n       <path d=\"M 37.796875 64.3125 \nL 12.890625 25.390625 \nL 37.796875 25.390625 \nz\nM 35.203125 72.90625 \nL 47.609375 72.90625 \nL 47.609375 25.390625 \nL 58.015625 25.390625 \nL 58.015625 17.1875 \nL 47.609375 17.1875 \nL 47.609375 0 \nL 37.796875 0 \nL 37.796875 17.1875 \nL 4.890625 17.1875 \nL 4.890625 26.703125 \nz\n\" id=\"DejaVuSans-52\"/>\n      </defs>\n      <g transform=\"translate(20.878125 157.56565)scale(0.1 -0.1)\">\n       <use xlink:href=\"#DejaVuSans-48\"/>\n       <use x=\"63.623047\" xlink:href=\"#DejaVuSans-46\"/>\n       <use x=\"95.410156\" xlink:href=\"#DejaVuSans-52\"/>\n      </g>\n     </g>\n    </g>\n    <g id=\"ytick_4\">\n     <g id=\"line2d_13\">\n      <g>\n       <use style=\"stroke:#000000;stroke-width:0.8;\" x=\"43.78125\" xlink:href=\"#m7b2dd1aa6f\" y=\"126.538783\"/>\n      </g>\n     </g>\n     <g id=\"text_14\">\n      <!-- 0.5 -->\n      <g transform=\"translate(20.878125 130.338002)scale(0.1 -0.1)\">\n       <use xlink:href=\"#DejaVuSans-48\"/>\n       <use x=\"63.623047\" xlink:href=\"#DejaVuSans-46\"/>\n       <use x=\"95.410156\" xlink:href=\"#DejaVuSans-53\"/>\n      </g>\n     </g>\n    </g>\n    <g id=\"ytick_5\">\n     <g id=\"line2d_14\">\n      <g>\n       <use style=\"stroke:#000000;stroke-width:0.8;\" x=\"43.78125\" xlink:href=\"#m7b2dd1aa6f\" y=\"99.311134\"/>\n      </g>\n     </g>\n     <g id=\"text_15\">\n      <!-- 0.6 -->\n      <defs>\n       <path d=\"M 33.015625 40.375 \nQ 26.375 40.375 22.484375 35.828125 \nQ 18.609375 31.296875 18.609375 23.390625 \nQ 18.609375 15.53125 22.484375 10.953125 \nQ 26.375 6.390625 33.015625 6.390625 \nQ 39.65625 6.390625 43.53125 10.953125 \nQ 47.40625 15.53125 47.40625 23.390625 \nQ 47.40625 31.296875 43.53125 35.828125 \nQ 39.65625 40.375 33.015625 40.375 \nz\nM 52.59375 71.296875 \nL 52.59375 62.3125 \nQ 48.875 64.0625 45.09375 64.984375 \nQ 41.3125 65.921875 37.59375 65.921875 \nQ 27.828125 65.921875 22.671875 59.328125 \nQ 17.53125 52.734375 16.796875 39.40625 \nQ 19.671875 43.65625 24.015625 45.921875 \nQ 28.375 48.1875 33.59375 48.1875 \nQ 44.578125 48.1875 50.953125 41.515625 \nQ 57.328125 34.859375 57.328125 23.390625 \nQ 57.328125 12.15625 50.6875 5.359375 \nQ 44.046875 -1.421875 33.015625 -1.421875 \nQ 20.359375 -1.421875 13.671875 8.265625 \nQ 6.984375 17.96875 6.984375 36.375 \nQ 6.984375 53.65625 15.1875 63.9375 \nQ 23.390625 74.21875 37.203125 74.21875 \nQ 40.921875 74.21875 44.703125 73.484375 \nQ 48.484375 72.75 52.59375 71.296875 \nz\n\" id=\"DejaVuSans-54\"/>\n      </defs>\n      <g transform=\"translate(20.878125 103.110353)scale(0.1 -0.1)\">\n       <use xlink:href=\"#DejaVuSans-48\"/>\n       <use x=\"63.623047\" xlink:href=\"#DejaVuSans-46\"/>\n       <use x=\"95.410156\" xlink:href=\"#DejaVuSans-54\"/>\n      </g>\n     </g>\n    </g>\n    <g id=\"ytick_6\">\n     <g id=\"line2d_15\">\n      <g>\n       <use style=\"stroke:#000000;stroke-width:0.8;\" x=\"43.78125\" xlink:href=\"#m7b2dd1aa6f\" y=\"72.083486\"/>\n      </g>\n     </g>\n     <g id=\"text_16\">\n      <!-- 0.7 -->\n      <g transform=\"translate(20.878125 75.882705)scale(0.1 -0.1)\">\n       <use xlink:href=\"#DejaVuSans-48\"/>\n       <use x=\"63.623047\" xlink:href=\"#DejaVuSans-46\"/>\n       <use x=\"95.410156\" xlink:href=\"#DejaVuSans-55\"/>\n      </g>\n     </g>\n    </g>\n    <g id=\"ytick_7\">\n     <g id=\"line2d_16\">\n      <g>\n       <use style=\"stroke:#000000;stroke-width:0.8;\" x=\"43.78125\" xlink:href=\"#m7b2dd1aa6f\" y=\"44.855838\"/>\n      </g>\n     </g>\n     <g id=\"text_17\">\n      <!-- 0.8 -->\n      <defs>\n       <path d=\"M 31.78125 34.625 \nQ 24.75 34.625 20.71875 30.859375 \nQ 16.703125 27.09375 16.703125 20.515625 \nQ 16.703125 13.921875 20.71875 10.15625 \nQ 24.75 6.390625 31.78125 6.390625 \nQ 38.8125 6.390625 42.859375 10.171875 \nQ 46.921875 13.96875 46.921875 20.515625 \nQ 46.921875 27.09375 42.890625 30.859375 \nQ 38.875 34.625 31.78125 34.625 \nz\nM 21.921875 38.8125 \nQ 15.578125 40.375 12.03125 44.71875 \nQ 8.5 49.078125 8.5 55.328125 \nQ 8.5 64.0625 14.71875 69.140625 \nQ 20.953125 74.21875 31.78125 74.21875 \nQ 42.671875 74.21875 48.875 69.140625 \nQ 55.078125 64.0625 55.078125 55.328125 \nQ 55.078125 49.078125 51.53125 44.71875 \nQ 48 40.375 41.703125 38.8125 \nQ 48.828125 37.15625 52.796875 32.3125 \nQ 56.78125 27.484375 56.78125 20.515625 \nQ 56.78125 9.90625 50.3125 4.234375 \nQ 43.84375 -1.421875 31.78125 -1.421875 \nQ 19.734375 -1.421875 13.25 4.234375 \nQ 6.78125 9.90625 6.78125 20.515625 \nQ 6.78125 27.484375 10.78125 32.3125 \nQ 14.796875 37.15625 21.921875 38.8125 \nz\nM 18.3125 54.390625 \nQ 18.3125 48.734375 21.84375 45.5625 \nQ 25.390625 42.390625 31.78125 42.390625 \nQ 38.140625 42.390625 41.71875 45.5625 \nQ 45.3125 48.734375 45.3125 54.390625 \nQ 45.3125 60.0625 41.71875 63.234375 \nQ 38.140625 66.40625 31.78125 66.40625 \nQ 25.390625 66.40625 21.84375 63.234375 \nQ 18.3125 60.0625 18.3125 54.390625 \nz\n\" id=\"DejaVuSans-56\"/>\n      </defs>\n      <g transform=\"translate(20.878125 48.655056)scale(0.1 -0.1)\">\n       <use xlink:href=\"#DejaVuSans-48\"/>\n       <use x=\"63.623047\" xlink:href=\"#DejaVuSans-46\"/>\n       <use x=\"95.410156\" xlink:href=\"#DejaVuSans-56\"/>\n      </g>\n     </g>\n    </g>\n    <g id=\"ytick_8\">\n     <g id=\"line2d_17\">\n      <g>\n       <use style=\"stroke:#000000;stroke-width:0.8;\" x=\"43.78125\" xlink:href=\"#m7b2dd1aa6f\" y=\"17.628189\"/>\n      </g>\n     </g>\n     <g id=\"text_18\">\n      <!-- 0.9 -->\n      <defs>\n       <path d=\"M 10.984375 1.515625 \nL 10.984375 10.5 \nQ 14.703125 8.734375 18.5 7.8125 \nQ 22.3125 6.890625 25.984375 6.890625 \nQ 35.75 6.890625 40.890625 13.453125 \nQ 46.046875 20.015625 46.78125 33.40625 \nQ 43.953125 29.203125 39.59375 26.953125 \nQ 35.25 24.703125 29.984375 24.703125 \nQ 19.046875 24.703125 12.671875 31.3125 \nQ 6.296875 37.9375 6.296875 49.421875 \nQ 6.296875 60.640625 12.9375 67.421875 \nQ 19.578125 74.21875 30.609375 74.21875 \nQ 43.265625 74.21875 49.921875 64.515625 \nQ 56.59375 54.828125 56.59375 36.375 \nQ 56.59375 19.140625 48.40625 8.859375 \nQ 40.234375 -1.421875 26.421875 -1.421875 \nQ 22.703125 -1.421875 18.890625 -0.6875 \nQ 15.09375 0.046875 10.984375 1.515625 \nz\nM 30.609375 32.421875 \nQ 37.25 32.421875 41.125 36.953125 \nQ 45.015625 41.5 45.015625 49.421875 \nQ 45.015625 57.28125 41.125 61.84375 \nQ 37.25 66.40625 30.609375 66.40625 \nQ 23.96875 66.40625 20.09375 61.84375 \nQ 16.21875 57.28125 16.21875 49.421875 \nQ 16.21875 41.5 20.09375 36.953125 \nQ 23.96875 32.421875 30.609375 32.421875 \nz\n\" id=\"DejaVuSans-57\"/>\n      </defs>\n      <g transform=\"translate(20.878125 21.427408)scale(0.1 -0.1)\">\n       <use xlink:href=\"#DejaVuSans-48\"/>\n       <use x=\"63.623047\" xlink:href=\"#DejaVuSans-46\"/>\n       <use x=\"95.410156\" xlink:href=\"#DejaVuSans-57\"/>\n      </g>\n     </g>\n    </g>\n    <g id=\"text_19\">\n     <!-- Probability of Error -->\n     <defs>\n      <path d=\"M 19.671875 64.796875 \nL 19.671875 37.40625 \nL 32.078125 37.40625 \nQ 38.96875 37.40625 42.71875 40.96875 \nQ 46.484375 44.53125 46.484375 51.125 \nQ 46.484375 57.671875 42.71875 61.234375 \nQ 38.96875 64.796875 32.078125 64.796875 \nz\nM 9.8125 72.90625 \nL 32.078125 72.90625 \nQ 44.34375 72.90625 50.609375 67.359375 \nQ 56.890625 61.8125 56.890625 51.125 \nQ 56.890625 40.328125 50.609375 34.8125 \nQ 44.34375 29.296875 32.078125 29.296875 \nL 19.671875 29.296875 \nL 19.671875 0 \nL 9.8125 0 \nz\n\" id=\"DejaVuSans-80\"/>\n      <path d=\"M 41.109375 46.296875 \nQ 39.59375 47.171875 37.8125 47.578125 \nQ 36.03125 48 33.890625 48 \nQ 26.265625 48 22.1875 43.046875 \nQ 18.109375 38.09375 18.109375 28.8125 \nL 18.109375 0 \nL 9.078125 0 \nL 9.078125 54.6875 \nL 18.109375 54.6875 \nL 18.109375 46.1875 \nQ 20.953125 51.171875 25.484375 53.578125 \nQ 30.03125 56 36.53125 56 \nQ 37.453125 56 38.578125 55.875 \nQ 39.703125 55.765625 41.0625 55.515625 \nz\n\" id=\"DejaVuSans-114\"/>\n      <path d=\"M 30.609375 48.390625 \nQ 23.390625 48.390625 19.1875 42.75 \nQ 14.984375 37.109375 14.984375 27.296875 \nQ 14.984375 17.484375 19.15625 11.84375 \nQ 23.34375 6.203125 30.609375 6.203125 \nQ 37.796875 6.203125 41.984375 11.859375 \nQ 46.1875 17.53125 46.1875 27.296875 \nQ 46.1875 37.015625 41.984375 42.703125 \nQ 37.796875 48.390625 30.609375 48.390625 \nz\nM 30.609375 56 \nQ 42.328125 56 49.015625 48.375 \nQ 55.71875 40.765625 55.71875 27.296875 \nQ 55.71875 13.875 49.015625 6.21875 \nQ 42.328125 -1.421875 30.609375 -1.421875 \nQ 18.84375 -1.421875 12.171875 6.21875 \nQ 5.515625 13.875 5.515625 27.296875 \nQ 5.515625 40.765625 12.171875 48.375 \nQ 18.84375 56 30.609375 56 \nz\n\" id=\"DejaVuSans-111\"/>\n      <path d=\"M 48.6875 27.296875 \nQ 48.6875 37.203125 44.609375 42.84375 \nQ 40.53125 48.484375 33.40625 48.484375 \nQ 26.265625 48.484375 22.1875 42.84375 \nQ 18.109375 37.203125 18.109375 27.296875 \nQ 18.109375 17.390625 22.1875 11.75 \nQ 26.265625 6.109375 33.40625 6.109375 \nQ 40.53125 6.109375 44.609375 11.75 \nQ 48.6875 17.390625 48.6875 27.296875 \nz\nM 18.109375 46.390625 \nQ 20.953125 51.265625 25.265625 53.625 \nQ 29.59375 56 35.59375 56 \nQ 45.5625 56 51.78125 48.09375 \nQ 58.015625 40.1875 58.015625 27.296875 \nQ 58.015625 14.40625 51.78125 6.484375 \nQ 45.5625 -1.421875 35.59375 -1.421875 \nQ 29.59375 -1.421875 25.265625 0.953125 \nQ 20.953125 3.328125 18.109375 8.203125 \nL 18.109375 0 \nL 9.078125 0 \nL 9.078125 75.984375 \nL 18.109375 75.984375 \nz\n\" id=\"DejaVuSans-98\"/>\n      <path d=\"M 34.28125 27.484375 \nQ 23.390625 27.484375 19.1875 25 \nQ 14.984375 22.515625 14.984375 16.5 \nQ 14.984375 11.71875 18.140625 8.90625 \nQ 21.296875 6.109375 26.703125 6.109375 \nQ 34.1875 6.109375 38.703125 11.40625 \nQ 43.21875 16.703125 43.21875 25.484375 \nL 43.21875 27.484375 \nz\nM 52.203125 31.203125 \nL 52.203125 0 \nL 43.21875 0 \nL 43.21875 8.296875 \nQ 40.140625 3.328125 35.546875 0.953125 \nQ 30.953125 -1.421875 24.3125 -1.421875 \nQ 15.921875 -1.421875 10.953125 3.296875 \nQ 6 8.015625 6 15.921875 \nQ 6 25.140625 12.171875 29.828125 \nQ 18.359375 34.515625 30.609375 34.515625 \nL 43.21875 34.515625 \nL 43.21875 35.40625 \nQ 43.21875 41.609375 39.140625 45 \nQ 35.0625 48.390625 27.6875 48.390625 \nQ 23 48.390625 18.546875 47.265625 \nQ 14.109375 46.140625 10.015625 43.890625 \nL 10.015625 52.203125 \nQ 14.9375 54.109375 19.578125 55.046875 \nQ 24.21875 56 28.609375 56 \nQ 40.484375 56 46.34375 49.84375 \nQ 52.203125 43.703125 52.203125 31.203125 \nz\n\" id=\"DejaVuSans-97\"/>\n      <path d=\"M 9.421875 54.6875 \nL 18.40625 54.6875 \nL 18.40625 0 \nL 9.421875 0 \nz\nM 9.421875 75.984375 \nL 18.40625 75.984375 \nL 18.40625 64.59375 \nL 9.421875 64.59375 \nz\n\" id=\"DejaVuSans-105\"/>\n      <path d=\"M 9.421875 75.984375 \nL 18.40625 75.984375 \nL 18.40625 0 \nL 9.421875 0 \nz\n\" id=\"DejaVuSans-108\"/>\n      <path d=\"M 32.171875 -5.078125 \nQ 28.375 -14.84375 24.75 -17.8125 \nQ 21.140625 -20.796875 15.09375 -20.796875 \nL 7.90625 -20.796875 \nL 7.90625 -13.28125 \nL 13.1875 -13.28125 \nQ 16.890625 -13.28125 18.9375 -11.515625 \nQ 21 -9.765625 23.484375 -3.21875 \nL 25.09375 0.875 \nL 2.984375 54.6875 \nL 12.5 54.6875 \nL 29.59375 11.921875 \nL 46.6875 54.6875 \nL 56.203125 54.6875 \nz\n\" id=\"DejaVuSans-121\"/>\n      <path id=\"DejaVuSans-32\"/>\n      <path d=\"M 37.109375 75.984375 \nL 37.109375 68.5 \nL 28.515625 68.5 \nQ 23.6875 68.5 21.796875 66.546875 \nQ 19.921875 64.59375 19.921875 59.515625 \nL 19.921875 54.6875 \nL 34.71875 54.6875 \nL 34.71875 47.703125 \nL 19.921875 47.703125 \nL 19.921875 0 \nL 10.890625 0 \nL 10.890625 47.703125 \nL 2.296875 47.703125 \nL 2.296875 54.6875 \nL 10.890625 54.6875 \nL 10.890625 58.5 \nQ 10.890625 67.625 15.140625 71.796875 \nQ 19.390625 75.984375 28.609375 75.984375 \nz\n\" id=\"DejaVuSans-102\"/>\n      <path d=\"M 9.8125 72.90625 \nL 55.90625 72.90625 \nL 55.90625 64.59375 \nL 19.671875 64.59375 \nL 19.671875 43.015625 \nL 54.390625 43.015625 \nL 54.390625 34.71875 \nL 19.671875 34.71875 \nL 19.671875 8.296875 \nL 56.78125 8.296875 \nL 56.78125 0 \nL 9.8125 0 \nz\n\" id=\"DejaVuSans-69\"/>\n     </defs>\n     <g transform=\"translate(14.798438 162.927031)rotate(-90)scale(0.1 -0.1)\">\n      <use xlink:href=\"#DejaVuSans-80\"/>\n      <use x=\"60.287109\" xlink:href=\"#DejaVuSans-114\"/>\n      <use x=\"101.369141\" xlink:href=\"#DejaVuSans-111\"/>\n      <use x=\"162.550781\" xlink:href=\"#DejaVuSans-98\"/>\n      <use x=\"226.027344\" xlink:href=\"#DejaVuSans-97\"/>\n      <use x=\"287.306641\" xlink:href=\"#DejaVuSans-98\"/>\n      <use x=\"350.783203\" xlink:href=\"#DejaVuSans-105\"/>\n      <use x=\"378.566406\" xlink:href=\"#DejaVuSans-108\"/>\n      <use x=\"406.349609\" xlink:href=\"#DejaVuSans-105\"/>\n      <use x=\"434.132812\" xlink:href=\"#DejaVuSans-116\"/>\n      <use x=\"473.341797\" xlink:href=\"#DejaVuSans-121\"/>\n      <use x=\"532.521484\" xlink:href=\"#DejaVuSans-32\"/>\n      <use x=\"564.308594\" xlink:href=\"#DejaVuSans-111\"/>\n      <use x=\"625.490234\" xlink:href=\"#DejaVuSans-102\"/>\n      <use x=\"660.695312\" xlink:href=\"#DejaVuSans-32\"/>\n      <use x=\"692.482422\" xlink:href=\"#DejaVuSans-69\"/>\n      <use x=\"755.666016\" xlink:href=\"#DejaVuSans-114\"/>\n      <use x=\"796.763672\" xlink:href=\"#DejaVuSans-114\"/>\n      <use x=\"837.845703\" xlink:href=\"#DejaVuSans-111\"/>\n      <use x=\"899.027344\" xlink:href=\"#DejaVuSans-114\"/>\n     </g>\n    </g>\n   </g>\n   <g id=\"line2d_18\">\n    <path clip-path=\"url(#p95e2b2447c)\" d=\"M 58.999432 32.875672 \nL 97.044886 74.261698 \nL 135.090341 91.14284 \nL 173.135795 114.014065 \nL 211.18125 143.964478 \nL 249.226705 176.637656 \nL 287.272159 200.053434 \nL 325.317614 204.409857 \nL 363.363068 214.756364 \n\" style=\"fill:none;stroke:#1f77b4;stroke-linecap:square;stroke-width:1.5;\"/>\n    <defs>\n     <path d=\"M 0 3 \nC 0.795609 3 1.55874 2.683901 2.12132 2.12132 \nC 2.683901 1.55874 3 0.795609 3 0 \nC 3 -0.795609 2.683901 -1.55874 2.12132 -2.12132 \nC 1.55874 -2.683901 0.795609 -3 0 -3 \nC -0.795609 -3 -1.55874 -2.683901 -2.12132 -2.12132 \nC -2.683901 -1.55874 -3 -0.795609 -3 0 \nC -3 0.795609 -2.683901 1.55874 -2.12132 2.12132 \nC -1.55874 2.683901 -0.795609 3 0 3 \nz\n\" id=\"m66f9c367b7\" style=\"stroke:#ffffff;stroke-width:0.75;\"/>\n    </defs>\n    <g clip-path=\"url(#p95e2b2447c)\">\n     <use style=\"fill:#1f77b4;stroke:#ffffff;stroke-width:0.75;\" x=\"58.999432\" xlink:href=\"#m66f9c367b7\" y=\"32.875672\"/>\n     <use style=\"fill:#1f77b4;stroke:#ffffff;stroke-width:0.75;\" x=\"97.044886\" xlink:href=\"#m66f9c367b7\" y=\"74.261698\"/>\n     <use style=\"fill:#1f77b4;stroke:#ffffff;stroke-width:0.75;\" x=\"135.090341\" xlink:href=\"#m66f9c367b7\" y=\"91.14284\"/>\n     <use style=\"fill:#1f77b4;stroke:#ffffff;stroke-width:0.75;\" x=\"173.135795\" xlink:href=\"#m66f9c367b7\" y=\"114.014065\"/>\n     <use style=\"fill:#1f77b4;stroke:#ffffff;stroke-width:0.75;\" x=\"211.18125\" xlink:href=\"#m66f9c367b7\" y=\"143.964478\"/>\n     <use style=\"fill:#1f77b4;stroke:#ffffff;stroke-width:0.75;\" x=\"249.226705\" xlink:href=\"#m66f9c367b7\" y=\"176.637656\"/>\n     <use style=\"fill:#1f77b4;stroke:#ffffff;stroke-width:0.75;\" x=\"287.272159\" xlink:href=\"#m66f9c367b7\" y=\"200.053434\"/>\n     <use style=\"fill:#1f77b4;stroke:#ffffff;stroke-width:0.75;\" x=\"325.317614\" xlink:href=\"#m66f9c367b7\" y=\"204.409857\"/>\n     <use style=\"fill:#1f77b4;stroke:#ffffff;stroke-width:0.75;\" x=\"363.363068\" xlink:href=\"#m66f9c367b7\" y=\"214.756364\"/>\n    </g>\n   </g>\n   <g id=\"line2d_19\">\n    <path clip-path=\"url(#p95e2b2447c)\" d=\"M 58.999432 41.043967 \nL 97.044886 47.578603 \nL 135.090341 69.360721 \nL 173.135795 84.608204 \nL 211.18125 106.390323 \nL 249.226705 127.083336 \nL 287.272159 125.99423 \nL 325.317614 159.756514 \nL 363.363068 161.390173 \n\" style=\"fill:none;stroke:#ff7f0e;stroke-linecap:square;stroke-width:1.5;\"/>\n    <defs>\n     <path d=\"M -1.5 3 \nL 0 1.5 \nL 1.5 3 \nL 3 1.5 \nL 1.5 0 \nL 3 -1.5 \nL 1.5 -3 \nL 0 -1.5 \nL -1.5 -3 \nL -3 -1.5 \nL -1.5 0 \nL -3 1.5 \nz\n\" id=\"m6d717f09d6\" style=\"stroke:#ffffff;stroke-linejoin:miter;stroke-width:0.75;\"/>\n    </defs>\n    <g clip-path=\"url(#p95e2b2447c)\">\n     <use style=\"fill:#ff7f0e;stroke:#ffffff;stroke-linejoin:miter;stroke-width:0.75;\" x=\"58.999432\" xlink:href=\"#m6d717f09d6\" y=\"41.043967\"/>\n     <use style=\"fill:#ff7f0e;stroke:#ffffff;stroke-linejoin:miter;stroke-width:0.75;\" x=\"97.044886\" xlink:href=\"#m6d717f09d6\" y=\"47.578603\"/>\n     <use style=\"fill:#ff7f0e;stroke:#ffffff;stroke-linejoin:miter;stroke-width:0.75;\" x=\"135.090341\" xlink:href=\"#m6d717f09d6\" y=\"69.360721\"/>\n     <use style=\"fill:#ff7f0e;stroke:#ffffff;stroke-linejoin:miter;stroke-width:0.75;\" x=\"173.135795\" xlink:href=\"#m6d717f09d6\" y=\"84.608204\"/>\n     <use style=\"fill:#ff7f0e;stroke:#ffffff;stroke-linejoin:miter;stroke-width:0.75;\" x=\"211.18125\" xlink:href=\"#m6d717f09d6\" y=\"106.390323\"/>\n     <use style=\"fill:#ff7f0e;stroke:#ffffff;stroke-linejoin:miter;stroke-width:0.75;\" x=\"249.226705\" xlink:href=\"#m6d717f09d6\" y=\"127.083336\"/>\n     <use style=\"fill:#ff7f0e;stroke:#ffffff;stroke-linejoin:miter;stroke-width:0.75;\" x=\"287.272159\" xlink:href=\"#m6d717f09d6\" y=\"125.99423\"/>\n     <use style=\"fill:#ff7f0e;stroke:#ffffff;stroke-linejoin:miter;stroke-width:0.75;\" x=\"325.317614\" xlink:href=\"#m6d717f09d6\" y=\"159.756514\"/>\n     <use style=\"fill:#ff7f0e;stroke:#ffffff;stroke-linejoin:miter;stroke-width:0.75;\" x=\"363.363068\" xlink:href=\"#m6d717f09d6\" y=\"161.390173\"/>\n    </g>\n   </g>\n   <g id=\"line2d_20\">\n    <path clip-path=\"url(#p95e2b2447c)\" d=\"M 58.999432 17.083636 \nL 97.044886 56.29145 \nL 135.090341 82.429992 \nL 173.135795 106.934876 \nL 211.18125 131.43976 \nL 249.226705 133.073418 \nL 287.272159 142.875372 \nL 325.317614 163.568385 \nL 363.363068 180.99408 \n\" style=\"fill:none;stroke:#2ca02c;stroke-linecap:square;stroke-width:1.5;\"/>\n    <defs>\n     <path d=\"M -3 3 \nL 3 3 \nL 3 -3 \nL -3 -3 \nz\n\" id=\"mcae3b5d82c\" style=\"stroke:#ffffff;stroke-linejoin:miter;stroke-width:0.75;\"/>\n    </defs>\n    <g clip-path=\"url(#p95e2b2447c)\">\n     <use style=\"fill:#2ca02c;stroke:#ffffff;stroke-linejoin:miter;stroke-width:0.75;\" x=\"58.999432\" xlink:href=\"#mcae3b5d82c\" y=\"17.083636\"/>\n     <use style=\"fill:#2ca02c;stroke:#ffffff;stroke-linejoin:miter;stroke-width:0.75;\" x=\"97.044886\" xlink:href=\"#mcae3b5d82c\" y=\"56.29145\"/>\n     <use style=\"fill:#2ca02c;stroke:#ffffff;stroke-linejoin:miter;stroke-width:0.75;\" x=\"135.090341\" xlink:href=\"#mcae3b5d82c\" y=\"82.429992\"/>\n     <use style=\"fill:#2ca02c;stroke:#ffffff;stroke-linejoin:miter;stroke-width:0.75;\" x=\"173.135795\" xlink:href=\"#mcae3b5d82c\" y=\"106.934876\"/>\n     <use style=\"fill:#2ca02c;stroke:#ffffff;stroke-linejoin:miter;stroke-width:0.75;\" x=\"211.18125\" xlink:href=\"#mcae3b5d82c\" y=\"131.43976\"/>\n     <use style=\"fill:#2ca02c;stroke:#ffffff;stroke-linejoin:miter;stroke-width:0.75;\" x=\"249.226705\" xlink:href=\"#mcae3b5d82c\" y=\"133.073418\"/>\n     <use style=\"fill:#2ca02c;stroke:#ffffff;stroke-linejoin:miter;stroke-width:0.75;\" x=\"287.272159\" xlink:href=\"#mcae3b5d82c\" y=\"142.875372\"/>\n     <use style=\"fill:#2ca02c;stroke:#ffffff;stroke-linejoin:miter;stroke-width:0.75;\" x=\"325.317614\" xlink:href=\"#mcae3b5d82c\" y=\"163.568385\"/>\n     <use style=\"fill:#2ca02c;stroke:#ffffff;stroke-linejoin:miter;stroke-width:0.75;\" x=\"363.363068\" xlink:href=\"#mcae3b5d82c\" y=\"180.99408\"/>\n    </g>\n   </g>\n   <g id=\"line2d_21\">\n    <path clip-path=\"url(#p95e2b2447c)\" d=\"M 58.999432 25.796484 \nL 97.044886 45.400391 \nL 135.090341 54.657791 \nL 173.135795 74.261698 \nL 211.18125 102.033899 \nL 249.226705 101.489346 \nL 287.272159 117.281382 \nL 325.317614 112.924959 \nL 363.363068 130.895207 \n\" style=\"fill:none;stroke:#d62728;stroke-linecap:square;stroke-width:1.5;\"/>\n    <defs>\n     <path d=\"M -1 3 \nL 1 3 \nL 1 1 \nL 3 1 \nL 3 -1 \nL 1 -1 \nL 1 -3 \nL -1 -3 \nL -1 -1 \nL -3 -1 \nL -3 1 \nL -1 1 \nz\n\" id=\"m0762e4fa03\" style=\"stroke:#ffffff;stroke-linejoin:miter;stroke-width:0.75;\"/>\n    </defs>\n    <g clip-path=\"url(#p95e2b2447c)\">\n     <use style=\"fill:#d62728;stroke:#ffffff;stroke-linejoin:miter;stroke-width:0.75;\" x=\"58.999432\" xlink:href=\"#m0762e4fa03\" y=\"25.796484\"/>\n     <use style=\"fill:#d62728;stroke:#ffffff;stroke-linejoin:miter;stroke-width:0.75;\" x=\"97.044886\" xlink:href=\"#m0762e4fa03\" y=\"45.400391\"/>\n     <use style=\"fill:#d62728;stroke:#ffffff;stroke-linejoin:miter;stroke-width:0.75;\" x=\"135.090341\" xlink:href=\"#m0762e4fa03\" y=\"54.657791\"/>\n     <use style=\"fill:#d62728;stroke:#ffffff;stroke-linejoin:miter;stroke-width:0.75;\" x=\"173.135795\" xlink:href=\"#m0762e4fa03\" y=\"74.261698\"/>\n     <use style=\"fill:#d62728;stroke:#ffffff;stroke-linejoin:miter;stroke-width:0.75;\" x=\"211.18125\" xlink:href=\"#m0762e4fa03\" y=\"102.033899\"/>\n     <use style=\"fill:#d62728;stroke:#ffffff;stroke-linejoin:miter;stroke-width:0.75;\" x=\"249.226705\" xlink:href=\"#m0762e4fa03\" y=\"101.489346\"/>\n     <use style=\"fill:#d62728;stroke:#ffffff;stroke-linejoin:miter;stroke-width:0.75;\" x=\"287.272159\" xlink:href=\"#m0762e4fa03\" y=\"117.281382\"/>\n     <use style=\"fill:#d62728;stroke:#ffffff;stroke-linejoin:miter;stroke-width:0.75;\" x=\"325.317614\" xlink:href=\"#m0762e4fa03\" y=\"112.924959\"/>\n     <use style=\"fill:#d62728;stroke:#ffffff;stroke-linejoin:miter;stroke-width:0.75;\" x=\"363.363068\" xlink:href=\"#m0762e4fa03\" y=\"130.895207\"/>\n    </g>\n   </g>\n   <g id=\"line2d_22\"/>\n   <g id=\"line2d_23\"/>\n   <g id=\"line2d_24\"/>\n   <g id=\"line2d_25\"/>\n   <g id=\"line2d_26\"/>\n   <g id=\"patch_3\">\n    <path d=\"M 43.78125 224.64 \nL 43.78125 7.2 \n\" style=\"fill:none;stroke:#000000;stroke-linecap:square;stroke-linejoin:miter;stroke-width:0.8;\"/>\n   </g>\n   <g id=\"patch_4\">\n    <path d=\"M 378.58125 224.64 \nL 378.58125 7.2 \n\" style=\"fill:none;stroke:#000000;stroke-linecap:square;stroke-linejoin:miter;stroke-width:0.8;\"/>\n   </g>\n   <g id=\"patch_5\">\n    <path d=\"M 43.78125 224.64 \nL 378.58125 224.64 \n\" style=\"fill:none;stroke:#000000;stroke-linecap:square;stroke-linejoin:miter;stroke-width:0.8;\"/>\n   </g>\n   <g id=\"patch_6\">\n    <path d=\"M 43.78125 7.2 \nL 378.58125 7.2 \n\" style=\"fill:none;stroke:#000000;stroke-linecap:square;stroke-linejoin:miter;stroke-width:0.8;\"/>\n   </g>\n   <g id=\"legend_1\">\n    <g id=\"patch_7\">\n     <path d=\"M 288.175 88.590625 \nL 371.58125 88.590625 \nQ 373.58125 88.590625 373.58125 86.590625 \nL 373.58125 14.2 \nQ 373.58125 12.2 371.58125 12.2 \nL 288.175 12.2 \nQ 286.175 12.2 286.175 14.2 \nL 286.175 86.590625 \nQ 286.175 88.590625 288.175 88.590625 \nz\n\" style=\"fill:#ffffff;opacity:0.8;stroke:#cccccc;stroke-linejoin:miter;\"/>\n    </g>\n    <g id=\"line2d_27\">\n     <path d=\"M 290.175 20.298438 \nL 310.175 20.298438 \n\" style=\"fill:none;\"/>\n    </g>\n    <g id=\"line2d_28\"/>\n    <g id=\"text_20\">\n     <!-- Policy -->\n     <defs>\n      <path d=\"M 48.78125 52.59375 \nL 48.78125 44.1875 \nQ 44.96875 46.296875 41.140625 47.34375 \nQ 37.3125 48.390625 33.40625 48.390625 \nQ 24.65625 48.390625 19.8125 42.84375 \nQ 14.984375 37.3125 14.984375 27.296875 \nQ 14.984375 17.28125 19.8125 11.734375 \nQ 24.65625 6.203125 33.40625 6.203125 \nQ 37.3125 6.203125 41.140625 7.25 \nQ 44.96875 8.296875 48.78125 10.40625 \nL 48.78125 2.09375 \nQ 45.015625 0.34375 40.984375 -0.53125 \nQ 36.96875 -1.421875 32.421875 -1.421875 \nQ 20.0625 -1.421875 12.78125 6.34375 \nQ 5.515625 14.109375 5.515625 27.296875 \nQ 5.515625 40.671875 12.859375 48.328125 \nQ 20.21875 56 33.015625 56 \nQ 37.15625 56 41.109375 55.140625 \nQ 45.0625 54.296875 48.78125 52.59375 \nz\n\" id=\"DejaVuSans-99\"/>\n     </defs>\n     <g transform=\"translate(318.175 23.798438)scale(0.1 -0.1)\">\n      <use xlink:href=\"#DejaVuSans-80\"/>\n      <use x=\"60.255859\" xlink:href=\"#DejaVuSans-111\"/>\n      <use x=\"121.4375\" xlink:href=\"#DejaVuSans-108\"/>\n      <use x=\"149.220703\" xlink:href=\"#DejaVuSans-105\"/>\n      <use x=\"177.003906\" xlink:href=\"#DejaVuSans-99\"/>\n      <use x=\"231.984375\" xlink:href=\"#DejaVuSans-121\"/>\n     </g>\n    </g>\n    <g id=\"line2d_29\">\n     <path d=\"M 290.175 34.976563 \nL 310.175 34.976563 \n\" style=\"fill:none;stroke:#1f77b4;stroke-linecap:square;stroke-width:1.5;\"/>\n    </g>\n    <g id=\"line2d_30\">\n     <defs>\n      <path d=\"M 0 3 \nC 0.795609 3 1.55874 2.683901 2.12132 2.12132 \nC 2.683901 1.55874 3 0.795609 3 0 \nC 3 -0.795609 2.683901 -1.55874 2.12132 -2.12132 \nC 1.55874 -2.683901 0.795609 -3 0 -3 \nC -0.795609 -3 -1.55874 -2.683901 -2.12132 -2.12132 \nC -2.683901 -1.55874 -3 -0.795609 -3 0 \nC -3 0.795609 -2.683901 1.55874 -2.12132 2.12132 \nC -1.55874 2.683901 -0.795609 3 0 3 \nz\n\" id=\"m1f0faffe64\" style=\"stroke:#1f77b4;\"/>\n     </defs>\n     <g>\n      <use style=\"fill:#1f77b4;stroke:#1f77b4;\" x=\"300.175\" xlink:href=\"#m1f0faffe64\" y=\"34.976563\"/>\n     </g>\n    </g>\n    <g id=\"text_21\">\n     <!-- Q-SAR -->\n     <defs>\n      <path d=\"M 39.40625 66.21875 \nQ 28.65625 66.21875 22.328125 58.203125 \nQ 16.015625 50.203125 16.015625 36.375 \nQ 16.015625 22.609375 22.328125 14.59375 \nQ 28.65625 6.59375 39.40625 6.59375 \nQ 50.140625 6.59375 56.421875 14.59375 \nQ 62.703125 22.609375 62.703125 36.375 \nQ 62.703125 50.203125 56.421875 58.203125 \nQ 50.140625 66.21875 39.40625 66.21875 \nz\nM 53.21875 1.3125 \nL 66.21875 -12.890625 \nL 54.296875 -12.890625 \nL 43.5 -1.21875 \nQ 41.890625 -1.3125 41.03125 -1.359375 \nQ 40.1875 -1.421875 39.40625 -1.421875 \nQ 24.03125 -1.421875 14.8125 8.859375 \nQ 5.609375 19.140625 5.609375 36.375 \nQ 5.609375 53.65625 14.8125 63.9375 \nQ 24.03125 74.21875 39.40625 74.21875 \nQ 54.734375 74.21875 63.90625 63.9375 \nQ 73.09375 53.65625 73.09375 36.375 \nQ 73.09375 23.6875 67.984375 14.640625 \nQ 62.890625 5.609375 53.21875 1.3125 \nz\n\" id=\"DejaVuSans-81\"/>\n      <path d=\"M 4.890625 31.390625 \nL 31.203125 31.390625 \nL 31.203125 23.390625 \nL 4.890625 23.390625 \nz\n\" id=\"DejaVuSans-45\"/>\n      <path d=\"M 53.515625 70.515625 \nL 53.515625 60.890625 \nQ 47.90625 63.578125 42.921875 64.890625 \nQ 37.9375 66.21875 33.296875 66.21875 \nQ 25.25 66.21875 20.875 63.09375 \nQ 16.5 59.96875 16.5 54.203125 \nQ 16.5 49.359375 19.40625 46.890625 \nQ 22.3125 44.4375 30.421875 42.921875 \nL 36.375 41.703125 \nQ 47.40625 39.59375 52.65625 34.296875 \nQ 57.90625 29 57.90625 20.125 \nQ 57.90625 9.515625 50.796875 4.046875 \nQ 43.703125 -1.421875 29.984375 -1.421875 \nQ 24.8125 -1.421875 18.96875 -0.25 \nQ 13.140625 0.921875 6.890625 3.21875 \nL 6.890625 13.375 \nQ 12.890625 10.015625 18.65625 8.296875 \nQ 24.421875 6.59375 29.984375 6.59375 \nQ 38.421875 6.59375 43.015625 9.90625 \nQ 47.609375 13.234375 47.609375 19.390625 \nQ 47.609375 24.75 44.3125 27.78125 \nQ 41.015625 30.8125 33.5 32.328125 \nL 27.484375 33.5 \nQ 16.453125 35.6875 11.515625 40.375 \nQ 6.59375 45.0625 6.59375 53.421875 \nQ 6.59375 63.09375 13.40625 68.65625 \nQ 20.21875 74.21875 32.171875 74.21875 \nQ 37.3125 74.21875 42.625 73.28125 \nQ 47.953125 72.359375 53.515625 70.515625 \nz\n\" id=\"DejaVuSans-83\"/>\n      <path d=\"M 34.1875 63.1875 \nL 20.796875 26.90625 \nL 47.609375 26.90625 \nz\nM 28.609375 72.90625 \nL 39.796875 72.90625 \nL 67.578125 0 \nL 57.328125 0 \nL 50.6875 18.703125 \nL 17.828125 18.703125 \nL 11.1875 0 \nL 0.78125 0 \nz\n\" id=\"DejaVuSans-65\"/>\n      <path d=\"M 44.390625 34.1875 \nQ 47.5625 33.109375 50.5625 29.59375 \nQ 53.5625 26.078125 56.59375 19.921875 \nL 66.609375 0 \nL 56 0 \nL 46.6875 18.703125 \nQ 43.0625 26.03125 39.671875 28.421875 \nQ 36.28125 30.8125 30.421875 30.8125 \nL 19.671875 30.8125 \nL 19.671875 0 \nL 9.8125 0 \nL 9.8125 72.90625 \nL 32.078125 72.90625 \nQ 44.578125 72.90625 50.734375 67.671875 \nQ 56.890625 62.453125 56.890625 51.90625 \nQ 56.890625 45.015625 53.6875 40.46875 \nQ 50.484375 35.9375 44.390625 34.1875 \nz\nM 19.671875 64.796875 \nL 19.671875 38.921875 \nL 32.078125 38.921875 \nQ 39.203125 38.921875 42.84375 42.21875 \nQ 46.484375 45.515625 46.484375 51.90625 \nQ 46.484375 58.296875 42.84375 61.546875 \nQ 39.203125 64.796875 32.078125 64.796875 \nz\n\" id=\"DejaVuSans-82\"/>\n     </defs>\n     <g transform=\"translate(318.175 38.476563)scale(0.1 -0.1)\">\n      <use xlink:href=\"#DejaVuSans-81\"/>\n      <use x=\"78.742188\" xlink:href=\"#DejaVuSans-45\"/>\n      <use x=\"114.826172\" xlink:href=\"#DejaVuSans-83\"/>\n      <use x=\"178.318359\" xlink:href=\"#DejaVuSans-65\"/>\n      <use x=\"246.726562\" xlink:href=\"#DejaVuSans-82\"/>\n     </g>\n    </g>\n    <g id=\"line2d_31\">\n     <path d=\"M 290.175 49.654688 \nL 310.175 49.654688 \n\" style=\"fill:none;stroke:#ff7f0e;stroke-linecap:square;stroke-width:1.5;\"/>\n    </g>\n    <g id=\"line2d_32\">\n     <defs>\n      <path d=\"M -1.5 3 \nL 0 1.5 \nL 1.5 3 \nL 3 1.5 \nL 1.5 0 \nL 3 -1.5 \nL 1.5 -3 \nL 0 -1.5 \nL -1.5 -3 \nL -3 -1.5 \nL -1.5 0 \nL -3 1.5 \nz\n\" id=\"mf982cfc002\" style=\"stroke:#ff7f0e;stroke-linejoin:miter;\"/>\n     </defs>\n     <g>\n      <use style=\"fill:#ff7f0e;stroke:#ff7f0e;stroke-linejoin:miter;\" x=\"300.175\" xlink:href=\"#mf982cfc002\" y=\"49.654688\"/>\n     </g>\n    </g>\n    <g id=\"text_22\">\n     <!-- Q-SR -->\n     <g transform=\"translate(318.175 53.154688)scale(0.1 -0.1)\">\n      <use xlink:href=\"#DejaVuSans-81\"/>\n      <use x=\"78.742188\" xlink:href=\"#DejaVuSans-45\"/>\n      <use x=\"114.826172\" xlink:href=\"#DejaVuSans-83\"/>\n      <use x=\"178.302734\" xlink:href=\"#DejaVuSans-82\"/>\n     </g>\n    </g>\n    <g id=\"line2d_33\">\n     <path d=\"M 290.175 64.332813 \nL 310.175 64.332813 \n\" style=\"fill:none;stroke:#2ca02c;stroke-linecap:square;stroke-width:1.5;\"/>\n    </g>\n    <g id=\"line2d_34\">\n     <defs>\n      <path d=\"M -3 3 \nL 3 3 \nL 3 -3 \nL -3 -3 \nz\n\" id=\"m5bdcb3818a\" style=\"stroke:#2ca02c;stroke-linejoin:miter;\"/>\n     </defs>\n     <g>\n      <use style=\"fill:#2ca02c;stroke:#2ca02c;stroke-linejoin:miter;\" x=\"300.175\" xlink:href=\"#m5bdcb3818a\" y=\"64.332813\"/>\n     </g>\n    </g>\n    <g id=\"text_23\">\n     <!-- Q-BS -->\n     <g transform=\"translate(318.175 67.832813)scale(0.1 -0.1)\">\n      <use xlink:href=\"#DejaVuSans-81\"/>\n      <use x=\"78.742188\" xlink:href=\"#DejaVuSans-45\"/>\n      <use x=\"114.779297\" xlink:href=\"#DejaVuSans-66\"/>\n      <use x=\"183.367188\" xlink:href=\"#DejaVuSans-83\"/>\n     </g>\n    </g>\n    <g id=\"line2d_35\">\n     <path d=\"M 290.175 79.010938 \nL 310.175 79.010938 \n\" style=\"fill:none;stroke:#d62728;stroke-linecap:square;stroke-width:1.5;\"/>\n    </g>\n    <g id=\"line2d_36\">\n     <defs>\n      <path d=\"M -1 3 \nL 1 3 \nL 1 1 \nL 3 1 \nL 3 -1 \nL 1 -1 \nL 1 -3 \nL -1 -3 \nL -1 -1 \nL -3 -1 \nL -3 1 \nL -1 1 \nz\n\" id=\"m575bb75fc8\" style=\"stroke:#d62728;stroke-linejoin:miter;\"/>\n     </defs>\n     <g>\n      <use style=\"fill:#d62728;stroke:#d62728;stroke-linejoin:miter;\" x=\"300.175\" xlink:href=\"#m575bb75fc8\" y=\"79.010938\"/>\n     </g>\n    </g>\n    <g id=\"text_24\">\n     <!-- Q-Uniform -->\n     <defs>\n      <path d=\"M 8.6875 72.90625 \nL 18.609375 72.90625 \nL 18.609375 28.609375 \nQ 18.609375 16.890625 22.84375 11.734375 \nQ 27.09375 6.59375 36.625 6.59375 \nQ 46.09375 6.59375 50.34375 11.734375 \nQ 54.59375 16.890625 54.59375 28.609375 \nL 54.59375 72.90625 \nL 64.5 72.90625 \nL 64.5 27.390625 \nQ 64.5 13.140625 57.4375 5.859375 \nQ 50.390625 -1.421875 36.625 -1.421875 \nQ 22.796875 -1.421875 15.734375 5.859375 \nQ 8.6875 13.140625 8.6875 27.390625 \nz\n\" id=\"DejaVuSans-85\"/>\n      <path d=\"M 54.890625 33.015625 \nL 54.890625 0 \nL 45.90625 0 \nL 45.90625 32.71875 \nQ 45.90625 40.484375 42.875 44.328125 \nQ 39.84375 48.1875 33.796875 48.1875 \nQ 26.515625 48.1875 22.3125 43.546875 \nQ 18.109375 38.921875 18.109375 30.90625 \nL 18.109375 0 \nL 9.078125 0 \nL 9.078125 54.6875 \nL 18.109375 54.6875 \nL 18.109375 46.1875 \nQ 21.34375 51.125 25.703125 53.5625 \nQ 30.078125 56 35.796875 56 \nQ 45.21875 56 50.046875 50.171875 \nQ 54.890625 44.34375 54.890625 33.015625 \nz\n\" id=\"DejaVuSans-110\"/>\n      <path d=\"M 52 44.1875 \nQ 55.375 50.25 60.0625 53.125 \nQ 64.75 56 71.09375 56 \nQ 79.640625 56 84.28125 50.015625 \nQ 88.921875 44.046875 88.921875 33.015625 \nL 88.921875 0 \nL 79.890625 0 \nL 79.890625 32.71875 \nQ 79.890625 40.578125 77.09375 44.375 \nQ 74.3125 48.1875 68.609375 48.1875 \nQ 61.625 48.1875 57.5625 43.546875 \nQ 53.515625 38.921875 53.515625 30.90625 \nL 53.515625 0 \nL 44.484375 0 \nL 44.484375 32.71875 \nQ 44.484375 40.625 41.703125 44.40625 \nQ 38.921875 48.1875 33.109375 48.1875 \nQ 26.21875 48.1875 22.15625 43.53125 \nQ 18.109375 38.875 18.109375 30.90625 \nL 18.109375 0 \nL 9.078125 0 \nL 9.078125 54.6875 \nL 18.109375 54.6875 \nL 18.109375 46.1875 \nQ 21.1875 51.21875 25.484375 53.609375 \nQ 29.78125 56 35.6875 56 \nQ 41.65625 56 45.828125 52.96875 \nQ 50 49.953125 52 44.1875 \nz\n\" id=\"DejaVuSans-109\"/>\n     </defs>\n     <g transform=\"translate(318.175 82.510938)scale(0.1 -0.1)\">\n      <use xlink:href=\"#DejaVuSans-81\"/>\n      <use x=\"78.742188\" xlink:href=\"#DejaVuSans-45\"/>\n      <use x=\"114.826172\" xlink:href=\"#DejaVuSans-85\"/>\n      <use x=\"188.019531\" xlink:href=\"#DejaVuSans-110\"/>\n      <use x=\"251.398438\" xlink:href=\"#DejaVuSans-105\"/>\n      <use x=\"279.181641\" xlink:href=\"#DejaVuSans-102\"/>\n      <use x=\"314.386719\" xlink:href=\"#DejaVuSans-111\"/>\n      <use x=\"375.568359\" xlink:href=\"#DejaVuSans-114\"/>\n      <use x=\"416.666016\" xlink:href=\"#DejaVuSans-109\"/>\n     </g>\n    </g>\n   </g>\n  </g>\n </g>\n <defs>\n  <clipPath id=\"p95e2b2447c\">\n   <rect height=\"217.44\" width=\"334.8\" x=\"43.78125\" y=\"7.2\"/>\n  </clipPath>\n </defs>\n</svg>\n",
      "image/png": "[encoded data removed]"
     },
     "metadata": {
      "needs_background": "light"
     }
    }
   ],
   "source": [
    "# save results\n",
    "\n",
    "with open('../Group_One_Fixed_Budget.pickle', 'wb') as handle:\n",
    "     pickle.dump(results, handle, protocol=pickle.HIGHEST_PROTOCOL)\n",
    "\n",
    "with open('../Group_One_Fixed_Budget.pickle', 'rb') as handle:\n",
    "    results = pickle.load(handle)\n",
    "\n",
    "plot_eva_budget(results, 'pe', paper_flag = True, with_para = True, title = 'Group_One_Fixed_Budget', log_scale = False)"
   ]
  },
  {
   "cell_type": "code",
   "execution_count": null,
   "metadata": {},
   "outputs": [],
   "source": []
  }
 ],
 "metadata": {
  "kernelspec": {
   "display_name": "Python 3",
   "language": "python",
   "name": "python3"
  },
  "language_info": {
   "codemirror_mode": {
    "name": "ipython",
    "version": 3
   },
   "file_extension": ".py",
   "mimetype": "text/x-python",
   "name": "python",
   "nbconvert_exporter": "python",
   "pygments_lexer": "ipython3",
   "version": "3.7.3-final"
  },
  "toc": {
   "base_numbering": 1,
   "nav_menu": {},
   "number_sections": true,
   "sideBar": true,
   "skip_h1_title": false,
   "title_cell": "Table of Contents",
   "title_sidebar": "Contents",
   "toc_cell": false,
   "toc_position": {},
   "toc_section_display": true,
   "toc_window_display": false
  },
  "varInspector": {
   "cols": {
    "lenName": 16,
    "lenType": 16,
    "lenVar": 40
   },
   "kernels_config": {
    "python": {
     "delete_cmd_postfix": "",
     "delete_cmd_prefix": "del ",
     "library": "var_list.py",
     "varRefreshCmd": "print(var_dic_list())"
    },
    "r": {
     "delete_cmd_postfix": ") ",
     "delete_cmd_prefix": "rm(",
     "library": "var_list.r",
     "varRefreshCmd": "cat(var_dic_list()) "
    }
   },
   "types_to_exclude": [
    "module",
    "function",
    "builtin_function_or_method",
    "instance",
    "_Feature"
   ],
   "window_display": false
  }
 },
 "nbformat": 4,
 "nbformat_minor": 2
}