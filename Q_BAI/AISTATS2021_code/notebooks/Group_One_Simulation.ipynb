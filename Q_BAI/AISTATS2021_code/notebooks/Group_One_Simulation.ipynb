{
 "cells": [
  {
   "cell_type": "markdown",
   "metadata": {},
   "source": [
    "In this notebook, we show the simulation for the Group One design.\n",
    "\n",
    "Group one shows quantiles and means can reflect different preference order and the quantiles are preferred by the risk-averse agents, i.e. Arm B is preferred since its less low rewards.\n",
    "We compare our algorithms with the quantile-based baseline algorithms in terms of Group One design.\n",
    "\n",
    "To be able to compare with quantile based baseline algorithm, our first group of experiment is constraint with identifying a single arm ($m$ = 1). We consider $K = 20$ arms with 15 arm A, 1 arm B and 4 arm C. The quality of arm is evaluated by 0.5-quantile ($\\tau = 0.5$). The optimal arm  is $B$."
   ]
  },
  {
   "cell_type": "code",
   "execution_count": 23,
   "metadata": {},
   "outputs": [],
   "source": [
    "# direct to proper path\n",
    "import os\n",
    "import sys\n",
    "module_path = os.path.abspath(os.path.join('..'))\n",
    "if module_path not in sys.path:\n",
    "    sys.path.append(module_path)\n",
    "    \n",
    "import numpy as np\n",
    "from ipywidgets import IntProgress\n",
    "from IPython.display import display\n",
    "import matplotlib.pyplot as plt\n",
    "from collections import defaultdict\n",
    "import seaborn as sns\n",
    "import pickle\n",
    "from prettytable import PrettyTable\n",
    "\n",
    "from codes.BAI_FixedBudget import *\n",
    "from codes.Environment import Mixture_AbsGau, setup_env, Exp\n",
    "from codes.SimulatedGames import simulate\n",
    "from codes.plots import *\n",
    "\n",
    "%matplotlib inline"
   ]
  },
  {
   "cell_type": "code",
   "execution_count": 24,
   "metadata": {
    "tags": []
   },
   "outputs": [
    {
     "output_type": "stream",
     "name": "stdout",
     "text": "{<class 'codes.Environment.Mixture_AbsGau'>: [[0, 2, 0, 1, 1], [3.5, 2, 0, 1, 1], [3.5, 2, 0, 1, 1], [3.5, 2, 0, 1, 1], [3.5, 2, 0, 1, 1], [3.5, 2, 0, 1, 1], [0, 2, 0, 1, 1], [0, 2, 0, 1, 1], [0, 2, 0, 1, 1], [0, 2, 0, 1, 1], [0, 2, 0, 1, 1], [0, 2, 0, 1, 1], [0, 2, 0, 1, 1], [0, 2, 0, 1, 1], [0, 2, 0, 1, 1], [0, 2, 0, 1, 1], [0, 2, 0, 1, 1], [0, 2, 0, 1, 1], [0, 2, 0, 1, 1], [0, 2, 0, 1, 1]], <class 'codes.Environment.Exp'>: [[0.25], [0.25], [0.25], [0.25]]}\n"
    }
   ],
   "source": [
    "# environment\n",
    "\n",
    "environments = [\n",
    "    {Mixture_AbsGau: [[0, 2, 0,1, 1], [3.5, 2, 0, 1, 1], \n",
    "                      [3.5, 2, 0, 1, 1], [3.5, 2, 0, 1, 1], \n",
    "                      [3.5, 2, 0, 1, 1], [3.5, 2, 0, 1, 1], \n",
    "                      [0, 2, 0,1, 1],  \n",
    "                      [0, 2, 0,1, 1], \n",
    "                      [0, 2, 0,1, 1], \n",
    "                      [0, 2, 0,1, 1],  \n",
    "                      [0, 2, 0,1, 1], \n",
    "                      [0, 2, 0,1, 1], \n",
    "                      [0, 2, 0,1, 1],  \n",
    "                      [0, 2, 0,1, 1], \n",
    "                      [0, 2, 0,1, 1], \n",
    "                      [0, 2, 0,1, 1],  \n",
    "                      [0, 2, 0,1, 1], \n",
    "                      [0, 2, 0,1, 1], \n",
    "                      [0, 2, 0,1, 1],  \n",
    "                      [0, 2, 0,1, 1],  \n",
    "                     ],\n",
    "     Exp: [[1/4], [1/4], [1/4], [1/4], [1/4]]\n",
    "    } # mu1, sigma1, mu2, sigma2, p\n",
    "    \n",
    "]\n",
    "\n",
    "# environments = [\n",
    "#     {Mixture_AbsGau: [[0, 1.5, 0, 1, 1],\n",
    "#                         [0, 1.5, 0, 1, 1],\n",
    "#                         [0, 1.5, 0, 1, 1],\n",
    "#                         [0, 1.5, 0, 1, 1],\n",
    "#                         [0, 1.5, 0, 1, 1], \n",
    "#                       [3.5, 2, 0,1, 1],\n",
    "#                       [3.5, 2, 0,1, 1],\n",
    "#                       [3.5, 2, 0,1, 1],\n",
    "#                       [3.5, 2, 0,1, 1],\n",
    "#                       [3.5, 2, 0,1, 1],\n",
    "#                      ],\n",
    "#      Exp: [[1/4], [1/4], [1/4], [1/4], [1/4]]\n",
    "#     } # mu1, sigma1, mu2, sigma2, p\n",
    "    \n",
    "# ]\n",
    "\n",
    "tau = 0.5 # quantile level\n",
    "\n",
    "rewards_env, true_ss_dict, samples = setup_env(environments, ['quantile_0.5'])"
   ]
  },
  {
   "cell_type": "code",
   "execution_count": 25,
   "metadata": {},
   "outputs": [
    {
     "output_type": "execute_result",
     "data": {
      "text/plain": "{'Mixture_AbsGau_[[0, 2, 0, 1, 1], [3.5, 2, 0, 1, 1], [3.5, 2, 0, 1, 1], [3.5, 2, 0, 1, 1], [3.5, 2, 0, 1, 1], [3.5, 2, 0, 1, 1], [0, 2, 0, 1, 1], [0, 2, 0, 1, 1], [0, 2, 0, 1, 1], [0, 2, 0, 1, 1], [0, 2, 0, 1, 1], [0, 2, 0, 1, 1], [0, 2, 0, 1, 1], [0, 2, 0, 1, 1], [0, 2, 0, 1, 1], [0, 2, 0, 1, 1], [0, 2, 0, 1, 1], [0, 2, 0, 1, 1], [0, 2, 0, 1, 1], [0, 2, 0, 1, 1]]Exp_[[0.25], [0.25], [0.25], [0.25]]': defaultdict(list,\n             {'quantile_0.5': [1.350447082565323,\n               3.501029760766542,\n               3.515921656935687,\n               3.5227138381941985,\n               3.509666556582574,\n               3.5109743445051596,\n               1.3643525110115582,\n               1.344338892959431,\n               1.3442707744362057,\n               1.3499178262331686,\n               1.3498211832346652,\n               1.342654624731987,\n               1.3333124746362015,\n               1.3372642455499142,\n               1.3539664383107124,\n               1.356505533673567,\n               1.3451018973882138,\n               1.3544371445806447,\n               1.332079964226354,\n               1.3498093105022588,\n               2.7516810643713097,\n               2.794047870936353,\n               2.8055676036165957,\n               2.7638260655228692]})}"
     },
     "metadata": {},
     "execution_count": 25
    }
   ],
   "source": [
    "true_ss_dict"
   ]
  },
  {
   "cell_type": "code",
   "execution_count": 26,
   "metadata": {},
   "outputs": [],
   "source": [
    "# run experiments\n",
    "\n",
    "def run_exper(rewards_env, summary_stats, policy, epsilon, m, budget, num_exper, \n",
    "              fixed_samples_list = None):\n",
    "    for key in rewards_env.keys():\n",
    "        name = key + '_' + str(num_exper)\n",
    "        policy_name = str(policy).split('.')[-1].split('\\'')[0] + '-'\n",
    "        subname = policy_name  + str(budget) \n",
    "        p = IntProgress(max = num_exper)\n",
    "        p.description = 'Running'\n",
    "        display(p)\n",
    "        results[name][subname] = []\n",
    "\n",
    "        result = simulate(rewards_env[key],summary_stats[key], policy, \n",
    "                epsilon, m, budget, num_exper, p, fixed_samples_list)\n",
    "        results[name][subname].append(result)"
   ]
  },
  {
   "cell_type": "markdown",
   "metadata": {},
   "source": [
    "## Fixed Budget\n",
    "\n",
    "We consider the problem of ($\\epsilon, m , \\tau$)-best arm identification problem with $\\epsilon = 0, m = 1, \\tau = 0.5$ and a fixed budget $N$ = 2500. \n",
    "We show the performance of \n",
    "- Q-UGapEb with true problem complexity, \n",
    "- Adaptive Q-UGapEb (Adp-Q-UGapEb, with estimated problem complexity).\n",
    "- And we also show the performance Q-SAR. \n",
    "\n",
    "We compare our algorithms with \n",
    "- Quantile uniform sampling (Q-Uniform), where each arm is sampled uniformly and select the arm with the maximum 0.5-quantile; \n",
    "- Quantile Batch Elimination (Q-BE) proposed in , where we choose drop one arm for each phase.\n",
    "\n",
    "The performance is evaluated by the probability of error with 100 times of repeated experiment."
   ]
  },
  {
   "cell_type": "code",
   "execution_count": 27,
   "metadata": {},
   "outputs": [],
   "source": [
    "# setting\n",
    "\n",
    "results = defaultdict(dict)\n",
    "\n",
    "num_arms = 20\n",
    "num_exper = 1000\n",
    "budget = 1000\n",
    "epsilon = 0\n",
    "m = 5"
   ]
  },
  {
   "cell_type": "code",
   "execution_count": 28,
   "metadata": {
    "tags": []
   },
   "outputs": [
    {
     "output_type": "display_data",
     "data": {
      "text/plain": "IntProgress(value=0, description='Running', max=1000)",
      "application/vnd.jupyter.widget-view+json": {
       "version_major": 2,
       "version_minor": 0,
       "model_id": "e7746db09b764748ab980a74081ce39b"
      }
     },
     "metadata": {}
    },
    {
     "output_type": "display_data",
     "data": {
      "text/plain": "IntProgress(value=0, description='Running', max=1000)",
      "application/vnd.jupyter.widget-view+json": {
       "version_major": 2,
       "version_minor": 0,
       "model_id": "e70adb6bff0d4cdaa9a293012e2f55dd"
      }
     },
     "metadata": {}
    },
    {
     "output_type": "display_data",
     "data": {
      "text/plain": "IntProgress(value=0, description='Running', max=1000)",
      "application/vnd.jupyter.widget-view+json": {
       "version_major": 2,
       "version_minor": 0,
       "model_id": "b86ac4b0e3b2422f8e78aed1f5c68815"
      }
     },
     "metadata": {}
    },
    {
     "output_type": "display_data",
     "data": {
      "text/plain": "IntProgress(value=0, description='Running', max=1000)",
      "application/vnd.jupyter.widget-view+json": {
       "version_major": 2,
       "version_minor": 0,
       "model_id": "a5f63ea6cf4e4514b04fcf84a18338ef"
      }
     },
     "metadata": {}
    },
    {
     "output_type": "display_data",
     "data": {
      "text/plain": "IntProgress(value=0, description='Running', max=1000)",
      "application/vnd.jupyter.widget-view+json": {
       "version_major": 2,
       "version_minor": 0,
       "model_id": "6dc8d275e3b64b3f8623b3b9ccffa166"
      }
     },
     "metadata": {}
    },
    {
     "output_type": "display_data",
     "data": {
      "text/plain": "IntProgress(value=0, description='Running', max=1000)",
      "application/vnd.jupyter.widget-view+json": {
       "version_major": 2,
       "version_minor": 0,
       "model_id": "99fd716103444e6eb8b11e4e7dc59f96"
      }
     },
     "metadata": {}
    },
    {
     "output_type": "display_data",
     "data": {
      "text/plain": "IntProgress(value=0, description='Running', max=1000)",
      "application/vnd.jupyter.widget-view+json": {
       "version_major": 2,
       "version_minor": 0,
       "model_id": "b02c099f014a4bd6b979451cd52ddde6"
      }
     },
     "metadata": {}
    },
    {
     "output_type": "display_data",
     "data": {
      "text/plain": "IntProgress(value=0, description='Running', max=1000)",
      "application/vnd.jupyter.widget-view+json": {
       "version_major": 2,
       "version_minor": 0,
       "model_id": "221ee9d93fbc4a72b5f1eb079df84e19"
      }
     },
     "metadata": {}
    },
    {
     "output_type": "display_data",
     "data": {
      "text/plain": "IntProgress(value=0, description='Running', max=1000)",
      "application/vnd.jupyter.widget-view+json": {
       "version_major": 2,
       "version_minor": 0,
       "model_id": "e62123de9ca24a20b5a68e4ee6533764"
      }
     },
     "metadata": {}
    },
    {
     "output_type": "display_data",
     "data": {
      "text/plain": "IntProgress(value=0, description='Running', max=1000)",
      "application/vnd.jupyter.widget-view+json": {
       "version_major": 2,
       "version_minor": 0,
       "model_id": "9b122fc3c353406896b5aa2b46291a3b"
      }
     },
     "metadata": {}
    },
    {
     "output_type": "display_data",
     "data": {
      "text/plain": "IntProgress(value=0, description='Running', max=1000)",
      "application/vnd.jupyter.widget-view+json": {
       "version_major": 2,
       "version_minor": 0,
       "model_id": "5a941d9f608b48a0bcd6fedf03d306d0"
      }
     },
     "metadata": {}
    },
    {
     "output_type": "display_data",
     "data": {
      "text/plain": "IntProgress(value=0, description='Running', max=1000)",
      "application/vnd.jupyter.widget-view+json": {
       "version_major": 2,
       "version_minor": 0,
       "model_id": "73cc2337aa0549e7bdfcd751324dea42"
      }
     },
     "metadata": {}
    },
    {
     "output_type": "display_data",
     "data": {
      "text/plain": "IntProgress(value=0, description='Running', max=1000)",
      "application/vnd.jupyter.widget-view+json": {
       "version_major": 2,
       "version_minor": 0,
       "model_id": "fe60925c8c944aa3a709719ed0c0195d"
      }
     },
     "metadata": {}
    },
    {
     "output_type": "display_data",
     "data": {
      "text/plain": "IntProgress(value=0, description='Running', max=1000)",
      "application/vnd.jupyter.widget-view+json": {
       "version_major": 2,
       "version_minor": 0,
       "model_id": "cb69b58b2f9c45249711af1e63262962"
      }
     },
     "metadata": {}
    },
    {
     "output_type": "display_data",
     "data": {
      "text/plain": "IntProgress(value=0, description='Running', max=1000)",
      "application/vnd.jupyter.widget-view+json": {
       "version_major": 2,
       "version_minor": 0,
       "model_id": "73ecdf4d858241aca6d6284990757234"
      }
     },
     "metadata": {}
    },
    {
     "output_type": "display_data",
     "data": {
      "text/plain": "IntProgress(value=0, description='Running', max=1000)",
      "application/vnd.jupyter.widget-view+json": {
       "version_major": 2,
       "version_minor": 0,
       "model_id": "0eef683c2d3344a1bc7dc5952a0978b7"
      }
     },
     "metadata": {}
    },
    {
     "output_type": "display_data",
     "data": {
      "text/plain": "IntProgress(value=0, description='Running', max=1000)",
      "application/vnd.jupyter.widget-view+json": {
       "version_major": 2,
       "version_minor": 0,
       "model_id": "f17cdf02e61c4c03913a46ce280be66f"
      }
     },
     "metadata": {}
    },
    {
     "output_type": "display_data",
     "data": {
      "text/plain": "IntProgress(value=0, description='Running', max=1000)",
      "application/vnd.jupyter.widget-view+json": {
       "version_major": 2,
       "version_minor": 0,
       "model_id": "4cce3202ba1c463d91976d6cb023bcc9"
      }
     },
     "metadata": {}
    },
    {
     "output_type": "display_data",
     "data": {
      "text/plain": "IntProgress(value=0, description='Running', max=1000)",
      "application/vnd.jupyter.widget-view+json": {
       "version_major": 2,
       "version_minor": 0,
       "model_id": "b6c2e6bd851740b8b3525fbd98c959ef"
      }
     },
     "metadata": {}
    },
    {
     "output_type": "display_data",
     "data": {
      "text/plain": "IntProgress(value=0, description='Running', max=1000)",
      "application/vnd.jupyter.widget-view+json": {
       "version_major": 2,
       "version_minor": 0,
       "model_id": "273d9937df8b491396c0ef6e843d866d"
      }
     },
     "metadata": {}
    },
    {
     "output_type": "display_data",
     "data": {
      "text/plain": "IntProgress(value=0, description='Running', max=1000)",
      "application/vnd.jupyter.widget-view+json": {
       "version_major": 2,
       "version_minor": 0,
       "model_id": "627d50b50d8046e9825980f5ec016ff0"
      }
     },
     "metadata": {}
    },
    {
     "output_type": "display_data",
     "data": {
      "text/plain": "IntProgress(value=0, description='Running', max=1000)",
      "application/vnd.jupyter.widget-view+json": {
       "version_major": 2,
       "version_minor": 0,
       "model_id": "0c6a079f0f6042f8ae7113437deaf2c0"
      }
     },
     "metadata": {}
    },
    {
     "output_type": "display_data",
     "data": {
      "text/plain": "IntProgress(value=0, description='Running', max=1000)",
      "application/vnd.jupyter.widget-view+json": {
       "version_major": 2,
       "version_minor": 0,
       "model_id": "22267b70fb98422ba462ea714e328647"
      }
     },
     "metadata": {}
    },
    {
     "output_type": "display_data",
     "data": {
      "text/plain": "IntProgress(value=0, description='Running', max=1000)",
      "application/vnd.jupyter.widget-view+json": {
       "version_major": 2,
       "version_minor": 0,
       "model_id": "5a46372bf39745b4bcce2f12d5dce24f"
      }
     },
     "metadata": {}
    },
    {
     "output_type": "display_data",
     "data": {
      "text/plain": "IntProgress(value=0, description='Running', max=1000)",
      "application/vnd.jupyter.widget-view+json": {
       "version_major": 2,
       "version_minor": 0,
       "model_id": "3bbfa45a34c64d3a8d4bef9599773a7e"
      }
     },
     "metadata": {}
    },
    {
     "output_type": "display_data",
     "data": {
      "text/plain": "IntProgress(value=0, description='Running', max=1000)",
      "application/vnd.jupyter.widget-view+json": {
       "version_major": 2,
       "version_minor": 0,
       "model_id": "8cf2d75ae5d949cf9092ee2dbb7fd6b4"
      }
     },
     "metadata": {}
    },
    {
     "output_type": "display_data",
     "data": {
      "text/plain": "IntProgress(value=0, description='Running', max=1000)",
      "application/vnd.jupyter.widget-view+json": {
       "version_major": 2,
       "version_minor": 0,
       "model_id": "99a7be28430b4c04aa862165c3ea1ca4"
      }
     },
     "metadata": {}
    },
    {
     "output_type": "display_data",
     "data": {
      "text/plain": "IntProgress(value=0, description='Running', max=1000)",
      "application/vnd.jupyter.widget-view+json": {
       "version_major": 2,
       "version_minor": 0,
       "model_id": "b111f76876a640e5b580faadfd6211e1"
      }
     },
     "metadata": {}
    },
    {
     "output_type": "display_data",
     "data": {
      "text/plain": "IntProgress(value=0, description='Running', max=1000)",
      "application/vnd.jupyter.widget-view+json": {
       "version_major": 2,
       "version_minor": 0,
       "model_id": "4ed03f841d53487c8a7bb426477d74da"
      }
     },
     "metadata": {}
    },
    {
     "output_type": "display_data",
     "data": {
      "text/plain": "IntProgress(value=0, description='Running', max=1000)",
      "application/vnd.jupyter.widget-view+json": {
       "version_major": 2,
       "version_minor": 0,
       "model_id": "802a525d05ce40a6aa22e7a3f226e255"
      }
     },
     "metadata": {}
    },
    {
     "output_type": "display_data",
     "data": {
      "text/plain": "IntProgress(value=0, description='Running', max=1000)",
      "application/vnd.jupyter.widget-view+json": {
       "version_major": 2,
       "version_minor": 0,
       "model_id": "3d4116afe4a34063b86bb0cd0be13011"
      }
     },
     "metadata": {}
    },
    {
     "output_type": "display_data",
     "data": {
      "text/plain": "IntProgress(value=0, description='Running', max=1000)",
      "application/vnd.jupyter.widget-view+json": {
       "version_major": 2,
       "version_minor": 0,
       "model_id": "b29ec365193249269445806ea129ffef"
      }
     },
     "metadata": {}
    },
    {
     "output_type": "display_data",
     "data": {
      "text/plain": "IntProgress(value=0, description='Running', max=1000)",
      "application/vnd.jupyter.widget-view+json": {
       "version_major": 2,
       "version_minor": 0,
       "model_id": "a402ac345bac43f59ddb2003411310ce"
      }
     },
     "metadata": {}
    },
    {
     "output_type": "display_data",
     "data": {
      "text/plain": "IntProgress(value=0, description='Running', max=1000)",
      "application/vnd.jupyter.widget-view+json": {
       "version_major": 2,
       "version_minor": 0,
       "model_id": "aab293e47937443399c14e8c7a0b1b41"
      }
     },
     "metadata": {}
    },
    {
     "output_type": "display_data",
     "data": {
      "text/plain": "IntProgress(value=0, description='Running', max=1000)",
      "application/vnd.jupyter.widget-view+json": {
       "version_major": 2,
       "version_minor": 0,
       "model_id": "a277b2de6e3143edaa96801d889a1910"
      }
     },
     "metadata": {}
    },
    {
     "output_type": "display_data",
     "data": {
      "text/plain": "IntProgress(value=0, description='Running', max=1000)",
      "application/vnd.jupyter.widget-view+json": {
       "version_major": 2,
       "version_minor": 0,
       "model_id": "a4aed8fedab54e64b66aca6b80071c9c"
      }
     },
     "metadata": {}
    },
    {
     "output_type": "display_data",
     "data": {
      "text/plain": "IntProgress(value=0, description='Running', max=1000)",
      "application/vnd.jupyter.widget-view+json": {
       "version_major": 2,
       "version_minor": 0,
       "model_id": "101d2b993f1d4949af955618e58b30bf"
      }
     },
     "metadata": {}
    },
    {
     "output_type": "display_data",
     "data": {
      "text/plain": "IntProgress(value=0, description='Running', max=1000)",
      "application/vnd.jupyter.widget-view+json": {
       "version_major": 2,
       "version_minor": 0,
       "model_id": "7a683eb64f41492a94cb35526482caf6"
      }
     },
     "metadata": {}
    },
    {
     "output_type": "display_data",
     "data": {
      "text/plain": "IntProgress(value=0, description='Running', max=1000)",
      "application/vnd.jupyter.widget-view+json": {
       "version_major": 2,
       "version_minor": 0,
       "model_id": "2d78d63dbf6f421fbb9546d03e4a2846"
      }
     },
     "metadata": {}
    },
    {
     "output_type": "display_data",
     "data": {
      "text/plain": "IntProgress(value=0, description='Running', max=1000)",
      "application/vnd.jupyter.widget-view+json": {
       "version_major": 2,
       "version_minor": 0,
       "model_id": "e5ad504d9e9141208e22da949dc61e85"
      }
     },
     "metadata": {}
    },
    {
     "output_type": "display_data",
     "data": {
      "text/plain": "IntProgress(value=0, description='Running', max=1000)",
      "application/vnd.jupyter.widget-view+json": {
       "version_major": 2,
       "version_minor": 0,
       "model_id": "6a679d8b96a748a58357dd9ac0ac159e"
      }
     },
     "metadata": {}
    },
    {
     "output_type": "display_data",
     "data": {
      "text/plain": "IntProgress(value=0, description='Running', max=1000)",
      "application/vnd.jupyter.widget-view+json": {
       "version_major": 2,
       "version_minor": 0,
       "model_id": "7d5b402071854e8db3315ad2b1efc848"
      }
     },
     "metadata": {}
    },
    {
     "output_type": "display_data",
     "data": {
      "text/plain": "IntProgress(value=0, description='Running', max=1000)",
      "application/vnd.jupyter.widget-view+json": {
       "version_major": 2,
       "version_minor": 0,
       "model_id": "aa5567a466e346fca0319c6c9f8fb510"
      }
     },
     "metadata": {}
    },
    {
     "output_type": "display_data",
     "data": {
      "text/plain": "IntProgress(value=0, description='Running', max=1000)",
      "application/vnd.jupyter.widget-view+json": {
       "version_major": 2,
       "version_minor": 0,
       "model_id": "87cb07431dd44ff3911030fb802144d9"
      }
     },
     "metadata": {}
    },
    {
     "output_type": "display_data",
     "data": {
      "text/plain": "IntProgress(value=0, description='Running', max=1000)",
      "application/vnd.jupyter.widget-view+json": {
       "version_major": 2,
       "version_minor": 0,
       "model_id": "516d3b0df9f24f75a4d8736b318be838"
      }
     },
     "metadata": {}
    },
    {
     "output_type": "display_data",
     "data": {
      "text/plain": "IntProgress(value=0, description='Running', max=1000)",
      "application/vnd.jupyter.widget-view+json": {
       "version_major": 2,
       "version_minor": 0,
       "model_id": "0665793e4ad845eaa4cac1cde5f868ef"
      }
     },
     "metadata": {}
    },
    {
     "output_type": "display_data",
     "data": {
      "text/plain": "IntProgress(value=0, description='Running', max=1000)",
      "application/vnd.jupyter.widget-view+json": {
       "version_major": 2,
       "version_minor": 0,
       "model_id": "d64a869c9d7c42dc9e5d4c9938e33e43"
      }
     },
     "metadata": {}
    },
    {
     "output_type": "display_data",
     "data": {
      "text/plain": "IntProgress(value=0, description='Running', max=1000)",
      "application/vnd.jupyter.widget-view+json": {
       "version_major": 2,
       "version_minor": 0,
       "model_id": "a9e24a539dbf4d189e60e216ab69fa65"
      }
     },
     "metadata": {}
    },
    {
     "output_type": "display_data",
     "data": {
      "text/plain": "IntProgress(value=0, description='Running', max=1000)",
      "application/vnd.jupyter.widget-view+json": {
       "version_major": 2,
       "version_minor": 0,
       "model_id": "f6a44aee369f4d77b55ce79575fcd270"
      }
     },
     "metadata": {}
    },
    {
     "output_type": "display_data",
     "data": {
      "text/plain": "IntProgress(value=0, description='Running', max=1000)",
      "application/vnd.jupyter.widget-view+json": {
       "version_major": 2,
       "version_minor": 0,
       "model_id": "028a7c32c29345e7a605558032cfedae"
      }
     },
     "metadata": {}
    },
    {
     "output_type": "display_data",
     "data": {
      "text/plain": "IntProgress(value=0, description='Running', max=1000)",
      "application/vnd.jupyter.widget-view+json": {
       "version_major": 2,
       "version_minor": 0,
       "model_id": "b5c3c2155edf4e299afba124472f5d0c"
      }
     },
     "metadata": {}
    },
    {
     "output_type": "display_data",
     "data": {
      "text/plain": "IntProgress(value=0, description='Running', max=1000)",
      "application/vnd.jupyter.widget-view+json": {
       "version_major": 2,
       "version_minor": 0,
       "model_id": "9503634ccae4432c8e3e67b0b8bd34e8"
      }
     },
     "metadata": {}
    }
   ],
   "source": [
    "for budget in [1000, 1250, 1500, 1750, 2000, 2250, 2500, 2750, 3000, 3250, 3500, 3750, 4000]:\n",
    "# for budget in [500]:\n",
    "    # run_exper(rewards_env, true_ss_dict, Q_SAR_Simplified_Large_Margin, epsilon, m, budget, num_exper)\n",
    "\n",
    "    # run_exper(rewards_env, true_ss_dict, Q_SAR, epsilon, m, budget, num_exper)\n",
    "\n",
    "    run_exper(rewards_env, true_ss_dict, Q_SAR_Simplified, epsilon, m, budget, num_exper)\n",
    "\n",
    "    run_exper(rewards_env, true_ss_dict, Q_SR, epsilon, m, budget, num_exper)\n",
    "\n",
    "    # run_exper(rewards_env, true_ss_dict, OS_SAR_Simplified, epsilon, m, budget, num_exper)\n",
    "\n",
    "    run_exper(rewards_env, true_ss_dict, batch_elimination, epsilon, m, budget, num_exper)\n",
    "\n",
    "    run_exper(rewards_env, true_ss_dict, uniform_sampling, epsilon, m, budget, num_exper)"
   ]
  },
  {
   "cell_type": "code",
   "execution_count": 29,
   "metadata": {
    "tags": []
   },
   "outputs": [
    {
     "output_type": "stream",
     "name": "stdout",
     "text": "Budget  Probability of Error       std     Policy\n0   1000                 0.606  0.048863      Q-SAR\n1   1000                 0.628  0.048334       Q-SR\n2   1000                 0.665  0.047199       Q-BS\n3   1000                 0.742  0.043753  Q-Uniform\n4   1250                 0.489  0.049988      Q-SAR\n"
    },
    {
     "output_type": "execute_result",
     "data": {
      "text/plain": "   Budget  Probability of Error       std     Policy\n0    1000                 0.606  0.048863      Q-SAR\n1    1000                 0.628  0.048334       Q-SR\n2    1000                 0.665  0.047199       Q-BS\n3    1000                 0.742  0.043753  Q-Uniform\n4    1250                 0.489  0.049988      Q-SAR\n5    1250                 0.516  0.049974       Q-SR\n6    1250                 0.580  0.049356       Q-BS\n7    1250                 0.707  0.045514  Q-Uniform\n8    1500                 0.386  0.048683      Q-SAR\n9    1500                 0.422  0.049388       Q-SR\n10   1500                 0.496  0.049998       Q-BS\n11   1500                 0.680  0.046648  Q-Uniform\n12   1750                 0.339  0.047337      Q-SAR\n13   1750                 0.366  0.048171       Q-SR\n14   1750                 0.503  0.049999       Q-BS\n15   1750                 0.600  0.048990  Q-Uniform\n16   2000                 0.242  0.042829      Q-SAR\n17   2000                 0.295  0.045604       Q-SR\n18   2000                 0.409  0.049165       Q-BS\n19   2000                 0.551  0.049739  Q-Uniform\n20   2250                 0.200  0.040000      Q-SAR\n21   2250                 0.248  0.043185       Q-SR\n22   2250                 0.351  0.047728       Q-BS\n23   2250                 0.492  0.049994  Q-Uniform\n24   2500                 0.136  0.034279      Q-SAR\n25   2500                 0.207  0.040516       Q-SR\n26   2500                 0.287  0.045236       Q-BS\n27   2500                 0.445  0.049697  Q-Uniform\n28   2750                 0.150  0.035707      Q-SAR\n29   2750                 0.193  0.039465       Q-SR\n30   2750                 0.275  0.044651       Q-BS\n31   2750                 0.440  0.049639  Q-Uniform\n32   3000                 0.099  0.029866      Q-SAR\n33   3000                 0.151  0.035805       Q-SR\n34   3000                 0.209  0.040659       Q-BS\n35   3000                 0.366  0.048171  Q-Uniform\n36   3250                 0.080  0.027129      Q-SAR\n37   3250                 0.116  0.032022       Q-SR\n38   3250                 0.186  0.038911       Q-BS\n39   3250                 0.335  0.047199  Q-Uniform\n40   3500                 0.074  0.026177      Q-SAR\n41   3500                 0.106  0.030784       Q-SR\n42   3500                 0.150  0.035707       Q-BS\n43   3500                 0.308  0.046167  Q-Uniform\n44   3750                 0.055  0.022798      Q-SAR\n45   3750                 0.081  0.027284       Q-SR\n46   3750                 0.136  0.034279       Q-BS\n47   3750                 0.271  0.044448  Q-Uniform\n48   4000                 0.033  0.017864      Q-SAR\n49   4000                 0.075  0.026339       Q-SR\n50   4000                 0.127  0.033297       Q-BS\n51   4000                 0.249  0.043243  Q-Uniform",
      "text/html": "<div>\n<style scoped>\n    .dataframe tbody tr th:only-of-type {\n        vertical-align: middle;\n    }\n\n    .dataframe tbody tr th {\n        vertical-align: top;\n    }\n\n    .dataframe thead th {\n        text-align: right;\n    }\n</style>\n<table border=\"1\" class=\"dataframe\">\n  <thead>\n    <tr style=\"text-align: right;\">\n      <th></th>\n      <th>Budget</th>\n      <th>Probability of Error</th>\n      <th>std</th>\n      <th>Policy</th>\n    </tr>\n  </thead>\n  <tbody>\n    <tr>\n      <th>0</th>\n      <td>1000</td>\n      <td>0.606</td>\n      <td>0.048863</td>\n      <td>Q-SAR</td>\n    </tr>\n    <tr>\n      <th>1</th>\n      <td>1000</td>\n      <td>0.628</td>\n      <td>0.048334</td>\n      <td>Q-SR</td>\n    </tr>\n    <tr>\n      <th>2</th>\n      <td>1000</td>\n      <td>0.665</td>\n      <td>0.047199</td>\n      <td>Q-BS</td>\n    </tr>\n    <tr>\n      <th>3</th>\n      <td>1000</td>\n      <td>0.742</td>\n      <td>0.043753</td>\n      <td>Q-Uniform</td>\n    </tr>\n    <tr>\n      <th>4</th>\n      <td>1250</td>\n      <td>0.489</td>\n      <td>0.049988</td>\n      <td>Q-SAR</td>\n    </tr>\n    <tr>\n      <th>5</th>\n      <td>1250</td>\n      <td>0.516</td>\n      <td>0.049974</td>\n      <td>Q-SR</td>\n    </tr>\n    <tr>\n      <th>6</th>\n      <td>1250</td>\n      <td>0.580</td>\n      <td>0.049356</td>\n      <td>Q-BS</td>\n    </tr>\n    <tr>\n      <th>7</th>\n      <td>1250</td>\n      <td>0.707</td>\n      <td>0.045514</td>\n      <td>Q-Uniform</td>\n    </tr>\n    <tr>\n      <th>8</th>\n      <td>1500</td>\n      <td>0.386</td>\n      <td>0.048683</td>\n      <td>Q-SAR</td>\n    </tr>\n    <tr>\n      <th>9</th>\n      <td>1500</td>\n      <td>0.422</td>\n      <td>0.049388</td>\n      <td>Q-SR</td>\n    </tr>\n    <tr>\n      <th>10</th>\n      <td>1500</td>\n      <td>0.496</td>\n      <td>0.049998</td>\n      <td>Q-BS</td>\n    </tr>\n    <tr>\n      <th>11</th>\n      <td>1500</td>\n      <td>0.680</td>\n      <td>0.046648</td>\n      <td>Q-Uniform</td>\n    </tr>\n    <tr>\n      <th>12</th>\n      <td>1750</td>\n      <td>0.339</td>\n      <td>0.047337</td>\n      <td>Q-SAR</td>\n    </tr>\n    <tr>\n      <th>13</th>\n      <td>1750</td>\n      <td>0.366</td>\n      <td>0.048171</td>\n      <td>Q-SR</td>\n    </tr>\n    <tr>\n      <th>14</th>\n      <td>1750</td>\n      <td>0.503</td>\n      <td>0.049999</td>\n      <td>Q-BS</td>\n    </tr>\n    <tr>\n      <th>15</th>\n      <td>1750</td>\n      <td>0.600</td>\n      <td>0.048990</td>\n      <td>Q-Uniform</td>\n    </tr>\n    <tr>\n      <th>16</th>\n      <td>2000</td>\n      <td>0.242</td>\n      <td>0.042829</td>\n      <td>Q-SAR</td>\n    </tr>\n    <tr>\n      <th>17</th>\n      <td>2000</td>\n      <td>0.295</td>\n      <td>0.045604</td>\n      <td>Q-SR</td>\n    </tr>\n    <tr>\n      <th>18</th>\n      <td>2000</td>\n      <td>0.409</td>\n      <td>0.049165</td>\n      <td>Q-BS</td>\n    </tr>\n    <tr>\n      <th>19</th>\n      <td>2000</td>\n      <td>0.551</td>\n      <td>0.049739</td>\n      <td>Q-Uniform</td>\n    </tr>\n    <tr>\n      <th>20</th>\n      <td>2250</td>\n      <td>0.200</td>\n      <td>0.040000</td>\n      <td>Q-SAR</td>\n    </tr>\n    <tr>\n      <th>21</th>\n      <td>2250</td>\n      <td>0.248</td>\n      <td>0.043185</td>\n      <td>Q-SR</td>\n    </tr>\n    <tr>\n      <th>22</th>\n      <td>2250</td>\n      <td>0.351</td>\n      <td>0.047728</td>\n      <td>Q-BS</td>\n    </tr>\n    <tr>\n      <th>23</th>\n      <td>2250</td>\n      <td>0.492</td>\n      <td>0.049994</td>\n      <td>Q-Uniform</td>\n    </tr>\n    <tr>\n      <th>24</th>\n      <td>2500</td>\n      <td>0.136</td>\n      <td>0.034279</td>\n      <td>Q-SAR</td>\n    </tr>\n    <tr>\n      <th>25</th>\n      <td>2500</td>\n      <td>0.207</td>\n      <td>0.040516</td>\n      <td>Q-SR</td>\n    </tr>\n    <tr>\n      <th>26</th>\n      <td>2500</td>\n      <td>0.287</td>\n      <td>0.045236</td>\n      <td>Q-BS</td>\n    </tr>\n    <tr>\n      <th>27</th>\n      <td>2500</td>\n      <td>0.445</td>\n      <td>0.049697</td>\n      <td>Q-Uniform</td>\n    </tr>\n    <tr>\n      <th>28</th>\n      <td>2750</td>\n      <td>0.150</td>\n      <td>0.035707</td>\n      <td>Q-SAR</td>\n    </tr>\n    <tr>\n      <th>29</th>\n      <td>2750</td>\n      <td>0.193</td>\n      <td>0.039465</td>\n      <td>Q-SR</td>\n    </tr>\n    <tr>\n      <th>30</th>\n      <td>2750</td>\n      <td>0.275</td>\n      <td>0.044651</td>\n      <td>Q-BS</td>\n    </tr>\n    <tr>\n      <th>31</th>\n      <td>2750</td>\n      <td>0.440</td>\n      <td>0.049639</td>\n      <td>Q-Uniform</td>\n    </tr>\n    <tr>\n      <th>32</th>\n      <td>3000</td>\n      <td>0.099</td>\n      <td>0.029866</td>\n      <td>Q-SAR</td>\n    </tr>\n    <tr>\n      <th>33</th>\n      <td>3000</td>\n      <td>0.151</td>\n      <td>0.035805</td>\n      <td>Q-SR</td>\n    </tr>\n    <tr>\n      <th>34</th>\n      <td>3000</td>\n      <td>0.209</td>\n      <td>0.040659</td>\n      <td>Q-BS</td>\n    </tr>\n    <tr>\n      <th>35</th>\n      <td>3000</td>\n      <td>0.366</td>\n      <td>0.048171</td>\n      <td>Q-Uniform</td>\n    </tr>\n    <tr>\n      <th>36</th>\n      <td>3250</td>\n      <td>0.080</td>\n      <td>0.027129</td>\n      <td>Q-SAR</td>\n    </tr>\n    <tr>\n      <th>37</th>\n      <td>3250</td>\n      <td>0.116</td>\n      <td>0.032022</td>\n      <td>Q-SR</td>\n    </tr>\n    <tr>\n      <th>38</th>\n      <td>3250</td>\n      <td>0.186</td>\n      <td>0.038911</td>\n      <td>Q-BS</td>\n    </tr>\n    <tr>\n      <th>39</th>\n      <td>3250</td>\n      <td>0.335</td>\n      <td>0.047199</td>\n      <td>Q-Uniform</td>\n    </tr>\n    <tr>\n      <th>40</th>\n      <td>3500</td>\n      <td>0.074</td>\n      <td>0.026177</td>\n      <td>Q-SAR</td>\n    </tr>\n    <tr>\n      <th>41</th>\n      <td>3500</td>\n      <td>0.106</td>\n      <td>0.030784</td>\n      <td>Q-SR</td>\n    </tr>\n    <tr>\n      <th>42</th>\n      <td>3500</td>\n      <td>0.150</td>\n      <td>0.035707</td>\n      <td>Q-BS</td>\n    </tr>\n    <tr>\n      <th>43</th>\n      <td>3500</td>\n      <td>0.308</td>\n      <td>0.046167</td>\n      <td>Q-Uniform</td>\n    </tr>\n    <tr>\n      <th>44</th>\n      <td>3750</td>\n      <td>0.055</td>\n      <td>0.022798</td>\n      <td>Q-SAR</td>\n    </tr>\n    <tr>\n      <th>45</th>\n      <td>3750</td>\n      <td>0.081</td>\n      <td>0.027284</td>\n      <td>Q-SR</td>\n    </tr>\n    <tr>\n      <th>46</th>\n      <td>3750</td>\n      <td>0.136</td>\n      <td>0.034279</td>\n      <td>Q-BS</td>\n    </tr>\n    <tr>\n      <th>47</th>\n      <td>3750</td>\n      <td>0.271</td>\n      <td>0.044448</td>\n      <td>Q-Uniform</td>\n    </tr>\n    <tr>\n      <th>48</th>\n      <td>4000</td>\n      <td>0.033</td>\n      <td>0.017864</td>\n      <td>Q-SAR</td>\n    </tr>\n    <tr>\n      <th>49</th>\n      <td>4000</td>\n      <td>0.075</td>\n      <td>0.026339</td>\n      <td>Q-SR</td>\n    </tr>\n    <tr>\n      <th>50</th>\n      <td>4000</td>\n      <td>0.127</td>\n      <td>0.033297</td>\n      <td>Q-BS</td>\n    </tr>\n    <tr>\n      <th>51</th>\n      <td>4000</td>\n      <td>0.249</td>\n      <td>0.043243</td>\n      <td>Q-Uniform</td>\n    </tr>\n  </tbody>\n</table>\n</div>"
     },
     "metadata": {},
     "execution_count": 29
    },
    {
     "output_type": "display_data",
     "data": {
      "text/plain": "<Figure size 360x288 with 1 Axes>",
      "image/svg+xml": "<?xml version=\"1.0\" encoding=\"utf-8\" standalone=\"no\"?>\n<!DOCTYPE svg PUBLIC \"-//W3C//DTD SVG 1.1//EN\"\n  \"http://www.w3.org/Graphics/SVG/1.1/DTD/svg11.dtd\">\n<!-- Created with matplotlib (https://matplotlib.org/) -->\n<svg height=\"277.314375pt\" version=\"1.1\" viewBox=\"0 0 330.024432 277.314375\" width=\"330.024432pt\" xmlns=\"http://www.w3.org/2000/svg\" xmlns:xlink=\"http://www.w3.org/1999/xlink\">\n <defs>\n  <style type=\"text/css\">\n*{stroke-linecap:butt;stroke-linejoin:round;white-space:pre;}\n  </style>\n </defs>\n <g id=\"figure_1\">\n  <g id=\"patch_1\">\n   <path d=\"M 0 277.314375 \nL 330.024432 277.314375 \nL 330.024432 0 \nL 0 0 \nz\n\" style=\"fill:none;\"/>\n  </g>\n  <g id=\"axes_1\">\n   <g id=\"patch_2\">\n    <path d=\"M 43.78125 239.758125 \nL 322.78125 239.758125 \nL 322.78125 22.318125 \nL 43.78125 22.318125 \nz\n\" style=\"fill:#ffffff;\"/>\n   </g>\n   <g id=\"matplotlib.axis_1\">\n    <g id=\"xtick_1\">\n     <g id=\"line2d_1\">\n      <defs>\n       <path d=\"M 0 0 \nL 0 3.5 \n\" id=\"md013c2a31e\" style=\"stroke:#000000;stroke-width:0.8;\"/>\n      </defs>\n      <g>\n       <use style=\"stroke:#000000;stroke-width:0.8;\" x=\"56.463068\" xlink:href=\"#md013c2a31e\" y=\"239.758125\"/>\n      </g>\n     </g>\n     <g id=\"text_1\">\n      <!-- 1000 -->\n      <defs>\n       <path d=\"M 12.40625 8.296875 \nL 28.515625 8.296875 \nL 28.515625 63.921875 \nL 10.984375 60.40625 \nL 10.984375 69.390625 \nL 28.421875 72.90625 \nL 38.28125 72.90625 \nL 38.28125 8.296875 \nL 54.390625 8.296875 \nL 54.390625 0 \nL 12.40625 0 \nz\n\" id=\"DejaVuSans-49\"/>\n       <path d=\"M 31.78125 66.40625 \nQ 24.171875 66.40625 20.328125 58.90625 \nQ 16.5 51.421875 16.5 36.375 \nQ 16.5 21.390625 20.328125 13.890625 \nQ 24.171875 6.390625 31.78125 6.390625 \nQ 39.453125 6.390625 43.28125 13.890625 \nQ 47.125 21.390625 47.125 36.375 \nQ 47.125 51.421875 43.28125 58.90625 \nQ 39.453125 66.40625 31.78125 66.40625 \nz\nM 31.78125 74.21875 \nQ 44.046875 74.21875 50.515625 64.515625 \nQ 56.984375 54.828125 56.984375 36.375 \nQ 56.984375 17.96875 50.515625 8.265625 \nQ 44.046875 -1.421875 31.78125 -1.421875 \nQ 19.53125 -1.421875 13.0625 8.265625 \nQ 6.59375 17.96875 6.59375 36.375 \nQ 6.59375 54.828125 13.0625 64.515625 \nQ 19.53125 74.21875 31.78125 74.21875 \nz\n\" id=\"DejaVuSans-48\"/>\n      </defs>\n      <g transform=\"translate(43.738068 254.356562)scale(0.1 -0.1)\">\n       <use xlink:href=\"#DejaVuSans-49\"/>\n       <use x=\"63.623047\" xlink:href=\"#DejaVuSans-48\"/>\n       <use x=\"127.246094\" xlink:href=\"#DejaVuSans-48\"/>\n       <use x=\"190.869141\" xlink:href=\"#DejaVuSans-48\"/>\n      </g>\n     </g>\n    </g>\n    <g id=\"xtick_2\">\n     <g id=\"line2d_2\">\n      <g>\n       <use style=\"stroke:#000000;stroke-width:0.8;\" x=\"98.735795\" xlink:href=\"#md013c2a31e\" y=\"239.758125\"/>\n      </g>\n     </g>\n     <g id=\"text_2\">\n      <!-- 1500 -->\n      <defs>\n       <path d=\"M 10.796875 72.90625 \nL 49.515625 72.90625 \nL 49.515625 64.59375 \nL 19.828125 64.59375 \nL 19.828125 46.734375 \nQ 21.96875 47.46875 24.109375 47.828125 \nQ 26.265625 48.1875 28.421875 48.1875 \nQ 40.625 48.1875 47.75 41.5 \nQ 54.890625 34.8125 54.890625 23.390625 \nQ 54.890625 11.625 47.5625 5.09375 \nQ 40.234375 -1.421875 26.90625 -1.421875 \nQ 22.3125 -1.421875 17.546875 -0.640625 \nQ 12.796875 0.140625 7.71875 1.703125 \nL 7.71875 11.625 \nQ 12.109375 9.234375 16.796875 8.0625 \nQ 21.484375 6.890625 26.703125 6.890625 \nQ 35.15625 6.890625 40.078125 11.328125 \nQ 45.015625 15.765625 45.015625 23.390625 \nQ 45.015625 31 40.078125 35.4375 \nQ 35.15625 39.890625 26.703125 39.890625 \nQ 22.75 39.890625 18.8125 39.015625 \nQ 14.890625 38.140625 10.796875 36.28125 \nz\n\" id=\"DejaVuSans-53\"/>\n      </defs>\n      <g transform=\"translate(86.010795 254.356562)scale(0.1 -0.1)\">\n       <use xlink:href=\"#DejaVuSans-49\"/>\n       <use x=\"63.623047\" xlink:href=\"#DejaVuSans-53\"/>\n       <use x=\"127.246094\" xlink:href=\"#DejaVuSans-48\"/>\n       <use x=\"190.869141\" xlink:href=\"#DejaVuSans-48\"/>\n      </g>\n     </g>\n    </g>\n    <g id=\"xtick_3\">\n     <g id=\"line2d_3\">\n      <g>\n       <use style=\"stroke:#000000;stroke-width:0.8;\" x=\"141.008523\" xlink:href=\"#md013c2a31e\" y=\"239.758125\"/>\n      </g>\n     </g>\n     <g id=\"text_3\">\n      <!-- 2000 -->\n      <defs>\n       <path d=\"M 19.1875 8.296875 \nL 53.609375 8.296875 \nL 53.609375 0 \nL 7.328125 0 \nL 7.328125 8.296875 \nQ 12.9375 14.109375 22.625 23.890625 \nQ 32.328125 33.6875 34.8125 36.53125 \nQ 39.546875 41.84375 41.421875 45.53125 \nQ 43.3125 49.21875 43.3125 52.78125 \nQ 43.3125 58.59375 39.234375 62.25 \nQ 35.15625 65.921875 28.609375 65.921875 \nQ 23.96875 65.921875 18.8125 64.3125 \nQ 13.671875 62.703125 7.8125 59.421875 \nL 7.8125 69.390625 \nQ 13.765625 71.78125 18.9375 73 \nQ 24.125 74.21875 28.421875 74.21875 \nQ 39.75 74.21875 46.484375 68.546875 \nQ 53.21875 62.890625 53.21875 53.421875 \nQ 53.21875 48.921875 51.53125 44.890625 \nQ 49.859375 40.875 45.40625 35.40625 \nQ 44.1875 33.984375 37.640625 27.21875 \nQ 31.109375 20.453125 19.1875 8.296875 \nz\n\" id=\"DejaVuSans-50\"/>\n      </defs>\n      <g transform=\"translate(128.283523 254.356562)scale(0.1 -0.1)\">\n       <use xlink:href=\"#DejaVuSans-50\"/>\n       <use x=\"63.623047\" xlink:href=\"#DejaVuSans-48\"/>\n       <use x=\"127.246094\" xlink:href=\"#DejaVuSans-48\"/>\n       <use x=\"190.869141\" xlink:href=\"#DejaVuSans-48\"/>\n      </g>\n     </g>\n    </g>\n    <g id=\"xtick_4\">\n     <g id=\"line2d_4\">\n      <g>\n       <use style=\"stroke:#000000;stroke-width:0.8;\" x=\"183.28125\" xlink:href=\"#md013c2a31e\" y=\"239.758125\"/>\n      </g>\n     </g>\n     <g id=\"text_4\">\n      <!-- 2500 -->\n      <g transform=\"translate(170.55625 254.356562)scale(0.1 -0.1)\">\n       <use xlink:href=\"#DejaVuSans-50\"/>\n       <use x=\"63.623047\" xlink:href=\"#DejaVuSans-53\"/>\n       <use x=\"127.246094\" xlink:href=\"#DejaVuSans-48\"/>\n       <use x=\"190.869141\" xlink:href=\"#DejaVuSans-48\"/>\n      </g>\n     </g>\n    </g>\n    <g id=\"xtick_5\">\n     <g id=\"line2d_5\">\n      <g>\n       <use style=\"stroke:#000000;stroke-width:0.8;\" x=\"225.553977\" xlink:href=\"#md013c2a31e\" y=\"239.758125\"/>\n      </g>\n     </g>\n     <g id=\"text_5\">\n      <!-- 3000 -->\n      <defs>\n       <path d=\"M 40.578125 39.3125 \nQ 47.65625 37.796875 51.625 33 \nQ 55.609375 28.21875 55.609375 21.1875 \nQ 55.609375 10.40625 48.1875 4.484375 \nQ 40.765625 -1.421875 27.09375 -1.421875 \nQ 22.515625 -1.421875 17.65625 -0.515625 \nQ 12.796875 0.390625 7.625 2.203125 \nL 7.625 11.71875 \nQ 11.71875 9.328125 16.59375 8.109375 \nQ 21.484375 6.890625 26.8125 6.890625 \nQ 36.078125 6.890625 40.9375 10.546875 \nQ 45.796875 14.203125 45.796875 21.1875 \nQ 45.796875 27.640625 41.28125 31.265625 \nQ 36.765625 34.90625 28.71875 34.90625 \nL 20.21875 34.90625 \nL 20.21875 43.015625 \nL 29.109375 43.015625 \nQ 36.375 43.015625 40.234375 45.921875 \nQ 44.09375 48.828125 44.09375 54.296875 \nQ 44.09375 59.90625 40.109375 62.90625 \nQ 36.140625 65.921875 28.71875 65.921875 \nQ 24.65625 65.921875 20.015625 65.03125 \nQ 15.375 64.15625 9.8125 62.3125 \nL 9.8125 71.09375 \nQ 15.4375 72.65625 20.34375 73.4375 \nQ 25.25 74.21875 29.59375 74.21875 \nQ 40.828125 74.21875 47.359375 69.109375 \nQ 53.90625 64.015625 53.90625 55.328125 \nQ 53.90625 49.265625 50.4375 45.09375 \nQ 46.96875 40.921875 40.578125 39.3125 \nz\n\" id=\"DejaVuSans-51\"/>\n      </defs>\n      <g transform=\"translate(212.828977 254.356562)scale(0.1 -0.1)\">\n       <use xlink:href=\"#DejaVuSans-51\"/>\n       <use x=\"63.623047\" xlink:href=\"#DejaVuSans-48\"/>\n       <use x=\"127.246094\" xlink:href=\"#DejaVuSans-48\"/>\n       <use x=\"190.869141\" xlink:href=\"#DejaVuSans-48\"/>\n      </g>\n     </g>\n    </g>\n    <g id=\"xtick_6\">\n     <g id=\"line2d_6\">\n      <g>\n       <use style=\"stroke:#000000;stroke-width:0.8;\" x=\"267.826705\" xlink:href=\"#md013c2a31e\" y=\"239.758125\"/>\n      </g>\n     </g>\n     <g id=\"text_6\">\n      <!-- 3500 -->\n      <g transform=\"translate(255.101705 254.356562)scale(0.1 -0.1)\">\n       <use xlink:href=\"#DejaVuSans-51\"/>\n       <use x=\"63.623047\" xlink:href=\"#DejaVuSans-53\"/>\n       <use x=\"127.246094\" xlink:href=\"#DejaVuSans-48\"/>\n       <use x=\"190.869141\" xlink:href=\"#DejaVuSans-48\"/>\n      </g>\n     </g>\n    </g>\n    <g id=\"xtick_7\">\n     <g id=\"line2d_7\">\n      <g>\n       <use style=\"stroke:#000000;stroke-width:0.8;\" x=\"310.099432\" xlink:href=\"#md013c2a31e\" y=\"239.758125\"/>\n      </g>\n     </g>\n     <g id=\"text_7\">\n      <!-- 4000 -->\n      <defs>\n       <path d=\"M 37.796875 64.3125 \nL 12.890625 25.390625 \nL 37.796875 25.390625 \nz\nM 35.203125 72.90625 \nL 47.609375 72.90625 \nL 47.609375 25.390625 \nL 58.015625 25.390625 \nL 58.015625 17.1875 \nL 47.609375 17.1875 \nL 47.609375 0 \nL 37.796875 0 \nL 37.796875 17.1875 \nL 4.890625 17.1875 \nL 4.890625 26.703125 \nz\n\" id=\"DejaVuSans-52\"/>\n      </defs>\n      <g transform=\"translate(297.374432 254.356562)scale(0.1 -0.1)\">\n       <use xlink:href=\"#DejaVuSans-52\"/>\n       <use x=\"63.623047\" xlink:href=\"#DejaVuSans-48\"/>\n       <use x=\"127.246094\" xlink:href=\"#DejaVuSans-48\"/>\n       <use x=\"190.869141\" xlink:href=\"#DejaVuSans-48\"/>\n      </g>\n     </g>\n    </g>\n    <g id=\"text_8\">\n     <!-- Budget -->\n     <defs>\n      <path d=\"M 19.671875 34.8125 \nL 19.671875 8.109375 \nL 35.5 8.109375 \nQ 43.453125 8.109375 47.28125 11.40625 \nQ 51.125 14.703125 51.125 21.484375 \nQ 51.125 28.328125 47.28125 31.5625 \nQ 43.453125 34.8125 35.5 34.8125 \nz\nM 19.671875 64.796875 \nL 19.671875 42.828125 \nL 34.28125 42.828125 \nQ 41.5 42.828125 45.03125 45.53125 \nQ 48.578125 48.25 48.578125 53.8125 \nQ 48.578125 59.328125 45.03125 62.0625 \nQ 41.5 64.796875 34.28125 64.796875 \nz\nM 9.8125 72.90625 \nL 35.015625 72.90625 \nQ 46.296875 72.90625 52.390625 68.21875 \nQ 58.5 63.53125 58.5 54.890625 \nQ 58.5 48.1875 55.375 44.234375 \nQ 52.25 40.28125 46.1875 39.3125 \nQ 53.46875 37.75 57.5 32.78125 \nQ 61.53125 27.828125 61.53125 20.40625 \nQ 61.53125 10.640625 54.890625 5.3125 \nQ 48.25 0 35.984375 0 \nL 9.8125 0 \nz\n\" id=\"DejaVuSans-66\"/>\n      <path d=\"M 8.5 21.578125 \nL 8.5 54.6875 \nL 17.484375 54.6875 \nL 17.484375 21.921875 \nQ 17.484375 14.15625 20.5 10.265625 \nQ 23.53125 6.390625 29.59375 6.390625 \nQ 36.859375 6.390625 41.078125 11.03125 \nQ 45.3125 15.671875 45.3125 23.6875 \nL 45.3125 54.6875 \nL 54.296875 54.6875 \nL 54.296875 0 \nL 45.3125 0 \nL 45.3125 8.40625 \nQ 42.046875 3.421875 37.71875 1 \nQ 33.40625 -1.421875 27.6875 -1.421875 \nQ 18.265625 -1.421875 13.375 4.4375 \nQ 8.5 10.296875 8.5 21.578125 \nz\nM 31.109375 56 \nz\n\" id=\"DejaVuSans-117\"/>\n      <path d=\"M 45.40625 46.390625 \nL 45.40625 75.984375 \nL 54.390625 75.984375 \nL 54.390625 0 \nL 45.40625 0 \nL 45.40625 8.203125 \nQ 42.578125 3.328125 38.25 0.953125 \nQ 33.9375 -1.421875 27.875 -1.421875 \nQ 17.96875 -1.421875 11.734375 6.484375 \nQ 5.515625 14.40625 5.515625 27.296875 \nQ 5.515625 40.1875 11.734375 48.09375 \nQ 17.96875 56 27.875 56 \nQ 33.9375 56 38.25 53.625 \nQ 42.578125 51.265625 45.40625 46.390625 \nz\nM 14.796875 27.296875 \nQ 14.796875 17.390625 18.875 11.75 \nQ 22.953125 6.109375 30.078125 6.109375 \nQ 37.203125 6.109375 41.296875 11.75 \nQ 45.40625 17.390625 45.40625 27.296875 \nQ 45.40625 37.203125 41.296875 42.84375 \nQ 37.203125 48.484375 30.078125 48.484375 \nQ 22.953125 48.484375 18.875 42.84375 \nQ 14.796875 37.203125 14.796875 27.296875 \nz\n\" id=\"DejaVuSans-100\"/>\n      <path d=\"M 45.40625 27.984375 \nQ 45.40625 37.75 41.375 43.109375 \nQ 37.359375 48.484375 30.078125 48.484375 \nQ 22.859375 48.484375 18.828125 43.109375 \nQ 14.796875 37.75 14.796875 27.984375 \nQ 14.796875 18.265625 18.828125 12.890625 \nQ 22.859375 7.515625 30.078125 7.515625 \nQ 37.359375 7.515625 41.375 12.890625 \nQ 45.40625 18.265625 45.40625 27.984375 \nz\nM 54.390625 6.78125 \nQ 54.390625 -7.171875 48.1875 -13.984375 \nQ 42 -20.796875 29.203125 -20.796875 \nQ 24.46875 -20.796875 20.265625 -20.09375 \nQ 16.0625 -19.390625 12.109375 -17.921875 \nL 12.109375 -9.1875 \nQ 16.0625 -11.328125 19.921875 -12.34375 \nQ 23.78125 -13.375 27.78125 -13.375 \nQ 36.625 -13.375 41.015625 -8.765625 \nQ 45.40625 -4.15625 45.40625 5.171875 \nL 45.40625 9.625 \nQ 42.625 4.78125 38.28125 2.390625 \nQ 33.9375 0 27.875 0 \nQ 17.828125 0 11.671875 7.65625 \nQ 5.515625 15.328125 5.515625 27.984375 \nQ 5.515625 40.671875 11.671875 48.328125 \nQ 17.828125 56 27.875 56 \nQ 33.9375 56 38.28125 53.609375 \nQ 42.625 51.21875 45.40625 46.390625 \nL 45.40625 54.6875 \nL 54.390625 54.6875 \nz\n\" id=\"DejaVuSans-103\"/>\n      <path d=\"M 56.203125 29.59375 \nL 56.203125 25.203125 \nL 14.890625 25.203125 \nQ 15.484375 15.921875 20.484375 11.0625 \nQ 25.484375 6.203125 34.421875 6.203125 \nQ 39.59375 6.203125 44.453125 7.46875 \nQ 49.3125 8.734375 54.109375 11.28125 \nL 54.109375 2.78125 \nQ 49.265625 0.734375 44.1875 -0.34375 \nQ 39.109375 -1.421875 33.890625 -1.421875 \nQ 20.796875 -1.421875 13.15625 6.1875 \nQ 5.515625 13.8125 5.515625 26.8125 \nQ 5.515625 40.234375 12.765625 48.109375 \nQ 20.015625 56 32.328125 56 \nQ 43.359375 56 49.78125 48.890625 \nQ 56.203125 41.796875 56.203125 29.59375 \nz\nM 47.21875 32.234375 \nQ 47.125 39.59375 43.09375 43.984375 \nQ 39.0625 48.390625 32.421875 48.390625 \nQ 24.90625 48.390625 20.390625 44.140625 \nQ 15.875 39.890625 15.1875 32.171875 \nz\n\" id=\"DejaVuSans-101\"/>\n      <path d=\"M 18.3125 70.21875 \nL 18.3125 54.6875 \nL 36.8125 54.6875 \nL 36.8125 47.703125 \nL 18.3125 47.703125 \nL 18.3125 18.015625 \nQ 18.3125 11.328125 20.140625 9.421875 \nQ 21.96875 7.515625 27.59375 7.515625 \nL 36.8125 7.515625 \nL 36.8125 0 \nL 27.59375 0 \nQ 17.1875 0 13.234375 3.875 \nQ 9.28125 7.765625 9.28125 18.015625 \nL 9.28125 47.703125 \nL 2.6875 47.703125 \nL 2.6875 54.6875 \nL 9.28125 54.6875 \nL 9.28125 70.21875 \nz\n\" id=\"DejaVuSans-116\"/>\n     </defs>\n     <g transform=\"translate(165.296875 268.034687)scale(0.1 -0.1)\">\n      <use xlink:href=\"#DejaVuSans-66\"/>\n      <use x=\"68.603516\" xlink:href=\"#DejaVuSans-117\"/>\n      <use x=\"131.982422\" xlink:href=\"#DejaVuSans-100\"/>\n      <use x=\"195.458984\" xlink:href=\"#DejaVuSans-103\"/>\n      <use x=\"258.935547\" xlink:href=\"#DejaVuSans-101\"/>\n      <use x=\"320.458984\" xlink:href=\"#DejaVuSans-116\"/>\n     </g>\n    </g>\n   </g>\n   <g id=\"matplotlib.axis_2\">\n    <g id=\"ytick_1\">\n     <g id=\"line2d_8\">\n      <defs>\n       <path d=\"M 0 0 \nL -3.5 0 \n\" id=\"m04da58a3c2\" style=\"stroke:#000000;stroke-width:0.8;\"/>\n      </defs>\n      <g>\n       <use style=\"stroke:#000000;stroke-width:0.8;\" x=\"43.78125\" xlink:href=\"#m04da58a3c2\" y=\"229.874489\"/>\n      </g>\n     </g>\n     <g id=\"text_9\">\n      <!-- 0.0 -->\n      <defs>\n       <path d=\"M 10.6875 12.40625 \nL 21 12.40625 \nL 21 0 \nL 10.6875 0 \nz\n\" id=\"DejaVuSans-46\"/>\n      </defs>\n      <g transform=\"translate(20.878125 233.673707)scale(0.1 -0.1)\">\n       <use xlink:href=\"#DejaVuSans-48\"/>\n       <use x=\"63.623047\" xlink:href=\"#DejaVuSans-46\"/>\n       <use x=\"95.410156\" xlink:href=\"#DejaVuSans-48\"/>\n      </g>\n     </g>\n    </g>\n    <g id=\"ytick_2\">\n     <g id=\"line2d_9\">\n      <g>\n       <use style=\"stroke:#000000;stroke-width:0.8;\" x=\"43.78125\" xlink:href=\"#m04da58a3c2\" y=\"190.339943\"/>\n      </g>\n     </g>\n     <g id=\"text_10\">\n      <!-- 0.2 -->\n      <g transform=\"translate(20.878125 194.139162)scale(0.1 -0.1)\">\n       <use xlink:href=\"#DejaVuSans-48\"/>\n       <use x=\"63.623047\" xlink:href=\"#DejaVuSans-46\"/>\n       <use x=\"95.410156\" xlink:href=\"#DejaVuSans-50\"/>\n      </g>\n     </g>\n    </g>\n    <g id=\"ytick_3\">\n     <g id=\"line2d_10\">\n      <g>\n       <use style=\"stroke:#000000;stroke-width:0.8;\" x=\"43.78125\" xlink:href=\"#m04da58a3c2\" y=\"150.805398\"/>\n      </g>\n     </g>\n     <g id=\"text_11\">\n      <!-- 0.4 -->\n      <g transform=\"translate(20.878125 154.604616)scale(0.1 -0.1)\">\n       <use xlink:href=\"#DejaVuSans-48\"/>\n       <use x=\"63.623047\" xlink:href=\"#DejaVuSans-46\"/>\n       <use x=\"95.410156\" xlink:href=\"#DejaVuSans-52\"/>\n      </g>\n     </g>\n    </g>\n    <g id=\"ytick_4\">\n     <g id=\"line2d_11\">\n      <g>\n       <use style=\"stroke:#000000;stroke-width:0.8;\" x=\"43.78125\" xlink:href=\"#m04da58a3c2\" y=\"111.270852\"/>\n      </g>\n     </g>\n     <g id=\"text_12\">\n      <!-- 0.6 -->\n      <defs>\n       <path d=\"M 33.015625 40.375 \nQ 26.375 40.375 22.484375 35.828125 \nQ 18.609375 31.296875 18.609375 23.390625 \nQ 18.609375 15.53125 22.484375 10.953125 \nQ 26.375 6.390625 33.015625 6.390625 \nQ 39.65625 6.390625 43.53125 10.953125 \nQ 47.40625 15.53125 47.40625 23.390625 \nQ 47.40625 31.296875 43.53125 35.828125 \nQ 39.65625 40.375 33.015625 40.375 \nz\nM 52.59375 71.296875 \nL 52.59375 62.3125 \nQ 48.875 64.0625 45.09375 64.984375 \nQ 41.3125 65.921875 37.59375 65.921875 \nQ 27.828125 65.921875 22.671875 59.328125 \nQ 17.53125 52.734375 16.796875 39.40625 \nQ 19.671875 43.65625 24.015625 45.921875 \nQ 28.375 48.1875 33.59375 48.1875 \nQ 44.578125 48.1875 50.953125 41.515625 \nQ 57.328125 34.859375 57.328125 23.390625 \nQ 57.328125 12.15625 50.6875 5.359375 \nQ 44.046875 -1.421875 33.015625 -1.421875 \nQ 20.359375 -1.421875 13.671875 8.265625 \nQ 6.984375 17.96875 6.984375 36.375 \nQ 6.984375 53.65625 15.1875 63.9375 \nQ 23.390625 74.21875 37.203125 74.21875 \nQ 40.921875 74.21875 44.703125 73.484375 \nQ 48.484375 72.75 52.59375 71.296875 \nz\n\" id=\"DejaVuSans-54\"/>\n      </defs>\n      <g transform=\"translate(20.878125 115.070071)scale(0.1 -0.1)\">\n       <use xlink:href=\"#DejaVuSans-48\"/>\n       <use x=\"63.623047\" xlink:href=\"#DejaVuSans-46\"/>\n       <use x=\"95.410156\" xlink:href=\"#DejaVuSans-54\"/>\n      </g>\n     </g>\n    </g>\n    <g id=\"ytick_5\">\n     <g id=\"line2d_12\">\n      <g>\n       <use style=\"stroke:#000000;stroke-width:0.8;\" x=\"43.78125\" xlink:href=\"#m04da58a3c2\" y=\"71.736307\"/>\n      </g>\n     </g>\n     <g id=\"text_13\">\n      <!-- 0.8 -->\n      <defs>\n       <path d=\"M 31.78125 34.625 \nQ 24.75 34.625 20.71875 30.859375 \nQ 16.703125 27.09375 16.703125 20.515625 \nQ 16.703125 13.921875 20.71875 10.15625 \nQ 24.75 6.390625 31.78125 6.390625 \nQ 38.8125 6.390625 42.859375 10.171875 \nQ 46.921875 13.96875 46.921875 20.515625 \nQ 46.921875 27.09375 42.890625 30.859375 \nQ 38.875 34.625 31.78125 34.625 \nz\nM 21.921875 38.8125 \nQ 15.578125 40.375 12.03125 44.71875 \nQ 8.5 49.078125 8.5 55.328125 \nQ 8.5 64.0625 14.71875 69.140625 \nQ 20.953125 74.21875 31.78125 74.21875 \nQ 42.671875 74.21875 48.875 69.140625 \nQ 55.078125 64.0625 55.078125 55.328125 \nQ 55.078125 49.078125 51.53125 44.71875 \nQ 48 40.375 41.703125 38.8125 \nQ 48.828125 37.15625 52.796875 32.3125 \nQ 56.78125 27.484375 56.78125 20.515625 \nQ 56.78125 9.90625 50.3125 4.234375 \nQ 43.84375 -1.421875 31.78125 -1.421875 \nQ 19.734375 -1.421875 13.25 4.234375 \nQ 6.78125 9.90625 6.78125 20.515625 \nQ 6.78125 27.484375 10.78125 32.3125 \nQ 14.796875 37.15625 21.921875 38.8125 \nz\nM 18.3125 54.390625 \nQ 18.3125 48.734375 21.84375 45.5625 \nQ 25.390625 42.390625 31.78125 42.390625 \nQ 38.140625 42.390625 41.71875 45.5625 \nQ 45.3125 48.734375 45.3125 54.390625 \nQ 45.3125 60.0625 41.71875 63.234375 \nQ 38.140625 66.40625 31.78125 66.40625 \nQ 25.390625 66.40625 21.84375 63.234375 \nQ 18.3125 60.0625 18.3125 54.390625 \nz\n\" id=\"DejaVuSans-56\"/>\n      </defs>\n      <g transform=\"translate(20.878125 75.535526)scale(0.1 -0.1)\">\n       <use xlink:href=\"#DejaVuSans-48\"/>\n       <use x=\"63.623047\" xlink:href=\"#DejaVuSans-46\"/>\n       <use x=\"95.410156\" xlink:href=\"#DejaVuSans-56\"/>\n      </g>\n     </g>\n    </g>\n    <g id=\"ytick_6\">\n     <g id=\"line2d_13\">\n      <g>\n       <use style=\"stroke:#000000;stroke-width:0.8;\" x=\"43.78125\" xlink:href=\"#m04da58a3c2\" y=\"32.201761\"/>\n      </g>\n     </g>\n     <g id=\"text_14\">\n      <!-- 1.0 -->\n      <g transform=\"translate(20.878125 36.00098)scale(0.1 -0.1)\">\n       <use xlink:href=\"#DejaVuSans-49\"/>\n       <use x=\"63.623047\" xlink:href=\"#DejaVuSans-46\"/>\n       <use x=\"95.410156\" xlink:href=\"#DejaVuSans-48\"/>\n      </g>\n     </g>\n    </g>\n    <g id=\"text_15\">\n     <!-- Probability of Error -->\n     <defs>\n      <path d=\"M 19.671875 64.796875 \nL 19.671875 37.40625 \nL 32.078125 37.40625 \nQ 38.96875 37.40625 42.71875 40.96875 \nQ 46.484375 44.53125 46.484375 51.125 \nQ 46.484375 57.671875 42.71875 61.234375 \nQ 38.96875 64.796875 32.078125 64.796875 \nz\nM 9.8125 72.90625 \nL 32.078125 72.90625 \nQ 44.34375 72.90625 50.609375 67.359375 \nQ 56.890625 61.8125 56.890625 51.125 \nQ 56.890625 40.328125 50.609375 34.8125 \nQ 44.34375 29.296875 32.078125 29.296875 \nL 19.671875 29.296875 \nL 19.671875 0 \nL 9.8125 0 \nz\n\" id=\"DejaVuSans-80\"/>\n      <path d=\"M 41.109375 46.296875 \nQ 39.59375 47.171875 37.8125 47.578125 \nQ 36.03125 48 33.890625 48 \nQ 26.265625 48 22.1875 43.046875 \nQ 18.109375 38.09375 18.109375 28.8125 \nL 18.109375 0 \nL 9.078125 0 \nL 9.078125 54.6875 \nL 18.109375 54.6875 \nL 18.109375 46.1875 \nQ 20.953125 51.171875 25.484375 53.578125 \nQ 30.03125 56 36.53125 56 \nQ 37.453125 56 38.578125 55.875 \nQ 39.703125 55.765625 41.0625 55.515625 \nz\n\" id=\"DejaVuSans-114\"/>\n      <path d=\"M 30.609375 48.390625 \nQ 23.390625 48.390625 19.1875 42.75 \nQ 14.984375 37.109375 14.984375 27.296875 \nQ 14.984375 17.484375 19.15625 11.84375 \nQ 23.34375 6.203125 30.609375 6.203125 \nQ 37.796875 6.203125 41.984375 11.859375 \nQ 46.1875 17.53125 46.1875 27.296875 \nQ 46.1875 37.015625 41.984375 42.703125 \nQ 37.796875 48.390625 30.609375 48.390625 \nz\nM 30.609375 56 \nQ 42.328125 56 49.015625 48.375 \nQ 55.71875 40.765625 55.71875 27.296875 \nQ 55.71875 13.875 49.015625 6.21875 \nQ 42.328125 -1.421875 30.609375 -1.421875 \nQ 18.84375 -1.421875 12.171875 6.21875 \nQ 5.515625 13.875 5.515625 27.296875 \nQ 5.515625 40.765625 12.171875 48.375 \nQ 18.84375 56 30.609375 56 \nz\n\" id=\"DejaVuSans-111\"/>\n      <path d=\"M 48.6875 27.296875 \nQ 48.6875 37.203125 44.609375 42.84375 \nQ 40.53125 48.484375 33.40625 48.484375 \nQ 26.265625 48.484375 22.1875 42.84375 \nQ 18.109375 37.203125 18.109375 27.296875 \nQ 18.109375 17.390625 22.1875 11.75 \nQ 26.265625 6.109375 33.40625 6.109375 \nQ 40.53125 6.109375 44.609375 11.75 \nQ 48.6875 17.390625 48.6875 27.296875 \nz\nM 18.109375 46.390625 \nQ 20.953125 51.265625 25.265625 53.625 \nQ 29.59375 56 35.59375 56 \nQ 45.5625 56 51.78125 48.09375 \nQ 58.015625 40.1875 58.015625 27.296875 \nQ 58.015625 14.40625 51.78125 6.484375 \nQ 45.5625 -1.421875 35.59375 -1.421875 \nQ 29.59375 -1.421875 25.265625 0.953125 \nQ 20.953125 3.328125 18.109375 8.203125 \nL 18.109375 0 \nL 9.078125 0 \nL 9.078125 75.984375 \nL 18.109375 75.984375 \nz\n\" id=\"DejaVuSans-98\"/>\n      <path d=\"M 34.28125 27.484375 \nQ 23.390625 27.484375 19.1875 25 \nQ 14.984375 22.515625 14.984375 16.5 \nQ 14.984375 11.71875 18.140625 8.90625 \nQ 21.296875 6.109375 26.703125 6.109375 \nQ 34.1875 6.109375 38.703125 11.40625 \nQ 43.21875 16.703125 43.21875 25.484375 \nL 43.21875 27.484375 \nz\nM 52.203125 31.203125 \nL 52.203125 0 \nL 43.21875 0 \nL 43.21875 8.296875 \nQ 40.140625 3.328125 35.546875 0.953125 \nQ 30.953125 -1.421875 24.3125 -1.421875 \nQ 15.921875 -1.421875 10.953125 3.296875 \nQ 6 8.015625 6 15.921875 \nQ 6 25.140625 12.171875 29.828125 \nQ 18.359375 34.515625 30.609375 34.515625 \nL 43.21875 34.515625 \nL 43.21875 35.40625 \nQ 43.21875 41.609375 39.140625 45 \nQ 35.0625 48.390625 27.6875 48.390625 \nQ 23 48.390625 18.546875 47.265625 \nQ 14.109375 46.140625 10.015625 43.890625 \nL 10.015625 52.203125 \nQ 14.9375 54.109375 19.578125 55.046875 \nQ 24.21875 56 28.609375 56 \nQ 40.484375 56 46.34375 49.84375 \nQ 52.203125 43.703125 52.203125 31.203125 \nz\n\" id=\"DejaVuSans-97\"/>\n      <path d=\"M 9.421875 54.6875 \nL 18.40625 54.6875 \nL 18.40625 0 \nL 9.421875 0 \nz\nM 9.421875 75.984375 \nL 18.40625 75.984375 \nL 18.40625 64.59375 \nL 9.421875 64.59375 \nz\n\" id=\"DejaVuSans-105\"/>\n      <path d=\"M 9.421875 75.984375 \nL 18.40625 75.984375 \nL 18.40625 0 \nL 9.421875 0 \nz\n\" id=\"DejaVuSans-108\"/>\n      <path d=\"M 32.171875 -5.078125 \nQ 28.375 -14.84375 24.75 -17.8125 \nQ 21.140625 -20.796875 15.09375 -20.796875 \nL 7.90625 -20.796875 \nL 7.90625 -13.28125 \nL 13.1875 -13.28125 \nQ 16.890625 -13.28125 18.9375 -11.515625 \nQ 21 -9.765625 23.484375 -3.21875 \nL 25.09375 0.875 \nL 2.984375 54.6875 \nL 12.5 54.6875 \nL 29.59375 11.921875 \nL 46.6875 54.6875 \nL 56.203125 54.6875 \nz\n\" id=\"DejaVuSans-121\"/>\n      <path id=\"DejaVuSans-32\"/>\n      <path d=\"M 37.109375 75.984375 \nL 37.109375 68.5 \nL 28.515625 68.5 \nQ 23.6875 68.5 21.796875 66.546875 \nQ 19.921875 64.59375 19.921875 59.515625 \nL 19.921875 54.6875 \nL 34.71875 54.6875 \nL 34.71875 47.703125 \nL 19.921875 47.703125 \nL 19.921875 0 \nL 10.890625 0 \nL 10.890625 47.703125 \nL 2.296875 47.703125 \nL 2.296875 54.6875 \nL 10.890625 54.6875 \nL 10.890625 58.5 \nQ 10.890625 67.625 15.140625 71.796875 \nQ 19.390625 75.984375 28.609375 75.984375 \nz\n\" id=\"DejaVuSans-102\"/>\n      <path d=\"M 9.8125 72.90625 \nL 55.90625 72.90625 \nL 55.90625 64.59375 \nL 19.671875 64.59375 \nL 19.671875 43.015625 \nL 54.390625 43.015625 \nL 54.390625 34.71875 \nL 19.671875 34.71875 \nL 19.671875 8.296875 \nL 56.78125 8.296875 \nL 56.78125 0 \nL 9.8125 0 \nz\n\" id=\"DejaVuSans-69\"/>\n     </defs>\n     <g transform=\"translate(14.798438 178.045156)rotate(-90)scale(0.1 -0.1)\">\n      <use xlink:href=\"#DejaVuSans-80\"/>\n      <use x=\"60.287109\" xlink:href=\"#DejaVuSans-114\"/>\n      <use x=\"101.369141\" xlink:href=\"#DejaVuSans-111\"/>\n      <use x=\"162.550781\" xlink:href=\"#DejaVuSans-98\"/>\n      <use x=\"226.027344\" xlink:href=\"#DejaVuSans-97\"/>\n      <use x=\"287.306641\" xlink:href=\"#DejaVuSans-98\"/>\n      <use x=\"350.783203\" xlink:href=\"#DejaVuSans-105\"/>\n      <use x=\"378.566406\" xlink:href=\"#DejaVuSans-108\"/>\n      <use x=\"406.349609\" xlink:href=\"#DejaVuSans-105\"/>\n      <use x=\"434.132812\" xlink:href=\"#DejaVuSans-116\"/>\n      <use x=\"473.341797\" xlink:href=\"#DejaVuSans-121\"/>\n      <use x=\"532.521484\" xlink:href=\"#DejaVuSans-32\"/>\n      <use x=\"564.308594\" xlink:href=\"#DejaVuSans-111\"/>\n      <use x=\"625.490234\" xlink:href=\"#DejaVuSans-102\"/>\n      <use x=\"660.695312\" xlink:href=\"#DejaVuSans-32\"/>\n      <use x=\"692.482422\" xlink:href=\"#DejaVuSans-69\"/>\n      <use x=\"755.666016\" xlink:href=\"#DejaVuSans-114\"/>\n      <use x=\"796.763672\" xlink:href=\"#DejaVuSans-114\"/>\n      <use x=\"837.845703\" xlink:href=\"#DejaVuSans-111\"/>\n      <use x=\"899.027344\" xlink:href=\"#DejaVuSans-114\"/>\n     </g>\n    </g>\n   </g>\n   <g id=\"line2d_14\">\n    <path clip-path=\"url(#p94b914df65)\" d=\"M 56.463068 110.084816 \nL 77.599432 133.212525 \nL 98.735795 153.572816 \nL 119.872159 162.863434 \nL 141.008523 182.037689 \nL 162.144886 190.339943 \nL 183.28125 202.990998 \nL 204.417614 200.22358 \nL 225.553977 210.304889 \nL 246.690341 214.06067 \nL 267.826705 215.246707 \nL 288.963068 219.002489 \nL 310.099432 223.351289 \n\" style=\"fill:none;stroke:#1f77b4;stroke-linecap:square;stroke-width:1.5;\"/>\n    <defs>\n     <path d=\"M 0 3 \nC 0.795609 3 1.55874 2.683901 2.12132 2.12132 \nC 2.683901 1.55874 3 0.795609 3 0 \nC 3 -0.795609 2.683901 -1.55874 2.12132 -2.12132 \nC 1.55874 -2.683901 0.795609 -3 0 -3 \nC -0.795609 -3 -1.55874 -2.683901 -2.12132 -2.12132 \nC -2.683901 -1.55874 -3 -0.795609 -3 0 \nC -3 0.795609 -2.683901 1.55874 -2.12132 2.12132 \nC -1.55874 2.683901 -0.795609 3 0 3 \nz\n\" id=\"m99870fdcdf\" style=\"stroke:#ffffff;stroke-width:0.75;\"/>\n    </defs>\n    <g clip-path=\"url(#p94b914df65)\">\n     <use style=\"fill:#1f77b4;stroke:#ffffff;stroke-width:0.75;\" x=\"56.463068\" xlink:href=\"#m99870fdcdf\" y=\"110.084816\"/>\n     <use style=\"fill:#1f77b4;stroke:#ffffff;stroke-width:0.75;\" x=\"77.599432\" xlink:href=\"#m99870fdcdf\" y=\"133.212525\"/>\n     <use style=\"fill:#1f77b4;stroke:#ffffff;stroke-width:0.75;\" x=\"98.735795\" xlink:href=\"#m99870fdcdf\" y=\"153.572816\"/>\n     <use style=\"fill:#1f77b4;stroke:#ffffff;stroke-width:0.75;\" x=\"119.872159\" xlink:href=\"#m99870fdcdf\" y=\"162.863434\"/>\n     <use style=\"fill:#1f77b4;stroke:#ffffff;stroke-width:0.75;\" x=\"141.008523\" xlink:href=\"#m99870fdcdf\" y=\"182.037689\"/>\n     <use style=\"fill:#1f77b4;stroke:#ffffff;stroke-width:0.75;\" x=\"162.144886\" xlink:href=\"#m99870fdcdf\" y=\"190.339943\"/>\n     <use style=\"fill:#1f77b4;stroke:#ffffff;stroke-width:0.75;\" x=\"183.28125\" xlink:href=\"#m99870fdcdf\" y=\"202.990998\"/>\n     <use style=\"fill:#1f77b4;stroke:#ffffff;stroke-width:0.75;\" x=\"204.417614\" xlink:href=\"#m99870fdcdf\" y=\"200.22358\"/>\n     <use style=\"fill:#1f77b4;stroke:#ffffff;stroke-width:0.75;\" x=\"225.553977\" xlink:href=\"#m99870fdcdf\" y=\"210.304889\"/>\n     <use style=\"fill:#1f77b4;stroke:#ffffff;stroke-width:0.75;\" x=\"246.690341\" xlink:href=\"#m99870fdcdf\" y=\"214.06067\"/>\n     <use style=\"fill:#1f77b4;stroke:#ffffff;stroke-width:0.75;\" x=\"267.826705\" xlink:href=\"#m99870fdcdf\" y=\"215.246707\"/>\n     <use style=\"fill:#1f77b4;stroke:#ffffff;stroke-width:0.75;\" x=\"288.963068\" xlink:href=\"#m99870fdcdf\" y=\"219.002489\"/>\n     <use style=\"fill:#1f77b4;stroke:#ffffff;stroke-width:0.75;\" x=\"310.099432\" xlink:href=\"#m99870fdcdf\" y=\"223.351289\"/>\n    </g>\n   </g>\n   <g id=\"line2d_15\">\n    <path clip-path=\"url(#p94b914df65)\" d=\"M 56.463068 105.736016 \nL 77.599432 127.875361 \nL 98.735795 146.456598 \nL 119.872159 157.52627 \nL 141.008523 171.561034 \nL 162.144886 180.851652 \nL 183.28125 188.956234 \nL 204.417614 191.723652 \nL 225.553977 200.025907 \nL 246.690341 206.944452 \nL 267.826705 208.92118 \nL 288.963068 213.862998 \nL 310.099432 215.049034 \n\" style=\"fill:none;stroke:#ff7f0e;stroke-linecap:square;stroke-width:1.5;\"/>\n    <defs>\n     <path d=\"M -1.5 3 \nL 0 1.5 \nL 1.5 3 \nL 3 1.5 \nL 1.5 0 \nL 3 -1.5 \nL 1.5 -3 \nL 0 -1.5 \nL -1.5 -3 \nL -3 -1.5 \nL -1.5 0 \nL -3 1.5 \nz\n\" id=\"m58b7972278\" style=\"stroke:#ffffff;stroke-linejoin:miter;stroke-width:0.75;\"/>\n    </defs>\n    <g clip-path=\"url(#p94b914df65)\">\n     <use style=\"fill:#ff7f0e;stroke:#ffffff;stroke-linejoin:miter;stroke-width:0.75;\" x=\"56.463068\" xlink:href=\"#m58b7972278\" y=\"105.736016\"/>\n     <use style=\"fill:#ff7f0e;stroke:#ffffff;stroke-linejoin:miter;stroke-width:0.75;\" x=\"77.599432\" xlink:href=\"#m58b7972278\" y=\"127.875361\"/>\n     <use style=\"fill:#ff7f0e;stroke:#ffffff;stroke-linejoin:miter;stroke-width:0.75;\" x=\"98.735795\" xlink:href=\"#m58b7972278\" y=\"146.456598\"/>\n     <use style=\"fill:#ff7f0e;stroke:#ffffff;stroke-linejoin:miter;stroke-width:0.75;\" x=\"119.872159\" xlink:href=\"#m58b7972278\" y=\"157.52627\"/>\n     <use style=\"fill:#ff7f0e;stroke:#ffffff;stroke-linejoin:miter;stroke-width:0.75;\" x=\"141.008523\" xlink:href=\"#m58b7972278\" y=\"171.561034\"/>\n     <use style=\"fill:#ff7f0e;stroke:#ffffff;stroke-linejoin:miter;stroke-width:0.75;\" x=\"162.144886\" xlink:href=\"#m58b7972278\" y=\"180.851652\"/>\n     <use style=\"fill:#ff7f0e;stroke:#ffffff;stroke-linejoin:miter;stroke-width:0.75;\" x=\"183.28125\" xlink:href=\"#m58b7972278\" y=\"188.956234\"/>\n     <use style=\"fill:#ff7f0e;stroke:#ffffff;stroke-linejoin:miter;stroke-width:0.75;\" x=\"204.417614\" xlink:href=\"#m58b7972278\" y=\"191.723652\"/>\n     <use style=\"fill:#ff7f0e;stroke:#ffffff;stroke-linejoin:miter;stroke-width:0.75;\" x=\"225.553977\" xlink:href=\"#m58b7972278\" y=\"200.025907\"/>\n     <use style=\"fill:#ff7f0e;stroke:#ffffff;stroke-linejoin:miter;stroke-width:0.75;\" x=\"246.690341\" xlink:href=\"#m58b7972278\" y=\"206.944452\"/>\n     <use style=\"fill:#ff7f0e;stroke:#ffffff;stroke-linejoin:miter;stroke-width:0.75;\" x=\"267.826705\" xlink:href=\"#m58b7972278\" y=\"208.92118\"/>\n     <use style=\"fill:#ff7f0e;stroke:#ffffff;stroke-linejoin:miter;stroke-width:0.75;\" x=\"288.963068\" xlink:href=\"#m58b7972278\" y=\"213.862998\"/>\n     <use style=\"fill:#ff7f0e;stroke:#ffffff;stroke-linejoin:miter;stroke-width:0.75;\" x=\"310.099432\" xlink:href=\"#m58b7972278\" y=\"215.049034\"/>\n    </g>\n   </g>\n   <g id=\"line2d_16\">\n    <path clip-path=\"url(#p94b914df65)\" d=\"M 56.463068 98.422125 \nL 77.599432 115.224307 \nL 98.735795 131.828816 \nL 119.872159 130.445107 \nL 141.008523 149.026343 \nL 162.144886 160.491361 \nL 183.28125 173.142416 \nL 204.417614 175.514489 \nL 225.553977 188.560889 \nL 246.690341 193.107361 \nL 267.826705 200.22358 \nL 288.963068 202.990998 \nL 310.099432 204.770052 \n\" style=\"fill:none;stroke:#2ca02c;stroke-linecap:square;stroke-width:1.5;\"/>\n    <defs>\n     <path d=\"M -3 3 \nL 3 3 \nL 3 -3 \nL -3 -3 \nz\n\" id=\"mb43deadb99\" style=\"stroke:#ffffff;stroke-linejoin:miter;stroke-width:0.75;\"/>\n    </defs>\n    <g clip-path=\"url(#p94b914df65)\">\n     <use style=\"fill:#2ca02c;stroke:#ffffff;stroke-linejoin:miter;stroke-width:0.75;\" x=\"56.463068\" xlink:href=\"#mb43deadb99\" y=\"98.422125\"/>\n     <use style=\"fill:#2ca02c;stroke:#ffffff;stroke-linejoin:miter;stroke-width:0.75;\" x=\"77.599432\" xlink:href=\"#mb43deadb99\" y=\"115.224307\"/>\n     <use style=\"fill:#2ca02c;stroke:#ffffff;stroke-linejoin:miter;stroke-width:0.75;\" x=\"98.735795\" xlink:href=\"#mb43deadb99\" y=\"131.828816\"/>\n     <use style=\"fill:#2ca02c;stroke:#ffffff;stroke-linejoin:miter;stroke-width:0.75;\" x=\"119.872159\" xlink:href=\"#mb43deadb99\" y=\"130.445107\"/>\n     <use style=\"fill:#2ca02c;stroke:#ffffff;stroke-linejoin:miter;stroke-width:0.75;\" x=\"141.008523\" xlink:href=\"#mb43deadb99\" y=\"149.026343\"/>\n     <use style=\"fill:#2ca02c;stroke:#ffffff;stroke-linejoin:miter;stroke-width:0.75;\" x=\"162.144886\" xlink:href=\"#mb43deadb99\" y=\"160.491361\"/>\n     <use style=\"fill:#2ca02c;stroke:#ffffff;stroke-linejoin:miter;stroke-width:0.75;\" x=\"183.28125\" xlink:href=\"#mb43deadb99\" y=\"173.142416\"/>\n     <use style=\"fill:#2ca02c;stroke:#ffffff;stroke-linejoin:miter;stroke-width:0.75;\" x=\"204.417614\" xlink:href=\"#mb43deadb99\" y=\"175.514489\"/>\n     <use style=\"fill:#2ca02c;stroke:#ffffff;stroke-linejoin:miter;stroke-width:0.75;\" x=\"225.553977\" xlink:href=\"#mb43deadb99\" y=\"188.560889\"/>\n     <use style=\"fill:#2ca02c;stroke:#ffffff;stroke-linejoin:miter;stroke-width:0.75;\" x=\"246.690341\" xlink:href=\"#mb43deadb99\" y=\"193.107361\"/>\n     <use style=\"fill:#2ca02c;stroke:#ffffff;stroke-linejoin:miter;stroke-width:0.75;\" x=\"267.826705\" xlink:href=\"#mb43deadb99\" y=\"200.22358\"/>\n     <use style=\"fill:#2ca02c;stroke:#ffffff;stroke-linejoin:miter;stroke-width:0.75;\" x=\"288.963068\" xlink:href=\"#mb43deadb99\" y=\"202.990998\"/>\n     <use style=\"fill:#2ca02c;stroke:#ffffff;stroke-linejoin:miter;stroke-width:0.75;\" x=\"310.099432\" xlink:href=\"#mb43deadb99\" y=\"204.770052\"/>\n    </g>\n   </g>\n   <g id=\"line2d_17\">\n    <path clip-path=\"url(#p94b914df65)\" d=\"M 56.463068 83.201325 \nL 77.599432 90.11987 \nL 98.735795 95.457034 \nL 119.872159 111.270852 \nL 141.008523 120.956816 \nL 162.144886 132.619507 \nL 183.28125 141.910125 \nL 204.417614 142.898489 \nL 225.553977 157.52627 \nL 246.690341 163.654125 \nL 267.826705 168.991289 \nL 288.963068 176.30518 \nL 310.099432 180.65398 \n\" style=\"fill:none;stroke:#d62728;stroke-linecap:square;stroke-width:1.5;\"/>\n    <defs>\n     <path d=\"M -1 3 \nL 1 3 \nL 1 1 \nL 3 1 \nL 3 -1 \nL 1 -1 \nL 1 -3 \nL -1 -3 \nL -1 -1 \nL -3 -1 \nL -3 1 \nL -1 1 \nz\n\" id=\"mb390357c25\" style=\"stroke:#ffffff;stroke-linejoin:miter;stroke-width:0.75;\"/>\n    </defs>\n    <g clip-path=\"url(#p94b914df65)\">\n     <use style=\"fill:#d62728;stroke:#ffffff;stroke-linejoin:miter;stroke-width:0.75;\" x=\"56.463068\" xlink:href=\"#mb390357c25\" y=\"83.201325\"/>\n     <use style=\"fill:#d62728;stroke:#ffffff;stroke-linejoin:miter;stroke-width:0.75;\" x=\"77.599432\" xlink:href=\"#mb390357c25\" y=\"90.11987\"/>\n     <use style=\"fill:#d62728;stroke:#ffffff;stroke-linejoin:miter;stroke-width:0.75;\" x=\"98.735795\" xlink:href=\"#mb390357c25\" y=\"95.457034\"/>\n     <use style=\"fill:#d62728;stroke:#ffffff;stroke-linejoin:miter;stroke-width:0.75;\" x=\"119.872159\" xlink:href=\"#mb390357c25\" y=\"111.270852\"/>\n     <use style=\"fill:#d62728;stroke:#ffffff;stroke-linejoin:miter;stroke-width:0.75;\" x=\"141.008523\" xlink:href=\"#mb390357c25\" y=\"120.956816\"/>\n     <use style=\"fill:#d62728;stroke:#ffffff;stroke-linejoin:miter;stroke-width:0.75;\" x=\"162.144886\" xlink:href=\"#mb390357c25\" y=\"132.619507\"/>\n     <use style=\"fill:#d62728;stroke:#ffffff;stroke-linejoin:miter;stroke-width:0.75;\" x=\"183.28125\" xlink:href=\"#mb390357c25\" y=\"141.910125\"/>\n     <use style=\"fill:#d62728;stroke:#ffffff;stroke-linejoin:miter;stroke-width:0.75;\" x=\"204.417614\" xlink:href=\"#mb390357c25\" y=\"142.898489\"/>\n     <use style=\"fill:#d62728;stroke:#ffffff;stroke-linejoin:miter;stroke-width:0.75;\" x=\"225.553977\" xlink:href=\"#mb390357c25\" y=\"157.52627\"/>\n     <use style=\"fill:#d62728;stroke:#ffffff;stroke-linejoin:miter;stroke-width:0.75;\" x=\"246.690341\" xlink:href=\"#mb390357c25\" y=\"163.654125\"/>\n     <use style=\"fill:#d62728;stroke:#ffffff;stroke-linejoin:miter;stroke-width:0.75;\" x=\"267.826705\" xlink:href=\"#mb390357c25\" y=\"168.991289\"/>\n     <use style=\"fill:#d62728;stroke:#ffffff;stroke-linejoin:miter;stroke-width:0.75;\" x=\"288.963068\" xlink:href=\"#mb390357c25\" y=\"176.30518\"/>\n     <use style=\"fill:#d62728;stroke:#ffffff;stroke-linejoin:miter;stroke-width:0.75;\" x=\"310.099432\" xlink:href=\"#mb390357c25\" y=\"180.65398\"/>\n    </g>\n   </g>\n   <g id=\"line2d_18\"/>\n   <g id=\"line2d_19\"/>\n   <g id=\"line2d_20\"/>\n   <g id=\"line2d_21\"/>\n   <g id=\"line2d_22\"/>\n   <g id=\"patch_3\">\n    <path d=\"M 43.78125 239.758125 \nL 43.78125 22.318125 \n\" style=\"fill:none;stroke:#000000;stroke-linecap:square;stroke-linejoin:miter;stroke-width:0.8;\"/>\n   </g>\n   <g id=\"patch_4\">\n    <path d=\"M 322.78125 239.758125 \nL 322.78125 22.318125 \n\" style=\"fill:none;stroke:#000000;stroke-linecap:square;stroke-linejoin:miter;stroke-width:0.8;\"/>\n   </g>\n   <g id=\"patch_5\">\n    <path d=\"M 43.78125 239.758125 \nL 322.78125 239.758125 \n\" style=\"fill:none;stroke:#000000;stroke-linecap:square;stroke-linejoin:miter;stroke-width:0.8;\"/>\n   </g>\n   <g id=\"patch_6\">\n    <path d=\"M 43.78125 22.318125 \nL 322.78125 22.318125 \n\" style=\"fill:none;stroke:#000000;stroke-linecap:square;stroke-linejoin:miter;stroke-width:0.8;\"/>\n   </g>\n   <g id=\"text_16\">\n    <!-- Group_One_Fixed_Budget -->\n    <defs>\n     <path d=\"M 59.515625 10.40625 \nL 59.515625 29.984375 \nL 43.40625 29.984375 \nL 43.40625 38.09375 \nL 69.28125 38.09375 \nL 69.28125 6.78125 \nQ 63.578125 2.734375 56.6875 0.65625 \nQ 49.8125 -1.421875 42 -1.421875 \nQ 24.90625 -1.421875 15.25 8.5625 \nQ 5.609375 18.5625 5.609375 36.375 \nQ 5.609375 54.25 15.25 64.234375 \nQ 24.90625 74.21875 42 74.21875 \nQ 49.125 74.21875 55.546875 72.453125 \nQ 61.96875 70.703125 67.390625 67.28125 \nL 67.390625 56.78125 \nQ 61.921875 61.421875 55.765625 63.765625 \nQ 49.609375 66.109375 42.828125 66.109375 \nQ 29.4375 66.109375 22.71875 58.640625 \nQ 16.015625 51.171875 16.015625 36.375 \nQ 16.015625 21.625 22.71875 14.15625 \nQ 29.4375 6.6875 42.828125 6.6875 \nQ 48.046875 6.6875 52.140625 7.59375 \nQ 56.25 8.5 59.515625 10.40625 \nz\n\" id=\"DejaVuSans-71\"/>\n     <path d=\"M 18.109375 8.203125 \nL 18.109375 -20.796875 \nL 9.078125 -20.796875 \nL 9.078125 54.6875 \nL 18.109375 54.6875 \nL 18.109375 46.390625 \nQ 20.953125 51.265625 25.265625 53.625 \nQ 29.59375 56 35.59375 56 \nQ 45.5625 56 51.78125 48.09375 \nQ 58.015625 40.1875 58.015625 27.296875 \nQ 58.015625 14.40625 51.78125 6.484375 \nQ 45.5625 -1.421875 35.59375 -1.421875 \nQ 29.59375 -1.421875 25.265625 0.953125 \nQ 20.953125 3.328125 18.109375 8.203125 \nz\nM 48.6875 27.296875 \nQ 48.6875 37.203125 44.609375 42.84375 \nQ 40.53125 48.484375 33.40625 48.484375 \nQ 26.265625 48.484375 22.1875 42.84375 \nQ 18.109375 37.203125 18.109375 27.296875 \nQ 18.109375 17.390625 22.1875 11.75 \nQ 26.265625 6.109375 33.40625 6.109375 \nQ 40.53125 6.109375 44.609375 11.75 \nQ 48.6875 17.390625 48.6875 27.296875 \nz\n\" id=\"DejaVuSans-112\"/>\n     <path d=\"M 50.984375 -16.609375 \nL 50.984375 -23.578125 \nL -0.984375 -23.578125 \nL -0.984375 -16.609375 \nz\n\" id=\"DejaVuSans-95\"/>\n     <path d=\"M 39.40625 66.21875 \nQ 28.65625 66.21875 22.328125 58.203125 \nQ 16.015625 50.203125 16.015625 36.375 \nQ 16.015625 22.609375 22.328125 14.59375 \nQ 28.65625 6.59375 39.40625 6.59375 \nQ 50.140625 6.59375 56.421875 14.59375 \nQ 62.703125 22.609375 62.703125 36.375 \nQ 62.703125 50.203125 56.421875 58.203125 \nQ 50.140625 66.21875 39.40625 66.21875 \nz\nM 39.40625 74.21875 \nQ 54.734375 74.21875 63.90625 63.9375 \nQ 73.09375 53.65625 73.09375 36.375 \nQ 73.09375 19.140625 63.90625 8.859375 \nQ 54.734375 -1.421875 39.40625 -1.421875 \nQ 24.03125 -1.421875 14.8125 8.828125 \nQ 5.609375 19.09375 5.609375 36.375 \nQ 5.609375 53.65625 14.8125 63.9375 \nQ 24.03125 74.21875 39.40625 74.21875 \nz\n\" id=\"DejaVuSans-79\"/>\n     <path d=\"M 54.890625 33.015625 \nL 54.890625 0 \nL 45.90625 0 \nL 45.90625 32.71875 \nQ 45.90625 40.484375 42.875 44.328125 \nQ 39.84375 48.1875 33.796875 48.1875 \nQ 26.515625 48.1875 22.3125 43.546875 \nQ 18.109375 38.921875 18.109375 30.90625 \nL 18.109375 0 \nL 9.078125 0 \nL 9.078125 54.6875 \nL 18.109375 54.6875 \nL 18.109375 46.1875 \nQ 21.34375 51.125 25.703125 53.5625 \nQ 30.078125 56 35.796875 56 \nQ 45.21875 56 50.046875 50.171875 \nQ 54.890625 44.34375 54.890625 33.015625 \nz\n\" id=\"DejaVuSans-110\"/>\n     <path d=\"M 9.8125 72.90625 \nL 51.703125 72.90625 \nL 51.703125 64.59375 \nL 19.671875 64.59375 \nL 19.671875 43.109375 \nL 48.578125 43.109375 \nL 48.578125 34.8125 \nL 19.671875 34.8125 \nL 19.671875 0 \nL 9.8125 0 \nz\n\" id=\"DejaVuSans-70\"/>\n     <path d=\"M 54.890625 54.6875 \nL 35.109375 28.078125 \nL 55.90625 0 \nL 45.3125 0 \nL 29.390625 21.484375 \nL 13.484375 0 \nL 2.875 0 \nL 24.125 28.609375 \nL 4.6875 54.6875 \nL 15.28125 54.6875 \nL 29.78125 35.203125 \nL 44.28125 54.6875 \nz\n\" id=\"DejaVuSans-120\"/>\n    </defs>\n    <g transform=\"translate(105.925313 16.318125)scale(0.12 -0.12)\">\n     <use xlink:href=\"#DejaVuSans-71\"/>\n     <use x=\"77.490234\" xlink:href=\"#DejaVuSans-114\"/>\n     <use x=\"118.572266\" xlink:href=\"#DejaVuSans-111\"/>\n     <use x=\"179.753906\" xlink:href=\"#DejaVuSans-117\"/>\n     <use x=\"243.132812\" xlink:href=\"#DejaVuSans-112\"/>\n     <use x=\"306.609375\" xlink:href=\"#DejaVuSans-95\"/>\n     <use x=\"356.609375\" xlink:href=\"#DejaVuSans-79\"/>\n     <use x=\"435.320312\" xlink:href=\"#DejaVuSans-110\"/>\n     <use x=\"498.699219\" xlink:href=\"#DejaVuSans-101\"/>\n     <use x=\"560.222656\" xlink:href=\"#DejaVuSans-95\"/>\n     <use x=\"610.222656\" xlink:href=\"#DejaVuSans-70\"/>\n     <use x=\"667.632812\" xlink:href=\"#DejaVuSans-105\"/>\n     <use x=\"695.416016\" xlink:href=\"#DejaVuSans-120\"/>\n     <use x=\"754.548828\" xlink:href=\"#DejaVuSans-101\"/>\n     <use x=\"816.072266\" xlink:href=\"#DejaVuSans-100\"/>\n     <use x=\"879.548828\" xlink:href=\"#DejaVuSans-95\"/>\n     <use x=\"929.548828\" xlink:href=\"#DejaVuSans-66\"/>\n     <use x=\"998.152344\" xlink:href=\"#DejaVuSans-117\"/>\n     <use x=\"1061.53125\" xlink:href=\"#DejaVuSans-100\"/>\n     <use x=\"1125.007812\" xlink:href=\"#DejaVuSans-103\"/>\n     <use x=\"1188.484375\" xlink:href=\"#DejaVuSans-101\"/>\n     <use x=\"1250.007812\" xlink:href=\"#DejaVuSans-116\"/>\n    </g>\n   </g>\n   <g id=\"legend_1\">\n    <g id=\"patch_7\">\n     <path d=\"M 232.375 103.70875 \nL 315.78125 103.70875 \nQ 317.78125 103.70875 317.78125 101.70875 \nL 317.78125 29.318125 \nQ 317.78125 27.318125 315.78125 27.318125 \nL 232.375 27.318125 \nQ 230.375 27.318125 230.375 29.318125 \nL 230.375 101.70875 \nQ 230.375 103.70875 232.375 103.70875 \nz\n\" style=\"fill:#ffffff;opacity:0.8;stroke:#cccccc;stroke-linejoin:miter;\"/>\n    </g>\n    <g id=\"line2d_23\">\n     <path d=\"M 234.375 35.416562 \nL 254.375 35.416562 \n\" style=\"fill:none;\"/>\n    </g>\n    <g id=\"line2d_24\"/>\n    <g id=\"text_17\">\n     <!-- Policy -->\n     <defs>\n      <path d=\"M 48.78125 52.59375 \nL 48.78125 44.1875 \nQ 44.96875 46.296875 41.140625 47.34375 \nQ 37.3125 48.390625 33.40625 48.390625 \nQ 24.65625 48.390625 19.8125 42.84375 \nQ 14.984375 37.3125 14.984375 27.296875 \nQ 14.984375 17.28125 19.8125 11.734375 \nQ 24.65625 6.203125 33.40625 6.203125 \nQ 37.3125 6.203125 41.140625 7.25 \nQ 44.96875 8.296875 48.78125 10.40625 \nL 48.78125 2.09375 \nQ 45.015625 0.34375 40.984375 -0.53125 \nQ 36.96875 -1.421875 32.421875 -1.421875 \nQ 20.0625 -1.421875 12.78125 6.34375 \nQ 5.515625 14.109375 5.515625 27.296875 \nQ 5.515625 40.671875 12.859375 48.328125 \nQ 20.21875 56 33.015625 56 \nQ 37.15625 56 41.109375 55.140625 \nQ 45.0625 54.296875 48.78125 52.59375 \nz\n\" id=\"DejaVuSans-99\"/>\n     </defs>\n     <g transform=\"translate(262.375 38.916562)scale(0.1 -0.1)\">\n      <use xlink:href=\"#DejaVuSans-80\"/>\n      <use x=\"60.255859\" xlink:href=\"#DejaVuSans-111\"/>\n      <use x=\"121.4375\" xlink:href=\"#DejaVuSans-108\"/>\n      <use x=\"149.220703\" xlink:href=\"#DejaVuSans-105\"/>\n      <use x=\"177.003906\" xlink:href=\"#DejaVuSans-99\"/>\n      <use x=\"231.984375\" xlink:href=\"#DejaVuSans-121\"/>\n     </g>\n    </g>\n    <g id=\"line2d_25\">\n     <path d=\"M 234.375 50.094687 \nL 254.375 50.094687 \n\" style=\"fill:none;stroke:#1f77b4;stroke-linecap:square;stroke-width:1.5;\"/>\n    </g>\n    <g id=\"line2d_26\">\n     <defs>\n      <path d=\"M 0 3 \nC 0.795609 3 1.55874 2.683901 2.12132 2.12132 \nC 2.683901 1.55874 3 0.795609 3 0 \nC 3 -0.795609 2.683901 -1.55874 2.12132 -2.12132 \nC 1.55874 -2.683901 0.795609 -3 0 -3 \nC -0.795609 -3 -1.55874 -2.683901 -2.12132 -2.12132 \nC -2.683901 -1.55874 -3 -0.795609 -3 0 \nC -3 0.795609 -2.683901 1.55874 -2.12132 2.12132 \nC -1.55874 2.683901 -0.795609 3 0 3 \nz\n\" id=\"mc36e44f05c\" style=\"stroke:#1f77b4;\"/>\n     </defs>\n     <g>\n      <use style=\"fill:#1f77b4;stroke:#1f77b4;\" x=\"244.375\" xlink:href=\"#mc36e44f05c\" y=\"50.094687\"/>\n     </g>\n    </g>\n    <g id=\"text_18\">\n     <!-- Q-SAR -->\n     <defs>\n      <path d=\"M 39.40625 66.21875 \nQ 28.65625 66.21875 22.328125 58.203125 \nQ 16.015625 50.203125 16.015625 36.375 \nQ 16.015625 22.609375 22.328125 14.59375 \nQ 28.65625 6.59375 39.40625 6.59375 \nQ 50.140625 6.59375 56.421875 14.59375 \nQ 62.703125 22.609375 62.703125 36.375 \nQ 62.703125 50.203125 56.421875 58.203125 \nQ 50.140625 66.21875 39.40625 66.21875 \nz\nM 53.21875 1.3125 \nL 66.21875 -12.890625 \nL 54.296875 -12.890625 \nL 43.5 -1.21875 \nQ 41.890625 -1.3125 41.03125 -1.359375 \nQ 40.1875 -1.421875 39.40625 -1.421875 \nQ 24.03125 -1.421875 14.8125 8.859375 \nQ 5.609375 19.140625 5.609375 36.375 \nQ 5.609375 53.65625 14.8125 63.9375 \nQ 24.03125 74.21875 39.40625 74.21875 \nQ 54.734375 74.21875 63.90625 63.9375 \nQ 73.09375 53.65625 73.09375 36.375 \nQ 73.09375 23.6875 67.984375 14.640625 \nQ 62.890625 5.609375 53.21875 1.3125 \nz\n\" id=\"DejaVuSans-81\"/>\n      <path d=\"M 4.890625 31.390625 \nL 31.203125 31.390625 \nL 31.203125 23.390625 \nL 4.890625 23.390625 \nz\n\" id=\"DejaVuSans-45\"/>\n      <path d=\"M 53.515625 70.515625 \nL 53.515625 60.890625 \nQ 47.90625 63.578125 42.921875 64.890625 \nQ 37.9375 66.21875 33.296875 66.21875 \nQ 25.25 66.21875 20.875 63.09375 \nQ 16.5 59.96875 16.5 54.203125 \nQ 16.5 49.359375 19.40625 46.890625 \nQ 22.3125 44.4375 30.421875 42.921875 \nL 36.375 41.703125 \nQ 47.40625 39.59375 52.65625 34.296875 \nQ 57.90625 29 57.90625 20.125 \nQ 57.90625 9.515625 50.796875 4.046875 \nQ 43.703125 -1.421875 29.984375 -1.421875 \nQ 24.8125 -1.421875 18.96875 -0.25 \nQ 13.140625 0.921875 6.890625 3.21875 \nL 6.890625 13.375 \nQ 12.890625 10.015625 18.65625 8.296875 \nQ 24.421875 6.59375 29.984375 6.59375 \nQ 38.421875 6.59375 43.015625 9.90625 \nQ 47.609375 13.234375 47.609375 19.390625 \nQ 47.609375 24.75 44.3125 27.78125 \nQ 41.015625 30.8125 33.5 32.328125 \nL 27.484375 33.5 \nQ 16.453125 35.6875 11.515625 40.375 \nQ 6.59375 45.0625 6.59375 53.421875 \nQ 6.59375 63.09375 13.40625 68.65625 \nQ 20.21875 74.21875 32.171875 74.21875 \nQ 37.3125 74.21875 42.625 73.28125 \nQ 47.953125 72.359375 53.515625 70.515625 \nz\n\" id=\"DejaVuSans-83\"/>\n      <path d=\"M 34.1875 63.1875 \nL 20.796875 26.90625 \nL 47.609375 26.90625 \nz\nM 28.609375 72.90625 \nL 39.796875 72.90625 \nL 67.578125 0 \nL 57.328125 0 \nL 50.6875 18.703125 \nL 17.828125 18.703125 \nL 11.1875 0 \nL 0.78125 0 \nz\n\" id=\"DejaVuSans-65\"/>\n      <path d=\"M 44.390625 34.1875 \nQ 47.5625 33.109375 50.5625 29.59375 \nQ 53.5625 26.078125 56.59375 19.921875 \nL 66.609375 0 \nL 56 0 \nL 46.6875 18.703125 \nQ 43.0625 26.03125 39.671875 28.421875 \nQ 36.28125 30.8125 30.421875 30.8125 \nL 19.671875 30.8125 \nL 19.671875 0 \nL 9.8125 0 \nL 9.8125 72.90625 \nL 32.078125 72.90625 \nQ 44.578125 72.90625 50.734375 67.671875 \nQ 56.890625 62.453125 56.890625 51.90625 \nQ 56.890625 45.015625 53.6875 40.46875 \nQ 50.484375 35.9375 44.390625 34.1875 \nz\nM 19.671875 64.796875 \nL 19.671875 38.921875 \nL 32.078125 38.921875 \nQ 39.203125 38.921875 42.84375 42.21875 \nQ 46.484375 45.515625 46.484375 51.90625 \nQ 46.484375 58.296875 42.84375 61.546875 \nQ 39.203125 64.796875 32.078125 64.796875 \nz\n\" id=\"DejaVuSans-82\"/>\n     </defs>\n     <g transform=\"translate(262.375 53.594687)scale(0.1 -0.1)\">\n      <use xlink:href=\"#DejaVuSans-81\"/>\n      <use x=\"78.742188\" xlink:href=\"#DejaVuSans-45\"/>\n      <use x=\"114.826172\" xlink:href=\"#DejaVuSans-83\"/>\n      <use x=\"178.318359\" xlink:href=\"#DejaVuSans-65\"/>\n      <use x=\"246.726562\" xlink:href=\"#DejaVuSans-82\"/>\n     </g>\n    </g>\n    <g id=\"line2d_27\">\n     <path d=\"M 234.375 64.772812 \nL 254.375 64.772812 \n\" style=\"fill:none;stroke:#ff7f0e;stroke-linecap:square;stroke-width:1.5;\"/>\n    </g>\n    <g id=\"line2d_28\">\n     <defs>\n      <path d=\"M -1.5 3 \nL 0 1.5 \nL 1.5 3 \nL 3 1.5 \nL 1.5 0 \nL 3 -1.5 \nL 1.5 -3 \nL 0 -1.5 \nL -1.5 -3 \nL -3 -1.5 \nL -1.5 0 \nL -3 1.5 \nz\n\" id=\"mbad4616867\" style=\"stroke:#ff7f0e;stroke-linejoin:miter;\"/>\n     </defs>\n     <g>\n      <use style=\"fill:#ff7f0e;stroke:#ff7f0e;stroke-linejoin:miter;\" x=\"244.375\" xlink:href=\"#mbad4616867\" y=\"64.772812\"/>\n     </g>\n    </g>\n    <g id=\"text_19\">\n     <!-- Q-SR -->\n     <g transform=\"translate(262.375 68.272812)scale(0.1 -0.1)\">\n      <use xlink:href=\"#DejaVuSans-81\"/>\n      <use x=\"78.742188\" xlink:href=\"#DejaVuSans-45\"/>\n      <use x=\"114.826172\" xlink:href=\"#DejaVuSans-83\"/>\n      <use x=\"178.302734\" xlink:href=\"#DejaVuSans-82\"/>\n     </g>\n    </g>\n    <g id=\"line2d_29\">\n     <path d=\"M 234.375 79.450938 \nL 254.375 79.450938 \n\" style=\"fill:none;stroke:#2ca02c;stroke-linecap:square;stroke-width:1.5;\"/>\n    </g>\n    <g id=\"line2d_30\">\n     <defs>\n      <path d=\"M -3 3 \nL 3 3 \nL 3 -3 \nL -3 -3 \nz\n\" id=\"m160baa6fce\" style=\"stroke:#2ca02c;stroke-linejoin:miter;\"/>\n     </defs>\n     <g>\n      <use style=\"fill:#2ca02c;stroke:#2ca02c;stroke-linejoin:miter;\" x=\"244.375\" xlink:href=\"#m160baa6fce\" y=\"79.450938\"/>\n     </g>\n    </g>\n    <g id=\"text_20\">\n     <!-- Q-BS -->\n     <g transform=\"translate(262.375 82.950938)scale(0.1 -0.1)\">\n      <use xlink:href=\"#DejaVuSans-81\"/>\n      <use x=\"78.742188\" xlink:href=\"#DejaVuSans-45\"/>\n      <use x=\"114.779297\" xlink:href=\"#DejaVuSans-66\"/>\n      <use x=\"183.367188\" xlink:href=\"#DejaVuSans-83\"/>\n     </g>\n    </g>\n    <g id=\"line2d_31\">\n     <path d=\"M 234.375 94.129063 \nL 254.375 94.129063 \n\" style=\"fill:none;stroke:#d62728;stroke-linecap:square;stroke-width:1.5;\"/>\n    </g>\n    <g id=\"line2d_32\">\n     <defs>\n      <path d=\"M -1 3 \nL 1 3 \nL 1 1 \nL 3 1 \nL 3 -1 \nL 1 -1 \nL 1 -3 \nL -1 -3 \nL -1 -1 \nL -3 -1 \nL -3 1 \nL -1 1 \nz\n\" id=\"m4cf72c8dec\" style=\"stroke:#d62728;stroke-linejoin:miter;\"/>\n     </defs>\n     <g>\n      <use style=\"fill:#d62728;stroke:#d62728;stroke-linejoin:miter;\" x=\"244.375\" xlink:href=\"#m4cf72c8dec\" y=\"94.129063\"/>\n     </g>\n    </g>\n    <g id=\"text_21\">\n     <!-- Q-Uniform -->\n     <defs>\n      <path d=\"M 8.6875 72.90625 \nL 18.609375 72.90625 \nL 18.609375 28.609375 \nQ 18.609375 16.890625 22.84375 11.734375 \nQ 27.09375 6.59375 36.625 6.59375 \nQ 46.09375 6.59375 50.34375 11.734375 \nQ 54.59375 16.890625 54.59375 28.609375 \nL 54.59375 72.90625 \nL 64.5 72.90625 \nL 64.5 27.390625 \nQ 64.5 13.140625 57.4375 5.859375 \nQ 50.390625 -1.421875 36.625 -1.421875 \nQ 22.796875 -1.421875 15.734375 5.859375 \nQ 8.6875 13.140625 8.6875 27.390625 \nz\n\" id=\"DejaVuSans-85\"/>\n      <path d=\"M 52 44.1875 \nQ 55.375 50.25 60.0625 53.125 \nQ 64.75 56 71.09375 56 \nQ 79.640625 56 84.28125 50.015625 \nQ 88.921875 44.046875 88.921875 33.015625 \nL 88.921875 0 \nL 79.890625 0 \nL 79.890625 32.71875 \nQ 79.890625 40.578125 77.09375 44.375 \nQ 74.3125 48.1875 68.609375 48.1875 \nQ 61.625 48.1875 57.5625 43.546875 \nQ 53.515625 38.921875 53.515625 30.90625 \nL 53.515625 0 \nL 44.484375 0 \nL 44.484375 32.71875 \nQ 44.484375 40.625 41.703125 44.40625 \nQ 38.921875 48.1875 33.109375 48.1875 \nQ 26.21875 48.1875 22.15625 43.53125 \nQ 18.109375 38.875 18.109375 30.90625 \nL 18.109375 0 \nL 9.078125 0 \nL 9.078125 54.6875 \nL 18.109375 54.6875 \nL 18.109375 46.1875 \nQ 21.1875 51.21875 25.484375 53.609375 \nQ 29.78125 56 35.6875 56 \nQ 41.65625 56 45.828125 52.96875 \nQ 50 49.953125 52 44.1875 \nz\n\" id=\"DejaVuSans-109\"/>\n     </defs>\n     <g transform=\"translate(262.375 97.629063)scale(0.1 -0.1)\">\n      <use xlink:href=\"#DejaVuSans-81\"/>\n      <use x=\"78.742188\" xlink:href=\"#DejaVuSans-45\"/>\n      <use x=\"114.826172\" xlink:href=\"#DejaVuSans-85\"/>\n      <use x=\"188.019531\" xlink:href=\"#DejaVuSans-110\"/>\n      <use x=\"251.398438\" xlink:href=\"#DejaVuSans-105\"/>\n      <use x=\"279.181641\" xlink:href=\"#DejaVuSans-102\"/>\n      <use x=\"314.386719\" xlink:href=\"#DejaVuSans-111\"/>\n      <use x=\"375.568359\" xlink:href=\"#DejaVuSans-114\"/>\n      <use x=\"416.666016\" xlink:href=\"#DejaVuSans-109\"/>\n     </g>\n    </g>\n   </g>\n  </g>\n </g>\n <defs>\n  <clipPath id=\"p94b914df65\">\n   <rect height=\"217.44\" width=\"279\" x=\"43.78125\" y=\"22.318125\"/>\n  </clipPath>\n </defs>\n</svg>\n",
      "image/png": "[encoded data removed]"
     },
     "metadata": {
      "needs_background": "light"
     }
    }
   ],
   "source": [
    "# save results\n",
    "\n",
    "with open('../Group_One_Fixed_Budget.pickle', 'wb') as handle:\n",
    "     pickle.dump(results, handle, protocol=pickle.HIGHEST_PROTOCOL)\n",
    "\n",
    "with open('../Group_One_Fixed_Budget.pickle', 'rb') as handle:\n",
    "    results = pickle.load(handle)\n",
    "\n",
    "plot_eva_budget(results, 'pe', paper_flag = True, with_para = True, title = 'Group_One_Fixed_Budget', log_scale = False)"
   ]
  },
  {
   "cell_type": "code",
   "execution_count": null,
   "metadata": {},
   "outputs": [],
   "source": []
  }
 ],
 "metadata": {
  "kernelspec": {
   "display_name": "Python 3",
   "language": "python",
   "name": "python3"
  },
  "language_info": {
   "codemirror_mode": {
    "name": "ipython",
    "version": 3
   },
   "file_extension": ".py",
   "mimetype": "text/x-python",
   "name": "python",
   "nbconvert_exporter": "python",
   "pygments_lexer": "ipython3",
   "version": "3.7.3-final"
  },
  "toc": {
   "base_numbering": 1,
   "nav_menu": {},
   "number_sections": true,
   "sideBar": true,
   "skip_h1_title": false,
   "title_cell": "Table of Contents",
   "title_sidebar": "Contents",
   "toc_cell": false,
   "toc_position": {},
   "toc_section_display": true,
   "toc_window_display": false
  },
  "varInspector": {
   "cols": {
    "lenName": 16,
    "lenType": 16,
    "lenVar": 40
   },
   "kernels_config": {
    "python": {
     "delete_cmd_postfix": "",
     "delete_cmd_prefix": "del ",
     "library": "var_list.py",
     "varRefreshCmd": "print(var_dic_list())"
    },
    "r": {
     "delete_cmd_postfix": ") ",
     "delete_cmd_prefix": "rm(",
     "library": "var_list.r",
     "varRefreshCmd": "cat(var_dic_list()) "
    }
   },
   "types_to_exclude": [
    "module",
    "function",
    "builtin_function_or_method",
    "instance",
    "_Feature"
   ],
   "window_display": false
  }
 },
 "nbformat": 4,
 "nbformat_minor": 2
}