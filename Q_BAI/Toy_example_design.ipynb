{
 "cells": [
  {
   "cell_type": "code",
   "execution_count": 1,
   "metadata": {},
   "outputs": [],
   "source": [
    "# direct to proper path\n",
    "import os\n",
    "import sys\n",
    "module_path = os.path.abspath(os.path.join('..'))\n",
    "if module_path not in sys.path:\n",
    "    sys.path.append(module_path)\n",
    "    \n",
    "import numpy as np\n",
    "from ipywidgets import IntProgress\n",
    "from IPython.display import display\n",
    "import matplotlib.pyplot as plt\n",
    "from collections import defaultdict\n",
    "import seaborn as sns\n",
    "import pickle\n",
    "from prettytable import PrettyTable\n",
    "\n",
    "from codes.Q_BAI import Q_SAR, uniform_sampling, Q_UGapEb\n",
    "from codes.Environment import Mixture_AbsGau, setup_env, Exp, generate_samples\n",
    "from codes.SimulatedGames import simulate\n",
    "from codes.plots import plot_hist, plot_eva, plot_eva_m\n",
    "\n",
    "import pickle\n",
    "\n",
    "%matplotlib inline"
   ]
  },
  {
   "cell_type": "markdown",
   "metadata": {},
   "source": [
    "# Generate samples setting"
   ]
  },
  {
   "cell_type": "code",
   "execution_count": 2,
   "metadata": {},
   "outputs": [],
   "source": [
    "budget = 5000\n",
    "num_exper = 1000"
   ]
  },
  {
   "cell_type": "markdown",
   "metadata": {},
   "source": [
    "# Group One Design\n",
    "\n",
    "The idea is to show median/0.8-quantile and mean has different order of preference of arms. "
   ]
  },
  {
   "cell_type": "markdown",
   "metadata": {},
   "source": [
    "## Three arms example"
   ]
  },
  {
   "cell_type": "code",
   "execution_count": 3,
   "metadata": {},
   "outputs": [
    {
     "name": "stdout",
     "output_type": "stream",
     "text": [
      "{<class 'codes.Environment.Mixture_AbsGau'>: [[3.5, 1.5, 0, 1, 1]], <class 'codes.Environment.Exp'>: [[0.25]]}\n"
     ]
    }
   ],
   "source": [
    "# environment\n",
    "\n",
    "environments = [\n",
    "    {Mixture_AbsGau: [ [3.5, 1.5, 0, 1, 1]\n",
    "                     ],\n",
    "     Exp: [[1/4]]\n",
    "    } # mu1, sigma1, mu2, sigma2, p\n",
    "    \n",
    "]\n",
    "\n",
    "tau = 0.5 # quantile level\n",
    "est_flag = False # True: estimate the lower bound of hazard rate L; False: use the true L\n",
    "\n",
    "rewards_env, quantiles, Ls, means, samples1 = setup_env(environments, tau)"
   ]
  },
  {
   "cell_type": "code",
   "execution_count": 4,
   "metadata": {},
   "outputs": [
    {
     "name": "stdout",
     "output_type": "stream",
     "text": [
      "Mixture_AbsGau_[[3.5, 1.5, 0, 1, 1]]Exp_[[0.25]]\n",
      "+--------------+----------------------+------+----------+\n",
      "|     Eva      |          A           |  B   | Best Arm |\n",
      "+--------------+----------------------+------+----------+\n",
      "| 0.5-Quantile |         3.49         | 2.78 |    A     |\n",
      "|     Mean     |         3.5          | 3.99 |    B     |\n",
      "|      L       | 0.034962518791612676 | 0.25 |    B     |\n",
      "+--------------+----------------------+------+----------+\n",
      "\n"
     ]
    }
   ],
   "source": [
    "arm_name_dict = {\n",
    "    0: 'A',\n",
    "    1: 'B',\n",
    "}\n",
    "\n",
    "for key in quantiles.keys():\n",
    "    print(key)\n",
    "    quantiles[key] = list(np.around(np.array(quantiles[key]),2))\n",
    "    means[key] = list(np.around(np.array(means[key]),2))\n",
    "    t = PrettyTable(['Eva', 'A', 'B', 'Best Arm'])\n",
    "    t.add_row([str(tau) + '-Quantile'] + quantiles[key]+ [arm_name_dict[np.argmax(quantiles[key])]])\n",
    "    t.add_row(['Mean']+ means[key]+ [arm_name_dict[np.argmax(means[key])]])\n",
    "    t.add_row(['L']+ Ls[key]+ [arm_name_dict[np.argmax(Ls[key])]])\n",
    "    print(t)\n",
    "    print()\n"
   ]
  },
  {
   "cell_type": "code",
   "execution_count": 5,
   "metadata": {},
   "outputs": [
    {
     "data": {
      "image/png": "[encoded data removed]",
      "text/plain": [
       "<Figure size 864x216 with 1 Axes>"
      ]
     },
     "metadata": {
      "needs_background": "light"
     },
     "output_type": "display_data"
    }
   ],
   "source": [
    "plot_hist(samples1)"
   ]
  },
  {
   "cell_type": "markdown",
   "metadata": {},
   "source": [
    "# Group Two Design \n",
    "\n",
    "The idea is to show the (smallest) gap median/0.8 quantiles is much bigger than the gap for means, so that it is easier to identify the best arms."
   ]
  },
  {
   "cell_type": "markdown",
   "metadata": {},
   "source": [
    "## Three arms example"
   ]
  },
  {
   "cell_type": "code",
   "execution_count": 28,
   "metadata": {},
   "outputs": [
    {
     "name": "stdout",
     "output_type": "stream",
     "text": [
      "{<class 'codes.Environment.Mixture_AbsGau'>: [[1, 1.5, 0, 1, 1]], <class 'codes.Environment.Exp'>: [[0.4]]}\n"
     ]
    }
   ],
   "source": [
    "# environment\n",
    "\n",
    "environments = [\n",
    "    {Mixture_AbsGau: [[1, 1.5, 0,1, 1]\n",
    "                     ],\n",
    "     Exp: [[1/2.5]]\n",
    "    } # mu1, sigma1, mu2, sigma2, p\n",
    "    \n",
    "]\n",
    "\n",
    "\n",
    "\n",
    "tau = 0.8 # quantile level\n",
    "est_flag = False # True: estimate the lower bound of hazard rate L; False: use the true L\n",
    "\n",
    "rewards_env, quantiles, Ls, means, samples2 = setup_env(environments, tau)"
   ]
  },
  {
   "cell_type": "code",
   "execution_count": 29,
   "metadata": {},
   "outputs": [
    {
     "name": "stdout",
     "output_type": "stream",
     "text": [
      "Mixture_AbsGau_[[1, 1.5, 0, 1, 1]]Exp_[[0.4]]\n",
      "+--------------+-------------------+------+----------+\n",
      "|     Eva      |         C         |  D   | Best Arm |\n",
      "+--------------+-------------------+------+----------+\n",
      "| 0.8-Quantile |        2.33       | 4.03 |    D     |\n",
      "|     Mean     |        1.45       | 2.5  |    D     |\n",
      "|      L       | 0.425930674029803 | 0.4  |    C     |\n",
      "+--------------+-------------------+------+----------+\n",
      "\n"
     ]
    }
   ],
   "source": [
    "\n",
    "arm_name_dict = {\n",
    "    0: 'C',\n",
    "    1: 'D',\n",
    "}\n",
    "\n",
    "for key in quantiles.keys():\n",
    "    print(key)\n",
    "    quantiles[key] = list(np.around(np.array(quantiles[key]),2))\n",
    "    means[key] = list(np.around(np.array(means[key]),2))\n",
    "    t = PrettyTable(['Eva', 'C', 'D', 'Best Arm'])\n",
    "    t.add_row([str(tau) + '-Quantile'] + quantiles[key]+ [arm_name_dict[np.argmax(quantiles[key])]])\n",
    "    t.add_row(['Mean']+ means[key]+ [arm_name_dict[np.argmax(means[key])]])\n",
    "    t.add_row(['L']+ Ls[key]+ [arm_name_dict[np.argmax(Ls[key])]])\n",
    "    print(t)\n",
    "    print()\n"
   ]
  },
  {
   "cell_type": "code",
   "execution_count": 27,
   "metadata": {},
   "outputs": [
    {
     "data": {
      "image/png": "[encoded data removed]",
      "text/plain": [
       "<Figure size 864x216 with 1 Axes>"
      ]
     },
     "metadata": {
      "needs_background": "light"
     },
     "output_type": "display_data"
    }
   ],
   "source": [
    "plot_hist(samples2)"
   ]
  },
  {
   "cell_type": "code",
   "execution_count": 9,
   "metadata": {},
   "outputs": [],
   "source": [
    "for key, value in samples2.items():\n",
    "    samples1[key] = value"
   ]
  },
  {
   "cell_type": "code",
   "execution_count": 10,
   "metadata": {},
   "outputs": [
    {
     "data": {
      "text/plain": [
       "defaultdict(list,\n",
       "            {'Mixture_AbsGau_[[3.5, 1.5, 0, 1, 1]]Exp_[[0.25]]': [array([3.44735238, 3.4242218 , 1.22782588, ..., 2.52368425, 2.88720123,\n",
       "                     4.15036168]),\n",
       "              array([ 6.95913561,  7.07681908,  4.4416324 , ...,  0.12861474,\n",
       "                      5.79618828, 12.38081869])],\n",
       "             'Mixture_AbsGau_[[1, 1.5, 0, 1, 1]]Exp_[[0.4]]': [array([1.02299419, 1.53813942, 1.5244571 , ..., 0.09020983, 1.44301034,\n",
       "                     0.02920942]),\n",
       "              array([0.85337612, 0.03922183, 1.90108743, ..., 0.22272031, 4.58060292,\n",
       "                     2.90361   ])]})"
      ]
     },
     "execution_count": 10,
     "metadata": {},
     "output_type": "execute_result"
    }
   ],
   "source": [
    "samples1"
   ]
  },
  {
   "cell_type": "code",
   "execution_count": 11,
   "metadata": {},
   "outputs": [],
   "source": [
    "arm_name_dict = {1: 'A', 2: 'B', 3: 'C', 4: 'D'}\n",
    "line_color_list = ['C0', 'C1', 'C2', 'C7']"
   ]
  },
  {
   "cell_type": "code",
   "execution_count": 12,
   "metadata": {},
   "outputs": [
    {
     "data": {
      "image/png": "[encoded data removed]",
      "text/plain": [
       "<Figure size 864x432 with 2 Axes>"
      ]
     },
     "metadata": {
      "needs_background": "light"
     },
     "output_type": "display_data"
    }
   ],
   "source": [
    "plt.figure(figsize=(4 * 3, 3 * len(samples1.keys())))\n",
    "j = 0\n",
    "k = 0\n",
    "for key, value in samples1.items():\n",
    "    j += 1\n",
    "    f = plt.subplot(len(samples1.keys()),3, j)\n",
    "\n",
    "    plt.title('Toy Example ' + str(j))\n",
    "    plt.xlabel('Reward')\n",
    "    plt.ylabel('Frequency')\n",
    "\n",
    "    para_list = []\n",
    "    split_list = key.split(']')\n",
    "    for string in split_list:\n",
    "        if string != '':\n",
    "            a = string.split('[')[-1].replace(' ', '')\n",
    "            para_list += list(a.split(','))\n",
    "\n",
    "    for i, samples in enumerate(value):\n",
    "        k +=1\n",
    "        sns.distplot(samples, ax = f, label = arm_name_dict[k], bins = 100, norm_hist=False, color = line_color_list[k-1]) \n",
    "\n",
    "    plt.xlim([-1, 20])\n",
    "    plt.ylim([0,0.5])\n",
    "    # plt.ylim([0, 0.4])\n",
    "    plt.legend()\n",
    "file_name = 'Hist_'  + key + '.pdf'\n",
    "plt.savefig(file_name, bbox_inches='tight')"
   ]
  },
  {
   "cell_type": "code",
   "execution_count": null,
   "metadata": {},
   "outputs": [],
   "source": []
  },
  {
   "cell_type": "code",
   "execution_count": null,
   "metadata": {},
   "outputs": [],
   "source": []
  }
 ],
 "metadata": {
  "kernelspec": {
   "display_name": "Python 3",
   "language": "python",
   "name": "python3"
  },
  "language_info": {
   "codemirror_mode": {
    "name": "ipython",
    "version": 3
   },
   "file_extension": ".py",
   "mimetype": "text/x-python",
   "name": "python",
   "nbconvert_exporter": "python",
   "pygments_lexer": "ipython3",
   "version": "3.7.4"
  }
 },
 "nbformat": 4,
 "nbformat_minor": 2
}
