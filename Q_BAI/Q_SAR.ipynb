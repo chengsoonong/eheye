{
 "cells": [
  {
   "cell_type": "code",
   "execution_count": 1,
   "metadata": {},
   "outputs": [],
   "source": [
    "# direct to proper path\n",
    "import os\n",
    "import sys\n",
    "module_path = os.path.abspath(os.path.join('..'))\n",
    "if module_path not in sys.path:\n",
    "    sys.path.append(module_path)\n",
    "    \n",
    "import numpy as np\n",
    "from ipywidgets import IntProgress\n",
    "from IPython.display import display\n",
    "import matplotlib.pyplot as plt\n",
    "from collections import defaultdict\n",
    "import seaborn as sns\n",
    "import pickle\n",
    "from prettytable import PrettyTable\n",
    "\n",
    "from codes.Q_BAI import Q_SAR, uniform_sampling\n",
    "from codes.Environment import Mixture_AbsGau, setup_env, Exp\n",
    "from codes.SimulatedGames import simulate\n",
    "from codes.plots import plot_hist, plot_eva, plot_eva_m\n",
    "\n",
    "%matplotlib inline"
   ]
  },
  {
   "cell_type": "code",
   "execution_count": 2,
   "metadata": {},
   "outputs": [
    {
     "name": "stdout",
     "output_type": "stream",
     "text": [
      "{<class 'codes.Environment.Mixture_AbsGau'>: [[0, 2, 0, 1, 1], [3.5, 2, 0, 1, 1], [0, 2, 0, 1, 1], [0, 2, 0, 1, 1], [0, 2, 0, 1, 1], [0, 2, 0, 1, 1], [0, 2, 0, 1, 1], [0, 2, 0, 1, 1], [0, 2, 0, 1, 1], [0, 2, 0, 1, 1], [0, 2, 0, 1, 1], [0, 2, 0, 1, 1], [0, 2, 0, 1, 1], [0, 2, 0, 1, 1], [0, 2, 0, 1, 1], [0, 2, 0, 1, 1]], <class 'codes.Environment.Exp'>: [[0.25], [0.25], [0.25], [0.25]]}\n"
     ]
    }
   ],
   "source": [
    "# environment\n",
    "\n",
    "environments = [\n",
    "    {Mixture_AbsGau: [[0, 2, 0,1, 1], [3.5, 2, 0, 1, 1], \n",
    "                      [0, 2, 0,1, 1],  \n",
    "                      [0, 2, 0,1, 1], \n",
    "                      [0, 2, 0,1, 1], \n",
    "                      [0, 2, 0,1, 1],  \n",
    "                      [0, 2, 0,1, 1], \n",
    "                      [0, 2, 0,1, 1], \n",
    "                      [0, 2, 0,1, 1],  \n",
    "                      [0, 2, 0,1, 1], \n",
    "                      [0, 2, 0,1, 1], \n",
    "                      [0, 2, 0,1, 1],  \n",
    "                      [0, 2, 0,1, 1], \n",
    "                      [0, 2, 0,1, 1], \n",
    "                      [0, 2, 0,1, 1],  \n",
    "                      [0, 2, 0,1, 1],  \n",
    "                     ],\n",
    "     Exp: [[1/4], [1/4], [1/4], [1/4]]\n",
    "    } # mu1, sigma1, mu2, sigma2, p\n",
    "    \n",
    "]\n",
    "\n",
    "tau = 0.5 # quantile level\n",
    "est_flag = False # True: estimate the lower bound of hazard rate L; False: use the true L\n",
    "\n",
    "rewards_env, quantiles, Ls, means, samples = setup_env(environments, tau)"
   ]
  },
  {
   "cell_type": "code",
   "execution_count": 3,
   "metadata": {},
   "outputs": [
    {
     "data": {
      "text/plain": [
       "\"\\narm_name_dict = {\\n    0: 'A',\\n    1: 'B',\\n    2: 'C',\\n    3: 'D'\\n}\\n\\nfor key in quantiles.keys():\\n    print(key)\\n    quantiles[key] = list(np.around(np.array(quantiles[key]),2))\\n    means[key] = list(np.around(np.array(means[key]),2))\\n    t = PrettyTable(['Eva', 'A', 'B', 'C', 'Best Arm'])\\n    t.add_row([str(tau) + '-Quantile'] + quantiles[key]+ [arm_name_dict[np.argmax(quantiles[key])]])\\n    t.add_row(['Mean']+ means[key]+ [arm_name_dict[np.argmax(means[key])]])\\n    t.add_row(['L']+ Ls[key]+ [arm_name_dict[np.argmax(Ls[key])]])\\n    print(t)\\n    print()\\n\""
      ]
     },
     "execution_count": 3,
     "metadata": {},
     "output_type": "execute_result"
    }
   ],
   "source": [
    "'''\n",
    "arm_name_dict = {\n",
    "    0: 'A',\n",
    "    1: 'B',\n",
    "    2: 'C',\n",
    "    3: 'D'\n",
    "}\n",
    "\n",
    "for key in quantiles.keys():\n",
    "    print(key)\n",
    "    quantiles[key] = list(np.around(np.array(quantiles[key]),2))\n",
    "    means[key] = list(np.around(np.array(means[key]),2))\n",
    "    t = PrettyTable(['Eva', 'A', 'B', 'C', 'Best Arm'])\n",
    "    t.add_row([str(tau) + '-Quantile'] + quantiles[key]+ [arm_name_dict[np.argmax(quantiles[key])]])\n",
    "    t.add_row(['Mean']+ means[key]+ [arm_name_dict[np.argmax(means[key])]])\n",
    "    t.add_row(['L']+ Ls[key]+ [arm_name_dict[np.argmax(Ls[key])]])\n",
    "    print(t)\n",
    "    print()\n",
    "'''"
   ]
  },
  {
   "cell_type": "code",
   "execution_count": 4,
   "metadata": {},
   "outputs": [],
   "source": [
    "# plot_hist(samples)"
   ]
  },
  {
   "cell_type": "code",
   "execution_count": 5,
   "metadata": {},
   "outputs": [],
   "source": [
    "# run experiments\n",
    "\n",
    "def run_exper(rewards_env, hyperpara_list, num_arms, num_exper, budget_or_confi, epsilon, tau, policy, summary_stats, est_flags = [est_flag]):\n",
    "    for key in rewards_env.keys():\n",
    "        for hyperpara in hyperpara_list:\n",
    "            for est_flag in est_flags:\n",
    "                name = key + '_' + str(num_exper) + '_' + str(budget_or_confi) \n",
    "                policy_name = str(policy).split('.')[-1].split('\\'')[0] + '-'\n",
    "                subname = policy_name + str(hyperpara) \n",
    "                print(name + subname)\n",
    "                p = IntProgress(max = num_exper)\n",
    "                p.description = 'Running'\n",
    "                display(p)\n",
    "                results[name][subname] = []\n",
    "                for m in [1]:\n",
    "                    #print('m: ', m)\n",
    "                    results[name][subname].append(simulate(rewards_env[key],summary_stats[key], policy, \n",
    "                                                 epsilon, tau, m, budget_or_confi, num_exper, est_flag, hyperpara, None, p))"
   ]
  },
  {
   "cell_type": "code",
   "execution_count": 6,
   "metadata": {},
   "outputs": [],
   "source": [
    "# setting\n",
    "\n",
    "results = defaultdict(dict)\n",
    "num_arms = 16\n",
    "num_exper = 1000\n",
    "budget = 1000\n",
    "epsilon = 0\n",
    "hyperpara_list = [[1]]"
   ]
  },
  {
   "cell_type": "code",
   "execution_count": 7,
   "metadata": {},
   "outputs": [
    {
     "name": "stdout",
     "output_type": "stream",
     "text": [
      "Mixture_AbsGau_[[0, 2, 0, 1, 1], [3.5, 2, 0, 1, 1], [0, 2, 0, 1, 1], [0, 2, 0, 1, 1], [0, 2, 0, 1, 1], [0, 2, 0, 1, 1], [0, 2, 0, 1, 1], [0, 2, 0, 1, 1], [0, 2, 0, 1, 1], [0, 2, 0, 1, 1], [0, 2, 0, 1, 1], [0, 2, 0, 1, 1], [0, 2, 0, 1, 1], [0, 2, 0, 1, 1], [0, 2, 0, 1, 1], [0, 2, 0, 1, 1]]Exp_[[0.25], [0.25], [0.25], [0.25]]_1000_1000Q_SAR-[1]\n"
     ]
    },
    {
     "data": {
      "application/vnd.jupyter.widget-view+json": {
       "model_id": "9288d39616114b449746eb8e32ae28d3",
       "version_major": 2,
       "version_minor": 0
      },
      "text/plain": [
       "IntProgress(value=0, description='Running', max=1000)"
      ]
     },
     "metadata": {},
     "output_type": "display_data"
    },
    {
     "name": "stdout",
     "output_type": "stream",
     "text": [
      "Mixture_AbsGau_[[0, 2, 0, 1, 1], [3.5, 2, 0, 1, 1], [0, 2, 0, 1, 1], [0, 2, 0, 1, 1], [0, 2, 0, 1, 1], [0, 2, 0, 1, 1], [0, 2, 0, 1, 1], [0, 2, 0, 1, 1], [0, 2, 0, 1, 1], [0, 2, 0, 1, 1], [0, 2, 0, 1, 1], [0, 2, 0, 1, 1], [0, 2, 0, 1, 1], [0, 2, 0, 1, 1], [0, 2, 0, 1, 1], [0, 2, 0, 1, 1]]Exp_[[0.25], [0.25], [0.25], [0.25]]_1000_1000uniform_sampling-[1]\n"
     ]
    },
    {
     "data": {
      "application/vnd.jupyter.widget-view+json": {
       "model_id": "d318527cbf7c471e97eca142844639ae",
       "version_major": 2,
       "version_minor": 0
      },
      "text/plain": [
       "IntProgress(value=0, description='Running', max=1000)"
      ]
     },
     "metadata": {},
     "output_type": "display_data"
    }
   ],
   "source": [
    "run_exper(rewards_env, hyperpara_list, num_arms, num_exper, budget, epsilon, tau, Q_SAR, quantiles)\n",
    "\n",
    "run_exper(rewards_env, hyperpara_list, num_arms, num_exper, budget, epsilon, tau, uniform_sampling, quantiles)"
   ]
  },
  {
   "cell_type": "code",
   "execution_count": 8,
   "metadata": {},
   "outputs": [
    {
     "data": {
      "image/png": "[encoded data removed]",
      "text/plain": [
       "<Figure size 864x216 with 1 Axes>"
      ]
     },
     "metadata": {
      "needs_background": "light"
     },
     "output_type": "display_data"
    }
   ],
   "source": [
    "plot_eva(results, 'pe', paper_flag = False)"
   ]
  },
  {
   "cell_type": "code",
   "execution_count": null,
   "metadata": {},
   "outputs": [],
   "source": []
  }
 ],
 "metadata": {
  "kernelspec": {
   "display_name": "Python 3",
   "language": "python",
   "name": "python3"
  },
  "language_info": {
   "codemirror_mode": {
    "name": "ipython",
    "version": 3
   },
   "file_extension": ".py",
   "mimetype": "text/x-python",
   "name": "python",
   "nbconvert_exporter": "python",
   "pygments_lexer": "ipython3",
   "version": "3.7.4"
  }
 },
 "nbformat": 4,
 "nbformat_minor": 2
}
