{
 "cells": [
  {
   "cell_type": "markdown",
   "metadata": {},
   "source": [
    "### Analysis\n",
    "\n",
    "Limitation of the two algorithms:\n",
    "\n",
    "- shifQ: needs all quantiles to be positive\n",
    "     \n",
    "- P2: \n",
    "    - needs pre-knowledge of the data size;\n",
    "    - needs really big dataset (size = 10^7) to have a \"not bad\" estimation\n",
    "    "
   ]
  },
  {
   "cell_type": "markdown",
   "metadata": {},
   "source": [
    "### What I've done\n",
    "\n",
    "P2 algorithm (completed, no error while running)\n",
    "- But doesn't seem to work well: the fluctuation of quantile estimations are too big\n",
    "- Cannot find even psedo-code for the algorithm, some parts are rather unclear\n",
    "- **Solution**: Take at most one day to try adjust the implementation or I'll use their data to compare\n",
    "\n",
    "- **Result**: Debugging failed, would use their data and my experiment to briefly show why P2 is not a competitive method\n",
    "    - Needs super large datasize, hard to run\n",
    "    - From their data: the error is not very small given how big the dataset is: SGD can easily do better\n",
    "    - From my experiment: the \n",
    "\n",
    "\n",
    "SAG algorithm (completed, no error)\n",
    "- I don't quite understand the idea of \"average gradient\"\n",
    "- The algorithm focuses on big data and needs pre-knowledge of the datasize\n",
    "- Experiment to do:\n",
    "    - Different step-size alpha\n",
    "        - same alpha for all tau-values\n",
    "        - different alpha for different tau-values\n",
    "    - Different data distro\n",
    "    - Different data size\n",
    "    \n",
    "- **My thoughts on improvement**: shrink step size when it converges\n",
    "    - Termination criterion\n",
    "    - Shrink by 2, then wait for the next termination\n",
    "    "
   ]
  },
  {
   "cell_type": "markdown",
   "metadata": {},
   "source": [
    "### Thesis writing\n",
    "\n",
    "- I've done nothing so far since literature review (sad)"
   ]
  },
  {
   "cell_type": "markdown",
   "metadata": {},
   "source": [
    "## Plan for this week\n",
    "\n",
    "1. Compare P2 algorithm with shiftQ and SGD -- Cannot do\n",
    "2. Apply step size adaptation method SAG -- Done\n",
    "3. Thesis writting chapter ? -- Yet to start"
   ]
  },
  {
   "cell_type": "markdown",
   "metadata": {},
   "source": [
    "## Plan for next week\n",
    "\n"
   ]
  },
  {
   "cell_type": "markdown",
   "metadata": {},
   "source": []
  },
  {
   "cell_type": "code",
   "execution_count": null,
   "metadata": {},
   "outputs": [],
   "source": []
  }
 ],
 "metadata": {
  "kernelspec": {
   "display_name": "Python 3",
   "language": "python",
   "name": "python3"
  },
  "language_info": {
   "codemirror_mode": {
    "name": "ipython",
    "version": 3
   },
   "file_extension": ".py",
   "mimetype": "text/x-python",
   "name": "python",
   "nbconvert_exporter": "python",
   "pygments_lexer": "ipython3",
   "version": "3.6.4"
  }
 },
 "nbformat": 4,
 "nbformat_minor": 2
}
