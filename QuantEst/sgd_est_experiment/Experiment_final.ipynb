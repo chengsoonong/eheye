{
 "cells": [
  {
   "cell_type": "markdown",
   "metadata": {},
   "source": [
    "### New file"
   ]
  },
  {
   "cell_type": "code",
   "execution_count": 1,
   "metadata": {},
   "outputs": [
    {
     "name": "stdout",
     "output_type": "stream",
     "text": [
      "get_procs() using method p2\n",
      "p2\n",
      "stepsize is const\n"
     ]
    }
   ],
   "source": [
    "import math\n",
    "import numpy as np\n",
    "import os\n",
    "from Dataset_generation import get_dataset, get_q_batches, get_q_true, get_shuffled_dataset\n",
    "from Output_data_generation import initialize_folders, get_settings, get_file_name, save_data\n",
    "from Quantile_procs import get_procs"
   ]
  },
  {
   "cell_type": "code",
   "execution_count": 2,
   "metadata": {},
   "outputs": [],
   "source": [
    "sgd_lst = ['distro', 'data_size', 'step_size', 'data_sequence']        \n",
    "tau_vals = [0.1, 0.3, 0.5, 0.9, 0.99]"
   ]
  },
  {
   "cell_type": "code",
   "execution_count": 3,
   "metadata": {},
   "outputs": [],
   "source": [
    "def get_res(procs):\n",
    "    if len(procs.shape)!=2:raise Exception('Procs of wrong shape:' + str(procs.shape)+ ', should be 2d array')\n",
    "    \n",
    "    return procs[:, -1]"
   ]
  },
  {
   "cell_type": "code",
   "execution_count": 4,
   "metadata": {},
   "outputs": [],
   "source": [
    "# Get quantile estimates\n",
    "def get_q_ests(dataset, stepsize, tau_lst):\n",
    "    print (\"get_q_est stepsize is {}\".format(stepsize))\n",
    "    if len(dataset.shape)>2:\n",
    "        raise Exception('Dataset for q_est calculation of wrong shape: {}, should be 1d or 2d array'\n",
    "                        .format(str(dataset.shape)))\n",
    "    if len(dataset.shape)==1:\n",
    "        procs = get_procs(dataset, tau_lst, method_name='p2', stepsize=stepsize)\n",
    "        res = get_res(procs)\n",
    "    else:\n",
    "        res = np.zeros((dataset.shape[0], len(tau_lst)))\n",
    "        procs = np.zeros((dataset.shape[0], len(tau_lst), dataset.shape[1]))\n",
    "        for idx, dt in enumerate(dataset):\n",
    "            procs[idx] = get_procs(dt, tau_lst, method_name='p2', stepsize=stepsize)\n",
    "            res[idx] = get_res(procs[idx])\n",
    "    return res, procs"
   ]
  },
  {
   "cell_type": "code",
   "execution_count": 5,
   "metadata": {},
   "outputs": [],
   "source": [
    "def get_normalized_e(true, batches, est):\n",
    "    upper = est - batches\n",
    "    bottom = true - batches\n",
    "    return (upper/bottom)"
   ]
  },
  {
   "cell_type": "markdown",
   "metadata": {},
   "source": [
    "### Main functions "
   ]
  },
  {
   "cell_type": "code",
   "execution_count": 6,
   "metadata": {},
   "outputs": [],
   "source": [
    "def quantile_method_compare(folder_name, distro_lst, datasize_lst, stepsize_lst, \n",
    "                         g_test=False, s_test=False, tau_lst=[0.1, 0.3, 0.5, 0.9, 0.99], \n",
    "                        ):\n",
    "    \n",
    "    if g_test and s_test: raise Exception(\"g_test and s_test can't both be true\")\n",
    "    \n",
    "    # generate different settings\n",
    "    setting_lst, changed_setting = get_settings(distro_lst, datasize_lst, stepsize_lst,)\n",
    "    print (setting_lst)\n",
    "    \n",
    "    # if only stepsize changes, generate dataset and q_batches\n",
    "    dataset, q_batches = 0, 0\n",
    "    if len(distro_lst)==1 and len(datasize_lst)==1:\n",
    "        dataset = get_dataset(distro_lst[0], datasize_lst[0], g_test)\n",
    "        q_batches = get_q_batches(dataset, tau_lst)\n",
    "        \n",
    "    # for each setting = [distro, datasize, stepsize]\n",
    "    for idx, setting in enumerate(setting_lst):\n",
    "        \n",
    "        # generate all the data\n",
    "        distro, datasize, stepsize = setting[0], int(setting[1]), setting[2]\n",
    "        q_true = get_q_true(distro, tau_lst)\n",
    "        if len(distro_lst)!=1 or len(datasize_lst)!=1:\n",
    "            dataset = get_dataset(distro, datasize, g_test)\n",
    "            q_batches = get_q_batches(dataset, tau_lst)\n",
    "        if s_test: \n",
    "            dataset = get_shuffled_dataset(dataset, datasize, s_test)\n",
    "        q_est_res, q_est_proc = get_q_ests(dataset, stepsize, tau_lst)\n",
    "        E = get_normalized_e(q_true, q_batches, q_est_res)\n",
    "        \n",
    "        data_dict = {\n",
    "            'q_true': q_true,\n",
    "            'q_batches': q_batches,\n",
    "            'q_est_res': q_est_res,\n",
    "            'q_est_proc': q_est_proc,\n",
    "            'E': E\n",
    "        }\n",
    "        # generate charts and tables?\n",
    "        file_name = get_file_name(changed_setting, distro, datasize, stepsize, s_test)\n",
    "        save_data(folder_name, file_name, tau_lst, data_dict)"
   ]
  },
  {
   "cell_type": "code",
   "execution_count": 7,
   "metadata": {},
   "outputs": [],
   "source": [
    "def all_method_comparisons(compare_lst, root_folder='SGD'):\n",
    "    \n",
    "    args_dict = {\n",
    "        'distro': (distros, [1000], ['const'], True),\n",
    "        'data_size': (['gau_2'], [100, 1000, 10000], ['const'], True),\n",
    "        'step_size': (['gau_1'], [1000], stepsizes, True),\n",
    "        'data_sequence':(['gau_1', 'gau_1'], [1000], ['const'], False, True),\n",
    "    }\n",
    "    \n",
    "    for t in compare_lst:\n",
    "        print (t)\n",
    "        folder_name = \"Experiment_results/{}/{}/\".format(root_folder, t)\n",
    "        \n",
    "        args = args_dict.get(t)\n",
    "        distro_lst, datasize_lst, stepsize_lst =  args[0], args[1], args[2]\n",
    "        g_test = args[3]\n",
    "        s_test = False if len(args)<5 else args[4]\n",
    "        tau_lst = tau_vals\n",
    "        print (s_test)\n",
    "        \n",
    "        quantile_method_compare(folder_name, distro_lst, datasize_lst, stepsize_lst, g_test, s_test, tau_lst)\n",
    "            "
   ]
  },
  {
   "cell_type": "code",
   "execution_count": 8,
   "metadata": {},
   "outputs": [],
   "source": [
    "distros = ['mix', 'gau_1', 'gau_2', 'exp']\n",
    "stepsizes = ['const', '2_div_sqrt_k', '0.002_div_sqrt_k']\n",
    "\n",
    "N_g = 12 # N_generation\n",
    "N_s = 10 # N_shuffle"
   ]
  },
  {
   "cell_type": "code",
   "execution_count": 13,
   "metadata": {},
   "outputs": [
    {
     "name": "stdout",
     "output_type": "stream",
     "text": [
      "data_sequence\n",
      "True\n",
      "[['gau_1' '1000' 'const']\n",
      " ['gau_1' '1000' 'const']]\n",
      "get_q_est stepsize is const\n",
      "get_procs() using method p2\n",
      "p2\n",
      "stepsize is const\n",
      "get_procs() using method p2\n",
      "p2\n",
      "stepsize is const\n",
      "get_procs() using method p2\n",
      "p2\n",
      "stepsize is const\n",
      "get_procs() using method p2\n",
      "p2\n",
      "stepsize is const\n",
      "get_procs() using method p2\n",
      "p2\n",
      "stepsize is const\n",
      "get_procs() using method p2\n",
      "p2\n",
      "stepsize is const\n",
      "get_procs() using method p2\n",
      "p2\n",
      "stepsize is const\n",
      "get_procs() using method p2\n",
      "p2\n",
      "stepsize is const\n",
      "get_procs() using method p2\n",
      "p2\n",
      "stepsize is const\n",
      "get_procs() using method p2\n",
      "p2\n",
      "stepsize is const\n",
      "Experiment_results/P2/data_sequence/shuffle_q_true.txt\n",
      "Experiment_results/P2/data_sequence/shuffle_q_batches.txt\n",
      "Experiment_results/P2/data_sequence/shuffle_q_est_res.txt\n",
      "Experiment_results/P2/data_sequence/shuffle_q_est_proc.txt\n",
      "Experiment_results/P2/data_sequence/shuffle_E.txt\n",
      "get_q_est stepsize is const\n",
      "get_procs() using method p2\n",
      "p2\n",
      "stepsize is const\n",
      "get_procs() using method p2\n",
      "p2\n",
      "stepsize is const\n",
      "get_procs() using method p2\n",
      "p2\n",
      "stepsize is const\n",
      "get_procs() using method p2\n",
      "p2\n",
      "stepsize is const\n",
      "get_procs() using method p2\n",
      "p2\n",
      "stepsize is const\n",
      "get_procs() using method p2\n",
      "p2\n",
      "stepsize is const\n",
      "get_procs() using method p2\n",
      "p2\n",
      "stepsize is const\n",
      "get_procs() using method p2\n",
      "p2\n",
      "stepsize is const\n",
      "get_procs() using method p2\n",
      "p2\n",
      "stepsize is const\n",
      "get_procs() using method p2\n",
      "p2\n",
      "stepsize is const\n",
      "Experiment_results/P2/data_sequence/shuffle_q_true.txt\n",
      "Experiment_results/P2/data_sequence/shuffle_q_batches.txt\n",
      "Experiment_results/P2/data_sequence/shuffle_q_est_res.txt\n",
      "Experiment_results/P2/data_sequence/shuffle_q_est_proc.txt\n",
      "Experiment_results/P2/data_sequence/shuffle_E.txt\n"
     ]
    }
   ],
   "source": [
    "# Run all functions\n",
    "\n",
    "main_folder = 'P2'\n",
    "compare_lst = ['data_sequence']\n",
    "initialize_folders(main_fd = 'Experiment_results/', fd_lst = ['P2'], \n",
    "                       sub_fd_lst = ['P2/'], subsub_fd_lst = compare_lst)\n",
    "all_method_comparisons(compare_lst, main_folder)"
   ]
  },
  {
   "cell_type": "code",
   "execution_count": 10,
   "metadata": {},
   "outputs": [],
   "source": [
    "# def sgd_frugal_compare(distro_lst, datasize, tau_lst=tau_vals):\n",
    "#     #distro changes, use the biggest datasize, do not shuffle\n",
    "#     for distro in distro_lst:\n",
    "#         q_true = get_q_true(distro, tau_lst)\n",
    "#         dataset = get_dataset(distro, datasize, False)\n",
    "#         q_batches = get_q_batches(dataset, tau_lst)\n",
    "        \n",
    "#         sgd_res, sgd_proc = get_q_ests(dataset, 'const', tau_lst)\n",
    "        \n",
    "#         N_frugal = 20\n",
    "#         frugal_res = np.zeros((N_frugal, len(tau_lst)))\n",
    "#         frugal_proc = np.zeros((N_frugal, len(tau_lst), datasize))\n",
    "#         for i in range(N_frugal):\n",
    "#             frugal_res[i], frugal_proc[i] = get_q_ests(dataset, 'frugal', tau_lst)\n",
    "        \n",
    "#         ax_name = 'Tested on '+distro+' distritbution with '+str(datasize)+' data points'\n",
    "#         fig, lgd = plot_procs(ax_name, tau_vals, q_true, frugal_proc, sgd_proc)\n",
    "#         title = fig.suptitle('Quantile Estimation: Frugal vs SGD')\n",
    "\n",
    "#         fd = \"Experiment_results/Frugal_SGD/\"\n",
    "#         plt.savefig(fd+distro+'.png', bbox_extra_artists=(lgd, title), bbox_inches='tight')\n",
    "        \n",
    "        \n",
    "# sgd_frugal_compare(distros, 1000)"
   ]
  },
  {
   "cell_type": "markdown",
   "metadata": {},
   "source": [
    "<!---\n",
    "### Always have $q_k = x$ for each x in the data stream\n",
    "\n",
    "When $x - q_k > 0$, we have $l(q_k) = \\tau(x-q_k)$:\n",
    "\\begin{align}\n",
    "q_{k+1} & = q_k - \\frac{l(q_k)}{l'(q_k)} \\\\\n",
    "        & = q_k - \\frac{\\tau(x-q_k)}{-\\tau} \\\\\n",
    "        & = q_k - (- x + q_k) \\\\\n",
    "        & = x\n",
    "\\end{align}\n",
    "\n",
    "Same happens when $x - q_k < 0$\n",
    "-->"
   ]
  },
  {
   "cell_type": "code",
   "execution_count": 14,
   "metadata": {},
   "outputs": [
    {
     "name": "stdout",
     "output_type": "stream",
     "text": [
      "Experiment_results/P2/data_sequence/shuffle_\n"
     ]
    }
   ],
   "source": [
    "from Plot import plot_charts\n",
    "\n",
    "plot_charts(\"Experiment_results/P2/data_sequence\")"
   ]
  },
  {
   "cell_type": "code",
   "execution_count": null,
   "metadata": {},
   "outputs": [],
   "source": []
  }
 ],
 "metadata": {
  "kernelspec": {
   "display_name": "Python 3",
   "language": "python",
   "name": "python3"
  },
  "language_info": {
   "codemirror_mode": {
    "name": "ipython",
    "version": 3
   },
   "file_extension": ".py",
   "mimetype": "text/x-python",
   "name": "python",
   "nbconvert_exporter": "python",
   "pygments_lexer": "ipython3",
   "version": "3.6.4"
  }
 },
 "nbformat": 4,
 "nbformat_minor": 2
}
