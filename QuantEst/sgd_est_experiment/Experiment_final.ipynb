{
 "cells": [
  {
   "cell_type": "markdown",
   "metadata": {},
   "source": [
    "### New file"
   ]
  },
  {
   "cell_type": "code",
   "execution_count": 3,
   "metadata": {},
   "outputs": [],
   "source": [
    "%matplotlib inline\n",
    "\n",
    "import io, os, sys, types\n",
    "from IPython import get_ipython\n",
    "from nbformat import read\n",
    "from IPython.core.interactiveshell import InteractiveShell\n",
    "\n",
    "import math\n",
    "import numpy as np\n",
    "import matplotlib.pyplot as plt\n",
    "import matplotlib.colors as colors\n",
    "import matplotlib.cm as cmx\n",
    "import os\n",
    "import matplotlib.colors as mc\n",
    "import colorsys"
   ]
  },
  {
   "cell_type": "code",
   "execution_count": 4,
   "metadata": {},
   "outputs": [],
   "source": [
    "distros = ['mix', 'gau 1', 'gau 2', 'exp']\n",
    "stepsizes = ['const', '2/sqrt_k', '0.002/sqrt_k']\n",
    "\n",
    "tau_vals = [0.1, 0.3, 0.5, 0.9, 0.99]\n",
    "N_g = 12 # N_generation\n",
    "N_s = 10 # N_shuffle\n",
    "\n",
    "N_q = len(tau_vals)\n",
    "\n",
    "c_Norm = colors.Normalize(vmin=0, vmax=1)\n",
    "scalarMap = cmx.ScalarMappable(norm=c_Norm, cmap=plt.get_cmap('cool'))"
   ]
  },
  {
   "cell_type": "code",
   "execution_count": 5,
   "metadata": {},
   "outputs": [],
   "source": [
    "def get_settings(distro_lst, datasize_lst, stepsize_lst):\n",
    "    if (len(distro_lst) > 1) and (len(datasize_lst)==1) and (len(stepsize_lst)==1):\n",
    "        setting_lst = [[i, datasize_lst[0], stepsize_lst[0]] for i in distro_lst]\n",
    "    elif (len(distro_lst)==1) and (len(datasize_lst) > 1) and (len(stepsize_lst)==1):\n",
    "        setting_lst = [[distro_lst[0], i, stepsize_lst[0]] for i in datasize_lst]\n",
    "    elif (len(distro_lst)==1) and (len(datasize_lst)==1) and (len(stepsize_lst) > 1):\n",
    "        setting_lst = [[distro_lst[0], datasize_lst[0], i] for i in stepsize_lst]\n",
    "    else: raise Exception(\"Setting inputs are wrong!\")\n",
    "    return setting_lst, len(stepsize_lst)>1"
   ]
  },
  {
   "cell_type": "code",
   "execution_count": 6,
   "metadata": {},
   "outputs": [],
   "source": [
    "def get_one_dt(distro, datasize):\n",
    "#     return np.ones(size)\n",
    "    if distro == 'gau 1':\n",
    "        return np.random.normal(2, 18, datasize)\n",
    "    elif distro == 'gau 2':\n",
    "        return np.random.normal(0, 0.001, datasize)\n",
    "    elif distro == 'mix':\n",
    "        # mean: -1.3\n",
    "        # std: 30.779035604224564\n",
    "        # var: 947.3490327261234\n",
    "        sizes = np.array([0.3, 0.2, 0.1, 0.15, 0.25]) * datasize\n",
    "        d1 = np.random.normal(2, 7, int(sizes[0]))\n",
    "        d2 = np.random.normal(0, 0.7, int(sizes[1]))\n",
    "        d3 = np.random.normal(36, 26, int(sizes[2]))\n",
    "        d4 = np.random.normal(5, 77, int(sizes[3]))\n",
    "        d5 = np.random.normal(-77, 7, int(sizes[4]))\n",
    "        mix_lst = np.append(d1, np.append(d2, np.append(d3, np.append(d4, d5))))\n",
    "        np.random.shuffle(mix_lst)\n",
    "        return mix_lst\n",
    "    elif distro == 'exp':\n",
    "        return np.random.exponential(scale=1, size=datasize)\n",
    "    else: raise Exception(\"distribution doesn't work!\")"
   ]
  },
  {
   "cell_type": "code",
   "execution_count": 8,
   "metadata": {},
   "outputs": [],
   "source": [
    "def get_dataset(distro, datasize, g_test):\n",
    "    if g_test:\n",
    "        dataset = np.zeros((N_g, datasize))\n",
    "        for i in range(N_g):\n",
    "            dataset[i] = get_one_dt(distro, datasize)\n",
    "    else:\n",
    "        dataset = get_one_dt(distro, datasize)\n",
    "    return dataset"
   ]
  },
  {
   "cell_type": "code",
   "execution_count": 13,
   "metadata": {},
   "outputs": [
    {
     "data": {
      "text/plain": [
       "array([0.50132702, 0.70339174, 0.89988036])"
      ]
     },
     "execution_count": 13,
     "metadata": {},
     "output_type": "execute_result"
    }
   ],
   "source": [
    "def get_q_batch(dataset, tau_lst):\n",
    "    if len(dataset.shape) != 1:\n",
    "        raise Exception('Dataset for q_batch calculation of wrong shape: ' + str(dataset.shape))\n",
    "        \n",
    "    q_batch = np.zeros(len(tau_lst))\n",
    "    for i, tau in enumerate(tau_lst):\n",
    "        q_batch[i] = np.percentile(dataset, tau*100)\n",
    "    return q_batch\n",
    "\n",
    "get_q_batch(np.random.uniform(0,1, 10000), [0.5, 0.7, 0.9])"
   ]
  },
  {
   "cell_type": "code",
   "execution_count": 21,
   "metadata": {},
   "outputs": [],
   "source": [
    "def get_q_batches(dataset, tau_lst):\n",
    "    # g_test = False\n",
    "    if len(dataset.shape) == 1: \n",
    "        return get_q_batch(dataset, tau_lst)\n",
    "    else:\n",
    "        q_batches = np.zeros((dataset.shape[0], len(tau_lst)))\n",
    "        for i in range(q_batches.shape[0]):\n",
    "            q_batches[i] = get_q_batch(dataset[i], tau_lst)\n",
    "    return q_batches\n",
    "\n",
    " "
   ]
  },
  {
   "cell_type": "code",
   "execution_count": 22,
   "metadata": {},
   "outputs": [],
   "source": [
    "def quantile_sgd_compare(distro_lst, datasize_lst, stepsize_lst, \n",
    "                         g_test=False, s_test=False, tau_lst=tau_vals):\n",
    "    # generate different settings\n",
    "    setting_lst, is_stepsize = get_settings(distro_lst, datasize_lst, stepsize_lst)\n",
    "    \n",
    "    # if only stepsize changes, generate dataset and q_batches\n",
    "    dataset, q_batches = 0, 0\n",
    "    if is_stepsize:\n",
    "        dataset = get_dataset(distro_lst[0], datasize_lst[0], g_test)\n",
    "        q_batches = get_q_batches(dataset, tau_lst)\n",
    "        \n",
    "#     # for each setting = [distro, datasize, stepsize]\n",
    "#     for idx, setting in enumerate(setting_lst):\n",
    "#         # generate all the data\n",
    "#         distro, datasize, stepsize = setting[idx][0], setting[idx][1], setting[idx][2]\n",
    "#         if not is_stepsize:\n",
    "#             dataset = get_dataset(distro, datasize, g_test, s_test)\n",
    "#             q_batches = get_q_batches(dataset, tau_lst, g_test)\n",
    "#         q_sgd_res, q_sgd_proc = get_q_sgd(dataset, stepsize, s_test, tau_lst)\n",
    "        \n",
    "#         # generate charts and tables?\n",
    "#         name = get_name(distro, datasize, stepsize, tau_list, g_test, s_test)\n",
    "#         charts = get_charts(tau_lst, q_batches, q_sgd_res, q_sgd_proc, name)\n",
    "# #         tables = get_tables(tau_lst, q_batches, q_sgd_res, q_sgd_proc, name)"
   ]
  },
  {
   "cell_type": "markdown",
   "metadata": {},
   "source": [
    "<!---\n",
    "### Always have $q_k = x$ for each x in the data stream\n",
    "\n",
    "When $x - q_k > 0$, we have $l(q_k) = \\tau(x-q_k)$:\n",
    "\\begin{align}\n",
    "q_{k+1} & = q_k - \\frac{l(q_k)}{l'(q_k)} \\\\\n",
    "        & = q_k - \\frac{\\tau(x-q_k)}{-\\tau} \\\\\n",
    "        & = q_k - (- x + q_k) \\\\\n",
    "        & = x\n",
    "\\end{align}\n",
    "\n",
    "Same happens when $x - q_k < 0$\n",
    "-->"
   ]
  },
  {
   "cell_type": "code",
   "execution_count": 24,
   "metadata": {},
   "outputs": [
    {
     "name": "stdout",
     "output_type": "stream",
     "text": [
      "g_test True\n"
     ]
    }
   ],
   "source": [
    "quantile_sgd_compare(distro_lst=['gau 1'], datasize_lst=[100], stepsize_lst=['const', 'others'], g_test=True)"
   ]
  },
  {
   "cell_type": "code",
   "execution_count": null,
   "metadata": {},
   "outputs": [],
   "source": []
  }
 ],
 "metadata": {
  "kernelspec": {
   "display_name": "Python 3",
   "language": "python",
   "name": "python3"
  }
 },
 "nbformat": 4,
 "nbformat_minor": 2
}
