{
 "cells": [
  {
   "cell_type": "code",
   "execution_count": 1,
   "metadata": {},
   "outputs": [
    {
     "name": "stdout",
     "output_type": "stream",
     "text": [
      "importing Jupyter notebook from Experiment_final.ipynb\n"
     ]
    }
   ],
   "source": [
    "%matplotlib inline\n",
    "\n",
    "\n",
    "import import_ipynb\n",
    "from Experiment_final import get_settings, get_one_dt, get_dataset, get_q_batch, get_q_batches\n",
    "import numpy as np\n",
    "import matplotlib.pyplot as plt\n"
   ]
  },
  {
   "cell_type": "code",
   "execution_count": 2,
   "metadata": {},
   "outputs": [
    {
     "data": {
      "text/plain": [
       "True"
      ]
     },
     "execution_count": 2,
     "metadata": {},
     "output_type": "execute_result"
    }
   ],
   "source": [
    "def test_get_settings():\n",
    "    is_val = True\n",
    "    \n",
    "    try:\n",
    "        get_settings(1, 2, 3)\n",
    "    except TypeError: is_val = is_val\n",
    "    \n",
    "    try:\n",
    "        get_settings([], [2], [3])\n",
    "    except Exception: is_val = is_val\n",
    "        \n",
    "    try:\n",
    "        get_settings([1], [1], [1])\n",
    "    except Exception: is_val = is_val\n",
    "        \n",
    "    settings, is_step = get_settings([1,2,3,4,5], [6], [7])\n",
    "    is_val = is_val and (len(settings)==5) and not(is_step)\n",
    "    \n",
    "    settings, is_step = get_settings([6],[1,2,3,4,5], [7])\n",
    "    is_val = is_val and (len(settings)==5) and not(is_step)\n",
    "    \n",
    "    settings, is_step = get_settings([6], [7], [1,2,3,4,5])\n",
    "    is_val = is_val and (len(settings)==5) and (is_step)\n",
    "    \n",
    "    return is_val\n",
    "    \n",
    "test_get_settings()"
   ]
  },
  {
   "cell_type": "code",
   "execution_count": 3,
   "metadata": {},
   "outputs": [],
   "source": [
    "def test_get_one_dt():\n",
    "    print (np.mean(get_one_dt('mix',   10000)))\n",
    "    print (np.mean(get_one_dt('gau 1', 10000)))\n",
    "    print (np.std (get_one_dt('gau 1', 10000)))\n",
    "    print (np.mean(get_one_dt('gau 2', 10000)))\n",
    "    print (np.std (get_one_dt('gau 2', 10000)))\n",
    "    print (np.mean(get_one_dt('exp',   10000)))\n",
    "    print (np.std (get_one_dt('exp',   10000)))\n",
    "    \n",
    "def test_get_dataset():\n",
    "    distro = 'mix'\n",
    "    datasize = 1000\n",
    "\n",
    "    data_shuffle = get_dataset(distro, datasize, False)\n",
    "    data_gen = get_dataset(distro, datasize, True)\n",
    "\n",
    "    fig, (ax1, ax2, ax3) = plt.subplots(3,1,sharex=True)\n",
    "    fig.set_size_inches(17, 12)\n",
    "    num_bins = 100\n",
    "    ax1.hist([dt for dt in data_shuffle], num_bins, alpha = 0.5, label=[str(i) for i in range(20)])\n",
    "    ax1.legend()\n",
    "    ax2.hist([dt for dt in data_gen[:3]], num_bins, alpha = 0.5, label=[str(i) for i in range(20)])\n",
    "    ax2.legend()\n",
    "    sizes = np.array([0.3, 0.2, 0.1, 0.15, 0.25]) * datasize\n",
    "    ax3.hist(np.random.normal(2, 7.0, int(sizes[0])), 20, alpha = 0.5, label='0')\n",
    "    ax3.hist(np.random.normal(0, 0.7, int(sizes[1])), 5, alpha = 0.5, label='1')\n",
    "    ax3.hist(np.random.normal(36, 26, int(sizes[2])), 20, alpha = 0.5, label='2')\n",
    "    ax3.hist(np.random.normal(5, 77, int(sizes[3])), 100, alpha = 0.5, label='3')\n",
    "    ax3.hist(np.random.normal(-77, 7, int(sizes[4])), 20, alpha = 0.5, label='4')\n",
    "    ax3.legend()\n",
    "    plt.show()\n",
    "\n",
    "    fig, (ax1, ax2, ax3) = plt.subplots(3,1)\n",
    "    fig.set_size_inches(17, 12)\n",
    "    ax1.hist(get_dataset('exp',   1000, False), num_bins, alpha = 0.5, label='exp')\n",
    "    ax2.hist([dt for dt in (get_dataset('gau 1', 10000, True))[:3]], num_bins, alpha = 0.5, label='gau 1')\n",
    "    ax3.hist(get_dataset('gau 2', 100000, False), num_bins, alpha = 0.5, label='gau 2')\n",
    "    plt.show()\n",
    "    \n",
    "    distros = ['mix', 'gau 1', 'gau 2', 'exp']\n",
    "    fig, ax = plt.subplots(1,1)\n",
    "    for dis in distros:\n",
    "        ax.plot([np.mean(gen) for gen in get_dataset(dis, 1000, True)], label=dis)\n",
    "        ax.legend()\n",
    "    plt.show()\n",
    "    \n",
    "    \n",
    "# test_get_dataset()  "
   ]
  },
  {
   "cell_type": "code",
   "execution_count": 7,
   "metadata": {},
   "outputs": [
    {
     "data": {
      "text/plain": [
       "True"
      ]
     },
     "execution_count": 7,
     "metadata": {},
     "output_type": "execute_result"
    }
   ],
   "source": [
    "tau_lst = np.random.uniform(0,1,5)\n",
    "\n",
    "def test_q_batch():\n",
    "    arr = get_q_batch(np.random.uniform(0,1, 10000), tau_lst)\n",
    "    for i, tau in enumerate(tau_lst):\n",
    "        if abs( arr[i] - tau) > 0.05:\n",
    "            raise Exception('get_q_batch is wrong!')\n",
    "    return True\n",
    "\n",
    "def test_q_batches():\n",
    "    test_q_batch()\n",
    "    \n",
    "    arr1 = get_q_batches(np.random.uniform(0,1,3456), tau_lst)\n",
    "    for i, tau in enumerate(tau_lst):\n",
    "            if abs(arr1[i] - tau) > 0.05:\n",
    "                raise Exception('get_q_batch is wrong!')\n",
    "    \n",
    "    arr2 = get_q_batches(np.random.uniform(0, 1, (11, 1000)), tau_lst)\n",
    "    for i, tau in enumerate(tau_lst):\n",
    "        for arr in arr2:\n",
    "            if abs(arr[i] - tau) > 0.05:\n",
    "                raise Exception('get_q_batch is wrong!')\n",
    "    return True\n",
    "test_q_batches()"
   ]
  },
  {
   "cell_type": "code",
   "execution_count": null,
   "metadata": {},
   "outputs": [],
   "source": []
  },
  {
   "cell_type": "code",
   "execution_count": null,
   "metadata": {},
   "outputs": [],
   "source": []
  },
  {
   "cell_type": "code",
   "execution_count": null,
   "metadata": {},
   "outputs": [],
   "source": []
  },
  {
   "cell_type": "code",
   "execution_count": null,
   "metadata": {},
   "outputs": [],
   "source": []
  },
  {
   "cell_type": "code",
   "execution_count": null,
   "metadata": {},
   "outputs": [],
   "source": []
  }
 ],
 "metadata": {
  "kernelspec": {
   "display_name": "Python 3",
   "language": "python",
   "name": "python3"
  },
  "language_info": {
   "codemirror_mode": {
    "name": "ipython",
    "version": 3
   },
   "file_extension": ".py",
   "mimetype": "text/x-python",
   "name": "python",
   "nbconvert_exporter": "python",
   "pygments_lexer": "ipython3",
   "version": "3.6.4"
  }
 },
 "nbformat": 4,
 "nbformat_minor": 2
}
