{
 "cells": [
  {
   "cell_type": "code",
   "execution_count": 26,
   "metadata": {},
   "outputs": [],
   "source": [
    "%matplotlib inline\n",
    "\n",
    "import numpy as np\n",
    "import matplotlib.pyplot as plt"
   ]
  },
  {
   "cell_type": "markdown",
   "metadata": {},
   "source": [
    "#### Key Idea\n",
    "It changes the step size according to some previous updates\n",
    "\n",
    "Stepsize * 2 when too small, and stepsize/2 when too big\n",
    "\n",
    "Works only for **constant** stepsize now"
   ]
  },
  {
   "cell_type": "code",
   "execution_count": 49,
   "metadata": {},
   "outputs": [],
   "source": [
    "# vectorize sgd & frugal\n",
    "def get_procs(dataset, step_size, tau_lst):\n",
    "    update_size = 500\n",
    "    proc = np.zeros((dataset.shape[0], len(tau_lst)))\n",
    "    q_pre, q_arr = np.zeros(len(tau_lst)), np.zeros(len(tau_lst))\n",
    "    alpha_adaptation = np.ones(len(tau_lst))\n",
    "\n",
    "    for k, x in enumerate(dataset):          \n",
    "        if k % update_size == 0 and k >0:\n",
    "#             print (k,q_arr-q_pre)\n",
    "            update_var = update_stepsize(alpha_arr, q_arr-q_pre, step_size, update_size)\n",
    "            print ('update_var', update_var)\n",
    "            alpha_adaptation = alpha_adaptation * update_var\n",
    "#             print ('alpha_adaptation', alpha_adaptation)\n",
    "            q_pre = [i for i in q_arr]\n",
    "        if step_size != 'frugal': \n",
    "            alpha_arr = set_stepsize(k+1, step_size, len(tau_lst))* alpha_adaptation\n",
    "#             if k % update_size == 0: print('alpha_arr', alpha_arr)\n",
    "        for i, q in enumerate(q_arr):\n",
    "            tau = tau_lst[i]\n",
    "            alpha = alpha_arr[i]\n",
    "            if step_size != 'frugal':\n",
    "                q = sgd(q, x, tau, alpha)\n",
    "            else: \n",
    "                q = frugal(q, x, tau)\n",
    "            q_arr[i] = q\n",
    "        proc[k] = q_arr\n",
    "#     print (alpha_arr)\n",
    "    return proc.T\n",
    "   \n",
    "def set_stepsize(idx, step_size, len_arr):\n",
    "    return np.ones(len_arr)*10\n",
    "\n",
    "\n",
    "def update_stepsize(alpha_arr, diff, step_size, update_size):\n",
    "    update_var = np.ones(len(diff))\n",
    "    for i, a in enumerate(alpha_arr):\n",
    "        d = diff[i]\n",
    "        if a * update_size * 0.25 < abs(d): update_var[i] = 2\n",
    "        elif a * update_size * 0.02 > abs(d): update_var[i] = 1/2\n",
    "#     print ('step_size', update_var)\n",
    "    return update_var\n",
    "    \n",
    "def sgd(q, x, tau, alpha):\n",
    "    if x > q:\n",
    "        q = q + alpha*tau\n",
    "    else:\n",
    "        q = q - alpha*(1-tau)  \n",
    "    return q\n",
    "    \n",
    "def frugal(q, x, tau):\n",
    "    rdn = np.random.uniform()\n",
    "    if x > q and rdn > 1-tau:\n",
    "        q += 1\n",
    "    elif x < q and rdn > tau:\n",
    "        q -= 1\n",
    "    return q\n",
    "\n"
   ]
  },
  {
   "cell_type": "code",
   "execution_count": 28,
   "metadata": {},
   "outputs": [
    {
     "data": {
      "text/plain": [
       "array([-74370.84816627, -44645.79916678,  -9814.85680144,   4895.09414453,\n",
       "        67351.23647763])"
      ]
     },
     "execution_count": 28,
     "metadata": {},
     "output_type": "execute_result"
    },
    {
     "data": {
      "image/png": "[encoded data removed]",
      "text/plain": [
       "<matplotlib.figure.Figure at 0x1711f5438>"
      ]
     },
     "metadata": {},
     "output_type": "display_data"
    }
   ],
   "source": [
    "data_size = 100000\n",
    "dt = np.random.normal(10000, 50000, data_size)\n",
    "proc = get_procs(dt, 0, [0.01, 0.1, 0.3, 0.5, 0.9]) \n",
    "plt.plot(proc.T)\n",
    "proc[:,-1]"
   ]
  },
  {
   "cell_type": "code",
   "execution_count": 50,
   "metadata": {},
   "outputs": [
    {
     "name": "stdout",
     "output_type": "stream",
     "text": [
      "update_var [0.5 0.5 0.5 0.5 0.5]\n",
      "update_var [0.5 0.5 0.5 0.5 0.5]\n",
      "update_var [0.5 0.5 0.5 0.5 0.5]\n",
      "update_var [0.5 0.5 0.5 0.5 0.5]\n",
      "update_var [0.5 0.5 0.5 0.5 0.5]\n",
      "update_var [0.5 0.5 0.5 0.5 0.5]\n",
      "update_var [0.5 0.5 0.5 0.5 0.5]\n",
      "update_var [0.5 0.5 0.5 0.5 0.5]\n",
      "update_var [0.5 0.5 0.5 0.5 0.5]\n",
      "update_var [0.5 0.5 0.5 0.5 0.5]\n",
      "update_var [0.5 0.5 0.5 0.5 0.5]\n",
      "update_var [0.5 0.5 0.5 0.5 0.5]\n",
      "update_var [0.5 0.5 0.5 0.5 0.5]\n",
      "update_var [0.5 0.5 0.5 0.5 0.5]\n",
      "update_var [0.5 0.5 0.5 0.5 0.5]\n",
      "update_var [0.5 0.5 0.5 0.5 0.5]\n",
      "update_var [0.5 0.5 0.5 0.5 0.5]\n",
      "update_var [0.5 0.5 0.5 0.5 0.5]\n",
      "update_var [0.5 0.5 0.5 0.5 0.5]\n",
      "update_var [0.5 0.5 0.5 0.5 0.5]\n",
      "update_var [0.5 0.5 0.5 0.5 0.5]\n",
      "update_var [0.5 0.5 0.5 0.5 0.5]\n",
      "update_var [0.5 0.5 0.5 0.5 0.5]\n",
      "update_var [0.5 0.5 0.5 0.5 0.5]\n",
      "update_var [0.5 0.5 0.5 0.5 0.5]\n",
      "update_var [0.5 0.5 0.5 1.  0.5]\n",
      "update_var [0.5 0.5 0.5 1.  0.5]\n",
      "update_var [0.5 0.5 1.  0.5 0.5]\n",
      "update_var [0.5 0.5 1.  1.  0.5]\n",
      "update_var [0.5 0.5 0.5 1.  0.5]\n",
      "update_var [0.5 0.5 1.  0.5 0.5]\n",
      "update_var [0.5 0.5 0.5 1.  0.5]\n",
      "update_var [0.5 0.5 0.5 1.  0.5]\n",
      "update_var [0.5 0.5 0.5 1.  0.5]\n",
      "update_var [0.5 1.  1.  0.5 0.5]\n",
      "update_var [0.5 0.5 0.5 0.5 0.5]\n",
      "update_var [0.5 0.5 1.  1.  0.5]\n",
      "update_var [0.5 0.5 0.5 1.  0.5]\n",
      "update_var [0.5 0.5 1.  1.  0.5]\n",
      "update_var [0.5 0.5 1.  1.  0.5]\n",
      "update_var [0.5 0.5 1.  1.  0.5]\n",
      "update_var [0.5 0.5 1.  1.  0.5]\n",
      "update_var [0.5 0.5 0.5 0.5 0.5]\n",
      "update_var [0.5 0.5 0.5 1.  0.5]\n",
      "update_var [0.5 0.5 1.  1.  0.5]\n",
      "update_var [0.5 0.5 0.5 1.  0.5]\n",
      "update_var [0.5 0.5 1.  1.  1. ]\n",
      "update_var [0.5 0.5 1.  1.  1. ]\n",
      "update_var [0.5 0.5 0.5 0.5 0.5]\n",
      "update_var [0.5 0.5 0.5 0.5 0.5]\n",
      "update_var [0.5 1.  0.5 1.  0.5]\n",
      "update_var [0.5 0.5 1.  1.  1. ]\n",
      "update_var [0.5 0.5 0.5 0.5 0.5]\n",
      "update_var [0.5 0.5 0.5 1.  1. ]\n",
      "update_var [0.5 0.5 0.5 0.5 0.5]\n",
      "update_var [0.5 0.5 0.5 0.5 0.5]\n",
      "update_var [0.5 0.5 0.5 1.  0.5]\n",
      "update_var [0.5 0.5 0.5 1.  0.5]\n",
      "update_var [0.5 0.5 1.  1.  0.5]\n",
      "update_var [0.5 0.5 0.5 1.  0.5]\n",
      "update_var [0.5 0.5 1.  0.5 0.5]\n",
      "update_var [0.5 0.5 1.  1.  0.5]\n",
      "update_var [0.5 0.5 0.5 0.5 0.5]\n",
      "update_var [0.5 1.  0.5 0.5 0.5]\n",
      "update_var [0.5 0.5 0.5 0.5 1. ]\n",
      "update_var [0.5 0.5 0.5 1.  0.5]\n",
      "update_var [0.5 0.5 0.5 1.  0.5]\n",
      "update_var [0.5 0.5 0.5 0.5 0.5]\n",
      "update_var [0.5 0.5 0.5 0.5 0.5]\n",
      "update_var [0.5 0.5 0.5 0.5 0.5]\n",
      "update_var [0.5 0.5 0.5 0.5 0.5]\n",
      "update_var [0.5 0.5 0.5 0.5 0.5]\n",
      "update_var [0.5 0.5 1.  0.5 1. ]\n",
      "update_var [0.5 1.  0.5 0.5 1. ]\n",
      "update_var [0.5 1.  0.5 0.5 1. ]\n",
      "update_var [0.5 1.  0.5 1.  1. ]\n",
      "update_var [1. 1. 1. 1. 1.]\n",
      "update_var [0.5 1.  1.  1.  1. ]\n",
      "update_var [0.5 1.  1.  1.  1. ]\n"
     ]
    },
    {
     "data": {
      "text/plain": [
       "array([1.06743756e-06, 9.79510433e-06, 3.02268582e-05, 4.94519729e-05,\n",
       "       9.01143680e-05])"
      ]
     },
     "execution_count": 50,
     "metadata": {},
     "output_type": "execute_result"
    },
    {
     "data": {
      "image/png": "[encoded data removed]",
      "text/plain": [
       "<matplotlib.figure.Figure at 0x1798945c0>"
      ]
     },
     "metadata": {},
     "output_type": "display_data"
    }
   ],
   "source": [
    "data_size = 40000\n",
    "dt = np.random.uniform(0, 0.0001, data_size)\n",
    "proc = get_procs(dt, 0, [0.01, 0.1, 0.3, 0.5, 0.9]) \n",
    "plt.plot(proc.T)\n",
    "proc[2:4,:10]\n",
    "proc[:, -1]"
   ]
  },
  {
   "cell_type": "code",
   "execution_count": null,
   "metadata": {},
   "outputs": [],
   "source": [
    "def get_procs(dataset, step_size, tau_lst):\n",
    "    if len(dataset.shape)!= 1: \n",
    "        raise Exception('Dataset for get_procs() of wrong shape:' + str(dataset.shape)+ ', should be 1d array')\n",
    "        \n",
    "    procs = np.zeros((len(tau_lst), dataset.shape[0]))\n",
    "    for idx, tau in enumerate(tau_lst):\n",
    "        q = 0\n",
    "        q_sgd_proc = procs[idx]\n",
    "        # change stepsize\n",
    "        if step_size != 'frugal':\n",
    "            for k, x in enumerate(dataset):\n",
    "#                 if idx==1: print (k, ':', q)\n",
    "                alpha = set_stepsize(k+1, step_size)\n",
    "                if x > q:\n",
    "                    q = q + alpha*tau\n",
    "                else:\n",
    "                    q = q - alpha*(1-tau)\n",
    "                q_sgd_proc[k] = q\n",
    "        \n",
    "        # frugal\n",
    "        else:\n",
    "            rdn_lst = np.random.uniform(0,1, dataset.shape[0])\n",
    "            for k, x in enumerate(dataset):\n",
    "                rdn = rdn_lst[k]\n",
    "                if x > q and rdn > 1-tau:\n",
    "                    q += 1\n",
    "                elif x < q and rdn > tau:\n",
    "                    q -= 1\n",
    "                q_sgd_proc[k] = q\n",
    "    return procs"
   ]
  },
  {
   "cell_type": "code",
   "execution_count": null,
   "metadata": {},
   "outputs": [],
   "source": []
  }
 ],
 "metadata": {
  "kernelspec": {
   "display_name": "Python 3",
   "language": "python",
   "name": "python3"
  },
  "language_info": {
   "codemirror_mode": {
    "name": "ipython",
    "version": 3
   },
   "file_extension": ".py",
   "mimetype": "text/x-python",
   "name": "python",
   "nbconvert_exporter": "python",
   "pygments_lexer": "ipython3",
   "version": "3.6.4"
  }
 },
 "nbformat": 4,
 "nbformat_minor": 2
}
