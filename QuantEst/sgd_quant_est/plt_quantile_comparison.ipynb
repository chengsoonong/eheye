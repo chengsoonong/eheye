{
 "cells": [
  {
   "cell_type": "code",
   "execution_count": 1,
   "metadata": {},
   "outputs": [],
   "source": [
    "%matplotlib inline"
   ]
  },
  {
   "cell_type": "code",
   "execution_count": 9,
   "metadata": {},
   "outputs": [],
   "source": [
    "import matplotlib.pyplot as plt\n",
    "import matplotlib as mpl\n",
    "import matplotlib.colors as colors\n",
    "import matplotlib.cm as cmx\n",
    "import numpy as np"
   ]
  },
  {
   "cell_type": "code",
   "execution_count": 10,
   "metadata": {},
   "outputs": [
    {
     "data": {
      "text/plain": [
       "array([[ 34.91567312,  39.54396675,  40.97603758,  42.50653306,\n",
       "         39.61639467,  40.21547644,  38.90662515,  39.32204441,\n",
       "         41.74963086,  41.151529  ,  43.34524857,  38.55947317,\n",
       "         39.66301054,  40.17966514],\n",
       "       [-38.23123833, -37.71464305, -36.19460087, -38.84068848,\n",
       "        -36.98953606, -36.59524624, -36.83944062, -40.83243183,\n",
       "        -39.74379482, -37.2817071 , -38.2924016 , -36.86650398,\n",
       "        -35.04448991, -36.0370665 ],\n",
       "       [ 10.80704276,   9.53439256,  11.52180429,  13.06197995,\n",
       "         13.07370963,  12.81894533,  12.64687333,   8.7396911 ,\n",
       "          8.5241926 ,  12.46301935,   4.73869092,   9.35624978,\n",
       "         10.15127028,  10.20966171],\n",
       "       [-18.5530093 , -22.16396346, -24.67297023, -22.39028864,\n",
       "        -18.13693893, -24.33570219, -22.90230161, -21.8208639 ,\n",
       "        -21.74499427, -24.21026599, -19.17459128, -22.87638189,\n",
       "        -19.96322721, -22.76681103],\n",
       "       [-12.12981225, -10.06635572,  -9.70405143, -13.4842777 ,\n",
       "        -11.94254849,  -8.61870544, -10.66290654,  -7.92967866,\n",
       "        -10.05081797,  -9.56194402,  -9.0076273 ,  -7.62749454,\n",
       "        -12.68814022, -11.96549589]])"
      ]
     },
     "execution_count": 10,
     "metadata": {},
     "output_type": "execute_result"
    }
   ],
   "source": [
    "N_shuffle = 14\n",
    "N_generatigton = 10\n",
    "q_vals = [0.1, 0.3, 0.5, 0.7, 0.9]\n",
    "N_q = len(q_vals)\n",
    "\n",
    "q_batches = [40, -37, 9.9, -22, -9.8]\n",
    "q_sgds = np.zeros((N_q,N_shuffle))\n",
    "for i in range(N_q):\n",
    "    q_sgds[i] = np.random.normal( q_batches[i], 2, N_shuffle)\n",
    "q_sgds"
   ]
  },
  {
   "cell_type": "code",
   "execution_count": 11,
   "metadata": {},
   "outputs": [],
   "source": [
    "c_Norm = colors.Normalize(vmin=0, vmax=1)\n",
    "scalarMap = cmx.ScalarMappable(norm=c_Norm, cmap=plt.get_cmap('gist_rainbow'))\n",
    "styles = ['-', '--']\n",
    "names = ['-q batch', '-q sgd']"
   ]
  },
  {
   "cell_type": "code",
   "execution_count": 15,
   "metadata": {},
   "outputs": [],
   "source": [
    "def plot_quantile_shuffles(q_vals, q_batches, q_sgds):\n",
    "\n",
    "    fig = plt.figure(figsize=(16,4))\n",
    "    ax_batch = fig.add_subplot(211)\n",
    "    ax_sgd = fig.add_subplot(212, sharex = ax_batch)\n",
    "    fig.suptitle('Batch quantile VS SGD quantile')\n",
    "    \n",
    "    for idx in range(N_q):\n",
    "        colorVal = scalarMap.to_rgba(q_vals[idx])\n",
    "        qb = q_batches[idx]\n",
    "\n",
    "        ax_batch.plot([qb,qb], [0,1], styles[0], label= str(q_vals[idx])+names[0], color=colorVal)\n",
    "\n",
    "        for i in range(q_sgds.shape[0]):\n",
    "            qs = q_sgds[idx][i]\n",
    "            if (i==0): \n",
    "                ax_sgd.plot([qs,qs], [0,1], styles[1], label=' '+str(+q_vals[idx])+names[1]+'  ', color=colorVal)\n",
    "            else: \n",
    "                ax_sgd.plot([qs,qs], [0,1], styles[1], color=colorVal)\n",
    "\n",
    "    #set\n",
    "    ax_batch.set_xlabel('batch value')\n",
    "    ax_batch.xaxis.set_label_coords(-0.05, -0.05)\n",
    "    ax_batch.set_ylim([-0.1,1.1])\n",
    "    ax_batch.set_yticks([])\n",
    "\n",
    "    plt.locator_params(axis='x', nbins=10)\n",
    "\n",
    "    ax_sgd.set_xlabel('sgd value')\n",
    "    ax_sgd.xaxis.set_label_coords(-0.05, -0.05)\n",
    "\n",
    "    # set position of legend\n",
    "    ax_batch.legend(loc='lower center', bbox_to_anchor=(0.5, -1.8),\n",
    "            frameon=False, ncol=len(q_vals))\n",
    "    ax_sgd.legend(loc='lower center', bbox_to_anchor=(0.5, -0.8),\n",
    "        frameon=False, ncol=len(q_vals))\n",
    "        \n",
    "    return fig\n",
    "                    \n",
    "# fig = plot_quantile_shuffles(q_vals, q_batches, q_sgds)\n"
   ]
  },
  {
   "cell_type": "code",
   "execution_count": 16,
   "metadata": {},
   "outputs": [],
   "source": [
    "def generate_mtx():\n",
    "    mtx = np.zeros((N_q, N_generation, N_shuffle))\n",
    "    for q_idx in range(N_q):\n",
    "        # each generation:\n",
    "        mtx_q = mtx[q_idx]\n",
    "        for gen_idx in range(N_generation):\n",
    "            # each shuffle:\n",
    "            mtx_q[gen_idx] = np.random.normal(q_batches[q_idx], 5, N_shuffle)\n",
    "    return mtx\n",
    "\n",
    "q_batches_lst = np.zeros((N_q,N_generation))\n",
    "for i in range(N_q):\n",
    "    q_batches_lst[i] = np.random.normal(q_batches[i], 2, N_generation)\n",
    "\n",
    "q_sgds_lst = generate_mtx()"
   ]
  },
  {
   "cell_type": "code",
   "execution_count": 17,
   "metadata": {
    "scrolled": true
   },
   "outputs": [],
   "source": [
    "# q_batches_lst: (N_q,N_generation)\n",
    "# q_sgds_lst:  (N_q, N_generation, N_shuffle)\n",
    "\n",
    "def plot_quantile_generations(q_vals, q_batches_lst, q_sgds_lst):\n",
    "    fig = plt.figure(figsize=(16,4))\n",
    "    ax_batch = fig.add_subplot(211)\n",
    "    ax_sgd = fig.add_subplot(212, sharex = ax_batch)\n",
    "    fig.suptitle('Batch quantile VS SGD quantile')\n",
    "    bins = 50\n",
    "    \n",
    "    for q_idx in range(N_q):\n",
    "        colorVal = scalarMap.to_rgba(q_vals[q_idx])\n",
    "        for gen_idx in range(N_generation):\n",
    "            qb = q_batches_lst[q_idx][gen_idx]\n",
    "            if gen_idx==0:\n",
    "                ax_batch.plot([qb,qb], [0,1], styles[0], label= str(q_vals[q_idx])+names[0], color=colorVal)\n",
    "            else:\n",
    "                ax_batch.plot([qb,qb], [0,1], styles[0], color=colorVal)\n",
    "        \n",
    "        mtx_q = q_sgds_lst[q_idx].reshape(-1)\n",
    "        ax_sgd.hist(mtx_q, bins, alpha=0.5, label = ' '+str(q_vals[q_idx])+names[1]+'  ', color=colorVal)\n",
    "        \n",
    "\n",
    "    #set\n",
    "    ax_batch.set_xlabel('batch value')\n",
    "    ax_batch.xaxis.set_label_coords(0.04, 0.98)\n",
    "#     ax_batch.set_ylim([-0.1,1.1])\n",
    "    ax_batch.set_yticks([])\n",
    "\n",
    "    plt.locator_params(axis='x', nbins=10)\n",
    "\n",
    "    ax_sgd.set_xlabel('sgd value')\n",
    "    ax_sgd.xaxis.set_label_coords(0.035, 0.98)\n",
    "    ax_sgd.set_yticks([])\n",
    "\n",
    "\n",
    "    # set position of legend\n",
    "    ax_batch.legend(loc='lower center', bbox_to_anchor=(0.5, -1.8),\n",
    "            frameon=False, ncol=len(q_vals))\n",
    "    ax_sgd.legend(loc='lower center', bbox_to_anchor=(0.5, -0.8),\n",
    "        frameon=False, ncol=len(q_vals))\n",
    "        \n",
    "    return fig\n",
    "                    \n",
    "# fig = plot_quantile_generations(q_vals, q_batches_lst, q_sgds_lst)"
   ]
  }
 ],
 "metadata": {
  "kernelspec": {
   "display_name": "Python 3",
   "language": "python",
   "name": "python3"
  },
  "language_info": {
   "codemirror_mode": {
    "name": "ipython",
    "version": 3
   },
   "file_extension": ".py",
   "mimetype": "text/x-python",
   "name": "python",
   "nbconvert_exporter": "python",
   "pygments_lexer": "ipython3",
   "version": "3.6.4"
  }
 },
 "nbformat": 4,
 "nbformat_minor": 1
}
