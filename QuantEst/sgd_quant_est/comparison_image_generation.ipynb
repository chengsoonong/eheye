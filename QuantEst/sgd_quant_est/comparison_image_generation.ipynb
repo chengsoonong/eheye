{
 "cells": [
  {
   "cell_type": "markdown",
   "metadata": {},
   "source": [
    "### Show quantile estimation with SGD  \"works\"\n",
    "\n",
    "1. Test datasets:\n",
    "    - Mixsture of 5 Gaussians\n",
    "    - Sample of 100k from no.1\n",
    "    - Gausian $\\mu = 2, \\sigma = 18$\n",
    "    - Gausian $\\mu = 0, \\sigma = 0.001$\n",
    "    - Sample 100 from no.1\n",
    "    - Sample 100 from no.3\n",
    "    - Exponential $\\lambda$\n",
    "    - My weird distribution lol\n",
    "    \n",
    "4. Test times:\n",
    "    - 10 $\\times$ dataset generation\n",
    "    - 10 $\\times$ SGD ???\n",
    "    - 10 $\\times$ shuffle (does the order matter?)\n",
    "    \n",
    "2. Q value: 0.1, 0.3, 0.5, 0.9, 0.99 \n",
    "\n",
    "3. Step size: \n",
    "    - $\\alpha_k = 1$\n",
    "    - $\\alpha_k = \\frac{2}{\\sqrt{k}}$\n",
    "    - $\\alpha_k = \\frac{0.002}{\\sqrt{k}}$\n",
    "    - ?\n",
    "    - ?\n",
    "    - Why's the Newton method helpful?\n",
    "       \n",
    "5. Calculate $E = |q_{batch} - q_{sgd}|$\n",
    "\n",
    "6. What's a small value of $E$?\n",
    "\n",
    "7. Investigate the effect of datasize N\n",
    "    - Convergence rate with same $\\alpha_k$?\n",
    "    - Different Q values?\n",
    "    - ?"
   ]
  },
  {
   "cell_type": "code",
   "execution_count": 47,
   "metadata": {},
   "outputs": [],
   "source": [
    "%matplotlib inline\n",
    "import numpy as np\n",
    "import matplotlib.pyplot as plt"
   ]
  },
  {
   "cell_type": "code",
   "execution_count": 23,
   "metadata": {},
   "outputs": [
    {
     "data": {
      "text/plain": [
       "(10, 5)"
      ]
     },
     "execution_count": 23,
     "metadata": {},
     "output_type": "execute_result"
    }
   ],
   "source": [
    "q_values = [0.1, 0.3, 0.5, 0.9, 0.99]\n",
    "N_generation = 12\n",
    "N_shuffle = 10\n",
    "\n",
    "a = np.zeros((N_shuffle, len(q_values)))\n",
    "a.shape"
   ]
  },
  {
   "cell_type": "code",
   "execution_count": 42,
   "metadata": {},
   "outputs": [
    {
     "data": {
      "text/plain": [
       "array([[-0.07310707,  0.22070778, -0.28509463, -0.05076965],\n",
       "       [ 0.04423327, -0.1456886 , -0.10179877,  0.11275124],\n",
       "       [ 0.00741648,  0.2047395 , -0.08450196,  0.13094117]])"
      ]
     },
     "execution_count": 42,
     "metadata": {},
     "output_type": "execute_result"
    }
   ],
   "source": [
    "def generate_dataset(distro, data_size):\n",
    "    return np.random.normal(0, 0.1, (3,4))\n",
    "\n",
    "# generate_dataset(True, True)"
   ]
  },
  {
   "cell_type": "code",
   "execution_count": 37,
   "metadata": {},
   "outputs": [],
   "source": [
    "def generate_q_batch(dataset):\n",
    "    return np.random.normal(0, 1, len(q_values))"
   ]
  },
  {
   "cell_type": "code",
   "execution_count": 38,
   "metadata": {},
   "outputs": [],
   "source": [
    "def generate_q_sgd(dataset, step_size):\n",
    "    return np.random.uniform(0, 2, len(q_values))"
   ]
  },
  {
   "cell_type": "code",
   "execution_count": 45,
   "metadata": {},
   "outputs": [],
   "source": [
    "def draw_image(q_batches, q_sgds):\n",
    "#     draw only one line of q_batches, and one block of q_sgds\n",
    "    print (\"-------- test draw_images()-----------\")\n",
    "    \n",
    "    # how to set the beginning and the end?\n",
    "    beginning, end = -5, 5\n",
    "    q_batch_one_gen = q_batches[0]\n",
    "    \n",
    "    print (q_batch_one_gen)\n",
    "    \n",
    "    print (\"--------------- done -----------------\")\n",
    "    return None\n",
    "\n"
   ]
  },
  {
   "cell_type": "code",
   "execution_count": 46,
   "metadata": {},
   "outputs": [
    {
     "name": "stdout",
     "output_type": "stream",
     "text": [
      "-------- test draw_images()-----------\n",
      "[ 0.63413083  0.30355086 -1.95992722  1.96469575  0.32964549]\n",
      "--------------- done -----------------\n"
     ]
    }
   ],
   "source": [
    "def compare_distributions(distro, data_size, step_size):\n",
    "    q_batches = np.zeros((N_generation, len(q_values)))\n",
    "    q_sgds = np.zeros((N_generation, N_shuffle, len(q_values)))\n",
    "    \n",
    "    # generate datasets\n",
    "    for i in range(N_generation):\n",
    "        dataset = generate_dataset(distro, data_size)\n",
    "        q_batch = generate_q_batch(dataset)\n",
    "        q_batches[i] = q_batch\n",
    "\n",
    "        # shuffle\n",
    "        for j in range(10):\n",
    "            np.random.shuffle(dataset)\n",
    "            q_sgd   = generate_q_sgd(dataset, step_size)\n",
    "            q_sgds[i][j] = q_sgd\n",
    "    draw_image(q_batches, q_sgds)\n",
    "#     print (q_batches)\n",
    "    return None\n",
    "\n",
    "compare_distributions(True, True, False)"
   ]
  },
  {
   "cell_type": "code",
   "execution_count": 11,
   "metadata": {},
   "outputs": [],
   "source": [
    "def compare_step_sizes(step_size, distro, data_size):\n",
    "    return"
   ]
  },
  {
   "cell_type": "code",
   "execution_count": 12,
   "metadata": {},
   "outputs": [],
   "source": [
    "def compare_data_size(data_size, distro, setp_size):\n",
    "    return"
   ]
  },
  {
   "cell_type": "code",
   "execution_count": null,
   "metadata": {},
   "outputs": [],
   "source": []
  }
 ],
 "metadata": {
  "kernelspec": {
   "display_name": "Python 3",
   "language": "python",
   "name": "python3"
  },
  "language_info": {
   "codemirror_mode": {
    "name": "ipython",
    "version": 3
   },
   "file_extension": ".py",
   "mimetype": "text/x-python",
   "name": "python",
   "nbconvert_exporter": "python",
   "pygments_lexer": "ipython3",
   "version": "3.6.4"
  }
 },
 "nbformat": 4,
 "nbformat_minor": 2
}
