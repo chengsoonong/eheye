{
 "cells": [
  {
   "cell_type": "markdown",
   "metadata": {},
   "source": [
    "# Median-based Bandits with Unbounded Rewards\n",
    "\n",
    "We consider the class of upper confidence bound bandit algorithms for sequential experiment design problems.\n",
    "We propose a policy, $\\textit{Median-based Upper Confidence Bound}$ (M-UCB), based on the empirical median, that is robust to skewed distributions and outliers. In each round ${t}$ ($t > K$), pick an arm with index\n",
    "\n",
    "$$argmax_{i \\in \\mathcal{K}} \\underbrace{\\hat{m}_{i, T_i(t-1)}}_{\\substack{\\text{Empirical} \\\\ \\text{Median}}} + \\beta  \\underbrace{\\left(\\sqrt{2v_{i,t} \\varepsilon_t} + 2 \\varepsilon_t \\sqrt{\\frac{v_{i,t}}{T_i(t-1)}}\\right)}_{\\text{Confidence Width}},$$\n",
    "\n",
    "\n",
    "where $T_i(t-1)$ is the number of times arm $i$ has been played during first $t-1$ rounds, exploration factor $\\varepsilon_t = \\alpha \\log t$ with $\\alpha$ controlling the exploration rate, hazard factor $v_{i,t} = \\frac{4 }{T_i(t-1) \\hat{L}_{i,T_i(t-1)}^2}$, with $\\hat{L}_{i, T_i(t-1)}$ as the lower bound estimation of hazard rate for reward distribution of arm $i$ at the round $t$.\n",
    "    $\\beta$ is a hyper-parameter balancing the empirical median and confidence width."
   ]
  },
  {
   "cell_type": "code",
   "execution_count": 1,
   "metadata": {
    "ExecuteTime": {
     "end_time": "2020-07-26T12:12:40.350589Z",
     "start_time": "2020-07-26T12:12:40.347780Z"
    }
   },
   "outputs": [],
   "source": [
    "# direct to proper path\n",
    "import os\n",
    "import sys\n",
    "module_path = os.path.abspath(os.path.join('..'))\n",
    "if module_path not in sys.path:\n",
    "    sys.path.append(module_path)"
   ]
  },
  {
   "cell_type": "code",
   "execution_count": 2,
   "metadata": {
    "ExecuteTime": {
     "end_time": "2020-07-26T12:12:40.880507Z",
     "start_time": "2020-07-26T12:12:40.352293Z"
    }
   },
   "outputs": [],
   "source": [
    "import numpy as np\n",
    "from ipywidgets import IntProgress\n",
    "from IPython.display import display\n",
    "import matplotlib.pyplot as plt\n",
    "from collections import defaultdict\n",
    "import seaborn as sns\n",
    "import pickle\n",
    "from prettytable import PrettyTable\n",
    "\n",
    "from codes.UCB_discrete import *\n",
    "from codes.Environment import Mixture_AbsGau, setup_env, Exp\n",
    "from codes.SimulatedGames import simulate\n",
    "from codes.plots import plot_hist, plot_eva\n",
    "\n",
    "%matplotlib inline"
   ]
  },
  {
   "cell_type": "markdown",
   "metadata": {},
   "source": [
    "## Simulations\n",
    "\n",
    "We compare our policy M-UCB with four others: 1) U-UCB with empirical performance distribution measure as VaR, 2) $\\epsilon$-greedy algorithm, which chooses a random arm with probability $\\epsilon = 0.1$,  and otherwise the arm with highest empirical median, 3) robust UCB-median of mean, which allows heavy-tailed reward distributions. 4) adversarial bandit algorithm Exp3 which assumes the reward distributions are adversarial.\n",
    "The performance of the algorithms are evaluated in terms of the expected sub-optimal draws. Note the plots are shown in log scale on the vertical axis.\n",
    "\n",
    "Note that the robust UCB-median of means and Exp3 algorithms pick the arm with highest mean as the optimal arm, we thus evaluate these two algorithms with the optimal arm defined as the one with highest mean, as they will be disadvantaged if we choose the optimal arm with the maximum median.\n",
    "Including these two algorithms allows us to benchmark against algorithms that allow\n",
    "heavy-tailed distributions and adversarial problems respectively.\n",
    "All other algorithms use median as summary statistics and evaluated with the optimal arm defined as the one with the highest median.\n",
    "\n",
    "For simulations, we design reward distributions using the special case distributions of IHR (non-decreasing hazard rate distributions). The reward distribution for 3 arms are: A) $|\\mathcal{N}(1.2, 4)|$ B) $|\\mathcal{N}(3,1)|$  C) Exp(3.5). We simulate 50 independent experiments, where each experiment runs 10,000 rounds."
   ]
  },
  {
   "cell_type": "code",
   "execution_count": 3,
   "metadata": {
    "ExecuteTime": {
     "end_time": "2020-07-26T12:12:40.938090Z",
     "start_time": "2020-07-26T12:12:40.881998Z"
    }
   },
   "outputs": [],
   "source": [
    "# setting\n",
    "\n",
    "num_exper = 10\n",
    "num_rounds = 1000\n",
    "num_arms = 3\n",
    "est_flag = True # estimate the lower bound of hazard rate L\n",
    "\n",
    "# environment\n",
    "\n",
    "environments = [\n",
    "    {Mixture_AbsGau: [[3.5, 2, 0,1, 1], [0, 1.5, 0, 1, 1]], Exp: [1/4]}, # mu1, sigma1, mu2, sigma2, p\n",
    "    \n",
    "]\n",
    "\n",
    "rewards_env, medians, means, mvs, samples = setup_env(num_arms, environments)"
   ]
  },
  {
   "cell_type": "code",
   "execution_count": 4,
   "metadata": {
    "ExecuteTime": {
     "end_time": "2020-07-26T12:12:40.985822Z",
     "start_time": "2020-07-26T12:12:40.939269Z"
    },
    "scrolled": true
   },
   "outputs": [
    {
     "name": "stdout",
     "output_type": "stream",
     "text": [
      "Mixture_AbsGau_[[3.5, 2, 0, 1, 1], [0, 1.5, 0, 1, 1]]Exp_[0.25]\n",
      "+--------+------+------+------+----------+\n",
      "|  Eva   |  A   |  B   |  C   | Best Arm |\n",
      "+--------+------+------+------+----------+\n",
      "| Median | 3.51 | 1.04 | 2.76 |    A     |\n",
      "|  Mean  | 3.59 | 1.22 | 3.99 |    C     |\n",
      "+--------+------+------+------+----------+\n",
      "\n"
     ]
    }
   ],
   "source": [
    "arm_name_dict = {\n",
    "    0: 'A',\n",
    "    1: 'B',\n",
    "    2: 'C'\n",
    "}\n",
    "\n",
    "for key in medians.keys():\n",
    "    print(key)\n",
    "    medians[key] = list(np.around(np.array(medians[key]),2))\n",
    "    means[key] = list(np.around(np.array(means[key]),2))\n",
    "    mvs[key] = list(np.around(np.array(mvs[key]),2))\n",
    "    t = PrettyTable(['Eva', 'A', 'B', 'C', 'Best Arm'])\n",
    "    t.add_row(['Median'] + medians[key]+ [arm_name_dict[np.argmax(medians[key])]])\n",
    "    t.add_row(['Mean']+ means[key]+ [arm_name_dict[np.argmax(means[key])]])\n",
    "    print(t)\n",
    "    print()"
   ]
  },
  {
   "cell_type": "code",
   "execution_count": 5,
   "metadata": {
    "ExecuteTime": {
     "end_time": "2020-07-26T12:12:42.316283Z",
     "start_time": "2020-07-26T12:12:40.988014Z"
    }
   },
   "outputs": [
    {
     "data": {
      "image/png": "[encoded data removed]",
      "text/plain": [
       "<Figure size 864x216 with 1 Axes>"
      ]
     },
     "metadata": {
      "needs_background": "light"
     },
     "output_type": "display_data"
    }
   ],
   "source": [
    "plot_hist(samples)"
   ]
  },
  {
   "cell_type": "code",
   "execution_count": 6,
   "metadata": {
    "ExecuteTime": {
     "end_time": "2020-07-26T12:12:42.325594Z",
     "start_time": "2020-07-26T12:12:42.317630Z"
    }
   },
   "outputs": [],
   "source": [
    "# run experiments\n",
    "\n",
    "def run_exper(rewards_env, hyperpara_list, num_exper, num_rounds, policy, summary_stats, est_flags = [est_flag]):\n",
    "    for key in rewards_env.keys():\n",
    "        for hyperpara in hyperpara_list:\n",
    "            for est_flag in est_flags:\n",
    "                name = key + '_' + str(num_exper) + '_' + str(num_rounds)\n",
    "                policy_name = str(policy).split('.')[-1].split('\\'')[0] + '-'\n",
    "                subname = policy_name + str(hyperpara)\n",
    "                print(name + subname)\n",
    "                p = IntProgress(max = num_exper)\n",
    "                p.description = 'Running'\n",
    "                display(p)\n",
    "                results[name][subname]= simulate(rewards_env[key],summary_stats[key], policy, num_exper, num_rounds, est_flag, hyperpara, None, p)\n",
    "                \n",
    "def run_exper_diff_para(rewards_env, hyperpara_list, num_exper, num_rounds, policy, summary_stats, est_flags = [est_flag]):\n",
    "    for key in rewards_env.keys():\n",
    "        for est_flag in est_flags:\n",
    "            name = key + '_' + str(num_exper) + '_' + str(num_rounds)\n",
    "            \n",
    "            # setting different parameters to with and without outliers groups\n",
    "            if 'Outlier' in name:\n",
    "                hyperpara = hyperpara_list[-1]\n",
    "            else:\n",
    "                hyperpara = hyperpara_list[0]\n",
    "            policy_name = str(policy).split('.')[-1].split('\\'')[0] + '-'\n",
    "\n",
    "            subname = policy_name + str(hyperpara)\n",
    "            print(name + subname)\n",
    "            p = IntProgress(max = num_exper)\n",
    "            p.description = 'Running'\n",
    "            display(p)\n",
    "            results[name][subname]= simulate(rewards_env[key], summary_stats[key], policy, num_exper, num_rounds, est_flag, hyperpara, None, p)"
   ]
  },
  {
   "cell_type": "code",
   "execution_count": 14,
   "metadata": {
    "ExecuteTime": {
     "end_time": "2020-07-26T12:14:03.155864Z",
     "start_time": "2020-07-26T12:13:50.523980Z"
    },
    "scrolled": true
   },
   "outputs": [
    {
     "name": "stdout",
     "output_type": "stream",
     "text": [
      "Mixture_AbsGau_[[3.5, 2, 0, 1, 1], [0, 1.5, 0, 1, 1]]Exp_[0.25]_10_1000Q_UCB-[1, 1, 1]\n"
     ]
    },
    {
     "data": {
      "application/vnd.jupyter.widget-view+json": {
       "model_id": "c62acf8f842242429aa6b71cd8caa74a",
       "version_major": 2,
       "version_minor": 0
      },
      "text/plain": [
       "IntProgress(value=0, description='Running', max=10)"
      ]
     },
     "metadata": {},
     "output_type": "display_data"
    },
    {
     "name": "stdout",
     "output_type": "stream",
     "text": [
      "Mixture_AbsGau_[[3.5, 2, 0, 1, 1], [0, 1.5, 0, 1, 1]]Exp_[0.25]_10_1000U_UCB-[4]\n"
     ]
    },
    {
     "data": {
      "application/vnd.jupyter.widget-view+json": {
       "model_id": "b31022714e6242ddb0f05d641568777b",
       "version_major": 2,
       "version_minor": 0
      },
      "text/plain": [
       "IntProgress(value=0, description='Running', max=10)"
      ]
     },
     "metadata": {},
     "output_type": "display_data"
    },
    {
     "name": "stdout",
     "output_type": "stream",
     "text": [
      "Mixture_AbsGau_[[3.5, 2, 0, 1, 1], [0, 1.5, 0, 1, 1]]Exp_[0.25]_10_1000epsilon_greedy-[0.2]\n"
     ]
    },
    {
     "data": {
      "application/vnd.jupyter.widget-view+json": {
       "model_id": "6a54183c7dce40de95a32a0e8995cd68",
       "version_major": 2,
       "version_minor": 0
      },
      "text/plain": [
       "IntProgress(value=0, description='Running', max=10)"
      ]
     },
     "metadata": {},
     "output_type": "display_data"
    },
    {
     "name": "stdout",
     "output_type": "stream",
     "text": [
      "Mixture_AbsGau_[[3.5, 2, 0, 1, 1], [0, 1.5, 0, 1, 1]]Exp_[0.25]_10_1000Median_of_Means_UCB-[10, 1, 1]\n"
     ]
    },
    {
     "data": {
      "application/vnd.jupyter.widget-view+json": {
       "model_id": "a4d34556b04a4896a93f6ca07fb29742",
       "version_major": 2,
       "version_minor": 0
      },
      "text/plain": [
       "IntProgress(value=0, description='Running', max=10)"
      ]
     },
     "metadata": {},
     "output_type": "display_data"
    },
    {
     "name": "stdout",
     "output_type": "stream",
     "text": [
      "Mixture_AbsGau_[[3.5, 2, 0, 1, 1], [0, 1.5, 0, 1, 1]]Exp_[0.25]_10_1000Exp3-[0.5, 0, 30]\n"
     ]
    },
    {
     "data": {
      "application/vnd.jupyter.widget-view+json": {
       "model_id": "bb8cf8e886b548ab827eefdab98b9f22",
       "version_major": 2,
       "version_minor": 0
      },
      "text/plain": [
       "IntProgress(value=0, description='Running', max=10)"
      ]
     },
     "metadata": {},
     "output_type": "display_data"
    }
   ],
   "source": [
    "results = defaultdict(dict)\n",
    "\n",
    "\n",
    "# M-UCB\n",
    "\n",
    "hyperpara_list = [[1,1,1]]\n",
    "run_exper(rewards_env, hyperpara_list, num_exper, num_rounds, Q_UCB, medians)\n",
    "\n",
    "#--------------------------------------------------------------------------------------------------------\n",
    "# Benchmark algorithms\n",
    "\n",
    "# U-UCB\n",
    "\n",
    "hyperpara_list = [[4]]\n",
    "run_exper(rewards_env, hyperpara_list, num_exper, num_rounds, U_UCB, medians)\n",
    "\n",
    "# epsilon_greedy\n",
    "\n",
    "hyperpara_list = [[0.2]]\n",
    "run_exper(rewards_env, hyperpara_list, num_exper, num_rounds, epsilon_greedy, medians)\n",
    "\n",
    "# Median_of_Means_UCB\n",
    "\n",
    "hyperpara_list = [[10, 1, 1]]\n",
    "run_exper(rewards_env, hyperpara_list, num_exper, num_rounds, Median_of_Means_UCB, means)\n",
    "\n",
    "# Exp3\n",
    "\n",
    "hyperpara_list = [[0.5, 0, 30]]\n",
    "run_exper_diff_para(rewards_env, hyperpara_list, num_exper, num_rounds, Exp3, means)\n"
   ]
  },
  {
   "cell_type": "code",
   "execution_count": 15,
   "metadata": {
    "ExecuteTime": {
     "end_time": "2020-07-26T12:14:04.321279Z",
     "start_time": "2020-07-26T12:14:03.764374Z"
    }
   },
   "outputs": [
    {
     "data": {
      "image/png": "[encoded data removed]",
      "text/plain": [
       "<Figure size 864x216 with 1 Axes>"
      ]
     },
     "metadata": {
      "needs_background": "light"
     },
     "output_type": "display_data"
    }
   ],
   "source": [
    "plot_eva(results, 'sd', paper_flag = True)"
   ]
  },
  {
   "cell_type": "code",
   "execution_count": 16,
   "metadata": {
    "ExecuteTime": {
     "end_time": "2020-07-26T12:14:05.549972Z",
     "start_time": "2020-07-26T12:14:04.884132Z"
    },
    "scrolled": true
   },
   "outputs": [
    {
     "data": {
      "image/png": "[encoded data removed]",
      "text/plain": [
       "<Figure size 864x216 with 1 Axes>"
      ]
     },
     "metadata": {
      "needs_background": "light"
     },
     "output_type": "display_data"
    }
   ],
   "source": [
    "plot_eva(results, 'r', paper_flag = True)"
   ]
  },
  {
   "cell_type": "markdown",
   "metadata": {},
   "source": [
    "The performance on the simulated distributions.\n",
    "As we expected, our algorithm M-UCB outperforms the heavy-tailed method and the adversarial method. Since the light-tailed and stochastic assumption (e.g. sub-exponential, sub-Gaussian) allows us to design a policy with a faster convergence rate of empirical medians. \n",
    "\n",
    "Compared with algorithms which take median as summary statistics, our algorithm is still the best. As analyzed, U-UCB assumes bounded support of rewards and depends on a slow concentration convergence rate, which makes it have a higher number of sub-optimal draws. The idea of $\\epsilon$-greedy is straight-forward, but it is usually hard to beat empirically.Tamkind et al. 2019 reported similar results, for CVaR regret minimisation, $\\epsilon$-greedy is the best baseline algorithm empirically. \n"
   ]
  },
  {
   "cell_type": "markdown",
   "metadata": {},
   "source": [
    "## Save results"
   ]
  },
  {
   "cell_type": "code",
   "execution_count": 10,
   "metadata": {
    "ExecuteTime": {
     "end_time": "2020-07-26T12:12:56.667939Z",
     "start_time": "2020-07-26T12:12:56.662790Z"
    }
   },
   "outputs": [],
   "source": [
    "import pickle\n",
    "\n",
    "with open('simulation.pickle', 'wb') as handle:\n",
    "    pickle.dump(results, handle, protocol=pickle.HIGHEST_PROTOCOL)"
   ]
  }
 ],
 "metadata": {
  "kernelspec": {
   "display_name": "Python 3",
   "language": "python",
   "name": "python3"
  },
  "language_info": {
   "codemirror_mode": {
    "name": "ipython",
    "version": 3
   },
   "file_extension": ".py",
   "mimetype": "text/x-python",
   "name": "python",
   "nbconvert_exporter": "python",
   "pygments_lexer": "ipython3",
   "version": "3.7.3"
  },
  "toc": {
   "base_numbering": 1,
   "nav_menu": {},
   "number_sections": true,
   "sideBar": true,
   "skip_h1_title": false,
   "title_cell": "Table of Contents",
   "title_sidebar": "Contents",
   "toc_cell": false,
   "toc_position": {},
   "toc_section_display": true,
   "toc_window_display": false
  },
  "varInspector": {
   "cols": {
    "lenName": 16,
    "lenType": 16,
    "lenVar": 40
   },
   "kernels_config": {
    "python": {
     "delete_cmd_postfix": "",
     "delete_cmd_prefix": "del ",
     "library": "var_list.py",
     "varRefreshCmd": "print(var_dic_list())"
    },
    "r": {
     "delete_cmd_postfix": ") ",
     "delete_cmd_prefix": "rm(",
     "library": "var_list.r",
     "varRefreshCmd": "cat(var_dic_list()) "
    }
   },
   "types_to_exclude": [
    "module",
    "function",
    "builtin_function_or_method",
    "instance",
    "_Feature"
   ],
   "window_display": false
  }
 },
 "nbformat": 4,
 "nbformat_minor": 2
}
