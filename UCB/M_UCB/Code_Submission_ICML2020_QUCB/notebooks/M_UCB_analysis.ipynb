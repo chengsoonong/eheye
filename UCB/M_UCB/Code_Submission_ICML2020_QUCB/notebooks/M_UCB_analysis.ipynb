{
 "cells": [
  {
   "cell_type": "markdown",
   "metadata": {},
   "source": [
    "In this notebook, we provide some extra analysis for our policy M-UCB, namely,\n",
    "\n",
    "* Sub-optimal Draws Confidence Interval\n",
    "* Estimation of Lower Bound of Hazard Rate\n",
    "* Hyper-parameter Choices\n",
    "* More arms\n",
    "\n",
    "Except mentioned, we will use the simulation environment provided in the main paper as our experiment environment. "
   ]
  },
  {
   "cell_type": "code",
   "execution_count": 1,
   "metadata": {},
   "outputs": [],
   "source": [
    "# direct to proper path\n",
    "import os\n",
    "import sys\n",
    "module_path = os.path.abspath(os.path.join('..'))\n",
    "if module_path not in sys.path:\n",
    "    sys.path.append(module_path)"
   ]
  },
  {
   "cell_type": "code",
   "execution_count": 2,
   "metadata": {},
   "outputs": [],
   "source": [
    "import numpy as np\n",
    "from ipywidgets import IntProgress\n",
    "from IPython.display import display\n",
    "import matplotlib.pyplot as plt\n",
    "from collections import defaultdict\n",
    "import seaborn as sns\n",
    "import pickle\n",
    "from prettytable import PrettyTable\n",
    "\n",
    "from codes.UCB_discrete import M_UCB, UCB1, UCB_V, MV_LCB, Exp3, epsilon_greedy, Median_of_Means_UCB, U_UCB\n",
    "from codes.Environment import Mixture_AbsGau, setup_env, Exp\n",
    "from codes.SimulatedGames import simulate\n",
    "from codes.plots import plot_hist, plot_eva\n",
    "\n",
    "%matplotlib inline"
   ]
  },
  {
   "cell_type": "code",
   "execution_count": 3,
   "metadata": {},
   "outputs": [],
   "source": [
    "# setting\n",
    "\n",
    "num_exper = 50\n",
    "num_rounds = 10000\n",
    "num_arms = 3\n",
    "est_flag = True # estimate the lower bound of hazard rate L\n",
    "\n",
    "# environment\n",
    "\n",
    "environments = [\n",
    "    {Mixture_AbsGau: [[3, 1, 0,1, 1], [1.2, 4, 0, 1, 1]], Exp: [1/3.5]}, # mu1, sigma1, mu2, sigma2, p \n",
    "]\n",
    "\n",
    "rewards_env, medians, means, mvs, samples = setup_env(num_arms, environments)"
   ]
  },
  {
   "cell_type": "code",
   "execution_count": 4,
   "metadata": {},
   "outputs": [
    {
     "name": "stdout",
     "output_type": "stream",
     "text": [
      "Mixture_AbsGau_[[3, 1, 0, 1, 1], [1.2, 4, 0, 1, 1]]Exp_[0.2857142857142857]\n",
      "+--------+------+------+------+----------+\n",
      "|  Eva   |  A   |  B   |  C   | Best Arm |\n",
      "+--------+------+------+------+----------+\n",
      "| Median | 2.99 | 2.83 | 2.45 |    A     |\n",
      "|  Mean  | 3.0  | 3.34 | 3.5  |    C     |\n",
      "+--------+------+------+------+----------+\n",
      "\n"
     ]
    }
   ],
   "source": [
    "arm_name_dict = {\n",
    "    0: 'A',\n",
    "    1: 'B',\n",
    "    2: 'C'\n",
    "}\n",
    "\n",
    "for key in medians.keys():\n",
    "    print(key)\n",
    "    medians[key] = list(np.around(np.array(medians[key]),2))\n",
    "    means[key] = list(np.around(np.array(means[key]),2))\n",
    "    mvs[key] = list(np.around(np.array(mvs[key]),2))\n",
    "    t = PrettyTable(['Eva', 'A', 'B', 'C', 'Best Arm'])\n",
    "    t.add_row(['Median'] + medians[key]+ [arm_name_dict[np.argmax(medians[key])]])\n",
    "    t.add_row(['Mean']+ means[key]+ [arm_name_dict[np.argmax(means[key])]])\n",
    "    #t.add_row(['MV']+ mvs[key]+ [arm_name_dict[np.argmin(mvs[key])]])\n",
    "    print(t)\n",
    "    print()"
   ]
  },
  {
   "cell_type": "code",
   "execution_count": 5,
   "metadata": {},
   "outputs": [],
   "source": [
    "# run experiments\n",
    "\n",
    "est_name_dict = {True: 'est_L_',\n",
    "                False: 'true_L_'}\n",
    "\n",
    "def run_exper(results, rewards_env, hyperpara_list, num_exper, num_rounds, policy, summary_stats, est_flags = [est_flag], fixed_L = None):\n",
    "    for key in rewards_env.keys():\n",
    "        for hyperpara in hyperpara_list:\n",
    "            for est_flag in est_flags:\n",
    "                name = key + '_' + str(num_exper) + '_' + str(num_rounds)\n",
    "                policy_name = str(policy).split('.')[-1].split('\\'')[0] + '-'\n",
    "                subname = policy_name + str(hyperpara) + est_name_dict[est_flags[0]] + str(fixed_L)\n",
    "                print(name + subname)\n",
    "                p = IntProgress(max = num_exper)\n",
    "                p.description = 'Running'\n",
    "                display(p)\n",
    "                results[name][subname]= simulate(rewards_env[key],summary_stats[key], policy, num_exper, num_rounds, est_flag, hyperpara, fixed_L, p)\n",
    "                \n",
    "                # calculate true L\n",
    "            \n",
    "                true_L[name][subname] = []\n",
    "                for i in range(len(rewards_env[key])):\n",
    "                    my_env = rewards_env[key][i]\n",
    "                    if hasattr(my_env, 'hazard_rate'):\n",
    "                        # for Mixture_AbsGau only\n",
    "                        L = my_env.hazard_rate(0)\n",
    "                        true_L[name][subname].append(L)\n",
    "                    elif hasattr(my_env, 'pdf'):\n",
    "                        # if pdf and cdf is defined\n",
    "                        L = my_env.pdf(0)/ (1- my_env.cdf(0)) \n",
    "                        true_L[name][subname].append(L)\n",
    "                    else:\n",
    "                        print('cannot estimate L')"
   ]
  },
  {
   "cell_type": "markdown",
   "metadata": {},
   "source": [
    "## Sub-optimal Draws Confidence Interval"
   ]
  },
  {
   "cell_type": "markdown",
   "metadata": {},
   "source": [
    "we show the interval between one standard deviation from the estimated mean. Settings and environments remain the same as the main paper simulation experiment. We can see the confidence interval shrinks as iteration increases. "
   ]
  },
  {
   "cell_type": "code",
   "execution_count": 6,
   "metadata": {},
   "outputs": [
    {
     "name": "stdout",
     "output_type": "stream",
     "text": [
      "Mixture_AbsGau_[[3, 1, 0, 1, 1], [1.2, 4, 0, 1, 1]]Exp_[0.2857142857142857]_50_10000M_UCB-[4, 1, 1]est_L_None\n"
     ]
    },
    {
     "data": {
      "application/vnd.jupyter.widget-view+json": {
       "model_id": "4f199a6c2da14e52aa5d7ee16545db00",
       "version_major": 2,
       "version_minor": 0
      },
      "text/plain": [
       "IntProgress(value=0, description='Running', max=50)"
      ]
     },
     "metadata": {},
     "output_type": "display_data"
    }
   ],
   "source": [
    "results_est_L = defaultdict(dict)\n",
    "true_L = defaultdict(dict)\n",
    "\n",
    "# M-UCB\n",
    "\n",
    "hyperpara_list = [[4,1,1]]\n",
    "run_exper(results_est_L, rewards_env, hyperpara_list, num_exper, num_rounds, M_UCB, medians)"
   ]
  },
  {
   "cell_type": "code",
   "execution_count": 7,
   "metadata": {},
   "outputs": [
    {
     "data": {
      "image/png": "[encoded data removed]",
      "text/plain": [
       "<Figure size 864x216 with 1 Axes>"
      ]
     },
     "metadata": {
      "needs_background": "light"
     },
     "output_type": "display_data"
    }
   ],
   "source": [
    "plot_eva(results_est_L, 'sd', paper_flag = False, plot_confi_interval=True)"
   ]
  },
  {
   "cell_type": "markdown",
   "metadata": {},
   "source": [
    "## Lower bound of hazard rate estimation\n",
    "\n",
    "Our policy and bound of expected sub-optimal draws depend on the lower bound of hazard rate. One interesting question is how well we can estimate the lower bound of hazard rate ($\\hat{L}_i$), and the sensitivity of our policy to the $\\hat{L}_i$. "
   ]
  },
  {
   "cell_type": "code",
   "execution_count": 8,
   "metadata": {},
   "outputs": [
    {
     "data": {
      "text/plain": [
       "[0.008863696823876015, 0.19069390773026207, 0.2857142857142857]"
      ]
     },
     "execution_count": 8,
     "metadata": {},
     "output_type": "execute_result"
    }
   ],
   "source": [
    "for name, dicts in results_est_L.items():\n",
    "    for subname, subdicts in results_est_L[name].items():\n",
    "        estimated_L = results_est_L[name][subname]['estimated_L']\n",
    "        true_L_list = true_L[name][subname]\n",
    "\n",
    "true_L_list"
   ]
  },
  {
   "cell_type": "code",
   "execution_count": 17,
   "metadata": {},
   "outputs": [
    {
     "data": {
      "image/png": "[encoded data removed]",
      "text/plain": [
       "<Figure size 432x288 with 1 Axes>"
      ]
     },
     "metadata": {
      "needs_background": "light"
     },
     "output_type": "display_data"
    }
   ],
   "source": [
    "est_L_dict = defaultdict(list)\n",
    "\n",
    "for i in estimated_L:\n",
    "    for arm_idx, est_L_list in i.items():\n",
    "        est_L_dict[arm_idx].append(est_L_list)\n",
    "colors = ['red', 'blue', 'green']\n",
    "        \n",
    "for arm_idx, est_L_lists in est_L_dict.items():\n",
    "    mean = np.mean(np.asarray(est_L_lists), axis = 0)\n",
    "    std = np.std(np.asarray(est_L_lists), axis = 0)\n",
    "    \n",
    "    plt.plot([0, len(mean)], [true_L_list[arm_idx], true_L_list[arm_idx]], '--', color = colors[arm_idx])\n",
    "    plt.plot(range(len(mean)), mean, color = colors[arm_idx], label = arm_name_dict[arm_idx])\n",
    "    plt.fill_between(range(len(mean)), mean + std, mean - std, color = colors[arm_idx], alpha = 0.1)\n",
    "    plt.ylabel('Estimated L')\n",
    "    plt.xlabel('Iteration')\n",
    "    plt.title('The estimation of lower bound of hazard rate')\n",
    "    plt.legend()\n",
    "    \n",
    "plt.savefig('est_L.pdf')"
   ]
  },
  {
   "cell_type": "markdown",
   "metadata": {},
   "source": [
    "The above plot shows the estimated value of $\\hat{L}_i$ for 10,000 rounds experiment under policy M-UCB. Note that the choice of sample arm depends on the policy and the number of samples of each arm is not same. We can see for all arms, the estimated $\\hat{L}_i$ converges to the true value (dash line with the same colour) exponentially fast. The estimation remains stable after around 1,000 rounds.\n",
    "\n",
    "We further show the root mean squared error (RMSE) of lower bound of hazard rate estimation for the first 1,000 iterations. We observe that the error drops exponentially fast for the first 200 iterations and then drops slowly. "
   ]
  },
  {
   "cell_type": "code",
   "execution_count": 18,
   "metadata": {},
   "outputs": [
    {
     "data": {
      "image/png": "[encoded data removed]",
      "text/plain": [
       "<Figure size 432x288 with 1 Axes>"
      ]
     },
     "metadata": {
      "needs_background": "light"
     },
     "output_type": "display_data"
    }
   ],
   "source": [
    "analysis_rounds = 1000\n",
    "\n",
    "for arm_idx, est_L_lists in est_L_dict.items():\n",
    "    mean = np.mean(np.asarray(est_L_lists), axis = 0)\n",
    "    std = np.std(np.asarray(est_L_lists), axis = 0)\n",
    "    \n",
    "    plt.plot(range(len(mean[:analysis_rounds])), (np.sqrt(mean - true_L_list[arm_idx] ** 2))[:analysis_rounds], color = colors[arm_idx], label = arm_idx)\n",
    "\n",
    "    plt.ylabel('RMSE')\n",
    "    plt.xlabel('Iteration')\n",
    "    plt.title('RMSE of estimation of lower bound of hazard rate')\n",
    "    plt.legend()\n",
    "    \n",
    "plt.savefig('RMSE_est_L.pdf')"
   ]
  },
  {
   "cell_type": "markdown",
   "metadata": {},
   "source": [
    "To analyse the sensitiveness our algorithm to the estimation of the lower bound of hazard rate, we set three groups with fixed value of $\\hat{L}_i$ as policy input:  \n",
    "1) $L\\_at\\_10$: take the estimation at 10th iteration, where the $\\hat{L}_i$ is poorly estimated;  \n",
    "2) $L\\_at\\_200$: take the estimation at 200th iteration, where the error of estimation has dropped dramatically;  \n",
    "3) True L: the true value of $L_i$.  "
   ]
  },
  {
   "cell_type": "code",
   "execution_count": 12,
   "metadata": {},
   "outputs": [],
   "source": [
    "fixed_L_10 = []\n",
    "fixed_L_200 = []\n",
    "\n",
    "for arm_idx, est_L_lists in est_L_dict.items():\n",
    "    mean = np.mean(np.asarray(est_L_lists), axis = 0)\n",
    "    fixed_L_10.append(mean[10].round(3))\n",
    "    fixed_L_200.append(mean[200].round(3))"
   ]
  },
  {
   "cell_type": "code",
   "execution_count": 13,
   "metadata": {},
   "outputs": [
    {
     "name": "stdout",
     "output_type": "stream",
     "text": [
      "Mixture_AbsGau_[[3, 1, 0, 1, 1], [1.2, 4, 0, 1, 1]]Exp_[0.2857142857142857]_50_10000M_UCB-[4, 1, 1]est_L_[0.127, 0.4, 0.431]\n"
     ]
    },
    {
     "data": {
      "application/vnd.jupyter.widget-view+json": {
       "model_id": "0e3d584334654405b3d43dfe5808ae67",
       "version_major": 2,
       "version_minor": 0
      },
      "text/plain": [
       "IntProgress(value=0, description='Running', max=50)"
      ]
     },
     "metadata": {},
     "output_type": "display_data"
    }
   ],
   "source": [
    "# Group I) L_at_10\n",
    "\n",
    "hyperpara_list = [[4,1,1]]\n",
    "run_exper(results_est_L, rewards_env, hyperpara_list, num_exper, num_rounds, M_UCB, medians, fixed_L = fixed_L_10)"
   ]
  },
  {
   "cell_type": "code",
   "execution_count": 14,
   "metadata": {},
   "outputs": [
    {
     "name": "stdout",
     "output_type": "stream",
     "text": [
      "Mixture_AbsGau_[[3, 1, 0, 1, 1], [1.2, 4, 0, 1, 1]]Exp_[0.2857142857142857]_50_10000M_UCB-[4, 1, 1]est_L_[0.029, 0.258, 0.36]\n"
     ]
    },
    {
     "data": {
      "application/vnd.jupyter.widget-view+json": {
       "model_id": "94ae90a54b9e47e89ca06f05d45e21dc",
       "version_major": 2,
       "version_minor": 0
      },
      "text/plain": [
       "IntProgress(value=0, description='Running', max=50)"
      ]
     },
     "metadata": {},
     "output_type": "display_data"
    }
   ],
   "source": [
    "# Group II) L_at_200\n",
    "run_exper(results_est_L, rewards_env, hyperpara_list, num_exper, num_rounds, M_UCB, medians, fixed_L = fixed_L_200)"
   ]
  },
  {
   "cell_type": "code",
   "execution_count": 15,
   "metadata": {},
   "outputs": [
    {
     "name": "stdout",
     "output_type": "stream",
     "text": [
      "Mixture_AbsGau_[[3, 1, 0, 1, 1], [1.2, 4, 0, 1, 1]]Exp_[0.2857142857142857]_50_10000M_UCB-[4, 1, 1]true_L_None\n"
     ]
    },
    {
     "data": {
      "application/vnd.jupyter.widget-view+json": {
       "model_id": "c4ddbfe23c9a467ca2515225cf1cec03",
       "version_major": 2,
       "version_minor": 0
      },
      "text/plain": [
       "IntProgress(value=0, description='Running', max=50)"
      ]
     },
     "metadata": {},
     "output_type": "display_data"
    }
   ],
   "source": [
    "# True L\n",
    "run_exper(results_est_L, rewards_env, hyperpara_list, num_exper, num_rounds, M_UCB, medians, est_flags = [False])"
   ]
  },
  {
   "cell_type": "code",
   "execution_count": 16,
   "metadata": {},
   "outputs": [
    {
     "data": {
      "image/png": "[encoded data removed]",
      "text/plain": [
       "<Figure size 864x216 with 1 Axes>"
      ]
     },
     "metadata": {
      "needs_background": "light"
     },
     "output_type": "display_data"
    }
   ],
   "source": [
    "plot_eva(results_est_L, 'sd', paper_flag = False)"
   ]
  },
  {
   "cell_type": "markdown",
   "metadata": {},
   "source": [
    "As we expected, the \"True L\" group gives the best performance. \n",
    "The estimated L (same as main paper results) and the fixed estimated $\\hat{L}_i$ at 200th iteration give similar performance. \n",
    "\"L\\_at\\_200\" has a slightly better performance at the beginning, which is because it gets rid of the error caused by very poor estimations at the first 200 iterations. \n",
    "Note the gap between the \"Estimated L\" and \"True L\" group is about 500 draws, which is caused by the poor estimation at the beginning state. \n",
    "The increase rates of sub-optimal draws are similar to both groups in the later iterations. \n",
    "The \"L\\_at\\_10\" group has the worst performance, where the gap between it and the \"Estimated L\" group is also about 500 draws. \n",
    "The increase rate of \"L\\_at\\_10\" group remains a little bit higher than other groups. \n",
    "\n",
    "From the above comparison, being able to estimate the lower bound of hazard rate correctly allows the algorithm to converge faster and therefore to achieve a smaller number of sub-optimal draws. \n",
    "However, the algorithm is not highly sensitive to the estimation of lower bound of hazard rate. Even if we use a very poor estimation of $\\hat{L}_i$ (L\\_at\\_10), we are still able to achieve a reasonable convergence. "
   ]
  },
  {
   "cell_type": "markdown",
   "metadata": {},
   "source": [
    "## Hyperparameter choices"
   ]
  },
  {
   "cell_type": "markdown",
   "metadata": {},
   "source": [
    "Our policy has two hyper-parameters: $\\alpha$ and $\\beta$. Since our proof is constrained as $\\beta = 1$ and $\\alpha > 1$, we use $\\beta = 1$ for our practical tests. For the choice of $\\alpha$, intuitively, we would like to use a higher value of $\\alpha$ for the environments needed more exploration (e.g. small gaps between medians, high variance). We set $\\alpha = 1.5, 2, 4, 10$. We observe that the performance is not sensitive to the value of $\\alpha$, where the sub-optimal draws decreases when $\\alpha$ becomes smaller. "
   ]
  },
  {
   "cell_type": "code",
   "execution_count": 21,
   "metadata": {},
   "outputs": [
    {
     "name": "stdout",
     "output_type": "stream",
     "text": [
      "Mixture_AbsGau_[[3, 1, 0, 1, 1], [1.2, 4, 0, 1, 1]]Exp_[0.2857142857142857]_50_10000M_UCB-[1.5, 1, 1]est_L_None\n"
     ]
    },
    {
     "data": {
      "application/vnd.jupyter.widget-view+json": {
       "model_id": "1e41d42a57f04280b8c34e121e8a0f9d",
       "version_major": 2,
       "version_minor": 0
      },
      "text/plain": [
       "IntProgress(value=0, description='Running', max=50)"
      ]
     },
     "metadata": {},
     "output_type": "display_data"
    },
    {
     "name": "stdout",
     "output_type": "stream",
     "text": [
      "Mixture_AbsGau_[[3, 1, 0, 1, 1], [1.2, 4, 0, 1, 1]]Exp_[0.2857142857142857]_50_10000M_UCB-[2, 1, 1]est_L_None\n"
     ]
    },
    {
     "data": {
      "application/vnd.jupyter.widget-view+json": {
       "model_id": "b9fda4c0468d48f5ab62c43b134e71d9",
       "version_major": 2,
       "version_minor": 0
      },
      "text/plain": [
       "IntProgress(value=0, description='Running', max=50)"
      ]
     },
     "metadata": {},
     "output_type": "display_data"
    },
    {
     "name": "stdout",
     "output_type": "stream",
     "text": [
      "Mixture_AbsGau_[[3, 1, 0, 1, 1], [1.2, 4, 0, 1, 1]]Exp_[0.2857142857142857]_50_10000M_UCB-[4, 1, 1]est_L_None\n"
     ]
    },
    {
     "data": {
      "application/vnd.jupyter.widget-view+json": {
       "model_id": "c3be91ef0a954d0ca1023f32b4df3279",
       "version_major": 2,
       "version_minor": 0
      },
      "text/plain": [
       "IntProgress(value=0, description='Running', max=50)"
      ]
     },
     "metadata": {},
     "output_type": "display_data"
    },
    {
     "name": "stdout",
     "output_type": "stream",
     "text": [
      "Mixture_AbsGau_[[3, 1, 0, 1, 1], [1.2, 4, 0, 1, 1]]Exp_[0.2857142857142857]_50_10000M_UCB-[10, 1, 1]est_L_None\n"
     ]
    },
    {
     "data": {
      "application/vnd.jupyter.widget-view+json": {
       "model_id": "0dd5f1a884944649a8f31d6ee31c1c55",
       "version_major": 2,
       "version_minor": 0
      },
      "text/plain": [
       "IntProgress(value=0, description='Running', max=50)"
      ]
     },
     "metadata": {},
     "output_type": "display_data"
    }
   ],
   "source": [
    "results_hyperpara = defaultdict(dict)\n",
    "\n",
    "hyperpara_list = [[1.5,1,1], [2,1,1], [4,1,1], [10,1,1]]\n",
    "run_exper(results_hyperpara, rewards_env, hyperpara_list, num_exper, num_rounds, M_UCB, medians, fixed_L = None)"
   ]
  },
  {
   "cell_type": "code",
   "execution_count": 22,
   "metadata": {},
   "outputs": [
    {
     "data": {
      "image/png": "[encoded data removed]",
      "text/plain": [
       "<Figure size 864x216 with 1 Axes>"
      ]
     },
     "metadata": {
      "needs_background": "light"
     },
     "output_type": "display_data"
    }
   ],
   "source": [
    "plot_eva(results_hyperpara, 'sd', paper_flag = False)"
   ]
  },
  {
   "cell_type": "markdown",
   "metadata": {},
   "source": [
    "## More arms"
   ]
  },
  {
   "cell_type": "markdown",
   "metadata": {},
   "source": [
    "We analysed the dependence of our algorithm on the number of arms $K$. We show the expected sub-optimal draws of our algorithm and U-UCB after 10,000 iterations for $K$ from 3 to 10. The simulation environment of the first three arms remains the same as the one we use in the main paper, the rest arms are an absolute Gaussian with mean 1.2 and standard deviation 4 (the same as Arm B). "
   ]
  },
  {
   "cell_type": "code",
   "execution_count": 19,
   "metadata": {},
   "outputs": [],
   "source": [
    "# setting\n",
    "\n",
    "num_exper = 100\n",
    "num_rounds = 10000\n",
    "\n",
    "est_flag = True # estimate the lower bound of hazard rate L\n",
    "\n",
    "# environment\n",
    "\n",
    "# more arm iwth Mixture_AbsGau\n",
    "more_arms = [[1.2, 4, 0, 1, 1], [1.2, 4, 0, 1, 1],[1.2, 4, 0, 1, 1],[1.2, 4, 0, 1, 1], [1.2, 4, 0, 1, 1], [1.2, 4, 0, 1, 1], [1.2, 4, 0, 1, 1], [1.2, 4, 0, 1, 1]]\n",
    "\n",
    "\n",
    "def run_exper(results, more_arms, hyperpara_list, num_exper, num_rounds, policy, summary_stats, est_flags = [est_flag], fixed_L = None):\n",
    "    for i in range(3, 3 + len(more_arms)):\n",
    "        environments = {Mixture_AbsGau: [[3, 1, 0,1, 1], [1.2, 4, 0, 1, 1]] + more_arms[: i -3], Exp: [1/3.5]}, # mu1, sigma1, mu2, sigma2, p\n",
    "        rewards_env, medians, means, mvs, samples = setup_env(i, environments)\n",
    "\n",
    "        for key in rewards_env.keys():\n",
    "            if summary_stats == 'medians':\n",
    "                metric = list(np.around(np.array(medians[key]),2))\n",
    "            elif summary_stats == 'means':\n",
    "                metric = list(np.around(np.array(means[key]),2))\n",
    "            for hyperpara in hyperpara_list:\n",
    "                for est_flag in est_flags:\n",
    "                    policy_name = str(policy).split('.')[-1].split('\\'')[0] \n",
    "                    name = key + '_' + str(num_exper) + '_' + str(num_rounds) + '_' + str(i)+ 'arms-' \n",
    "                    subname = policy_name  +  str(hyperpara) \n",
    "                    print(name + subname)\n",
    "                    p = IntProgress(max = num_exper)\n",
    "                    p.description = 'Running'\n",
    "                    display(p)\n",
    "                    results[name][subname]= simulate(rewards_env[key],metric, policy, num_exper, num_rounds, est_flag, hyperpara, fixed_L, p)"
   ]
  },
  {
   "cell_type": "code",
   "execution_count": 20,
   "metadata": {},
   "outputs": [
    {
     "name": "stdout",
     "output_type": "stream",
     "text": [
      "Mixture_AbsGau_[[3, 1, 0, 1, 1], [1.2, 4, 0, 1, 1]]Exp_[0.2857142857142857]_100_10000_3arms-M_UCB[4, 1, 1]\n"
     ]
    },
    {
     "data": {
      "application/vnd.jupyter.widget-view+json": {
       "model_id": "60353caa36dd4e16a51375d36b8da498",
       "version_major": 2,
       "version_minor": 0
      },
      "text/plain": [
       "IntProgress(value=0, description='Running')"
      ]
     },
     "metadata": {},
     "output_type": "display_data"
    },
    {
     "name": "stdout",
     "output_type": "stream",
     "text": [
      "Mixture_AbsGau_[[3, 1, 0, 1, 1], [1.2, 4, 0, 1, 1], [1.2, 4, 0, 1, 1]]Exp_[0.2857142857142857]_100_10000_4arms-M_UCB[4, 1, 1]\n"
     ]
    },
    {
     "data": {
      "application/vnd.jupyter.widget-view+json": {
       "model_id": "ef60ef1a33c0449189a6fc3ac61e990c",
       "version_major": 2,
       "version_minor": 0
      },
      "text/plain": [
       "IntProgress(value=0, description='Running')"
      ]
     },
     "metadata": {},
     "output_type": "display_data"
    },
    {
     "name": "stdout",
     "output_type": "stream",
     "text": [
      "Mixture_AbsGau_[[3, 1, 0, 1, 1], [1.2, 4, 0, 1, 1], [1.2, 4, 0, 1, 1], [1.2, 4, 0, 1, 1]]Exp_[0.2857142857142857]_100_10000_5arms-M_UCB[4, 1, 1]\n"
     ]
    },
    {
     "data": {
      "application/vnd.jupyter.widget-view+json": {
       "model_id": "0c4b22a3fcfc49b4bfd9b3dca944ce6c",
       "version_major": 2,
       "version_minor": 0
      },
      "text/plain": [
       "IntProgress(value=0, description='Running')"
      ]
     },
     "metadata": {},
     "output_type": "display_data"
    },
    {
     "name": "stdout",
     "output_type": "stream",
     "text": [
      "Mixture_AbsGau_[[3, 1, 0, 1, 1], [1.2, 4, 0, 1, 1], [1.2, 4, 0, 1, 1], [1.2, 4, 0, 1, 1], [1.2, 4, 0, 1, 1]]Exp_[0.2857142857142857]_100_10000_6arms-M_UCB[4, 1, 1]\n"
     ]
    },
    {
     "data": {
      "application/vnd.jupyter.widget-view+json": {
       "model_id": "140033da7c7e4c38af46760785b80c2e",
       "version_major": 2,
       "version_minor": 0
      },
      "text/plain": [
       "IntProgress(value=0, description='Running')"
      ]
     },
     "metadata": {},
     "output_type": "display_data"
    },
    {
     "name": "stdout",
     "output_type": "stream",
     "text": [
      "Mixture_AbsGau_[[3, 1, 0, 1, 1], [1.2, 4, 0, 1, 1], [1.2, 4, 0, 1, 1], [1.2, 4, 0, 1, 1], [1.2, 4, 0, 1, 1], [1.2, 4, 0, 1, 1]]Exp_[0.2857142857142857]_100_10000_7arms-M_UCB[4, 1, 1]\n"
     ]
    },
    {
     "data": {
      "application/vnd.jupyter.widget-view+json": {
       "model_id": "4bf7a0b320f14a43a72fe5bcb4ac3b86",
       "version_major": 2,
       "version_minor": 0
      },
      "text/plain": [
       "IntProgress(value=0, description='Running')"
      ]
     },
     "metadata": {},
     "output_type": "display_data"
    },
    {
     "name": "stdout",
     "output_type": "stream",
     "text": [
      "Mixture_AbsGau_[[3, 1, 0, 1, 1], [1.2, 4, 0, 1, 1], [1.2, 4, 0, 1, 1], [1.2, 4, 0, 1, 1], [1.2, 4, 0, 1, 1], [1.2, 4, 0, 1, 1], [1.2, 4, 0, 1, 1]]Exp_[0.2857142857142857]_100_10000_8arms-M_UCB[4, 1, 1]\n"
     ]
    },
    {
     "data": {
      "application/vnd.jupyter.widget-view+json": {
       "model_id": "44af71fa41044ce284076c3097680339",
       "version_major": 2,
       "version_minor": 0
      },
      "text/plain": [
       "IntProgress(value=0, description='Running')"
      ]
     },
     "metadata": {},
     "output_type": "display_data"
    },
    {
     "name": "stdout",
     "output_type": "stream",
     "text": [
      "Mixture_AbsGau_[[3, 1, 0, 1, 1], [1.2, 4, 0, 1, 1], [1.2, 4, 0, 1, 1], [1.2, 4, 0, 1, 1], [1.2, 4, 0, 1, 1], [1.2, 4, 0, 1, 1], [1.2, 4, 0, 1, 1], [1.2, 4, 0, 1, 1]]Exp_[0.2857142857142857]_100_10000_9arms-M_UCB[4, 1, 1]\n"
     ]
    },
    {
     "data": {
      "application/vnd.jupyter.widget-view+json": {
       "model_id": "c1375f0605a94d83bc9764303d8ddb02",
       "version_major": 2,
       "version_minor": 0
      },
      "text/plain": [
       "IntProgress(value=0, description='Running')"
      ]
     },
     "metadata": {},
     "output_type": "display_data"
    },
    {
     "name": "stdout",
     "output_type": "stream",
     "text": [
      "Mixture_AbsGau_[[3, 1, 0, 1, 1], [1.2, 4, 0, 1, 1], [1.2, 4, 0, 1, 1], [1.2, 4, 0, 1, 1], [1.2, 4, 0, 1, 1], [1.2, 4, 0, 1, 1], [1.2, 4, 0, 1, 1], [1.2, 4, 0, 1, 1], [1.2, 4, 0, 1, 1]]Exp_[0.2857142857142857]_100_10000_10arms-M_UCB[4, 1, 1]\n"
     ]
    },
    {
     "data": {
      "application/vnd.jupyter.widget-view+json": {
       "model_id": "9ea52b996daa4ba5a95b412e28650512",
       "version_major": 2,
       "version_minor": 0
      },
      "text/plain": [
       "IntProgress(value=0, description='Running')"
      ]
     },
     "metadata": {},
     "output_type": "display_data"
    }
   ],
   "source": [
    "results_more_arms = defaultdict(dict)\n",
    "\n",
    "# M-UCB\n",
    "\n",
    "hyperpara_list = [[4,1,1]]\n",
    "\n",
    "\n",
    "run_exper(results_more_arms, more_arms, hyperpara_list, num_exper, num_rounds, M_UCB, 'medians')"
   ]
  },
  {
   "cell_type": "code",
   "execution_count": 21,
   "metadata": {},
   "outputs": [
    {
     "name": "stdout",
     "output_type": "stream",
     "text": [
      "Mixture_AbsGau_[[3, 1, 0, 1, 1], [1.2, 4, 0, 1, 1]]Exp_[0.2857142857142857]_100_10000_3arms-U_UCB[4]\n"
     ]
    },
    {
     "data": {
      "application/vnd.jupyter.widget-view+json": {
       "model_id": "7b07d850ccad47c797af93a3b00cec89",
       "version_major": 2,
       "version_minor": 0
      },
      "text/plain": [
       "IntProgress(value=0, description='Running')"
      ]
     },
     "metadata": {},
     "output_type": "display_data"
    },
    {
     "name": "stdout",
     "output_type": "stream",
     "text": [
      "Mixture_AbsGau_[[3, 1, 0, 1, 1], [1.2, 4, 0, 1, 1], [1.2, 4, 0, 1, 1]]Exp_[0.2857142857142857]_100_10000_4arms-U_UCB[4]\n"
     ]
    },
    {
     "data": {
      "application/vnd.jupyter.widget-view+json": {
       "model_id": "d11b56308d0b49e2833551d7ff9d8063",
       "version_major": 2,
       "version_minor": 0
      },
      "text/plain": [
       "IntProgress(value=0, description='Running')"
      ]
     },
     "metadata": {},
     "output_type": "display_data"
    },
    {
     "name": "stdout",
     "output_type": "stream",
     "text": [
      "Mixture_AbsGau_[[3, 1, 0, 1, 1], [1.2, 4, 0, 1, 1], [1.2, 4, 0, 1, 1], [1.2, 4, 0, 1, 1]]Exp_[0.2857142857142857]_100_10000_5arms-U_UCB[4]\n"
     ]
    },
    {
     "data": {
      "application/vnd.jupyter.widget-view+json": {
       "model_id": "49bb3500cb3b49af8bf1f47effaedc6a",
       "version_major": 2,
       "version_minor": 0
      },
      "text/plain": [
       "IntProgress(value=0, description='Running')"
      ]
     },
     "metadata": {},
     "output_type": "display_data"
    },
    {
     "name": "stdout",
     "output_type": "stream",
     "text": [
      "Mixture_AbsGau_[[3, 1, 0, 1, 1], [1.2, 4, 0, 1, 1], [1.2, 4, 0, 1, 1], [1.2, 4, 0, 1, 1], [1.2, 4, 0, 1, 1]]Exp_[0.2857142857142857]_100_10000_6arms-U_UCB[4]\n"
     ]
    },
    {
     "data": {
      "application/vnd.jupyter.widget-view+json": {
       "model_id": "055e3e32059b43afa81f0417d297aff2",
       "version_major": 2,
       "version_minor": 0
      },
      "text/plain": [
       "IntProgress(value=0, description='Running')"
      ]
     },
     "metadata": {},
     "output_type": "display_data"
    },
    {
     "name": "stdout",
     "output_type": "stream",
     "text": [
      "Mixture_AbsGau_[[3, 1, 0, 1, 1], [1.2, 4, 0, 1, 1], [1.2, 4, 0, 1, 1], [1.2, 4, 0, 1, 1], [1.2, 4, 0, 1, 1], [1.2, 4, 0, 1, 1]]Exp_[0.2857142857142857]_100_10000_7arms-U_UCB[4]\n"
     ]
    },
    {
     "data": {
      "application/vnd.jupyter.widget-view+json": {
       "model_id": "368adbe1b9a448149b260f04fb513991",
       "version_major": 2,
       "version_minor": 0
      },
      "text/plain": [
       "IntProgress(value=0, description='Running')"
      ]
     },
     "metadata": {},
     "output_type": "display_data"
    },
    {
     "name": "stdout",
     "output_type": "stream",
     "text": [
      "Mixture_AbsGau_[[3, 1, 0, 1, 1], [1.2, 4, 0, 1, 1], [1.2, 4, 0, 1, 1], [1.2, 4, 0, 1, 1], [1.2, 4, 0, 1, 1], [1.2, 4, 0, 1, 1], [1.2, 4, 0, 1, 1]]Exp_[0.2857142857142857]_100_10000_8arms-U_UCB[4]\n"
     ]
    },
    {
     "data": {
      "application/vnd.jupyter.widget-view+json": {
       "model_id": "73ee614162004761be02b8b528ca3ede",
       "version_major": 2,
       "version_minor": 0
      },
      "text/plain": [
       "IntProgress(value=0, description='Running')"
      ]
     },
     "metadata": {},
     "output_type": "display_data"
    },
    {
     "name": "stdout",
     "output_type": "stream",
     "text": [
      "Mixture_AbsGau_[[3, 1, 0, 1, 1], [1.2, 4, 0, 1, 1], [1.2, 4, 0, 1, 1], [1.2, 4, 0, 1, 1], [1.2, 4, 0, 1, 1], [1.2, 4, 0, 1, 1], [1.2, 4, 0, 1, 1], [1.2, 4, 0, 1, 1]]Exp_[0.2857142857142857]_100_10000_9arms-U_UCB[4]\n"
     ]
    },
    {
     "data": {
      "application/vnd.jupyter.widget-view+json": {
       "model_id": "16870a29158e485482c737f0bbe5c160",
       "version_major": 2,
       "version_minor": 0
      },
      "text/plain": [
       "IntProgress(value=0, description='Running')"
      ]
     },
     "metadata": {},
     "output_type": "display_data"
    },
    {
     "name": "stdout",
     "output_type": "stream",
     "text": [
      "Mixture_AbsGau_[[3, 1, 0, 1, 1], [1.2, 4, 0, 1, 1], [1.2, 4, 0, 1, 1], [1.2, 4, 0, 1, 1], [1.2, 4, 0, 1, 1], [1.2, 4, 0, 1, 1], [1.2, 4, 0, 1, 1], [1.2, 4, 0, 1, 1], [1.2, 4, 0, 1, 1]]Exp_[0.2857142857142857]_100_10000_10arms-U_UCB[4]\n"
     ]
    },
    {
     "data": {
      "application/vnd.jupyter.widget-view+json": {
       "model_id": "435b0eb10a6f41e883fa2d0dda6a363a",
       "version_major": 2,
       "version_minor": 0
      },
      "text/plain": [
       "IntProgress(value=0, description='Running')"
      ]
     },
     "metadata": {},
     "output_type": "display_data"
    }
   ],
   "source": [
    "# U-UCB\n",
    "\n",
    "hyperpara_list = [[4]]\n",
    "run_exper(results_more_arms, more_arms, hyperpara_list, num_exper, num_rounds, U_UCB, 'medians')"
   ]
  },
  {
   "cell_type": "code",
   "execution_count": 22,
   "metadata": {},
   "outputs": [
    {
     "data": {
      "image/png": "[encoded data removed]",
      "text/plain": [
       "<Figure size 864x1728 with 1 Axes>"
      ]
     },
     "metadata": {
      "needs_background": "light"
     },
     "output_type": "display_data"
    }
   ],
   "source": [
    "from codes.plots import plot_eva_num_arms\n",
    "\n",
    "plot_eva_num_arms(results_more_arms, 'sd', mean_at = 4500, paper_flag = False)"
   ]
  },
  {
   "cell_type": "markdown",
   "metadata": {},
   "source": [
    "The empirical results show that the expected sub-optimal draws grow linearly with the number of arms for our policy, which is the same as what our bound predicts. Moreover, Our algorithm significantly outperforms U-UCB, although the sub-optimal arms of U-UCB grow in logarithmic rate when the number of arms is smaller than 6. "
   ]
  },
  {
   "cell_type": "markdown",
   "metadata": {},
   "source": [
    "## Save results"
   ]
  },
  {
   "cell_type": "code",
   "execution_count": 23,
   "metadata": {},
   "outputs": [],
   "source": [
    "import pickle\n",
    "\n",
    "with open('results_more_arms.pickle', 'wb') as handle:\n",
    "    pickle.dump(results_more_arms, handle, protocol=pickle.HIGHEST_PROTOCOL)"
   ]
  },
  {
   "cell_type": "code",
   "execution_count": 23,
   "metadata": {},
   "outputs": [],
   "source": [
    "with open('results_hyperpara.pickle', 'wb') as handle:\n",
    "    pickle.dump(results_hyperpara, handle, protocol=pickle.HIGHEST_PROTOCOL)"
   ]
  },
  {
   "cell_type": "code",
   "execution_count": 20,
   "metadata": {},
   "outputs": [],
   "source": [
    "with open('results_est_L.pickle', 'wb') as handle:\n",
    "    pickle.dump(results_est_L, handle, protocol=pickle.HIGHEST_PROTOCOL)"
   ]
  },
  {
   "cell_type": "code",
   "execution_count": null,
   "metadata": {},
   "outputs": [],
   "source": []
  }
 ],
 "metadata": {
  "kernelspec": {
   "display_name": "Python 3",
   "language": "python",
   "name": "python3"
  },
  "language_info": {
   "codemirror_mode": {
    "name": "ipython",
    "version": 3
   },
   "file_extension": ".py",
   "mimetype": "text/x-python",
   "name": "python",
   "nbconvert_exporter": "python",
   "pygments_lexer": "ipython3",
   "version": "3.7.3"
  }
 },
 "nbformat": 4,
 "nbformat_minor": 2
}
