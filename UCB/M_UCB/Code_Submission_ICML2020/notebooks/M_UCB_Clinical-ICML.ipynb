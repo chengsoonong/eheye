{
 "cells": [
  {
   "cell_type": "markdown",
   "metadata": {},
   "source": [
    "# Median-based Bandits with Unbounded Rewards\n",
    "\n",
    "We consider the class of upper confidence bound bandit algorithms for sequential experiment design problems.\n",
    "We propose a policy, $\\textit{Median-based Upper Confidence Bound}$ (M-UCB), based on the empirical median, that is robust to skewed distributions and outliers. In each round ${t}$ ($t > K$), pick an arm with index\n",
    "\n",
    "$$argmax_{i \\in \\mathcal{K}} \\underbrace{\\hat{m}_{i, T_i(t-1)}}_{\\substack{\\text{Empirical} \\\\ \\text{Median}}} + \\beta  \\underbrace{\\left(\\sqrt{2v_{i,t} \\varepsilon_t} + 2 \\varepsilon_t \\sqrt{\\frac{v_{i,t}}{T_i(t-1)}}\\right)}_{\\text{Confidence Width}},$$\n",
    "\n",
    "\n",
    "where $T_i(t-1)$ is the number of times arm $i$ has been played during first $t-1$ rounds, exploration factor $\\varepsilon_t = \\alpha \\log t$ with $\\alpha$ controlling the exploration rate, hazard factor $v_{i,t} = \\frac{4 }{T_i(t-1) \\hat{L}_{i,T_i(t-1)}^2}$, with $\\hat{L}_{i, T_i(t-1)}$ as the lower bound estimation of hazard rate for reward distribution of arm $i$ at the round $t$.\n",
    "    $\\beta$ is a hyper-parameter balancing the empirical median and confidence width."
   ]
  },
  {
   "cell_type": "code",
   "execution_count": 1,
   "metadata": {},
   "outputs": [],
   "source": [
    "# direct to proper path\n",
    "import os\n",
    "import sys\n",
    "module_path = os.path.abspath(os.path.join('..'))\n",
    "if module_path not in sys.path:\n",
    "    sys.path.append(module_path)"
   ]
  },
  {
   "cell_type": "code",
   "execution_count": 2,
   "metadata": {},
   "outputs": [],
   "source": [
    "import numpy as np\n",
    "import pandas as pd\n",
    "from ipywidgets import IntProgress\n",
    "from IPython.display import display\n",
    "import matplotlib.pyplot as plt\n",
    "from collections import defaultdict\n",
    "import seaborn as sns\n",
    "import pickle\n",
    "from prettytable import PrettyTable\n",
    "\n",
    "from codes.UCB_discrete import M_UCB, UCB1, UCB_V, MV_LCB, Exp3, U_UCB, Median_of_Means_UCB, epsilon_greedy\n",
    "from codes.Environment import Clinical_env\n",
    "from codes.SimulatedGames import simulate\n",
    "from codes.plots import plot_eva_for_clinical\n",
    "\n",
    "%matplotlib inline"
   ]
  },
  {
   "cell_type": "markdown",
   "metadata": {},
   "source": [
    "## Effect of Treatment on Cancer Survival\n",
    "\n",
    "The clinical experiment is a classical example of bandit problems. The type of treatments needs to be determined when patients arrive sequentially and the effectiveness of treatments are initially unknown.\n",
    "Survival analysis with medians and hazard rate are commonly used in clinical experiment analysis.\n",
    "Decision-makers in clinical treatments need to manage risk and maximise the optimal choices (i.e. minimise the number of sub-optimal choices).\n",
    "Furthermore, empirical medians (the basis of our approach) are robust against positively skewed distributions.\n",
    "\n",
    "We use two clinical datasets from [Broad Institute Firehouse](https://gdac.broadinstitute.org/), namely the Glinoma dataset, and the Stomach and Esophageal carcinoma (STES) dataset.\n",
    "These were chosen because they have a large number of samples.\n",
    "For both datasets, there are two choices $\\textit{Radiation}$ and $\\textit{No Radiation}$,\n",
    "and the reward is the number of days a patient survives (Survival Days).\n",
    "As patients arrive sequentially, our goal is to minimise the sub-optimal treatment choices."
   ]
  },
  {
   "cell_type": "code",
   "execution_count": 3,
   "metadata": {},
   "outputs": [],
   "source": [
    "FIXED_L = None\n",
    "est_flag = True # estimate lower bound of hazard rate L\n",
    "\n",
    "clinical_envs = defaultdict(list)\n",
    "medians = defaultdict(list)\n",
    "means = defaultdict(list)\n",
    "\n",
    "num_rounds = 10000\n",
    "num_exper = 50\n",
    "num_arms = 2"
   ]
  },
  {
   "cell_type": "code",
   "execution_count": 4,
   "metadata": {},
   "outputs": [],
   "source": [
    "def read_data(data_path):\n",
    "    \"\"\"Read data from txt file.\n",
    "    \n",
    "    return\n",
    "    -------------------------------------\n",
    "    env_data: dataframe\n",
    "         two columns: arms (yes; no); \n",
    "                     rewards (positive int, survival days)\n",
    "    \"\"\"\n",
    "    data = pd.read_csv(data_path, delimiter= \"\\t\", header = 0)\n",
    "    data = data.T\n",
    "    data.columns = data.iloc[0]\n",
    "    data = data.drop(data.index[0])\n",
    "\n",
    "    env_data = data[['radiation_therapy', 'days_to_death']]\n",
    "    env_data = env_data.rename(columns = {'radiation_therapy': 'arms', 'days_to_death': 'rewards'})\n",
    "\n",
    "    return env_data"
   ]
  },
  {
   "cell_type": "code",
   "execution_count": 5,
   "metadata": {},
   "outputs": [],
   "source": [
    "def setup_env(data, data_name):\n",
    "    \"\"\"Setup environment for clinical data.\n",
    "    \n",
    "    Parameters\n",
    "    ----------------------------------------------------\n",
    "    data: dataframe\n",
    "        two columns: arms (yes; no); \n",
    "                     rewards (positive int, survival days)\n",
    "    data_name: string\n",
    "        name for clinical data, use for keys of dictionaries\n",
    "        \n",
    "    Return\n",
    "    ----------------------------------------------------\n",
    "    Rad: array \n",
    "        rewards (days of survival) when patients choose radiations\n",
    "    NoRad: array\n",
    "        rewards (days of survival) when patients choose no radiations\n",
    "    \"\"\"\n",
    "    Rad = data.groupby(['arms']).get_group('yes')['rewards'] # Radiation \n",
    "    NoRad = data.groupby(['arms']).get_group('no')['rewards'] # No Radiation\n",
    "    \n",
    "    # Drop NaN\n",
    "    Rad = np.asarray(Rad.dropna(), dtype = int) /30.0 # convert days to months\n",
    "    NoRad = np.asarray(NoRad.dropna(), dtype = int) /30.0\n",
    "    \n",
    "    # Setup global variables\n",
    "    clinical_envs[data_name] = [Clinical_env(NoRad), Clinical_env(Rad)]\n",
    "    medians[data_name] = [np.median(NoRad),np.median(Rad)]\n",
    "    \n",
    "    return Rad, NoRad"
   ]
  },
  {
   "cell_type": "code",
   "execution_count": 6,
   "metadata": {},
   "outputs": [],
   "source": [
    "def show_data(Rad, NoRad, data_name):\n",
    "    plt.figure(figsize=(5 * 3 , 4))\n",
    "    plt.subplot(1,3,1)\n",
    "    print('For ', data_name, ' dataset:')\n",
    "    print('The number of samples with radiation: ', len(Rad))\n",
    "    print('Median: ', np.median(Rad), ' Mean: ', np.mean(Rad))\n",
    "    print()\n",
    "    print('The number of samples without radiation: ', len(NoRad))\n",
    "    print('Medians: ', np.median(NoRad), ' Mean: ', np.mean(NoRad))\n",
    "    \n",
    "    num_bins = int(max(max(Rad), max(NoRad))/6) # one bin represents half year\n",
    "    #num_bins = 15\n",
    "    sns.distplot(Rad, bins = num_bins, label = 'Radiation', norm_hist=True, kde = False)\n",
    "    sns.distplot(NoRad, bins = num_bins, label = 'No Radiation', norm_hist=True, kde = False)\n",
    "    \n",
    "    plt.xlim(-5,110)\n",
    "    plt.ylim(0, 15 * 1e-2)\n",
    "    \n",
    "    plt.xlabel('Survival Months')\n",
    "    plt.ylabel('Frequency')\n",
    "    plt.ticklabel_format(style='sci', axis='y', scilimits=(0,0))\n",
    "    title_name = data_name + ' Treatment Histogram'\n",
    "    plt.title(title_name)\n",
    "    plt.legend()\n",
    "    # plt.savefig(title_name + '.pdf', bbox_inches='tight')"
   ]
  },
  {
   "cell_type": "markdown",
   "metadata": {},
   "source": [
    "### Glinoma Dataset"
   ]
  },
  {
   "cell_type": "code",
   "execution_count": 7,
   "metadata": {},
   "outputs": [
    {
     "data": {
      "text/html": [
       "<div>\n",
       "<style scoped>\n",
       "    .dataframe tbody tr th:only-of-type {\n",
       "        vertical-align: middle;\n",
       "    }\n",
       "\n",
       "    .dataframe tbody tr th {\n",
       "        vertical-align: top;\n",
       "    }\n",
       "\n",
       "    .dataframe thead th {\n",
       "        text-align: right;\n",
       "    }\n",
       "</style>\n",
       "<table border=\"1\" class=\"dataframe\">\n",
       "  <thead>\n",
       "    <tr style=\"text-align: right;\">\n",
       "      <th>Hybridization REF</th>\n",
       "      <th>arms</th>\n",
       "      <th>rewards</th>\n",
       "    </tr>\n",
       "  </thead>\n",
       "  <tbody>\n",
       "    <tr>\n",
       "      <th>tcga-06-6391</th>\n",
       "      <td>no</td>\n",
       "      <td>45</td>\n",
       "    </tr>\n",
       "    <tr>\n",
       "      <th>tcga-19-a6j4</th>\n",
       "      <td>NaN</td>\n",
       "      <td>121</td>\n",
       "    </tr>\n",
       "    <tr>\n",
       "      <th>tcga-cs-6665</th>\n",
       "      <td>yes</td>\n",
       "      <td>NaN</td>\n",
       "    </tr>\n",
       "    <tr>\n",
       "      <th>tcga-cs-6670</th>\n",
       "      <td>NaN</td>\n",
       "      <td>NaN</td>\n",
       "    </tr>\n",
       "    <tr>\n",
       "      <th>tcga-db-a4xc</th>\n",
       "      <td>yes</td>\n",
       "      <td>NaN</td>\n",
       "    </tr>\n",
       "  </tbody>\n",
       "</table>\n",
       "</div>"
      ],
      "text/plain": [
       "Hybridization REF arms rewards\n",
       "tcga-06-6391        no      45\n",
       "tcga-19-a6j4       NaN     121\n",
       "tcga-cs-6665       yes     NaN\n",
       "tcga-cs-6670       NaN     NaN\n",
       "tcga-db-a4xc       yes     NaN"
      ]
     },
     "execution_count": 7,
     "metadata": {},
     "output_type": "execute_result"
    }
   ],
   "source": [
    "Glin_path = '../Data/GBMLGG.clin.merged.picked.txt'\n",
    "Glin_data = read_data(Glin_path)\n",
    "Glin_data.head()"
   ]
  },
  {
   "cell_type": "code",
   "execution_count": 8,
   "metadata": {},
   "outputs": [
    {
     "name": "stdout",
     "output_type": "stream",
     "text": [
      "For  Glioma  dataset:\n",
      "The number of samples with radiation:  489\n",
      "Median:  15.6  Mean:  23.73830947511929\n",
      "\n",
      "The number of samples without radiation:  99\n",
      "Medians:  3.7  Mean:  12.828956228956233\n"
     ]
    },
    {
     "data": {
      "image/png": "[encoded data removed]",
      "text/plain": [
       "<Figure size 1080x288 with 1 Axes>"
      ]
     },
     "metadata": {
      "needs_background": "light"
     },
     "output_type": "display_data"
    }
   ],
   "source": [
    "Glin_Rad, Glin_NoRad = setup_env(Glin_data, 'Glioma')\n",
    "show_data(Glin_Rad, Glin_NoRad, 'Glioma')"
   ]
  },
  {
   "cell_type": "markdown",
   "metadata": {},
   "source": [
    "The reward distributions are positively skewed and have outliers in the right tail.\n",
    "A small number of patients survived longer than 100 months which are not shown in the histogram."
   ]
  },
  {
   "cell_type": "markdown",
   "metadata": {},
   "source": [
    "### STES Dataset"
   ]
  },
  {
   "cell_type": "code",
   "execution_count": 9,
   "metadata": {},
   "outputs": [
    {
     "data": {
      "text/html": [
       "<div>\n",
       "<style scoped>\n",
       "    .dataframe tbody tr th:only-of-type {\n",
       "        vertical-align: middle;\n",
       "    }\n",
       "\n",
       "    .dataframe tbody tr th {\n",
       "        vertical-align: top;\n",
       "    }\n",
       "\n",
       "    .dataframe thead th {\n",
       "        text-align: right;\n",
       "    }\n",
       "</style>\n",
       "<table border=\"1\" class=\"dataframe\">\n",
       "  <thead>\n",
       "    <tr style=\"text-align: right;\">\n",
       "      <th>Hybridization REF</th>\n",
       "      <th>arms</th>\n",
       "      <th>rewards</th>\n",
       "    </tr>\n",
       "  </thead>\n",
       "  <tbody>\n",
       "    <tr>\n",
       "      <th>tcga-ic-a6rf</th>\n",
       "      <td>no</td>\n",
       "      <td>NaN</td>\n",
       "    </tr>\n",
       "    <tr>\n",
       "      <th>tcga-jy-a6fb</th>\n",
       "      <td>no</td>\n",
       "      <td>NaN</td>\n",
       "    </tr>\n",
       "    <tr>\n",
       "      <th>tcga-jy-a938</th>\n",
       "      <td>no</td>\n",
       "      <td>NaN</td>\n",
       "    </tr>\n",
       "    <tr>\n",
       "      <th>tcga-l5-a43i</th>\n",
       "      <td>yes</td>\n",
       "      <td>556</td>\n",
       "    </tr>\n",
       "    <tr>\n",
       "      <th>tcga-l5-a43j</th>\n",
       "      <td>NaN</td>\n",
       "      <td>131</td>\n",
       "    </tr>\n",
       "  </tbody>\n",
       "</table>\n",
       "</div>"
      ],
      "text/plain": [
       "Hybridization REF arms rewards\n",
       "tcga-ic-a6rf        no     NaN\n",
       "tcga-jy-a6fb        no     NaN\n",
       "tcga-jy-a938        no     NaN\n",
       "tcga-l5-a43i       yes     556\n",
       "tcga-l5-a43j       NaN     131"
      ]
     },
     "execution_count": 9,
     "metadata": {},
     "output_type": "execute_result"
    }
   ],
   "source": [
    "STES_path = '../Data/STES.clin.merged.picked.txt'\n",
    "STES_data = read_data(STES_path)\n",
    "STES_data.head()"
   ]
  },
  {
   "cell_type": "code",
   "execution_count": 10,
   "metadata": {},
   "outputs": [
    {
     "name": "stdout",
     "output_type": "stream",
     "text": [
      "For  STES  dataset:\n",
      "The number of samples with radiation:  33\n",
      "Median:  14.533333333333333  Mean:  20.177777777777777\n",
      "\n",
      "The number of samples without radiation:  194\n",
      "Medians:  11.433333333333334  Mean:  14.163058419243983\n"
     ]
    },
    {
     "data": {
      "image/png": "[encoded data removed]",
      "text/plain": [
       "<Figure size 1080x288 with 1 Axes>"
      ]
     },
     "metadata": {
      "needs_background": "light"
     },
     "output_type": "display_data"
    }
   ],
   "source": [
    "STES_Rad, STES_NoRad = setup_env(STES_data, 'STES')\n",
    "show_data(STES_Rad, STES_NoRad, 'STES')"
   ]
  },
  {
   "cell_type": "markdown",
   "metadata": {},
   "source": [
    "### Experiments"
   ]
  },
  {
   "cell_type": "markdown",
   "metadata": {},
   "source": [
    "We repeat our experiment 50 times, each with 10,000 rounds where we sample from\n",
    "the database of records with replacement."
   ]
  },
  {
   "cell_type": "code",
   "execution_count": 11,
   "metadata": {},
   "outputs": [],
   "source": [
    "def run_exper(rewards_env, hyperpara_list, num_exper, num_rounds, policy, summary_stats, est_flags = [est_flag]):\n",
    "    for key in rewards_env.keys():\n",
    "        for hyperpara in hyperpara_list:\n",
    "            for est_flag in est_flags:\n",
    "                name = key + '_' + str(num_exper) + '_' + str(num_rounds)\n",
    "                policy_name = str(policy).split('.')[-1].split('\\'')[0] + '-'\n",
    "                subname = policy_name + str(hyperpara)\n",
    "                print(name + subname)\n",
    "                p = IntProgress(max = num_exper)\n",
    "                p.description = 'Running'\n",
    "                display(p)\n",
    "                results[name][subname] = simulate(rewards_env[key], summary_stats[key], policy, num_exper, num_rounds, est_flag, hyperpara, FIXED_L, p)\n",
    "                \n",
    "def run_exper_diff_para(rewards_env, hyperpara_list, num_exper, num_rounds, policy, summary_stats, est_flags = [est_flag]):\n",
    "    for key in rewards_env.keys():\n",
    "        for est_flag in est_flags:\n",
    "            name = key + '_' + str(num_exper) + '_' + str(num_rounds)\n",
    "            \n",
    "            # setting different parameters for different datasets\n",
    "            if key == 'Glioma':\n",
    "                hyperpara = hyperpara_list[0]\n",
    "            elif key == 'STES':\n",
    "                hyperpara = hyperpara_list[-1]\n",
    "            policy_name = str(policy).split('.')[-1].split('\\'')[0] + '-'\n",
    "\n",
    "            subname = policy_name + str(hyperpara)\n",
    "            print(name + subname)\n",
    "            p = IntProgress(max = num_exper)\n",
    "            p.description = 'Running'\n",
    "            display(p)\n",
    "            results[name][subname]= simulate(rewards_env[key], summary_stats[key], policy, num_exper, num_rounds, est_flag, hyperpara, FIXED_L, p)"
   ]
  },
  {
   "cell_type": "code",
   "execution_count": 12,
   "metadata": {},
   "outputs": [],
   "source": [
    "results = defaultdict(dict)"
   ]
  },
  {
   "cell_type": "code",
   "execution_count": 13,
   "metadata": {},
   "outputs": [
    {
     "name": "stdout",
     "output_type": "stream",
     "text": [
      "Glioma_50_10000M_UCB-[2, 1, 10]\n"
     ]
    },
    {
     "data": {
      "application/vnd.jupyter.widget-view+json": {
       "model_id": "35125a1a292244ce8ca2a98b82f5ed3a",
       "version_major": 2,
       "version_minor": 0
      },
      "text/plain": [
       "IntProgress(value=0, description='Running', max=50)"
      ]
     },
     "metadata": {},
     "output_type": "display_data"
    },
    {
     "name": "stdout",
     "output_type": "stream",
     "text": [
      "STES_50_10000M_UCB-[2, 1, 10]\n"
     ]
    },
    {
     "data": {
      "application/vnd.jupyter.widget-view+json": {
       "model_id": "3ce3062110ae40c4951d97bc9b23cb4e",
       "version_major": 2,
       "version_minor": 0
      },
      "text/plain": [
       "IntProgress(value=0, description='Running', max=50)"
      ]
     },
     "metadata": {},
     "output_type": "display_data"
    },
    {
     "name": "stdout",
     "output_type": "stream",
     "text": [
      "Glioma_50_10000U_UCB-[4]\n"
     ]
    },
    {
     "data": {
      "application/vnd.jupyter.widget-view+json": {
       "model_id": "02d5c470a11b43098b60d2e8aa5ade18",
       "version_major": 2,
       "version_minor": 0
      },
      "text/plain": [
       "IntProgress(value=0, description='Running', max=50)"
      ]
     },
     "metadata": {},
     "output_type": "display_data"
    },
    {
     "name": "stdout",
     "output_type": "stream",
     "text": [
      "STES_50_10000U_UCB-[4]\n"
     ]
    },
    {
     "data": {
      "application/vnd.jupyter.widget-view+json": {
       "model_id": "953089f1110d4e0ca1fbec50916861ab",
       "version_major": 2,
       "version_minor": 0
      },
      "text/plain": [
       "IntProgress(value=0, description='Running', max=50)"
      ]
     },
     "metadata": {},
     "output_type": "display_data"
    },
    {
     "name": "stdout",
     "output_type": "stream",
     "text": [
      "Glioma_50_10000epsilon_greedy-[0.1]\n"
     ]
    },
    {
     "data": {
      "application/vnd.jupyter.widget-view+json": {
       "model_id": "07ebeb5f6efb465ba87dfa4559550659",
       "version_major": 2,
       "version_minor": 0
      },
      "text/plain": [
       "IntProgress(value=0, description='Running', max=50)"
      ]
     },
     "metadata": {},
     "output_type": "display_data"
    },
    {
     "name": "stdout",
     "output_type": "stream",
     "text": [
      "STES_50_10000epsilon_greedy-[0.1]\n"
     ]
    },
    {
     "data": {
      "application/vnd.jupyter.widget-view+json": {
       "model_id": "7411e4cfded5487e8108001683bd8341",
       "version_major": 2,
       "version_minor": 0
      },
      "text/plain": [
       "IntProgress(value=0, description='Running', max=50)"
      ]
     },
     "metadata": {},
     "output_type": "display_data"
    },
    {
     "name": "stdout",
     "output_type": "stream",
     "text": [
      "Glioma_50_10000Median_of_Means_UCB-[10, 1, 1]\n"
     ]
    },
    {
     "data": {
      "application/vnd.jupyter.widget-view+json": {
       "model_id": "1839a9c8081641ebb73c32ef6d00c73e",
       "version_major": 2,
       "version_minor": 0
      },
      "text/plain": [
       "IntProgress(value=0, description='Running', max=50)"
      ]
     },
     "metadata": {},
     "output_type": "display_data"
    },
    {
     "name": "stdout",
     "output_type": "stream",
     "text": [
      "STES_50_10000Median_of_Means_UCB-[10, 1, 1]\n"
     ]
    },
    {
     "data": {
      "application/vnd.jupyter.widget-view+json": {
       "model_id": "09eeea34eee441959b9fbb5d8d630f6d",
       "version_major": 2,
       "version_minor": 0
      },
      "text/plain": [
       "IntProgress(value=0, description='Running', max=50)"
      ]
     },
     "metadata": {},
     "output_type": "display_data"
    },
    {
     "name": "stdout",
     "output_type": "stream",
     "text": [
      "Glioma_50_10000Exp3-[0.5, 0, 180]\n"
     ]
    },
    {
     "data": {
      "application/vnd.jupyter.widget-view+json": {
       "model_id": "e5f8e7e5098b40918a380a0469790667",
       "version_major": 2,
       "version_minor": 0
      },
      "text/plain": [
       "IntProgress(value=0, description='Running', max=50)"
      ]
     },
     "metadata": {},
     "output_type": "display_data"
    },
    {
     "name": "stdout",
     "output_type": "stream",
     "text": [
      "STES_50_10000Exp3-[0.5, 0, 100]\n"
     ]
    },
    {
     "data": {
      "application/vnd.jupyter.widget-view+json": {
       "model_id": "dfa781c37ad64daca7a7d93604003c22",
       "version_major": 2,
       "version_minor": 0
      },
      "text/plain": [
       "IntProgress(value=0, description='Running', max=50)"
      ]
     },
     "metadata": {},
     "output_type": "display_data"
    }
   ],
   "source": [
    "# Our Algorithm: M-UCB\n",
    "\n",
    "hyperpara_list = [[2, 1, 10], [2, 1, 10]]\n",
    "run_exper_diff_para(clinical_envs, hyperpara_list, num_exper, num_rounds, M_UCB, medians)\n",
    "\n",
    "#--------------------------------------------------------------------------------------------------------\n",
    "\n",
    "# Benchmark Algorithms\n",
    "\n",
    "# U-UCB\n",
    "\n",
    "hyperpara_list = [[4]]\n",
    "run_exper(clinical_envs, hyperpara_list, num_exper, num_rounds, U_UCB, medians)\n",
    "\n",
    "# epsilon-greedy\n",
    "\n",
    "hyperpara_list = [[0.1]]\n",
    "run_exper(clinical_envs, hyperpara_list, num_exper, num_rounds, epsilon_greedy, medians)\n",
    "\n",
    "# Median_of_means_UCB\n",
    "\n",
    "hyperpara_list = [[10, 1, 1]]\n",
    "run_exper(clinical_envs, hyperpara_list, num_exper, num_rounds, Median_of_Means_UCB, medians) \n",
    "# median and mean gives the same order\n",
    "\n",
    "# Exp3\n",
    "\n",
    "hyperpara_list = [[0.5, 0, 180], [0.5, 0, 100]]\n",
    "run_exper_diff_para(clinical_envs, hyperpara_list, num_exper, num_rounds, Exp3, medians)\n",
    "# median and mean gives the same order"
   ]
  },
  {
   "cell_type": "code",
   "execution_count": 14,
   "metadata": {},
   "outputs": [],
   "source": [
    "import pickle\n",
    "\n",
    "with open('clinical.pickle', 'wb') as handle:\n",
    "    pickle.dump(results, handle, protocol=pickle.HIGHEST_PROTOCOL)"
   ]
  },
  {
   "cell_type": "code",
   "execution_count": 15,
   "metadata": {},
   "outputs": [
    {
     "data": {
      "image/png": "[encoded data removed]",
      "text/plain": [
       "<Figure size 1080x576 with 2 Axes>"
      ]
     },
     "metadata": {
      "needs_background": "light"
     },
     "output_type": "display_data"
    }
   ],
   "source": [
    "plot_eva_for_clinical(results, 'sd')"
   ]
  },
  {
   "cell_type": "markdown",
   "metadata": {},
   "source": [
    "A small number of patients survived longer than 100 months are not shown in the histogram. Each bin represents half a year of survival. Note the median and mean give same order for both datasets. \n",
    "Our policy outperforms other algorithms, where U-UCB has a similar but slightly worse performance. The reason the difference between our method M-UCB and U-UCB is smaller here is that the gap between medians of different arms is bigger here.\n",
    "We choose a smaller parameter $\\alpha$, since less exploration is needed when the gap of medians is big. "
   ]
  },
  {
   "cell_type": "code",
   "execution_count": null,
   "metadata": {},
   "outputs": [],
   "source": []
  }
 ],
 "metadata": {
  "kernelspec": {
   "display_name": "Python 3",
   "language": "python",
   "name": "python3"
  },
  "language_info": {
   "codemirror_mode": {
    "name": "ipython",
    "version": 3
   },
   "file_extension": ".py",
   "mimetype": "text/x-python",
   "name": "python",
   "nbconvert_exporter": "python",
   "pygments_lexer": "ipython3",
   "version": "3.7.3"
  }
 },
 "nbformat": 4,
 "nbformat_minor": 2
}
