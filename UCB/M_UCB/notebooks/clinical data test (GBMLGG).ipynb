{
 "cells": [
  {
   "cell_type": "code",
   "execution_count": 1,
   "metadata": {},
   "outputs": [],
   "source": [
    "import pandas as pd\n",
    "import matplotlib.pyplot as plt\n",
    "import numpy as np\n",
    "from UCB_discrete import H_UCB, UCB1, UCB_V, MV_LCB, MARAB, Exp3\n",
    "from collections import defaultdict\n",
    "from Environment import Clinical_env\n",
    "from SimulatedGames import simulate\n",
    "from ipywidgets import IntProgress\n",
    "from IPython.display import display\n",
    "import plots\n",
    "import seaborn as sns\n",
    "\n",
    "%matplotlib inline"
   ]
  },
  {
   "cell_type": "markdown",
   "metadata": {},
   "source": [
    "## Applications of HazardUCB \n",
    "\n",
    "For clinical experiments, for cancer patients (samples), there are several treatments (arms), the reward is how long can a patient survive after the treatment (rewards). The goal is to minimize the sub-optimal treatment. This is in the field of survival analysis, thus the hazard rate assumption and medians are good choice.\n",
    "\n",
    "Data: Glinoma (cancer) clininal data from Broad Institute Firehouse https://gdac.broadinstitute.org/"
   ]
  },
  {
   "cell_type": "code",
   "execution_count": 2,
   "metadata": {},
   "outputs": [
    {
     "data": {
      "text/html": [
       "<div>\n",
       "<style scoped>\n",
       "    .dataframe tbody tr th:only-of-type {\n",
       "        vertical-align: middle;\n",
       "    }\n",
       "\n",
       "    .dataframe tbody tr th {\n",
       "        vertical-align: top;\n",
       "    }\n",
       "\n",
       "    .dataframe thead th {\n",
       "        text-align: right;\n",
       "    }\n",
       "</style>\n",
       "<table border=\"1\" class=\"dataframe\">\n",
       "  <thead>\n",
       "    <tr style=\"text-align: right;\">\n",
       "      <th>Hybridization REF</th>\n",
       "      <th>Composite Element REF</th>\n",
       "      <th>years_to_birth</th>\n",
       "      <th>vital_status</th>\n",
       "      <th>days_to_death</th>\n",
       "      <th>days_to_last_followup</th>\n",
       "      <th>tumor_tissue_site</th>\n",
       "      <th>gender</th>\n",
       "      <th>date_of_initial_pathologic_diagnosis</th>\n",
       "      <th>days_to_last_known_alive</th>\n",
       "      <th>radiation_therapy</th>\n",
       "      <th>karnofsky_performance_score</th>\n",
       "      <th>histological_type</th>\n",
       "      <th>race</th>\n",
       "      <th>ethnicity</th>\n",
       "    </tr>\n",
       "  </thead>\n",
       "  <tbody>\n",
       "    <tr>\n",
       "      <th>tcga-06-6391</th>\n",
       "      <td>value</td>\n",
       "      <td>44</td>\n",
       "      <td>1</td>\n",
       "      <td>45</td>\n",
       "      <td>NaN</td>\n",
       "      <td>brain</td>\n",
       "      <td>female</td>\n",
       "      <td>2011</td>\n",
       "      <td>NaN</td>\n",
       "      <td>no</td>\n",
       "      <td>NaN</td>\n",
       "      <td>untreated primary (de novo) gbm</td>\n",
       "      <td>white</td>\n",
       "      <td>not hispanic or latino</td>\n",
       "    </tr>\n",
       "    <tr>\n",
       "      <th>tcga-19-a6j4</th>\n",
       "      <td>value</td>\n",
       "      <td>68</td>\n",
       "      <td>1</td>\n",
       "      <td>121</td>\n",
       "      <td>NaN</td>\n",
       "      <td>brain</td>\n",
       "      <td>male</td>\n",
       "      <td>2013</td>\n",
       "      <td>NaN</td>\n",
       "      <td>NaN</td>\n",
       "      <td>NaN</td>\n",
       "      <td>glioblastoma multiforme (gbm)</td>\n",
       "      <td>black or african american</td>\n",
       "      <td>not hispanic or latino</td>\n",
       "    </tr>\n",
       "    <tr>\n",
       "      <th>tcga-cs-6665</th>\n",
       "      <td>value</td>\n",
       "      <td>51</td>\n",
       "      <td>0</td>\n",
       "      <td>NaN</td>\n",
       "      <td>1568</td>\n",
       "      <td>central nervous system</td>\n",
       "      <td>female</td>\n",
       "      <td>2010</td>\n",
       "      <td>NaN</td>\n",
       "      <td>yes</td>\n",
       "      <td>90</td>\n",
       "      <td>astrocytoma</td>\n",
       "      <td>white</td>\n",
       "      <td>not hispanic or latino</td>\n",
       "    </tr>\n",
       "    <tr>\n",
       "      <th>tcga-cs-6670</th>\n",
       "      <td>value</td>\n",
       "      <td>43</td>\n",
       "      <td>0</td>\n",
       "      <td>NaN</td>\n",
       "      <td>1426</td>\n",
       "      <td>central nervous system</td>\n",
       "      <td>male</td>\n",
       "      <td>2011</td>\n",
       "      <td>NaN</td>\n",
       "      <td>NaN</td>\n",
       "      <td>NaN</td>\n",
       "      <td>oligodendroglioma</td>\n",
       "      <td>white</td>\n",
       "      <td>not hispanic or latino</td>\n",
       "    </tr>\n",
       "    <tr>\n",
       "      <th>tcga-db-a4xc</th>\n",
       "      <td>value</td>\n",
       "      <td>26</td>\n",
       "      <td>0</td>\n",
       "      <td>NaN</td>\n",
       "      <td>1421</td>\n",
       "      <td>central nervous system</td>\n",
       "      <td>male</td>\n",
       "      <td>2010</td>\n",
       "      <td>NaN</td>\n",
       "      <td>yes</td>\n",
       "      <td>NaN</td>\n",
       "      <td>oligoastrocytoma</td>\n",
       "      <td>white</td>\n",
       "      <td>not hispanic or latino</td>\n",
       "    </tr>\n",
       "  </tbody>\n",
       "</table>\n",
       "</div>"
      ],
      "text/plain": [
       "Hybridization REF Composite Element REF years_to_birth vital_status  \\\n",
       "tcga-06-6391                      value             44            1   \n",
       "tcga-19-a6j4                      value             68            1   \n",
       "tcga-cs-6665                      value             51            0   \n",
       "tcga-cs-6670                      value             43            0   \n",
       "tcga-db-a4xc                      value             26            0   \n",
       "\n",
       "Hybridization REF days_to_death days_to_last_followup       tumor_tissue_site  \\\n",
       "tcga-06-6391                 45                   NaN                   brain   \n",
       "tcga-19-a6j4                121                   NaN                   brain   \n",
       "tcga-cs-6665                NaN                  1568  central nervous system   \n",
       "tcga-cs-6670                NaN                  1426  central nervous system   \n",
       "tcga-db-a4xc                NaN                  1421  central nervous system   \n",
       "\n",
       "Hybridization REF  gender date_of_initial_pathologic_diagnosis  \\\n",
       "tcga-06-6391       female                                 2011   \n",
       "tcga-19-a6j4         male                                 2013   \n",
       "tcga-cs-6665       female                                 2010   \n",
       "tcga-cs-6670         male                                 2011   \n",
       "tcga-db-a4xc         male                                 2010   \n",
       "\n",
       "Hybridization REF days_to_last_known_alive radiation_therapy  \\\n",
       "tcga-06-6391                           NaN                no   \n",
       "tcga-19-a6j4                           NaN               NaN   \n",
       "tcga-cs-6665                           NaN               yes   \n",
       "tcga-cs-6670                           NaN               NaN   \n",
       "tcga-db-a4xc                           NaN               yes   \n",
       "\n",
       "Hybridization REF karnofsky_performance_score  \\\n",
       "tcga-06-6391                              NaN   \n",
       "tcga-19-a6j4                              NaN   \n",
       "tcga-cs-6665                               90   \n",
       "tcga-cs-6670                              NaN   \n",
       "tcga-db-a4xc                              NaN   \n",
       "\n",
       "Hybridization REF                histological_type                       race  \\\n",
       "tcga-06-6391       untreated primary (de novo) gbm                      white   \n",
       "tcga-19-a6j4         glioblastoma multiforme (gbm)  black or african american   \n",
       "tcga-cs-6665                           astrocytoma                      white   \n",
       "tcga-cs-6670                     oligodendroglioma                      white   \n",
       "tcga-db-a4xc                      oligoastrocytoma                      white   \n",
       "\n",
       "Hybridization REF               ethnicity  \n",
       "tcga-06-6391       not hispanic or latino  \n",
       "tcga-19-a6j4       not hispanic or latino  \n",
       "tcga-cs-6665       not hispanic or latino  \n",
       "tcga-cs-6670       not hispanic or latino  \n",
       "tcga-db-a4xc       not hispanic or latino  "
      ]
     },
     "execution_count": 2,
     "metadata": {},
     "output_type": "execute_result"
    }
   ],
   "source": [
    "data = pd.read_csv('gdac.broadinstitute.org_GBMLGG.Clinical_Pick_Tier1.Level_4.2016012800.0.0/GBMLGG.clin.merged.picked.txt', delimiter= \"\\t\", header = 0)\n",
    "data = data.T\n",
    "data.columns = data.iloc[0]\n",
    "data = data.drop(data.index[0])\n",
    "data.head()"
   ]
  },
  {
   "cell_type": "markdown",
   "metadata": {},
   "source": [
    "### Explain columns\n",
    "\n",
    "'days_to_death': rewards (lifetime distributions)  \n",
    "'radiation_therapy': two arms (yea/no)\n",
    "    \n",
    "needs to drop NaN"
   ]
  },
  {
   "cell_type": "code",
   "execution_count": 3,
   "metadata": {},
   "outputs": [],
   "source": [
    "days_to_death_with_radiation = data.groupby(['radiation_therapy']).get_group('yes')['days_to_death']\n",
    "days_to_death_without_radiation = data.groupby(['radiation_therapy']).get_group('no')['days_to_death']\n",
    "\n",
    "days_to_death_with_radiation = np.asarray(days_to_death_with_radiation.dropna(), dtype = int)\n",
    "days_to_death_without_radiation = np.asarray(days_to_death_without_radiation.dropna(), dtype = int)"
   ]
  },
  {
   "cell_type": "code",
   "execution_count": 4,
   "metadata": {},
   "outputs": [
    {
     "name": "stdout",
     "output_type": "stream",
     "text": [
      "The number of samples with radiation:  489\n",
      "Median:  468.0  Mean:  712.1492842535787\n",
      "\n",
      "The number of samples without radiation:  99\n",
      "Medians:  111.0  Mean:  384.8686868686869\n"
     ]
    },
    {
     "data": {
      "text/plain": [
       "<matplotlib.legend.Legend at 0x7fc866068c88>"
      ]
     },
     "execution_count": 4,
     "metadata": {},
     "output_type": "execute_result"
    },
    {
     "data": {
      "image/png": "[encoded data removed]",
      "text/plain": [
       "<Figure size 1080x288 with 1 Axes>"
      ]
     },
     "metadata": {
      "needs_background": "light"
     },
     "output_type": "display_data"
    }
   ],
   "source": [
    "# Show reward distribution info\n",
    "#from matplotlib.ticker import FormatStrFormatter\n",
    "plt.figure(figsize=(5 * 3 , 4))\n",
    "plt.subplot(1,3, 1)\n",
    "print('The number of samples with radiation: ', len(days_to_death_with_radiation))\n",
    "print('Median: ', np.median(days_to_death_with_radiation), ' Mean: ', np.mean(days_to_death_with_radiation))\n",
    "print()\n",
    "print('The number of samples without radiation: ', len(days_to_death_without_radiation))\n",
    "print('Medians: ', np.median(days_to_death_without_radiation), ' Mean: ', np.mean(days_to_death_without_radiation))\n",
    "\n",
    "sns.distplot(days_to_death_with_radiation, bins = 10, label = 'A', norm_hist=True)\n",
    "sns.distplot(days_to_death_without_radiation, bins = 10, label = 'B', norm_hist=True)\n",
    "plt.xlabel('Days to death')\n",
    "plt.ylabel('Frequency')\n",
    "#axs.yaxis.set_major_formatter(FormatStrFormatter('%.3f'))\n",
    "plt.ticklabel_format(style='sci', axis='y', scilimits=(0,0))\n",
    "plt.title('Glinoma Treatment Histogram')\n",
    "plt.legend()\n",
    "#plt.savefig('glinoma_hist.pdf', bbox_inches='tight')"
   ]
  },
  {
   "cell_type": "code",
   "execution_count": 5,
   "metadata": {},
   "outputs": [],
   "source": [
    "def cal_mvs(data, rho):\n",
    "    return np.var(data) - rho * np.mean(data)"
   ]
  },
  {
   "cell_type": "markdown",
   "metadata": {},
   "source": [
    "### Setup Environment"
   ]
  },
  {
   "cell_type": "code",
   "execution_count": 6,
   "metadata": {},
   "outputs": [],
   "source": [
    "# setting\n",
    "\n",
    "num_rounds = 1000\n",
    "num_exper = 500\n",
    "num_arms = 2\n",
    "\n",
    "# environment\n",
    "\n",
    "clinical_envs = defaultdict(list)\n",
    "medians = defaultdict(list)\n",
    "means = defaultdict(list)\n",
    "mvs_small_rho = defaultdict(list)\n",
    "mvs_big_rho = defaultdict(list)\n",
    "\n",
    "paras = [50, 1e8] # [rho for MV, alpha for CVaR]\n",
    "\n",
    "clinical_envs['Glinoma'] = [Clinical_env(days_to_death_with_radiation),\n",
    "                              Clinical_env(days_to_death_without_radiation)\n",
    "                             ]\n",
    "\n",
    "medians['Glinoma'] = [np.median(days_to_death_with_radiation),\n",
    "                        np.median(days_to_death_without_radiation)\n",
    "                       ]\n",
    "\n",
    "means['Glinoma'] = [np.mean(days_to_death_with_radiation),\n",
    "                        np.mean(days_to_death_without_radiation)\n",
    "                       ]\n",
    "\n",
    "mvs_small_rho['Glinoma'] = [cal_mvs(days_to_death_with_radiation, paras[0]),\n",
    "                       cal_mvs(days_to_death_without_radiation, paras[0])]\n",
    "\n",
    "mvs_big_rho['Glinoma'] = [cal_mvs(days_to_death_with_radiation, paras[1]),\n",
    "                       cal_mvs(days_to_death_without_radiation, paras[1])]\n",
    "\n",
    "evaluation = ['sd', 'r']\n",
    "\n"
   ]
  },
  {
   "cell_type": "code",
   "execution_count": 7,
   "metadata": {},
   "outputs": [],
   "source": [
    "def run_exper(rewards_env, hyperpara_list, num_exper, num_rounds, policy, medians, est_flag, evaluation):\n",
    "    for key in rewards_env.keys():\n",
    "        for hyperpara in hyperpara_list:\n",
    "            for est_flag in est_flags:\n",
    "                name = key + '_' + str(num_exper) + '_' + str(num_rounds)\n",
    "                policy_name = str(policy).split('.')[-1].split('\\'')[0] + '-'\n",
    "                #if policy_name == 'Hazard_UCB_':  \n",
    "                #    subname = policy_name + str(est_flag)[0] + '_' + str(hyperpara)\n",
    "                subname = policy_name + str(hyperpara)\n",
    "                print(name + subname)\n",
    "                p = IntProgress(max = num_exper)\n",
    "                p.description = 'Running'\n",
    "                display(p)\n",
    "                results[name][subname], results[name]['bound']= simulate(rewards_env[key], medians[key], policy, num_exper, num_rounds, est_flag, hyperpara, evaluation, p)"
   ]
  },
  {
   "cell_type": "code",
   "execution_count": 8,
   "metadata": {},
   "outputs": [
    {
     "name": "stdout",
     "output_type": "stream",
     "text": [
      "Glinoma_500_1000H_UCB-[4, 2, 100]\n"
     ]
    },
    {
     "data": {
      "application/vnd.jupyter.widget-view+json": {
       "model_id": "c4b5593b0fe541ec9234dba114e0b0b3",
       "version_major": 2,
       "version_minor": 0
      },
      "text/plain": [
       "IntProgress(value=0, description='Running', max=500)"
      ]
     },
     "metadata": {},
     "output_type": "display_data"
    },
    {
     "name": "stdout",
     "output_type": "stream",
     "text": [
      "Glinoma_500_1000UCB1-[100]\n"
     ]
    },
    {
     "data": {
      "application/vnd.jupyter.widget-view+json": {
       "model_id": "f01861133e164c5b9fa6d26398d1307f",
       "version_major": 2,
       "version_minor": 0
      },
      "text/plain": [
       "IntProgress(value=0, description='Running', max=500)"
      ]
     },
     "metadata": {},
     "output_type": "display_data"
    },
    {
     "name": "stdout",
     "output_type": "stream",
     "text": [
      "Glinoma_500_1000UCB_V-[1.2, 1, 100]\n"
     ]
    },
    {
     "data": {
      "application/vnd.jupyter.widget-view+json": {
       "model_id": "c4ff45c366e845a4b05dd82da2312fe8",
       "version_major": 2,
       "version_minor": 0
      },
      "text/plain": [
       "IntProgress(value=0, description='Running', max=500)"
      ]
     },
     "metadata": {},
     "output_type": "display_data"
    },
    {
     "name": "stdout",
     "output_type": "stream",
     "text": [
      "Glinoma_500_1000MV_LCB-[50, 100]\n"
     ]
    },
    {
     "data": {
      "application/vnd.jupyter.widget-view+json": {
       "model_id": "d78040efb3f7407f9072287d86e12c5f",
       "version_major": 2,
       "version_minor": 0
      },
      "text/plain": [
       "IntProgress(value=0, description='Running', max=500)"
      ]
     },
     "metadata": {},
     "output_type": "display_data"
    },
    {
     "name": "stdout",
     "output_type": "stream",
     "text": [
      "Glinoma_500_1000Exp3-[0.3, 0, 4000]\n"
     ]
    },
    {
     "data": {
      "application/vnd.jupyter.widget-view+json": {
       "model_id": "f979928886d34ae9acbcbd30f5208eef",
       "version_major": 2,
       "version_minor": 0
      },
      "text/plain": [
       "IntProgress(value=0, description='Running', max=500)"
      ]
     },
     "metadata": {},
     "output_type": "display_data"
    },
    {
     "name": "stdout",
     "output_type": "stream",
     "text": [
      "Glinoma_500_1000MV_LCB-[100000000.0, 100]\n"
     ]
    },
    {
     "data": {
      "application/vnd.jupyter.widget-view+json": {
       "model_id": "176d9f8594fa41088aa302b9a3696e5e",
       "version_major": 2,
       "version_minor": 0
      },
      "text/plain": [
       "IntProgress(value=0, description='Running', max=500)"
      ]
     },
     "metadata": {},
     "output_type": "display_data"
    },
    {
     "data": {
      "text/plain": [
       "'\\n# MARAB\\n\\nhyperpara_list = [[paras[1], 0.1], [paras[1], 0.01], [paras[1], 1], [paras[1], 10]]\\nrun_exper(rewards_env, hyperpara_list, num_exper, num_rounds, MARAB, cvars, est_flags, evaluation)\\n'"
      ]
     },
     "execution_count": 8,
     "metadata": {},
     "output_type": "execute_result"
    }
   ],
   "source": [
    "results = defaultdict(dict)\n",
    "est_flags = [False]\n",
    "\n",
    "\n",
    "# Hazard UCB\n",
    "\n",
    "hyperpara_list = [[4, 2, 100]]\n",
    "\n",
    "\n",
    "run_exper(clinical_envs, hyperpara_list, num_exper, num_rounds, H_UCB, medians, est_flags, evaluation)\n",
    "\n",
    "#--------------------------------------------------------------------------------------------------------\n",
    "\n",
    "# UCB1\n",
    "\n",
    "hyperpara_list = [[100]]\n",
    "run_exper(clinical_envs, hyperpara_list, num_exper, num_rounds, UCB1, means, est_flags, evaluation)\n",
    "\n",
    "\n",
    "# UCB_V\n",
    "\n",
    "hyperpara_list = [[1.2, 1, 100]]\n",
    "run_exper(clinical_envs, hyperpara_list, num_exper, num_rounds, UCB_V, means, est_flags, evaluation)\n",
    "\n",
    "# MV_LCB with small rho\n",
    "\n",
    "hyperpara_list = [[paras[0], 100]]\n",
    "run_exper(clinical_envs, hyperpara_list, num_exper, num_rounds, MV_LCB, mvs_small_rho, est_flags, evaluation)\n",
    "\n",
    "# Exp3\n",
    "\n",
    "hyperpara_list = [[0.3, 0, 4000]]\n",
    "run_exper(clinical_envs, hyperpara_list, num_exper, num_rounds, Exp3, medians, est_flags, evaluation)\n",
    "\n",
    "# MV_LCB with big rho\n",
    "\n",
    "hyperpara_list = [[paras[1], 100]]\n",
    "run_exper(clinical_envs, hyperpara_list, num_exper, num_rounds, MV_LCB, mvs_big_rho, est_flags, evaluation)\n",
    "\n",
    "\n",
    "'''\n",
    "# MARAB\n",
    "\n",
    "hyperpara_list = [[paras[1], 0.1], [paras[1], 0.01], [paras[1], 1], [paras[1], 10]]\n",
    "run_exper(rewards_env, hyperpara_list, num_exper, num_rounds, MARAB, cvars, est_flags, evaluation)\n",
    "'''"
   ]
  },
  {
   "cell_type": "code",
   "execution_count": 9,
   "metadata": {},
   "outputs": [
    {
     "data": {
      "image/png": "[encoded data removed]",
      "text/plain": [
       "<Figure size 1080x360 with 1 Axes>"
      ]
     },
     "metadata": {
      "needs_background": "light"
     },
     "output_type": "display_data"
    }
   ],
   "source": [
    "plots.plot_eva(results, 'sd', 'raw')"
   ]
  },
  {
   "cell_type": "code",
   "execution_count": 10,
   "metadata": {},
   "outputs": [
    {
     "name": "stdout",
     "output_type": "stream",
     "text": [
      "1\n"
     ]
    },
    {
     "data": {
      "image/png": "[encoded data removed]",
      "text/plain": [
       "<Figure size 1080x288 with 1 Axes>"
      ]
     },
     "metadata": {
      "needs_background": "light"
     },
     "output_type": "display_data"
    }
   ],
   "source": [
    "plots.plot_eva_for_clinical(results, 'sd')"
   ]
  },
  {
   "cell_type": "markdown",
   "metadata": {},
   "source": [
    "The plots shows our policy performs good in terms of this application.\n",
    "\n",
    "Note: \n",
    "\n",
    "the lower bound of hazard rate estimation (L) in this experiment is not calculated by L = h(0) = f(0)/(1 - F(0)) since we don't know the experssion of distributions. To estimate it, we use #(X <= 100)/# all samples."
   ]
  },
  {
   "cell_type": "code",
   "execution_count": 11,
   "metadata": {},
   "outputs": [],
   "source": [
    "import pickle \n",
    "saving = results\n",
    "\n",
    "with open('os_saving_15.pickle', 'wb') as handle:\n",
    "    pickle.dump(saving, handle, protocol=pickle.HIGHEST_PROTOCOL)"
   ]
  }
 ],
 "metadata": {
  "kernelspec": {
   "display_name": "Python 3",
   "language": "python",
   "name": "python3"
  },
  "language_info": {
   "codemirror_mode": {
    "name": "ipython",
    "version": 3
   },
   "file_extension": ".py",
   "mimetype": "text/x-python",
   "name": "python",
   "nbconvert_exporter": "python",
   "pygments_lexer": "ipython3",
   "version": "3.7.3"
  }
 },
 "nbformat": 4,
 "nbformat_minor": 2
}
