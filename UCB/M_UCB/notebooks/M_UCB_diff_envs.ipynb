{
 "cells": [
  {
   "cell_type": "markdown",
   "metadata": {},
   "source": [
    "## Simulation environment: hard or easy?\n",
    "\n",
    "In the main paper, we only provide one simulation environment. It is interesting to explore how our policy responds to different environment. We design the following environments and compare with baseline algorithms respectively:   \n",
    "1) Easy:  \n",
    "2) Hard:the environment we use in the main paper.  \n",
    "Although our sub-optimal bound is proved based on the IHR assumption, we also test the performance of our policy to environments which are not satisfied the IHR assumption.  \n",
    "3) With outliers:  "
   ]
  },
  {
   "cell_type": "code",
   "execution_count": 1,
   "metadata": {},
   "outputs": [],
   "source": [
    "# direct to proper path\n",
    "import os\n",
    "import sys\n",
    "module_path = os.path.abspath(os.path.join('..'))\n",
    "if module_path not in sys.path:\n",
    "    sys.path.append(module_path)\n",
    "    \n",
    "import numpy as np\n",
    "from ipywidgets import IntProgress\n",
    "from IPython.display import display\n",
    "import matplotlib.pyplot as plt\n",
    "from collections import defaultdict\n",
    "import seaborn as sns\n",
    "import pickle\n",
    "from prettytable import PrettyTable\n",
    "\n",
    "from codes.UCB_discrete import M_UCB, UCB1, UCB_V, MV_LCB, Exp3, epsilon_greedy, Median_of_Means_UCB, U_UCB\n",
    "from codes.Environment import Mixture_AbsGau, setup_env, Exp, Exp_Outlier, Weibull\n",
    "from codes.SimulatedGames import simulate\n",
    "from codes.plots import plot_hist, plot_eva\n",
    "\n",
    "%matplotlib inline"
   ]
  },
  {
   "cell_type": "code",
   "execution_count": 2,
   "metadata": {},
   "outputs": [],
   "source": [
    "results_diff_envs = defaultdict(dict)\n",
    "true_L = defaultdict(dict)\n",
    "\n",
    "num_arms = 3\n",
    "\n",
    "arm_name_dict = {\n",
    "    0: 'A',\n",
    "    1: 'B',\n",
    "    2: 'C'\n",
    "}\n",
    "\n",
    "num_exper = 10\n",
    "num_rounds = 1000\n",
    "\n",
    "est_flag = True # estimate the lower bound of hazard rate L\n",
    "\n",
    "est_name_dict = {True: 'est_L_',\n",
    "                False: 'true_L_'}\n",
    "\n",
    "\n",
    "def show_envs(medians, means):\n",
    "    for key in medians.keys():\n",
    "        print(key)\n",
    "        medians[key] = list(np.around(np.array(medians[key]),2))\n",
    "        means[key] = list(np.around(np.array(means[key]),2))\n",
    "        t = PrettyTable(['Eva', 'A', 'B', 'C', 'Best Arm'])\n",
    "        t.add_row(['Median'] + medians[key]+ [arm_name_dict[np.argmax(medians[key])]])\n",
    "        t.add_row(['Mean']+ means[key]+ [arm_name_dict[np.argmax(means[key])]])\n",
    "        #t.add_row(['MV']+ mvs[key]+ [arm_name_dict[np.argmin(mvs[key])]])\n",
    "        print(t)\n",
    "        print()\n",
    "    \n",
    "    plot_hist(samples)\n",
    "    \n",
    "    return medians, means\n",
    "\n",
    "def run_exper(results, rewards_env, hyperpara_list, num_exper, num_rounds, policy, summary_stats, est_flags = [est_flag], fixed_L = None):\n",
    "    for key in rewards_env.keys():\n",
    "        for hyperpara in hyperpara_list:\n",
    "            for est_flag in est_flags:\n",
    "                name = key + '_' + str(num_exper) + '_' + str(num_rounds)\n",
    "                policy_name = str(policy).split('.')[-1].split('\\'')[0] + '-'\n",
    "                subname = policy_name + str(hyperpara) + est_name_dict[est_flags[0]] + str(fixed_L)\n",
    "                print(name + subname)\n",
    "                p = IntProgress(max = num_exper)\n",
    "                p.description = 'Running'\n",
    "                display(p)\n",
    "                results[name][subname]= simulate(rewards_env[key],summary_stats[key], policy, num_exper, num_rounds, est_flag, hyperpara, fixed_L, p)\n",
    "                \n",
    "                # calculate true L\n",
    "            \n",
    "                true_L[name][subname] = []\n",
    "                for i in range(len(rewards_env[key])):\n",
    "                    my_env = rewards_env[key][i]\n",
    "                    if hasattr(my_env, 'hazard_rate'):\n",
    "                        # for Mixture_AbsGau only\n",
    "                        L = my_env.hazard_rate(0)\n",
    "                        true_L[name][subname].append(L)\n",
    "                    elif hasattr(my_env, 'pdf'):\n",
    "                        # if pdf and cdf is defined\n",
    "                        L = my_env.pdf(0)/ (1- my_env.cdf(0)) \n",
    "                        true_L[name][subname].append(L)\n",
    "                    else:\n",
    "                        print('cannot estimate L')"
   ]
  },
  {
   "cell_type": "code",
   "execution_count": 3,
   "metadata": {},
   "outputs": [
    {
     "name": "stdout",
     "output_type": "stream",
     "text": [
      "Mixture_AbsGau_[[0, 1, 0, 1, 1], [10, 1, 0, 1, 1]]Exp_[0.2]\n",
      "+--------+------+------+------+----------+\n",
      "|  Eva   |  A   |  B   |  C   | Best Arm |\n",
      "+--------+------+------+------+----------+\n",
      "| Median | 0.67 | 9.99 | 3.41 |    B     |\n",
      "|  Mean  | 0.8  | 10.0 | 4.95 |    B     |\n",
      "+--------+------+------+------+----------+\n",
      "\n",
      "Mixture_AbsGau_[[3, 1, 0, 1, 1], [1.2, 4, 0, 1, 1]]Exp_[0.2857142857142857]\n",
      "+--------+------+-----+------+----------+\n",
      "|  Eva   |  A   |  B  |  C   | Best Arm |\n",
      "+--------+------+-----+------+----------+\n",
      "| Median | 3.01 | 2.8 | 2.39 |    A     |\n",
      "|  Mean  | 3.02 | 3.3 | 3.49 |    C     |\n",
      "+--------+------+-----+------+----------+\n",
      "\n",
      "Mixture_AbsGau_[[0, 0.5, 10, 0.1, 0.95], [0, 0.1, 10, 0.1, 0.95]]Exp_Outlier_[1]\n",
      "+--------+------+------+------+----------+\n",
      "|  Eva   |  A   |  B   |  C   | Best Arm |\n",
      "+--------+------+------+------+----------+\n",
      "| Median | 0.35 | 0.07 | 0.76 |    C     |\n",
      "|  Mean  | 0.85 | 0.56 | 1.98 |    C     |\n",
      "+--------+------+------+------+----------+\n",
      "\n",
      "Mixture_AbsGau_[[0, 1, 0, 1, 1], [10, 1, 0, 1, 1]]Exp_[0.2]_10_1000M_UCB-[1.5, 1, 1]est_L_None\n"
     ]
    },
    {
     "data": {
      "application/vnd.jupyter.widget-view+json": {
       "model_id": "aa406148aff646ed9103f9e31a87c90d",
       "version_major": 2,
       "version_minor": 0
      },
      "text/plain": [
       "IntProgress(value=0, description='Running', max=10)"
      ]
     },
     "metadata": {},
     "output_type": "display_data"
    },
    {
     "name": "stdout",
     "output_type": "stream",
     "text": [
      "Mixture_AbsGau_[[3, 1, 0, 1, 1], [1.2, 4, 0, 1, 1]]Exp_[0.2857142857142857]_10_1000M_UCB-[1.5, 1, 1]est_L_None\n"
     ]
    },
    {
     "data": {
      "application/vnd.jupyter.widget-view+json": {
       "model_id": "76cee444bb374d549d8d36a027f11d3c",
       "version_major": 2,
       "version_minor": 0
      },
      "text/plain": [
       "IntProgress(value=0, description='Running', max=10)"
      ]
     },
     "metadata": {},
     "output_type": "display_data"
    },
    {
     "name": "stdout",
     "output_type": "stream",
     "text": [
      "Mixture_AbsGau_[[0, 0.5, 10, 0.1, 0.95], [0, 0.1, 10, 0.1, 0.95]]Exp_Outlier_[1]_10_1000M_UCB-[1.5, 1, 1]est_L_None\n"
     ]
    },
    {
     "data": {
      "application/vnd.jupyter.widget-view+json": {
       "model_id": "75fb601cee09402bb1fca141ce2980cb",
       "version_major": 2,
       "version_minor": 0
      },
      "text/plain": [
       "IntProgress(value=0, description='Running', max=10)"
      ]
     },
     "metadata": {},
     "output_type": "display_data"
    },
    {
     "name": "stdout",
     "output_type": "stream",
     "text": [
      "Mixture_AbsGau_[[0, 1, 0, 1, 1], [10, 1, 0, 1, 1]]Exp_[0.2]_10_1000U_UCB-[4]est_L_None\n"
     ]
    },
    {
     "data": {
      "application/vnd.jupyter.widget-view+json": {
       "model_id": "01b1981f528d4035890212224e8a3d2f",
       "version_major": 2,
       "version_minor": 0
      },
      "text/plain": [
       "IntProgress(value=0, description='Running', max=10)"
      ]
     },
     "metadata": {},
     "output_type": "display_data"
    },
    {
     "name": "stdout",
     "output_type": "stream",
     "text": [
      "Mixture_AbsGau_[[3, 1, 0, 1, 1], [1.2, 4, 0, 1, 1]]Exp_[0.2857142857142857]_10_1000U_UCB-[4]est_L_None\n"
     ]
    },
    {
     "data": {
      "application/vnd.jupyter.widget-view+json": {
       "model_id": "146e21f751734d59973ce6c0ec5f6db8",
       "version_major": 2,
       "version_minor": 0
      },
      "text/plain": [
       "IntProgress(value=0, description='Running', max=10)"
      ]
     },
     "metadata": {},
     "output_type": "display_data"
    },
    {
     "name": "stdout",
     "output_type": "stream",
     "text": [
      "Mixture_AbsGau_[[0, 0.5, 10, 0.1, 0.95], [0, 0.1, 10, 0.1, 0.95]]Exp_Outlier_[1]_10_1000U_UCB-[4]est_L_None\n"
     ]
    },
    {
     "data": {
      "application/vnd.jupyter.widget-view+json": {
       "model_id": "33a0a3b7cbed4bf7ac97b74220df1894",
       "version_major": 2,
       "version_minor": 0
      },
      "text/plain": [
       "IntProgress(value=0, description='Running', max=10)"
      ]
     },
     "metadata": {},
     "output_type": "display_data"
    },
    {
     "name": "stdout",
     "output_type": "stream",
     "text": [
      "Mixture_AbsGau_[[0, 1, 0, 1, 1], [10, 1, 0, 1, 1]]Exp_[0.2]_10_1000epsilon_greedy-[0.1]est_L_None\n"
     ]
    },
    {
     "data": {
      "application/vnd.jupyter.widget-view+json": {
       "model_id": "ce7aba205be24d7babd8e26946f3c741",
       "version_major": 2,
       "version_minor": 0
      },
      "text/plain": [
       "IntProgress(value=0, description='Running', max=10)"
      ]
     },
     "metadata": {},
     "output_type": "display_data"
    },
    {
     "name": "stdout",
     "output_type": "stream",
     "text": [
      "Mixture_AbsGau_[[3, 1, 0, 1, 1], [1.2, 4, 0, 1, 1]]Exp_[0.2857142857142857]_10_1000epsilon_greedy-[0.1]est_L_None\n"
     ]
    },
    {
     "data": {
      "application/vnd.jupyter.widget-view+json": {
       "model_id": "664c4a94a03d462388434e4a47c36258",
       "version_major": 2,
       "version_minor": 0
      },
      "text/plain": [
       "IntProgress(value=0, description='Running', max=10)"
      ]
     },
     "metadata": {},
     "output_type": "display_data"
    },
    {
     "name": "stdout",
     "output_type": "stream",
     "text": [
      "Mixture_AbsGau_[[0, 0.5, 10, 0.1, 0.95], [0, 0.1, 10, 0.1, 0.95]]Exp_Outlier_[1]_10_1000epsilon_greedy-[0.1]est_L_None\n"
     ]
    },
    {
     "data": {
      "application/vnd.jupyter.widget-view+json": {
       "model_id": "b939b4e4c27b45e58b21bfef168240b0",
       "version_major": 2,
       "version_minor": 0
      },
      "text/plain": [
       "IntProgress(value=0, description='Running', max=10)"
      ]
     },
     "metadata": {},
     "output_type": "display_data"
    },
    {
     "name": "stdout",
     "output_type": "stream",
     "text": [
      "Mixture_AbsGau_[[0, 1, 0, 1, 1], [10, 1, 0, 1, 1]]Exp_[0.2]_10_1000Median_of_Means_UCB-[10, 1, 1]est_L_None\n"
     ]
    },
    {
     "data": {
      "application/vnd.jupyter.widget-view+json": {
       "model_id": "26afe97ff6ca402ca807c9b3a099e1d1",
       "version_major": 2,
       "version_minor": 0
      },
      "text/plain": [
       "IntProgress(value=0, description='Running', max=10)"
      ]
     },
     "metadata": {},
     "output_type": "display_data"
    },
    {
     "name": "stdout",
     "output_type": "stream",
     "text": [
      "Mixture_AbsGau_[[3, 1, 0, 1, 1], [1.2, 4, 0, 1, 1]]Exp_[0.2857142857142857]_10_1000Median_of_Means_UCB-[10, 1, 1]est_L_None\n"
     ]
    },
    {
     "data": {
      "application/vnd.jupyter.widget-view+json": {
       "model_id": "4e165ab65bf14d2c803b670ba8ad4a14",
       "version_major": 2,
       "version_minor": 0
      },
      "text/plain": [
       "IntProgress(value=0, description='Running', max=10)"
      ]
     },
     "metadata": {},
     "output_type": "display_data"
    },
    {
     "name": "stdout",
     "output_type": "stream",
     "text": [
      "Mixture_AbsGau_[[0, 0.5, 10, 0.1, 0.95], [0, 0.1, 10, 0.1, 0.95]]Exp_Outlier_[1]_10_1000Median_of_Means_UCB-[10, 1, 1]est_L_None\n"
     ]
    },
    {
     "data": {
      "application/vnd.jupyter.widget-view+json": {
       "model_id": "311f02af596945df8093c43494b21472",
       "version_major": 2,
       "version_minor": 0
      },
      "text/plain": [
       "IntProgress(value=0, description='Running', max=10)"
      ]
     },
     "metadata": {},
     "output_type": "display_data"
    },
    {
     "data": {
      "image/png": "[encoded data removed]",
      "text/plain": [
       "<Figure size 864x648 with 3 Axes>"
      ]
     },
     "metadata": {
      "needs_background": "light"
     },
     "output_type": "display_data"
    }
   ],
   "source": [
    "environments = [\n",
    "    {Mixture_AbsGau: [[0, 1, 0,1, 1], [10, 1, 0, 1, 1]], Exp: [1.0/5]}, # Easy\n",
    "    {Mixture_AbsGau: [[3, 1, 0,1, 1], [1.2, 4, 0, 1, 1]], Exp: [1/3.5]}, # Hard\n",
    "    {Mixture_AbsGau: [[0, 0.5, 10, 0.1, 0.95], [0, 0.1, 10, 0.1, 0.95]], Exp_Outlier: [1]},  # With Outliers\n",
    "]\n",
    "\n",
    "rewards_env, medians, means, mvs, samples = setup_env(num_arms, environments)\n",
    "\n",
    "medians, means = show_envs(medians, means)\n",
    "\n",
    "hyperpara_list = [[1.5,1,1]]\n",
    "run_exper(results_diff_envs, rewards_env, hyperpara_list, num_exper, num_rounds, M_UCB, medians, fixed_L = None)\n",
    "\n",
    "#--------------------------------------------------------------------------------------------------------\n",
    "# Benchmark algorithms\n",
    "\n",
    "# U-UCB\n",
    "\n",
    "hyperpara_list = [[4]]\n",
    "run_exper(results_diff_envs, rewards_env, hyperpara_list, num_exper, num_rounds, U_UCB, medians)\n",
    "\n",
    "# epsilon_greedy\n",
    "\n",
    "hyperpara_list = [[0.1]]\n",
    "run_exper(results_diff_envs, rewards_env, hyperpara_list, num_exper, num_rounds, epsilon_greedy, medians)\n",
    "\n",
    "# Median_of_Means_UCB\n",
    "\n",
    "hyperpara_list = [[10, 1, 1]]\n",
    "run_exper(results_diff_envs, rewards_env, hyperpara_list, num_exper, num_rounds, Median_of_Means_UCB, means)\n",
    "\n"
   ]
  },
  {
   "cell_type": "code",
   "execution_count": 4,
   "metadata": {},
   "outputs": [
    {
     "name": "stdout",
     "output_type": "stream",
     "text": [
      "Mixture_AbsGau_[[0, 1, 0, 1, 1], [10, 1, 0, 1, 1]]Exp_[0.2]_10_1000Exp3-[0.5, 0, 50]est_L_None\n"
     ]
    },
    {
     "data": {
      "application/vnd.jupyter.widget-view+json": {
       "model_id": "ae5eccbef8f04eddadcaababb685d10e",
       "version_major": 2,
       "version_minor": 0
      },
      "text/plain": [
       "IntProgress(value=0, description='Running', max=10)"
      ]
     },
     "metadata": {},
     "output_type": "display_data"
    },
    {
     "name": "stdout",
     "output_type": "stream",
     "text": [
      "Mixture_AbsGau_[[3, 1, 0, 1, 1], [1.2, 4, 0, 1, 1]]Exp_[0.2857142857142857]_10_1000Exp3-[0.5, 0, 50]est_L_None\n"
     ]
    },
    {
     "data": {
      "application/vnd.jupyter.widget-view+json": {
       "model_id": "86c3ddfa430a4d59aefcbf4f2a34a751",
       "version_major": 2,
       "version_minor": 0
      },
      "text/plain": [
       "IntProgress(value=0, description='Running', max=10)"
      ]
     },
     "metadata": {},
     "output_type": "display_data"
    },
    {
     "name": "stdout",
     "output_type": "stream",
     "text": [
      "Mixture_AbsGau_[[0, 0.5, 10, 0.1, 0.95], [0, 0.1, 10, 0.1, 0.95]]Exp_Outlier_[1]_10_1000Exp3-[0.5, 0, 50]est_L_None\n"
     ]
    },
    {
     "data": {
      "application/vnd.jupyter.widget-view+json": {
       "model_id": "55e13d9fefa54045ba40710fcdb77382",
       "version_major": 2,
       "version_minor": 0
      },
      "text/plain": [
       "IntProgress(value=0, description='Running', max=10)"
      ]
     },
     "metadata": {},
     "output_type": "display_data"
    }
   ],
   "source": [
    "# Exp3\n",
    "\n",
    "hyperpara_list = [[0.5, 0, 50]]\n",
    "run_exper(results_diff_envs, rewards_env, hyperpara_list, num_exper, num_rounds, Exp3, means)"
   ]
  },
  {
   "cell_type": "code",
   "execution_count": 5,
   "metadata": {},
   "outputs": [
    {
     "data": {
      "image/png": "[encoded data removed]",
      "text/plain": [
       "<Figure size 864x648 with 3 Axes>"
      ]
     },
     "metadata": {
      "needs_background": "light"
     },
     "output_type": "display_data"
    }
   ],
   "source": [
    "plot_eva(results_diff_envs, 'sd')"
   ]
  },
  {
   "cell_type": "code",
   "execution_count": 6,
   "metadata": {},
   "outputs": [],
   "source": [
    "import pickle\n",
    "\n",
    "#with open('results_diff_envs.pickle', 'wb') as handle:\n",
    "#    pickle.dump(results_diff_envs, handle, protocol=pickle.HIGHEST_PROTOCOL)"
   ]
  }
 ],
 "metadata": {
  "kernelspec": {
   "display_name": "Python 3",
   "language": "python",
   "name": "python3"
  },
  "language_info": {
   "codemirror_mode": {
    "name": "ipython",
    "version": 3
   },
   "file_extension": ".py",
   "mimetype": "text/x-python",
   "name": "python",
   "nbconvert_exporter": "python",
   "pygments_lexer": "ipython3",
   "version": "3.7.3"
  }
 },
 "nbformat": 4,
 "nbformat_minor": 2
}
