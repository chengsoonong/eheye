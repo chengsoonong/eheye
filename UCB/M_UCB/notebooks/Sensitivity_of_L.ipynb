{
 "cells": [
  {
   "cell_type": "markdown",
   "metadata": {},
   "source": [
    " If I understand it correctly, the algorithm is tuned by the lower bounds on the hazard rates L_i (via the selection of \\nu_i) and I assume that in practice L_i-s are typically unknown. This should be stated very clearly in the paper. And, perhaps, some sensitivity tests to misspecification of L_i-s should be done."
   ]
  },
  {
   "cell_type": "code",
   "execution_count": 1,
   "metadata": {
    "collapsed": true
   },
   "outputs": [],
   "source": [
    "# direct to proper path\n",
    "import os\n",
    "import sys\n",
    "module_path = os.path.abspath(os.path.join('..'))\n",
    "if module_path not in sys.path:\n",
    "    sys.path.append(module_path)\n",
    "    \n",
    "import numpy as np\n",
    "from ipywidgets import IntProgress\n",
    "from IPython.display import display\n",
    "import matplotlib.pyplot as plt\n",
    "from collections import defaultdict\n",
    "import seaborn as sns\n",
    "import pickle\n",
    "from prettytable import PrettyTable\n",
    "\n",
    "from codes.UCB_discrete import M_UCB, UCB1, UCB_V, MV_LCB, Exp3\n",
    "from codes.Environment import AbsGau, Exp, AbsGau_Outlier, Exp_Outlier, setup_env\n",
    "from codes.SimulatedGames import simulate\n",
    "from codes.plots import plot_hist, plot_eva\n",
    "\n",
    "%matplotlib inline"
   ]
  },
  {
   "cell_type": "code",
   "execution_count": 2,
   "metadata": {
    "collapsed": true
   },
   "outputs": [],
   "source": [
    "# setting\n",
    "\n",
    "num_exper = 100\n",
    "num_rounds = 1000\n",
    "num_arms = 3\n",
    "\n",
    "# environment\n",
    "\n",
    "\n",
    "environments = [\n",
    "    {AbsGau: [0.5, 0.1], Exp: [1]},\n",
    "    {AbsGau_Outlier: [0.5, 0.1], Exp_Outlier: [1]},\n",
    "]\n",
    "paras = [50] # [rho for MV]\n",
    "rewards_env, medians, means, mvs, samples = setup_env(num_arms, environments, paras)"
   ]
  },
  {
   "cell_type": "code",
   "execution_count": 3,
   "metadata": {},
   "outputs": [
    {
     "name": "stdout",
     "output_type": "stream",
     "text": [
      "AbsGau_[0.5, 0.1]Exp_[1]\n",
      "+--------+--------+-------+--------+----------+\n",
      "|  Eva   |   A    |   B   |   C    | Best Arm |\n",
      "+--------+--------+-------+--------+----------+\n",
      "| Median |  0.34  |  0.07 |  0.71  |    C     |\n",
      "|  Mean  |  0.39  |  0.08 |  1.0   |    C     |\n",
      "|   MV   | -19.65 | -3.99 | -49.08 |    C     |\n",
      "+--------+--------+-------+--------+----------+\n",
      "\n",
      "AbsGau_Outlier_[0.5, 0.1]Exp_Outlier_[1]\n",
      "+--------+--------+--------+-------+----------+\n",
      "|  Eva   |   A    |   B    |   C   | Best Arm |\n",
      "+--------+--------+--------+-------+----------+\n",
      "| Median |  0.36  |  0.07  |  0.74 |    C     |\n",
      "|  Mean  |  1.4   |  1.07  |  1.98 |    C     |\n",
      "|   MV   | -51.33 | -34.65 | -80.2 |    C     |\n",
      "+--------+--------+--------+-------+----------+\n",
      "\n"
     ]
    }
   ],
   "source": [
    "arm_name_dict = {\n",
    "    0: 'A',\n",
    "    1: 'B',\n",
    "    2: 'C'\n",
    "}\n",
    "\n",
    "for key in medians.keys():\n",
    "    print(key)\n",
    "    medians[key] = list(np.around(np.array(medians[key]),2))\n",
    "    means[key] = list(np.around(np.array(means[key]),2))\n",
    "    mvs[key] = list(np.around(np.array(mvs[key]),2))\n",
    "    t = PrettyTable(['Eva', 'A', 'B', 'C', 'Best Arm'])\n",
    "    t.add_row(['Median'] + medians[key]+ [arm_name_dict[np.argmax(medians[key])]])\n",
    "    t.add_row(['Mean']+ means[key]+ [arm_name_dict[np.argmax(means[key])]])\n",
    "    t.add_row(['MV']+ mvs[key]+ [arm_name_dict[np.argmin(mvs[key])]])\n",
    "    print(t)\n",
    "    print()"
   ]
  },
  {
   "cell_type": "code",
   "execution_count": 4,
   "metadata": {},
   "outputs": [
    {
     "data": {
      "image/png": "[encoded data removed]",
      "text/plain": [
       "<Figure size 1080x720 with 2 Axes>"
      ]
     },
     "metadata": {
      "needs_background": "light"
     },
     "output_type": "display_data"
    }
   ],
   "source": [
    "plot_hist(samples)"
   ]
  },
  {
   "cell_type": "code",
   "execution_count": 5,
   "metadata": {
    "collapsed": true
   },
   "outputs": [],
   "source": [
    "# run experiments\n",
    "\n",
    "def run_exper(rewards_env, hyperpara_list, num_exper, num_rounds, policy, summary_stats, est_flags = [True]):\n",
    "    for key in rewards_env.keys():\n",
    "        for hyperpara in hyperpara_list:\n",
    "            for est_flag in est_flags:\n",
    "                name = key + '_' + str(num_exper) + '_' + str(num_rounds)\n",
    "                policy_name = str(policy).split('.')[-1].split('\\'')[0] + '-'\n",
    "                subname = policy_name + str(hyperpara)\n",
    "                print(name + subname)\n",
    "                p = IntProgress(max = num_exper)\n",
    "                p.description = 'Running'\n",
    "                display(p)\n",
    "                results[name][subname] = simulate(rewards_env[key],summary_stats[key], policy, num_exper, num_rounds, est_flag, hyperpara, None, p)\n",
    "            "
   ]
  },
  {
   "cell_type": "code",
   "execution_count": 6,
   "metadata": {},
   "outputs": [
    {
     "name": "stdout",
     "output_type": "stream",
     "text": [
      "AbsGau_[0.5, 0.1]Exp_[1]_100_1000[0.8, 1, 0.6]\n"
     ]
    },
    {
     "data": {
      "application/vnd.jupyter.widget-view+json": {
       "model_id": "2c122656f49445c7a0a328bf727605bf",
       "version_major": 2,
       "version_minor": 0
      },
      "text/plain": [
       "IntProgress(value=0, description='Running')"
      ]
     },
     "metadata": {},
     "output_type": "display_data"
    },
    {
     "name": "stdout",
     "output_type": "stream",
     "text": [
      "AbsGau_[0.5, 0.1]Exp_[1]_100_1000[0.6, 0.8, 1]\n"
     ]
    },
    {
     "data": {
      "application/vnd.jupyter.widget-view+json": {
       "model_id": "1c8685eba3a8437fb8cdcef664a68d24",
       "version_major": 2,
       "version_minor": 0
      },
      "text/plain": [
       "IntProgress(value=0, description='Running')"
      ]
     },
     "metadata": {},
     "output_type": "display_data"
    },
    {
     "name": "stdout",
     "output_type": "stream",
     "text": [
      "AbsGau_[0.5, 0.1]Exp_[1]_100_1000[0.8, 4, 0.5]\n"
     ]
    },
    {
     "data": {
      "application/vnd.jupyter.widget-view+json": {
       "model_id": "f80549c2e53c478dbba17549c0eb89b6",
       "version_major": 2,
       "version_minor": 0
      },
      "text/plain": [
       "IntProgress(value=0, description='Running')"
      ]
     },
     "metadata": {},
     "output_type": "display_data"
    },
    {
     "name": "stdout",
     "output_type": "stream",
     "text": [
      "AbsGau_[0.5, 0.1]Exp_[1]_100_1000[0.5, 0.8, 4]\n"
     ]
    },
    {
     "data": {
      "application/vnd.jupyter.widget-view+json": {
       "model_id": "032be09f83124b3bb19041a28d6467dc",
       "version_major": 2,
       "version_minor": 0
      },
      "text/plain": [
       "IntProgress(value=0, description='Running')"
      ]
     },
     "metadata": {},
     "output_type": "display_data"
    },
    {
     "data": {
      "application/vnd.jupyter.widget-view+json": {
       "model_id": "4c30e95069374e3398eaff901fb661dd",
       "version_major": 2,
       "version_minor": 0
      },
      "text/plain": [
       "IntProgress(value=0, description='Running')"
      ]
     },
     "metadata": {},
     "output_type": "display_data"
    },
    {
     "name": "stdout",
     "output_type": "stream",
     "text": [
      "AbsGau_Outlier_[0.5, 0.1]Exp_Outlier_[1]_100_1000[0.8, 1, 0.6]\n"
     ]
    },
    {
     "data": {
      "application/vnd.jupyter.widget-view+json": {
       "model_id": "e9001602a18547b4b9197b8ec7bcd7e2",
       "version_major": 2,
       "version_minor": 0
      },
      "text/plain": [
       "IntProgress(value=0, description='Running')"
      ]
     },
     "metadata": {},
     "output_type": "display_data"
    },
    {
     "name": "stdout",
     "output_type": "stream",
     "text": [
      "AbsGau_Outlier_[0.5, 0.1]Exp_Outlier_[1]_100_1000[0.6, 0.8, 1]\n"
     ]
    },
    {
     "data": {
      "application/vnd.jupyter.widget-view+json": {
       "model_id": "dfdda806decb4b86b21f4ff72293afc0",
       "version_major": 2,
       "version_minor": 0
      },
      "text/plain": [
       "IntProgress(value=0, description='Running')"
      ]
     },
     "metadata": {},
     "output_type": "display_data"
    },
    {
     "name": "stdout",
     "output_type": "stream",
     "text": [
      "AbsGau_Outlier_[0.5, 0.1]Exp_Outlier_[1]_100_1000[0.8, 4, 0.5]\n"
     ]
    },
    {
     "data": {
      "application/vnd.jupyter.widget-view+json": {
       "model_id": "0be30be289d04459a30b7e692097d6a3",
       "version_major": 2,
       "version_minor": 0
      },
      "text/plain": [
       "IntProgress(value=0, description='Running')"
      ]
     },
     "metadata": {},
     "output_type": "display_data"
    },
    {
     "name": "stdout",
     "output_type": "stream",
     "text": [
      "AbsGau_Outlier_[0.5, 0.1]Exp_Outlier_[1]_100_1000[0.5, 0.8, 4]\n"
     ]
    },
    {
     "data": {
      "application/vnd.jupyter.widget-view+json": {
       "model_id": "361ee58eaf724d82a052f899ba17bd7c",
       "version_major": 2,
       "version_minor": 0
      },
      "text/plain": [
       "IntProgress(value=0, description='Running')"
      ]
     },
     "metadata": {},
     "output_type": "display_data"
    },
    {
     "data": {
      "application/vnd.jupyter.widget-view+json": {
       "model_id": "a8769cc4789b495e9e49e04a3603dccd",
       "version_major": 2,
       "version_minor": 0
      },
      "text/plain": [
       "IntProgress(value=0, description='Running')"
      ]
     },
     "metadata": {},
     "output_type": "display_data"
    }
   ],
   "source": [
    "results = defaultdict(dict)\n",
    "\n",
    "# for misspecification test\n",
    "\n",
    "fixed_Ls = [[0.8, 1, 0.6], [0.6, 0.8, 1], [0.8, 4, 0.5], [0.5, 0.8, 4]]\n",
    "\n",
    "# M-UCB\n",
    "\n",
    "hyperpara_list = [[0.5, 0.2, 1]]\n",
    "for i, key in enumerate(rewards_env.keys()):\n",
    "    for hyperpara in hyperpara_list:\n",
    "        for est_flag in [True, False]: \n",
    "            name = key + '_' + str(num_exper) + '_' + str(num_rounds)\n",
    "            if est_flag == True:\n",
    "                for fixed_L in fixed_Ls:\n",
    "                    subname = str(fixed_L)\n",
    "                    print(name + subname)\n",
    "                    p = IntProgress(max = num_exper)\n",
    "                    p.description = 'Running'\n",
    "                    display(p)\n",
    "                    results[name][subname] = simulate(rewards_env[key],medians[key], M_UCB, num_exper, num_rounds, est_flag, hyperpara, fixed_L, p)\n",
    "            else:\n",
    "                fixed_L = None\n",
    "                subname = 'True L_i'\n",
    "                p = IntProgress(max = num_exper)\n",
    "                p.description = 'Running'\n",
    "                display(p)\n",
    "                results[name][subname] = simulate(rewards_env[key],medians[key], M_UCB, num_exper, num_rounds, est_flag, hyperpara, fixed_L, p)\n",
    "            "
   ]
  },
  {
   "cell_type": "code",
   "execution_count": 7,
   "metadata": {},
   "outputs": [
    {
     "data": {
      "image/png": "[encoded data removed]",
      "text/plain": [
       "<Figure size 1080x720 with 2 Axes>"
      ]
     },
     "metadata": {
      "needs_background": "light"
     },
     "output_type": "display_data"
    }
   ],
   "source": [
    "plot_eva(results, 'sd')"
   ]
  },
  {
   "cell_type": "code",
   "execution_count": 8,
   "metadata": {
    "collapsed": true
   },
   "outputs": [],
   "source": [
    "import pickle\n",
    "\n",
    "with open('sensi_L.pickle', 'wb') as handle:\n",
    "    pickle.dump(results, handle, protocol=pickle.HIGHEST_PROTOCOL)"
   ]
  },
  {
   "cell_type": "code",
   "execution_count": null,
   "metadata": {
    "collapsed": true
   },
   "outputs": [],
   "source": []
  }
 ],
 "metadata": {
  "kernelspec": {
   "display_name": "Python 3",
   "language": "python",
   "name": "python3"
  },
  "language_info": {
   "codemirror_mode": {
    "name": "ipython",
    "version": 3
   },
   "file_extension": ".py",
   "mimetype": "text/x-python",
   "name": "python",
   "nbconvert_exporter": "python",
   "pygments_lexer": "ipython3",
   "version": "3.7.4"
  }
 },
 "nbformat": 4,
 "nbformat_minor": 2
}
