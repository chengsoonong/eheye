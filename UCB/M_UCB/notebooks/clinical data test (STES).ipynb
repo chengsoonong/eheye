{
 "cells": [
  {
   "cell_type": "code",
   "execution_count": 1,
   "metadata": {},
   "outputs": [],
   "source": [
    "import pandas as pd\n",
    "import matplotlib.pyplot as plt\n",
    "import numpy as np\n",
    "from UCB_discrete import H_UCB, UCB1, UCB_V, MV_LCB, MARAB, Exp3\n",
    "from collections import defaultdict\n",
    "from Environment import Clinical_env\n",
    "from SimulatedGames import simulate\n",
    "from ipywidgets import IntProgress\n",
    "from IPython.display import display\n",
    "import plots\n",
    "import seaborn as sns\n",
    "\n",
    "%matplotlib inline"
   ]
  },
  {
   "cell_type": "markdown",
   "metadata": {},
   "source": [
    "## Applications of HazardUCB \n",
    "\n",
    "For clinical experiments, for cancer patients (samples), there are several treatments (arms), the reward is how long can a patient survive after the treatment (rewards). The goal is to minimize the sub-optimal treatment. This is in the field of survival analysis, thus the hazard rate assumption and medians are good choice.\n",
    "\n",
    "Data: Glinoma (cancer) clininal data from Broad Institute Firehouse https://gdac.broadinstitute.org/"
   ]
  },
  {
   "cell_type": "code",
   "execution_count": 2,
   "metadata": {},
   "outputs": [
    {
     "data": {
      "text/html": [
       "<div>\n",
       "<style scoped>\n",
       "    .dataframe tbody tr th:only-of-type {\n",
       "        vertical-align: middle;\n",
       "    }\n",
       "\n",
       "    .dataframe tbody tr th {\n",
       "        vertical-align: top;\n",
       "    }\n",
       "\n",
       "    .dataframe thead th {\n",
       "        text-align: right;\n",
       "    }\n",
       "</style>\n",
       "<table border=\"1\" class=\"dataframe\">\n",
       "  <thead>\n",
       "    <tr style=\"text-align: right;\">\n",
       "      <th>Hybridization REF</th>\n",
       "      <th>Composite Element REF</th>\n",
       "      <th>years_to_birth</th>\n",
       "      <th>vital_status</th>\n",
       "      <th>days_to_death</th>\n",
       "      <th>days_to_last_followup</th>\n",
       "      <th>pathologic_stage</th>\n",
       "      <th>pathology_T_stage</th>\n",
       "      <th>pathology_N_stage</th>\n",
       "      <th>pathology_M_stage</th>\n",
       "      <th>gender</th>\n",
       "      <th>radiation_therapy</th>\n",
       "      <th>karnofsky_performance_score</th>\n",
       "      <th>number_pack_years_smoked</th>\n",
       "      <th>race</th>\n",
       "      <th>ethnicity</th>\n",
       "    </tr>\n",
       "  </thead>\n",
       "  <tbody>\n",
       "    <tr>\n",
       "      <th>tcga-ic-a6rf</th>\n",
       "      <td>value</td>\n",
       "      <td>69</td>\n",
       "      <td>0</td>\n",
       "      <td>NaN</td>\n",
       "      <td>477</td>\n",
       "      <td>stage ia</td>\n",
       "      <td>t1</td>\n",
       "      <td>n0</td>\n",
       "      <td>m0</td>\n",
       "      <td>female</td>\n",
       "      <td>no</td>\n",
       "      <td>NaN</td>\n",
       "      <td>22</td>\n",
       "      <td>white</td>\n",
       "      <td>not hispanic or latino</td>\n",
       "    </tr>\n",
       "    <tr>\n",
       "      <th>tcga-jy-a6fb</th>\n",
       "      <td>value</td>\n",
       "      <td>77</td>\n",
       "      <td>0</td>\n",
       "      <td>NaN</td>\n",
       "      <td>1837</td>\n",
       "      <td>stage i</td>\n",
       "      <td>t1</td>\n",
       "      <td>n0</td>\n",
       "      <td>m0</td>\n",
       "      <td>male</td>\n",
       "      <td>no</td>\n",
       "      <td>NaN</td>\n",
       "      <td>NaN</td>\n",
       "      <td>white</td>\n",
       "      <td>NaN</td>\n",
       "    </tr>\n",
       "    <tr>\n",
       "      <th>tcga-jy-a938</th>\n",
       "      <td>value</td>\n",
       "      <td>75</td>\n",
       "      <td>0</td>\n",
       "      <td>NaN</td>\n",
       "      <td>1060</td>\n",
       "      <td>stage iib</td>\n",
       "      <td>t3</td>\n",
       "      <td>n0</td>\n",
       "      <td>m0</td>\n",
       "      <td>male</td>\n",
       "      <td>no</td>\n",
       "      <td>NaN</td>\n",
       "      <td>NaN</td>\n",
       "      <td>white</td>\n",
       "      <td>NaN</td>\n",
       "    </tr>\n",
       "    <tr>\n",
       "      <th>tcga-l5-a43i</th>\n",
       "      <td>value</td>\n",
       "      <td>77</td>\n",
       "      <td>1</td>\n",
       "      <td>556</td>\n",
       "      <td>NaN</td>\n",
       "      <td>stage iiia</td>\n",
       "      <td>t3</td>\n",
       "      <td>n1</td>\n",
       "      <td>mx</td>\n",
       "      <td>male</td>\n",
       "      <td>yes</td>\n",
       "      <td>NaN</td>\n",
       "      <td>45</td>\n",
       "      <td>white</td>\n",
       "      <td>NaN</td>\n",
       "    </tr>\n",
       "    <tr>\n",
       "      <th>tcga-l5-a43j</th>\n",
       "      <td>value</td>\n",
       "      <td>90</td>\n",
       "      <td>1</td>\n",
       "      <td>131</td>\n",
       "      <td>NaN</td>\n",
       "      <td>stage iib</td>\n",
       "      <td>t3</td>\n",
       "      <td>n0</td>\n",
       "      <td>mx</td>\n",
       "      <td>male</td>\n",
       "      <td>NaN</td>\n",
       "      <td>NaN</td>\n",
       "      <td>54</td>\n",
       "      <td>white</td>\n",
       "      <td>NaN</td>\n",
       "    </tr>\n",
       "  </tbody>\n",
       "</table>\n",
       "</div>"
      ],
      "text/plain": [
       "Hybridization REF Composite Element REF years_to_birth vital_status  \\\n",
       "tcga-ic-a6rf                      value             69            0   \n",
       "tcga-jy-a6fb                      value             77            0   \n",
       "tcga-jy-a938                      value             75            0   \n",
       "tcga-l5-a43i                      value             77            1   \n",
       "tcga-l5-a43j                      value             90            1   \n",
       "\n",
       "Hybridization REF days_to_death days_to_last_followup pathologic_stage  \\\n",
       "tcga-ic-a6rf                NaN                   477         stage ia   \n",
       "tcga-jy-a6fb                NaN                  1837          stage i   \n",
       "tcga-jy-a938                NaN                  1060        stage iib   \n",
       "tcga-l5-a43i                556                   NaN       stage iiia   \n",
       "tcga-l5-a43j                131                   NaN        stage iib   \n",
       "\n",
       "Hybridization REF pathology_T_stage pathology_N_stage pathology_M_stage  \\\n",
       "tcga-ic-a6rf                     t1                n0                m0   \n",
       "tcga-jy-a6fb                     t1                n0                m0   \n",
       "tcga-jy-a938                     t3                n0                m0   \n",
       "tcga-l5-a43i                     t3                n1                mx   \n",
       "tcga-l5-a43j                     t3                n0                mx   \n",
       "\n",
       "Hybridization REF  gender radiation_therapy karnofsky_performance_score  \\\n",
       "tcga-ic-a6rf       female                no                         NaN   \n",
       "tcga-jy-a6fb         male                no                         NaN   \n",
       "tcga-jy-a938         male                no                         NaN   \n",
       "tcga-l5-a43i         male               yes                         NaN   \n",
       "tcga-l5-a43j         male               NaN                         NaN   \n",
       "\n",
       "Hybridization REF number_pack_years_smoked   race               ethnicity  \n",
       "tcga-ic-a6rf                            22  white  not hispanic or latino  \n",
       "tcga-jy-a6fb                           NaN  white                     NaN  \n",
       "tcga-jy-a938                           NaN  white                     NaN  \n",
       "tcga-l5-a43i                            45  white                     NaN  \n",
       "tcga-l5-a43j                            54  white                     NaN  "
      ]
     },
     "execution_count": 2,
     "metadata": {},
     "output_type": "execute_result"
    }
   ],
   "source": [
    "#data = pd.read_csv('gdac.broadinstitute.org_GBMLGG.Clinical_Pick_Tier1.Level_4.2016012800.0.0/GBMLGG.clin.merged.picked.txt', delimiter= \"\\t\", header = 0)\n",
    "data = pd.read_csv('gdac.broadinstitute.org_STES.Clinical_Pick_Tier1.Level_4.2016012800.0.0/STES.clin.merged.picked.txt', delimiter= \"\\t\", header = 0)\n",
    "data = data.T\n",
    "data.columns = data.iloc[0]\n",
    "data = data.drop(data.index[0])\n",
    "data.head()"
   ]
  },
  {
   "cell_type": "markdown",
   "metadata": {},
   "source": [
    "### Explain columns\n",
    "\n",
    "'days_to_death': rewards (lifetime distributions)  \n",
    "'radiation_therapy': two arms (yea/no)\n",
    "    \n",
    "needs to drop NaN"
   ]
  },
  {
   "cell_type": "code",
   "execution_count": 3,
   "metadata": {},
   "outputs": [],
   "source": [
    "days_to_death_with_radiation = data.groupby(['radiation_therapy']).get_group('yes')['days_to_death']\n",
    "days_to_death_without_radiation = data.groupby(['radiation_therapy']).get_group('no')['days_to_death']\n",
    "\n",
    "days_to_death_with_radiation = np.asarray(days_to_death_with_radiation.dropna(), dtype = int)\n",
    "days_to_death_without_radiation = np.asarray(days_to_death_without_radiation.dropna(), dtype = int)"
   ]
  },
  {
   "cell_type": "code",
   "execution_count": 4,
   "metadata": {},
   "outputs": [
    {
     "name": "stdout",
     "output_type": "stream",
     "text": [
      "The number of samples with radiation:  33\n",
      "Median:  436.0  Mean:  605.3333333333334\n",
      "\n",
      "The number of samples without radiation:  194\n",
      "Medians:  343.0  Mean:  424.8917525773196\n"
     ]
    },
    {
     "data": {
      "text/plain": [
       "<matplotlib.legend.Legend at 0x7eff4eb1e400>"
      ]
     },
     "execution_count": 4,
     "metadata": {},
     "output_type": "execute_result"
    },
    {
     "data": {
      "image/png": "[encoded data removed]",
      "text/plain": [
       "<Figure size 1080x288 with 1 Axes>"
      ]
     },
     "metadata": {
      "needs_background": "light"
     },
     "output_type": "display_data"
    }
   ],
   "source": [
    "# Show reward distribution info\n",
    "#from matplotlib.ticker import FormatStrFormatter\n",
    "plt.figure(figsize=(5 * 3 , 4))\n",
    "plt.subplot(1,3, 1)\n",
    "print('The number of samples with radiation: ', len(days_to_death_with_radiation))\n",
    "print('Median: ', np.median(days_to_death_with_radiation), ' Mean: ', np.mean(days_to_death_with_radiation))\n",
    "print()\n",
    "print('The number of samples without radiation: ', len(days_to_death_without_radiation))\n",
    "print('Medians: ', np.median(days_to_death_without_radiation), ' Mean: ', np.mean(days_to_death_without_radiation))\n",
    "\n",
    "sns.distplot(days_to_death_with_radiation, bins = 10, label = 'A', norm_hist=True)\n",
    "sns.distplot(days_to_death_without_radiation, bins = 10, label = 'B', norm_hist=True)\n",
    "plt.xlabel('Days to death')\n",
    "plt.ylabel('Frequency')\n",
    "#axs.yaxis.set_major_formatter(FormatStrFormatter('%.3f'))\n",
    "plt.ticklabel_format(style='sci', axis='y', scilimits=(0,0))\n",
    "plt.title('STES Treatment Histogram')\n",
    "plt.legend()\n",
    "#plt.savefig('STES_hist.pdf', bbox_inches='tight')"
   ]
  },
  {
   "cell_type": "code",
   "execution_count": 5,
   "metadata": {},
   "outputs": [],
   "source": [
    "def cal_mvs(data, rho):\n",
    "    return np.var(data) - rho * np.mean(data)"
   ]
  },
  {
   "cell_type": "markdown",
   "metadata": {},
   "source": [
    "### Setup Environment"
   ]
  },
  {
   "cell_type": "code",
   "execution_count": 6,
   "metadata": {},
   "outputs": [],
   "source": [
    "# setting\n",
    "\n",
    "num_rounds = 1000\n",
    "num_exper = 500\n",
    "num_arms = 2\n",
    "\n",
    "# environment\n",
    "\n",
    "clinical_envs = defaultdict(list)\n",
    "medians = defaultdict(list)\n",
    "means = defaultdict(list)\n",
    "mvs_small_rho = defaultdict(list)\n",
    "mvs_big_rho = defaultdict(list)\n",
    "\n",
    "paras = [50, 1e8] # [rho for MV, alpha for CVaR]\n",
    "\n",
    "clinical_envs['STES'] = [Clinical_env(days_to_death_with_radiation),\n",
    "                              Clinical_env(days_to_death_without_radiation)\n",
    "                             ]\n",
    "\n",
    "medians['STES'] = [np.median(days_to_death_with_radiation),\n",
    "                        np.median(days_to_death_without_radiation)\n",
    "                       ]\n",
    "\n",
    "means['STES'] = [np.mean(days_to_death_with_radiation),\n",
    "                        np.mean(days_to_death_without_radiation)\n",
    "                       ]\n",
    "\n",
    "mvs_small_rho['STES'] = [cal_mvs(days_to_death_with_radiation, paras[0]),\n",
    "                       cal_mvs(days_to_death_without_radiation, paras[0])]\n",
    "\n",
    "mvs_big_rho['STES'] = [cal_mvs(days_to_death_with_radiation, paras[1]),\n",
    "                       cal_mvs(days_to_death_without_radiation, paras[1])]\n",
    "\n",
    "evaluation = ['sd', 'r']\n",
    "\n"
   ]
  },
  {
   "cell_type": "code",
   "execution_count": 7,
   "metadata": {},
   "outputs": [],
   "source": [
    "def run_exper(rewards_env, hyperpara_list, num_exper, num_rounds, policy, medians, est_flag, evaluation):\n",
    "    for key in rewards_env.keys():\n",
    "        for hyperpara in hyperpara_list:\n",
    "            for est_flag in est_flags:\n",
    "                name = key + '_' + str(num_exper) + '_' + str(num_rounds)\n",
    "                policy_name = str(policy).split('.')[-1].split('\\'')[0] + '-'\n",
    "                #if policy_name == 'Hazard_UCB_':  \n",
    "                #    subname = policy_name + str(est_flag)[0] + '_' + str(hyperpara)\n",
    "                subname = policy_name + str(hyperpara)\n",
    "                print(name + subname)\n",
    "                p = IntProgress(max = num_exper)\n",
    "                p.description = 'Running'\n",
    "                display(p)\n",
    "                results[name][subname], results[name]['bound']= simulate(rewards_env[key], medians[key], policy, num_exper, num_rounds, est_flag, hyperpara, evaluation, p)"
   ]
  },
  {
   "cell_type": "code",
   "execution_count": 8,
   "metadata": {
    "scrolled": true
   },
   "outputs": [
    {
     "name": "stdout",
     "output_type": "stream",
     "text": [
      "STES_500_1000H_UCB-[4, 2, 200]\n"
     ]
    },
    {
     "data": {
      "application/vnd.jupyter.widget-view+json": {
       "model_id": "11b80cc7032044719c9f0060560cc0b0",
       "version_major": 2,
       "version_minor": 0
      },
      "text/plain": [
       "IntProgress(value=0, description='Running', max=500)"
      ]
     },
     "metadata": {},
     "output_type": "display_data"
    },
    {
     "name": "stdout",
     "output_type": "stream",
     "text": [
      "STES_500_1000UCB1-[100]\n"
     ]
    },
    {
     "data": {
      "application/vnd.jupyter.widget-view+json": {
       "model_id": "c11aa35f9223471b93c1354dbed8a354",
       "version_major": 2,
       "version_minor": 0
      },
      "text/plain": [
       "IntProgress(value=0, description='Running', max=500)"
      ]
     },
     "metadata": {},
     "output_type": "display_data"
    },
    {
     "name": "stdout",
     "output_type": "stream",
     "text": [
      "STES_500_1000UCB_V-[1.2, 1, 100]\n"
     ]
    },
    {
     "data": {
      "application/vnd.jupyter.widget-view+json": {
       "model_id": "2e9788bf47ad4ad0bad5f26d49e36fa7",
       "version_major": 2,
       "version_minor": 0
      },
      "text/plain": [
       "IntProgress(value=0, description='Running', max=500)"
      ]
     },
     "metadata": {},
     "output_type": "display_data"
    },
    {
     "name": "stdout",
     "output_type": "stream",
     "text": [
      "STES_500_1000MV_LCB-[50, 100]\n"
     ]
    },
    {
     "data": {
      "application/vnd.jupyter.widget-view+json": {
       "model_id": "d26c451b95374d4d99bf877d5702dab6",
       "version_major": 2,
       "version_minor": 0
      },
      "text/plain": [
       "IntProgress(value=0, description='Running', max=500)"
      ]
     },
     "metadata": {},
     "output_type": "display_data"
    },
    {
     "name": "stdout",
     "output_type": "stream",
     "text": [
      "STES_500_1000Exp3-[0.3, 0, 2000]\n"
     ]
    },
    {
     "data": {
      "application/vnd.jupyter.widget-view+json": {
       "model_id": "f7f820aa4f644ad183c98dcd8de42cfe",
       "version_major": 2,
       "version_minor": 0
      },
      "text/plain": [
       "IntProgress(value=0, description='Running', max=500)"
      ]
     },
     "metadata": {},
     "output_type": "display_data"
    },
    {
     "name": "stdout",
     "output_type": "stream",
     "text": [
      "STES_500_1000MV_LCB-[100000000.0, 100]\n"
     ]
    },
    {
     "data": {
      "application/vnd.jupyter.widget-view+json": {
       "model_id": "9df2379c0c7d4058845cf11df7c4a660",
       "version_major": 2,
       "version_minor": 0
      },
      "text/plain": [
       "IntProgress(value=0, description='Running', max=500)"
      ]
     },
     "metadata": {},
     "output_type": "display_data"
    },
    {
     "data": {
      "text/plain": [
       "'\\n# MARAB\\n\\nhyperpara_list = [[paras[1], 0.1], [paras[1], 0.01], [paras[1], 1], [paras[1], 10]]\\nrun_exper(rewards_env, hyperpara_list, num_exper, num_rounds, MARAB, cvars, est_flags, evaluation)\\n'"
      ]
     },
     "execution_count": 8,
     "metadata": {},
     "output_type": "execute_result"
    }
   ],
   "source": [
    "results = defaultdict(dict)\n",
    "\n",
    "est_flags = [False]\n",
    "\n",
    "# Hazard UCB\n",
    "\n",
    "hyperpara_list = [[4, 2, 200]]\n",
    "\n",
    "\n",
    "run_exper(clinical_envs, hyperpara_list, num_exper, num_rounds, H_UCB, medians, est_flags, evaluation)\n",
    "\n",
    "#--------------------------------------------------------------------------------------------------------\n",
    "\n",
    "\n",
    "# UCB1\n",
    "\n",
    "hyperpara_list = [[100]]\n",
    "run_exper(clinical_envs, hyperpara_list, num_exper, num_rounds, UCB1, means, est_flags, evaluation)\n",
    "\n",
    "\n",
    "# UCB_V\n",
    "\n",
    "hyperpara_list = [[1.2, 1, 100]]\n",
    "run_exper(clinical_envs, hyperpara_list, num_exper, num_rounds, UCB_V, means, est_flags, evaluation)\n",
    "\n",
    "# MV_LCB with small rho\n",
    "\n",
    "hyperpara_list = [[paras[0], 100]]\n",
    "run_exper(clinical_envs, hyperpara_list, num_exper, num_rounds, MV_LCB, mvs_small_rho, est_flags, evaluation)\n",
    "\n",
    "# Exp3\n",
    "\n",
    "hyperpara_list = [[0.3, 0, 2000]]\n",
    "run_exper(clinical_envs, hyperpara_list, num_exper, num_rounds, Exp3, medians, est_flags, evaluation)\n",
    "\n",
    "# MV_LCB with big rho\n",
    "\n",
    "hyperpara_list = [[paras[1], 100]]\n",
    "run_exper(clinical_envs, hyperpara_list, num_exper, num_rounds, MV_LCB, mvs_big_rho, est_flags, evaluation)\n",
    "\n",
    "\n",
    "\n",
    "'''\n",
    "# MARAB\n",
    "\n",
    "hyperpara_list = [[paras[1], 0.1], [paras[1], 0.01], [paras[1], 1], [paras[1], 10]]\n",
    "run_exper(rewards_env, hyperpara_list, num_exper, num_rounds, MARAB, cvars, est_flags, evaluation)\n",
    "'''"
   ]
  },
  {
   "cell_type": "code",
   "execution_count": 9,
   "metadata": {},
   "outputs": [
    {
     "data": {
      "image/png": "[encoded data removed]",
      "text/plain": [
       "<Figure size 1080x360 with 1 Axes>"
      ]
     },
     "metadata": {
      "needs_background": "light"
     },
     "output_type": "display_data"
    }
   ],
   "source": [
    "plots.plot_eva(results, 'sd', 'raw')"
   ]
  },
  {
   "cell_type": "code",
   "execution_count": 12,
   "metadata": {},
   "outputs": [
    {
     "name": "stdout",
     "output_type": "stream",
     "text": [
      "1\n"
     ]
    },
    {
     "data": {
      "image/png": "[encoded data removed]",
      "text/plain": [
       "<Figure size 1080x288 with 1 Axes>"
      ]
     },
     "metadata": {
      "needs_background": "light"
     },
     "output_type": "display_data"
    }
   ],
   "source": [
    "plots.plot_eva_for_clinical(results, 'sd')"
   ]
  },
  {
   "cell_type": "markdown",
   "metadata": {},
   "source": [
    "The plots shows our policy performs good in terms of this application.\n",
    "\n",
    "Note: \n",
    "\n",
    "the lower bound of hazard rate estimation (L) in this experiment is not calculated by L = h(0) = f(0)/(1 - F(0)) since we don't know the experssion of distributions. To estimate it, we use #(X <= 100)/# all samples."
   ]
  },
  {
   "cell_type": "code",
   "execution_count": 11,
   "metadata": {},
   "outputs": [],
   "source": [
    "import pickle \n",
    "saving = results\n",
    "\n",
    "with open('os_saving_16.pickle', 'wb') as handle:\n",
    "    pickle.dump(saving, handle, protocol=pickle.HIGHEST_PROTOCOL)"
   ]
  },
  {
   "cell_type": "code",
   "execution_count": null,
   "metadata": {},
   "outputs": [],
   "source": []
  }
 ],
 "metadata": {
  "kernelspec": {
   "display_name": "Python 3",
   "language": "python",
   "name": "python3"
  },
  "language_info": {
   "codemirror_mode": {
    "name": "ipython",
    "version": 3
   },
   "file_extension": ".py",
   "mimetype": "text/x-python",
   "name": "python",
   "nbconvert_exporter": "python",
   "pygments_lexer": "ipython3",
   "version": "3.7.3"
  }
 },
 "nbformat": 4,
 "nbformat_minor": 2
}
