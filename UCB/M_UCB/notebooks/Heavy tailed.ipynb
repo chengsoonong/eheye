{
 "cells": [
  {
   "cell_type": "markdown",
   "metadata": {},
   "source": [
    "R#2: it would be interesting to see the comparison with heavy-tailed bandit algorithms -- clipped estimators and median of means estimator. I do not think the empirical results demonstrated are very convincing."
   ]
  },
  {
   "cell_type": "code",
   "execution_count": 1,
   "metadata": {},
   "outputs": [],
   "source": [
    "# direct to proper path\n",
    "import os\n",
    "import sys\n",
    "module_path = os.path.abspath(os.path.join('..'))\n",
    "if module_path not in sys.path:\n",
    "    sys.path.append(module_path)"
   ]
  },
  {
   "cell_type": "code",
   "execution_count": 2,
   "metadata": {},
   "outputs": [],
   "source": [
    "import numpy as np\n",
    "from ipywidgets import IntProgress\n",
    "from IPython.display import display\n",
    "import matplotlib.pyplot as plt\n",
    "from collections import defaultdict\n",
    "import seaborn as sns\n",
    "import pickle\n",
    "from prettytable import PrettyTable\n",
    "\n",
    "from codes.UCB_discrete import M_UCB, UCB1, UCB_V, MV_LCB, Exp3, Median_of_Means_UCB\n",
    "from codes.Environment import Log_normal, AbsGau, Exp, setup_env\n",
    "from codes.SimulatedGames import simulate\n",
    "from codes.plots import plot_hist, plot_eva\n",
    "\n",
    "%matplotlib inline"
   ]
  },
  {
   "cell_type": "code",
   "execution_count": 3,
   "metadata": {},
   "outputs": [],
   "source": [
    "# setting\n",
    "\n",
    "num_exper = 100\n",
    "num_rounds = 1000\n",
    "num_arms = 3\n",
    "\n",
    "# environment\n",
    "\n",
    "\n",
    "environments = [\n",
    "    #{AbsGau: [0.5, 0.1], Exp: [1]},\n",
    "    {Log_normal: [[0, 0.5], [1,0.5], [2,0.5]]}\n",
    "]\n",
    "paras = [50] # [rho for MV]\n",
    "rewards_env, medians, means, mvs, samples = setup_env(num_arms, environments, paras)"
   ]
  },
  {
   "cell_type": "code",
   "execution_count": 4,
   "metadata": {},
   "outputs": [
    {
     "name": "stdout",
     "output_type": "stream",
     "text": [
      "Log_normal_[[0, 0.5], [1, 0.5], [2, 0.5]]\n",
      "+--------+--------+--------+---------+----------+\n",
      "|  Eva   |   A    |   B    |    C    | Best Arm |\n",
      "+--------+--------+--------+---------+----------+\n",
      "| Median |  1.0   |  2.72  |   7.42  |    C     |\n",
      "|  Mean  |  1.13  |  3.07  |   8.34  |    C     |\n",
      "|   MV   | -56.14 | -150.7 | -398.09 |    C     |\n",
      "+--------+--------+--------+---------+----------+\n",
      "\n"
     ]
    }
   ],
   "source": [
    "arm_name_dict = {\n",
    "    0: 'A',\n",
    "    1: 'B',\n",
    "    2: 'C'\n",
    "}\n",
    "\n",
    "for key in medians.keys():\n",
    "    print(key)\n",
    "    medians[key] = list(np.around(np.array(medians[key]),2))\n",
    "    means[key] = list(np.around(np.array(means[key]),2))\n",
    "    mvs[key] = list(np.around(np.array(mvs[key]),2))\n",
    "    t = PrettyTable(['Eva', 'A', 'B', 'C', 'Best Arm'])\n",
    "    t.add_row(['Median'] + medians[key]+ [arm_name_dict[np.argmax(medians[key])]])\n",
    "    t.add_row(['Mean']+ means[key]+ [arm_name_dict[np.argmax(means[key])]])\n",
    "    t.add_row(['MV']+ mvs[key]+ [arm_name_dict[np.argmin(mvs[key])]])\n",
    "    print(t)\n",
    "    print()"
   ]
  },
  {
   "cell_type": "code",
   "execution_count": 5,
   "metadata": {},
   "outputs": [
    {
     "data": {
      "image/png": "[encoded data removed]",
      "text/plain": [
       "<Figure size 1080x360 with 1 Axes>"
      ]
     },
     "metadata": {
      "needs_background": "light"
     },
     "output_type": "display_data"
    }
   ],
   "source": [
    "plot_hist(samples)"
   ]
  },
  {
   "cell_type": "code",
   "execution_count": 6,
   "metadata": {},
   "outputs": [],
   "source": [
    "# run experiments\n",
    "\n",
    "def run_exper(rewards_env, hyperpara_list, num_exper, num_rounds, policy, summary_stats, est_flags = [True]):\n",
    "    for key in rewards_env.keys():\n",
    "        for hyperpara in hyperpara_list:\n",
    "            for est_flag in est_flags:\n",
    "                name = key + '_' + str(num_exper) + '_' + str(num_rounds)\n",
    "                policy_name = str(policy).split('.')[-1].split('\\'')[0] + '-'\n",
    "                subname = policy_name + str(hyperpara)\n",
    "                print(name + subname)\n",
    "                p = IntProgress(max = num_exper)\n",
    "                p.description = 'Running'\n",
    "                display(p)\n",
    "                results[name][subname]= simulate(rewards_env[key],summary_stats[key], policy, num_exper, num_rounds, est_flag, hyperpara, None, p)\n",
    "                \n",
    "def run_exper_diff_para(rewards_env, hyperpara_list, num_exper, num_rounds, policy, summary_stats, est_flags = [True]):\n",
    "    for key in rewards_env.keys():\n",
    "        for est_flag in est_flags:\n",
    "            name = key + '_' + str(num_exper) + '_' + str(num_rounds)\n",
    "            \n",
    "            # setting different parameters to with and without outliers groups\n",
    "            if 'Outlier' in name:\n",
    "                hyperpara = hyperpara_list[-1]\n",
    "            else:\n",
    "                hyperpara = hyperpara_list[0]\n",
    "            policy_name = str(policy).split('.')[-1].split('\\'')[0] + '-'\n",
    "\n",
    "            subname = policy_name + str(hyperpara)\n",
    "            print(name + subname)\n",
    "            p = IntProgress(max = num_exper)\n",
    "            p.description = 'Running'\n",
    "            display(p)\n",
    "            results[name][subname]= simulate(rewards_env[key], summary_stats[key], policy, num_exper, num_rounds, est_flag, hyperpara, None, p)"
   ]
  },
  {
   "cell_type": "code",
   "execution_count": 7,
   "metadata": {},
   "outputs": [
    {
     "name": "stdout",
     "output_type": "stream",
     "text": [
      "Log_normal_[[0, 0.5], [1, 0.5], [2, 0.5]]_100_1000M_UCB-[0.6, 0.2, 1]\n"
     ]
    },
    {
     "data": {
      "application/vnd.jupyter.widget-view+json": {
       "model_id": "9ea4f7e7ac6c4503b0877ce7bf94edb0",
       "version_major": 2,
       "version_minor": 0
      },
      "text/plain": [
       "IntProgress(value=0, description='Running')"
      ]
     },
     "metadata": {},
     "output_type": "display_data"
    },
    {
     "name": "stderr",
     "output_type": "stream",
     "text": [
      "/home/mengyan/git/eheye/UCB/M_UCB/codes/Environment.py:29: RuntimeWarning: divide by zero encountered in double_scalars\n",
      "  return 1.0/(x * self.sigma * np.sqrt(2 * np.pi)) * np.exp(- (np.log(x) - self.mu) ** 2/(2 * self.sigma ** 2))\n",
      "/home/mengyan/git/eheye/UCB/M_UCB/codes/Environment.py:29: RuntimeWarning: divide by zero encountered in log\n",
      "  return 1.0/(x * self.sigma * np.sqrt(2 * np.pi)) * np.exp(- (np.log(x) - self.mu) ** 2/(2 * self.sigma ** 2))\n",
      "/home/mengyan/git/eheye/UCB/M_UCB/codes/Environment.py:29: RuntimeWarning: invalid value encountered in double_scalars\n",
      "  return 1.0/(x * self.sigma * np.sqrt(2 * np.pi)) * np.exp(- (np.log(x) - self.mu) ** 2/(2 * self.sigma ** 2))\n",
      "/home/mengyan/git/eheye/UCB/M_UCB/codes/Environment.py:32: RuntimeWarning: divide by zero encountered in log\n",
      "  return 0.5 + 0.5 * erf((np.log(x) - self.mu)/(np.sqrt(2) * self.sigma))\n"
     ]
    }
   ],
   "source": [
    "results = defaultdict(dict)\n",
    "\n",
    "# M-UCB\n",
    "\n",
    "hyperpara_list = [[0.6, 0.2, 1]]\n",
    "run_exper(rewards_env, hyperpara_list, num_exper, num_rounds, M_UCB, medians)"
   ]
  },
  {
   "cell_type": "code",
   "execution_count": 8,
   "metadata": {},
   "outputs": [
    {
     "name": "stdout",
     "output_type": "stream",
     "text": [
      "Log_normal_[[0, 0.5], [1, 0.5], [2, 0.5]]_100_1000Median_of_Means_UCB-[10, 1, 1]\n"
     ]
    },
    {
     "data": {
      "application/vnd.jupyter.widget-view+json": {
       "model_id": "f7c3768a74df44c2919d3289b1760f01",
       "version_major": 2,
       "version_minor": 0
      },
      "text/plain": [
       "IntProgress(value=0, description='Running')"
      ]
     },
     "metadata": {},
     "output_type": "display_data"
    }
   ],
   "source": [
    "# Medain_of_means_UCB\n",
    "\n",
    "hyperpara_list = [[10, 1, 1]]\n",
    "run_exper(rewards_env, hyperpara_list, num_exper, num_rounds, Median_of_Means_UCB, means)\n"
   ]
  },
  {
   "cell_type": "code",
   "execution_count": 9,
   "metadata": {},
   "outputs": [
    {
     "data": {
      "image/png": "[encoded data removed]",
      "text/plain": [
       "<Figure size 1080x360 with 1 Axes>"
      ]
     },
     "metadata": {
      "needs_background": "light"
     },
     "output_type": "display_data"
    }
   ],
   "source": [
    "plot_eva(results, 'sd')"
   ]
  },
  {
   "cell_type": "code",
   "execution_count": 10,
   "metadata": {},
   "outputs": [],
   "source": [
    "import pickle\n",
    "\n",
    "with open('heavy_tails.pickle', 'wb') as handle:\n",
    "    pickle.dump(results, handle, protocol=pickle.HIGHEST_PROTOCOL)"
   ]
  },
  {
   "cell_type": "code",
   "execution_count": null,
   "metadata": {},
   "outputs": [],
   "source": []
  }
 ],
 "metadata": {
  "kernelspec": {
   "display_name": "Python 3",
   "language": "python",
   "name": "python3"
  },
  "language_info": {
   "codemirror_mode": {
    "name": "ipython",
    "version": 3
   },
   "file_extension": ".py",
   "mimetype": "text/x-python",
   "name": "python",
   "nbconvert_exporter": "python",
   "pygments_lexer": "ipython3",
   "version": "3.7.4"
  }
 },
 "nbformat": 4,
 "nbformat_minor": 2
}
