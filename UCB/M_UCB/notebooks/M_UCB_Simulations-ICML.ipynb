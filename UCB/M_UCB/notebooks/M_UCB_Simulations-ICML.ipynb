{
 "cells": [
  {
   "cell_type": "markdown",
   "metadata": {},
   "source": [
    "# Median-based Bandits with Unbounded Rewards\n",
    "\n",
    "We consider the class of upper confidence bound bandit algorithms for sequential experiment design problems.\n",
    "We propose a policy, $\\textit{Median-based Upper Confidence Bound}$ (M-UCB), based on the empirical median, that is robust to skewed distributions and outliers. In each round ${t}$ ($t > K$), pick an arm with index\n",
    "\n",
    "$$argmax_{i \\in \\mathcal{K}} \\underbrace{\\hat{m}_{i, T_i(t-1)}}_{\\substack{\\text{Empirical} \\\\ \\text{Median}}} + \\beta  \\underbrace{\\left(\\sqrt{2v_{i,t} \\varepsilon_t} + 2 \\varepsilon_t \\sqrt{\\frac{v_{i,t}}{T_i(t-1)}}\\right)}_{\\text{Confidence Width}},$$\n",
    "\n",
    "\n",
    "where $T_i(t-1)$ is the number of times arm $i$ has been played during first $t-1$ rounds, exploration factor $\\varepsilon_t = \\alpha \\log t$ with $\\alpha$ controlling the exploration rate, hazard factor $v_{i,t} = \\frac{4 }{T_i(t-1) \\hat{L}_{i,T_i(t-1)}^2}$, with $\\hat{L}_{i, T_i(t-1)}$ as the lower bound estimation of hazard rate for reward distribution of arm $i$ at the round $t$.\n",
    "    $\\beta$ is a hyper-parameter balancing the empirical median and confidence width."
   ]
  },
  {
   "cell_type": "code",
   "execution_count": 1,
   "metadata": {},
   "outputs": [],
   "source": [
    "# direct to proper path\n",
    "import os\n",
    "import sys\n",
    "module_path = os.path.abspath(os.path.join('..'))\n",
    "if module_path not in sys.path:\n",
    "    sys.path.append(module_path)"
   ]
  },
  {
   "cell_type": "code",
   "execution_count": 2,
   "metadata": {},
   "outputs": [],
   "source": [
    "import numpy as np\n",
    "from ipywidgets import IntProgress\n",
    "from IPython.display import display\n",
    "import matplotlib.pyplot as plt\n",
    "from collections import defaultdict\n",
    "import seaborn as sns\n",
    "import pickle\n",
    "from prettytable import PrettyTable\n",
    "\n",
    "from codes.UCB_discrete import M_UCB, UCB1, UCB_V, MV_LCB, Exp3, epsilon_greedy, Median_of_Means_UCB, U_UCB\n",
    "from codes.Environment import Mixture_AbsGau, setup_env, Exp\n",
    "from codes.SimulatedGames import simulate\n",
    "from codes.plots import plot_hist, plot_eva\n",
    "\n",
    "%matplotlib inline"
   ]
  },
  {
   "cell_type": "markdown",
   "metadata": {},
   "source": [
    "## Simulations\n",
    "\n",
    "The performance of our proposed algorithm on simulated dataset is shown in this notebook. We compare our policy (M-UCB) with two mean-based algorithms ([UCB1](https://link.springer.com/article/10.1023/A:1013689704352), [UCB-V](https://linkinghub.elsevier.com/retrieve/pii/S030439750900067X)), one risk-averse algorithm [MV-LCB](http://papers.nips.cc/paper/4753-risk-aversion-in-multi-armed-bandits.pdf) and one adversarial algorithm [Exp3](http://cseweb.ucsd.edu/~yfreund/papers/bandits.pdf) in terms of expected sub-optimal draws and expected regret.\n",
    "The Exp3 does not make assumptions about the reward distribution, which might suit the outlier setting better.\n",
    "\n",
    "We simulate 100 independent experiments, for a bandit task with 3 independent arms for 1000 rounds.\n",
    "We consider two experimental settings, corresponding to two types of reward distributions:\n",
    "with and no outliers, as summarised in the following table.\n",
    "The outliers are an absolute Gaussian centred at 20.\n",
    "\n",
    "<style>\n",
    "table th:first-of-type {  \n",
    "    width: 5000px; \n",
    "}\n",
    "</style>\n",
    "\n",
    "| Arms | No Outliers             | With Outliers                                               |  \n",
    "|------|-------------------------|-------------------------------------------------------------|\n",
    "|      |<img width=100/>         |<img width=300/>                                             |\n",
    "| A    | $|\\mathcal{N}(0, 0.5)|$ | $0.95 |\\mathcal{N}(0, 0.5)| + 0.05 |\\mathcal{N}(20, 0.5)|$  |  \n",
    "| B    | $|\\mathcal{N}(0, 0.1)|$ | $0.95 |\\mathcal{N}(0, 0.1)| + 0.05 |\\mathcal{N}(20, 0.5)|$  |      \n",
    "| C    | $Exp(1)$                | $0.95 Exp(1) + 0.05 |\\mathcal{N}(20, 0.5)|$                 |"
   ]
  },
  {
   "cell_type": "code",
   "execution_count": 3,
   "metadata": {},
   "outputs": [],
   "source": [
    "# setting\n",
    "\n",
    "num_exper = 50\n",
    "num_rounds = 10000\n",
    "num_arms = 2\n",
    "\n",
    "# environment\n",
    "\n",
    "#{Mixture_AbsGau: [[0, 0.8, 3,5, 0], [4.3, 1, 3,0.8, 1]], Exp: [0.2]}, # mu1, sigma1, mu2, sigma2, p\n",
    "\n",
    "environments = [\n",
    "    {Mixture_AbsGau: [[3, 1, 0,1, 1], [1.2, 4, 0, 1, 1]], Exp: [0.28]}, # mu1, sigma1, mu2, sigma2, p\n",
    "    \n",
    "]\n",
    "paras = [50] # [rho for MV]\n",
    "rewards_env, medians, means, mvs, samples = setup_env(num_arms, environments, paras)"
   ]
  },
  {
   "cell_type": "code",
   "execution_count": 4,
   "metadata": {},
   "outputs": [
    {
     "data": {
      "text/plain": [
       "0.2857142857142857"
      ]
     },
     "execution_count": 4,
     "metadata": {},
     "output_type": "execute_result"
    }
   ],
   "source": [
    "1/3.5"
   ]
  },
  {
   "cell_type": "code",
   "execution_count": 5,
   "metadata": {},
   "outputs": [
    {
     "data": {
      "text/plain": [
       "defaultdict(list,\n",
       "            {'Mixture_AbsGau_[[3, 1, 0, 1, 1], [1.2, 4, 0, 1, 1]]Exp_[0.28]': [array([4.35328618, 3.30755403, 2.11719456, ..., 2.21214588, 1.77867239,\n",
       "                     3.00732457]),\n",
       "              array([4.80441782, 2.25655497, 4.51021345, ..., 1.19459029, 2.7877241 ,\n",
       "                     6.80507502]),\n",
       "              array([ 3.57959345,  3.13878955, 17.24343943, ...,  0.2010372 ,\n",
       "                      6.7719475 ,  0.78071051])]})"
      ]
     },
     "execution_count": 5,
     "metadata": {},
     "output_type": "execute_result"
    }
   ],
   "source": [
    "samples"
   ]
  },
  {
   "cell_type": "code",
   "execution_count": 6,
   "metadata": {
    "scrolled": true
   },
   "outputs": [
    {
     "name": "stdout",
     "output_type": "stream",
     "text": [
      "Mixture_AbsGau_[[3, 1, 0, 1, 1], [1.2, 4, 0, 1, 1]]Exp_[0.28]\n",
      "+--------+------+------+------+----------+\n",
      "|  Eva   |  A   |  B   |  C   | Best Arm |\n",
      "+--------+------+------+------+----------+\n",
      "| Median | 3.0  | 2.79 | 2.49 |    A     |\n",
      "|  Mean  | 3.01 | 3.32 | 3.6  |    C     |\n",
      "+--------+------+------+------+----------+\n",
      "\n"
     ]
    }
   ],
   "source": [
    "arm_name_dict = {\n",
    "    0: 'A',\n",
    "    1: 'B',\n",
    "    2: 'C'\n",
    "}\n",
    "\n",
    "for key in medians.keys():\n",
    "    print(key)\n",
    "    medians[key] = list(np.around(np.array(medians[key]),2))\n",
    "    means[key] = list(np.around(np.array(means[key]),2))\n",
    "    mvs[key] = list(np.around(np.array(mvs[key]),2))\n",
    "    t = PrettyTable(['Eva', 'A', 'B', 'C', 'Best Arm'])\n",
    "    t.add_row(['Median'] + medians[key]+ [arm_name_dict[np.argmax(medians[key])]])\n",
    "    t.add_row(['Mean']+ means[key]+ [arm_name_dict[np.argmax(means[key])]])\n",
    "    #t.add_row(['MV']+ mvs[key]+ [arm_name_dict[np.argmin(mvs[key])]])\n",
    "    print(t)\n",
    "    print()"
   ]
  },
  {
   "cell_type": "code",
   "execution_count": 7,
   "metadata": {},
   "outputs": [
    {
     "data": {
      "image/png": "[encoded data removed]",
      "text/plain": [
       "<Figure size 864x216 with 1 Axes>"
      ]
     },
     "metadata": {
      "needs_background": "light"
     },
     "output_type": "display_data"
    }
   ],
   "source": [
    "plot_hist(samples)"
   ]
  },
  {
   "cell_type": "code",
   "execution_count": 8,
   "metadata": {},
   "outputs": [],
   "source": [
    "# run experiments\n",
    "\n",
    "def run_exper(rewards_env, hyperpara_list, num_exper, num_rounds, policy, summary_stats, est_flags = [True]):\n",
    "    for key in rewards_env.keys():\n",
    "        for hyperpara in hyperpara_list:\n",
    "            for est_flag in est_flags:\n",
    "                name = key + '_' + str(num_exper) + '_' + str(num_rounds)\n",
    "                policy_name = str(policy).split('.')[-1].split('\\'')[0] + '-'\n",
    "                subname = policy_name + str(hyperpara)\n",
    "                print(name + subname)\n",
    "                p = IntProgress(max = num_exper)\n",
    "                p.description = 'Running'\n",
    "                display(p)\n",
    "                results[name][subname]= simulate(rewards_env[key],summary_stats[key], policy, num_exper, num_rounds, est_flag, hyperpara, None, p)\n",
    "                \n",
    "def run_exper_diff_para(rewards_env, hyperpara_list, num_exper, num_rounds, policy, summary_stats, est_flags = [True]):\n",
    "    for key in rewards_env.keys():\n",
    "        for est_flag in est_flags:\n",
    "            name = key + '_' + str(num_exper) + '_' + str(num_rounds)\n",
    "            \n",
    "            # setting different parameters to with and without outliers groups\n",
    "            if 'Outlier' in name:\n",
    "                hyperpara = hyperpara_list[-1]\n",
    "            else:\n",
    "                hyperpara = hyperpara_list[0]\n",
    "            policy_name = str(policy).split('.')[-1].split('\\'')[0] + '-'\n",
    "\n",
    "            subname = policy_name + str(hyperpara)\n",
    "            print(name + subname)\n",
    "            p = IntProgress(max = num_exper)\n",
    "            p.description = 'Running'\n",
    "            display(p)\n",
    "            results[name][subname]= simulate(rewards_env[key], summary_stats[key], policy, num_exper, num_rounds, est_flag, hyperpara, None, p)"
   ]
  },
  {
   "cell_type": "code",
   "execution_count": 9,
   "metadata": {
    "scrolled": true
   },
   "outputs": [
    {
     "name": "stdout",
     "output_type": "stream",
     "text": [
      "Mixture_AbsGau_[[3, 1, 0, 1, 1], [1.2, 4, 0, 1, 1]]Exp_[0.28]_50_10000M_UCB-[4, 1, 1]\n"
     ]
    },
    {
     "data": {
      "application/vnd.jupyter.widget-view+json": {
       "model_id": "ab4dcc4ca9af4aaf89dddff6dfb90b77",
       "version_major": 2,
       "version_minor": 0
      },
      "text/plain": [
       "IntProgress(value=0, description='Running', max=50)"
      ]
     },
     "metadata": {},
     "output_type": "display_data"
    },
    {
     "name": "stdout",
     "output_type": "stream",
     "text": [
      "[0.008863696823876015, 0.19069390773026207, 0.28]\n",
      "[0.008863696823876015, 0.19069390773026207, 0.28]\n",
      "[0.008863696823876015, 0.19069390773026207, 0.28]\n",
      "[0.008863696823876015, 0.19069390773026207, 0.28]\n",
      "[0.008863696823876015, 0.19069390773026207, 0.28]\n",
      "[0.008863696823876015, 0.19069390773026207, 0.28]\n",
      "[0.008863696823876015, 0.19069390773026207, 0.28]\n",
      "[0.008863696823876015, 0.19069390773026207, 0.28]\n",
      "[0.008863696823876015, 0.19069390773026207, 0.28]\n",
      "[0.008863696823876015, 0.19069390773026207, 0.28]\n",
      "[0.008863696823876015, 0.19069390773026207, 0.28]\n",
      "[0.008863696823876015, 0.19069390773026207, 0.28]\n",
      "[0.008863696823876015, 0.19069390773026207, 0.28]\n",
      "[0.008863696823876015, 0.19069390773026207, 0.28]\n",
      "[0.008863696823876015, 0.19069390773026207, 0.28]\n",
      "[0.008863696823876015, 0.19069390773026207, 0.28]\n",
      "[0.008863696823876015, 0.19069390773026207, 0.28]\n",
      "[0.008863696823876015, 0.19069390773026207, 0.28]\n",
      "[0.008863696823876015, 0.19069390773026207, 0.28]\n",
      "[0.008863696823876015, 0.19069390773026207, 0.28]\n",
      "[0.008863696823876015, 0.19069390773026207, 0.28]\n",
      "[0.008863696823876015, 0.19069390773026207, 0.28]\n",
      "[0.008863696823876015, 0.19069390773026207, 0.28]\n",
      "[0.008863696823876015, 0.19069390773026207, 0.28]\n",
      "[0.008863696823876015, 0.19069390773026207, 0.28]\n",
      "[0.008863696823876015, 0.19069390773026207, 0.28]\n",
      "[0.008863696823876015, 0.19069390773026207, 0.28]\n",
      "[0.008863696823876015, 0.19069390773026207, 0.28]\n",
      "[0.008863696823876015, 0.19069390773026207, 0.28]\n",
      "[0.008863696823876015, 0.19069390773026207, 0.28]\n",
      "[0.008863696823876015, 0.19069390773026207, 0.28]\n",
      "[0.008863696823876015, 0.19069390773026207, 0.28]\n",
      "[0.008863696823876015, 0.19069390773026207, 0.28]\n",
      "[0.008863696823876015, 0.19069390773026207, 0.28]\n",
      "[0.008863696823876015, 0.19069390773026207, 0.28]\n",
      "[0.008863696823876015, 0.19069390773026207, 0.28]\n",
      "[0.008863696823876015, 0.19069390773026207, 0.28]\n",
      "[0.008863696823876015, 0.19069390773026207, 0.28]\n",
      "[0.008863696823876015, 0.19069390773026207, 0.28]\n",
      "[0.008863696823876015, 0.19069390773026207, 0.28]\n",
      "[0.008863696823876015, 0.19069390773026207, 0.28]\n",
      "[0.008863696823876015, 0.19069390773026207, 0.28]\n",
      "[0.008863696823876015, 0.19069390773026207, 0.28]\n",
      "[0.008863696823876015, 0.19069390773026207, 0.28]\n",
      "[0.008863696823876015, 0.19069390773026207, 0.28]\n",
      "[0.008863696823876015, 0.19069390773026207, 0.28]\n",
      "[0.008863696823876015, 0.19069390773026207, 0.28]\n",
      "[0.008863696823876015, 0.19069390773026207, 0.28]\n",
      "[0.008863696823876015, 0.19069390773026207, 0.28]\n",
      "[0.008863696823876015, 0.19069390773026207, 0.28]\n",
      "Mixture_AbsGau_[[3, 1, 0, 1, 1], [1.2, 4, 0, 1, 1]]Exp_[0.28]_50_10000U_UCB-[4]\n"
     ]
    },
    {
     "data": {
      "application/vnd.jupyter.widget-view+json": {
       "model_id": "a4047b84f51e470eaf9b23e65c536a63",
       "version_major": 2,
       "version_minor": 0
      },
      "text/plain": [
       "IntProgress(value=0, description='Running', max=50)"
      ]
     },
     "metadata": {},
     "output_type": "display_data"
    },
    {
     "name": "stdout",
     "output_type": "stream",
     "text": [
      "Mixture_AbsGau_[[3, 1, 0, 1, 1], [1.2, 4, 0, 1, 1]]Exp_[0.28]_50_10000epsilon_greedy-[0.1]\n"
     ]
    },
    {
     "data": {
      "application/vnd.jupyter.widget-view+json": {
       "model_id": "4d34d6c83453490f996f76e9ade2ab11",
       "version_major": 2,
       "version_minor": 0
      },
      "text/plain": [
       "IntProgress(value=0, description='Running', max=50)"
      ]
     },
     "metadata": {},
     "output_type": "display_data"
    },
    {
     "name": "stdout",
     "output_type": "stream",
     "text": [
      "Mixture_AbsGau_[[3, 1, 0, 1, 1], [1.2, 4, 0, 1, 1]]Exp_[0.28]_50_10000Median_of_Means_UCB-[10, 1, 1]\n"
     ]
    },
    {
     "data": {
      "application/vnd.jupyter.widget-view+json": {
       "model_id": "3288266ac62047b4b4df7169ac7157d1",
       "version_major": 2,
       "version_minor": 0
      },
      "text/plain": [
       "IntProgress(value=0, description='Running', max=50)"
      ]
     },
     "metadata": {},
     "output_type": "display_data"
    },
    {
     "name": "stdout",
     "output_type": "stream",
     "text": [
      "Mixture_AbsGau_[[3, 1, 0, 1, 1], [1.2, 4, 0, 1, 1]]Exp_[0.28]_50_10000Exp3-[0.5, 0, 30]\n"
     ]
    },
    {
     "data": {
      "application/vnd.jupyter.widget-view+json": {
       "model_id": "c762f2c263db491b86b8c39f0792807c",
       "version_major": 2,
       "version_minor": 0
      },
      "text/plain": [
       "IntProgress(value=0, description='Running', max=50)"
      ]
     },
     "metadata": {},
     "output_type": "display_data"
    }
   ],
   "source": [
    "results = defaultdict(dict)\n",
    "\n",
    "\n",
    "# M-UCB\n",
    "\n",
    "hyperpara_list = [[4,1,1]]\n",
    "run_exper(rewards_env, hyperpara_list, num_exper, num_rounds, M_UCB, medians)\n",
    "\n",
    "#--------------------------------------------------------------------------------------------------------\n",
    "# Benchmark algorithms\n",
    "\n",
    "# U-UCB\n",
    "\n",
    "hyperpara_list = [[4]]\n",
    "run_exper(rewards_env, hyperpara_list, num_exper, num_rounds, U_UCB, medians)\n",
    "\n",
    "hyperpara_list = [[0.1]]\n",
    "run_exper(rewards_env, hyperpara_list, num_exper, num_rounds, epsilon_greedy, medians)\n",
    "\n",
    "\n",
    "hyperpara_list = [[10, 1, 1]]\n",
    "run_exper(rewards_env, hyperpara_list, num_exper, num_rounds, Median_of_Means_UCB, means)\n",
    "'''\n",
    "# UCB1\n",
    "\n",
    "hyperpara_list = [[1]]\n",
    "run_exper(rewards_env, hyperpara_list, num_exper, num_rounds, UCB1, means)\n",
    "\n",
    "\n",
    "# UCB-V\n",
    "\n",
    "hyperpara_list = [[1.2, 1, 1]]\n",
    "run_exper(rewards_env, hyperpara_list, num_exper, num_rounds, UCB_V, means)\n",
    "\n",
    "# MV-LCB\n",
    "\n",
    "hyperpara_list = [[paras[0], 1]]\n",
    "run_exper(rewards_env, hyperpara_list, num_exper, num_rounds, MV_LCB, mvs)\n",
    "'''\n",
    "\n",
    "# Exp3\n",
    "\n",
    "hyperpara_list = [[0.5, 0, 30]]\n",
    "run_exper_diff_para(rewards_env, hyperpara_list, num_exper, num_rounds, Exp3, means)\n"
   ]
  },
  {
   "cell_type": "code",
   "execution_count": 10,
   "metadata": {
    "scrolled": true
   },
   "outputs": [
    {
     "data": {
      "image/png": "[encoded data removed]",
      "text/plain": [
       "<Figure size 1080x360 with 1 Axes>"
      ]
     },
     "metadata": {
      "needs_background": "light"
     },
     "output_type": "display_data"
    }
   ],
   "source": [
    "plot_eva(results, 'sd', paper_flag = False)"
   ]
  },
  {
   "cell_type": "markdown",
   "metadata": {},
   "source": [
    "## Save results"
   ]
  },
  {
   "cell_type": "code",
   "execution_count": 11,
   "metadata": {},
   "outputs": [],
   "source": [
    "import pickle\n",
    "\n",
    "with open('simulation4.pickle', 'wb') as handle:\n",
    "    pickle.dump(results, handle, protocol=pickle.HIGHEST_PROTOCOL)"
   ]
  },
  {
   "cell_type": "markdown",
   "metadata": {},
   "source": [
    "## Plot results"
   ]
  },
  {
   "cell_type": "code",
   "execution_count": 12,
   "metadata": {},
   "outputs": [],
   "source": [
    "import pickle\n",
    "from codes.plots import plot_hist, plot_eva\n",
    "\n",
    "with open('simulation4.pickle', 'rb') as handle:\n",
    "    results = pickle.load(handle)"
   ]
  },
  {
   "cell_type": "code",
   "execution_count": 13,
   "metadata": {},
   "outputs": [
    {
     "data": {
      "image/png": "[encoded data removed]",
      "text/plain": [
       "<Figure size 1080x360 with 1 Axes>"
      ]
     },
     "metadata": {
      "needs_background": "light"
     },
     "output_type": "display_data"
    }
   ],
   "source": [
    "plot_eva(results, 'r')"
   ]
  },
  {
   "cell_type": "markdown",
   "metadata": {},
   "source": [
    "M-UCB outperforms other methods and has a stable performance for the situations with or without outliers, in terms of both expected sub-optimal draws and expected regret.\n",
    "Unsurprisingly, mean-based algorithms (UCB1 and UCB-V) are more sensitive to outliers compared to the risk-averse MV-LCB and our algorithm, especially when the support of outliers is bigger than assumed reward support.\n",
    "Surprisingly, the outliers also cause the adversarial algorithm Exp3 to have worse performance. From the plot of the expected sub-optimal draws, we observe that MV-LCB is robust to outliers but still has a larger number of sub-optimal draws than M-UCB."
   ]
  },
  {
   "cell_type": "code",
   "execution_count": null,
   "metadata": {},
   "outputs": [],
   "source": []
  }
 ],
 "metadata": {
  "kernelspec": {
   "display_name": "Python 3",
   "language": "python",
   "name": "python3"
  },
  "language_info": {
   "codemirror_mode": {
    "name": "ipython",
    "version": 3
   },
   "file_extension": ".py",
   "mimetype": "text/x-python",
   "name": "python",
   "nbconvert_exporter": "python",
   "pygments_lexer": "ipython3",
   "version": "3.7.4"
  }
 },
 "nbformat": 4,
 "nbformat_minor": 2
}
