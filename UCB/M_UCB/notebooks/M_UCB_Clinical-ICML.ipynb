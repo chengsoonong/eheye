{
 "cells": [
  {
   "cell_type": "markdown",
   "metadata": {},
   "source": [
    "# Median-based Bandits with Unbounded Rewards\n",
    "\n",
    "We consider the class of upper confidence bound bandit algorithms for sequential experiment design problems.\n",
    "We propose a policy, $\\textit{Median-based Upper Confidence Bound}$ (M-UCB), based on the empirical median, that is robust to skewed distributions and outliers. In each round ${t}$ ($t > K$), pick an arm with index\n",
    "\n",
    "$$argmax_{i \\in \\mathcal{K}} \\underbrace{\\hat{m}_{i, T_i(t-1)}}_{\\substack{\\text{Empirical} \\\\ \\text{Median}}} + \\beta  \\underbrace{\\left(\\sqrt{2v_{i,t} \\varepsilon_t} + 2 \\varepsilon_t \\sqrt{\\frac{v_{i,t}}{T_i(t-1)}}\\right)}_{\\text{Confidence Width}},$$\n",
    "\n",
    "\n",
    "where $T_i(t-1)$ is the number of times arm $i$ has been played during first $t-1$ rounds, exploration factor $\\varepsilon_t = \\alpha \\log t$ with $\\alpha$ controlling the exploration rate, hazard factor $v_{i,t} = \\frac{4 }{T_i(t-1) \\hat{L}_{i,T_i(t-1)}^2}$, with $\\hat{L}_{i, T_i(t-1)}$ as the lower bound estimation of hazard rate for reward distribution of arm $i$ at the round $t$.\n",
    "    $\\beta$ is a hyper-parameter balancing the empirical median and confidence width."
   ]
  },
  {
   "cell_type": "code",
   "execution_count": 17,
   "metadata": {},
   "outputs": [],
   "source": [
    "# direct to proper path\n",
    "import os\n",
    "import sys\n",
    "module_path = os.path.abspath(os.path.join('..'))\n",
    "if module_path not in sys.path:\n",
    "    sys.path.append(module_path)"
   ]
  },
  {
   "cell_type": "code",
   "execution_count": 18,
   "metadata": {},
   "outputs": [],
   "source": [
    "import numpy as np\n",
    "import pandas as pd\n",
    "from ipywidgets import IntProgress\n",
    "from IPython.display import display\n",
    "import matplotlib.pyplot as plt\n",
    "from collections import defaultdict\n",
    "import seaborn as sns\n",
    "import pickle\n",
    "from prettytable import PrettyTable\n",
    "\n",
    "from codes.UCB_discrete import M_UCB, UCB1, UCB_V, MV_LCB, Exp3, U_UCB, Median_of_Means_UCB, epsilon_greedy\n",
    "from codes.Environment import Clinical_env\n",
    "from codes.SimulatedGames import simulate\n",
    "from codes.plots import plot_eva_for_clinical\n",
    "\n",
    "%matplotlib inline"
   ]
  },
  {
   "cell_type": "markdown",
   "metadata": {},
   "source": [
    "## Effect of Treatment on Cancer Survival\n",
    "\n",
    "The clinical experiment is a classical example of bandit problems. The type of treatments needs to be determined when patients arrive sequentially and the effectiveness of treatments are initially unknown.\n",
    "Survival analysis with medians and hazard rate are commonly used in clinical experiment analysis.\n",
    "Decision-makers in clinical treatments need to manage risk and maximise the optimal choices (i.e. minimise the number of sub-optimal choices).\n",
    "Furthermore, empirical medians (the basis of our approach) are robust against outliers and positively skewed distributions.\n",
    "\n",
    "We use two clinical datasets from [Broad Institute Firehouse](https://gdac.broadinstitute.org/), namely the Glinoma dataset, and the Stomach and Esophageal carcinoma (STES) dataset.\n",
    "These were chosen because they have a large number of samples.\n",
    "For both datasets, there are two choices $\\textit{Radiation}$ and $\\textit{No Radiation}$,\n",
    "and the reward is the number of days a patient survives (Survival Days).\n",
    "As patients arrive sequentially, our goal is to minimise the sub-optimal treatment choices."
   ]
  },
  {
   "cell_type": "code",
   "execution_count": 19,
   "metadata": {},
   "outputs": [],
   "source": [
    "PARAS = [50, 1e8] # [rho for MV, alpha for CVaR]\n",
    "FIXED_L = None\n",
    "\n",
    "clinical_envs = defaultdict(list)\n",
    "medians = defaultdict(list)\n",
    "means = defaultdict(list)\n",
    "mvs_small_rho = defaultdict(list)\n",
    "mvs_big_rho = defaultdict(list)\n",
    "\n",
    "num_rounds = 10000\n",
    "num_exper = 50\n",
    "num_arms = 2"
   ]
  },
  {
   "cell_type": "code",
   "execution_count": 20,
   "metadata": {},
   "outputs": [],
   "source": [
    "def read_data(data_path):\n",
    "    \"\"\"Read data from txt file.\n",
    "    \n",
    "    return\n",
    "    -------------------------------------\n",
    "    env_data: dataframe\n",
    "         two columns: arms (yes; no); \n",
    "                     rewards (positive int, survival days)\n",
    "    \"\"\"\n",
    "    data = pd.read_csv(data_path, delimiter= \"\\t\", header = 0)\n",
    "    data = data.T\n",
    "    data.columns = data.iloc[0]\n",
    "    data = data.drop(data.index[0])\n",
    "\n",
    "    # only use two columns\n",
    "    # 'days_to_death': rewards (lifetime distributions)  \n",
    "    # 'radiation_therapy': two arms (yea/no)\n",
    "    env_data = data[['radiation_therapy', 'days_to_death']]\n",
    "    env_data = env_data.rename(columns = {'radiation_therapy': 'arms', 'days_to_death': 'rewards'})\n",
    "\n",
    "    return env_data"
   ]
  },
  {
   "cell_type": "code",
   "execution_count": 21,
   "metadata": {},
   "outputs": [],
   "source": [
    "def cal_mvs(data, rho):\n",
    "    \"\"\"Calculate mean-variance.\n",
    "    \"\"\"\n",
    "    return np.var(data) - rho * np.mean(data)"
   ]
  },
  {
   "cell_type": "code",
   "execution_count": 104,
   "metadata": {},
   "outputs": [],
   "source": [
    "def setup_env(data, data_name):\n",
    "    \"\"\"Setup environment for clinical data.\n",
    "    \n",
    "    Parameters\n",
    "    ----------------------------------------------------\n",
    "    data: dataframe\n",
    "        two columns: arms (yes; no); \n",
    "                     rewards (positive int, survival days)\n",
    "    data_name: string\n",
    "        name for clinical data, use for keys of dictionaries\n",
    "        \n",
    "    Return\n",
    "    ----------------------------------------------------\n",
    "    Rad: array \n",
    "        rewards (days of survival) when patients choose radiations\n",
    "    NoRad: array\n",
    "        rewards (days of survival) when patients choose no radiations\n",
    "    \"\"\"\n",
    "    Rad = data.groupby(['arms']).get_group('yes')['rewards'] # Radiation \n",
    "    NoRad = data.groupby(['arms']).get_group('no')['rewards'] # No Radiation\n",
    "    \n",
    "    # Drop NaN\n",
    "    Rad = np.asarray(Rad.dropna(), dtype = int)\n",
    "    print('Rad: ', sorted(Rad))\n",
    "    NoRad = np.asarray(NoRad.dropna(), dtype = int)\n",
    "    print('NoRad: ', sorted(NoRad))\n",
    "    \n",
    "    Rad = reward_func(Rad)\n",
    "    print('Rad: ', sorted(Rad))\n",
    "    NoRad = reward_func(NoRad)\n",
    "    print('NoRad: ', sorted(NoRad))\n",
    "\n",
    "    # Setup global variables\n",
    "    clinical_envs[data_name] = [Clinical_env(NoRad), Clinical_env(Rad)]\n",
    "    medians[data_name] = [np.median(NoRad),np.median(Rad)]\n",
    "    \n",
    "    \n",
    "    return Rad, NoRad\n",
    "\n",
    "def reward_func(ori_reward):\n",
    "    new_reward = []\n",
    "    for i in ori_reward:\n",
    "        new_reward.append(1.0/(1 + np.exp(-0.0005 * i )))\n",
    "    return new_reward"
   ]
  },
  {
   "cell_type": "code",
   "execution_count": 105,
   "metadata": {},
   "outputs": [],
   "source": [
    "def show_data(Rad, NoRad, data_name):\n",
    "    plt.figure(figsize=(5 * 3 , 4))\n",
    "    plt.subplot(1,3,1)\n",
    "    print('For ', data_name, ' dataset:')\n",
    "    print('The number of samples with radiation: ', len(Rad))\n",
    "    print('Median: ', np.median(Rad), ' Mean: ', np.mean(Rad))\n",
    "    print()\n",
    "    print('The number of samples without radiation: ', len(NoRad))\n",
    "    print('Medians: ', np.median(NoRad), ' Mean: ', np.mean(NoRad))\n",
    "    \n",
    "    #num_bins = int(max(max(Rad), max(NoRad))/183) # one bin represents half year\n",
    "    num_bins = 15\n",
    "    sns.distplot(NoRad, bins = num_bins, label = 'No Radians', norm_hist=True, kde = False)\n",
    "    sns.distplot(Rad, bins = num_bins, label = 'Radiations', norm_hist=True, kde = False)\n",
    "    #plt.xlim(-200,3100)\n",
    "    #plt.ylim(0, 5 * 1e-3)\n",
    "    \n",
    "    plt.xlabel('Survival Days')\n",
    "    plt.ylabel('Frequency')\n",
    "    plt.ticklabel_format(style='sci', axis='y', scilimits=(0,0))\n",
    "    title_name = data_name + ' Treatment Histogram'\n",
    "    plt.title(title_name)\n",
    "    plt.legend()\n",
    "    #plt.savefig(title_name + '.pdf', bbox_inches='tight')"
   ]
  },
  {
   "cell_type": "markdown",
   "metadata": {},
   "source": [
    "### Glinoma Dataset"
   ]
  },
  {
   "cell_type": "code",
   "execution_count": 106,
   "metadata": {},
   "outputs": [
    {
     "data": {
      "text/html": [
       "<div>\n",
       "<style scoped>\n",
       "    .dataframe tbody tr th:only-of-type {\n",
       "        vertical-align: middle;\n",
       "    }\n",
       "\n",
       "    .dataframe tbody tr th {\n",
       "        vertical-align: top;\n",
       "    }\n",
       "\n",
       "    .dataframe thead th {\n",
       "        text-align: right;\n",
       "    }\n",
       "</style>\n",
       "<table border=\"1\" class=\"dataframe\">\n",
       "  <thead>\n",
       "    <tr style=\"text-align: right;\">\n",
       "      <th>Hybridization REF</th>\n",
       "      <th>arms</th>\n",
       "      <th>rewards</th>\n",
       "    </tr>\n",
       "  </thead>\n",
       "  <tbody>\n",
       "    <tr>\n",
       "      <td>tcga-06-6391</td>\n",
       "      <td>no</td>\n",
       "      <td>45</td>\n",
       "    </tr>\n",
       "    <tr>\n",
       "      <td>tcga-19-a6j4</td>\n",
       "      <td>NaN</td>\n",
       "      <td>121</td>\n",
       "    </tr>\n",
       "    <tr>\n",
       "      <td>tcga-cs-6665</td>\n",
       "      <td>yes</td>\n",
       "      <td>NaN</td>\n",
       "    </tr>\n",
       "    <tr>\n",
       "      <td>tcga-cs-6670</td>\n",
       "      <td>NaN</td>\n",
       "      <td>NaN</td>\n",
       "    </tr>\n",
       "    <tr>\n",
       "      <td>tcga-db-a4xc</td>\n",
       "      <td>yes</td>\n",
       "      <td>NaN</td>\n",
       "    </tr>\n",
       "  </tbody>\n",
       "</table>\n",
       "</div>"
      ],
      "text/plain": [
       "Hybridization REF arms rewards\n",
       "tcga-06-6391        no      45\n",
       "tcga-19-a6j4       NaN     121\n",
       "tcga-cs-6665       yes     NaN\n",
       "tcga-cs-6670       NaN     NaN\n",
       "tcga-db-a4xc       yes     NaN"
      ]
     },
     "execution_count": 106,
     "metadata": {},
     "output_type": "execute_result"
    }
   ],
   "source": [
    "Glin_path = '../Data/GBMLGG.clin.merged.picked.txt'\n",
    "Glin_data = read_data(Glin_path)\n",
    "Glin_data.head()"
   ]
  },
  {
   "cell_type": "code",
   "execution_count": 107,
   "metadata": {},
   "outputs": [
    {
     "name": "stdout",
     "output_type": "stream",
     "text": [
      "Rad:  [20, 24, 30, 47, 53, 62, 76, 77, 78, 82, 82, 82, 86, 94, 95, 97, 98, 98, 98, 99, 100, 100, 102, 103, 104, 105, 106, 110, 121, 121, 121, 123, 126, 127, 130, 133, 133, 135, 138, 138, 141, 142, 144, 146, 146, 147, 148, 150, 153, 154, 154, 157, 159, 162, 164, 165, 167, 175, 177, 178, 182, 183, 189, 194, 199, 199, 202, 203, 206, 208, 209, 213, 214, 216, 221, 223, 224, 225, 225, 228, 230, 231, 231, 231, 232, 232, 232, 233, 234, 235, 235, 239, 240, 241, 242, 244, 245, 254, 254, 256, 256, 256, 262, 268, 269, 272, 274, 276, 278, 279, 282, 285, 287, 290, 291, 291, 296, 298, 298, 300, 301, 307, 310, 313, 313, 316, 317, 318, 318, 320, 321, 322, 322, 323, 323, 324, 326, 327, 327, 327, 329, 329, 330, 333, 335, 337, 342, 343, 345, 345, 346, 347, 347, 349, 350, 351, 354, 355, 357, 357, 358, 360, 360, 360, 362, 364, 368, 369, 370, 370, 372, 372, 372, 372, 372, 375, 377, 378, 378, 379, 380, 382, 383, 383, 384, 385, 386, 386, 388, 388, 393, 394, 394, 395, 399, 404, 405, 406, 415, 419, 419, 422, 422, 424, 425, 425, 426, 427, 428, 430, 432, 432, 434, 435, 435, 438, 438, 440, 441, 442, 442, 444, 444, 448, 448, 448, 452, 452, 454, 454, 454, 454, 455, 456, 457, 458, 459, 460, 460, 466, 466, 466, 467, 467, 468, 468, 469, 476, 476, 480, 482, 484, 485, 485, 485, 486, 486, 489, 492, 493, 498, 502, 503, 504, 505, 506, 508, 510, 511, 511, 512, 515, 515, 516, 519, 523, 531, 532, 535, 537, 537, 537, 538, 539, 541, 541, 543, 544, 546, 548, 550, 557, 558, 559, 560, 561, 562, 567, 575, 576, 578, 585, 587, 588, 592, 592, 596, 598, 600, 603, 604, 605, 607, 611, 612, 616, 618, 620, 620, 621, 625, 626, 627, 630, 632, 632, 634, 635, 638, 639, 641, 646, 648, 648, 648, 661, 666, 675, 678, 682, 684, 690, 691, 691, 701, 705, 705, 709, 713, 715, 717, 722, 727, 727, 728, 735, 737, 737, 737, 742, 747, 748, 753, 754, 764, 771, 775, 775, 781, 782, 782, 788, 790, 801, 803, 804, 811, 812, 814, 814, 814, 815, 819, 819, 821, 822, 828, 829, 845, 880, 883, 886, 889, 914, 918, 946, 961, 962, 975, 984, 987, 1010, 1011, 1024, 1033, 1048, 1062, 1062, 1068, 1077, 1120, 1121, 1137, 1143, 1151, 1152, 1161, 1179, 1183, 1185, 1209, 1220, 1229, 1233, 1251, 1282, 1300, 1315, 1335, 1339, 1339, 1356, 1401, 1417, 1426, 1433, 1448, 1458, 1481, 1489, 1491, 1525, 1537, 1547, 1561, 1578, 1585, 1615, 1638, 1731, 1762, 1785, 1818, 1891, 1933, 1977, 1987, 2000, 2052, 2126, 2201, 2235, 2286, 2362, 2379, 2433, 2512, 2648, 2660, 2681, 2729, 2755, 2791, 2835, 2875, 2883, 3041, 3200, 3470, 3524, 3571, 3881, 4068, 4084, 4229, 4412, 4445, 4695, 5166]\n",
      "NoRad:  [3, 5, 6, 6, 7, 8, 12, 12, 15, 16, 20, 22, 22, 23, 26, 28, 28, 29, 30, 33, 33, 34, 35, 36, 37, 39, 41, 42, 45, 49, 54, 57, 60, 62, 64, 67, 68, 71, 77, 82, 83, 87, 88, 96, 96, 99, 108, 111, 111, 111, 111, 112, 113, 114, 114, 119, 123, 124, 127, 136, 139, 143, 164, 169, 175, 178, 178, 179, 191, 205, 254, 277, 315, 343, 398, 414, 457, 463, 492, 618, 703, 758, 766, 772, 919, 933, 954, 1106, 1120, 1242, 1262, 1351, 1481, 1666, 1886, 2282, 2907, 2988, 3667]\n",
      "Rad:  [0.5024999791668749, 0.5029999640005184, 0.5037499296890819, 0.5058747296425347, 0.5066246123267035, 0.5077493794138049, 0.5094988569983825, 0.5096238112881756, 0.5097487643754381, 0.5102485643871594, 0.5102485643871594, 0.5102485643871594, 0.5107483439103769, 0.5117478374985286, 0.5118727677562528, 0.5121226238063344, 0.5122475495675138, 0.5122475495675138, 0.5122475495675138, 0.5123724737986681, 0.5124973964842103, 0.5124973964842103, 0.5127472371561135, 0.512872155111304, 0.5129970714585418, 0.5131219861822433, 0.5132468992668264, 0.513746534902355, 0.515120388247905, 0.515120388247905, 0.515120388247905, 0.5153701558243676, 0.515744792754246, 0.5158696678193291, 0.5162442810620724, 0.5166188760492957, 0.5166188760492957, 0.5168685956913849, 0.5172431593193296, 0.5172431593193296, 0.5176177035717983, 0.5177425472777281, 0.5179922280289649, 0.5182418997957381, 0.5182418997957381, 0.5183667322710926, 0.5184915624537035, 0.5187412158785352, 0.5191156784317393, 0.5192404945315857, 0.5192404945315857, 0.5196149283599967, 0.5198645386976923, 0.5202389355718147, 0.5204885208851617, 0.5206133097144486, 0.5208628796406516, 0.5218610539716015, 0.5221105705904315, 0.5222353247699734, 0.5227343135939515, 0.5228590537489045, 0.5236074342567936, 0.5242310038524417, 0.5248544979041191, 0.5248544979041191, 0.5252285572692973, 0.5253532374538983, 0.5257272589798103, 0.5259765906525575, 0.5261012516391957, 0.5265998628935621, 0.5267245074568483, 0.5269737865749146, 0.5275969252664325, 0.5278461567773557, 0.5279707673355735, 0.528095374408387, 0.528095374408387, 0.528469174560122, 0.5287183569514396, 0.5288429427878808, 0.5288429427878808, 0.5288429427878808, 0.5289675250309518, 0.5289675250309518, 0.5289675250309518, 0.5290921036652357, 0.5292166786753182, 0.5293412500457856, 0.5293412500457856, 0.5298394988233103, 0.5299640517645717, 0.5300886009737784, 0.5302131464355301, 0.5304622260550769, 0.530586760182081, 0.5317073940719488, 0.5317073940719488, 0.5319563807976407, 0.5319563807976407, 0.5319563807976407, 0.5327032450054405, 0.5334499626784278, 0.5335744011446026, 0.5339476914144965, 0.5341965305004951, 0.5344453525682101, 0.5346941574949895, 0.5348185534922086, 0.5351917154353011, 0.5355648379838539, 0.5358135642595162, 0.5361866202317948, 0.5363109632436857, 0.5363109632436857, 0.5369326102732759, 0.5371812370524195, 0.5371812370524195, 0.5374298453437496, 0.5375541425182868, 0.5382998270075379, 0.538672605206508, 0.5390453401590825, 0.5390453401590825, 0.5394180314535331, 0.5395422521120765, 0.5396664678587524, 0.5396664678587524, 0.5399148845555657, 0.5400390854752409, 0.5401632814221246, 0.5401632814221246, 0.5402874723809918, 0.5402874723809918, 0.5404116583366201, 0.5406600151772822, 0.5407841860318839, 0.5407841860318839, 0.5407841860318839, 0.5410325125335655, 0.5410325125335655, 0.541156668150228, 0.541529104281051, 0.5417773692836367, 0.5420256135433734, 0.5426461326454622, 0.5427702206506254, 0.5430183807243099, 0.5430183807243099, 0.5431424527624958, 0.5432665194480254, 0.5432665194480254, 0.5435146367004738, 0.5436386872370789, 0.5437627323603996, 0.5441348350991659, 0.5442588584178731, 0.544506888573124, 0.544506888573124, 0.5446308953793968, 0.5448788923735801, 0.5448788923735801, 0.5448788923735801, 0.5451268671091033, 0.5453748194649926, 0.5458706565541938, 0.5459946016503237, 0.5461185410457796, 0.5461185410457796, 0.5463664026742796, 0.5463664026742796, 0.5463664026742796, 0.5463664026742796, 0.5463664026742796, 0.5467381519846138, 0.5469859559272142, 0.5471098491739846, 0.5471098491739846, 0.5472337365843005, 0.5473576181430894, 0.5476053636458107, 0.547729227559613, 0.547729227559613, 0.5478530855616275, 0.5479769376367963, 0.5481007837700647, 0.5481007837700647, 0.548348458150694, 0.548348458150694, 0.5489675390657229, 0.5490913371221596, 0.5490913371221596, 0.5492151291013335, 0.5497102359449385, 0.5503289809588797, 0.5504527113395278, 0.5505764354778004, 0.5516896693427, 0.5521842744020543, 0.5521842744020543, 0.5525551605031378, 0.5525551605031378, 0.5528023854446937, 0.5529259881329059, 0.5529259881329059, 0.553049584279497, 0.5531731738695379, 0.5532967568881029, 0.5535439031511183, 0.5537910229492018, 0.5537910229492018, 0.554038116163064, 0.5541616527636486, 0.5541616527636486, 0.5545322223612288, 0.5545322223612288, 0.5547792351072148, 0.5549027313398279, 0.5550262207923469, 0.5550262207923469, 0.555273179297599, 0.555273179297599, 0.5557670142926276, 0.5557670142926276, 0.5557670142926276, 0.556260739141165, 0.556260739141165, 0.556507559963506, 0.556507559963506, 0.556507559963506, 0.556507559963506, 0.5566309599222533, 0.5567543528929406, 0.5568777388607385, 0.5570011178108214, 0.5571244897283666, 0.5572478545985555, 0.5572478545985555, 0.5579878949957817, 0.5579878949957817, 0.5579878949957817, 0.5581112101198374, 0.5581112101198374, 0.5582345180781104, 0.5582345180781104, 0.558357818855813, 0.5592207220023481, 0.5592207220023481, 0.5597136492671929, 0.5599600688121389, 0.5602064588081933, 0.5603296426885532, 0.5603296426885532, 0.5603296426885532, 0.5604528191374981, 0.5604528191374981, 0.5608223037486276, 0.5611917209472044, 0.5613148449641978, 0.5619303515188666, 0.5624226196452226, 0.5625456675104523, 0.5626687076798121, 0.5627917401386452, 0.5629147648722987, 0.563160791105475, 0.5634067862621936, 0.5635297721502894, 0.5635297721502894, 0.5636527502253681, 0.5640216374262577, 0.5640216374262577, 0.564144584103043, 0.5645133767583126, 0.5650049892117214, 0.565987829748624, 0.5661106484969565, 0.5664790559676278, 0.5667246201574064, 0.5667246201574064, 0.5667246201574064, 0.5668473899714965, 0.5669701515790194, 0.5672156501162845, 0.5672156501162845, 0.5674611156530828, 0.5675838360100374, 0.5678292518285538, 0.5680746343565884, 0.5683199834782481, 0.5691784406571769, 0.5693010435855572, 0.569423638017721, 0.569546223939229, 0.5696688013356457, 0.5697913701925398, 0.5704040858793653, 0.5713839816769324, 0.5715064294675559, 0.5717512987679656, 0.5726080638632601, 0.5728527741439899, 0.572975115921622, 0.5734643936132494, 0.5734643936132494, 0.573953527548091, 0.574198040320896, 0.574442516811659, 0.5748091632693213, 0.574931360490585, 0.5750535485557879, 0.5752978971610448, 0.575786483872445, 0.5759086074466737, 0.5763970089027555, 0.5766411537275064, 0.5768852611320463, 0.5768852611320463, 0.5770073007662896, 0.5774953651858118, 0.5776173576905307, 0.5777393407268815, 0.5781052328843092, 0.5783491133882384, 0.5783491133882384, 0.5785929556795221, 0.578714862460134, 0.5790805251725788, 0.5792023934866041, 0.5794461011449312, 0.5800552006437731, 0.5802987722891484, 0.5802987722891484, 0.5802987722891484, 0.5818810295683254, 0.5824891435116021, 0.5835831155172753, 0.5839475905471991, 0.584433414421853, 0.5846762648954498, 0.585404569129465, 0.5855259169748928, 0.5855259169748928, 0.5867388223614086, 0.587223690839335, 0.587223690839335, 0.5877083901787505, 0.5881929194992519, 0.5884351201276382, 0.5886772779217329, 0.5892824842873394, 0.5898874205417383, 0.5898874205417383, 0.59000837522888, 0.5908547524545943, 0.5910964758866845, 0.5910964758866845, 0.5910964758866845, 0.591700591570219, 0.5923044303285555, 0.5924251646999523, 0.5930286689105126, 0.5931493361286236, 0.5943553879072982, 0.5951989481782709, 0.5956807306078472, 0.5956807306078472, 0.5964030583209425, 0.5965234057426788, 0.5965234057426788, 0.5972452458743265, 0.5974857658270161, 0.59880778455542, 0.5990479978221729, 0.5991680866194572, 0.6000083740248211, 0.6001283671847233, 0.6003683174489842, 0.6003683174489842, 0.6003683174489842, 0.6004882745269664, 0.6009679821704422, 0.6009679821704422, 0.6012077634068093, 0.6013276358326151, 0.6020466148666933, 0.6021664019964593, 0.6040813228693781, 0.6082590307465143, 0.6086163926214265, 0.6089736380692562, 0.6093307667451868, 0.612302251912714, 0.6127769215499831, 0.6160935699222507, 0.617865935535081, 0.6179839823863905, 0.6195173196470847, 0.6205774679270909, 0.6209305956033603, 0.623633628298226, 0.6237509784045485, 0.6252752039990873, 0.6263289857182753, 0.62808262338885, 0.6297163158757086, 0.6297163158757086, 0.630415564271682, 0.6314634105665264, 0.6364525402815664, 0.6365682227386991, 0.6384169859844571, 0.6391092202283214, 0.6400313004188463, 0.6401464879689668, 0.6411824482115257, 0.6432504142550473, 0.6437092412854121, 0.643938555965633, 0.6466851592064999, 0.6479408020806503, 0.6489666282584641, 0.6494221102907222, 0.6514684019239516, 0.6549794769770994, 0.6570104626734988, 0.6586985747356444, 0.6609431415591629, 0.6613911917989567, 0.6613911917989567, 0.6632921720482895, 0.6682986192809388, 0.6700696299643217, 0.6710637109477152, 0.6718358280990131, 0.6734872354373036, 0.6745857911174089, 0.6771051827945088, 0.6779790975468709, 0.6781973821194257, 0.6818962645895935, 0.683196324326927, 0.6842775272461841, 0.6857878653800029, 0.6876165708708831, 0.6883678768310286, 0.6915765137521193, 0.6940240266425514, 0.7038084796720742, 0.7070294027953845, 0.7094058152553435, 0.7127954882429666, 0.7202092918269863, 0.7244213241577989, 0.7287915424735523, 0.729778683320088, 0.7310585786300049, 0.736139677841648, 0.7432634316683696, 0.7503537788116054, 0.7535246977220308, 0.7582300167384424, 0.765127558784368, 0.7666516276998815, 0.7714470280028686, 0.7783367615918962, 0.7898464324920421, 0.7908406347869368, 0.7925721542325223, 0.7964900922930422, 0.7985891891595733, 0.8014688353775248, 0.8049461960842088, 0.8080672135527632, 0.8086868275632999, 0.8206120963340303, 0.8320183851339245, 0.8500508583359612, 0.8534599691639768, 0.8563746767449917, 0.874407063440143, 0.8843208971849409, 0.8851367639802816, 0.8923045344526889, 0.9007870204144589, 0.9022519010556079, 0.9127353090033569, 0.9297594423471001]\n",
      "NoRad:  [0.5003749999296875, 0.5006249996744794, 0.5007499994375005, 0.5007499994375005, 0.5008749991067719, 0.5009999986666688, 0.5014999955000162, 0.5014999955000162, 0.5018749912109869, 0.5019999893334016, 0.5024999791668749, 0.5027499722711688, 0.5027499722711688, 0.5028749683155233, 0.5032499542299401, 0.5034999428344538, 0.5034999428344538, 0.5036249364883145, 0.5037499296890819, 0.5041249064166103, 0.5041249064166103, 0.5042498976487912, 0.5043748883497735, 0.5044998785039364, 0.5046248680956603, 0.5048748455293113, 0.5051248205257716, 0.5052498070710082, 0.5056247627073255, 0.506124693640785, 0.5067495899673914, 0.507124517765732, 0.5074994375506203, 0.5077493794138049, 0.5079993174032311, 0.5083742168509097, 0.5084991812613128, 0.5088740680575521, 0.5096238112881756, 0.5102485643871594, 0.5103735112277574, 0.5108732854728681, 0.5109982256768415, 0.5119976965307179, 0.5119976965307179, 0.5123724737986681, 0.5134967204563116, 0.5138714395576388, 0.5138714395576388, 0.5138714395576388, 0.5138714395576388, 0.5139963424803272, 0.5141212436548439, 0.5142461430656131, 0.5142461430656131, 0.5148706131181635, 0.5153701558243676, 0.5154950367412013, 0.5158696678193291, 0.516993452360945, 0.5173680095770504, 0.5178673887686323, 0.5204885208851617, 0.521112439153578, 0.5218610539716015, 0.5222353247699734, 0.5222353247699734, 0.5223600761755967, 0.5238568710364926, 0.5256025883246178, 0.5317073940719488, 0.5345697571818813, 0.5392938058983595, 0.5427702206506254, 0.5495864684250396, 0.5515660020600744, 0.5568777388607385, 0.5576179067768466, 0.5611917209472044, 0.5766411537275064, 0.5869812776876099, 0.5936318924705234, 0.5945964622013231, 0.5953194110219262, 0.6128955555409064, 0.6145550194968047, 0.6170392186585261, 0.6348313334471978, 0.6364525402815664, 0.650445948782812, 0.652716174566524, 0.6627336051488347, 0.6771051827945088, 0.6969888901292717, 0.7197052449305028, 0.7578631928939515, 0.8105365030316862, 0.8166778917770144, 0.8621781487286474]\n",
      "For  Glinoma  dataset:\n",
      "The number of samples with radiation:  489\n",
      "Median:  0.5582345180781104  Mean:  0.5832719013310422\n",
      "\n",
      "The number of samples without radiation:  99\n",
      "Medians:  0.5138714395576388  Mean:  0.5450339126305795\n"
     ]
    },
    {
     "data": {
      "image/png": "[encoded data removed]",
      "text/plain": [
       "<Figure size 1080x288 with 1 Axes>"
      ]
     },
     "metadata": {
      "needs_background": "light"
     },
     "output_type": "display_data"
    }
   ],
   "source": [
    "Glin_Rad, Glin_NoRad = setup_env(Glin_data, 'Glinoma')\n",
    "show_data(Glin_Rad, Glin_NoRad, 'Glinoma')"
   ]
  },
  {
   "cell_type": "markdown",
   "metadata": {},
   "source": [
    "The reward distributions are positively skewed and have outliers in the right tail.\n",
    "A small number of patients survived longer than 3000 days which are not shown in the histogram."
   ]
  },
  {
   "cell_type": "markdown",
   "metadata": {},
   "source": [
    "### STES Dataset"
   ]
  },
  {
   "cell_type": "code",
   "execution_count": 141,
   "metadata": {},
   "outputs": [],
   "source": [
    "def reward_func(ori_reward):\n",
    "    new_reward = []\n",
    "    for i in ori_reward:\n",
    "        new_reward.append(1.0/(1 + np.exp(-0.00025 * i )))\n",
    "    return new_reward"
   ]
  },
  {
   "cell_type": "code",
   "execution_count": 142,
   "metadata": {},
   "outputs": [
    {
     "data": {
      "text/plain": [
       "[<matplotlib.lines.Line2D at 0x1a273d0e10>]"
      ]
     },
     "execution_count": 142,
     "metadata": {},
     "output_type": "execute_result"
    },
    {
     "data": {
      "image/png": "[encoded data removed]",
      "text/plain": [
       "<Figure size 432x288 with 1 Axes>"
      ]
     },
     "metadata": {
      "needs_background": "light"
     },
     "output_type": "display_data"
    }
   ],
   "source": [
    "x = np.arange(0, 3000, 1)\n",
    "\n",
    "plt.plot(x, reward_func(x))"
   ]
  },
  {
   "cell_type": "code",
   "execution_count": 143,
   "metadata": {},
   "outputs": [
    {
     "data": {
      "text/html": [
       "<div>\n",
       "<style scoped>\n",
       "    .dataframe tbody tr th:only-of-type {\n",
       "        vertical-align: middle;\n",
       "    }\n",
       "\n",
       "    .dataframe tbody tr th {\n",
       "        vertical-align: top;\n",
       "    }\n",
       "\n",
       "    .dataframe thead th {\n",
       "        text-align: right;\n",
       "    }\n",
       "</style>\n",
       "<table border=\"1\" class=\"dataframe\">\n",
       "  <thead>\n",
       "    <tr style=\"text-align: right;\">\n",
       "      <th>Hybridization REF</th>\n",
       "      <th>arms</th>\n",
       "      <th>rewards</th>\n",
       "    </tr>\n",
       "  </thead>\n",
       "  <tbody>\n",
       "    <tr>\n",
       "      <td>tcga-ic-a6rf</td>\n",
       "      <td>no</td>\n",
       "      <td>NaN</td>\n",
       "    </tr>\n",
       "    <tr>\n",
       "      <td>tcga-jy-a6fb</td>\n",
       "      <td>no</td>\n",
       "      <td>NaN</td>\n",
       "    </tr>\n",
       "    <tr>\n",
       "      <td>tcga-jy-a938</td>\n",
       "      <td>no</td>\n",
       "      <td>NaN</td>\n",
       "    </tr>\n",
       "    <tr>\n",
       "      <td>tcga-l5-a43i</td>\n",
       "      <td>yes</td>\n",
       "      <td>556</td>\n",
       "    </tr>\n",
       "    <tr>\n",
       "      <td>tcga-l5-a43j</td>\n",
       "      <td>NaN</td>\n",
       "      <td>131</td>\n",
       "    </tr>\n",
       "  </tbody>\n",
       "</table>\n",
       "</div>"
      ],
      "text/plain": [
       "Hybridization REF arms rewards\n",
       "tcga-ic-a6rf        no     NaN\n",
       "tcga-jy-a6fb        no     NaN\n",
       "tcga-jy-a938        no     NaN\n",
       "tcga-l5-a43i       yes     556\n",
       "tcga-l5-a43j       NaN     131"
      ]
     },
     "execution_count": 143,
     "metadata": {},
     "output_type": "execute_result"
    }
   ],
   "source": [
    "STES_path = '../Data/STES.clin.merged.picked.txt'\n",
    "STES_data = read_data(STES_path)\n",
    "STES_data.head()"
   ]
  },
  {
   "cell_type": "code",
   "execution_count": 144,
   "metadata": {},
   "outputs": [
    {
     "name": "stdout",
     "output_type": "stream",
     "text": [
      "Rad:  [104, 132, 153, 156, 235, 243, 279, 283, 312, 318, 330, 336, 376, 378, 378, 389, 436, 556, 557, 560, 562, 567, 633, 694, 764, 832, 960, 1043, 1153, 1294, 1405, 1747, 1811]\n",
      "NoRad:  [3, 8, 9, 17, 19, 24, 24, 26, 28, 42, 45, 47, 52, 57, 61, 67, 76, 81, 81, 81, 82, 88, 96, 103, 105, 105, 106, 112, 113, 118, 124, 124, 128, 136, 138, 140, 141, 149, 154, 157, 161, 166, 168, 174, 180, 180, 180, 180, 185, 185, 188, 191, 192, 193, 200, 200, 201, 201, 205, 212, 212, 213, 214, 217, 217, 218, 226, 226, 229, 232, 236, 245, 247, 250, 255, 259, 262, 272, 272, 273, 275, 276, 279, 282, 283, 284, 284, 289, 291, 292, 294, 296, 300, 300, 303, 341, 342, 344, 348, 348, 351, 353, 354, 356, 358, 359, 366, 370, 377, 386, 396, 398, 401, 403, 406, 406, 406, 410, 422, 422, 424, 428, 435, 439, 446, 457, 466, 474, 476, 477, 480, 484, 491, 491, 494, 496, 496, 507, 513, 526, 533, 543, 549, 552, 553, 554, 554, 558, 570, 588, 600, 605, 607, 610, 618, 635, 640, 641, 650, 652, 661, 669, 675, 681, 712, 730, 762, 763, 766, 779, 782, 784, 792, 794, 801, 801, 805, 855, 869, 874, 940, 951, 987, 1095, 1263, 1361, 1402, 1407, 1458, 1599, 1686, 1781, 2100, 2197]\n",
      "Rad:  [0.5064996338580845, 0.5082492513940231, 0.5095613342926203, 0.5097487643754381, 0.5146832768889423, 0.5151828308550055, 0.5174304338937397, 0.5176801257006697, 0.5194901195112458, 0.5198645386976923, 0.5206133097144486, 0.5209876607065324, 0.5234827114426752, 0.5236074342567936, 0.5236074342567936, 0.5242933566890121, 0.5272230522453413, 0.5346941574949895, 0.5347563560340429, 0.5349429451582145, 0.5350673324776852, 0.5353782816597403, 0.539480142395836, 0.5432665194480254, 0.5476053636458107, 0.5518133302331703, 0.5597136492671929, 0.5648206494695769, 0.5715676500804564, 0.5801769913486711, 0.5869206678056114, 0.607484348920558, 0.6112928718025734]\n",
      "NoRad:  [0.5001874999912109, 0.5004999998333334, 0.5005624997626954, 0.501062498400719, 0.5011874977672576, 0.5014999955000162, 0.5014999955000162, 0.50162499427867, 0.5017499928542016, 0.5026249758830783, 0.5028124703372895, 0.5029374662039171, 0.5032499542299401, 0.5035624397170444, 0.503812426114674, 0.5041874020981244, 0.5047498571093251, 0.5050623270119764, 0.5050623270119764, 0.5050623270119764, 0.5051248205257716, 0.5054997781774029, 0.5059997120165879, 0.5064371443181802, 0.5065621231949096, 0.5065621231949096, 0.5066246123267035, 0.5069995427025188, 0.5070620303444475, 0.5073744652053946, 0.5077493794138049, 0.5077493794138049, 0.5079993174032311, 0.5084991812613128, 0.5086241446096252, 0.5087491068802403, 0.5088115876065344, 0.5093114233430776, 0.5096238112881756, 0.5098112404632449, 0.510061141730139, 0.5103735112277574, 0.5104984567722248, 0.5108732854728681, 0.5112481019468548, 0.5112481019468548, 0.5112481019468548, 0.5112481019468548, 0.5115604393649352, 0.5115604393649352, 0.5117478374985286, 0.511935232329867, 0.5119976965307179, 0.5120601603568565, 0.5124973964842103, 0.5124973964842103, 0.5125598572425061, 0.5125598572425061, 0.5128096963337289, 0.5132468992668264, 0.5132468992668264, 0.5133093551895792, 0.5133718106967095, 0.5135591747048887, 0.5135591747048887, 0.5136216285300531, 0.5141212436548439, 0.5141212436548439, 0.5143085921047253, 0.5144959365336113, 0.5147457227597345, 0.5153077146451827, 0.515432596523689, 0.5156199157230156, 0.515932104609702, 0.5161818467780144, 0.5163691481069498, 0.516993452360945, 0.516993452360945, 0.5170558799010492, 0.5171807333821855, 0.5172431593193296, 0.5174304338937397, 0.5176177035717983, 0.5176801257006697, 0.5177425472777281, 0.5177425472777281, 0.5180546468178092, 0.5181794827031386, 0.5182418997957381, 0.5183667322710926, 0.5184915624537035, 0.5187412158785352, 0.5187412158785352, 0.5189284498131355, 0.5212996018798932, 0.5213619881291077, 0.5214867586265669, 0.5217362915633222, 0.5217362915633222, 0.5219234341539323, 0.5220481924652852, 0.5221105705904315, 0.5222353247699734, 0.5223600761755967, 0.5224224508333446, 0.5228590537489045, 0.523108525489089, 0.5235450732168103, 0.5241062959149144, 0.524729805230163, 0.5248544979041191, 0.5250415310993403, 0.5251662159964524, 0.5253532374538983, 0.5253532374538983, 0.5253532374538983, 0.5256025883246178, 0.5263505638357222, 0.5263505638357222, 0.5264752150147037, 0.5267245074568483, 0.5271607370952069, 0.5274099925988329, 0.5278461567773557, 0.5285314714929369, 0.5290921036652357, 0.5295903818062331, 0.529714942165396, 0.5297772209579721, 0.5299640517645717, 0.5302131464355301, 0.5306490258181561, 0.5306490258181561, 0.5308358169935868, 0.5309603396473089, 0.5309603396473089, 0.5316451449185431, 0.5320186249974733, 0.5328277082165552, 0.5332632971792146, 0.5338854789982667, 0.5342587376176796, 0.5344453525682101, 0.5345075554116581, 0.5345697571818813, 0.5345697571818813, 0.5348185534922086, 0.5355648379838539, 0.5366839651285836, 0.5374298453437496, 0.537740579523221, 0.5378648649996574, 0.5380512843858591, 0.5385483505916685, 0.53960436060035, 0.5399148845555657, 0.5399769856360506, 0.5405358392737893, 0.5406600151772822, 0.5412187440433622, 0.5417153049728852, 0.5420876713529973, 0.5424599907199849, 0.5443828762475714, 0.5454987872127821, 0.5474814938352816, 0.5475434294766957, 0.547729227559613, 0.5485341982267485, 0.5487199247811775, 0.5488437349470517, 0.5493389149882192, 0.5494626947677944, 0.549895875684422, 0.549895875684422, 0.5501433737162558, 0.5532349662011876, 0.5540998852987709, 0.5544087058776257, 0.5584811124381613, 0.5591590978637911, 0.5613764041427011, 0.5680132918519014, 0.5782881468402793, 0.5842512496458996, 0.5867388223614086, 0.5870418849337032, 0.5901293190295772, 0.5986275934443698, 0.6038421309156661, 0.6095092871860683, 0.6283161882953663, 0.6339615677795082]\n",
      "For  STES  dataset:\n",
      "The number of samples with radiation:  33\n",
      "Median:  0.5272230522453413  Mean:  0.5376117129097338\n",
      "\n",
      "The number of samples without radiation:  194\n",
      "Medians:  0.5214243733778373  Mean:  0.5264412493133647\n"
     ]
    },
    {
     "data": {
      "image/png": "[encoded data removed]",
      "text/plain": [
       "<Figure size 1080x288 with 1 Axes>"
      ]
     },
     "metadata": {
      "needs_background": "light"
     },
     "output_type": "display_data"
    }
   ],
   "source": [
    "STES_Rad, STES_NoRad = setup_env(STES_data, 'STES')\n",
    "show_data(STES_Rad, STES_NoRad, 'STES')"
   ]
  },
  {
   "cell_type": "markdown",
   "metadata": {},
   "source": [
    "### Experiments"
   ]
  },
  {
   "cell_type": "markdown",
   "metadata": {},
   "source": [
    "We repeat our experiment 500 times, each with 1000 rounds where we sample from\n",
    "the database of records with replacement."
   ]
  },
  {
   "cell_type": "code",
   "execution_count": 14,
   "metadata": {},
   "outputs": [],
   "source": [
    "def run_exper(rewards_env, hyperpara_list, num_exper, num_rounds, policy, summary_stats, est_flags = [True]):\n",
    "    for key in rewards_env.keys():\n",
    "        for hyperpara in hyperpara_list:\n",
    "            for est_flag in est_flags:\n",
    "                name = key + '_' + str(num_exper) + '_' + str(num_rounds)\n",
    "                policy_name = str(policy).split('.')[-1].split('\\'')[0] + '-'\n",
    "                subname = policy_name + str(hyperpara)\n",
    "                print(name + subname)\n",
    "                p = IntProgress(max = num_exper)\n",
    "                p.description = 'Running'\n",
    "                display(p)\n",
    "                results[name][subname] = simulate(rewards_env[key], summary_stats[key], policy, num_exper, num_rounds, est_flag, hyperpara, FIXED_L, p)\n",
    "                \n",
    "def run_exper_diff_para(rewards_env, hyperpara_list, num_exper, num_rounds, policy, summary_stats, est_flags = [True]):\n",
    "    for key in rewards_env.keys():\n",
    "        for est_flag in est_flags:\n",
    "            name = key + '_' + str(num_exper) + '_' + str(num_rounds)\n",
    "            \n",
    "            # setting different parameters for different datasets\n",
    "            if key == 'Glinoma':\n",
    "                hyperpara = hyperpara_list[0]\n",
    "            elif key == 'STES':\n",
    "                hyperpara = hyperpara_list[-1]\n",
    "            policy_name = str(policy).split('.')[-1].split('\\'')[0] + '-'\n",
    "\n",
    "            subname = policy_name + str(hyperpara)\n",
    "            print(name + subname)\n",
    "            p = IntProgress(max = num_exper)\n",
    "            p.description = 'Running'\n",
    "            display(p)\n",
    "            results[name][subname]= simulate(rewards_env[key], summary_stats[key], policy, num_exper, num_rounds, est_flag, hyperpara, FIXED_L, p)"
   ]
  },
  {
   "cell_type": "code",
   "execution_count": 15,
   "metadata": {},
   "outputs": [],
   "source": [
    "results = defaultdict(dict)"
   ]
  },
  {
   "cell_type": "code",
   "execution_count": 16,
   "metadata": {
    "scrolled": true
   },
   "outputs": [
    {
     "name": "stdout",
     "output_type": "stream",
     "text": [
      "Glinoma_50_10000M_UCB-[4, 1, 0.5]\n"
     ]
    },
    {
     "data": {
      "application/vnd.jupyter.widget-view+json": {
       "model_id": "79a8fe73858643838c1e6a6576d3fa7c",
       "version_major": 2,
       "version_minor": 0
      },
      "text/plain": [
       "IntProgress(value=0, description='Running', max=50)"
      ]
     },
     "metadata": {},
     "output_type": "display_data"
    },
    {
     "name": "stdout",
     "output_type": "stream",
     "text": [
      "[0.30303030303030304, 0.0081799591002045]\n",
      "[0.30303030303030304, 0.0081799591002045]\n",
      "[0.30303030303030304, 0.0081799591002045]\n",
      "[0.30303030303030304, 0.0081799591002045]\n",
      "[0.30303030303030304, 0.0081799591002045]\n",
      "[0.30303030303030304, 0.0081799591002045]\n",
      "[0.30303030303030304, 0.0081799591002045]\n",
      "[0.30303030303030304, 0.0081799591002045]\n",
      "[0.30303030303030304, 0.0081799591002045]\n",
      "[0.30303030303030304, 0.0081799591002045]\n",
      "[0.30303030303030304, 0.0081799591002045]\n",
      "[0.30303030303030304, 0.0081799591002045]\n",
      "[0.30303030303030304, 0.0081799591002045]\n",
      "[0.30303030303030304, 0.0081799591002045]\n",
      "[0.30303030303030304, 0.0081799591002045]\n",
      "[0.30303030303030304, 0.0081799591002045]\n",
      "[0.30303030303030304, 0.0081799591002045]\n",
      "[0.30303030303030304, 0.0081799591002045]\n",
      "[0.30303030303030304, 0.0081799591002045]\n",
      "[0.30303030303030304, 0.0081799591002045]\n",
      "[0.30303030303030304, 0.0081799591002045]\n",
      "[0.30303030303030304, 0.0081799591002045]\n",
      "[0.30303030303030304, 0.0081799591002045]\n",
      "[0.30303030303030304, 0.0081799591002045]\n",
      "[0.30303030303030304, 0.0081799591002045]\n",
      "[0.30303030303030304, 0.0081799591002045]\n",
      "[0.30303030303030304, 0.0081799591002045]\n",
      "[0.30303030303030304, 0.0081799591002045]\n",
      "[0.30303030303030304, 0.0081799591002045]\n",
      "[0.30303030303030304, 0.0081799591002045]\n",
      "[0.30303030303030304, 0.0081799591002045]\n",
      "[0.30303030303030304, 0.0081799591002045]\n",
      "[0.30303030303030304, 0.0081799591002045]\n",
      "[0.30303030303030304, 0.0081799591002045]\n",
      "[0.30303030303030304, 0.0081799591002045]\n",
      "[0.30303030303030304, 0.0081799591002045]\n",
      "[0.30303030303030304, 0.0081799591002045]\n",
      "[0.30303030303030304, 0.0081799591002045]\n",
      "[0.30303030303030304, 0.0081799591002045]\n",
      "[0.30303030303030304, 0.0081799591002045]\n",
      "[0.30303030303030304, 0.0081799591002045]\n",
      "[0.30303030303030304, 0.0081799591002045]\n",
      "[0.30303030303030304, 0.0081799591002045]\n",
      "[0.30303030303030304, 0.0081799591002045]\n",
      "[0.30303030303030304, 0.0081799591002045]\n",
      "[0.30303030303030304, 0.0081799591002045]\n",
      "[0.30303030303030304, 0.0081799591002045]\n",
      "[0.30303030303030304, 0.0081799591002045]\n",
      "[0.30303030303030304, 0.0081799591002045]\n",
      "[0.30303030303030304, 0.0081799591002045]\n",
      "STES_50_10000M_UCB-[4, 1, 1.2]\n"
     ]
    },
    {
     "data": {
      "application/vnd.jupyter.widget-view+json": {
       "model_id": "b67cbfb4b4af4a0d8a9f1b866ea2ec33",
       "version_major": 2,
       "version_minor": 0
      },
      "text/plain": [
       "IntProgress(value=0, description='Running', max=50)"
      ]
     },
     "metadata": {},
     "output_type": "display_data"
    },
    {
     "name": "stdout",
     "output_type": "stream",
     "text": [
      "[0.15463917525773196, 0.030303030303030304]\n",
      "[0.15463917525773196, 0.030303030303030304]\n",
      "[0.15463917525773196, 0.030303030303030304]\n",
      "[0.15463917525773196, 0.030303030303030304]\n",
      "[0.15463917525773196, 0.030303030303030304]\n",
      "[0.15463917525773196, 0.030303030303030304]\n",
      "[0.15463917525773196, 0.030303030303030304]\n",
      "[0.15463917525773196, 0.030303030303030304]\n",
      "[0.15463917525773196, 0.030303030303030304]\n",
      "[0.15463917525773196, 0.030303030303030304]\n",
      "[0.15463917525773196, 0.030303030303030304]\n",
      "[0.15463917525773196, 0.030303030303030304]\n",
      "[0.15463917525773196, 0.030303030303030304]\n",
      "[0.15463917525773196, 0.030303030303030304]\n",
      "[0.15463917525773196, 0.030303030303030304]\n",
      "[0.15463917525773196, 0.030303030303030304]\n",
      "[0.15463917525773196, 0.030303030303030304]\n",
      "[0.15463917525773196, 0.030303030303030304]\n",
      "[0.15463917525773196, 0.030303030303030304]\n",
      "[0.15463917525773196, 0.030303030303030304]\n",
      "[0.15463917525773196, 0.030303030303030304]\n",
      "[0.15463917525773196, 0.030303030303030304]\n",
      "[0.15463917525773196, 0.030303030303030304]\n",
      "[0.15463917525773196, 0.030303030303030304]\n",
      "[0.15463917525773196, 0.030303030303030304]\n",
      "[0.15463917525773196, 0.030303030303030304]\n",
      "[0.15463917525773196, 0.030303030303030304]\n",
      "[0.15463917525773196, 0.030303030303030304]\n",
      "[0.15463917525773196, 0.030303030303030304]\n",
      "[0.15463917525773196, 0.030303030303030304]\n",
      "[0.15463917525773196, 0.030303030303030304]\n",
      "[0.15463917525773196, 0.030303030303030304]\n",
      "[0.15463917525773196, 0.030303030303030304]\n",
      "[0.15463917525773196, 0.030303030303030304]\n",
      "[0.15463917525773196, 0.030303030303030304]\n",
      "[0.15463917525773196, 0.030303030303030304]\n",
      "[0.15463917525773196, 0.030303030303030304]\n",
      "[0.15463917525773196, 0.030303030303030304]\n",
      "[0.15463917525773196, 0.030303030303030304]\n",
      "[0.15463917525773196, 0.030303030303030304]\n",
      "[0.15463917525773196, 0.030303030303030304]\n",
      "[0.15463917525773196, 0.030303030303030304]\n",
      "[0.15463917525773196, 0.030303030303030304]\n",
      "[0.15463917525773196, 0.030303030303030304]\n",
      "[0.15463917525773196, 0.030303030303030304]\n",
      "[0.15463917525773196, 0.030303030303030304]\n",
      "[0.15463917525773196, 0.030303030303030304]\n",
      "[0.15463917525773196, 0.030303030303030304]\n",
      "[0.15463917525773196, 0.030303030303030304]\n",
      "[0.15463917525773196, 0.030303030303030304]\n",
      "Glinoma_50_10000U_UCB-[4]\n"
     ]
    },
    {
     "data": {
      "application/vnd.jupyter.widget-view+json": {
       "model_id": "b670f9c870f2471bba7ababfa84f3911",
       "version_major": 2,
       "version_minor": 0
      },
      "text/plain": [
       "IntProgress(value=0, description='Running', max=50)"
      ]
     },
     "metadata": {},
     "output_type": "display_data"
    },
    {
     "name": "stdout",
     "output_type": "stream",
     "text": [
      "STES_50_10000U_UCB-[4]\n"
     ]
    },
    {
     "data": {
      "application/vnd.jupyter.widget-view+json": {
       "model_id": "4bc72d027b3844f7a67111a576c7f835",
       "version_major": 2,
       "version_minor": 0
      },
      "text/plain": [
       "IntProgress(value=0, description='Running', max=50)"
      ]
     },
     "metadata": {},
     "output_type": "display_data"
    },
    {
     "name": "stdout",
     "output_type": "stream",
     "text": [
      "Glinoma_50_10000epsilon_greedy-[0.1]\n"
     ]
    },
    {
     "data": {
      "application/vnd.jupyter.widget-view+json": {
       "model_id": "84e1042aed5e44918bd7f68e70106c87",
       "version_major": 2,
       "version_minor": 0
      },
      "text/plain": [
       "IntProgress(value=0, description='Running', max=50)"
      ]
     },
     "metadata": {},
     "output_type": "display_data"
    },
    {
     "name": "stdout",
     "output_type": "stream",
     "text": [
      "STES_50_10000epsilon_greedy-[0.1]\n"
     ]
    },
    {
     "data": {
      "application/vnd.jupyter.widget-view+json": {
       "model_id": "2ca93572a88a44afaec5a93db80be4c7",
       "version_major": 2,
       "version_minor": 0
      },
      "text/plain": [
       "IntProgress(value=0, description='Running', max=50)"
      ]
     },
     "metadata": {},
     "output_type": "display_data"
    },
    {
     "name": "stdout",
     "output_type": "stream",
     "text": [
      "Glinoma_50_10000Median_of_Means_UCB-[10, 1, 1]\n"
     ]
    },
    {
     "data": {
      "application/vnd.jupyter.widget-view+json": {
       "model_id": "5ad70ae1251d4e069efeb0ed33f6f364",
       "version_major": 2,
       "version_minor": 0
      },
      "text/plain": [
       "IntProgress(value=0, description='Running', max=50)"
      ]
     },
     "metadata": {},
     "output_type": "display_data"
    },
    {
     "name": "stdout",
     "output_type": "stream",
     "text": [
      "STES_50_10000Median_of_Means_UCB-[10, 1, 1]\n"
     ]
    },
    {
     "data": {
      "application/vnd.jupyter.widget-view+json": {
       "model_id": "246fb49220ad485d968baed268d29b61",
       "version_major": 2,
       "version_minor": 0
      },
      "text/plain": [
       "IntProgress(value=0, description='Running', max=50)"
      ]
     },
     "metadata": {},
     "output_type": "display_data"
    },
    {
     "name": "stdout",
     "output_type": "stream",
     "text": [
      "Glinoma_50_10000Exp3-[0.5, 0, 15]\n"
     ]
    },
    {
     "data": {
      "application/vnd.jupyter.widget-view+json": {
       "model_id": "4dc68221efe64e3daf1e27b6598c6ecf",
       "version_major": 2,
       "version_minor": 0
      },
      "text/plain": [
       "IntProgress(value=0, description='Running', max=50)"
      ]
     },
     "metadata": {},
     "output_type": "display_data"
    },
    {
     "name": "stdout",
     "output_type": "stream",
     "text": [
      "STES_50_10000Exp3-[0.5, 0, 15]\n"
     ]
    },
    {
     "data": {
      "application/vnd.jupyter.widget-view+json": {
       "model_id": "b90461d547dd46268724ab932e8dd780",
       "version_major": 2,
       "version_minor": 0
      },
      "text/plain": [
       "IntProgress(value=0, description='Running', max=50)"
      ]
     },
     "metadata": {},
     "output_type": "display_data"
    },
    {
     "name": "stderr",
     "output_type": "stream",
     "text": [
      "/Users/zhangmengyan/git/eheye/UCB/M_UCB/codes/UCB_discrete.py:613: RuntimeWarning: overflow encountered in double_scalars\n",
      "  self.weights[choice] *= np.exp(estimatedReward * self.gamma / self.n_arms) # important that we use estimated reward here!\n",
      "/Users/zhangmengyan/git/eheye/UCB/M_UCB/codes/UCB_discrete.py:601: RuntimeWarning: invalid value encountered in double_scalars\n",
      "  return tuple((1.0 - self.gamma) * (w / theSum) + (self.gamma / self.n_arms) for w in self.weights)\n"
     ]
    },
    {
     "ename": "OverflowError",
     "evalue": "Range exceeds valid bounds",
     "output_type": "error",
     "traceback": [
      "\u001b[0;31m---------------------------------------------------------------------------\u001b[0m",
      "\u001b[0;31mOverflowError\u001b[0m                             Traceback (most recent call last)",
      "\u001b[0;32m<ipython-input-16-12a0b3108194>\u001b[0m in \u001b[0;36m<module>\u001b[0;34m\u001b[0m\n\u001b[1;32m     21\u001b[0m \u001b[0;34m\u001b[0m\u001b[0m\n\u001b[1;32m     22\u001b[0m \u001b[0mhyperpara_list\u001b[0m \u001b[0;34m=\u001b[0m \u001b[0;34m[\u001b[0m\u001b[0;34m[\u001b[0m\u001b[0;36m0.5\u001b[0m\u001b[0;34m,\u001b[0m \u001b[0;36m0\u001b[0m\u001b[0;34m,\u001b[0m \u001b[0;36m15\u001b[0m\u001b[0;34m]\u001b[0m\u001b[0;34m]\u001b[0m\u001b[0;34m\u001b[0m\u001b[0;34m\u001b[0m\u001b[0m\n\u001b[0;32m---> 23\u001b[0;31m \u001b[0mrun_exper\u001b[0m\u001b[0;34m(\u001b[0m\u001b[0mclinical_envs\u001b[0m\u001b[0;34m,\u001b[0m \u001b[0mhyperpara_list\u001b[0m\u001b[0;34m,\u001b[0m \u001b[0mnum_exper\u001b[0m\u001b[0;34m,\u001b[0m \u001b[0mnum_rounds\u001b[0m\u001b[0;34m,\u001b[0m \u001b[0mExp3\u001b[0m\u001b[0;34m,\u001b[0m \u001b[0mmedians\u001b[0m\u001b[0;34m)\u001b[0m\u001b[0;34m\u001b[0m\u001b[0;34m\u001b[0m\u001b[0m\n\u001b[0m\u001b[1;32m     24\u001b[0m \u001b[0;34m\u001b[0m\u001b[0m\n\u001b[1;32m     25\u001b[0m \u001b[0;34m\u001b[0m\u001b[0m\n",
      "\u001b[0;32m<ipython-input-14-5ff464ff4291>\u001b[0m in \u001b[0;36mrun_exper\u001b[0;34m(rewards_env, hyperpara_list, num_exper, num_rounds, policy, summary_stats, est_flags)\u001b[0m\n\u001b[1;32m     10\u001b[0m                 \u001b[0mp\u001b[0m\u001b[0;34m.\u001b[0m\u001b[0mdescription\u001b[0m \u001b[0;34m=\u001b[0m \u001b[0;34m'Running'\u001b[0m\u001b[0;34m\u001b[0m\u001b[0;34m\u001b[0m\u001b[0m\n\u001b[1;32m     11\u001b[0m                 \u001b[0mdisplay\u001b[0m\u001b[0;34m(\u001b[0m\u001b[0mp\u001b[0m\u001b[0;34m)\u001b[0m\u001b[0;34m\u001b[0m\u001b[0;34m\u001b[0m\u001b[0m\n\u001b[0;32m---> 12\u001b[0;31m                 \u001b[0mresults\u001b[0m\u001b[0;34m[\u001b[0m\u001b[0mname\u001b[0m\u001b[0;34m]\u001b[0m\u001b[0;34m[\u001b[0m\u001b[0msubname\u001b[0m\u001b[0;34m]\u001b[0m \u001b[0;34m=\u001b[0m \u001b[0msimulate\u001b[0m\u001b[0;34m(\u001b[0m\u001b[0mrewards_env\u001b[0m\u001b[0;34m[\u001b[0m\u001b[0mkey\u001b[0m\u001b[0;34m]\u001b[0m\u001b[0;34m,\u001b[0m \u001b[0msummary_stats\u001b[0m\u001b[0;34m[\u001b[0m\u001b[0mkey\u001b[0m\u001b[0;34m]\u001b[0m\u001b[0;34m,\u001b[0m \u001b[0mpolicy\u001b[0m\u001b[0;34m,\u001b[0m \u001b[0mnum_exper\u001b[0m\u001b[0;34m,\u001b[0m \u001b[0mnum_rounds\u001b[0m\u001b[0;34m,\u001b[0m \u001b[0mest_flag\u001b[0m\u001b[0;34m,\u001b[0m \u001b[0mhyperpara\u001b[0m\u001b[0;34m,\u001b[0m \u001b[0mFIXED_L\u001b[0m\u001b[0;34m,\u001b[0m \u001b[0mp\u001b[0m\u001b[0;34m)\u001b[0m\u001b[0;34m\u001b[0m\u001b[0;34m\u001b[0m\u001b[0m\n\u001b[0m\u001b[1;32m     13\u001b[0m \u001b[0;34m\u001b[0m\u001b[0m\n\u001b[1;32m     14\u001b[0m \u001b[0;32mdef\u001b[0m \u001b[0mrun_exper_diff_para\u001b[0m\u001b[0;34m(\u001b[0m\u001b[0mrewards_env\u001b[0m\u001b[0;34m,\u001b[0m \u001b[0mhyperpara_list\u001b[0m\u001b[0;34m,\u001b[0m \u001b[0mnum_exper\u001b[0m\u001b[0;34m,\u001b[0m \u001b[0mnum_rounds\u001b[0m\u001b[0;34m,\u001b[0m \u001b[0mpolicy\u001b[0m\u001b[0;34m,\u001b[0m \u001b[0msummary_stats\u001b[0m\u001b[0;34m,\u001b[0m \u001b[0mest_flags\u001b[0m \u001b[0;34m=\u001b[0m \u001b[0;34m[\u001b[0m\u001b[0;32mTrue\u001b[0m\u001b[0;34m]\u001b[0m\u001b[0;34m)\u001b[0m\u001b[0;34m:\u001b[0m\u001b[0;34m\u001b[0m\u001b[0;34m\u001b[0m\u001b[0m\n",
      "\u001b[0;32m~/git/eheye/UCB/M_UCB/codes/SimulatedGames.py\u001b[0m in \u001b[0;36msimulate\u001b[0;34m(env, summary_stat, policy, num_expers, num_rounds, est_var, hyperpara, fixed_L, p)\u001b[0m\n\u001b[1;32m     39\u001b[0m         \u001b[0mp\u001b[0m\u001b[0;34m.\u001b[0m\u001b[0mvalue\u001b[0m \u001b[0;34m+=\u001b[0m \u001b[0;36m1\u001b[0m\u001b[0;34m\u001b[0m\u001b[0;34m\u001b[0m\u001b[0m\n\u001b[1;32m     40\u001b[0m         \u001b[0magent\u001b[0m \u001b[0;34m=\u001b[0m \u001b[0mpolicy\u001b[0m\u001b[0;34m(\u001b[0m\u001b[0menv\u001b[0m\u001b[0;34m,\u001b[0m \u001b[0msummary_stat\u001b[0m\u001b[0;34m,\u001b[0m \u001b[0mnum_rounds\u001b[0m\u001b[0;34m,\u001b[0m \u001b[0mhyperpara\u001b[0m \u001b[0;34m=\u001b[0m \u001b[0mhyperpara\u001b[0m\u001b[0;34m,\u001b[0m \u001b[0mest_flag\u001b[0m \u001b[0;34m=\u001b[0m \u001b[0mest_var\u001b[0m\u001b[0;34m,\u001b[0m \u001b[0mfixed_L\u001b[0m \u001b[0;34m=\u001b[0m \u001b[0mfixed_L\u001b[0m\u001b[0;34m)\u001b[0m\u001b[0;34m\u001b[0m\u001b[0;34m\u001b[0m\u001b[0m\n\u001b[0;32m---> 41\u001b[0;31m         \u001b[0magent\u001b[0m\u001b[0;34m.\u001b[0m\u001b[0mplay\u001b[0m\u001b[0;34m(\u001b[0m\u001b[0;34m)\u001b[0m\u001b[0;34m\u001b[0m\u001b[0;34m\u001b[0m\u001b[0m\n\u001b[0m\u001b[1;32m     42\u001b[0m         \u001b[0msds\u001b[0m\u001b[0;34m.\u001b[0m\u001b[0mappend\u001b[0m\u001b[0;34m(\u001b[0m\u001b[0magent\u001b[0m\u001b[0;34m.\u001b[0m\u001b[0msuboptimalDraws\u001b[0m\u001b[0;34m)\u001b[0m\u001b[0;34m\u001b[0m\u001b[0;34m\u001b[0m\u001b[0m\n\u001b[1;32m     43\u001b[0m         \u001b[0mrs\u001b[0m\u001b[0;34m.\u001b[0m\u001b[0mappend\u001b[0m\u001b[0;34m(\u001b[0m\u001b[0magent\u001b[0m\u001b[0;34m.\u001b[0m\u001b[0mcumulativeRegrets\u001b[0m\u001b[0;34m)\u001b[0m\u001b[0;34m\u001b[0m\u001b[0;34m\u001b[0m\u001b[0m\n",
      "\u001b[0;32m~/git/eheye/UCB/M_UCB/codes/UCB_discrete.py\u001b[0m in \u001b[0;36mplay\u001b[0;34m(self)\u001b[0m\n\u001b[1;32m    606\u001b[0m         \u001b[0;32mfor\u001b[0m \u001b[0mi\u001b[0m \u001b[0;32min\u001b[0m \u001b[0mrange\u001b[0m\u001b[0;34m(\u001b[0m\u001b[0mself\u001b[0m\u001b[0;34m.\u001b[0m\u001b[0mnum_rounds\u001b[0m\u001b[0;34m)\u001b[0m\u001b[0;34m:\u001b[0m\u001b[0;34m\u001b[0m\u001b[0;34m\u001b[0m\u001b[0m\n\u001b[1;32m    607\u001b[0m             \u001b[0mprobabilityDistribution\u001b[0m \u001b[0;34m=\u001b[0m \u001b[0mself\u001b[0m\u001b[0;34m.\u001b[0m\u001b[0mdistr\u001b[0m\u001b[0;34m(\u001b[0m\u001b[0;34m)\u001b[0m\u001b[0;34m\u001b[0m\u001b[0;34m\u001b[0m\u001b[0m\n\u001b[0;32m--> 608\u001b[0;31m             \u001b[0mchoice\u001b[0m \u001b[0;34m=\u001b[0m \u001b[0mself\u001b[0m\u001b[0;34m.\u001b[0m\u001b[0mdraw\u001b[0m\u001b[0;34m(\u001b[0m\u001b[0mprobabilityDistribution\u001b[0m\u001b[0;34m)\u001b[0m\u001b[0;34m\u001b[0m\u001b[0;34m\u001b[0m\u001b[0m\n\u001b[0m\u001b[1;32m    609\u001b[0m             \u001b[0mtheReward\u001b[0m \u001b[0;34m=\u001b[0m \u001b[0mself\u001b[0m\u001b[0;34m.\u001b[0m\u001b[0msample\u001b[0m\u001b[0;34m(\u001b[0m\u001b[0mchoice\u001b[0m\u001b[0;34m)\u001b[0m\u001b[0;34m\u001b[0m\u001b[0;34m\u001b[0m\u001b[0m\n\u001b[1;32m    610\u001b[0m             \u001b[0mscaledReward\u001b[0m \u001b[0;34m=\u001b[0m \u001b[0;34m(\u001b[0m\u001b[0mtheReward\u001b[0m \u001b[0;34m-\u001b[0m \u001b[0mself\u001b[0m\u001b[0;34m.\u001b[0m\u001b[0mrewardMin\u001b[0m\u001b[0;34m)\u001b[0m \u001b[0;34m/\u001b[0m \u001b[0;34m(\u001b[0m\u001b[0mself\u001b[0m\u001b[0;34m.\u001b[0m\u001b[0mrewardMax\u001b[0m \u001b[0;34m-\u001b[0m \u001b[0mself\u001b[0m\u001b[0;34m.\u001b[0m\u001b[0mrewardMin\u001b[0m\u001b[0;34m)\u001b[0m \u001b[0;31m# rewards scaled to 0,1\u001b[0m\u001b[0;34m\u001b[0m\u001b[0;34m\u001b[0m\u001b[0m\n",
      "\u001b[0;32m~/git/eheye/UCB/M_UCB/codes/UCB_discrete.py\u001b[0m in \u001b[0;36mdraw\u001b[0;34m(self, t)\u001b[0m\n\u001b[1;32m    585\u001b[0m         \u001b[0mthe\u001b[0m \u001b[0mindex\u001b[0m \u001b[0mof\u001b[0m \u001b[0marm\u001b[0m\u001b[0;34m\u001b[0m\u001b[0;34m\u001b[0m\u001b[0m\n\u001b[1;32m    586\u001b[0m         \"\"\"\n\u001b[0;32m--> 587\u001b[0;31m         \u001b[0mchoice\u001b[0m \u001b[0;34m=\u001b[0m \u001b[0mnp\u001b[0m\u001b[0;34m.\u001b[0m\u001b[0mrandom\u001b[0m\u001b[0;34m.\u001b[0m\u001b[0muniform\u001b[0m\u001b[0;34m(\u001b[0m\u001b[0;36m0\u001b[0m\u001b[0;34m,\u001b[0m \u001b[0msum\u001b[0m\u001b[0;34m(\u001b[0m\u001b[0mself\u001b[0m\u001b[0;34m.\u001b[0m\u001b[0mweights\u001b[0m\u001b[0;34m)\u001b[0m\u001b[0;34m)\u001b[0m\u001b[0;34m\u001b[0m\u001b[0;34m\u001b[0m\u001b[0m\n\u001b[0m\u001b[1;32m    588\u001b[0m         \u001b[0mchoiceIndex\u001b[0m \u001b[0;34m=\u001b[0m \u001b[0;36m0\u001b[0m\u001b[0;34m\u001b[0m\u001b[0;34m\u001b[0m\u001b[0m\n\u001b[1;32m    589\u001b[0m \u001b[0;34m\u001b[0m\u001b[0m\n",
      "\u001b[0;32mmtrand.pyx\u001b[0m in \u001b[0;36mnumpy.random.mtrand.RandomState.uniform\u001b[0;34m()\u001b[0m\n",
      "\u001b[0;31mOverflowError\u001b[0m: Range exceeds valid bounds"
     ]
    }
   ],
   "source": [
    "# Our Algorithm: M-UCB\n",
    "\n",
    "hyperpara_list = [[4, 1, 0.5], [4, 1, 1.2]]\n",
    "run_exper_diff_para(clinical_envs, hyperpara_list, num_exper, num_rounds, M_UCB, medians)\n",
    "\n",
    "#--------------------------------------------------------------------------------------------------------\n",
    "\n",
    "# Benchmark Algorithms\n",
    "\n",
    "# U-UCB\n",
    "\n",
    "hyperpara_list = [[4]]\n",
    "run_exper(clinical_envs, hyperpara_list, num_exper, num_rounds, U_UCB, medians)\n",
    "\n",
    "hyperpara_list = [[0.1]]\n",
    "run_exper(clinical_envs, hyperpara_list, num_exper, num_rounds, epsilon_greedy, medians)\n",
    "\n",
    "hyperpara_list = [[10, 1, 1]]\n",
    "run_exper(clinical_envs, hyperpara_list, num_exper, num_rounds, Median_of_Means_UCB, medians)\n",
    "\n",
    "\n",
    "hyperpara_list = [[0.5, 0, 15]]\n",
    "run_exper(clinical_envs, hyperpara_list, num_exper, num_rounds, Exp3, medians)\n",
    "\n",
    "\n",
    "'''\n",
    "\n",
    "# UCB1\n",
    "\n",
    "hyperpara_list = [[100]]\n",
    "run_exper(clinical_envs, hyperpara_list, num_exper, num_rounds, UCB1, means)\n",
    "\n",
    "# UCB_V\n",
    "\n",
    "hyperpara_list = [[1.2, 1, 100]]\n",
    "run_exper(clinical_envs, hyperpara_list, num_exper, num_rounds, UCB_V, means)\n",
    "\n",
    "# MV_LCB with small rho\n",
    "\n",
    "hyperpara_list = [[PARAS[0], 100]]\n",
    "run_exper(clinical_envs, hyperpara_list, num_exper, num_rounds, MV_LCB, mvs_small_rho)\n",
    "\n",
    "# Exp3\n",
    "\n",
    "\n",
    "# MV_LCB with big rho\n",
    "\n",
    "hyperpara_list = [[PARAS[1], 100]]\n",
    "run_exper(clinical_envs, hyperpara_list, num_exper, num_rounds, MV_LCB, mvs_big_rho)\n",
    "'''"
   ]
  },
  {
   "cell_type": "code",
   "execution_count": null,
   "metadata": {},
   "outputs": [],
   "source": [
    "import pickle\n",
    "\n",
    "with open('clinical2.pickle', 'wb') as handle:\n",
    "    pickle.dump(results, handle, protocol=pickle.HIGHEST_PROTOCOL)"
   ]
  },
  {
   "cell_type": "code",
   "execution_count": null,
   "metadata": {},
   "outputs": [],
   "source": [
    "import pickle\n",
    "from codes.plots import plot_hist, plot_eva\n",
    "\n",
    "with open('clinical2.pickle', 'rb') as handle:\n",
    "    results = pickle.load(handle)"
   ]
  },
  {
   "cell_type": "code",
   "execution_count": null,
   "metadata": {},
   "outputs": [],
   "source": [
    "plot_eva_for_clinical(results, 'sd')"
   ]
  },
  {
   "cell_type": "code",
   "execution_count": null,
   "metadata": {},
   "outputs": [],
   "source": [
    "plot_eva_for_clinical(results, 'r')"
   ]
  },
  {
   "cell_type": "markdown",
   "metadata": {},
   "source": [
    "Our policy outperforms others in terms of both expected sub-optimal draws and regret, having a stable performance for both datasets.\n",
    "\n",
    "For expected sub-optimal draws, we compare two parameter settings of MV-LCB.  When choosing a very large $\\rho$ (1e8), MV-LCB policy evaluates empirical mean and has a similar form of UCB1. In this case, MV-LCB has a reasonably small expected sub-optimal draws, but it does not manage the risk control. When $\\rho$ is small (50), MV-LCB has linear sub-optimal draws."
   ]
  },
  {
   "cell_type": "code",
   "execution_count": null,
   "metadata": {},
   "outputs": [],
   "source": []
  }
 ],
 "metadata": {
  "kernelspec": {
   "display_name": "Python 3",
   "language": "python",
   "name": "python3"
  },
  "language_info": {
   "codemirror_mode": {
    "name": "ipython",
    "version": 3
   },
   "file_extension": ".py",
   "mimetype": "text/x-python",
   "name": "python",
   "nbconvert_exporter": "python",
   "pygments_lexer": "ipython3",
   "version": "3.7.4"
  }
 },
 "nbformat": 4,
 "nbformat_minor": 2
}
