{
 "cells": [
  {
   "cell_type": "code",
   "execution_count": 1,
   "metadata": {},
   "outputs": [],
   "source": [
    "import numpy as np\n",
    "from scipy.stats import norm \n",
    "import matplotlib.pyplot as plt"
   ]
  },
  {
   "cell_type": "markdown",
   "metadata": {},
   "source": [
    "```quote\n",
    "INCREASING HAZARD RATE OF MIXTURES FOR NATURAL EXPONENTIAL FAMILIES\n",
    "https://www.jstor.org/stable/41714055?seq=1\n",
    "```\n",
    "[Block et al. 2005](https://linkinghub.elsevier.com/retrieve/pii/S0167715205001690) shows the case mixture of normal distributions with equal variance; [Liu and Liu 2008](https://linkinghub.elsevier.com/retrieve/pii/S0167715208000692) shows the case mixture of normal distributions with unequal variance (Figure 1);\n",
    "\n",
    "In short, if |mu1 - mu2| <= 2 sigma, then the mixture is unimodal.\n",
    "Bimodal requires mu1 and mu2 are far away from each other (i.e. |mu1 - mu2| > 2 sigma for equal variance case), and f(t) = p N(x|mu1, sigma1) + (1-p) N(x|mu2, sigma2) with mu1 < mu2, p needs to be small to have IHR, which is not what we want (we want p to be very big, i.e. big rewards with very small probability ).\n",
    "\n",
    "However, if we consider absolute normal distribution, [which is not a member of the exponential family](https://arxiv.org/pdf/1402.3559.pdf). It means it's hard to find theoretical support about the IHR wrt mixture absolute normal distributions. Through my empirical test, the trend is the same as the mixture of Gaussian, i.e. p needs to be small."
   ]
  },
  {
   "cell_type": "markdown",
   "metadata": {},
   "source": [
    "## Mixture of Gaussian \n",
    "\n",
    "Gaussian $\\frac1{\\sigma\\sqrt{2\\pi}}\\; \\exp\\left(-\\frac{\\left(x-\\mu\\right)^2}{2\\sigma^2} \\right)$\n",
    "\n",
    "f(t) = p N(x|mu1, sigma1) + (1-p) N(x|mu2, sigma2) with mu1 < mu2\n",
    "\n",
    "### When p is small "
   ]
  },
  {
   "cell_type": "code",
   "execution_count": 2,
   "metadata": {},
   "outputs": [
    {
     "data": {
      "text/plain": [
       "<matplotlib.legend.Legend at 0x1a21cacd50>"
      ]
     },
     "execution_count": 2,
     "metadata": {},
     "output_type": "execute_result"
    },
    {
     "data": {
      "image/png": "[encoded data removed]",
      "text/plain": [
       "<Figure size 432x288 with 1 Axes>"
      ]
     },
     "metadata": {
      "needs_background": "light"
     },
     "output_type": "display_data"
    }
   ],
   "source": [
    "p = 1\n",
    "mu1 = 3\n",
    "sigma1 = 1\n",
    "mu2 = 1.1\n",
    "sigma2 = 1\n",
    "\n",
    "x = np.linspace(-3, 3, 100)\n",
    "hazard_rate = (p * norm.pdf(x, mu1, sigma1) + (1-p)*norm.pdf(x, mu2,sigma2))/(1 - p * norm.cdf(x, mu1, sigma1) - (1-p)*norm.cdf(x, mu2,sigma2))\n",
    "\n",
    "fig, ax = plt.subplots(1, 1)\n",
    "ax.plot(x, 10 * (p * norm.pdf(x, mu1, sigma1) + (1-p)*norm.pdf(x, mu2,sigma2)),'r-', lw=5, alpha=0.6, label='norm pdf')\n",
    "ax.plot(x, hazard_rate, 'b-', lw=5, alpha=0.6, label='Hazard Rate')\n",
    "ax.legend()"
   ]
  },
  {
   "cell_type": "code",
   "execution_count": 3,
   "metadata": {},
   "outputs": [
    {
     "data": {
      "text/plain": [
       "array([6.07588286e-09, 8.72442987e-09, 1.24815786e-08, 1.77912626e-08,\n",
       "       2.52667172e-08, 3.57516151e-08, 5.04019463e-08, 7.07951888e-08,\n",
       "       9.90752045e-08, 1.38143676e-07, 1.91911868e-07, 2.65630204e-07,\n",
       "       3.66317676e-07, 5.03318732e-07, 6.89022037e-07, 9.39783750e-07,\n",
       "       1.27710779e-06, 1.72914726e-06, 2.33260509e-06, 3.13512794e-06,\n",
       "       4.19830648e-06, 5.60141612e-06, 7.44605727e-06, 9.86188102e-06,\n",
       "       1.30136168e-05, 1.71096513e-05, 2.24124442e-05, 2.92511025e-05,\n",
       "       3.80364745e-05, 4.92791640e-05, 6.36108995e-05, 8.18097308e-05,\n",
       "       1.04829551e-04, 1.33834464e-04, 1.70238529e-04, 2.15751398e-04,\n",
       "       2.72430367e-04, 3.42739274e-04, 4.29614655e-04, 5.36539424e-04,\n",
       "       6.67624258e-04, 8.27696642e-04, 1.02239738e-03, 1.25828411e-03,\n",
       "       1.54294101e-03, 1.88509377e-03, 2.29472823e-03, 2.78321109e-03,\n",
       "       3.36341041e-03, 4.04981340e-03, 4.85863862e-03, 5.80793937e-03,\n",
       "       6.91769480e-03, 8.20988505e-03, 9.70854671e-03, 1.14398048e-02,\n",
       "       1.34318780e-02, 1.57150530e-02, 1.83216270e-02, 2.12858137e-02,\n",
       "       2.46436136e-02, 2.84326468e-02, 3.26919494e-02, 3.74617343e-02,\n",
       "       4.27831195e-02, 4.86978281e-02, 5.52478627e-02, 6.24751619e-02,\n",
       "       7.04212438e-02, 7.91268440e-02, 8.86315535e-02, 9.89734669e-02,\n",
       "       1.10188844e-01, 1.22311794e-01, 1.35373987e-01, 1.49404401e-01,\n",
       "       1.64429100e-01, 1.80471060e-01, 1.97550030e-01, 2.15682442e-01,\n",
       "       2.34881358e-01, 2.55156467e-01, 2.76514113e-01, 2.98957363e-01,\n",
       "       3.22486113e-01, 3.47097214e-01, 3.72784632e-01, 3.99539622e-01,\n",
       "       4.27350925e-01, 4.56204968e-01, 4.86086080e-01, 5.16976709e-01,\n",
       "       5.48857635e-01, 5.81708192e-01, 6.15506470e-01, 6.50229519e-01,\n",
       "       6.85853546e-01, 7.22354088e-01, 7.59706191e-01, 7.97884561e-01])"
      ]
     },
     "execution_count": 3,
     "metadata": {},
     "output_type": "execute_result"
    }
   ],
   "source": [
    "hazard_rate"
   ]
  },
  {
   "cell_type": "code",
   "execution_count": 4,
   "metadata": {},
   "outputs": [
    {
     "data": {
      "text/plain": [
       "True"
      ]
     },
     "execution_count": 4,
     "metadata": {},
     "output_type": "execute_result"
    }
   ],
   "source": [
    "all(i < j for i, j in zip(hazard_rate, hazard_rate[1:])) "
   ]
  },
  {
   "cell_type": "markdown",
   "metadata": {},
   "source": [
    "### When p is large"
   ]
  },
  {
   "cell_type": "code",
   "execution_count": 5,
   "metadata": {},
   "outputs": [
    {
     "data": {
      "text/plain": [
       "<matplotlib.legend.Legend at 0x1a21d52c10>"
      ]
     },
     "execution_count": 5,
     "metadata": {},
     "output_type": "execute_result"
    },
    {
     "data": {
      "image/png": "[encoded data removed]",
      "text/plain": [
       "<Figure size 432x288 with 1 Axes>"
      ]
     },
     "metadata": {
      "needs_background": "light"
     },
     "output_type": "display_data"
    }
   ],
   "source": [
    "p = 0.95 \n",
    "mu = 10\n",
    "sigma = 1\n",
    "\n",
    "x = np.linspace(-5, 15, 100)\n",
    "\n",
    "fig, ax = plt.subplots(1, 1)\n",
    "ax.plot(x, 10 * (p * norm.pdf(x) + (1-p)*norm.pdf(x, mu,sigma)),'r-', lw=5, alpha=0.6, label='norm pdf')\n",
    "ax.plot(x, (p * norm.pdf(x) + (1-p)*norm.pdf(x, mu,sigma))/(1 - p * norm.cdf(x) - (1-p)*norm.cdf(x, mu,sigma)), 'b-', lw=5, alpha=0.6, label='Hazard Rate')\n",
    "ax.legend()"
   ]
  },
  {
   "cell_type": "markdown",
   "metadata": {},
   "source": [
    "## Mixture of Absolute Gaussian\n",
    "\n",
    "$$f(x) = \\frac{1}{\\sigma\\sqrt{2\\pi}} \\, e^{ -\\frac{(x-\\mu)^2}{2\\sigma^2} } + \\frac{1}{\\sigma\\sqrt{2\\pi}} \\, e^{ -\\frac{(x+\\mu)^2}{2\\sigma^2} }$$\n",
    "\n",
    "$$F(x) = \\frac{1}{2}\\left[ \\mbox{erf}\\left(\\frac{x+\\mu}{\\sigma\\sqrt{2}}\\right) + \\mbox{erf}\\left(\\frac{x-\\mu}{\\sigma\\sqrt{2}}\\right)\\right]$$"
   ]
  },
  {
   "cell_type": "code",
   "execution_count": 6,
   "metadata": {},
   "outputs": [],
   "source": [
    "# absolute normal \n",
    "\n",
    "from scipy.special import erf\n",
    "\n",
    "def pdf(x, mu = 0, sigma = 1):\n",
    "    return 1.0/np.sqrt(2 * np.pi * sigma ** 2) * (np.exp(- 1.0/(2 * sigma**2) * (x -mu)** 2) + np.exp(- 1.0/(2 * sigma**2) * (x +mu)** 2 ))\n",
    "\n",
    "def cdf(x, mu = 0, sigma = 1):\n",
    "    return 1.0/2 * (erf((x-mu)/ np.sqrt(2 * sigma ** 2)) + erf((x+mu)/ np.sqrt(2 * sigma ** 2)))"
   ]
  },
  {
   "cell_type": "code",
   "execution_count": 7,
   "metadata": {},
   "outputs": [
    {
     "data": {
      "text/plain": [
       "<matplotlib.legend.Legend at 0x1a21d49690>"
      ]
     },
     "execution_count": 7,
     "metadata": {},
     "output_type": "execute_result"
    },
    {
     "data": {
      "image/png": "[encoded data removed]",
      "text/plain": [
       "<Figure size 432x288 with 1 Axes>"
      ]
     },
     "metadata": {
      "needs_background": "light"
     },
     "output_type": "display_data"
    }
   ],
   "source": [
    "mu = 3\n",
    "sigma = 1\n",
    "\n",
    "x = np.linspace(0, 5, 100)\n",
    "\n",
    "fig, ax = plt.subplots(1, 1)\n",
    "ax.plot(x, 10 * pdf(x, mu,sigma),'r-', lw=5, alpha=0.6, label='10 * pdf')\n",
    "ax.plot(x, 5 * (1 - cdf(x, mu,sigma)), 'g-', lw=5, alpha=0.6, label='5 * (1-cdf)')\n",
    "ax.plot(x, (pdf(x, mu,sigma))/(1 - cdf(x, mu,sigma)), 'b-', lw=5, alpha=0.6, label='Hazard Rate')\n",
    "ax.legend()"
   ]
  },
  {
   "cell_type": "code",
   "execution_count": 8,
   "metadata": {},
   "outputs": [
    {
     "data": {
      "text/plain": [
       "True"
      ]
     },
     "execution_count": 8,
     "metadata": {},
     "output_type": "execute_result"
    }
   ],
   "source": [
    "hazard_rate = pdf(x, mu,sigma)/(1 - cdf(x, mu,sigma))\n",
    "all(i < j for i, j in zip(hazard_rate, hazard_rate[1:])) "
   ]
  },
  {
   "cell_type": "markdown",
   "metadata": {},
   "source": [
    "### When p is small "
   ]
  },
  {
   "cell_type": "code",
   "execution_count": 67,
   "metadata": {},
   "outputs": [
    {
     "data": {
      "text/plain": [
       "<matplotlib.legend.Legend at 0x1a23297ad0>"
      ]
     },
     "execution_count": 67,
     "metadata": {},
     "output_type": "execute_result"
    },
    {
     "data": {
      "image/png": "[encoded data removed]",
      "text/plain": [
       "<Figure size 432x288 with 1 Axes>"
      ]
     },
     "metadata": {
      "needs_background": "light"
     },
     "output_type": "display_data"
    }
   ],
   "source": [
    "p = 1\n",
    "mu1 = 3\n",
    "sigma1 = 1\n",
    "mu2 = 3\n",
    "sigma2 =  2\n",
    "\n",
    "\n",
    "x = np.linspace(0, 10, 1000)\n",
    "\n",
    "hazard_rate = (p * pdf(x, mu1, sigma1) + (1-p)*pdf(x, mu2,sigma2))/(1 - p * cdf(x, mu1, sigma1) - (1-p)*cdf(x, mu2,sigma2))\n",
    "\n",
    "fig, ax = plt.subplots(1, 1)\n",
    "ax.plot(x, 10 * (p * pdf(x, mu1, sigma1) + (1-p)*pdf(x, mu2,sigma2)),'r-', lw=5, alpha=0.6, label='norm pdf')\n",
    "ax.plot(x, hazard_rate, 'b-', lw=5, alpha=0.6, label='Hazard Rate')\n",
    "ax.legend()"
   ]
  },
  {
   "cell_type": "code",
   "execution_count": 68,
   "metadata": {},
   "outputs": [
    {
     "data": {
      "text/plain": [
       "array([0.0088637 , 0.00886804, 0.00887949, 0.00889805, 0.00892374,\n",
       "       0.00895657, 0.00899655, 0.00904369, 0.00909803, 0.00915958,\n",
       "       0.00922836, 0.00930441, 0.00938776, 0.00947843, 0.00957648,\n",
       "       0.00968192, 0.00979481, 0.00991519, 0.01004311, 0.01017861,\n",
       "       0.01032175, 0.01047259, 0.01063117, 0.01079757, 0.01097184,\n",
       "       0.01115405, 0.01134427, 0.01154256, 0.01174901, 0.01196368,\n",
       "       0.01218665, 0.01241801, 0.01265784, 0.01290623, 0.01316325,\n",
       "       0.01342901, 0.0137036 , 0.0139871 , 0.01427963, 0.01458128,\n",
       "       0.01489214, 0.01521234, 0.01554197, 0.01588115, 0.01622999,\n",
       "       0.01658859, 0.01695709, 0.01733559, 0.01772421, 0.01812309,\n",
       "       0.01853234, 0.01895209, 0.01938248, 0.01982362, 0.02027566,\n",
       "       0.02073874, 0.02121298, 0.02169852, 0.02219552, 0.0227041 ,\n",
       "       0.02322442, 0.02375662, 0.02430085, 0.02485725, 0.02542599,\n",
       "       0.02600721, 0.02660106, 0.02720771, 0.0278273 , 0.02846001,\n",
       "       0.02910599, 0.02976539, 0.03043839, 0.03112515, 0.03182583,\n",
       "       0.03254061, 0.03326964, 0.0340131 , 0.03477115, 0.03554398,\n",
       "       0.03633174, 0.03713462, 0.03795279, 0.03878642, 0.03963569,\n",
       "       0.04050077, 0.04138184, 0.04227908, 0.04319267, 0.04412278,\n",
       "       0.0450696 , 0.0460333 , 0.04701407, 0.04801208, 0.04902752,\n",
       "       0.05006056, 0.05111139, 0.05218019, 0.05326715, 0.05437243,\n",
       "       0.05549623, 0.05663873, 0.0578001 , 0.05898053, 0.06018019,\n",
       "       0.06139928, 0.06263797, 0.06389644, 0.06517487, 0.06647344,\n",
       "       0.06779232, 0.06913171, 0.07049176, 0.07187267, 0.07327461,\n",
       "       0.07469775, 0.07614226, 0.07760833, 0.07909613, 0.08060581,\n",
       "       0.08213757, 0.08369157, 0.08526797, 0.08686695, 0.08848867,\n",
       "       0.09013329, 0.09180099, 0.09349192, 0.09520625, 0.09694413,\n",
       "       0.09870573, 0.1004912 , 0.10230069, 0.10413438, 0.10599239,\n",
       "       0.10787489, 0.10978203, 0.11171395, 0.1136708 , 0.11565272,\n",
       "       0.11765986, 0.11969235, 0.12175034, 0.12383396, 0.12594335,\n",
       "       0.12807864, 0.13023996, 0.13242743, 0.1346412 , 0.13688137,\n",
       "       0.13914808, 0.14144143, 0.14376157, 0.14610858, 0.1484826 ,\n",
       "       0.15088374, 0.1533121 , 0.15576778, 0.1582509 , 0.16076156,\n",
       "       0.16329985, 0.16586588, 0.16845974, 0.17108153, 0.17373132,\n",
       "       0.17640922, 0.17911531, 0.18184967, 0.18461238, 0.18740352,\n",
       "       0.19022317, 0.1930714 , 0.19594828, 0.19885388, 0.20178827,\n",
       "       0.2047515 , 0.20774365, 0.21076477, 0.21381491, 0.21689413,\n",
       "       0.22000248, 0.22314001, 0.22630677, 0.22950279, 0.23272813,\n",
       "       0.23598281, 0.23926687, 0.24258036, 0.24592329, 0.24929571,\n",
       "       0.25269762, 0.25612907, 0.25959007, 0.26308063, 0.26660078,\n",
       "       0.27015053, 0.27372989, 0.27733887, 0.28097747, 0.28464571,\n",
       "       0.28834359, 0.29207109, 0.29582823, 0.299615  , 0.30343139,\n",
       "       0.30727739, 0.31115299, 0.31505817, 0.31899293, 0.32295724,\n",
       "       0.32695108, 0.33097443, 0.33502727, 0.33910957, 0.34322129,\n",
       "       0.34736242, 0.35153291, 0.35573274, 0.35996186, 0.36422024,\n",
       "       0.36850783, 0.3728246 , 0.3771705 , 0.38154548, 0.3859495 ,\n",
       "       0.3903825 , 0.39484444, 0.39933525, 0.40385489, 0.4084033 ,\n",
       "       0.41298041, 0.41758618, 0.42222053, 0.4268834 , 0.43157473,\n",
       "       0.43629445, 0.44104249, 0.44581879, 0.45062327, 0.45545585,\n",
       "       0.46031647, 0.46520505, 0.47012151, 0.47506578, 0.48003776,\n",
       "       0.48503739, 0.49006459, 0.49511925, 0.50020131, 0.50531068,\n",
       "       0.51044727, 0.51561099, 0.52080175, 0.52601946, 0.53126403,\n",
       "       0.53653537, 0.54183339, 0.54715798, 0.55250906, 0.55788653,\n",
       "       0.56329029, 0.56872024, 0.57417629, 0.57965833, 0.58516626,\n",
       "       0.59069999, 0.5962594 , 0.6018444 , 0.60745489, 0.61309076,\n",
       "       0.6187519 , 0.62443821, 0.63014958, 0.6358859 , 0.64164708,\n",
       "       0.647433  , 0.65324355, 0.65907862, 0.6649381 , 0.67082189,\n",
       "       0.67672988, 0.68266194, 0.68861798, 0.69459788, 0.70060153,\n",
       "       0.70662881, 0.71267962, 0.71875384, 0.72485136, 0.73097206,\n",
       "       0.73711583, 0.74328256, 0.74947213, 0.75568443, 0.76191935,\n",
       "       0.76817676, 0.77445656, 0.78075864, 0.78708286, 0.79342913,\n",
       "       0.79979732, 0.80618733, 0.81259903, 0.81903231, 0.82548705,\n",
       "       0.83196315, 0.83846048, 0.84497893, 0.85151838, 0.85807872,\n",
       "       0.86465984, 0.87126162, 0.87788394, 0.88452669, 0.89118976,\n",
       "       0.89787303, 0.90457638, 0.91129971, 0.9180429 , 0.92480584,\n",
       "       0.9315884 , 0.93839049, 0.94521198, 0.95205276, 0.95891272,\n",
       "       0.96579175, 0.97268974, 0.97960657, 0.98654213, 0.99349631,\n",
       "       1.000469  , 1.00746009, 1.01446947, 1.02149702, 1.02854264,\n",
       "       1.03560623, 1.04268766, 1.04978683, 1.05690364, 1.06403797,\n",
       "       1.07118971, 1.07835877, 1.08554503, 1.09274838, 1.09996872,\n",
       "       1.10720595, 1.11445995, 1.12173063, 1.12901787, 1.13632158,\n",
       "       1.14364165, 1.15097798, 1.15833046, 1.16569899, 1.17308347,\n",
       "       1.18048379, 1.18789987, 1.19533159, 1.20277885, 1.21024157,\n",
       "       1.21771962, 1.22521293, 1.23272138, 1.24024488, 1.24778334,\n",
       "       1.25533665, 1.26290472, 1.27048746, 1.27808476, 1.28569653,\n",
       "       1.29332269, 1.30096312, 1.30861775, 1.31628647, 1.32396919,\n",
       "       1.33166583, 1.33937628, 1.34710047, 1.35483829, 1.36258966,\n",
       "       1.37035448, 1.37813268, 1.38592415, 1.39372881, 1.40154658,\n",
       "       1.40937736, 1.41722107, 1.42507762, 1.43294693, 1.44082891,\n",
       "       1.44872347, 1.45663054, 1.46455002, 1.47248184, 1.48042591,\n",
       "       1.48838215, 1.49635047, 1.50433081, 1.51232306, 1.52032716,\n",
       "       1.52834303, 1.53637058, 1.54440973, 1.55246042, 1.56052255,\n",
       "       1.56859605, 1.57668085, 1.58477687, 1.59288403, 1.60100226,\n",
       "       1.60913148, 1.61727161, 1.62542259, 1.63358434, 1.64175678,\n",
       "       1.64993985, 1.65813346, 1.66633756, 1.67455207, 1.68277691,\n",
       "       1.69101202, 1.69925732, 1.70751276, 1.71577825, 1.72405373,\n",
       "       1.73233913, 1.74063439, 1.74893943, 1.7572542 , 1.76557862,\n",
       "       1.77391263, 1.78225616, 1.79060915, 1.79897153, 1.80734324,\n",
       "       1.81572422, 1.8241144 , 1.83251372, 1.84092212, 1.84933953,\n",
       "       1.8577659 , 1.86620117, 1.87464526, 1.88309813, 1.89155971,\n",
       "       1.90002995, 1.90850878, 1.91699614, 1.92549199, 1.93399625,\n",
       "       1.94250888, 1.95102981, 1.959559  , 1.96809638, 1.97664189,\n",
       "       1.98519549, 1.99375712, 2.00232672, 2.01090424, 2.01948963,\n",
       "       2.02808282, 2.03668378, 2.04529244, 2.05390876, 2.06253268,\n",
       "       2.07116415, 2.07980313, 2.08844955, 2.09710337, 2.10576454,\n",
       "       2.11443301, 2.12310873, 2.13179165, 2.14048172, 2.1491789 ,\n",
       "       2.15788313, 2.16659438, 2.17531258, 2.18403771, 2.19276969,\n",
       "       2.20150851, 2.2102541 , 2.21900642, 2.22776542, 2.23653107,\n",
       "       2.24530331, 2.25408211, 2.26286741, 2.27165919, 2.28045738,\n",
       "       2.28926195, 2.29807286, 2.30689006, 2.31571352, 2.32454318,\n",
       "       2.33337902, 2.34222098, 2.35106903, 2.35992313, 2.36878324,\n",
       "       2.37764931, 2.38652131, 2.3953992 , 2.40428294, 2.41317249,\n",
       "       2.42206782, 2.43096887, 2.43987563, 2.44878804, 2.45770607,\n",
       "       2.46662969, 2.47555886, 2.48449354, 2.49343369, 2.50237929,\n",
       "       2.51133028, 2.52028665, 2.52924835, 2.53821535, 2.54718761,\n",
       "       2.5561651 , 2.56514779, 2.57413563, 2.58312861, 2.59212668,\n",
       "       2.60112981, 2.61013797, 2.61915113, 2.62816925, 2.6371923 ,\n",
       "       2.64622025, 2.65525307, 2.66429073, 2.67333319, 2.68238043,\n",
       "       2.69143241, 2.7004891 , 2.70955047, 2.7186165 , 2.72768715,\n",
       "       2.7367624 , 2.7458422 , 2.75492655, 2.7640154 , 2.77310872,\n",
       "       2.7822065 , 2.79130869, 2.80041528, 2.80952623, 2.81864151,\n",
       "       2.82776111, 2.83688498, 2.84601311, 2.85514547, 2.86428203,\n",
       "       2.87342276, 2.88256765, 2.89171665, 2.90086975, 2.91002692,\n",
       "       2.91918813, 2.92835336, 2.93752259, 2.94669578, 2.95587292,\n",
       "       2.96505398, 2.97423893, 2.98342776, 2.99262043, 3.00181692,\n",
       "       3.01101722, 3.02022129, 3.02942911, 3.03864065, 3.04785591,\n",
       "       3.05707485, 3.06629744, 3.07552368, 3.08475353, 3.09398697,\n",
       "       3.10322398, 3.11246454, 3.12170863, 3.13095623, 3.1402073 ,\n",
       "       3.14946185, 3.15871983, 3.16798123, 3.17724603, 3.18651421,\n",
       "       3.19578575, 3.20506063, 3.21433883, 3.22362032, 3.23290509,\n",
       "       3.24219312, 3.25148439, 3.26077887, 3.27007656, 3.27937742,\n",
       "       3.28868145, 3.29798862, 3.30729891, 3.3166123 , 3.32592879,\n",
       "       3.33524834, 3.34457093, 3.35389656, 3.36322521, 3.37255684,\n",
       "       3.38189146, 3.39122903, 3.40056955, 3.40991299, 3.41925934,\n",
       "       3.42860858, 3.43796069, 3.44731566, 3.45667346, 3.46603409,\n",
       "       3.47539753, 3.48476375, 3.49413275, 3.50350451, 3.512879  ,\n",
       "       3.52225623, 3.53163616, 3.54101878, 3.55040408, 3.55979205,\n",
       "       3.56918266, 3.5785759 , 3.58797176, 3.59737022, 3.60677126,\n",
       "       3.61617488, 3.62558105, 3.63498977, 3.64440101, 3.65381476,\n",
       "       3.66323102, 3.67264975, 3.68207096, 3.69149462, 3.70092072,\n",
       "       3.71034925, 3.71978019, 3.72921354, 3.73864927, 3.74808737,\n",
       "       3.75752783, 3.76697064, 3.77641578, 3.78586324, 3.79531301,\n",
       "       3.80476507, 3.81421942, 3.82367603, 3.83313489, 3.842596  ,\n",
       "       3.85205934, 3.8615249 , 3.87099266, 3.88046261, 3.88993475,\n",
       "       3.89940905, 3.90888551, 3.91836412, 3.92784486, 3.93732771,\n",
       "       3.94681268, 3.95629975, 3.9657889 , 3.97528013, 3.98477342,\n",
       "       3.99426876, 4.00376614, 4.01326555, 4.02276698, 4.03227042,\n",
       "       4.04177586, 4.05128328, 4.06079267, 4.07030403, 4.07981734,\n",
       "       4.08933259, 4.09884978, 4.10836889, 4.11788991, 4.12741283,\n",
       "       4.13693764, 4.14646434, 4.1559929 , 4.16552332, 4.1750556 ,\n",
       "       4.18458971, 4.19412566, 4.20366342, 4.213203  , 4.22274438,\n",
       "       4.23228755, 4.24183251, 4.25137923, 4.26092773, 4.27047797,\n",
       "       4.28002996, 4.28958369, 4.29913914, 4.30869631, 4.31825519,\n",
       "       4.32781577, 4.33737804, 4.34694199, 4.35650761, 4.3660749 ,\n",
       "       4.37564385, 4.38521444, 4.39478667, 4.40436053, 4.41393601,\n",
       "       4.4235131 , 4.4330918 , 4.4426721 , 4.45225398, 4.46183744,\n",
       "       4.47142248, 4.48100907, 4.49059723, 4.50018693, 4.50977817,\n",
       "       4.51937094, 4.52896524, 4.53856105, 4.54815837, 4.55775719,\n",
       "       4.56735751, 4.57695931, 4.58656259, 4.59616733, 4.60577355,\n",
       "       4.61538121, 4.62499033, 4.63460088, 4.64421287, 4.65382629,\n",
       "       4.66344113, 4.67305737, 4.68267503, 4.69229408, 4.70191452,\n",
       "       4.71153634, 4.72115955, 4.73078412, 4.74041006, 4.75003735,\n",
       "       4.75966599, 4.76929598, 4.7789273 , 4.78855995, 4.79819393,\n",
       "       4.80782922, 4.81746583, 4.82710373, 4.83674294, 4.84638343,\n",
       "       4.85602521, 4.86566827, 4.8753126 , 4.8849582 , 4.89460506,\n",
       "       4.90425317, 4.91390253, 4.92355313, 4.93320497, 4.94285803,\n",
       "       4.95251232, 4.96216783, 4.97182454, 4.98148247, 4.99114159,\n",
       "       5.00080191, 5.01046342, 5.02012611, 5.02978997, 5.03945501,\n",
       "       5.04912122, 5.05878858, 5.0684571 , 5.07812677, 5.08779758,\n",
       "       5.09746954, 5.10714262, 5.11681683, 5.12649217, 5.13616862,\n",
       "       5.14584618, 5.15552485, 5.16520462, 5.17488549, 5.18456745,\n",
       "       5.19425049, 5.20393461, 5.21361981, 5.22330608, 5.23299342,\n",
       "       5.24268181, 5.25237127, 5.26206177, 5.27175332, 5.28144591,\n",
       "       5.29113953, 5.30083419, 5.31052987, 5.32022658, 5.3299243 ,\n",
       "       5.33962304, 5.34932278, 5.35902352, 5.36872527, 5.37842801,\n",
       "       5.38813174, 5.39783645, 5.40754215, 5.41724881, 5.42695645,\n",
       "       5.43666506, 5.44637463, 5.45608515, 5.46579664, 5.47550908,\n",
       "       5.48522244, 5.49493677, 5.50465202, 5.51436821, 5.52408533,\n",
       "       5.53380336, 5.54352233, 5.55324219, 5.56296298, 5.57268467,\n",
       "       5.58240727, 5.59213077, 5.60185515, 5.61158045, 5.62130662,\n",
       "       5.63103367, 5.6407616 , 5.65049043, 5.66022011, 5.66995067,\n",
       "       5.67968209, 5.68941435, 5.69914748, 5.70888145, 5.71861629,\n",
       "       5.72835201, 5.7380885 , 5.74782586, 5.75756401, 5.76730306,\n",
       "       5.7770429 , 5.78678355, 5.7965251 , 5.80626741, 5.81601054,\n",
       "       5.82575448, 5.83549918, 5.84524472, 5.8549911 , 5.86473815,\n",
       "       5.87448615, 5.88423493, 5.89398432, 5.90373466, 5.91348579,\n",
       "       5.92323745, 5.93299003, 5.94274358, 5.95249764, 5.96225252,\n",
       "       5.97200819, 5.98176461, 5.99152188, 6.00127982, 6.01103827,\n",
       "       6.02079791, 6.03055768, 6.0403188 , 6.05008039, 6.05984259,\n",
       "       6.06960577, 6.07936962, 6.08913392, 6.0988993 , 6.10866563,\n",
       "       6.11843204, 6.12819952, 6.13796759, 6.14773623, 6.15750548,\n",
       "       6.16727581, 6.1770466 , 6.18681843, 6.19659029, 6.20636359,\n",
       "       6.21613693, 6.2259119 , 6.23568667, 6.24546186, 6.25523875,\n",
       "       6.26501424, 6.27479319, 6.28457002, 6.2943499 , 6.30413086,\n",
       "       6.313909  , 6.32369079, 6.33347128, 6.34325453, 6.35303619,\n",
       "       6.36282104, 6.3726034 , 6.38239064, 6.39217593, 6.40196147,\n",
       "       6.41174827, 6.42153733, 6.43132318, 6.44111224, 6.45090146,\n",
       "       6.46069385, 6.47048328, 6.48027363, 6.49006343, 6.49985702,\n",
       "       6.5096455 , 6.51944842, 6.5292355 , 6.53903219, 6.54882138,\n",
       "       6.55861993, 6.56842004, 6.57821807, 6.588009  , 6.59780472,\n",
       "       6.60760462, 6.61741293, 6.62720068, 6.63702297, 6.64682227,\n",
       "       6.65661334, 6.66641964, 6.67622251, 6.68603313, 6.69584429,\n",
       "       6.70561493, 6.71542727, 6.72523942, 6.7350656 , 6.74484437,\n",
       "       6.75463571, 6.76445014, 6.77426354, 6.78409103, 6.79389052,\n",
       "       6.80369732, 6.81352682, 6.82329274, 6.83316727, 6.84294191,\n",
       "       6.85272908, 6.86257784, 6.87234503, 6.88219071, 6.89206637,\n",
       "       6.90184165, 6.91162408, 6.92145959, 6.93129353, 6.94106787,\n",
       "       6.95102834, 6.96081117, 6.97046874, 6.98024138, 6.99019235,\n",
       "       7.00011784, 7.00991813, 7.01963665, 7.02950698, 7.03940846,\n",
       "       7.04935501, 7.05884698, 7.06890342, 7.07863919, 7.08835776,\n",
       "       7.098184  , 7.10796663, 7.11769017, 7.12809815, 7.1372525 ])"
      ]
     },
     "execution_count": 68,
     "metadata": {},
     "output_type": "execute_result"
    }
   ],
   "source": [
    "hazard_rate"
   ]
  },
  {
   "cell_type": "code",
   "execution_count": 69,
   "metadata": {},
   "outputs": [
    {
     "data": {
      "text/plain": [
       "True"
      ]
     },
     "execution_count": 69,
     "metadata": {},
     "output_type": "execute_result"
    }
   ],
   "source": [
    "all(i < j for i, j in zip(hazard_rate, hazard_rate[1:])) "
   ]
  },
  {
   "cell_type": "code",
   "execution_count": 70,
   "metadata": {},
   "outputs": [
    {
     "data": {
      "text/plain": [
       "0.008863696823876015"
      ]
     },
     "execution_count": 70,
     "metadata": {},
     "output_type": "execute_result"
    }
   ],
   "source": [
    "np.min(hazard_rate)"
   ]
  },
  {
   "cell_type": "code",
   "execution_count": 13,
   "metadata": {},
   "outputs": [
    {
     "data": {
      "text/plain": [
       "<matplotlib.legend.Legend at 0x1a21f43910>"
      ]
     },
     "execution_count": 13,
     "metadata": {},
     "output_type": "execute_result"
    },
    {
     "data": {
      "image/png": "[encoded data removed]",
      "text/plain": [
       "<Figure size 432x288 with 1 Axes>"
      ]
     },
     "metadata": {
      "needs_background": "light"
     },
     "output_type": "display_data"
    }
   ],
   "source": [
    "p = 1\n",
    "mu = 10\n",
    "sigma = 1\n",
    "\n",
    "x = np.linspace(0, 12, 100)\n",
    "\n",
    "fig, ax = plt.subplots(1, 1)\n",
    "ax.plot(x, 10 * (p * pdf(x, 8, 1) + (1-p)*pdf(x, mu,sigma)) ,'r-', lw=5, alpha=0.6, label='norm pdf')\n",
    "ax.plot(x, (p * pdf(x, 8, 1) + (1-p)*pdf(x, mu,sigma))/(1 - p * cdf(x, 8, 1) - (1-p)*cdf(x, mu,sigma)), 'b-', lw=5, alpha=0.6, label='Hazard Rate')\n",
    "ax.legend()"
   ]
  },
  {
   "cell_type": "code",
   "execution_count": 14,
   "metadata": {},
   "outputs": [
    {
     "data": {
      "text/plain": [
       "1.2940293183452653e-07"
      ]
     },
     "execution_count": 14,
     "metadata": {},
     "output_type": "execute_result"
    }
   ],
   "source": [
    "np.median(10 * (p * pdf(x) + (1-p)*pdf(x, mu,sigma)))"
   ]
  },
  {
   "cell_type": "markdown",
   "metadata": {},
   "source": [
    "### When p is large"
   ]
  },
  {
   "cell_type": "code",
   "execution_count": 15,
   "metadata": {},
   "outputs": [
    {
     "data": {
      "text/plain": [
       "<matplotlib.legend.Legend at 0x1a22141410>"
      ]
     },
     "execution_count": 15,
     "metadata": {},
     "output_type": "execute_result"
    },
    {
     "data": {
      "image/png": "[encoded data removed]",
      "text/plain": [
       "<Figure size 432x288 with 1 Axes>"
      ]
     },
     "metadata": {
      "needs_background": "light"
     },
     "output_type": "display_data"
    }
   ],
   "source": [
    "p = 0.95\n",
    "mu = 10\n",
    "sigma = 1\n",
    "\n",
    "x = np.linspace(0, 15, 100)\n",
    "\n",
    "fig, ax = plt.subplots(1, 1)\n",
    "ax.plot(x, 10 * (p * pdf(x) + (1-p)*pdf(x, mu,sigma)),'r-', lw=5, alpha=0.6, label='norm pdf')\n",
    "ax.plot(x, (p * pdf(x) + (1-p)*pdf(x, mu,sigma))/(1 - p * cdf(x) - (1-p)*cdf(x, mu,sigma)), 'b-', lw=5, alpha=0.6, label='Hazard Rate')\n",
    "ax.legend()"
   ]
  },
  {
   "cell_type": "markdown",
   "metadata": {},
   "source": [
    "## With Outliers in draft paper\n",
    "\n",
    "### AbsGau+Outlier (AbsGau)"
   ]
  },
  {
   "cell_type": "code",
   "execution_count": 16,
   "metadata": {},
   "outputs": [
    {
     "data": {
      "text/plain": [
       "<matplotlib.legend.Legend at 0x1a22206910>"
      ]
     },
     "execution_count": 16,
     "metadata": {},
     "output_type": "execute_result"
    },
    {
     "data": {
      "image/png": "[encoded data removed]",
      "text/plain": [
       "<Figure size 432x288 with 1 Axes>"
      ]
     },
     "metadata": {
      "needs_background": "light"
     },
     "output_type": "display_data"
    }
   ],
   "source": [
    "p = 0.95\n",
    "mu = 10\n",
    "sigma = 0.5\n",
    "\n",
    "x = np.linspace(0, 12, 100)\n",
    "\n",
    "fig, ax = plt.subplots(1, 1)\n",
    "ax.plot(x, 10 * (p * pdf(x, 0, 0.1) + (1-p)*pdf(x, mu,sigma)),'r-', lw=5, alpha=0.6, label='norm pdf')\n",
    "ax.plot(x, (p * pdf(x, 0, 0.1) + (1-p)*pdf(x, mu,sigma))/(1 - p * cdf(x) - (1-p)*cdf(x, mu,sigma)), 'b-', lw=5, alpha=0.6, label='Hazard Rate')\n",
    "ax.legend()"
   ]
  },
  {
   "cell_type": "markdown",
   "metadata": {},
   "source": [
    "### Exp + Outlier (AbsGau)"
   ]
  },
  {
   "cell_type": "code",
   "execution_count": 17,
   "metadata": {},
   "outputs": [],
   "source": [
    "from scipy.stats import expon"
   ]
  },
  {
   "cell_type": "code",
   "execution_count": 18,
   "metadata": {},
   "outputs": [
    {
     "data": {
      "text/plain": [
       "<matplotlib.legend.Legend at 0x1a22304450>"
      ]
     },
     "execution_count": 18,
     "metadata": {},
     "output_type": "execute_result"
    },
    {
     "data": {
      "image/png": "[encoded data removed]",
      "text/plain": [
       "<Figure size 432x288 with 1 Axes>"
      ]
     },
     "metadata": {
      "needs_background": "light"
     },
     "output_type": "display_data"
    }
   ],
   "source": [
    "p = 0.95\n",
    "mu = 10\n",
    "sigma = 0.5\n",
    "\n",
    "x = np.linspace(0, 12, 100)\n",
    "\n",
    "fig, ax = plt.subplots(1, 1)\n",
    "ax.plot(x, 10 * (p * expon.pdf(x) + (1-p)*pdf(x, mu,sigma)),'r-', lw=5, alpha=0.6, label='norm pdf')\n",
    "ax.plot(x, (p * expon.pdf(x) + (1-p)*pdf(x, mu,sigma))/(1 - p * cdf(x) - (1-p)*cdf(x, mu,sigma)), 'b-', lw=5, alpha=0.6, label='Hazard Rate')\n",
    "ax.legend()"
   ]
  },
  {
   "cell_type": "code",
   "execution_count": null,
   "metadata": {},
   "outputs": [],
   "source": []
  },
  {
   "cell_type": "code",
   "execution_count": null,
   "metadata": {},
   "outputs": [],
   "source": []
  }
 ],
 "metadata": {
  "kernelspec": {
   "display_name": "Python 3",
   "language": "python",
   "name": "python3"
  },
  "language_info": {
   "codemirror_mode": {
    "name": "ipython",
    "version": 3
   },
   "file_extension": ".py",
   "mimetype": "text/x-python",
   "name": "python",
   "nbconvert_exporter": "python",
   "pygments_lexer": "ipython3",
   "version": "3.7.4"
  }
 },
 "nbformat": 4,
 "nbformat_minor": 2
}
