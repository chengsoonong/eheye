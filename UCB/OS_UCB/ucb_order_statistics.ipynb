{
 "cells": [
  {
   "cell_type": "code",
   "execution_count": 1,
   "metadata": {},
   "outputs": [],
   "source": [
    "import numpy as np\n",
    "from UCB_discrete import UCB_discrete, UCB_os_gau, UCB_os_exp, UCB1_os, UCB_os_comb\n",
    "from collections import defaultdict\n",
    "import Environment\n",
    "from Environment import AbsGau, Exp, Comb, AbsGau_Outlier, Exp_Outlier\n",
    "from SimulatedGames import simulate\n",
    "from ipywidgets import IntProgress\n",
    "from IPython.display import display\n",
    "import matplotlib.pyplot as plt\n",
    "\n",
    "%matplotlib inline"
   ]
  },
  {
   "cell_type": "markdown",
   "metadata": {},
   "source": [
    "# UCB for order statistics\n",
    "\n",
    "This notebook is designed to show the idea using order statistics to design UCB policies works empirically. The experiment is designed on simulated data, for two special reward distributions proved by [notes](https://github.com/chengsoonong/eheye/tree/master/writing/QuantUCB_orderstat): \n",
    "\n",
    "(1) Absolute value of center Gaussian rewards  \n",
    "(2) Exponential rewards  \n",
    "(3) Arbtrary distributions (combing 1 and 2)\n",
    "\n",
    "For each case, we show the results for both estiamted parameter and true parameter.\n",
    "\n",
    "Settings: 3 independent arms, 10000 rounds with 50 indepenent experiments. Evaluated by \n",
    "a. expected sub-optimal draws.\n",
    "b. the percent of best arm selected. \n",
    "\n",
    "Policy (Empirical policy): In round t+1, select the arm with index, \n",
    "$$argmax_{i \\in \\mathcal{K}} \\hat{m}_{i, T_i(t)} + \\beta(\\sqrt{2v_t \\varepsilon} + 2 \\varepsilon \\sqrt{v_t/T_i(t)})$$\n",
    "\n",
    "where $\\hat{m}_{i, T_i(t)}$ is the empirical median for arm i at the round t, $\\varepsilon = \\alpha \\log t$, $v_t$ depends on reward distributions. $T_i(t)$ is the number of times arm i has been played until round t. \n",
    "\n",
    "We fix the parameters $\\alpha, \\beta$ in this notebook, see [here](https://github.com/chengsoonong/eheye/blob/master/UCB/OS_UCB/ucb_os_hyperparameter_tuning_outliers_testing.ipynb) for experiments on tuning parameters, [here](https://github.com/chengsoonong/eheye/blob/master/UCB/OS_UCB/Variance_Sensitiveness_test.ipynb) for experiments test the policy senstivity for different variance of reward distribution, [here](https://github.com/chengsoonong/eheye/blob/master/UCB/OS_UCB/Sanity_test.ipynb) for some sanity test of our policy.  "
   ]
  },
  {
   "cell_type": "code",
   "execution_count": 2,
   "metadata": {},
   "outputs": [],
   "source": [
    "# setting\n",
    "\n",
    "num_rounds = 1000\n",
    "num_exper = 100\n",
    "num_arms = 3\n",
    "\n",
    "# environment\n",
    "\n",
    "'''\n",
    "environments = {#AbsGau: [0.5, 1, 1.5], \n",
    "                #Exp: [2.0, 1, 3.0/2],\n",
    "                #Comb: [0.7, 0.7, 1], \n",
    "                AbsGau_Outlier: [0.5, 1, 1.5],\n",
    "                Exp_Outlier: [2.0, 1, 3.0/2]\n",
    "               }\n",
    "'''\n",
    "\n",
    "environments = [\n",
    "                {AbsGau: [0.5, 1.0, 1.5]}, \n",
    "                {Exp:    [2.0, 1.0, 1.5]},\n",
    "                {AbsGau_Outlier: [0.5, 1, 1.5]},\n",
    "                {Exp_Outlier: [2.0, 1, 1.5]},\n",
    "                {AbsGau: [0.5], Exp: [1.0, 1.5]},\n",
    "                {AbsGau_Outlier: [0.5], Exp_Outlier: [1.0, 1.5]}\n",
    "               ]\n",
    "\n",
    "rewards_env, medians = Environment.setup_env(num_arms, environments)\n",
    "\n",
    "# policy\n",
    "'''\n",
    "policy = {'AbsGau': UCB_discrete, #UCB_os_gau,\n",
    "          'Exp': UCB_discrete, #UCB_os_exp,\n",
    "          'Comb': UCB_discrete,     #UCB_os_comb,\n",
    "          'AbsGau_Outlier': UCB_discrete, #UCB_os_gau\n",
    "          'Exp_Outlier': UCB_discrete\n",
    "         }\n",
    "'''\n",
    "policy = UCB_discrete\n",
    "\n",
    "# hyper-parameters for policy\n",
    "\n",
    "hyperpara_list = [[0.5, 0.2]]\n",
    "\n",
    "evaluation = ['sd', 'r', 'bd']"
   ]
  },
  {
   "cell_type": "code",
   "execution_count": 3,
   "metadata": {},
   "outputs": [
    {
     "data": {
      "text/plain": [
       "defaultdict(list,\n",
       "            {'AbsGau_[0.5, 1.0, 1.5]': [<Environment.AbsGau at 0x7f7cf15555c0>,\n",
       "              <Environment.AbsGau at 0x7f7cf15555f8>,\n",
       "              <Environment.AbsGau at 0x7f7cf15557f0>],\n",
       "             'Exp_[2.0, 1.0, 1.5]': [<Environment.Exp at 0x7f7cf1555588>,\n",
       "              <Environment.Exp at 0x7f7cf1555940>,\n",
       "              <Environment.Exp at 0x7f7cf15559e8>],\n",
       "             'AbsGau_Outlier_[0.5, 1, 1.5]': [<Environment.AbsGau_Outlier at 0x7f7cf1555470>,\n",
       "              <Environment.AbsGau_Outlier at 0x7f7cf1555b00>,\n",
       "              <Environment.AbsGau_Outlier at 0x7f7cf1555ba8>],\n",
       "             'Exp_Outlier_[2.0, 1, 1.5]': [<Environment.Exp_Outlier at 0x7f7cf1555c50>,\n",
       "              <Environment.Exp_Outlier at 0x7f7cf1555cf8>,\n",
       "              <Environment.Exp_Outlier at 0x7f7cf1555da0>],\n",
       "             'AbsGau_[0.5]Exp_[1.0, 1.5]': [<Environment.AbsGau at 0x7f7cf1555eb8>,\n",
       "              <Environment.Exp at 0x7f7cf1555f28>,\n",
       "              <Environment.Exp at 0x7f7cf1555fd0>],\n",
       "             'AbsGau_Outlier_[0.5]Exp_Outlier_[1.0, 1.5]': [<Environment.AbsGau_Outlier at 0x7f7cf1555e48>,\n",
       "              <Environment.Exp_Outlier at 0x7f7cf1552128>,\n",
       "              <Environment.Exp_Outlier at 0x7f7cf15521d0>]})"
      ]
     },
     "execution_count": 3,
     "metadata": {},
     "output_type": "execute_result"
    }
   ],
   "source": [
    "rewards_env"
   ]
  },
  {
   "cell_type": "code",
   "execution_count": 4,
   "metadata": {},
   "outputs": [
    {
     "data": {
      "text/plain": [
       "defaultdict(list,\n",
       "            {'AbsGau_[0.5, 1.0, 1.5]': [0.33768250246487946,\n",
       "              0.6779741829902828,\n",
       "              1.0482185901809726],\n",
       "             'Exp_[2.0, 1.0, 1.5]': [0.3442511163834113,\n",
       "              0.6945948508548029,\n",
       "              0.463267103155804],\n",
       "             'AbsGau_Outlier_[0.5, 1, 1.5]': [0.36232618932374916,\n",
       "              0.7103015016924226,\n",
       "              1.071861730649036],\n",
       "             'Exp_Outlier_[2.0, 1, 1.5]': [0.37474706195628593,\n",
       "              0.7474124253143246,\n",
       "              0.501862807963664],\n",
       "             'AbsGau_[0.5]Exp_[1.0, 1.5]': [0.3345746092000958,\n",
       "              0.7032169736281475,\n",
       "              0.4767995009321356],\n",
       "             'AbsGau_Outlier_[0.5]Exp_Outlier_[1.0, 1.5]': [0.3521068672347205,\n",
       "              0.7379046813313457,\n",
       "              0.4874996239659134]})"
      ]
     },
     "execution_count": 4,
     "metadata": {},
     "output_type": "execute_result"
    }
   ],
   "source": [
    "medians"
   ]
  },
  {
   "cell_type": "code",
   "execution_count": 5,
   "metadata": {},
   "outputs": [
    {
     "name": "stdout",
     "output_type": "stream",
     "text": [
      "AbsGau_[0.5, 1.0, 1.5]_100_1000False[0.5, 0.2]\n"
     ]
    },
    {
     "data": {
      "application/vnd.jupyter.widget-view+json": {
       "model_id": "a60a0e7f3c184d8da6a2e0a3c39d8374",
       "version_major": 2,
       "version_minor": 0
      },
      "text/plain": [
       "IntProgress(value=0, description='Running')"
      ]
     },
     "metadata": {},
     "output_type": "display_data"
    },
    {
     "name": "stdout",
     "output_type": "stream",
     "text": [
      "Exp_[2.0, 1.0, 1.5]_100_1000False[0.5, 0.2]\n"
     ]
    },
    {
     "data": {
      "application/vnd.jupyter.widget-view+json": {
       "model_id": "a857a9856e0f494daa87422c4b17c19a",
       "version_major": 2,
       "version_minor": 0
      },
      "text/plain": [
       "IntProgress(value=0, description='Running')"
      ]
     },
     "metadata": {},
     "output_type": "display_data"
    },
    {
     "name": "stdout",
     "output_type": "stream",
     "text": [
      "AbsGau_Outlier_[0.5, 1, 1.5]_100_1000False[0.5, 0.2]\n"
     ]
    },
    {
     "data": {
      "application/vnd.jupyter.widget-view+json": {
       "model_id": "6ffb4def5b204c9a81fac172bb7b13bb",
       "version_major": 2,
       "version_minor": 0
      },
      "text/plain": [
       "IntProgress(value=0, description='Running')"
      ]
     },
     "metadata": {},
     "output_type": "display_data"
    },
    {
     "name": "stdout",
     "output_type": "stream",
     "text": [
      "Exp_Outlier_[2.0, 1, 1.5]_100_1000False[0.5, 0.2]\n"
     ]
    },
    {
     "data": {
      "application/vnd.jupyter.widget-view+json": {
       "model_id": "2d5729f985674a66b5f7fde8518092f1",
       "version_major": 2,
       "version_minor": 0
      },
      "text/plain": [
       "IntProgress(value=0, description='Running')"
      ]
     },
     "metadata": {},
     "output_type": "display_data"
    },
    {
     "name": "stdout",
     "output_type": "stream",
     "text": [
      "AbsGau_[0.5]Exp_[1.0, 1.5]_100_1000False[0.5, 0.2]\n"
     ]
    },
    {
     "data": {
      "application/vnd.jupyter.widget-view+json": {
       "model_id": "7070e63aaa884884bdfccb924d923fd4",
       "version_major": 2,
       "version_minor": 0
      },
      "text/plain": [
       "IntProgress(value=0, description='Running')"
      ]
     },
     "metadata": {},
     "output_type": "display_data"
    },
    {
     "name": "stdout",
     "output_type": "stream",
     "text": [
      "AbsGau_Outlier_[0.5]Exp_Outlier_[1.0, 1.5]_100_1000False[0.5, 0.2]\n"
     ]
    },
    {
     "data": {
      "application/vnd.jupyter.widget-view+json": {
       "model_id": "12ca68fe6ac34b869548c5c2a5d12c5c",
       "version_major": 2,
       "version_minor": 0
      },
      "text/plain": [
       "IntProgress(value=0, description='Running')"
      ]
     },
     "metadata": {},
     "output_type": "display_data"
    }
   ],
   "source": [
    "results = defaultdict(dict)\n",
    "\n",
    "for key in rewards_env.keys():\n",
    "    for hyperpara in hyperpara_list:\n",
    "        for est_flag in [False]:\n",
    "            name = key + '_' + str(num_exper) + '_' + str(num_rounds) \n",
    "            subname = str(est_flag)+ str(hyperpara)\n",
    "            print(name + subname)\n",
    "            p = IntProgress(max = num_exper)\n",
    "            p.description = 'Running'\n",
    "            display(p)\n",
    "            results[name][subname], results[name]['bound']= \\\n",
    "                    simulate(rewards_env[key], medians[key], policy, num_exper, num_rounds, est_flag, hyperpara, evaluation, p)"
   ]
  },
  {
   "cell_type": "code",
   "execution_count": 6,
   "metadata": {},
   "outputs": [],
   "source": [
    "#with open('os_saving.pickle', 'rb') as handle:\n",
    "#    b = pickle.load(handle)"
   ]
  },
  {
   "cell_type": "code",
   "execution_count": 7,
   "metadata": {},
   "outputs": [
    {
     "name": "stdout",
     "output_type": "stream",
     "text": [
      "AbsGau_[0.5, 1.0, 1.5]_100_1000UCB1_[1]\n"
     ]
    },
    {
     "data": {
      "application/vnd.jupyter.widget-view+json": {
       "model_id": "0c15a6c1944b4d12a9b1af12347844a9",
       "version_major": 2,
       "version_minor": 0
      },
      "text/plain": [
       "IntProgress(value=0, description='Running')"
      ]
     },
     "metadata": {},
     "output_type": "display_data"
    },
    {
     "name": "stdout",
     "output_type": "stream",
     "text": [
      "Exp_[2.0, 1.0, 1.5]_100_1000UCB1_[1]\n"
     ]
    },
    {
     "data": {
      "application/vnd.jupyter.widget-view+json": {
       "model_id": "c4826bd5d5fc4ede811ae196f3e64964",
       "version_major": 2,
       "version_minor": 0
      },
      "text/plain": [
       "IntProgress(value=0, description='Running')"
      ]
     },
     "metadata": {},
     "output_type": "display_data"
    },
    {
     "name": "stdout",
     "output_type": "stream",
     "text": [
      "AbsGau_Outlier_[0.5, 1, 1.5]_100_1000UCB1_[1]\n"
     ]
    },
    {
     "data": {
      "application/vnd.jupyter.widget-view+json": {
       "model_id": "fe4919ac19a44f0eb837f0e134a57430",
       "version_major": 2,
       "version_minor": 0
      },
      "text/plain": [
       "IntProgress(value=0, description='Running')"
      ]
     },
     "metadata": {},
     "output_type": "display_data"
    },
    {
     "name": "stdout",
     "output_type": "stream",
     "text": [
      "Exp_Outlier_[2.0, 1, 1.5]_100_1000UCB1_[1]\n"
     ]
    },
    {
     "data": {
      "application/vnd.jupyter.widget-view+json": {
       "model_id": "1a8b7df63752431a9042a91dbc9820fa",
       "version_major": 2,
       "version_minor": 0
      },
      "text/plain": [
       "IntProgress(value=0, description='Running')"
      ]
     },
     "metadata": {},
     "output_type": "display_data"
    },
    {
     "name": "stdout",
     "output_type": "stream",
     "text": [
      "AbsGau_[0.5]Exp_[1.0, 1.5]_100_1000UCB1_[1]\n"
     ]
    },
    {
     "data": {
      "application/vnd.jupyter.widget-view+json": {
       "model_id": "ef08472a57a049e5b221361a5f00a8d6",
       "version_major": 2,
       "version_minor": 0
      },
      "text/plain": [
       "IntProgress(value=0, description='Running')"
      ]
     },
     "metadata": {},
     "output_type": "display_data"
    },
    {
     "name": "stdout",
     "output_type": "stream",
     "text": [
      "AbsGau_Outlier_[0.5]Exp_Outlier_[1.0, 1.5]_100_1000UCB1_[1]\n"
     ]
    },
    {
     "data": {
      "application/vnd.jupyter.widget-view+json": {
       "model_id": "f2783522a9604be6a16e8fc5aa81f536",
       "version_major": 2,
       "version_minor": 0
      },
      "text/plain": [
       "IntProgress(value=0, description='Running')"
      ]
     },
     "metadata": {},
     "output_type": "display_data"
    }
   ],
   "source": [
    "\n",
    "hyperpara_list = [[1]]\n",
    "est_var = False\n",
    "\n",
    "for key in rewards_env.keys():\n",
    "    for hyperpara in hyperpara_list:\n",
    "        name = key + '_' + str(num_exper) + '_' + str(num_rounds)\n",
    "        subname = 'UCB1_' + str(hyperpara)\n",
    "        print(name + subname)\n",
    "        p = IntProgress(max = num_exper)\n",
    "        p.description = 'Running'\n",
    "        display(p)\n",
    "        results[name][subname], bounds= simulate(rewards_env[key], medians[key], UCB1_os, num_exper, num_rounds, est_var, hyperpara, evaluation, p)\n",
    "    \n"
   ]
  },
  {
   "cell_type": "code",
   "execution_count": 8,
   "metadata": {},
   "outputs": [],
   "source": [
    "import pickle \n",
    "saving = results\n",
    "\n",
    "with open('os_saving_6.pickle', 'wb') as handle:\n",
    "    pickle.dump(saving, handle, protocol=pickle.HIGHEST_PROTOCOL)"
   ]
  },
  {
   "cell_type": "code",
   "execution_count": 9,
   "metadata": {},
   "outputs": [
    {
     "data": {
      "text/plain": [
       "\"\\nfor key, value in estimated_para.items():\\n    x = np.arange(0, len(value))\\n    plt.plot(x,value,label = key)\\n    plt.plot(x, np.ones_like(x) * 1.0/environments[Exp][key], label = str(key) + ' true' )\\nplt.legend()\\n\""
      ]
     },
     "execution_count": 9,
     "metadata": {},
     "output_type": "execute_result"
    }
   ],
   "source": [
    "'''\n",
    "for key, value in estimated_para.items():\n",
    "    x = np.arange(0, len(value))\n",
    "    plt.plot(x,value,label = key)\n",
    "    plt.plot(x, np.ones_like(x) * 1.0/environments[Exp][key], label = str(key) + ' true' )\n",
    "plt.legend()\n",
    "'''"
   ]
  }
 ],
 "metadata": {
  "kernelspec": {
   "display_name": "Python 3",
   "language": "python",
   "name": "python3"
  },
  "language_info": {
   "codemirror_mode": {
    "name": "ipython",
    "version": 3
   },
   "file_extension": ".py",
   "mimetype": "text/x-python",
   "name": "python",
   "nbconvert_exporter": "python",
   "pygments_lexer": "ipython3",
   "version": "3.6.5"
  }
 },
 "nbformat": 4,
 "nbformat_minor": 2
}
