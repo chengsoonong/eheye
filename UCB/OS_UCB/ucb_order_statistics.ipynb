{
 "cells": [
  {
   "cell_type": "code",
   "execution_count": 1,
   "metadata": {},
   "outputs": [],
   "source": [
    "import numpy as np\n",
    "from UCB_discrete import H_UCB, UCB1, UCB_V, MV_LCB, MARAB\n",
    "from collections import defaultdict\n",
    "import Environment\n",
    "from Environment import AbsGau, Exp, Comb, AbsGau_Outlier, Exp_Outlier\n",
    "from SimulatedGames import simulate\n",
    "from ipywidgets import IntProgress\n",
    "from IPython.display import display\n",
    "import matplotlib.pyplot as plt\n",
    "import plots\n",
    "import seaborn as sns\n",
    "import pickle\n",
    "from prettytable import PrettyTable\n",
    "\n",
    "%matplotlib inline"
   ]
  },
  {
   "cell_type": "markdown",
   "metadata": {},
   "source": [
    "# UCB for order statistics\n",
    "\n",
    "This notebook is designed to show the idea using order statistics to design UCB policies works empirically. The experiment is designed on simulated data, for two special reward distributions proved by [notes](https://github.com/chengsoonong/eheye/tree/master/writing/QuantUCB_orderstat): \n",
    "\n",
    "(1) Absolute value of center Gaussian rewards  \n",
    "(2) Exponential rewards  \n",
    "(3) Arbtrary distributions (combing 1 and 2)\n",
    "\n",
    "For each case, we show the results for both estiamted parameter and true parameter.\n",
    "\n",
    "Settings: 3 independent arms, 10000 rounds with 50 indepenent experiments. Evaluated by \n",
    "a. expected sub-optimal draws.\n",
    "b. the percent of best arm selected. \n",
    "\n",
    "Policy (Empirical policy): In round t+1, select the arm with index, \n",
    "$$argmax_{i \\in \\mathcal{K}} \\hat{m}_{i, T_i(t)} + \\beta(\\sqrt{2v_t \\varepsilon} + 2 \\varepsilon \\sqrt{v_t/T_i(t)})$$\n",
    "\n",
    "where $\\hat{m}_{i, T_i(t)}$ is the empirical median for arm i at the round t, $\\varepsilon = \\alpha \\log t$, $v_t$ depends on reward distributions. $T_i(t)$ is the number of times arm i has been played until round t. \n",
    "\n",
    "We fix the parameters $\\alpha, \\beta$ in this notebook, see [here](https://github.com/chengsoonong/eheye/blob/master/UCB/OS_UCB/ucb_os_hyperparameter_tuning_outliers_testing.ipynb) for experiments on tuning parameters, [here](https://github.com/chengsoonong/eheye/blob/master/UCB/OS_UCB/Variance_Sensitiveness_test.ipynb) for experiments test the policy senstivity for different variance of reward distribution, [here](https://github.com/chengsoonong/eheye/blob/master/UCB/OS_UCB/Sanity_test.ipynb) for some sanity test of our policy.  "
   ]
  },
  {
   "cell_type": "code",
   "execution_count": 2,
   "metadata": {},
   "outputs": [],
   "source": [
    "# setting\n",
    "\n",
    "num_rounds = 1000\n",
    "num_exper = 100\n",
    "num_arms = 3\n",
    "\n",
    "# environment\n",
    "\n",
    "'''\n",
    "environments = {#AbsGau: [0.5, 1, 1.5], \n",
    "                #Exp: [2.0, 1, 3.0/2],\n",
    "                #Comb: [0.7, 0.7, 1], \n",
    "                AbsGau_Outlier: [0.5, 1, 1.5],\n",
    "                Exp_Outlier: [2.0, 1, 3.0/2]\n",
    "               }\n",
    "'''\n",
    "\n",
    "Group_small = [\n",
    "    #{AbsGau: [0.5, 0.1, 1.5]}, \n",
    "    #{Exp:    [1, 0.5, 0.1]},\n",
    "    #{Exp:    [2, 1, 1.5]},\n",
    "    #{AbsGau_Outlier: [0.5, 0.1, 1.5]},\n",
    "    #{Exp_Outlier: [2, 1, 1.5]},\n",
    "    {AbsGau: [0.5, 0.1], Exp: [1]},\n",
    "    {AbsGau_Outlier: [0.5, 0.1], Exp_Outlier: [1]},\n",
    "]\n",
    "\n",
    "Group_medium = [\n",
    "    #{AbsGau: [5, 10, 15]}, \n",
    "    #{Exp:    [0.2, 0.10, 0.15]},\n",
    "    #{AbsGau_Outlier: [5, 10, 15]},\n",
    "    #{Exp_Outlier: [0.2, 0.10, 0.15]},\n",
    "    {AbsGau: [5, 10], Exp: [0.10]},\n",
    "    {AbsGau_Outlier: [5, 10], Exp_Outlier: [0.10]}\n",
    "]\n",
    "\n",
    "Group_big = [\n",
    "    {AbsGau: [50, 100, 150]}, \n",
    "    {Exp:    [0.02, 0.010, 0.015]},\n",
    "    {AbsGau_Outlier: [50, 100, 150]},\n",
    "    {Exp_Outlier: [0.02, 0.010, 0.015]},\n",
    "    {AbsGau: [50], Exp: [0.010, 0.015]},\n",
    "    {AbsGau_Outlier: [50], Exp_Outlier: [0.010, 0.015]}\n",
    "]\n",
    "\n",
    "#environments = Group_small + Group_medium + Group_big\n",
    "environments = Group_small\n",
    "\n",
    "paras = [50, 0.8] # [rho for MV, alpha for CVaR]\n",
    "\n",
    "rewards_env, medians, means, mvs, cvars, samples = Environment.setup_env(num_arms, environments, paras)\n",
    "\n",
    "\n",
    "evaluation = ['sd', 'r', 'bd']"
   ]
  },
  {
   "cell_type": "code",
   "execution_count": 3,
   "metadata": {
    "scrolled": true
   },
   "outputs": [
    {
     "name": "stdout",
     "output_type": "stream",
     "text": [
      "AbsGau_[0.5, 0.1]Exp_[1]\n",
      "+--------+--------+-------+--------+----------+\n",
      "|  Eva   |   A    |   B   |   C    | Best Arm |\n",
      "+--------+--------+-------+--------+----------+\n",
      "| Median |  0.34  |  0.07 |  0.68  |    C     |\n",
      "|  Mean  |  0.4   |  0.08 |  1.0   |    C     |\n",
      "|   MV   | -19.78 | -4.01 | -48.92 |    C     |\n",
      "+--------+--------+-------+--------+----------+\n",
      "\n",
      "AbsGau_Outlier_[0.5, 0.1]Exp_Outlier_[1]\n",
      "+--------+--------+--------+--------+----------+\n",
      "|  Eva   |   A    |   B    |   C    | Best Arm |\n",
      "+--------+--------+--------+--------+----------+\n",
      "| Median |  0.35  |  0.07  |  0.74  |    C     |\n",
      "|  Mean  |  1.4   |  1.04  |  1.92  |    C     |\n",
      "|   MV   | -51.18 | -33.73 | -78.22 |    C     |\n",
      "+--------+--------+--------+--------+----------+\n",
      "\n"
     ]
    }
   ],
   "source": [
    "arm_name_dict = {\n",
    "    0: 'A',\n",
    "    1: 'B',\n",
    "    2: 'C'\n",
    "}\n",
    "\n",
    "for key in medians.keys():\n",
    "    print(key)\n",
    "    medians[key] = list(np.around(np.array(medians[key]),2))\n",
    "    means[key] = list(np.around(np.array(means[key]),2))\n",
    "    mvs[key] = list(np.around(np.array(mvs[key]),2))\n",
    "    t = PrettyTable(['Eva', 'A', 'B', 'C', 'Best Arm'])\n",
    "    t.add_row(['Median'] + medians[key]+ [arm_name_dict[np.argmax(medians[key])]])\n",
    "    t.add_row(['Mean']+ means[key]+ [arm_name_dict[np.argmax(means[key])]])\n",
    "    t.add_row(['MV']+ mvs[key]+ [arm_name_dict[np.argmin(mvs[key])]])\n",
    "    print(t)\n",
    "    print()"
   ]
  },
  {
   "cell_type": "code",
   "execution_count": 4,
   "metadata": {},
   "outputs": [
    {
     "data": {
      "image/png": "[encoded data removed]",
      "text/plain": [
       "<Figure size 1080x576 with 2 Axes>"
      ]
     },
     "metadata": {
      "needs_background": "light"
     },
     "output_type": "display_data"
    }
   ],
   "source": [
    "plots.plot_hist_for_paper(samples)"
   ]
  },
  {
   "cell_type": "code",
   "execution_count": 5,
   "metadata": {},
   "outputs": [],
   "source": [
    "def run_exper(rewards_env, hyperpara_list, num_exper, num_rounds, policy, medians, est_flag, evaluation):\n",
    "    for key in rewards_env.keys():\n",
    "        for hyperpara in hyperpara_list:\n",
    "            for est_flag in est_flags:\n",
    "                name = key + '_' + str(num_exper) + '_' + str(num_rounds)\n",
    "                policy_name = str(policy).split('.')[-1].split('\\'')[0] + '-'\n",
    "                #if policy_name == 'Hazard_UCB_':  \n",
    "                #    subname = policy_name + str(est_flag)[0] + '_' + str(hyperpara)\n",
    "                subname = policy_name + str(hyperpara)\n",
    "                print(name + subname)\n",
    "                p = IntProgress(max = num_exper)\n",
    "                p.description = 'Running'\n",
    "                display(p)\n",
    "                results[name][subname], results[name]['bound']= simulate(rewards_env[key], medians[key], policy, num_exper, num_rounds, est_flag, hyperpara, evaluation, p)"
   ]
  },
  {
   "cell_type": "code",
   "execution_count": 6,
   "metadata": {},
   "outputs": [
    {
     "name": "stdout",
     "output_type": "stream",
     "text": [
      "AbsGau_[0.5, 0.1]Exp_[1]_100_1000H_UCB-[0.5, 0.2, 1]\n"
     ]
    },
    {
     "data": {
      "application/vnd.jupyter.widget-view+json": {
       "model_id": "47089176ebcc481c9c8aac69a369bf9f",
       "version_major": 2,
       "version_minor": 0
      },
      "text/plain": [
       "IntProgress(value=0, description='Running')"
      ]
     },
     "metadata": {},
     "output_type": "display_data"
    },
    {
     "name": "stdout",
     "output_type": "stream",
     "text": [
      "AbsGau_Outlier_[0.5, 0.1]Exp_Outlier_[1]_100_1000H_UCB-[0.5, 0.2, 1]\n"
     ]
    },
    {
     "data": {
      "application/vnd.jupyter.widget-view+json": {
       "model_id": "757ece17b55c4eab86d95b5a8116d136",
       "version_major": 2,
       "version_minor": 0
      },
      "text/plain": [
       "IntProgress(value=0, description='Running')"
      ]
     },
     "metadata": {},
     "output_type": "display_data"
    },
    {
     "name": "stdout",
     "output_type": "stream",
     "text": [
      "AbsGau_[0.5, 0.1]Exp_[1]_100_1000UCB1-[1]\n"
     ]
    },
    {
     "data": {
      "application/vnd.jupyter.widget-view+json": {
       "model_id": "041590c8e00c4fa08e5c54baf58f0cf2",
       "version_major": 2,
       "version_minor": 0
      },
      "text/plain": [
       "IntProgress(value=0, description='Running')"
      ]
     },
     "metadata": {},
     "output_type": "display_data"
    },
    {
     "name": "stdout",
     "output_type": "stream",
     "text": [
      "AbsGau_Outlier_[0.5, 0.1]Exp_Outlier_[1]_100_1000UCB1-[1]\n"
     ]
    },
    {
     "data": {
      "application/vnd.jupyter.widget-view+json": {
       "model_id": "2eb3f2f37165437d8b42966a64dc50cd",
       "version_major": 2,
       "version_minor": 0
      },
      "text/plain": [
       "IntProgress(value=0, description='Running')"
      ]
     },
     "metadata": {},
     "output_type": "display_data"
    },
    {
     "name": "stdout",
     "output_type": "stream",
     "text": [
      "AbsGau_[0.5, 0.1]Exp_[1]_100_1000UCB_V-[1.2, 1, 1]\n"
     ]
    },
    {
     "data": {
      "application/vnd.jupyter.widget-view+json": {
       "model_id": "96eb9175816b4826a9c96937b47d90d3",
       "version_major": 2,
       "version_minor": 0
      },
      "text/plain": [
       "IntProgress(value=0, description='Running')"
      ]
     },
     "metadata": {},
     "output_type": "display_data"
    },
    {
     "name": "stdout",
     "output_type": "stream",
     "text": [
      "AbsGau_Outlier_[0.5, 0.1]Exp_Outlier_[1]_100_1000UCB_V-[1.2, 1, 1]\n"
     ]
    },
    {
     "data": {
      "application/vnd.jupyter.widget-view+json": {
       "model_id": "ffd57ac77cda4842a7991d309a291bab",
       "version_major": 2,
       "version_minor": 0
      },
      "text/plain": [
       "IntProgress(value=0, description='Running')"
      ]
     },
     "metadata": {},
     "output_type": "display_data"
    },
    {
     "name": "stdout",
     "output_type": "stream",
     "text": [
      "AbsGau_[0.5, 0.1]Exp_[1]_100_1000MV_LCB-[50, 1]\n"
     ]
    },
    {
     "data": {
      "application/vnd.jupyter.widget-view+json": {
       "model_id": "5375c52704f046358df4f6a4d3788a7c",
       "version_major": 2,
       "version_minor": 0
      },
      "text/plain": [
       "IntProgress(value=0, description='Running')"
      ]
     },
     "metadata": {},
     "output_type": "display_data"
    },
    {
     "name": "stdout",
     "output_type": "stream",
     "text": [
      "AbsGau_Outlier_[0.5, 0.1]Exp_Outlier_[1]_100_1000MV_LCB-[50, 1]\n"
     ]
    },
    {
     "data": {
      "application/vnd.jupyter.widget-view+json": {
       "model_id": "b272713e305349138c93d5abcaa2e85e",
       "version_major": 2,
       "version_minor": 0
      },
      "text/plain": [
       "IntProgress(value=0, description='Running')"
      ]
     },
     "metadata": {},
     "output_type": "display_data"
    },
    {
     "data": {
      "text/plain": [
       "'\\n# MARAB\\n\\nhyperpara_list = [[paras[1], 0.1], [paras[1], 0.01], [paras[1], 1], [paras[1], 10]]\\nrun_exper(rewards_env, hyperpara_list, num_exper, num_rounds, MARAB, cvars, est_flags, evaluation)\\n'"
      ]
     },
     "execution_count": 6,
     "metadata": {},
     "output_type": "execute_result"
    }
   ],
   "source": [
    "results = defaultdict(dict)\n",
    "\n",
    "# Hazard UCB\n",
    "\n",
    "hyperpara_list = [[0.5, 0.2, 1]]\n",
    "est_flags = [False]\n",
    "\n",
    "run_exper(rewards_env, hyperpara_list, num_exper, num_rounds, H_UCB, medians, est_flags, evaluation)\n",
    "\n",
    "#--------------------------------------------------------------------------------------------------------\n",
    "est_flags = [False]\n",
    "\n",
    "# UCB1\n",
    "\n",
    "hyperpara_list = [[1]]\n",
    "run_exper(rewards_env, hyperpara_list, num_exper, num_rounds, UCB1, means, est_flags, evaluation)\n",
    "\n",
    "\n",
    "# UCB_V\n",
    "\n",
    "hyperpara_list = [[1.2, 1, 1]]\n",
    "run_exper(rewards_env, hyperpara_list, num_exper, num_rounds, UCB_V, means, est_flags, evaluation)\n",
    "\n",
    "# MV_LCB\n",
    "\n",
    "hyperpara_list = [[paras[0], 1]]\n",
    "run_exper(rewards_env, hyperpara_list, num_exper, num_rounds, MV_LCB, mvs, est_flags, evaluation)\n",
    "'''\n",
    "# MARAB\n",
    "\n",
    "hyperpara_list = [[paras[1], 0.1], [paras[1], 0.01], [paras[1], 1], [paras[1], 10]]\n",
    "run_exper(rewards_env, hyperpara_list, num_exper, num_rounds, MARAB, cvars, est_flags, evaluation)\n",
    "'''"
   ]
  },
  {
   "cell_type": "code",
   "execution_count": 7,
   "metadata": {},
   "outputs": [
    {
     "data": {
      "image/png": "[encoded data removed]",
      "text/plain": [
       "<Figure size 1080x720 with 2 Axes>"
      ]
     },
     "metadata": {
      "needs_background": "light"
     },
     "output_type": "display_data"
    }
   ],
   "source": [
    "plots.plot_eva(results, 'sd', 'raw')"
   ]
  },
  {
   "cell_type": "code",
   "execution_count": 8,
   "metadata": {},
   "outputs": [],
   "source": [
    "saving = results\n",
    "with open('os_saving_11.pickle', 'wb') as handle:\n",
    "    pickle.dump(saving, handle, protocol=pickle.HIGHEST_PROTOCOL)"
   ]
  },
  {
   "cell_type": "code",
   "execution_count": null,
   "metadata": {},
   "outputs": [],
   "source": []
  }
 ],
 "metadata": {
  "kernelspec": {
   "display_name": "Python 3",
   "language": "python",
   "name": "python3"
  },
  "language_info": {
   "codemirror_mode": {
    "name": "ipython",
    "version": 3
   },
   "file_extension": ".py",
   "mimetype": "text/x-python",
   "name": "python",
   "nbconvert_exporter": "python",
   "pygments_lexer": "ipython3",
   "version": "3.7.3"
  }
 },
 "nbformat": 4,
 "nbformat_minor": 2
}
