{
 "cells": [
  {
   "cell_type": "code",
   "execution_count": 1,
   "metadata": {},
   "outputs": [],
   "source": [
    "import pandas as pd\n",
    "import matplotlib.pyplot as plt\n",
    "import numpy as np\n",
    "from UCB_discrete import UCB_clinical, UCB1_os_clinical\n",
    "from collections import defaultdict\n",
    "from Environment import Clinical_env\n",
    "from SimulatedGames import simulate\n",
    "from ipywidgets import IntProgress\n",
    "from IPython.display import display\n",
    "import plots\n",
    "\n",
    "%matplotlib inline"
   ]
  },
  {
   "cell_type": "markdown",
   "metadata": {},
   "source": [
    "## Applications of HazardUCB \n",
    "\n",
    "For clinical experiments, for cancer patients (samples), there are several treatments (arms), the reward is how long can a patient survive after the treatment (rewards). The goal is to minimize the sub-optimal treatment. This is in the field of survival analysis, thus the hazard rate assumption and medians are good choice.\n",
    "\n",
    "Data: Glinoma (cancer) clininal data from Broad Institute Firehouse https://gdac.broadinstitute.org/"
   ]
  },
  {
   "cell_type": "code",
   "execution_count": 2,
   "metadata": {},
   "outputs": [
    {
     "data": {
      "text/html": [
       "<div>\n",
       "<style>\n",
       "    .dataframe thead tr:only-child th {\n",
       "        text-align: right;\n",
       "    }\n",
       "\n",
       "    .dataframe thead th {\n",
       "        text-align: left;\n",
       "    }\n",
       "\n",
       "    .dataframe tbody tr th {\n",
       "        vertical-align: top;\n",
       "    }\n",
       "</style>\n",
       "<table border=\"1\" class=\"dataframe\">\n",
       "  <thead>\n",
       "    <tr style=\"text-align: right;\">\n",
       "      <th>Hybridization REF</th>\n",
       "      <th>Composite Element REF</th>\n",
       "      <th>years_to_birth</th>\n",
       "      <th>vital_status</th>\n",
       "      <th>days_to_death</th>\n",
       "      <th>days_to_last_followup</th>\n",
       "      <th>tumor_tissue_site</th>\n",
       "      <th>gender</th>\n",
       "      <th>date_of_initial_pathologic_diagnosis</th>\n",
       "      <th>days_to_last_known_alive</th>\n",
       "      <th>radiation_therapy</th>\n",
       "      <th>karnofsky_performance_score</th>\n",
       "      <th>histological_type</th>\n",
       "      <th>race</th>\n",
       "      <th>ethnicity</th>\n",
       "    </tr>\n",
       "  </thead>\n",
       "  <tbody>\n",
       "    <tr>\n",
       "      <th>tcga-06-6391</th>\n",
       "      <td>value</td>\n",
       "      <td>44</td>\n",
       "      <td>1</td>\n",
       "      <td>45</td>\n",
       "      <td>NaN</td>\n",
       "      <td>brain</td>\n",
       "      <td>female</td>\n",
       "      <td>2011</td>\n",
       "      <td>NaN</td>\n",
       "      <td>no</td>\n",
       "      <td>NaN</td>\n",
       "      <td>untreated primary (de novo) gbm</td>\n",
       "      <td>white</td>\n",
       "      <td>not hispanic or latino</td>\n",
       "    </tr>\n",
       "    <tr>\n",
       "      <th>tcga-19-a6j4</th>\n",
       "      <td>value</td>\n",
       "      <td>68</td>\n",
       "      <td>1</td>\n",
       "      <td>121</td>\n",
       "      <td>NaN</td>\n",
       "      <td>brain</td>\n",
       "      <td>male</td>\n",
       "      <td>2013</td>\n",
       "      <td>NaN</td>\n",
       "      <td>NaN</td>\n",
       "      <td>NaN</td>\n",
       "      <td>glioblastoma multiforme (gbm)</td>\n",
       "      <td>black or african american</td>\n",
       "      <td>not hispanic or latino</td>\n",
       "    </tr>\n",
       "    <tr>\n",
       "      <th>tcga-cs-6665</th>\n",
       "      <td>value</td>\n",
       "      <td>51</td>\n",
       "      <td>0</td>\n",
       "      <td>NaN</td>\n",
       "      <td>1568</td>\n",
       "      <td>central nervous system</td>\n",
       "      <td>female</td>\n",
       "      <td>2010</td>\n",
       "      <td>NaN</td>\n",
       "      <td>yes</td>\n",
       "      <td>90</td>\n",
       "      <td>astrocytoma</td>\n",
       "      <td>white</td>\n",
       "      <td>not hispanic or latino</td>\n",
       "    </tr>\n",
       "    <tr>\n",
       "      <th>tcga-cs-6670</th>\n",
       "      <td>value</td>\n",
       "      <td>43</td>\n",
       "      <td>0</td>\n",
       "      <td>NaN</td>\n",
       "      <td>1426</td>\n",
       "      <td>central nervous system</td>\n",
       "      <td>male</td>\n",
       "      <td>2011</td>\n",
       "      <td>NaN</td>\n",
       "      <td>NaN</td>\n",
       "      <td>NaN</td>\n",
       "      <td>oligodendroglioma</td>\n",
       "      <td>white</td>\n",
       "      <td>not hispanic or latino</td>\n",
       "    </tr>\n",
       "    <tr>\n",
       "      <th>tcga-db-a4xc</th>\n",
       "      <td>value</td>\n",
       "      <td>26</td>\n",
       "      <td>0</td>\n",
       "      <td>NaN</td>\n",
       "      <td>1421</td>\n",
       "      <td>central nervous system</td>\n",
       "      <td>male</td>\n",
       "      <td>2010</td>\n",
       "      <td>NaN</td>\n",
       "      <td>yes</td>\n",
       "      <td>NaN</td>\n",
       "      <td>oligoastrocytoma</td>\n",
       "      <td>white</td>\n",
       "      <td>not hispanic or latino</td>\n",
       "    </tr>\n",
       "  </tbody>\n",
       "</table>\n",
       "</div>"
      ],
      "text/plain": [
       "Hybridization REF Composite Element REF years_to_birth vital_status  \\\n",
       "tcga-06-6391                      value             44            1   \n",
       "tcga-19-a6j4                      value             68            1   \n",
       "tcga-cs-6665                      value             51            0   \n",
       "tcga-cs-6670                      value             43            0   \n",
       "tcga-db-a4xc                      value             26            0   \n",
       "\n",
       "Hybridization REF days_to_death days_to_last_followup       tumor_tissue_site  \\\n",
       "tcga-06-6391                 45                   NaN                   brain   \n",
       "tcga-19-a6j4                121                   NaN                   brain   \n",
       "tcga-cs-6665                NaN                  1568  central nervous system   \n",
       "tcga-cs-6670                NaN                  1426  central nervous system   \n",
       "tcga-db-a4xc                NaN                  1421  central nervous system   \n",
       "\n",
       "Hybridization REF  gender date_of_initial_pathologic_diagnosis  \\\n",
       "tcga-06-6391       female                                 2011   \n",
       "tcga-19-a6j4         male                                 2013   \n",
       "tcga-cs-6665       female                                 2010   \n",
       "tcga-cs-6670         male                                 2011   \n",
       "tcga-db-a4xc         male                                 2010   \n",
       "\n",
       "Hybridization REF days_to_last_known_alive radiation_therapy  \\\n",
       "tcga-06-6391                           NaN                no   \n",
       "tcga-19-a6j4                           NaN               NaN   \n",
       "tcga-cs-6665                           NaN               yes   \n",
       "tcga-cs-6670                           NaN               NaN   \n",
       "tcga-db-a4xc                           NaN               yes   \n",
       "\n",
       "Hybridization REF karnofsky_performance_score  \\\n",
       "tcga-06-6391                              NaN   \n",
       "tcga-19-a6j4                              NaN   \n",
       "tcga-cs-6665                               90   \n",
       "tcga-cs-6670                              NaN   \n",
       "tcga-db-a4xc                              NaN   \n",
       "\n",
       "Hybridization REF                histological_type                       race  \\\n",
       "tcga-06-6391       untreated primary (de novo) gbm                      white   \n",
       "tcga-19-a6j4         glioblastoma multiforme (gbm)  black or african american   \n",
       "tcga-cs-6665                           astrocytoma                      white   \n",
       "tcga-cs-6670                     oligodendroglioma                      white   \n",
       "tcga-db-a4xc                      oligoastrocytoma                      white   \n",
       "\n",
       "Hybridization REF               ethnicity  \n",
       "tcga-06-6391       not hispanic or latino  \n",
       "tcga-19-a6j4       not hispanic or latino  \n",
       "tcga-cs-6665       not hispanic or latino  \n",
       "tcga-cs-6670       not hispanic or latino  \n",
       "tcga-db-a4xc       not hispanic or latino  "
      ]
     },
     "execution_count": 2,
     "metadata": {},
     "output_type": "execute_result"
    }
   ],
   "source": [
    "data = pd.read_csv('gdac.broadinstitute.org_GBMLGG.Clinical_Pick_Tier1.Level_4.2016012800.0.0/GBMLGG.clin.merged.picked.txt', delimiter= \"\\t\", header = 0)\n",
    "data = data.T\n",
    "data.columns = data.iloc[0]\n",
    "data = data.drop(data.index[0])\n",
    "data.head()"
   ]
  },
  {
   "cell_type": "markdown",
   "metadata": {},
   "source": [
    "### Explain columns\n",
    "\n",
    "'days_to_death': rewards (lifetime distributions)  \n",
    "'radiation_therapy': two arms (yea/no)\n",
    "    \n",
    "needs to drop NaN"
   ]
  },
  {
   "cell_type": "code",
   "execution_count": 3,
   "metadata": {},
   "outputs": [],
   "source": [
    "days_to_death_with_radiation = data.groupby(['radiation_therapy']).get_group('yes')['days_to_death']\n",
    "days_to_death_without_radiation = data.groupby(['radiation_therapy']).get_group('no')['days_to_death']\n",
    "\n",
    "days_to_death_with_radiation = np.asarray(days_to_death_with_radiation.dropna(), dtype = int)\n",
    "days_to_death_without_radiation = np.asarray(days_to_death_without_radiation.dropna(), dtype = int)"
   ]
  },
  {
   "cell_type": "code",
   "execution_count": 4,
   "metadata": {},
   "outputs": [
    {
     "name": "stdout",
     "output_type": "stream",
     "text": [
      "The number of samples with radiation:  489\n",
      "Median:  468.0  Mean:  712.1492842535787\n",
      "\n",
      "The number of samples without radiation:  99\n",
      "Medians:  111.0  Mean:  384.8686868686869\n"
     ]
    },
    {
     "data": {
      "text/plain": [
       "<matplotlib.legend.Legend at 0x7fb9364238d0>"
      ]
     },
     "execution_count": 4,
     "metadata": {},
     "output_type": "execute_result"
    },
    {
     "data": {
      "image/png": "[encoded data removed]",
      "text/plain": [
       "<matplotlib.figure.Figure at 0x7fb8cefb1198>"
      ]
     },
     "metadata": {},
     "output_type": "display_data"
    }
   ],
   "source": [
    "# Show reward distribution info\n",
    "\n",
    "print('The number of samples with radiation: ', len(days_to_death_with_radiation))\n",
    "print('Median: ', np.median(days_to_death_with_radiation), ' Mean: ', np.mean(days_to_death_with_radiation))\n",
    "print()\n",
    "print('The number of samples without radiation: ', len(days_to_death_without_radiation))\n",
    "print('Medians: ', np.median(days_to_death_without_radiation), ' Mean: ', np.mean(days_to_death_without_radiation))\n",
    "\n",
    "plt.hist(days_to_death_with_radiation, bins = 20, label = 'with')\n",
    "plt.hist(days_to_death_without_radiation, bins = 10, label = 'without')\n",
    "plt.legend()"
   ]
  },
  {
   "cell_type": "markdown",
   "metadata": {},
   "source": [
    "### Setup Environment"
   ]
  },
  {
   "cell_type": "code",
   "execution_count": 5,
   "metadata": {},
   "outputs": [],
   "source": [
    "# setting\n",
    "\n",
    "num_rounds = 300\n",
    "num_exper = 1000\n",
    "num_arms = 2\n",
    "\n",
    "# environment\n",
    "\n",
    "clinical_envs = defaultdict(list)\n",
    "medians = defaultdict(list)\n",
    "\n",
    "clinical_envs['radiation'] = [Clinical_env(days_to_death_with_radiation),\n",
    "                              Clinical_env(days_to_death_without_radiation)\n",
    "                             ]\n",
    "\n",
    "medians['radiation'] = [np.median(days_to_death_with_radiation),\n",
    "                        np.median(days_to_death_without_radiation)\n",
    "                       ]\n",
    "\n",
    "policy = UCB_clinical\n",
    "\n",
    "# hyper-parameters for policy\n",
    "\n",
    "hyperpara_list = [[4, 1]]\n",
    "\n",
    "evaluation = ['sd', 'r', 'bd']"
   ]
  },
  {
   "cell_type": "code",
   "execution_count": 6,
   "metadata": {},
   "outputs": [
    {
     "data": {
      "text/plain": [
       "defaultdict(list,\n",
       "            {'radiation': [<Environment.Clinical_env at 0x7fb8cb437f60>,\n",
       "              <Environment.Clinical_env at 0x7fb8cb437c88>]})"
      ]
     },
     "execution_count": 6,
     "metadata": {},
     "output_type": "execute_result"
    }
   ],
   "source": [
    "clinical_envs"
   ]
  },
  {
   "cell_type": "code",
   "execution_count": 7,
   "metadata": {},
   "outputs": [
    {
     "name": "stdout",
     "output_type": "stream",
     "text": [
      "radiation_1000_300False[4, 1]\n"
     ]
    },
    {
     "data": {
      "application/vnd.jupyter.widget-view+json": {
       "model_id": "3de3d445e3de4f63a851b6330fe03d58",
       "version_major": 2,
       "version_minor": 0
      },
      "text/plain": [
       "IntProgress(value=0, description='Running', max=1000)"
      ]
     },
     "metadata": {},
     "output_type": "display_data"
    }
   ],
   "source": [
    "results = defaultdict(dict)\n",
    "\n",
    "for key in clinical_envs.keys():\n",
    "    for hyperpara in hyperpara_list:\n",
    "        for est_flag in [False]:\n",
    "            name = key + '_' + str(num_exper) + '_' + str(num_rounds) \n",
    "            subname = str(est_flag)+ str(hyperpara)\n",
    "            print(name + subname)\n",
    "            p = IntProgress(max = num_exper)\n",
    "            p.description = 'Running'\n",
    "            display(p)\n",
    "            results[name][subname], results[name]['bound']= \\\n",
    "                    simulate(clinical_envs[key], medians[key], policy, num_exper, num_rounds, est_flag, hyperpara, evaluation, p)"
   ]
  },
  {
   "cell_type": "code",
   "execution_count": 8,
   "metadata": {},
   "outputs": [
    {
     "name": "stdout",
     "output_type": "stream",
     "text": [
      "radiation_1000_300UCB1_[1]\n"
     ]
    },
    {
     "data": {
      "application/vnd.jupyter.widget-view+json": {
       "model_id": "178a3caeed444e1793f3e7c8534f0b95",
       "version_major": 2,
       "version_minor": 0
      },
      "text/plain": [
       "IntProgress(value=0, description='Running', max=1000)"
      ]
     },
     "metadata": {},
     "output_type": "display_data"
    }
   ],
   "source": [
    "hyperpara_list = [[1]]\n",
    "est_var = False\n",
    "\n",
    "for key in clinical_envs.keys():\n",
    "    for hyperpara in hyperpara_list:\n",
    "        name = key + '_' + str(num_exper) + '_' + str(num_rounds)\n",
    "        subname = 'UCB1_' + str(hyperpara)\n",
    "        print(name + subname)\n",
    "        p = IntProgress(max = num_exper)\n",
    "        p.description = 'Running'\n",
    "        display(p)\n",
    "        results[name][subname], bounds= simulate(clinical_envs[key], medians[key], UCB1_os_clinical, num_exper, num_rounds, est_var, hyperpara, evaluation, p)\n",
    "    \n"
   ]
  },
  {
   "cell_type": "code",
   "execution_count": 9,
   "metadata": {},
   "outputs": [
    {
     "data": {
      "image/png": "[encoded data removed]",
      "text/plain": [
       "<matplotlib.figure.Figure at 0x7fb8cf0d06d8>"
      ]
     },
     "metadata": {},
     "output_type": "display_data"
    }
   ],
   "source": [
    "plots.plot_eva(results, 'sd', 'raw', compare_flag = True)"
   ]
  },
  {
   "cell_type": "code",
   "execution_count": 10,
   "metadata": {},
   "outputs": [
    {
     "data": {
      "image/png": "[encoded data removed]",
      "text/plain": [
       "<matplotlib.figure.Figure at 0x7fb8e1d8fe48>"
      ]
     },
     "metadata": {},
     "output_type": "display_data"
    }
   ],
   "source": [
    "plots.plot_eva(results, 'sd', 'raw', compare_flag = False)"
   ]
  },
  {
   "cell_type": "markdown",
   "metadata": {},
   "source": [
    "The plots shows our policy performs good in terms of this application.\n",
    "\n",
    "Note: \n",
    "\n",
    "the lower bound of hazard rate estimation (L) in this experiment is not calculated by L = h(0) = f(0)/(1 - F(0)) since we don't know the experssion of distributions. To estimate it, we use #(X < 1)"
   ]
  },
  {
   "cell_type": "code",
   "execution_count": 11,
   "metadata": {},
   "outputs": [],
   "source": [
    "import pickle \n",
    "saving = results\n",
    "\n",
    "with open('os_saving_7.pickle', 'wb') as handle:\n",
    "    pickle.dump(saving, handle, protocol=pickle.HIGHEST_PROTOCOL)"
   ]
  }
 ],
 "metadata": {
  "kernelspec": {
   "display_name": "Python 3",
   "language": "python",
   "name": "python3"
  },
  "language_info": {
   "codemirror_mode": {
    "name": "ipython",
    "version": 3
   },
   "file_extension": ".py",
   "mimetype": "text/x-python",
   "name": "python",
   "nbconvert_exporter": "python",
   "pygments_lexer": "ipython3",
   "version": "3.6.5"
  }
 },
 "nbformat": 4,
 "nbformat_minor": 2
}
