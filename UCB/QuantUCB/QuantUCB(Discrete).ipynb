{
 "cells": [
  {
   "cell_type": "markdown",
   "metadata": {},
   "source": [
    "### Experiment for Quant-UCB\n",
    "\n",
    "#### Test for design of upper quantile\n",
    "\n",
    "Finite arm setting (two arms):  \n",
    "\n",
    "Arm one: normal distribution with mean 0.72 and variance 1:  \n",
    "Mean 0.72 Median 0.72  \n",
    "\n",
    "Arm two: [skewed normal distribution](https://en.wikipedia.org/wiki/Skew_normal_distribution) with skewness 4\n",
    "Standard skewed normal distribution\n",
    "$$f(x) = 2\\phi(x)\\Phi(\\alpha x)$$\n",
    "where $\\phi(x)$ is the standard normal pdf, $\\Phi(x)$ is the standard normal cdf.  \n",
    "Mean 0.77 Median 0.67  \n",
    "\n",
    "Plotting are given below.\n",
    "\n",
    "#### Selection rule for quantile ucb\n",
    "\n",
    "$$\\text{action} = argmax \\quad q_{\\alpha_t}(\\text{reward})$$\n",
    "where $q_{\\alpha_t}$ is the upper quantile. Some choices of $\\alpha_t$ (n is the total number of iterations): \n",
    "\n",
    "Linear limit: $\\alpha_t = 0.5 + t/(2n)$    \n",
    "Square limit: $\\alpha_t = 0.5 + t^2/(2n^2)$    \n",
    "Log: $\\alpha_t = log(t + 1)/n$        \n",
    "Loge limit: $\\alpha_t = 0.5 + log(t + 1)/(2n)$\n",
    "\n",
    "#### Definition of the measurement\n",
    "\n",
    "For multi-armed bandit problem, we usually define:  \n",
    "best action: choosing the arm with the maximum expected cumulative reward.   \n",
    "cumulative regret: cumulative reward of best action - cumulative reward of selected action\n",
    "\n",
    "For quantile ucb, I show the cumulative regret for each upper quantile design vs number of iterations.\n",
    "To compare, I also show the performance of the ucb1.\n",
    "The regret is computed as the expected value of 50 experiments, where each experiment has 10000 iterations.\n",
    "\n",
    "#### Things to discuss\n",
    "\n",
    "1. How to design experiments? For example, why use skewed distribution here. What properties of quantile-ucb do we want to show according to that? \n",
    "2. How to define the best action? why expectation rather than median?\n",
    "3. How to intepret the plotting results? \n",
    "\n",
    "#### Todos\n",
    "1. Other possible quantile ucb selection rules.\n",
    "2. CVaR ucb design\n",
    "3. Compare with quantile ucb and CVaR\n",
    "4. the case for continuous arms. "
   ]
  },
  {
   "cell_type": "code",
   "execution_count": 1,
   "metadata": {},
   "outputs": [],
   "source": [
    "from scipy.stats import skewnorm\n",
    "import matplotlib.pyplot as plt\n",
    "import numpy as np\n",
    "import seaborn as sns\n",
    "from collections import defaultdict\n",
    "import math"
   ]
  },
  {
   "cell_type": "markdown",
   "metadata": {},
   "source": [
    "### skew normal distribution"
   ]
  },
  {
   "cell_type": "code",
   "execution_count": 2,
   "metadata": {},
   "outputs": [],
   "source": [
    "NUM_SAMPLES = 10000\n",
    "SKEW_PARAMS = 4\n",
    "\n",
    "def rand_skew_norm(fAlpha, fLocation, fScale):\n",
    "    sigma = fAlpha / np.sqrt(1.0 + fAlpha**2) \n",
    "\n",
    "    afRN = np.random.randn(2)\n",
    "    u0 = afRN[0]\n",
    "    v = afRN[1]\n",
    "    u1 = sigma*u0 + np.sqrt(1.0 -sigma**2) * v \n",
    "\n",
    "    if u0 >= 0:\n",
    "        return u1*fScale + fLocation \n",
    "    return (-u1)*fScale + fLocation \n",
    "\n",
    "def randn_skew(N, skew=0.0):\n",
    "    return [rand_skew_norm(skew, 0, 1) for x in range(N)]"
   ]
  },
  {
   "cell_type": "markdown",
   "metadata": {},
   "source": [
    "### visualize the normal and skew normal distribution"
   ]
  },
  {
   "cell_type": "code",
   "execution_count": 15,
   "metadata": {},
   "outputs": [
    {
     "name": "stdout",
     "output_type": "stream",
     "text": [
      "For normal distribution:\n",
      "mean: 0.006286, median: 0.002573\n",
      "1.002109588862522\n",
      "\n",
      "For skewed normal distribution:\n",
      "mean: -0.773170, median: -0.676197\n",
      "-0.16288505212947835\n",
      "\n",
      "For skewed normal distribution:\n",
      "mean: 0.002385, median: -0.002260\n",
      "1.0008428411182713\n"
     ]
    },
    {
     "data": {
      "text/plain": [
       "<matplotlib.legend.Legend at 0x7f841bfc55f8>"
      ]
     },
     "execution_count": 15,
     "metadata": {},
     "output_type": "execute_result"
    },
    {
     "data": {
      "image/png": "[encoded data removed]",
      "text/plain": [
       "<matplotlib.figure.Figure at 0x7f841d9a5f28>"
      ]
     },
     "metadata": {},
     "output_type": "display_data"
    }
   ],
   "source": [
    "def quantile(data, alpha):\n",
    "    '''\n",
    "    return the alpha-quantile for given data samples\n",
    "    '''\n",
    "    data = np.sort(data)\n",
    "    idx = int(len(data) * alpha) - 1\n",
    "    return data[idx]\n",
    "\n",
    "plt.subplots(figsize=(12,4))\n",
    "\n",
    "# normal \n",
    "n = np.random.normal(0,1, NUM_SAMPLES)\n",
    "print('For normal distribution:')\n",
    "print('mean: %f, median: %f' % (np.mean(n), np.median(n)))\n",
    "print(quantile(n, 0.84))\n",
    "\n",
    "#for alpha_skew in SKEW_PARAMS:\n",
    "p1 = randn_skew(NUM_SAMPLES, -4)\n",
    "print()\n",
    "print('For skewed normal distribution:')\n",
    "print('mean: %f, median: %f' % (np.mean(p1), np.median(p1)))\n",
    "print(quantile(p1, 0.84))\n",
    "\n",
    "#for alpha_skew in SKEW_PARAMS:\n",
    "p2 = randn_skew(NUM_SAMPLES, 0)\n",
    "print()\n",
    "print('For skewed normal distribution:')\n",
    "print('mean: %f, median: %f' % (np.mean(p2), np.median(p2)))\n",
    "print(quantile(p2, 0.84))\n",
    "\n",
    "sns.distplot(n, label = 'normal')\n",
    "sns.distplot(p1, label = 'skewed -4')\n",
    "sns.distplot(p2, label = 'skewed 4')\n",
    "plt.legend()"
   ]
  },
  {
   "cell_type": "markdown",
   "metadata": {},
   "source": [
    "### visualize the simulated arm distribution"
   ]
  },
  {
   "cell_type": "code",
   "execution_count": 4,
   "metadata": {},
   "outputs": [
    {
     "name": "stdout",
     "output_type": "stream",
     "text": [
      "For normal distribution:\n",
      "mean: 0.722194, median: 0.722261\n",
      "\n",
      "For skewed normal distribution:\n",
      "mean: 0.775910, median: 0.674856\n"
     ]
    },
    {
     "data": {
      "text/plain": [
       "<matplotlib.legend.Legend at 0x7f841d57b5f8>"
      ]
     },
     "execution_count": 4,
     "metadata": {},
     "output_type": "execute_result"
    },
    {
     "data": {
      "image/png": "[encoded data removed]",
      "text/plain": [
       "<matplotlib.figure.Figure at 0x7f841d57bc18>"
      ]
     },
     "metadata": {},
     "output_type": "display_data"
    }
   ],
   "source": [
    "# carefully choose parameters to let skew normal have larger mean and smaller median\n",
    "\n",
    "plt.subplots(figsize=(12,4))\n",
    "\n",
    "# normal \n",
    "n = np.random.normal(0.72,1, NUM_SAMPLES)\n",
    "print('For normal distribution:')\n",
    "print('mean: %f, median: %f' % (np.mean(n), np.median(n)))\n",
    "\n",
    "#for alpha_skew in SKEW_PARAMS:\n",
    "p = randn_skew(NUM_SAMPLES, 4)\n",
    "print()\n",
    "print('For skewed normal distribution:')\n",
    "print('mean: %f, median: %f' % (np.mean(p2), np.median(p2)))\n",
    "\n",
    "sns.distplot(n, label = 'normal')\n",
    "sns.distplot(p, label = 'skewed 4')\n",
    "plt.legend()"
   ]
  },
  {
   "cell_type": "code",
   "execution_count": 5,
   "metadata": {},
   "outputs": [],
   "source": [
    "# settings\n",
    "\n",
    "num_exper = 100\n",
    "num_rounds = 5000\n",
    "loc = 0.72\n",
    "scale = 1\n",
    "alpha_skew = 4"
   ]
  },
  {
   "cell_type": "code",
   "execution_count": 6,
   "metadata": {},
   "outputs": [],
   "source": [
    "def quantile(data, alpha):\n",
    "    '''\n",
    "    return the alpha-quantile for given data samples\n",
    "    '''\n",
    "    data = np.sort(data)\n",
    "    idx = int(len(data) * alpha) - 1\n",
    "    return data[idx]\n",
    "\n",
    "def CVaR(data, a):\n",
    "    '''\n",
    "    return the alpha-CVaR for given data samples\n",
    "    '''\n",
    "    data = np.sort(data)\n",
    "    # idx = int(data.shape[0] * a)\n",
    "    idx = int(len(data) * a)\n",
    "    CVaR = np.mean(data[idx:])\n",
    "    return CVaR\n",
    "\n",
    "arm_name = ['normal', 'skewed']\n",
    "\n",
    "mu_bestarm = 0.776256\n",
    "\n",
    "def quant_ucb_with_expectation(num_rounds, loc, scale, alpha_skew, level):\n",
    "    '''\n",
    "    Quantile UCB experiment:\n",
    "    selet the arm with the maximum upper quantile\n",
    "    the design upper quantile is a function about 'num_rounds' and specified by 'level' function \n",
    "    \n",
    "    Returns the cumulative regret list\n",
    "    Cumulative regret is defined by the difference of the cumulative reward of the best action \n",
    "    (the action with the maximum expected reward) and the cumulative reward of the selected action.\n",
    "    '''\n",
    "    rewards = defaultdict(list)\n",
    "    ucbs = defaultdict(list)\n",
    "    \n",
    "    # initialize empirical reward\n",
    "    rewards['normal'].append(np.random.normal(loc, scale)) \n",
    "    rewards['skewed'].append(randn_skew(1, alpha_skew)[0])\n",
    "    \n",
    "    # define best action as skewed arm since it has larger expected value\n",
    "    cumulativeReward = 0\n",
    "    bestActionCumulativeReward = 0\n",
    "    Regret_list = []\n",
    "    selection = {}\n",
    "    alpha = defaultdict(list)\n",
    "    \n",
    "    #for level in quantile_level_choice:\n",
    "    for i in range(2, num_rounds):\n",
    "        for arm in arm_name:\n",
    "            alpha[arm].append(np.sqrt(np.log(i+1)/selection.get(arm, 1)))\n",
    "            ucbs[arm] = np.mean(rewards[arm]) + quantile(rewards[arm], level(i, selection.get(arm, 1)))\n",
    "            #ucbs[arm] = quantile(rewards[arm], level(i, selection.get(arm, 1)))\n",
    "        if ucbs['normal'] > ucbs['skewed']:\n",
    "            theReward = np.random.normal(loc, scale, 1)[0]\n",
    "            rewards['normal'].append(theReward)\n",
    "            selection['normal'] = selection.get('normal', 1) + 1\n",
    "            bestActionCumulativeReward += randn_skew(1, alpha_skew)[0]\n",
    "            #bestActionCumulativeReward += theReward\n",
    "        else:\n",
    "            theReward = randn_skew(1, alpha_skew)[0]\n",
    "            rewards['skewed'].append(theReward)\n",
    "            selection['skewed'] = selection.get('skewed', 1) + 1\n",
    "            bestActionCumulativeReward += theReward\n",
    "            #bestActionCumulativeReward += np.random.normal(loc, scale, 1)[0]\n",
    "        #bestActionCumulativeReward += mu_bestarm\n",
    "        cumulativeReward += theReward\n",
    "        regret = bestActionCumulativeReward - cumulativeReward\n",
    "        Regret_list.append(regret)\n",
    "            \n",
    "    return Regret_list, selection, alpha"
   ]
  },
  {
   "cell_type": "markdown",
   "metadata": {},
   "source": [
    "### QuantUCB with different upper quantile choices"
   ]
  },
  {
   "cell_type": "code",
   "execution_count": 7,
   "metadata": {},
   "outputs": [],
   "source": [
    "# Report the how cumulative reward changed in terms of different alpha level design\n",
    "\n",
    "Regret_dict = defaultdict(list)\n",
    "selection_dict = defaultdict(list)\n",
    "\n",
    "def loge(t, num_rounds):\n",
    "    return np.log(t + 1)/num_rounds\n",
    "def log2(t, num_rounds):\n",
    "    return np.log2(t + 1)/num_rounds\n",
    "def log10(t, num_rounds):\n",
    "    return np.log10(t + 1)/num_rounds\n",
    "\n",
    "def loge_limit(t, num_rounds):\n",
    "    #return 0.5 + np.log(t + 1)/(num_rounds * 2)\n",
    "    return np.log(t + 1)/(num_rounds * 2)\n",
    "    #return 1 - np.log(t+1)/20\n",
    "    \n",
    "def loge_nj(t, n_selected):\n",
    "    alpha = np.sqrt(np.log(t+1)/n_selected)\n",
    "    if alpha >= 1:\n",
    "        return 0.8\n",
    "    else: \n",
    "        return alpha\n",
    "    #elif alpha > 0.1:\n",
    "        #print('in %d iteration, alpha is %f', (t, alpha))\n",
    "    #    return alpha\n",
    "    #elif alpha < 0.1:\n",
    "    #    return 0.1\n",
    "\n",
    "level_list = [loge_nj]\n",
    "level_name = ['loge_nj']\n",
    "\n",
    "for exper in range(num_exper):\n",
    "    for i, level in enumerate(level_list):\n",
    "        regret, selection, alpha = quant_ucb_with_expectation(num_rounds, loc, scale, alpha_skew, level)\n",
    "        Regret_dict[level_name[i]].append(regret)\n",
    "        #selection_dict[level_name[i]].append(selection)\n",
    "        #Regret_list = quant_ucb(num_rounds, loc, scale, alpha_skew, level)"
   ]
  },
  {
   "cell_type": "code",
   "execution_count": 12,
   "metadata": {},
   "outputs": [
    {
     "data": {
      "image/png": "[encoded data removed]",
      "text/plain": [
       "<matplotlib.figure.Figure at 0x7f841b181240>"
      ]
     },
     "metadata": {},
     "output_type": "display_data"
    }
   ],
   "source": [
    "for key, value in Regret_dict.items():\n",
    "    value = np.asarray(value)\n",
    "    ave_regret = np.average(value, axis = 0)\n",
    "    plt.plot(ave_regret, label = key)\n",
    "    \n",
    "plt.ylabel('cumulative regret')\n",
    "plt.xlabel('num_rounds')\n",
    "plt.title('Quant-UCB')\n",
    "plt.legend()\n",
    "plt.savefig('QuantUCB.png')"
   ]
  },
  {
   "cell_type": "markdown",
   "metadata": {},
   "source": [
    "### UCB1"
   ]
  },
  {
   "cell_type": "code",
   "execution_count": 9,
   "metadata": {},
   "outputs": [],
   "source": [
    "# compare with UCB1 algorithm\n",
    "\n",
    "def upperBound(step, numPlays):\n",
    "    ub = math.sqrt(2 * math.log(step + 1) / numPlays)\n",
    "    return ub\n",
    "    #elif ub > 0.1:\n",
    "    #    return ub\n",
    "    #else:\n",
    "    #    return 0.1\n",
    "\n",
    "def ucb1(num_rounds, loc, scale, alpha_skew):\n",
    "    rewards = {}\n",
    "    numPlays = {}\n",
    "    \n",
    "    # initialize empirical reward\n",
    "    rewards['normal'] = np.random.normal(loc, scale, 1)[0]\n",
    "    rewards['skewed'] = randn_skew(1, alpha_skew)[0]\n",
    "    numPlays['normal'] = 1\n",
    "    numPlays['skewed'] = 1\n",
    "\n",
    "    # define best action as skewed arm since it has larger expected value\n",
    "    cumulativeReward = 0\n",
    "    bestActionCumulativeReward = 0\n",
    "    Regret_list = []\n",
    "    selected_action = []\n",
    "\n",
    "    for i in range(2, num_rounds):\n",
    "        if rewards['normal']/numPlays['normal'] + upperBound(i, numPlays['normal']) \\\n",
    "                > rewards['skewed']/numPlays['skewed'] + upperBound(i, numPlays['skewed']):\n",
    "            theReward = np.random.normal(loc, scale, 1)[0]\n",
    "            numPlays['normal'] += 1\n",
    "            rewards['normal'] += theReward\n",
    "            bestActionCumulativeReward += randn_skew(1, alpha_skew)[0]\n",
    "            #bestActionCumulativeReward += theReward\n",
    "            selected_action.append(1)\n",
    "        else:\n",
    "            theReward = randn_skew(1, alpha_skew)[0]\n",
    "            numPlays['skewed'] += 1\n",
    "            rewards['skewed']+= theReward\n",
    "            bestActionCumulativeReward += theReward\n",
    "            #bestActionCumulativeReward += np.random.normal(loc, scale, 1)[0]\n",
    "            selected_action.append(2)\n",
    "        #cumulativeReward += theReward\n",
    "        #regret = bestActionCumulativeReward - cumulativeReward\n",
    "        #Regret_list.append(regret)\n",
    "        #bestActionCumulativeReward += mu_bestarm\n",
    "        cumulativeReward += theReward\n",
    "        regret = bestActionCumulativeReward - cumulativeReward\n",
    "        Regret_list.append(regret)\n",
    "\n",
    "    return Regret_list, selected_action \n",
    "\n",
    "#Regret_list = ucb1(num_rounds, loc, scale, alpha_skew)"
   ]
  },
  {
   "cell_type": "code",
   "execution_count": 10,
   "metadata": {},
   "outputs": [],
   "source": [
    "Regret_list = []\n",
    "for exper in range(num_exper):\n",
    "    for i, level in enumerate(level_list):\n",
    "        regret, selected_action = ucb1(num_rounds, loc, scale, alpha_skew)\n",
    "        Regret_list.append(regret)\n",
    "        #print(selected_action)\n",
    "        #Regret_list = quant_ucb(num_rounds, loc, scale, alpha_skew, level)\n",
    "    \n",
    "regret = np.asarray(Regret_list)\n",
    "ave_regret = np.average(regret, axis = 0)\n",
    "#plt.plot(ave_regret)\n"
   ]
  },
  {
   "cell_type": "code",
   "execution_count": 11,
   "metadata": {},
   "outputs": [
    {
     "name": "stderr",
     "output_type": "stream",
     "text": [
      "/home/admin-u6015325/anaconda3/lib/python3.6/site-packages/matplotlib/axes/_axes.py:545: UserWarning: No labelled objects found. Use label='...' kwarg on individual plots.\n",
      "  warnings.warn(\"No labelled objects found. \"\n"
     ]
    },
    {
     "data": {
      "image/png": "[encoded data removed]",
      "text/plain": [
       "<matplotlib.figure.Figure at 0x7f841cdfe048>"
      ]
     },
     "metadata": {},
     "output_type": "display_data"
    }
   ],
   "source": [
    "plt.plot(ave_regret)\n",
    "plt.ylabel('cumulative regret')\n",
    "plt.xlabel('num_rounds')\n",
    "plt.title('UCB1')\n",
    "    \n",
    "plt.legend()\n",
    "plt.savefig('UCB1.png')"
   ]
  },
  {
   "cell_type": "code",
   "execution_count": null,
   "metadata": {},
   "outputs": [],
   "source": []
  }
 ],
 "metadata": {
  "kernelspec": {
   "display_name": "Python 3",
   "language": "python",
   "name": "python3"
  },
  "language_info": {
   "codemirror_mode": {
    "name": "ipython",
    "version": 3
   },
   "file_extension": ".py",
   "mimetype": "text/x-python",
   "name": "python",
   "nbconvert_exporter": "python",
   "pygments_lexer": "ipython3",
   "version": "3.6.5"
  }
 },
 "nbformat": 4,
 "nbformat_minor": 2
}
