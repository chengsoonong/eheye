{
 "cells": [
  {
   "cell_type": "code",
   "execution_count": 1,
   "metadata": {
    "collapsed": true
   },
   "outputs": [],
   "source": [
    "# coding: utf-8\n",
    "from mpl_toolkits.mplot3d import Axes3D\n",
    "from matplotlib import pylab as plt\n",
    "import numpy as np\n",
    "from sklearn.gaussian_process import GaussianProcessRegressor\n",
    "\n",
    "import sklearn.kernel_approximation\n",
    "import scipy.optimize as opt\n",
    "\n",
    "%matplotlib inline"
   ]
  },
  {
   "cell_type": "code",
   "execution_count": 2,
   "metadata": {
    "collapsed": true
   },
   "outputs": [],
   "source": [
    "class GPUCB(object):\n",
    "\n",
    "    def __init__(self, x, environment, alpha, beta=1.):\n",
    "        '''\n",
    "        environment: Environment class which is equipped with sample() method to\n",
    "        return observed value.\n",
    "        beta (optional): Hyper-parameter to tune the exploration-exploitation\n",
    "        balance. If beta is large, it emphasizes the variance of the unexplored\n",
    "        solution solution (i.e. larger curiosity)\n",
    "        '''\n",
    "        self.x = x\n",
    "        self.environment = environment\n",
    "        self.alpha = alpha\n",
    "        self.beta = beta\n",
    "\n",
    "        # self.X_grid = self.meshgrid.reshape(self.meshgrid.shape[0], -1).T\n",
    "        self.mu = np.zeros_like(x)\n",
    "        self.sigma = 0.5 * np.ones_like(x)\n",
    "        self.X = []\n",
    "        self.T = []\n",
    "        self.cumu_regret = 0\n",
    "        self.regret_list = []\n",
    "        self.trueT = self.environment.sample(self.x)\n",
    "        #self.x_maxlabel = self.x[np.argmax(np.sin(self.x))]\n",
    "        self.maxlabel = np.max(np.sin(self.x))\n",
    "\n",
    "    def argmax_ucb(self):\n",
    "        return np.argmax(self.mu + self.sigma * np.sqrt(self.beta))\n",
    "\n",
    "    def regret(self):\n",
    "        #if self.X[-1] != self.x_maxlabel:\n",
    "        #    self.cumu_regret += 1\n",
    "        if self.T[-1] < self.maxlabel:\n",
    "            self.cumu_regret += self.maxlabel - self.T[-1]\n",
    "        self.regret_list.append(self.cumu_regret)\n",
    "\n",
    "    def learn(self):\n",
    "        grid_idx = self.argmax_ucb()\n",
    "        self.sample(self.x[grid_idx])\n",
    "        self.regret()\n",
    "        gp = GaussianProcessRegressor(alpha = self.alpha)\n",
    "        gp.fit(self.X, self.T)\n",
    "        self.mu, self.sigma = gp.predict(self.x.reshape((self.x.shape[0],1)), return_std=True)\n",
    "\n",
    "    def sample(self, x):\n",
    "        t = self.environment.sample(x)\n",
    "        self.X.append([x])\n",
    "        self.T.append(t)\n",
    "\n",
    "    def plot(self):\n",
    "        fig = plt.figure()\n",
    "        # ax = Axes3D(fig)\n",
    "        ax = plt.axes()\n",
    "        ax.plot(self.x, self.mu, alpha=0.5, color='g', label = 'predict')\n",
    "        #plt.fill_between(xs, xs_ @ opt_l, xs_ @ opt_u, facecolor='k', alpha=0.2)\n",
    "        ax.fill_between(self.x, self.mu + self.sigma, self.mu - self.sigma, facecolor='k', alpha=0.2)\n",
    "        #ax.plot(self.x, self.trueT,  alpha=0.5, color='b')\n",
    "        ax.scatter(self.X, self.T, c='r', marker='o', alpha=1.0, label = 'groundtruth')\n",
    "        plt.legend()\n",
    "        #plt.savefig('fig_%02d.png' % len(self.X))\n",
    "        plt.xlabel('X')\n",
    "        plt.ylabel('Y')\n",
    "        plt.title('GPUCB')\n",
    "        plt.show()"
   ]
  },
  {
   "cell_type": "code",
   "execution_count": 3,
   "metadata": {},
   "outputs": [],
   "source": [
    "class QuantUCB(object):\n",
    "\n",
    "    def __init__(self, x, environment, up, lq, beta=1.):\n",
    "        '''\n",
    "        environment: Environment class which is equipped with sample() method to\n",
    "        return observed value.\n",
    "        beta (optional): Hyper-parameter to tune the exploration-exploitation\n",
    "        balance. If beta is large, it emphasizes the variance of the unexplored\n",
    "        solution solution (i.e. larger curiosity)\n",
    "        '''\n",
    "        #self.x = x\n",
    "        self.x = np.stack([x.ravel(), np.ones_like(x.ravel())]).T\n",
    "        #print('self.x shape:', self.x.shape)\n",
    "        self.environment = environment\n",
    "        self.beta = beta\n",
    "        self.uq = up\n",
    "        self.lq = lq\n",
    "\n",
    "        self.X = []\n",
    "        self.T = []\n",
    "        self.cumu_regret = 0\n",
    "        self.regret_list = []\n",
    "        self.trueT = self.environment.sample(self.x[:,0])\n",
    "        #self.x_maxlabel = self.x[np.argmax(np.sin(self.x[:,0])),0]\n",
    "        self.maxlabel = np.max(np.sin(self.x[:,0]))\n",
    "        \n",
    "        self.predict = np.zeros_like(self.x)\n",
    "        self.ub = 0.5 * np.ones_like(self.x)\n",
    "        self.lb = -0.5 * np.ones_like(self.x)\n",
    "        \n",
    "        self.D = 50\n",
    "        self.sampler = sklearn.kernel_approximation.RBFSampler(n_components= self.D, gamma=0.1)\n",
    "        \n",
    "    def argmax_ucb(self):\n",
    "        # use upper bound\n",
    "        # return np.argmax(self.ub)\n",
    "        \n",
    "        # use predict + uncertainty\n",
    "        return np.argmax(self.predict + 0.5 * abs(self.ub - self.lb) * np.sqrt(self.beta))\n",
    "\n",
    "    def regret(self):\n",
    "        if self.T[-1] < self.maxlabel:\n",
    "            self.cumu_regret += self.maxlabel - self.T[-1]\n",
    "        #if self.X[-1] != self.x_maxlabel:\n",
    "        #    self.cumu_regret += 1\n",
    "        self.regret_list.append(self.cumu_regret)\n",
    "        \n",
    "    def cost(self, W, X, Y, q):\n",
    "        predictions = X @ W\n",
    "        return np.where(\n",
    "            predictions > Y,\n",
    "            (1 - q) * np.abs(Y - predictions),\n",
    "            q * np.abs(Y - predictions)).sum()\n",
    "    \n",
    "    def opti(self, X,Y):\n",
    "        self.opt_w = opt.fmin_bfgs(self.cost, np.zeros((self.D,)), args=(X, Y, 0.5), disp = False)\n",
    "        self.opt_u = opt.fmin_bfgs(self.cost, np.zeros((self.D,)), args=(X, Y, self.uq), disp = False)\n",
    "        self.opt_l = opt.fmin_bfgs(self.cost, np.zeros((self.D,)), args=(X, Y, self.lq), disp = False)\n",
    "\n",
    "    def learn(self):\n",
    "        grid_idx = self.argmax_ucb()\n",
    "        #print('grid_idx:', grid_idx)\n",
    "        self.sample(grid_idx)\n",
    "        self.regret()\n",
    "        \n",
    "        X_ = np.asarray(self.X)\n",
    "        X_ = np.stack([X_.ravel(), np.ones_like(X_.ravel())]).T\n",
    "        #print('X_ shape:', X_.shape)\n",
    "        #print('X_', X_)\n",
    "        \n",
    "        X_rbf = self.sampler.fit_transform(X_)\n",
    "        #print('X_rbf shape:', X_rbf.shape)\n",
    "        #print('X_rbf', X_rbf)\n",
    "        self.opti(X_rbf, np.asarray(self.T))\n",
    "        \n",
    "        self.x_ = self.sampler.transform(self.x)\n",
    "        #print('self.x_ shape:', self.x_.shape)\n",
    "        #print('self.x_', self.x_)\n",
    "        self.predict = self.x_ @ self.opt_w\n",
    "        #print('predictions:', self.predict)\n",
    "        self.ub = self.x_ @ self.opt_u\n",
    "        #print('upper bound:', self.ub)\n",
    "        self.lb = self.x_ @ self.opt_l\n",
    "        #print('lower bound:', self.lb)\n",
    "\n",
    "    def sample(self, idx):\n",
    "        #print('selected x', self.x[idx,0])\n",
    "        t = self.environment.sample(self.x[idx,0])\n",
    "        #print('sample:', t)\n",
    "        self.X.append(self.x[idx,0])\n",
    "        self.T.append(t)\n",
    "\n",
    "    def plot(self):\n",
    "        fig = plt.figure()\n",
    "        # ax = Axes3D(fig)\n",
    "        ax = plt.axes()\n",
    "        '''\n",
    "        ax.plot_wireframe(self.meshgrid[0], self.meshgrid[1],\n",
    "            self.mu.reshape(self.meshgrid[0].shape), alpha=0.5, color='g')\n",
    "        ax.plot_wireframe(self.meshgrid[0], self.meshgrid[1],\n",
    "            self.environment.sample(self.meshgrid), alpha=0.5, color='b')\n",
    "        ax.scatter([x[0] for x in self.X], [x[1] for x in self.X], self.T, c='r',\n",
    "            marker='o', alpha=1.0)\n",
    "        '''\n",
    "        ax.plot(self.x[:,0], self.predict, alpha=0.5, color='g', label = 'predict')\n",
    "        #plt.fill_between(xs, xs_ @ opt_l, xs_ @ opt_u, facecolor='k', alpha=0.2)\n",
    "        ax.fill_between(self.x[:,0], self.lb, self.ub, facecolor='k', alpha=0.2)\n",
    "        #ax.plot(self.x[:,0], self.trueT,  alpha=0.5, color='b')\n",
    "        ax.scatter(self.X, self.T, c='r', marker='o', alpha=1.0, label = 'sample')\n",
    "        #plt.savefig('fig_%02d.png' % len(self.X))\n",
    "        plt.legend()\n",
    "        plt.xlabel('X')\n",
    "        plt.ylabel('Y')\n",
    "        plt.title('QuantUCB')\n",
    "        plt.show()"
   ]
  },
  {
   "cell_type": "code",
   "execution_count": 4,
   "metadata": {
    "collapsed": true
   },
   "outputs": [],
   "source": [
    "class DummyEnvironment(object):\n",
    "    def sample(self, x):\n",
    "        noise = np.random.normal(0,0.1,1)\n",
    "        return np.sin(x) + noise[0]\n",
    "        #return np.sin(x)\n",
    "\n",
    "x = np.arange(-3, 3, 0.1)\n",
    "# y = np.arange(-3, 3, 0.25)\n",
    "env = DummyEnvironment()"
   ]
  },
  {
   "cell_type": "code",
   "execution_count": 5,
   "metadata": {
    "scrolled": true
   },
   "outputs": [
    {
     "data": {
      "image/png": "[encoded data removed]",
      "text/plain": [
       "<matplotlib.figure.Figure at 0x112792278>"
      ]
     },
     "metadata": {},
     "output_type": "display_data"
    }
   ],
   "source": [
    "uq = 0.9\n",
    "lq = 0.1\n",
    "QuantAgent = QuantUCB(x, env, uq, lq)\n",
    "for i in range(200):\n",
    "    QuantAgent.learn()\n",
    "QuantAgent.plot()  "
   ]
  },
  {
   "cell_type": "code",
   "execution_count": 6,
   "metadata": {},
   "outputs": [
    {
     "data": {
      "image/png": "[encoded data removed]",
      "text/plain": [
       "<matplotlib.figure.Figure at 0x113338cc0>"
      ]
     },
     "metadata": {},
     "output_type": "display_data"
    }
   ],
   "source": [
    "alpha = 0.01 \n",
    "GPAgent = GPUCB(x, env, alpha)\n",
    "for i in range(200):\n",
    "    GPAgent.learn() \n",
    "GPAgent.plot()"
   ]
  },
  {
   "cell_type": "code",
   "execution_count": 7,
   "metadata": {},
   "outputs": [
    {
     "data": {
      "text/plain": [
       "<matplotlib.legend.Legend at 0x1134b1128>"
      ]
     },
     "execution_count": 7,
     "metadata": {},
     "output_type": "execute_result"
    },
    {
     "data": {
      "image/png": "[encoded data removed]",
      "text/plain": [
       "<matplotlib.figure.Figure at 0x105d87550>"
      ]
     },
     "metadata": {},
     "output_type": "display_data"
    }
   ],
   "source": [
    "# plot cumulative regret\n",
    "plt.plot(range(200), QuantAgent.regret_list, label = 'QuantUCB')\n",
    "plt.plot(range(200), GPAgent.regret_list, label = 'GPUCB')\n",
    "plt.xlabel('iterations')\n",
    "plt.ylabel('cumulative regret')\n",
    "plt.title('GP-UCB vs. Quant-UCB')\n",
    "plt.legend()"
   ]
  },
  {
   "cell_type": "code",
   "execution_count": 8,
   "metadata": {},
   "outputs": [
    {
     "data": {
      "text/plain": [
       "array([ 0.09950326,  0.14019795,  0.21962932,  0.30615094,  0.39136575,\n",
       "        0.4719865 ,  0.54609445,  0.6123329 ,  0.66967513,  0.71733642,\n",
       "        0.75472975,  0.78143819,  0.79719757,  0.80188894,  0.7955416 ,\n",
       "        0.7783471 ,  0.75068229,  0.71313835,  0.66655067,  0.61202392,\n",
       "        0.55094735,  0.48499701,  0.41612652,  0.34655675,  0.27879307,\n",
       "        0.21573998,  0.16106353,  0.11992373,  0.09862163,  0.09804972,\n",
       "        0.10873123,  0.1206314 ,  0.12876905,  0.13151094,  0.12881637,\n",
       "        0.12139508,  0.11029903,  0.09669585,  0.08173421,  0.06646849,\n",
       "        0.0518231 ,  0.03857223,  0.02729798,  0.0182914 ,  0.01150206,\n",
       "        0.0075374 ,  0.01017583,  0.01895621,  0.0313636 ,  0.04638184,\n",
       "        0.06296897,  0.07978602,  0.09526497,  0.10775753,  0.11573557,\n",
       "        0.11806261,  0.11441778,  0.10610407,  0.09768719,  0.09874168])"
      ]
     },
     "execution_count": 8,
     "metadata": {},
     "output_type": "execute_result"
    }
   ],
   "source": [
    "GPAgent.sigma"
   ]
  },
  {
   "cell_type": "code",
   "execution_count": 9,
   "metadata": {},
   "outputs": [
    {
     "data": {
      "text/plain": [
       "array([ 0.14290835,  0.15184411,  0.16104085,  0.1704294 ,  0.17993779,\n",
       "        0.18949214,  0.1990175 ,  0.20843871,  0.21768136,  0.22667264,\n",
       "        0.23534225,  0.24362325,  0.25145286,  0.2587733 ,  0.26553248,\n",
       "        0.2716847 ,  0.27719123,  0.28202082,  0.28615018,  0.28956429,\n",
       "        0.29225669,  0.29422958,  0.29549392,  0.29606938,  0.29598413,\n",
       "        0.29527467,  0.29398538,  0.29216816,  0.28988181,  0.28719144,\n",
       "        0.28416773,  0.28088617,  0.27742619,  0.27387027,  0.27030297,\n",
       "        0.26680996,  0.263477  ,  0.26038891,  0.25762859,  0.25527593,\n",
       "        0.25340688,  0.25209247,  0.2513979 ,  0.25138167,  0.2520948 ,\n",
       "        0.2535801 ,  0.25587155,  0.25899373,  0.26296139,  0.26777911,\n",
       "        0.27344108,  0.27993092,  0.28722174,  0.29527623,  0.30404684,\n",
       "        0.31347618,  0.32349742,  0.33403488,  0.34500466,  0.3563154 ])"
      ]
     },
     "execution_count": 9,
     "metadata": {},
     "output_type": "execute_result"
    }
   ],
   "source": [
    "QuantAgent.ub - QuantAgent.lb"
   ]
  },
  {
   "cell_type": "code",
   "execution_count": 10,
   "metadata": {},
   "outputs": [
    {
     "data": {
      "text/plain": [
       "0.999573603041505"
      ]
     },
     "execution_count": 10,
     "metadata": {},
     "output_type": "execute_result"
    }
   ],
   "source": [
    "GPAgent.maxlabel"
   ]
  },
  {
   "cell_type": "code",
   "execution_count": 11,
   "metadata": {},
   "outputs": [
    {
     "data": {
      "text/html": [
       "<div>\n",
       "<style scoped>\n",
       "    .dataframe tbody tr th:only-of-type {\n",
       "        vertical-align: middle;\n",
       "    }\n",
       "\n",
       "    .dataframe tbody tr th {\n",
       "        vertical-align: top;\n",
       "    }\n",
       "\n",
       "    .dataframe thead th {\n",
       "        text-align: right;\n",
       "    }\n",
       "</style>\n",
       "<table border=\"1\" class=\"dataframe\">\n",
       "  <thead>\n",
       "    <tr style=\"text-align: right;\">\n",
       "      <th></th>\n",
       "      <th>x</th>\n",
       "      <th>y</th>\n",
       "    </tr>\n",
       "  </thead>\n",
       "  <tbody>\n",
       "    <tr>\n",
       "      <th>0</th>\n",
       "      <td>-3.0</td>\n",
       "      <td>-0.044746</td>\n",
       "    </tr>\n",
       "    <tr>\n",
       "      <th>1</th>\n",
       "      <td>-2.7</td>\n",
       "      <td>-0.266873</td>\n",
       "    </tr>\n",
       "    <tr>\n",
       "      <th>2</th>\n",
       "      <td>-3.0</td>\n",
       "      <td>-0.165608</td>\n",
       "    </tr>\n",
       "    <tr>\n",
       "      <th>3</th>\n",
       "      <td>-3.0</td>\n",
       "      <td>-0.187655</td>\n",
       "    </tr>\n",
       "    <tr>\n",
       "      <th>4</th>\n",
       "      <td>2.9</td>\n",
       "      <td>0.424465</td>\n",
       "    </tr>\n",
       "  </tbody>\n",
       "</table>\n",
       "</div>"
      ],
      "text/plain": [
       "     x         y\n",
       "0 -3.0 -0.044746\n",
       "1 -2.7 -0.266873\n",
       "2 -3.0 -0.165608\n",
       "3 -3.0 -0.187655\n",
       "4  2.9  0.424465"
      ]
     },
     "execution_count": 11,
     "metadata": {},
     "output_type": "execute_result"
    }
   ],
   "source": [
    "X = np.asarray(QuantAgent.X)\n",
    "X = X.reshape(X.shape[0],1)\n",
    "\n",
    "T = np.asarray(QuantAgent.T)\n",
    "T = T.reshape(T.shape[0],1)\n",
    "\n",
    "import pandas as pd\n",
    "\n",
    "data = pd.DataFrame(data = np.hstack([X, T]), columns = ['x', 'y'])\n",
    "data.head()"
   ]
  },
  {
   "cell_type": "code",
   "execution_count": null,
   "metadata": {
    "collapsed": true
   },
   "outputs": [],
   "source": []
  }
 ],
 "metadata": {
  "kernelspec": {
   "display_name": "Python 3",
   "language": "python",
   "name": "python3"
  },
  "language_info": {
   "codemirror_mode": {
    "name": "ipython",
    "version": 3
   },
   "file_extension": ".py",
   "mimetype": "text/x-python",
   "name": "python",
   "nbconvert_exporter": "python",
   "pygments_lexer": "ipython3",
   "version": "3.6.5"
  }
 },
 "nbformat": 4,
 "nbformat_minor": 2
}
