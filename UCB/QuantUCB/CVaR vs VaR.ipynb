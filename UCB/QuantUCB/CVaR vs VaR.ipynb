{
 "cells": [
  {
   "cell_type": "code",
   "execution_count": 1,
   "metadata": {},
   "outputs": [],
   "source": [
    "import numpy as np\n",
    "from matplotlib import pylab as plt\n",
    "from sklearn.gaussian_process import GaussianProcessRegressor\n",
    "import sklearn.kernel_approximation"
   ]
  },
  {
   "cell_type": "code",
   "execution_count": 2,
   "metadata": {},
   "outputs": [
    {
     "name": "stdout",
     "output_type": "stream",
     "text": [
      "[-3 -2 -1  0  1  2]\n",
      "[ 0.33180641 -0.43637101 -0.36854457  0.47292642  1.3143974   1.38222384]\n"
     ]
    },
    {
     "data": {
      "image/png": "[encoded data removed]",
      "text/plain": [
       "<matplotlib.figure.Figure at 0x7fc80cf3ce10>"
      ]
     },
     "metadata": {},
     "output_type": "display_data"
    }
   ],
   "source": [
    "class DummyEnvironment(object):\n",
    "    def sample(self, x):\n",
    "        noise = 1/2 * np.random.normal(0,0.5) + 1/2 * np.random.normal(2,1)\n",
    "        return np.sin(x) + noise\n",
    "        #return np.sin(x)\n",
    "\n",
    "x = np.arange(-3, 3, 1)\n",
    "# y = np.arange(-3, 3, 0.25)\n",
    "env = DummyEnvironment()\n",
    "t = env.sample(x)\n",
    "plt.plot(x, t,'.')\n",
    "print(x)\n",
    "print(t)"
   ]
  },
  {
   "cell_type": "code",
   "execution_count": 3,
   "metadata": {},
   "outputs": [],
   "source": [
    "from collections import defaultdict\n",
    "\n",
    "iter_num = 100\n",
    "values = defaultdict(list)\n",
    "\n",
    "for i in range(iter_num):\n",
    "    for j in x:\n",
    "        values[j].append(env.sample(j))"
   ]
  },
  {
   "cell_type": "code",
   "execution_count": 4,
   "metadata": {},
   "outputs": [],
   "source": [
    "VaR = {}\n",
    "level = 0.5\n",
    "VaR_point = int(iter_num * level)\n",
    "VaR_list = []\n",
    "CVaR_list = []\n",
    "mean_list = []\n",
    "median_list = []\n",
    "\n",
    "for key, value in values.items():\n",
    "    values[key].sort()\n",
    "    VaR[key] = values[key][VaR_point]\n",
    "    VaR_list.append(values[key][VaR_point])\n",
    "    CVaR_list.append(np.average(values[key][-(iter_num - VaR_point):]))\n",
    "    mean_list.append(np.average(values[key]))\n",
    "    median_list.append(values[key][50])\n"
   ]
  },
  {
   "cell_type": "code",
   "execution_count": 5,
   "metadata": {},
   "outputs": [
    {
     "data": {
      "text/plain": [
       "[1.8274809324617678, 1.9350375519027354]"
      ]
     },
     "execution_count": 5,
     "metadata": {},
     "output_type": "execute_result"
    }
   ],
   "source": [
    "VaR_list[-2:]"
   ]
  },
  {
   "cell_type": "code",
   "execution_count": 6,
   "metadata": {},
   "outputs": [
    {
     "data": {
      "text/plain": [
       "<matplotlib.legend.Legend at 0x7fc80929aa90>"
      ]
     },
     "execution_count": 6,
     "metadata": {},
     "output_type": "execute_result"
    },
    {
     "data": {
      "image/png": "[encoded data removed]",
      "text/plain": [
       "<matplotlib.figure.Figure at 0x7fc8093dd2e8>"
      ]
     },
     "metadata": {},
     "output_type": "display_data"
    }
   ],
   "source": [
    "plt.plot(x, VaR_list, '.', label ='VaR')\n",
    "plt.plot(x, CVaR_list, '.', label = 'CVaR')\n",
    "#plt.plot(x, mean_list, '.', label = 'Mean')\n",
    "plt.plot(x, median_list, '.', label = 'Median')\n",
    "plt.legend()"
   ]
  },
  {
   "cell_type": "code",
   "execution_count": 7,
   "metadata": {},
   "outputs": [
    {
     "name": "stderr",
     "output_type": "stream",
     "text": [
      "/home/admin-u6015325/anaconda3/lib/python3.6/site-packages/sklearn/utils/deprecation.py:52: DeprecationWarning: Class GMM is deprecated; The class GMM is deprecated in 0.18 and will be  removed in 0.20. Use class GaussianMixture instead.\n",
      "  warnings.warn(msg, category=DeprecationWarning)\n",
      "/home/admin-u6015325/anaconda3/lib/python3.6/site-packages/sklearn/utils/deprecation.py:70: DeprecationWarning: Function sample_gaussian is deprecated; The function sample_gaussian is deprecated in 0.18 and will be removed in 0.20. Use numpy.random.multivariate_normal instead.\n",
      "  warnings.warn(msg, category=DeprecationWarning)\n",
      "/home/admin-u6015325/anaconda3/lib/python3.6/site-packages/sklearn/utils/deprecation.py:70: DeprecationWarning: Function sample_gaussian is deprecated; The function sample_gaussian is deprecated in 0.18 and will be removed in 0.20. Use numpy.random.multivariate_normal instead.\n",
      "  warnings.warn(msg, category=DeprecationWarning)\n",
      "/home/admin-u6015325/anaconda3/lib/python3.6/site-packages/sklearn/utils/deprecation.py:70: DeprecationWarning: Function sample_gaussian is deprecated; The function sample_gaussian is deprecated in 0.18 and will be removed in 0.20. Use numpy.random.multivariate_normal instead.\n",
      "  warnings.warn(msg, category=DeprecationWarning)\n"
     ]
    }
   ],
   "source": [
    "from sklearn.mixture import GMM\n",
    "\n",
    "np.random.seed(1)\n",
    "\n",
    "gmm = GMM(3, n_iter=1)\n",
    "gmm.means_ = np.array([[-1], [0], [3]])\n",
    "gmm.covars_ = np.array([[1.5], [1], [0.5]]) ** 2\n",
    "gmm.weights_ = np.array([0.3, 0.5, 0.2])\n",
    "\n",
    "X = gmm.sample(1000)"
   ]
  },
  {
   "cell_type": "code",
   "execution_count": 8,
   "metadata": {},
   "outputs": [
    {
     "data": {
      "text/plain": [
       "(array([0.00485579, 0.        , 0.00485579, 0.        , 0.00485579,\n",
       "        0.00971159, 0.00485579, 0.01456738, 0.00485579, 0.00971159,\n",
       "        0.01942317, 0.04855793, 0.02427897, 0.01456738, 0.05341373,\n",
       "        0.0728369 , 0.04855793, 0.05341373, 0.11168325, 0.12139484,\n",
       "        0.21365491, 0.15538539, 0.1505296 , 0.27192443, 0.20879912,\n",
       "        0.30591499, 0.26221285, 0.28649182, 0.26706864, 0.24278967,\n",
       "        0.19423174, 0.17966436, 0.13110642, 0.12625063, 0.08740428,\n",
       "        0.06798111, 0.0728369 , 0.06312532, 0.10197166, 0.1505296 ,\n",
       "        0.1505296 , 0.12139484, 0.10682746, 0.12139484, 0.05341373,\n",
       "        0.0728369 , 0.04855793, 0.00971159, 0.        , 0.00485579]),\n",
       " array([-5.58064657, -5.374707  , -5.16876744, -4.96282787, -4.75688831,\n",
       "        -4.55094874, -4.34500918, -4.13906961, -3.93313004, -3.72719048,\n",
       "        -3.52125091, -3.31531135, -3.10937178, -2.90343222, -2.69749265,\n",
       "        -2.49155308, -2.28561352, -2.07967395, -1.87373439, -1.66779482,\n",
       "        -1.46185526, -1.25591569, -1.04997612, -0.84403656, -0.63809699,\n",
       "        -0.43215743, -0.22621786, -0.0202783 ,  0.18566127,  0.39160084,\n",
       "         0.5975404 ,  0.80347997,  1.00941953,  1.2153591 ,  1.42129866,\n",
       "         1.62723823,  1.8331778 ,  2.03911736,  2.24505693,  2.45099649,\n",
       "         2.65693606,  2.86287562,  3.06881519,  3.27475476,  3.48069432,\n",
       "         3.68663389,  3.89257345,  4.09851302,  4.30445258,  4.51039215,\n",
       "         4.71633172]),\n",
       " <a list of 1 Patch objects>)"
      ]
     },
     "execution_count": 8,
     "metadata": {},
     "output_type": "execute_result"
    },
    {
     "data": {
      "image/png": "[encoded data removed]",
      "text/plain": [
       "<matplotlib.figure.Figure at 0x7fc80935cc18>"
      ]
     },
     "metadata": {},
     "output_type": "display_data"
    }
   ],
   "source": [
    "plt.hist(X, 50, normed=True, histtype='stepfilled', alpha=0.4)"
   ]
  },
  {
   "cell_type": "code",
   "execution_count": 9,
   "metadata": {},
   "outputs": [],
   "source": [
    "import numpy as np\n",
    "from collections import defaultdict\n"
   ]
  },
  {
   "cell_type": "code",
   "execution_count": 10,
   "metadata": {},
   "outputs": [],
   "source": [
    "numActions = 10\n",
    "numRounds = 1000\n",
    "\n",
    "biases = [1.0 / k for k in range(5, 5+numActions)]"
   ]
  },
  {
   "cell_type": "code",
   "execution_count": 63,
   "metadata": {},
   "outputs": [],
   "source": [
    "means = [0.5 + b for b in biases]\n",
    "rewards = lambda choice: 10 * np.random.random() + 20*biases[choice]\n",
    "\n",
    "gen_rewards = {}\n",
    "for choice in range(numActions):\n",
    "    temp = []\n",
    "    for i in range(numRounds):\n",
    "        temp.append(rewards(choice))\n",
    "    gen_rewards[choice] = temp\n",
    "\n",
    "VaR = {}\n",
    "level = 0.5\n",
    "VaR_point = int(numRounds * level)\n",
    "VaR_list = []\n",
    "CVaR_list = []\n",
    "mean_list = []\n",
    "median_list = []\n",
    "\n",
    "for key, value in gen_rewards.items():\n",
    "    gen_rewards[key].sort()\n",
    "    VaR[key] = gen_rewards[key][VaR_point]\n",
    "    VaR_list.append(gen_rewards[key][VaR_point])\n",
    "    CVaR_list.append(np.average(gen_rewards[key][-(numRounds - VaR_point):]))\n",
    "    mean_list.append(np.average(gen_rewards[key]))\n",
    "    median_list.append(gen_rewards[key][50])"
   ]
  },
  {
   "cell_type": "code",
   "execution_count": 66,
   "metadata": {},
   "outputs": [
    {
     "data": {
      "text/plain": [
       "[<matplotlib.lines.Line2D at 0x7fc7ff273c50>]"
      ]
     },
     "execution_count": 66,
     "metadata": {},
     "output_type": "execute_result"
    },
    {
     "data": {
      "image/png": "[encoded data removed]",
      "text/plain": [
       "<matplotlib.figure.Figure at 0x7fc7ff330470>"
      ]
     },
     "metadata": {},
     "output_type": "display_data"
    }
   ],
   "source": [
    "# test for how CVaR change when getting more and more observations\n",
    "reward_list = []\n",
    "CVaR_list = []\n",
    "for i in range(numRounds):\n",
    "    reward_list.append(rewards(0))\n",
    "    CVaR_list.append(CVaR(reward_list, 0.9))\n",
    "    \n",
    "plt.plot(CVaR_list)"
   ]
  },
  {
   "cell_type": "code",
   "execution_count": 12,
   "metadata": {},
   "outputs": [
    {
     "data": {
      "text/plain": [
       "<matplotlib.legend.Legend at 0x7fc80cf4e6d8>"
      ]
     },
     "execution_count": 12,
     "metadata": {},
     "output_type": "execute_result"
    },
    {
     "data": {
      "image/png": "[encoded data removed]",
      "text/plain": [
       "<matplotlib.figure.Figure at 0x7fc8054efda0>"
      ]
     },
     "metadata": {},
     "output_type": "display_data"
    }
   ],
   "source": [
    "plt.plot(range(numActions), VaR_list, '.', label ='VaR')\n",
    "plt.plot(range(numActions), CVaR_list, '.', label = 'CVaR')\n",
    "plt.plot(range(numActions), mean_list, '.', label = 'Mean')\n",
    "plt.plot(range(numActions), median_list, '.', label = 'Median')\n",
    "plt.legend()"
   ]
  },
  {
   "cell_type": "code",
   "execution_count": 55,
   "metadata": {},
   "outputs": [],
   "source": [
    "def CVaR(data, a):\n",
    "    data = np.sort(data)\n",
    "    # idx = int(data.shape[0] * a)\n",
    "    idx = int(len(data) * a)\n",
    "    CVaR = np.mean(data[idx:])\n",
    "    return CVaR\n",
    "\n",
    "def CVaR_ucb(numActions, reward, a):\n",
    "    payoffSums = [0] * numActions\n",
    "    numPlays = [1] * numActions\n",
    "    ucbs = [0] * numActions\n",
    "    payoff_dict = defaultdict(list)\n",
    "    \n",
    "    # initialize empirical sums\n",
    "    for t in range(numActions):\n",
    "        theReward = reward(t)\n",
    "        payoffSums[t] = theReward\n",
    "        payoff_dict[t].append(theReward)\n",
    "        yield t, payoffSums[t], ucbs\n",
    "        \n",
    "    t = numActions\n",
    "\n",
    "    while True:\n",
    "        ucbs = [CVaR(payoff_dict[i], a) for i in range(numActions)]\n",
    "        action = max(range(numActions), key=lambda i: ucbs[i])\n",
    "        theReward = reward(action)\n",
    "        numPlays[action] += 1\n",
    "        payoff_dict[action].append(theReward)\n",
    "        payoffSums[action] += theReward\n",
    "\n",
    "        yield action, theReward, ucbs\n",
    "        t = t + 1\n"
   ]
  },
  {
   "cell_type": "code",
   "execution_count": 57,
   "metadata": {},
   "outputs": [],
   "source": [
    "numActions = 10\n",
    "numRounds = 1000\n",
    "\n",
    "biases = [1.0 / k for k in range(5, 5+numActions)]\n",
    "rewards = lambda choice: np.random.random() + biases[choice]\n",
    "\n",
    "bestAction = 0\n",
    "cumulativeReward = 0\n",
    "cumulativeRegret_list = []\n",
    "bestActionCumulativeReward = 0\n",
    "level = 0.5\n",
    "\n",
    "t = numActions\n",
    "for (choice, reward, ucbs) in CVaR_ucb(numActions, rewards, level):\n",
    "    cumulativeReward += reward\n",
    "    bestActionCumulativeReward += reward if choice == bestAction else rewards(bestAction)\n",
    "    regret = bestActionCumulativeReward - cumulativeReward\n",
    "    cumulativeRegret_list.append(regret)\n",
    "    #regretBound = 8 * math.log(t + 5) * invDeltaSum + (1 + math.pi*math.pi / 3) * deltaSum\n",
    "\n",
    "    #print(\"regret: %d\\tregretBound: %.2f\" % (regret, regretBound))\n",
    "\n",
    "    t += 1\n",
    "    if t >= numRounds:\n",
    "        break"
   ]
  },
  {
   "cell_type": "code",
   "execution_count": 48,
   "metadata": {},
   "outputs": [
    {
     "data": {
      "text/plain": [
       "[<matplotlib.lines.Line2D at 0x7fc7ff7ee7b8>]"
      ]
     },
     "execution_count": 48,
     "metadata": {},
     "output_type": "execute_result"
    },
    {
     "data": {
      "image/png": "[encoded data removed]",
      "text/plain": [
       "<matplotlib.figure.Figure at 0x7fc804077710>"
      ]
     },
     "metadata": {},
     "output_type": "display_data"
    }
   ],
   "source": [
    "cumulativeReward\n",
    "\n",
    "plt.plot(cumulativeRegret_list)"
   ]
  },
  {
   "cell_type": "code",
   "execution_count": 53,
   "metadata": {},
   "outputs": [],
   "source": [
    "import math\n",
    "\n",
    "# upperBound: int, int -> float\n",
    "# the size of the upper confidence bound for ucb1\n",
    "def upperBound(step, numPlays):\n",
    "    return math.sqrt(2 * math.log(step + 1) / numPlays)\n",
    "\n",
    "\n",
    "# ucb1: int, (int, int -> float) -> generator\n",
    "# perform the ucb1 bandit learning algorithm.  numActions is the number of\n",
    "# actions, indexed from 0. reward is a function (or callable) accepting as\n",
    "# input the action and producing as output the reward for that action\n",
    "def ucb1(numActions, reward):\n",
    "    payoffSums = [0] * numActions\n",
    "    numPlays = [1] * numActions\n",
    "    ucbs = [0] * numActions\n",
    "\n",
    "    # initialize empirical sums\n",
    "    for t in range(numActions):\n",
    "        payoffSums[t] = reward(t,t)\n",
    "        yield t, payoffSums[t], ucbs\n",
    "\n",
    "    t = numActions\n",
    "\n",
    "    while True:\n",
    "        ucbs = [payoffSums[i] / numPlays[i] + upperBound(t, numPlays[i]) for i in range(numActions)]\n",
    "        action = max(range(numActions), key=lambda i: ucbs[i])\n",
    "        theReward = reward(action, t)\n",
    "        numPlays[action] += 1\n",
    "        payoffSums[action] += theReward\n",
    "\n",
    "        yield action, theReward, ucbs\n",
    "        t = t + 1\n",
    "\n",
    "\n",
    "# Test UCB1 using stochastic payoffs for 10 actions.\n",
    "numActions = 10\n",
    "numRounds = 1000\n",
    "\n",
    "biases = [1.0 / k for k in range(5,5+numActions)]\n",
    "means = [0.5 + b for b in biases]\n",
    "deltas = [means[0] - x for x in means[1:]]\n",
    "deltaSum = sum(deltas)\n",
    "invDeltaSum = sum(1/x for x in deltas)\n",
    "\n",
    "bestAction = 0\n",
    "rewards = lambda choice, t: np.random.random() + biases[choice]\n",
    "\n",
    "cumulativeReward = 0\n",
    "cumulativeRegret_list = []\n",
    "bestActionCumulativeReward = 0\n",
    "\n",
    "t = numActions\n",
    "for (choice, reward, ucbs) in ucb1(numActions, rewards):\n",
    "    cumulativeReward += reward\n",
    "    bestActionCumulativeReward += reward if choice == bestAction else rewards(bestAction, t)\n",
    "    regret = bestActionCumulativeReward - cumulativeReward\n",
    "    cumulativeRegret_list.append(regret)\n",
    "    regretBound = 8 * math.log(t + 5) * invDeltaSum + (1 + math.pi*math.pi / 3) * deltaSum\n",
    "\n",
    "    #print(\"regret: %d\\tregretBound: %.2f\" % (regret, regretBound))\n",
    "\n",
    "    t += 1\n",
    "    if t >= numRounds:\n",
    "        break"
   ]
  },
  {
   "cell_type": "code",
   "execution_count": 54,
   "metadata": {},
   "outputs": [
    {
     "data": {
      "text/plain": [
       "[<matplotlib.lines.Line2D at 0x7fc7ff63dd68>]"
      ]
     },
     "execution_count": 54,
     "metadata": {},
     "output_type": "execute_result"
    },
    {
     "data": {
      "image/png": "[encoded data removed]",
      "text/plain": [
       "<matplotlib.figure.Figure at 0x7fc7ff6f4a58>"
      ]
     },
     "metadata": {},
     "output_type": "display_data"
    }
   ],
   "source": [
    "cumulativeReward\n",
    "plt.plot(cumulativeRegret_list)"
   ]
  },
  {
   "cell_type": "code",
   "execution_count": 5,
   "metadata": {},
   "outputs": [
    {
     "data": {
      "text/plain": [
       "2.0"
      ]
     },
     "execution_count": 5,
     "metadata": {},
     "output_type": "execute_result"
    }
   ],
   "source": [
    "import numpy as np\n",
    "np.random.normal(2,0)"
   ]
  },
  {
   "cell_type": "code",
   "execution_count": null,
   "metadata": {},
   "outputs": [],
   "source": []
  }
 ],
 "metadata": {
  "kernelspec": {
   "display_name": "Python 3",
   "language": "python",
   "name": "python3"
  },
  "language_info": {
   "codemirror_mode": {
    "name": "ipython",
    "version": 3
   },
   "file_extension": ".py",
   "mimetype": "text/x-python",
   "name": "python",
   "nbconvert_exporter": "python",
   "pygments_lexer": "ipython3",
   "version": "3.6.5"
  }
 },
 "nbformat": 4,
 "nbformat_minor": 2
}
