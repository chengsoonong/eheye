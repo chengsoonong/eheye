{
 "cells": [
  {
   "cell_type": "code",
   "execution_count": 2,
   "metadata": {},
   "outputs": [],
   "source": [
    "import strkernel"
   ]
  },
  {
   "cell_type": "code",
   "execution_count": 6,
   "metadata": {},
   "outputs": [
    {
     "data": {
      "text/plain": [
       "array([[1.        , 0.76923077, 0.42307692, 0.40360368, 0.34615385],\n",
       "       [0.76923077, 1.        , 0.65384615, 0.47087096, 0.38461538],\n",
       "       [0.42307692, 0.65384615, 1.        , 0.63903915, 0.57692308],\n",
       "       [0.40360368, 0.47087096, 0.63903915, 1.        , 0.26906912],\n",
       "       [0.34615385, 0.38461538, 0.57692308, 0.26906912, 1.        ]])"
      ]
     },
     "execution_count": 6,
     "metadata": {},
     "output_type": "execute_result"
    }
   ],
   "source": [
    "from strkernel.mismatch_kernel import MismatchKernel\n",
    "from strkernel.mismatch_kernel import preprocess\n",
    "\n",
    "l = 4 # for DNA/RNA sequence data\n",
    "k = 3 # for k-mers (substring of length k) \n",
    "m = 1 # maximum number of mismatches for 2 k-mers to be considered ‘similar’.\n",
    "\n",
    "mismatch_collection = ['ATGGAC', 'ACGGAC', 'TGCGTC','TCAAAT', 'TCTCGA']\n",
    "int_seq = preprocess(mismatch_collection)\n",
    "mismatch_kernel = MismatchKernel(l=l, k=k, m=m).get_kernel(int_seq)\n",
    "mismatch_kernel.kernel"
   ]
  },
  {
   "cell_type": "code",
   "execution_count": null,
   "metadata": {},
   "outputs": [],
   "source": []
  }
 ],
 "metadata": {
  "kernelspec": {
   "display_name": "Python 3",
   "language": "python",
   "name": "python3"
  },
  "language_info": {
   "codemirror_mode": {
    "name": "ipython",
    "version": 3
   },
   "file_extension": ".py",
   "mimetype": "text/x-python",
   "name": "python",
   "nbconvert_exporter": "python",
   "pygments_lexer": "ipython3",
   "version": "3.6.5"
  }
 },
 "nbformat": 4,
 "nbformat_minor": 2
}
