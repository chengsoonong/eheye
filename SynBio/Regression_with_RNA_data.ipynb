{
 "cells": [
  {
   "cell_type": "code",
   "execution_count": 1,
   "metadata": {},
   "outputs": [],
   "source": [
    "import numpy as np\n",
    "import pandas as pd\n",
    "import matplotlib.pyplot as plt\n",
    "from sklearn.linear_model import LinearRegression\n",
    "from sklearn.kernel_ridge import KernelRidge\n",
    "from sklearn.gaussian_process import GaussianProcessRegressor\n",
    "from sklearn.gaussian_process.kernels import DotProduct\n",
    "from sklearn.gaussian_process.kernels import RBF\n",
    "from sklearn.model_selection import train_test_split\n",
    "from sklearn.metrics import r2_score\n",
    "#import statsmodels.api as sm\n",
    "import pylab \n",
    "import itertools\n",
    "#import UCB_new\n",
    "from collections import defaultdict\n",
    "\n",
    "#from strkernel.mismatch_kernel import MismatchKernel\n",
    "#from strkernel.mismatch_kernel import preprocess\n",
    "\n",
    "%matplotlib inline"
   ]
  },
  {
   "cell_type": "markdown",
   "metadata": {},
   "source": [
    "### Description \n",
    "\n",
    "This notebook runs experiments for paper [High-throughput cellular RNA device engineering](https://www.nature.com/articles/nmeth.3486#Sec8)\n",
    "\n",
    "There are two worksheets in there: panel (a) and panel (b) – we will use the B one. There are 37,301 data points there out of 174,720 (4^8 + 4^7 + 4^6 + 4^5 + 4^4 + 4^3) possible combinations – this is because they have gated the bad results out of the analysis – basically they have set a threshold of 0.5 for the ratio of the two parameters you have in the dataset and they have removed all that didn’t fit in that threshold (they have however results for all the variants, unfortunately they have not submitted them – I could ask the authors to send them to me maybe?). Now, the analysed DNA sequence is this (randomized part is in bold, it can be from 3 to 8 bases, N is any base from ATGC set):\n",
    "\n",
    " \n",
    "\n",
    "GCTGTCACCGGAATACCAGCATCGTCTTGATGCCCTTGGCAGTCCGGTCTGATGAGTCC$\\textbf{NNNNNNNN}$GGACGAAACAGC\n",
    "\n",
    " \n",
    "\n",
    "The label is the ratio between second parameter and the first one (they are two fluorescence values) (fourth column)."
   ]
  },
  {
   "cell_type": "code",
   "execution_count": 18,
   "metadata": {},
   "outputs": [],
   "source": [
    "file_name = '41592_2015_BFnmeth3486_MOESM583_ESM-1.xlsx'\n",
    "\n",
    "dfs = pd.read_excel(file_name, sheet_name='Panel (b)')"
   ]
  },
  {
   "cell_type": "code",
   "execution_count": 19,
   "metadata": {},
   "outputs": [
    {
     "data": {
      "text/html": [
       "<div>\n",
       "<style scoped>\n",
       "    .dataframe tbody tr th:only-of-type {\n",
       "        vertical-align: middle;\n",
       "    }\n",
       "\n",
       "    .dataframe tbody tr th {\n",
       "        vertical-align: top;\n",
       "    }\n",
       "\n",
       "    .dataframe thead th {\n",
       "        text-align: right;\n",
       "    }\n",
       "</style>\n",
       "<table border=\"1\" class=\"dataframe\">\n",
       "  <thead>\n",
       "    <tr style=\"text-align: right;\">\n",
       "      <th></th>\n",
       "      <th>Sequence</th>\n",
       "      <th>mu((1-)+(2-))</th>\n",
       "      <th>mu((1+)+(2+))</th>\n",
       "      <th>Ratio</th>\n",
       "    </tr>\n",
       "  </thead>\n",
       "  <tbody>\n",
       "    <tr>\n",
       "      <th>0</th>\n",
       "      <td>GCTGTCACCGGAATACCAGCATCGTCTTGATGCCCTTGGCAGTCCG...</td>\n",
       "      <td>1.67315</td>\n",
       "      <td>0.848279</td>\n",
       "      <td>0.506995</td>\n",
       "    </tr>\n",
       "    <tr>\n",
       "      <th>1</th>\n",
       "      <td>GCTGTCACCGGAATACCAGCATCGTCTTGATGCCCTTGGCAGTCCG...</td>\n",
       "      <td>1.65701</td>\n",
       "      <td>0.993929</td>\n",
       "      <td>0.599833</td>\n",
       "    </tr>\n",
       "    <tr>\n",
       "      <th>2</th>\n",
       "      <td>GCTGTCACCGGAATACCAGCATCGTCTTGATGCCCTTGGCAGTCCG...</td>\n",
       "      <td>1.33541</td>\n",
       "      <td>0.839686</td>\n",
       "      <td>0.628785</td>\n",
       "    </tr>\n",
       "    <tr>\n",
       "      <th>3</th>\n",
       "      <td>GCTGTCACCGGAATACCAGCATCGTCTTGATGCCCTTGGCAGTCCG...</td>\n",
       "      <td>1.57197</td>\n",
       "      <td>1.017030</td>\n",
       "      <td>0.646978</td>\n",
       "    </tr>\n",
       "    <tr>\n",
       "      <th>4</th>\n",
       "      <td>GCTGTCACCGGAATACCAGCATCGTCTTGATGCCCTTGGCAGTCCG...</td>\n",
       "      <td>1.15387</td>\n",
       "      <td>0.806151</td>\n",
       "      <td>0.698650</td>\n",
       "    </tr>\n",
       "  </tbody>\n",
       "</table>\n",
       "</div>"
      ],
      "text/plain": [
       "                                            Sequence  mu((1-)+(2-))  \\\n",
       "0  GCTGTCACCGGAATACCAGCATCGTCTTGATGCCCTTGGCAGTCCG...        1.67315   \n",
       "1  GCTGTCACCGGAATACCAGCATCGTCTTGATGCCCTTGGCAGTCCG...        1.65701   \n",
       "2  GCTGTCACCGGAATACCAGCATCGTCTTGATGCCCTTGGCAGTCCG...        1.33541   \n",
       "3  GCTGTCACCGGAATACCAGCATCGTCTTGATGCCCTTGGCAGTCCG...        1.57197   \n",
       "4  GCTGTCACCGGAATACCAGCATCGTCTTGATGCCCTTGGCAGTCCG...        1.15387   \n",
       "\n",
       "   mu((1+)+(2+))     Ratio  \n",
       "0       0.848279  0.506995  \n",
       "1       0.993929  0.599833  \n",
       "2       0.839686  0.628785  \n",
       "3       1.017030  0.646978  \n",
       "4       0.806151  0.698650  "
      ]
     },
     "execution_count": 19,
     "metadata": {},
     "output_type": "execute_result"
    }
   ],
   "source": [
    "dfs.head()"
   ]
  },
  {
   "cell_type": "code",
   "execution_count": 41,
   "metadata": {},
   "outputs": [
    {
     "data": {
      "text/plain": [
       "array(['GGACGAAACAGC'], dtype=object)"
      ]
     },
     "execution_count": 41,
     "metadata": {},
     "output_type": "execute_result"
    }
   ],
   "source": [
    "# check last 12 bases are GGACGAAACAGC for all sequences\n",
    "dfs['last12'] = dfs['Sequence'].str[-12:]\n",
    "dfs.last12.unique()\n",
    "#dfs.drop(columns = ['last12'])"
   ]
  },
  {
   "cell_type": "code",
   "execution_count": 66,
   "metadata": {},
   "outputs": [
    {
     "data": {
      "text/plain": [
       "0                              GATTCGTG\n",
       "1                              ATGGGGTG\n",
       "2                              CTTAGGCA\n",
       "3                              TTGTTCCC\n",
       "4                               GTTCCTG\n",
       "5                              ATGATCTC\n",
       "6                              AACATGAC\n",
       "7        ATACCAGCATCGTCTTGATGCCCTTGGCAG\n",
       "8                              CCTCTGAC\n",
       "9                              CATCGTCA\n",
       "10                             TTAATAAG\n",
       "11                             TGAAAAAT\n",
       "12                             ACCGCCTC\n",
       "13                             TCGTGCTT\n",
       "14       ATACCAGCATCGTCTTGATGCCCTTGGCAG\n",
       "15                              ATGCGTG\n",
       "16                             ACCTACTA\n",
       "17                             TACAGCTG\n",
       "18                              TAATCTG\n",
       "19                             GCCCACTT\n",
       "20                             CACAAGTT\n",
       "21                              CTGGCTC\n",
       "22                              CTGCCCT\n",
       "23                             TTCACTAG\n",
       "24                             ACCCATTC\n",
       "25                              TGTCCTG\n",
       "26                             GTTTTGTG\n",
       "27       ATACCAGCATCGTCTTGATGCCCTTGGCAG\n",
       "28       ATACCAGCATCGTCTTGATGCCCTTGGAAG\n",
       "29                             CTAGATGC\n",
       "                      ...              \n",
       "37000                          TGTAGTAG\n",
       "37001                          AGTCGTCC\n",
       "37002    ATACCAGCATCGTCTTGATGCCCTTGGAAG\n",
       "37003    ATACCAGCATCGTCTTGATGCCCTTGGAAG\n",
       "37004                           AACGCCG\n",
       "37005    ATACCAGCATCGTCTTGATGCCCTTGGCAG\n",
       "37006                          GAAGCTTA\n",
       "37007    ATACCAGCATCGTCTTGATGCCCTTGGCAG\n",
       "37008                          CGTATCAA\n",
       "37009    ATACCAGCATCGTCTTGATGCCCTTGGCAG\n",
       "37010                          CTCGCGAT\n",
       "37011    ATACCAGCATCGTCTTGATGCCCTTGGCAG\n",
       "37012                          GTTGAGCA\n",
       "37013    ATACCAGCATCGTCTTGATGCCCTTGGCAG\n",
       "37014                          CCAATATC\n",
       "37015                           CAACGAT\n",
       "37016                          GTATACCT\n",
       "37017                          AATTAACG\n",
       "37018    ATACCAGCATCGTCTTGATGCCCTTGGCAG\n",
       "37019    ATACCAGCATCGTCTTGATGCCCTTGGCAG\n",
       "37020    ATACCAGCATCGTCTTGATGCCCTTGGCAG\n",
       "37021                          ACCAGTCG\n",
       "37022    ATACCAGCATCGTCTTGATGCCCTTGGAAG\n",
       "37023    ATACCAGCATCGTCTTGATGCCCTTGGAAG\n",
       "37024    ATACCAGCATCGTCTTGATGCCCTTGGCAG\n",
       "37025    ATACCAGCATCGTCTTGATGCCCTTGGCAG\n",
       "37026                          CCTAATGA\n",
       "37027                           TGCTCCC\n",
       "37028    ATACCAGCATCGTCTTGATGCCCTTGGCAG\n",
       "37029                           TGTCTGC\n",
       "Name: splited, Length: 37030, dtype: object"
      ]
     },
     "execution_count": 66,
     "metadata": {},
     "output_type": "execute_result"
    }
   ],
   "source": [
    "dfs['splited'] = dfs['Sequence'].str.slice(stop = -12).str.split('CTGATGAGTCC').str[-1]\n",
    "len(dfs['splited'].unique())\n",
    "dfs['splited']"
   ]
  },
  {
   "cell_type": "code",
   "execution_count": 69,
   "metadata": {},
   "outputs": [
    {
     "data": {
      "text/plain": [
       "12184"
      ]
     },
     "execution_count": 69,
     "metadata": {},
     "output_type": "execute_result"
    }
   ],
   "source": [
    "dfs['modified'] = dfs['splited'].str.split('ATACCAGCATCGTCTTGATGCC').str[-1]\n",
    "len(dfs['modified'].unique())\n",
    "#dfs['modified']"
   ]
  },
  {
   "cell_type": "code",
   "execution_count": 63,
   "metadata": {},
   "outputs": [
    {
     "data": {
      "text/html": [
       "<div>\n",
       "<style scoped>\n",
       "    .dataframe tbody tr th:only-of-type {\n",
       "        vertical-align: middle;\n",
       "    }\n",
       "\n",
       "    .dataframe tbody tr th {\n",
       "        vertical-align: top;\n",
       "    }\n",
       "\n",
       "    .dataframe thead th {\n",
       "        text-align: right;\n",
       "    }\n",
       "</style>\n",
       "<table border=\"1\" class=\"dataframe\">\n",
       "  <thead>\n",
       "    <tr style=\"text-align: right;\">\n",
       "      <th></th>\n",
       "      <th>Sequence</th>\n",
       "      <th>mu((1-)+(2-))</th>\n",
       "      <th>mu((1+)+(2+))</th>\n",
       "      <th>Ratio</th>\n",
       "      <th>last12</th>\n",
       "      <th>splited</th>\n",
       "      <th>modified</th>\n",
       "    </tr>\n",
       "  </thead>\n",
       "  <tbody>\n",
       "    <tr>\n",
       "      <th>0</th>\n",
       "      <td>GCTGTCACCGGAATACCAGCATCGTCTTGATGCCCTTGGCAGTCCG...</td>\n",
       "      <td>1.67315</td>\n",
       "      <td>0.848279</td>\n",
       "      <td>0.506995</td>\n",
       "      <td>GGACGAAACAGC</td>\n",
       "      <td>GATTCGTG</td>\n",
       "      <td>GATTCGTG</td>\n",
       "    </tr>\n",
       "    <tr>\n",
       "      <th>1</th>\n",
       "      <td>GCTGTCACCGGAATACCAGCATCGTCTTGATGCCCTTGGCAGTCCG...</td>\n",
       "      <td>1.65701</td>\n",
       "      <td>0.993929</td>\n",
       "      <td>0.599833</td>\n",
       "      <td>GGACGAAACAGC</td>\n",
       "      <td>ATGGGGTG</td>\n",
       "      <td>ATGGGGTG</td>\n",
       "    </tr>\n",
       "    <tr>\n",
       "      <th>2</th>\n",
       "      <td>GCTGTCACCGGAATACCAGCATCGTCTTGATGCCCTTGGCAGTCCG...</td>\n",
       "      <td>1.33541</td>\n",
       "      <td>0.839686</td>\n",
       "      <td>0.628785</td>\n",
       "      <td>GGACGAAACAGC</td>\n",
       "      <td>CTTAGGCA</td>\n",
       "      <td>CTTAGGCA</td>\n",
       "    </tr>\n",
       "    <tr>\n",
       "      <th>3</th>\n",
       "      <td>GCTGTCACCGGAATACCAGCATCGTCTTGATGCCCTTGGCAGTCCG...</td>\n",
       "      <td>1.57197</td>\n",
       "      <td>1.017030</td>\n",
       "      <td>0.646978</td>\n",
       "      <td>GGACGAAACAGC</td>\n",
       "      <td>TTGTTCCC</td>\n",
       "      <td>TTGTTCCC</td>\n",
       "    </tr>\n",
       "    <tr>\n",
       "      <th>4</th>\n",
       "      <td>GCTGTCACCGGAATACCAGCATCGTCTTGATGCCCTTGGCAGTCCG...</td>\n",
       "      <td>1.15387</td>\n",
       "      <td>0.806151</td>\n",
       "      <td>0.698650</td>\n",
       "      <td>GGACGAAACAGC</td>\n",
       "      <td>GTTCCTG</td>\n",
       "      <td>GTTCCTG</td>\n",
       "    </tr>\n",
       "  </tbody>\n",
       "</table>\n",
       "</div>"
      ],
      "text/plain": [
       "                                            Sequence  mu((1-)+(2-))  \\\n",
       "0  GCTGTCACCGGAATACCAGCATCGTCTTGATGCCCTTGGCAGTCCG...        1.67315   \n",
       "1  GCTGTCACCGGAATACCAGCATCGTCTTGATGCCCTTGGCAGTCCG...        1.65701   \n",
       "2  GCTGTCACCGGAATACCAGCATCGTCTTGATGCCCTTGGCAGTCCG...        1.33541   \n",
       "3  GCTGTCACCGGAATACCAGCATCGTCTTGATGCCCTTGGCAGTCCG...        1.57197   \n",
       "4  GCTGTCACCGGAATACCAGCATCGTCTTGATGCCCTTGGCAGTCCG...        1.15387   \n",
       "\n",
       "   mu((1+)+(2+))     Ratio        last12   splited  modified  \n",
       "0       0.848279  0.506995  GGACGAAACAGC  GATTCGTG  GATTCGTG  \n",
       "1       0.993929  0.599833  GGACGAAACAGC  ATGGGGTG  ATGGGGTG  \n",
       "2       0.839686  0.628785  GGACGAAACAGC  CTTAGGCA  CTTAGGCA  \n",
       "3       1.017030  0.646978  GGACGAAACAGC  TTGTTCCC  TTGTTCCC  \n",
       "4       0.806151  0.698650  GGACGAAACAGC   GTTCCTG   GTTCCTG  "
      ]
     },
     "execution_count": 63,
     "metadata": {},
     "output_type": "execute_result"
    }
   ],
   "source": [
    "dfs.head()"
   ]
  },
  {
   "cell_type": "code",
   "execution_count": 6,
   "metadata": {},
   "outputs": [],
   "source": [
    "# use one-hot-encoding of rbs1 and rbs2 as features\n",
    "X = df.iloc[:,2:26].astype(np.float64)\n",
    "\n",
    "# use FC as label \n",
    "# TODO: need to transform FC to give Gaussian Noise\n",
    "y = df['FC']"
   ]
  },
  {
   "cell_type": "code",
   "execution_count": 6,
   "metadata": {},
   "outputs": [],
   "source": [
    "X_train, X_test, y_train, y_test = train_test_split(X, y, test_size=0.2, random_state=42)"
   ]
  },
  {
   "cell_type": "markdown",
   "metadata": {},
   "source": [
    "### Histogram of noise"
   ]
  },
  {
   "cell_type": "code",
   "execution_count": 6,
   "metadata": {
    "scrolled": false
   },
   "outputs": [
    {
     "data": {
      "text/plain": [
       "(array([ 1.,  0.,  4.,  6., 16., 14., 10.,  5.,  3.,  1.]),\n",
       " array([-0.8822603 , -0.71868795, -0.55511559, -0.39154323, -0.22797088,\n",
       "        -0.06439852,  0.09917384,  0.26274619,  0.42631855,  0.58989091,\n",
       "         0.75346326]),\n",
       " <a list of 10 Patch objects>)"
      ]
     },
     "execution_count": 6,
     "metadata": {},
     "output_type": "execute_result"
    },
    {
     "data": {
      "image/png": "[encoded data removed]",
      "text/plain": [
       "<matplotlib.figure.Figure at 0x7f99dd9f26a0>"
      ]
     },
     "metadata": {},
     "output_type": "display_data"
    }
   ],
   "source": [
    "reg = LinearRegression().fit(X,y)\n",
    "plt.hist(y - reg.predict(X))"
   ]
  },
  {
   "cell_type": "markdown",
   "metadata": {},
   "source": [
    "### QQPlot on residual \n",
    "\n",
    "The QQ-Plot above shows the empirical residual is close to symmetric but with heavy tails (which verifies our assumption: FC is a ratio and unlikely to have a Gaussian noise). However, not much can really be done about it in terms of modeling (by simply multiplying the standard FC value to labels cannot give us a normal noise), but it may help with interpretation."
   ]
  },
  {
   "cell_type": "code",
   "execution_count": 7,
   "metadata": {},
   "outputs": [
    {
     "data": {
      "image/png": "[encoded data removed]",
      "text/plain": [
       "<matplotlib.figure.Figure at 0x7f99dda1f5c0>"
      ]
     },
     "metadata": {},
     "output_type": "display_data"
    }
   ],
   "source": [
    "sm.qqplot(y-reg.predict(X), line='45', scale = 0.35)\n",
    "\n",
    "#pylab.show()\n",
    "pylab.savefig('qqplot.png')"
   ]
  },
  {
   "cell_type": "markdown",
   "metadata": {},
   "source": [
    "## General Model Framework\n",
    "\n",
    "We will compare Linear Regression, Kernel Ridge Regression and Gaussian Process Regression model below, using packages in sklearn library. The evaluation method is R2 score. The best possible score is 1.0 and it can be negative (because the model can be arbitrarily worse). A constant model that always predicts the expected value of y, disregarding the input features, would get a R^2 score of 0.0."
   ]
  },
  {
   "cell_type": "code",
   "execution_count": 8,
   "metadata": {},
   "outputs": [],
   "source": [
    "def regression(model, X, y,is_print = True, is_plot = True):\n",
    "    \n",
    "    X_train, X_test, y_train, y_test = train_test_split(X, y, test_size=0.2, random_state=42)\n",
    "    \n",
    "    reg = model\n",
    "    reg.fit(X_train,y_train)\n",
    "    train_predict = reg.predict(X_train)\n",
    "    test_predict = reg.predict(X_test)\n",
    "\n",
    "    train_score = reg.score(X_train, y_train)\n",
    "    test_score = reg.score(X_test, y_test)\n",
    "    \n",
    "    if is_print:\n",
    "        print('Model: ', str(model))\n",
    "        print('train score: ', train_score)\n",
    "        print('test score: ', test_score)\n",
    "    \n",
    "    if is_plot:\n",
    "        plt.plot(test_predict, y_test, 'r.', label = 'test')\n",
    "        plt.plot(train_predict, y_train, 'b.', label = 'train')\n",
    "        plt.plot([0,2], [0,2], '--')\n",
    "        plt.plot([0,2], [1,1], 'k--')\n",
    "        plt.plot([1,1], [0,2], 'k--')\n",
    "        plt.xlabel('prediction')\n",
    "        plt.ylabel('true')\n",
    "        plt.xlim(0,2)\n",
    "        plt.ylim(0,2)\n",
    "        plt.legend()\n",
    "        \n",
    "    return test_score"
   ]
  },
  {
   "cell_type": "markdown",
   "metadata": {},
   "source": [
    "### Linear regression\n"
   ]
  },
  {
   "cell_type": "code",
   "execution_count": 9,
   "metadata": {},
   "outputs": [
    {
     "name": "stdout",
     "output_type": "stream",
     "text": [
      "Model:  LinearRegression(copy_X=True, fit_intercept=True, n_jobs=1, normalize=False)\n",
      "train score:  0.7685109930382291\n",
      "test score:  0.7411726652568567\n"
     ]
    },
    {
     "data": {
      "text/plain": [
       "0.7411726652568567"
      ]
     },
     "execution_count": 9,
     "metadata": {},
     "output_type": "execute_result"
    },
    {
     "data": {
      "image/png": "[encoded data removed]",
      "text/plain": [
       "<matplotlib.figure.Figure at 0x7f99d911a898>"
      ]
     },
     "metadata": {},
     "output_type": "display_data"
    }
   ],
   "source": [
    "regression(LinearRegression(), X, y)"
   ]
  },
  {
   "cell_type": "markdown",
   "metadata": {},
   "source": [
    " ### Kernel Ridge"
   ]
  },
  {
   "cell_type": "code",
   "execution_count": 10,
   "metadata": {},
   "outputs": [
    {
     "name": "stdout",
     "output_type": "stream",
     "text": [
      "Model:  KernelRidge(alpha=1, coef0=1, degree=3, gamma=None, kernel='rbf',\n",
      "      kernel_params=None)\n",
      "train score:  0.6832510522293269\n",
      "test score:  0.614723108043854\n"
     ]
    },
    {
     "data": {
      "text/plain": [
       "0.614723108043854"
      ]
     },
     "execution_count": 10,
     "metadata": {},
     "output_type": "execute_result"
    },
    {
     "data": {
      "image/png": "[encoded data removed]",
      "text/plain": [
       "<matplotlib.figure.Figure at 0x7f99d91f1f28>"
      ]
     },
     "metadata": {},
     "output_type": "display_data"
    }
   ],
   "source": [
    "regression(KernelRidge(kernel = 'rbf'), X, y)"
   ]
  },
  {
   "cell_type": "code",
   "execution_count": 16,
   "metadata": {},
   "outputs": [
    {
     "name": "stdout",
     "output_type": "stream",
     "text": [
      "Model:  KernelRidge(alpha=1, coef0=1, degree=3, gamma=None, kernel='linear',\n",
      "      kernel_params=None)\n",
      "train score:  0.7672029332962823\n",
      "test score:  0.745743092642517\n"
     ]
    },
    {
     "data": {
      "text/plain": [
       "0.745743092642517"
      ]
     },
     "execution_count": 16,
     "metadata": {},
     "output_type": "execute_result"
    },
    {
     "data": {
      "image/png": "[encoded data removed]",
      "text/plain": [
       "<matplotlib.figure.Figure at 0x7f99d91f1cc0>"
      ]
     },
     "metadata": {},
     "output_type": "display_data"
    }
   ],
   "source": [
    "regression(KernelRidge(kernel = 'linear'), X, y)"
   ]
  },
  {
   "cell_type": "markdown",
   "metadata": {},
   "source": [
    "### Gaussian Process Regression"
   ]
  },
  {
   "cell_type": "code",
   "execution_count": 11,
   "metadata": {},
   "outputs": [
    {
     "name": "stdout",
     "output_type": "stream",
     "text": [
      "Model:  GaussianProcessRegressor(alpha=1e-10, copy_X_train=True,\n",
      "             kernel=RBF(length_scale=2), n_restarts_optimizer=0,\n",
      "             normalize_y=False, optimizer='fmin_l_bfgs_b',\n",
      "             random_state=None)\n",
      "train score:  0.9335498788584558\n",
      "test score:  0.44968446093294157\n"
     ]
    },
    {
     "data": {
      "text/plain": [
       "0.44968446093294157"
      ]
     },
     "execution_count": 11,
     "metadata": {},
     "output_type": "execute_result"
    },
    {
     "data": {
      "image/png": "[encoded data removed]",
      "text/plain": [
       "<matplotlib.figure.Figure at 0x7f99d9091ef0>"
      ]
     },
     "metadata": {},
     "output_type": "display_data"
    }
   ],
   "source": [
    "regression(GaussianProcessRegressor(kernel=RBF(2)), X, y)"
   ]
  },
  {
   "cell_type": "code",
   "execution_count": 20,
   "metadata": {},
   "outputs": [
    {
     "name": "stdout",
     "output_type": "stream",
     "text": [
      "Model:  GaussianProcessRegressor(alpha=1e-10, copy_X_train=True,\n",
      "             kernel=DotProduct(sigma_0=1), n_restarts_optimizer=0,\n",
      "             normalize_y=False, optimizer='fmin_l_bfgs_b',\n",
      "             random_state=None)\n",
      "train score:  0.7685632155202883\n",
      "test score:  0.7411887716467636\n"
     ]
    },
    {
     "data": {
      "text/plain": [
       "0.7411887716467636"
      ]
     },
     "execution_count": 20,
     "metadata": {},
     "output_type": "execute_result"
    },
    {
     "data": {
      "image/png": "[encoded data removed]",
      "text/plain": [
       "<matplotlib.figure.Figure at 0x7f99d917f7f0>"
      ]
     },
     "metadata": {},
     "output_type": "display_data"
    }
   ],
   "source": [
    "regression(GaussianProcessRegressor(kernel= DotProduct()), X, y)"
   ]
  },
  {
   "cell_type": "markdown",
   "metadata": {},
   "source": [
    "### Picking a good gamma value (tune bandwidth of rbf kernel)\n",
    "\n",
    "use the idea and code from https://github.com/chengsoonong/didbits/blob/master/Estimation/SVM_rbf_gamma.ipynb\n",
    "\n",
    "To pick a good ``gamma`` value, we would use cross validation. To do cross validation, we need to know what range sensible ``gamma`` values lie in.\n",
    "To find this range, we use a heuristic.\n",
    "We want the influence of each datapoint to extend over some but not all of the dataset -- that is, we want ``gamma`` to be some value such that $\\gamma||x-y||^2$ is neither very large nor very small.\n",
    "\n",
    "We thus want $\\frac{1}{\\gamma}$ to be of similar magnitude to \"typical\" values of $||x-y||^2$.\n",
    "\n",
    "In the sklearn library, RBF is defined with length scale $\\alpha$, $$k(x_i, x_j) = exp(-1 / 2 d(x_i / \\alpha, x_j / \\alpha)^2)$$\n",
    "\n",
    "thus $\\alpha = 1/ \\sqrt{2\\gamma}$"
   ]
  },
  {
   "cell_type": "code",
   "execution_count": 12,
   "metadata": {},
   "outputs": [
    {
     "name": "stdout",
     "output_type": "stream",
     "text": [
      "gamma values:  [ 0.  2.  4.  6.  8. 10. 12.]\n",
      "alpha values:  [0.0, 1.0, 1.4142135623730951, 1.7320508075688772, 2.0, 2.23606797749979, 2.449489742783178, 0.001, 0.01, 40, 400]\n"
     ]
    }
   ],
   "source": [
    "pairs = itertools.combinations(X.as_matrix(), r=2)\n",
    "distances = [np.linalg.norm(a-b)**2 for a,b in pairs]\n",
    "distances.sort()\n",
    "gamma_values = np.unique(distances)\n",
    "alpha_values = list(np.sqrt(1.0/2 * gamma_values))\n",
    "alpha_values.extend([0.001, 0.01, 40, 400])\n",
    "\n",
    "print('gamma values: ', gamma_values)\n",
    "print('alpha values: ', alpha_values)"
   ]
  },
  {
   "cell_type": "markdown",
   "metadata": {},
   "source": [
    "We see that the distances between oints in the dataset are discrete and from 0 to 12. Alpha values are between 0 and 2.5. We show the performance of Gaussian process with these ``gamma`` values. \n",
    "\n",
    "We also extend the ``gamma`` values of 0.001, 0.01, 40, 400 to values outside this range."
   ]
  },
  {
   "cell_type": "code",
   "execution_count": 13,
   "metadata": {},
   "outputs": [
    {
     "name": "stderr",
     "output_type": "stream",
     "text": [
      "/home/admin-u6015325/anaconda3/lib/python3.6/site-packages/sklearn/gaussian_process/gpr.py:427: UserWarning: fmin_l_bfgs_b terminated abnormally with the  state: {'grad': array([-10645.28409195]), 'task': b'ABNORMAL_TERMINATION_IN_LNSRCH', 'funcalls': 49, 'nit': 1, 'warnflag': 2}\n",
      "  \" state: %s\" % convergence_dict)\n",
      "/home/admin-u6015325/anaconda3/lib/python3.6/site-packages/sklearn/gaussian_process/gpr.py:427: UserWarning: fmin_l_bfgs_b terminated abnormally with the  state: {'grad': array([2430.93181419]), 'task': b'ABNORMAL_TERMINATION_IN_LNSRCH', 'funcalls': 44, 'nit': 1, 'warnflag': 2}\n",
      "  \" state: %s\" % convergence_dict)\n"
     ]
    },
    {
     "data": {
      "text/plain": [
       "[-1.534879494623354,\n",
       " 0.5467493474214127,\n",
       " 0.5501279868643135,\n",
       " 0.44968446093294157,\n",
       " -1.534879494623354,\n",
       " 0.3757466949339278,\n",
       " -1.534879494623354,\n",
       " -1.534879494623354,\n",
       " -1.534879494623354,\n",
       " -1.534879494623354]"
      ]
     },
     "execution_count": 13,
     "metadata": {},
     "output_type": "execute_result"
    }
   ],
   "source": [
    "test_scores = []\n",
    "for alpha in alpha_values:\n",
    "    if alpha != 0:\n",
    "        score = regression(GaussianProcessRegressor(kernel=RBF(alpha)), X, y, is_print=False, is_plot = False)\n",
    "        test_scores.append(score)\n",
    "test_scores"
   ]
  },
  {
   "cell_type": "markdown",
   "metadata": {},
   "source": [
    "From above we observe alpha from 1 to have a high test R2 score, then we try alpha inside of np.arange(1,2,0.1)"
   ]
  },
  {
   "cell_type": "code",
   "execution_count": 14,
   "metadata": {},
   "outputs": [
    {
     "name": "stderr",
     "output_type": "stream",
     "text": [
      "/home/admin-u6015325/anaconda3/lib/python3.6/site-packages/sklearn/gaussian_process/gpr.py:427: UserWarning: fmin_l_bfgs_b terminated abnormally with the  state: {'grad': array([1437.58255196]), 'task': b'ABNORMAL_TERMINATION_IN_LNSRCH', 'funcalls': 21, 'nit': 0, 'warnflag': 2}\n",
      "  \" state: %s\" % convergence_dict)\n"
     ]
    },
    {
     "data": {
      "text/plain": [
       "[-1.534879494623354,\n",
       " -1.5160390508772201,\n",
       " 0.5540270148183457,\n",
       " -1.534879494623354,\n",
       " 0.5481878282598727,\n",
       " 0.5351272683335561,\n",
       " -1.534879494623354,\n",
       " 0.5448009425573644,\n",
       " -1.534879494623354,\n",
       " -1.534879494623354]"
      ]
     },
     "execution_count": 14,
     "metadata": {},
     "output_type": "execute_result"
    }
   ],
   "source": [
    "test_scores = []\n",
    "\n",
    "for alpha in np.arange(1,2,0.1):\n",
    "    if alpha != 0:\n",
    "        score = regression(GaussianProcessRegressor(kernel=RBF(alpha)), X, y, is_print=False, is_plot = False)\n",
    "        test_scores.append(score)\n",
    "        \n",
    "test_scores"
   ]
  },
  {
   "cell_type": "code",
   "execution_count": 15,
   "metadata": {},
   "outputs": [
    {
     "data": {
      "text/plain": [
       "<matplotlib.text.Text at 0x7f99cadde470>"
      ]
     },
     "execution_count": 15,
     "metadata": {},
     "output_type": "execute_result"
    },
    {
     "data": {
      "image/png": "[encoded data removed]",
      "text/plain": [
       "<matplotlib.figure.Figure at 0x7f99cbb27128>"
      ]
     },
     "metadata": {},
     "output_type": "display_data"
    }
   ],
   "source": [
    "plt.plot(np.arange(1,2,0.1), test_scores, '.-')\n",
    "plt.xlabel('alpha')\n",
    "plt.ylabel('R2 score')\n",
    "plt.title('Gaussian Process Regression with RBF kernel')"
   ]
  },
  {
   "cell_type": "markdown",
   "metadata": {},
   "source": [
    "It's weird there seems to be no continuous regions of alpha providing a relatively high R2 score. But in all, there is no alpha can let GPR give more than 0.5 R2 test score, while the train score is high (around 0.9). The GPR model is overfit to training data. "
   ]
  },
  {
   "cell_type": "code",
   "execution_count": null,
   "metadata": {},
   "outputs": [],
   "source": []
  }
 ],
 "metadata": {
  "kernelspec": {
   "display_name": "Python 3",
   "language": "python",
   "name": "python3"
  },
  "language_info": {
   "codemirror_mode": {
    "name": "ipython",
    "version": 3
   },
   "file_extension": ".py",
   "mimetype": "text/x-python",
   "name": "python",
   "nbconvert_exporter": "python",
   "pygments_lexer": "ipython3",
   "version": "3.7.3"
  }
 },
 "nbformat": 4,
 "nbformat_minor": 2
}
