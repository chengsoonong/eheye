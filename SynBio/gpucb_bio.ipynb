{
 "cells": [
  {
   "cell_type": "code",
   "execution_count": 1,
   "metadata": {
    "collapsed": true
   },
   "outputs": [],
   "source": [
    "import numpy as np\n",
    "import pandas\n",
    "import matplotlib.pyplot as plt\n",
    "from sklearn.linear_model import LinearRegression\n",
    "from sklearn.kernel_ridge import KernelRidge\n",
    "from sklearn.gaussian_process.kernels import RBF\n",
    "from sklearn.model_selection import train_test_split\n",
    "from sklearn.metrics import r2_score\n",
    "#import statsmodels.api as sm\n",
    "import pylab \n",
    "import itertools\n",
    "import GPUCB_Bio\n",
    "from collections import defaultdict\n",
    "\n",
    "%matplotlib inline"
   ]
  },
  {
   "cell_type": "code",
   "execution_count": 2,
   "metadata": {
    "collapsed": true
   },
   "outputs": [],
   "source": [
    "df = pandas.read_csv('trainset.rbs1.v2.csv', delimiter=',')"
   ]
  },
  {
   "cell_type": "code",
   "execution_count": 3,
   "metadata": {
    "collapsed": false
   },
   "outputs": [
    {
     "data": {
      "text/html": [
       "<div>\n",
       "<style scoped>\n",
       "    .dataframe tbody tr th:only-of-type {\n",
       "        vertical-align: middle;\n",
       "    }\n",
       "\n",
       "    .dataframe tbody tr th {\n",
       "        vertical-align: top;\n",
       "    }\n",
       "\n",
       "    .dataframe thead th {\n",
       "        text-align: right;\n",
       "    }\n",
       "</style>\n",
       "<table border=\"1\" class=\"dataframe\">\n",
       "  <thead>\n",
       "    <tr style=\"text-align: right;\">\n",
       "      <th></th>\n",
       "      <th>Construct</th>\n",
       "      <th>Barcode</th>\n",
       "      <th>rbs1_1_A</th>\n",
       "      <th>rbs1_1_C</th>\n",
       "      <th>rbs1_1_G</th>\n",
       "      <th>rbs1_1_T</th>\n",
       "      <th>rbs1_2_A</th>\n",
       "      <th>rbs1_2_C</th>\n",
       "      <th>rbs1_2_G</th>\n",
       "      <th>rbs1_2_T</th>\n",
       "      <th>...</th>\n",
       "      <th>rbs2_3_A</th>\n",
       "      <th>rbs2_3_C</th>\n",
       "      <th>rbs2_3_G</th>\n",
       "      <th>rbs2_3_T</th>\n",
       "      <th>Group</th>\n",
       "      <th>ODind</th>\n",
       "      <th>ODhar</th>\n",
       "      <th>FC</th>\n",
       "      <th>rbs1</th>\n",
       "      <th>rbs2</th>\n",
       "    </tr>\n",
       "  </thead>\n",
       "  <tbody>\n",
       "    <tr>\n",
       "      <th>0</th>\n",
       "      <td>RBS629</td>\n",
       "      <td>77DD32</td>\n",
       "      <td>0</td>\n",
       "      <td>0</td>\n",
       "      <td>1</td>\n",
       "      <td>0</td>\n",
       "      <td>0</td>\n",
       "      <td>0</td>\n",
       "      <td>1</td>\n",
       "      <td>0</td>\n",
       "      <td>...</td>\n",
       "      <td>0</td>\n",
       "      <td>0</td>\n",
       "      <td>1</td>\n",
       "      <td>0</td>\n",
       "      <td>Top</td>\n",
       "      <td>0.410</td>\n",
       "      <td>4.523</td>\n",
       "      <td>1.437982</td>\n",
       "      <td>GGG</td>\n",
       "      <td>GGG</td>\n",
       "    </tr>\n",
       "    <tr>\n",
       "      <th>1</th>\n",
       "      <td>RBS678</td>\n",
       "      <td>77DD39</td>\n",
       "      <td>0</td>\n",
       "      <td>0</td>\n",
       "      <td>1</td>\n",
       "      <td>0</td>\n",
       "      <td>0</td>\n",
       "      <td>0</td>\n",
       "      <td>1</td>\n",
       "      <td>0</td>\n",
       "      <td>...</td>\n",
       "      <td>0</td>\n",
       "      <td>0</td>\n",
       "      <td>1</td>\n",
       "      <td>0</td>\n",
       "      <td>Top</td>\n",
       "      <td>0.359</td>\n",
       "      <td>2.678</td>\n",
       "      <td>1.277175</td>\n",
       "      <td>GGG</td>\n",
       "      <td>GGG</td>\n",
       "    </tr>\n",
       "    <tr>\n",
       "      <th>2</th>\n",
       "      <td>RBS353</td>\n",
       "      <td>77DD18</td>\n",
       "      <td>0</td>\n",
       "      <td>0</td>\n",
       "      <td>1</td>\n",
       "      <td>0</td>\n",
       "      <td>0</td>\n",
       "      <td>0</td>\n",
       "      <td>1</td>\n",
       "      <td>0</td>\n",
       "      <td>...</td>\n",
       "      <td>0</td>\n",
       "      <td>0</td>\n",
       "      <td>1</td>\n",
       "      <td>0</td>\n",
       "      <td>Top</td>\n",
       "      <td>0.334</td>\n",
       "      <td>1.745</td>\n",
       "      <td>1.545141</td>\n",
       "      <td>GGC</td>\n",
       "      <td>GGG</td>\n",
       "    </tr>\n",
       "    <tr>\n",
       "      <th>3</th>\n",
       "      <td>RBS403</td>\n",
       "      <td>77DD20</td>\n",
       "      <td>0</td>\n",
       "      <td>0</td>\n",
       "      <td>1</td>\n",
       "      <td>0</td>\n",
       "      <td>0</td>\n",
       "      <td>0</td>\n",
       "      <td>1</td>\n",
       "      <td>0</td>\n",
       "      <td>...</td>\n",
       "      <td>1</td>\n",
       "      <td>0</td>\n",
       "      <td>0</td>\n",
       "      <td>0</td>\n",
       "      <td>Top</td>\n",
       "      <td>0.390</td>\n",
       "      <td>2.166</td>\n",
       "      <td>1.670098</td>\n",
       "      <td>GGC</td>\n",
       "      <td>GGA</td>\n",
       "    </tr>\n",
       "    <tr>\n",
       "      <th>4</th>\n",
       "      <td>RBS500</td>\n",
       "      <td>77DD24</td>\n",
       "      <td>0</td>\n",
       "      <td>0</td>\n",
       "      <td>1</td>\n",
       "      <td>0</td>\n",
       "      <td>0</td>\n",
       "      <td>0</td>\n",
       "      <td>1</td>\n",
       "      <td>0</td>\n",
       "      <td>...</td>\n",
       "      <td>0</td>\n",
       "      <td>1</td>\n",
       "      <td>0</td>\n",
       "      <td>0</td>\n",
       "      <td>Top</td>\n",
       "      <td>0.375</td>\n",
       "      <td>2.348</td>\n",
       "      <td>1.621230</td>\n",
       "      <td>GGC</td>\n",
       "      <td>GGC</td>\n",
       "    </tr>\n",
       "  </tbody>\n",
       "</table>\n",
       "<p>5 rows × 32 columns</p>\n",
       "</div>"
      ],
      "text/plain": [
       "  Construct Barcode  rbs1_1_A  rbs1_1_C  rbs1_1_G  rbs1_1_T  rbs1_2_A  \\\n",
       "0    RBS629  77DD32         0         0         1         0         0   \n",
       "1    RBS678  77DD39         0         0         1         0         0   \n",
       "2    RBS353  77DD18         0         0         1         0         0   \n",
       "3    RBS403  77DD20         0         0         1         0         0   \n",
       "4    RBS500  77DD24         0         0         1         0         0   \n",
       "\n",
       "   rbs1_2_C  rbs1_2_G  rbs1_2_T  ...   rbs2_3_A  rbs2_3_C  rbs2_3_G  rbs2_3_T  \\\n",
       "0         0         1         0  ...          0         0         1         0   \n",
       "1         0         1         0  ...          0         0         1         0   \n",
       "2         0         1         0  ...          0         0         1         0   \n",
       "3         0         1         0  ...          1         0         0         0   \n",
       "4         0         1         0  ...          0         1         0         0   \n",
       "\n",
       "   Group  ODind  ODhar        FC  rbs1  rbs2  \n",
       "0    Top  0.410  4.523  1.437982   GGG   GGG  \n",
       "1    Top  0.359  2.678  1.277175   GGG   GGG  \n",
       "2    Top  0.334  1.745  1.545141   GGC   GGG  \n",
       "3    Top  0.390  2.166  1.670098   GGC   GGA  \n",
       "4    Top  0.375  2.348  1.621230   GGC   GGC  \n",
       "\n",
       "[5 rows x 32 columns]"
      ]
     },
     "execution_count": 3,
     "metadata": {},
     "output_type": "execute_result"
    }
   ],
   "source": [
    "df.head()"
   ]
  },
  {
   "cell_type": "code",
   "execution_count": 4,
   "metadata": {
    "collapsed": false
   },
   "outputs": [
    {
     "data": {
      "text/plain": [
       "(array([ 15.,   6.,   3.,   3.,   2.,   3.,   9.,   8.,   9.,   2.]),\n",
       " array([ 0.09209599,  0.27372471,  0.45535343,  0.63698214,  0.81861086,\n",
       "         1.00023958,  1.18186829,  1.36349701,  1.54512572,  1.72675444,\n",
       "         1.90838316]),\n",
       " <a list of 10 Patch objects>)"
      ]
     },
     "execution_count": 4,
     "metadata": {},
     "output_type": "execute_result"
    },
    {
     "data": {
      "image/png": "[encoded data removed]",
      "text/plain": [
       "<matplotlib.figure.Figure at 0x113fb0048>"
      ]
     },
     "metadata": {},
     "output_type": "display_data"
    }
   ],
   "source": [
    "plt.hist(df['FC'])"
   ]
  },
  {
   "cell_type": "markdown",
   "metadata": {},
   "source": [
    "### Independence test"
   ]
  },
  {
   "cell_type": "code",
   "execution_count": 5,
   "metadata": {
    "collapsed": true
   },
   "outputs": [],
   "source": [
    "# create rewards sampels from training set\n",
    "\n",
    "rbs1 = df['rbs1']\n",
    "rbs2 = df['rbs2']\n",
    "rbs1_u = rbs1.unique()\n",
    "rbs2_u = rbs2.unique()\n",
    "\n",
    "rewards_dict = defaultdict(list) # keys: rbs1+rbs2 string; values: list of FCs \n",
    "sorted_rewards_dict = defaultdict(list) \n",
    "arms = [] # e.g. 'AACGTC'\n",
    "arms_encoding = [] # e.g. '100010000100001000010100'\n",
    "\n",
    "for i in rbs1_u:\n",
    "    for j in rbs2_u:\n",
    "        values = list(df.loc[df['rbs1'] == i].loc[df['rbs2'] ==j]['FC'])\n",
    "        if len(values) > 0:\n",
    "            rewards_dict[i+j] = values\n",
    "            arms.append(i+j)\n",
    "arms = sorted(arms)\n",
    "\n",
    "for i in arms:\n",
    "    encodings = ''.join(str(e) for e in list(df.loc[df['rbs1'] ==  i[:3]].loc[df['rbs2'] == i[3:]].iloc[0,2:26]))\n",
    "    arms_encoding.append(encodings)\n",
    "    sorted_rewards_dict[i] = rewards_dict[i]"
   ]
  },
  {
   "cell_type": "code",
   "execution_count": 6,
   "metadata": {
    "collapsed": true
   },
   "outputs": [],
   "source": [
    "X = np.asarray(rbs1 + rbs2)\n",
    "Y = np.asarray(df['FC'])"
   ]
  },
  {
   "cell_type": "code",
   "execution_count": 7,
   "metadata": {
    "collapsed": true
   },
   "outputs": [],
   "source": [
    "\n",
    "def distance_arms(arm1, arm2):\n",
    "    assert len(arm1) == len(arm2)\n",
    "    distance = 0\n",
    "    for idx in range(len(arm1)):\n",
    "        if arm1[idx] != arm2[idx]:\n",
    "            distance += 1\n",
    "        \n",
    "    return distance\n",
    "\n",
    "def chisquare_arms(arm1, arm2):\n",
    "    return chisquare(rewards_dict[arm1], rewards_dict[arm2])\n",
    "\n",
    "def abs_diff(arm1, arm2):\n",
    "    #return np.abs(np.mean(rewards_dict[arm1]) - np.mean(rewards_dict[arm2]))\n",
    "    r1 = np.mean(rewards_dict[arm1])\n",
    "    r2 = np.mean(rewards_dict[arm2])\n",
    "    if r1 < r2:\n",
    "        return r1/r2\n",
    "    else:\n",
    "        return r2/r1\n",
    "        "
   ]
  },
  {
   "cell_type": "code",
   "execution_count": 8,
   "metadata": {
    "collapsed": true
   },
   "outputs": [],
   "source": [
    "from scipy.stats import chisquare\n",
    "\n",
    "distance_dict = {} # keys: (arm1, arm2), values: (distance of arms, chisquare of arms)\n",
    "new_dict = defaultdict(list) # keys: distances, values: sequences of scores\n",
    "\n",
    "distance_list = []\n",
    "score_list = []\n",
    "\n",
    "for i, arm_i in enumerate(arms):\n",
    "    for j, arm_j in enumerate(arms):\n",
    "        if j > i:\n",
    "            distance = distance_arms(arm_i, arm_j)\n",
    "            score = abs_diff(arm_i, arm_j)\n",
    "            distance_dict[(arm_i, arm_j)] = (distance, score)\n",
    "            new_dict[distance].append(score)\n",
    "            distance_list.append(distance)\n",
    "            score_list.append(score)"
   ]
  },
  {
   "cell_type": "code",
   "execution_count": 9,
   "metadata": {
    "collapsed": false,
    "scrolled": false
   },
   "outputs": [
    {
     "data": {
      "image/png": "[encoded data removed]",
      "text/plain": [
       "<matplotlib.figure.Figure at 0x1141986d8>"
      ]
     },
     "metadata": {},
     "output_type": "display_data"
    }
   ],
   "source": [
    "fig, ax = plt.subplots()\n",
    "\n",
    "new_list = []\n",
    "\n",
    "for key, value in new_dict.items():\n",
    "    new_list.append(value)\n",
    "ax.boxplot(new_list)\n",
    "\n",
    "plt.title('RBS Independence Test')\n",
    "plt.xlabel('arm distance')\n",
    "plt.ylabel('Similarity')\n",
    "plt.savefig('RBS_Independence_Test.png')"
   ]
  },
  {
   "cell_type": "markdown",
   "metadata": {},
   "source": [
    "The xlabel is the arm distance, which is between 0 and 6, counting by the number of different letters of each pair of RBS. ylabel is FC distance, which is the ratio between each arms' corresponding FC score (keeping ratios smaller than one (big one/small one), which is the similarity (approaching one means more similar).) The less the arm distance is, the more similar the FC it gets, which shows the RBS is relevant in terms of expressing FC."
   ]
  },
  {
   "cell_type": "markdown",
   "metadata": {},
   "source": [
    "## Kernels\n",
    "\n",
    "If there is some similarity between arms, then we can make use of that to do some ML on that. But before that, we need to figure out how to represent the similarities and which approach is our best choice. There are some candidate kernel methods: Linear, RBF, and some designed for bio sequences (mismatch kernel, ...)"
   ]
  },
  {
   "cell_type": "code",
   "execution_count": 10,
   "metadata": {
    "collapsed": false
   },
   "outputs": [],
   "source": [
    "from mismatch_kernel import MismatchKernel\n",
    "from mismatch_kernel import preprocess"
   ]
  },
  {
   "cell_type": "code",
   "execution_count": 11,
   "metadata": {
    "collapsed": false
   },
   "outputs": [
    {
     "data": {
      "text/plain": [
       "(60, 60)"
      ]
     },
     "execution_count": 11,
     "metadata": {},
     "output_type": "execute_result"
    }
   ],
   "source": [
    "l = 4 # for DNA/RNA sequence data\n",
    "k = 5 # for k-mers (substring of length k) \n",
    "m = 2 # maximum number of mismatches for 2 k-mers to be considered ‘similar’.\n",
    "\n",
    "int_seq = preprocess(X)\n",
    "mismatch_kernel = MismatchKernel(l=l, k=k, m=m).get_kernel(int_seq).kernel\n",
    "mismatch_kernel.shape"
   ]
  },
  {
   "cell_type": "code",
   "execution_count": 12,
   "metadata": {
    "collapsed": false
   },
   "outputs": [
    {
     "data": {
      "text/plain": [
       "array([[ 1.        ,  1.        ,  0.6036725 , ...,  0.13113384,\n",
       "         0.53041974,  0.39470894],\n",
       "       [ 1.        ,  1.        ,  0.6036725 , ...,  0.13113384,\n",
       "         0.53041974,  0.39470894],\n",
       "       [ 0.6036725 ,  0.6036725 ,  1.        , ...,  0.16136847,\n",
       "         0.46297226,  0.31428571],\n",
       "       ..., \n",
       "       [ 0.13113384,  0.13113384,  0.16136847, ...,  1.        ,\n",
       "         0.3715044 ,  0.36980274],\n",
       "       [ 0.53041974,  0.53041974,  0.46297226, ...,  0.3715044 ,\n",
       "         1.        ,  0.39466488],\n",
       "       [ 0.39470894,  0.39470894,  0.31428571, ...,  0.36980274,\n",
       "         0.39466488,  1.        ]])"
      ]
     },
     "execution_count": 12,
     "metadata": {},
     "output_type": "execute_result"
    }
   ],
   "source": [
    "mismatch_kernel"
   ]
  },
  {
   "cell_type": "code",
   "execution_count": 13,
   "metadata": {
    "collapsed": false
   },
   "outputs": [
    {
     "data": {
      "text/plain": [
       "0.81303924237836556"
      ]
     },
     "execution_count": 13,
     "metadata": {},
     "output_type": "execute_result"
    }
   ],
   "source": [
    "from sklearn.kernel_ridge import KernelRidge\n",
    "\n",
    "reg = KernelRidge(kernel = 'precomputed')\n",
    "reg.fit(mismatch_kernel, np.asarray(df['FC']))\n",
    "prediction = reg.predict(mismatch_kernel)\n",
    "reg.score(mismatch_kernel, Y)\n"
   ]
  },
  {
   "cell_type": "code",
   "execution_count": 14,
   "metadata": {
    "collapsed": false
   },
   "outputs": [
    {
     "name": "stderr",
     "output_type": "stream",
     "text": [
      "/Library/Frameworks/Python.framework/Versions/3.6/lib/python3.6/site-packages/matplotlib/axes/_axes.py:545: UserWarning: No labelled objects found. Use label='...' kwarg on individual plots.\n",
      "  warnings.warn(\"No labelled objects found. \"\n"
     ]
    },
    {
     "data": {
      "image/png": "[encoded data removed]",
      "text/plain": [
       "<matplotlib.figure.Figure at 0x114848240>"
      ]
     },
     "metadata": {},
     "output_type": "display_data"
    }
   ],
   "source": [
    "plt.plot(prediction, Y, '.')\n",
    "plt.plot([0,2], [0,2], '--')\n",
    "plt.plot([0,2], [1,1], 'k--')\n",
    "plt.plot([1,1], [0,2], 'k--')\n",
    "plt.xlabel('prediction')\n",
    "plt.ylabel('true')\n",
    "plt.xlim(0,2)\n",
    "plt.ylim(0,2)\n",
    "plt.legend()"
   ]
  },
  {
   "cell_type": "markdown",
   "metadata": {},
   "source": [
    "## GP-UCB\n",
    "\n",
    "Viewing rbs1 and rbs2 as a string of length 6, each letter cound be one of the \"A\", \"C\", \"G\", \"T\", then there are totoally $4^6 = 4096$ choices (arms). However, for training dataset we only get 43 choices of rbs1 + rbs2.\n",
    "\n",
    "So for this experiment, our assumption is we have 43 choices (arms), the distributions behind each arm is unknown but can be sampled from the sample set given from the training dataset (1 to 3 samples for each arm). The distributions are stored in a dictionary, with the string 'rbs1 + rbs2' as keys and a list of the sample rewards as values. Note the for each arm, the number of samples is different. Different samples are sampled with equal probablity (again, break the normal noise assumption here). The best arm is the arm with the highest average sample reward. We only initialise 10 arms randomly, otherwise we will know most of samples (considering that each arm only has one to three samples) before running the algorithm. \n",
    "\n",
    "We assume the arms are dependent (strings with small distance has big similarities), we use kernel to model the similarities (smoothness). \n",
    "\n",
    "Some choices of kernels are:\n",
    "\n",
    "* linear kernel\n",
    "* rbf \n",
    "* spectrum kernel (model sequences)\n",
    "\n",
    "TODO: However, I think it's important to apply biology knoweledge into modelling, e.g. what is the relationship between \"AAC\" and \"AAG\"?\n",
    "\n",
    "For now, let's use linear kernels to model GPs and illustrates an example. \n",
    "\n",
    "Issues: \n",
    "\n",
    "* we don't know the best actions! How do we evaluate regret?\n",
    "* the reward distribution of each arm is a ratio and not gaussian (see qqplot above), which breaks our GP assumption. Can we convert?\n",
    "* how to initialise? initalise once for each arm? I think it's ok to just random initially sample a subset, since we have too much arms (4096) and arms are dependent. \n",
    "\n",
    "Show: the objective, posterior mean and variance, acquisition function (maybe dynamic)"
   ]
  },
  {
   "cell_type": "code",
   "execution_count": 15,
   "metadata": {
    "collapsed": false
   },
   "outputs": [
    {
     "name": "stdout",
     "output_type": "stream",
     "text": [
      "There are totoally 43 unique combinations of rbs1 and rbs2.\n"
     ]
    }
   ],
   "source": [
    "num_arms = len(rewards_dict.keys())\n",
    "\n",
    "print('There are totoally', num_arms, 'unique combinations of rbs1 and rbs2.')\n",
    "\n",
    "class rewards_env():\n",
    "    def __init__(self, rewards_dict):\n",
    "        self.rewards = rewards_dict\n",
    "        \n",
    "    def decoding(self, code):\n",
    "        \"\"\"decoding arms: from one-hot encoding to strings\n",
    "        \n",
    "        code: list of one hot encoding\n",
    "        \n",
    "        Return: string\n",
    "        \"\"\"\n",
    "        return ''.join(str(e) for e in code)   \n",
    "        \n",
    "    def sample(self, idx):\n",
    "        prob = np.random.uniform(0,1)\n",
    "        idx = self.decoding(idx)\n",
    "        my_range = np.arange(0, 1, 1.0/len(self.rewards[idx]))\n",
    "    \n",
    "        for i in range(len(my_range)):\n",
    "            if i == len(my_range) - 1 and prob >= my_range[i]:\n",
    "                return self.rewards[idx][i]\n",
    "            elif prob >= my_range[i] and prob < my_range[i+1]:\n",
    "                return self.rewards[idx][i]\n",
    "            \n",
    "    def sample_withoutnoise(self, idx):\n",
    "        return np.mean(self.rewards[idx])\n",
    "        "
   ]
  },
  {
   "cell_type": "code",
   "execution_count": null,
   "metadata": {
    "collapsed": true
   },
   "outputs": [],
   "source": [
    "num_exper = 10\n",
    "num_round = 10\n",
    "num_init = 10   \n",
    "env = rewards_env(sorted_rewards_dict)"
   ]
  },
  {
   "cell_type": "code",
   "execution_count": null,
   "metadata": {
    "collapsed": false
   },
   "outputs": [
    {
     "name": "stdout",
     "output_type": "stream",
     "text": [
      "Parameter a =  0.5\n"
     ]
    },
    {
     "data": {
      "image/png": "[encoded data removed]",
      "text/plain": [
       "<matplotlib.figure.Figure at 0x1147a0898>"
      ]
     },
     "metadata": {},
     "output_type": "display_data"
    },
    {
     "data": {
      "image/png": "[encoded data removed]",
      "text/plain": [
       "<matplotlib.figure.Figure at 0x11441ecc0>"
      ]
     },
     "metadata": {},
     "output_type": "display_data"
    },
    {
     "data": {
      "image/png": "[encoded data removed]",
      "text/plain": [
       "<matplotlib.figure.Figure at 0x114745828>"
      ]
     },
     "metadata": {},
     "output_type": "display_data"
    }
   ],
   "source": [
    "#%%capture\n",
    "\n",
    "import warnings\n",
    "warnings.filterwarnings('ignore')\n",
    "\n",
    "#a_list = np.arange(1,10) * 0.1\n",
    "a_list = [0.5]\n",
    "\n",
    "f = plt.figure(figsize=(5, 4 * len(a_list)))\n",
    "\n",
    "for i, a in enumerate(a_list):\n",
    "    plt.subplot(len(a_list), 1, i+1)\n",
    "    print('Parameter a = ', a)\n",
    "    regrets = []\n",
    "    for e in range(num_exper):\n",
    "        init_list = np.random.randint(0,len(arms),num_init)\n",
    "        gpucb = GPUCB_Bio.GPUCB(env, arms, arms_encoding, num_round, init_list, delta = a)\n",
    "        gpucb.play()\n",
    "        regrets.append(gpucb.regret_list)\n",
    "        gpucb.plot()\n",
    "\n",
    "    regrets = np.asarray(regrets).reshape((num_exper, num_round))\n",
    "    ave_regrets = np.mean(regrets, axis = 0)\n",
    "    plt.xlabel('iteration')\n",
    "    plt.ylabel('regret')\n",
    "    plt.plot(range(len(ave_regrets)), ave_regrets)"
   ]
  },
  {
   "cell_type": "code",
   "execution_count": null,
   "metadata": {
    "collapsed": true
   },
   "outputs": [],
   "source": []
  }
 ],
 "metadata": {
  "kernelspec": {
   "display_name": "Python 3",
   "language": "python",
   "name": "python3"
  },
  "language_info": {
   "codemirror_mode": {
    "name": "ipython",
    "version": 3
   },
   "file_extension": ".py",
   "mimetype": "text/x-python",
   "name": "python",
   "nbconvert_exporter": "python",
   "pygments_lexer": "ipython3",
   "version": "3.6.0"
  }
 },
 "nbformat": 4,
 "nbformat_minor": 2
}
