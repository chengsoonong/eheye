{
 "cells": [
  {
   "cell_type": "markdown",
   "metadata": {},
   "source": [
    "# Regression on RBS sequences - Escherichia coli\n",
    "\n",
    "This notebook shows the regression of RBS sequences.\n",
    "\n",
    "There are several parts of the implementation. \n",
    "\n",
    "- Reading the dataset\n",
    "- Embedding\n",
    "    - Label\n",
    "    - One-hot embedding\n",
    "    - K-mer \n",
    "    - PMW (to be added)\n",
    "    - Unsupervised (to be added)\n",
    "- Kernels\n",
    "    - Spectrum\n",
    "    - Mixed Spectrum\n",
    "    - Weighted Degree\n",
    "    - Weighted Degree with Shifting\n",
    "- Evaluate\n",
    "    - R2 score\n",
    "    - Plot"
   ]
  },
  {
   "cell_type": "code",
   "execution_count": 1,
   "metadata": {},
   "outputs": [],
   "source": [
    "# direct to proper path\n",
    "import os\n",
    "import sys\n",
    "module_path = os.path.abspath(os.path.join('..'))\n",
    "if module_path not in sys.path:\n",
    "    sys.path.append(module_path)"
   ]
  },
  {
   "cell_type": "code",
   "execution_count": 2,
   "metadata": {},
   "outputs": [],
   "source": [
    "import numpy as np\n",
    "\n",
    "import pandas\n",
    "import matplotlib.pyplot as plt\n",
    "import itertools\n",
    "from collections import defaultdict\n",
    "\n",
    "from codes.embedding import Embedding\n",
    "from codes.environment import Rewards_env\n",
    "from codes.ucb import GPUCB\n",
    "from codes.evaluations import evaluate, plot_eva\n",
    "from codes.regression import Regression\n",
    "from codes.kernels_pairwise import spectrum_kernel_pw, mixed_spectrum_kernel_pw, WD_kernel_pw, WD_shift_kernel_pw\n",
    "\n",
    "from sklearn.gaussian_process import GaussianProcessRegressor\n",
    "from sklearn.gaussian_process.kernels import PairwiseKernel, DotProduct, RBF\n",
    "from sklearn.kernel_ridge import KernelRidge\n",
    "\n",
    "from ipywidgets import IntProgress\n",
    "from IPython.display import display\n",
    "import warnings\n",
    "%matplotlib inline"
   ]
  },
  {
   "cell_type": "markdown",
   "metadata": {},
   "source": [
    "## Reading the Dataset"
   ]
  },
  {
   "cell_type": "code",
   "execution_count": 3,
   "metadata": {},
   "outputs": [
    {
     "data": {
      "text/html": [
       "<div>\n",
       "<style scoped>\n",
       "    .dataframe tbody tr th:only-of-type {\n",
       "        vertical-align: middle;\n",
       "    }\n",
       "\n",
       "    .dataframe tbody tr th {\n",
       "        vertical-align: top;\n",
       "    }\n",
       "\n",
       "    .dataframe thead th {\n",
       "        text-align: right;\n",
       "    }\n",
       "</style>\n",
       "<table border=\"1\" class=\"dataframe\">\n",
       "  <thead>\n",
       "    <tr style=\"text-align: right;\">\n",
       "      <th></th>\n",
       "      <th>Construct</th>\n",
       "      <th>Barcode</th>\n",
       "      <th>rbs1_1_A</th>\n",
       "      <th>rbs1_1_C</th>\n",
       "      <th>rbs1_1_G</th>\n",
       "      <th>rbs1_1_T</th>\n",
       "      <th>rbs1_2_A</th>\n",
       "      <th>rbs1_2_C</th>\n",
       "      <th>rbs1_2_G</th>\n",
       "      <th>rbs1_2_T</th>\n",
       "      <th>...</th>\n",
       "      <th>rbs2_3_A</th>\n",
       "      <th>rbs2_3_C</th>\n",
       "      <th>rbs2_3_G</th>\n",
       "      <th>rbs2_3_T</th>\n",
       "      <th>Group</th>\n",
       "      <th>ODind</th>\n",
       "      <th>ODhar</th>\n",
       "      <th>FC</th>\n",
       "      <th>rbs1</th>\n",
       "      <th>rbs2</th>\n",
       "    </tr>\n",
       "  </thead>\n",
       "  <tbody>\n",
       "    <tr>\n",
       "      <th>0</th>\n",
       "      <td>RBS629</td>\n",
       "      <td>77DD32</td>\n",
       "      <td>0</td>\n",
       "      <td>0</td>\n",
       "      <td>1</td>\n",
       "      <td>0</td>\n",
       "      <td>0</td>\n",
       "      <td>0</td>\n",
       "      <td>1</td>\n",
       "      <td>0</td>\n",
       "      <td>...</td>\n",
       "      <td>0</td>\n",
       "      <td>0</td>\n",
       "      <td>1</td>\n",
       "      <td>0</td>\n",
       "      <td>Top</td>\n",
       "      <td>0.410</td>\n",
       "      <td>4.523</td>\n",
       "      <td>1.437982</td>\n",
       "      <td>GGG</td>\n",
       "      <td>GGG</td>\n",
       "    </tr>\n",
       "    <tr>\n",
       "      <th>1</th>\n",
       "      <td>RBS678</td>\n",
       "      <td>77DD39</td>\n",
       "      <td>0</td>\n",
       "      <td>0</td>\n",
       "      <td>1</td>\n",
       "      <td>0</td>\n",
       "      <td>0</td>\n",
       "      <td>0</td>\n",
       "      <td>1</td>\n",
       "      <td>0</td>\n",
       "      <td>...</td>\n",
       "      <td>0</td>\n",
       "      <td>0</td>\n",
       "      <td>1</td>\n",
       "      <td>0</td>\n",
       "      <td>Top</td>\n",
       "      <td>0.359</td>\n",
       "      <td>2.678</td>\n",
       "      <td>1.277175</td>\n",
       "      <td>GGG</td>\n",
       "      <td>GGG</td>\n",
       "    </tr>\n",
       "    <tr>\n",
       "      <th>2</th>\n",
       "      <td>RBS353</td>\n",
       "      <td>77DD18</td>\n",
       "      <td>0</td>\n",
       "      <td>0</td>\n",
       "      <td>1</td>\n",
       "      <td>0</td>\n",
       "      <td>0</td>\n",
       "      <td>0</td>\n",
       "      <td>1</td>\n",
       "      <td>0</td>\n",
       "      <td>...</td>\n",
       "      <td>0</td>\n",
       "      <td>0</td>\n",
       "      <td>1</td>\n",
       "      <td>0</td>\n",
       "      <td>Top</td>\n",
       "      <td>0.334</td>\n",
       "      <td>1.745</td>\n",
       "      <td>1.545141</td>\n",
       "      <td>GGC</td>\n",
       "      <td>GGG</td>\n",
       "    </tr>\n",
       "    <tr>\n",
       "      <th>3</th>\n",
       "      <td>RBS403</td>\n",
       "      <td>77DD20</td>\n",
       "      <td>0</td>\n",
       "      <td>0</td>\n",
       "      <td>1</td>\n",
       "      <td>0</td>\n",
       "      <td>0</td>\n",
       "      <td>0</td>\n",
       "      <td>1</td>\n",
       "      <td>0</td>\n",
       "      <td>...</td>\n",
       "      <td>1</td>\n",
       "      <td>0</td>\n",
       "      <td>0</td>\n",
       "      <td>0</td>\n",
       "      <td>Top</td>\n",
       "      <td>0.390</td>\n",
       "      <td>2.166</td>\n",
       "      <td>1.670098</td>\n",
       "      <td>GGC</td>\n",
       "      <td>GGA</td>\n",
       "    </tr>\n",
       "    <tr>\n",
       "      <th>4</th>\n",
       "      <td>RBS500</td>\n",
       "      <td>77DD24</td>\n",
       "      <td>0</td>\n",
       "      <td>0</td>\n",
       "      <td>1</td>\n",
       "      <td>0</td>\n",
       "      <td>0</td>\n",
       "      <td>0</td>\n",
       "      <td>1</td>\n",
       "      <td>0</td>\n",
       "      <td>...</td>\n",
       "      <td>0</td>\n",
       "      <td>1</td>\n",
       "      <td>0</td>\n",
       "      <td>0</td>\n",
       "      <td>Top</td>\n",
       "      <td>0.375</td>\n",
       "      <td>2.348</td>\n",
       "      <td>1.621230</td>\n",
       "      <td>GGC</td>\n",
       "      <td>GGC</td>\n",
       "    </tr>\n",
       "  </tbody>\n",
       "</table>\n",
       "<p>5 rows × 32 columns</p>\n",
       "</div>"
      ],
      "text/plain": [
       "  Construct Barcode  rbs1_1_A  rbs1_1_C  rbs1_1_G  rbs1_1_T  rbs1_2_A  \\\n",
       "0    RBS629  77DD32         0         0         1         0         0   \n",
       "1    RBS678  77DD39         0         0         1         0         0   \n",
       "2    RBS353  77DD18         0         0         1         0         0   \n",
       "3    RBS403  77DD20         0         0         1         0         0   \n",
       "4    RBS500  77DD24         0         0         1         0         0   \n",
       "\n",
       "   rbs1_2_C  rbs1_2_G  rbs1_2_T  ...  rbs2_3_A  rbs2_3_C  rbs2_3_G  rbs2_3_T  \\\n",
       "0         0         1         0  ...         0         0         1         0   \n",
       "1         0         1         0  ...         0         0         1         0   \n",
       "2         0         1         0  ...         0         0         1         0   \n",
       "3         0         1         0  ...         1         0         0         0   \n",
       "4         0         1         0  ...         0         1         0         0   \n",
       "\n",
       "   Group  ODind  ODhar        FC  rbs1  rbs2  \n",
       "0    Top  0.410  4.523  1.437982   GGG   GGG  \n",
       "1    Top  0.359  2.678  1.277175   GGG   GGG  \n",
       "2    Top  0.334  1.745  1.545141   GGC   GGG  \n",
       "3    Top  0.390  2.166  1.670098   GGC   GGA  \n",
       "4    Top  0.375  2.348  1.621230   GGC   GGC  \n",
       "\n",
       "[5 rows x 32 columns]"
      ]
     },
     "execution_count": 3,
     "metadata": {},
     "output_type": "execute_result"
    }
   ],
   "source": [
    "# Data downloaded from https://github.com/synbiochem/opt-mva\n",
    "# Paper https://pubs.acs.org/doi/abs/10.1021/acssynbio.8b00398\n",
    "\n",
    "Path = '../data/trainset.rbs1.v2.csv'\n",
    "\n",
    "df = pandas.read_csv(Path, delimiter=',')\n",
    "df.head()"
   ]
  },
  {
   "cell_type": "code",
   "execution_count": 4,
   "metadata": {},
   "outputs": [
    {
     "data": {
      "text/plain": [
       "(60, 2)"
      ]
     },
     "execution_count": 4,
     "metadata": {},
     "output_type": "execute_result"
    }
   ],
   "source": [
    "df['RBS'] = df['rbs1'] + df['rbs2']\n",
    "data = np.asarray(df[['RBS', 'FC']])\n",
    "data.shape"
   ]
  },
  {
   "cell_type": "markdown",
   "metadata": {},
   "source": [
    "## Regression with cross validation\n",
    "\n",
    "- Kernel Ridge Regression\n",
    "- Gaussian Process Regression\n",
    "\n",
    "Leave one out cross validation with shuffle.   \n",
    "k = 10   \n",
    "test size = 0.2"
   ]
  },
  {
   "cell_type": "code",
   "execution_count": 5,
   "metadata": {},
   "outputs": [],
   "source": [
    "cross_val_flag = True\n",
    "plot_flag = False\n",
    "kernels = [spectrum_kernel_pw, mixed_spectrum_kernel_pw, WD_kernel_pw, WD_shift_kernel_pw]\n",
    "k = 5"
   ]
  },
  {
   "cell_type": "markdown",
   "metadata": {},
   "source": [
    "### Kernel Ridge Regression "
   ]
  },
  {
   "cell_type": "code",
   "execution_count": 6,
   "metadata": {},
   "outputs": [
    {
     "name": "stdout",
     "output_type": "stream",
     "text": [
      "Model:  KernelRidge(alpha=1, coef0=1, degree=3, gamma=None,\n",
      "            kernel=DotProduct(sigma_0=1), kernel_params=None)\n",
      "[0.25814044 0.37372984 0.36235549 0.32939539 0.21600309]\n",
      "RMSE : 0.31 (+/- 0.12)\n"
     ]
    }
   ],
   "source": [
    "# Baseline: onehot embedding with DotProduct kernel\n",
    "\n",
    "reg = Regression(KernelRidge(kernel = DotProduct()), data, 'onehot')\n",
    "reg.train()\n",
    "reg.evaluate(cross_val_flag = cross_val_flag, plot_flag = plot_flag, k = k)"
   ]
  },
  {
   "cell_type": "code",
   "execution_count": 7,
   "metadata": {},
   "outputs": [
    {
     "name": "stdout",
     "output_type": "stream",
     "text": [
      "Model:  KernelRidge(alpha=1, coef0=1, degree=3, gamma=None,\n",
      "            kernel=DotProduct(sigma_0=1), kernel_params=None)\n",
      "[0.28775011 0.46127207 0.34926709 0.33935598 0.19080109]\n",
      "RMSE : 0.33 (+/- 0.18)\n"
     ]
    }
   ],
   "source": [
    "# kmer embedding with DotProduct kernel (l = 3)\n",
    "\n",
    "reg = Regression(KernelRidge(kernel = DotProduct()), data, 'kmer')\n",
    "reg.train()\n",
    "reg.evaluate(cross_val_flag = cross_val_flag, plot_flag = plot_flag, k = k)"
   ]
  },
  {
   "cell_type": "code",
   "execution_count": 8,
   "metadata": {},
   "outputs": [
    {
     "name": "stdout",
     "output_type": "stream",
     "text": [
      "Model:  KernelRidge(alpha=1, coef0=1, degree=3, gamma=None,\n",
      "            kernel=<function spectrum_kernel_pw at 0x7efec227e2f0>,\n",
      "            kernel_params=None)\n",
      "[0.28684508 0.47594838 0.34444124 0.34223795 0.19474536]\n",
      "RMSE : 0.33 (+/- 0.18)\n",
      "\n",
      "Model:  KernelRidge(alpha=1, coef0=1, degree=3, gamma=None,\n",
      "            kernel=<function mixed_spectrum_kernel_pw at 0x7efec227e378>,\n",
      "            kernel_params=None)\n",
      "[0.37274496 0.50538574 0.39857689 0.31013285 0.26965814]\n",
      "RMSE : 0.37 (+/- 0.16)\n",
      "\n",
      "Model:  KernelRidge(alpha=1, coef0=1, degree=3, gamma=None,\n",
      "            kernel=<function WD_kernel_pw at 0x7efec227e400>,\n",
      "            kernel_params=None)\n",
      "[0.27849425 0.43765123 0.40209041 0.38070551 0.21781228]\n",
      "RMSE : 0.34 (+/- 0.16)\n",
      "\n",
      "Model:  KernelRidge(alpha=1, coef0=1, degree=3, gamma=None,\n",
      "            kernel=<function WD_shift_kernel_pw at 0x7efec227e488>,\n",
      "            kernel_params=None)\n",
      "[0.28078538 0.43859451 0.3954927  0.37929358 0.21589545]\n",
      "RMSE : 0.34 (+/- 0.16)\n",
      "\n"
     ]
    }
   ],
   "source": [
    "# Show string kernel performance (l = 3)\n",
    "# label embedding \n",
    "\n",
    "for kernel in kernels:\n",
    "    reg = Regression(KernelRidge(kernel = kernel), data, embedding_method='label')\n",
    "    reg.train()\n",
    "    reg.evaluate(cross_val_flag = cross_val_flag, plot_flag = plot_flag, k = k)\n",
    "    print()"
   ]
  },
  {
   "cell_type": "markdown",
   "metadata": {},
   "source": [
    "### Gaussian Process Regression"
   ]
  },
  {
   "cell_type": "code",
   "execution_count": 9,
   "metadata": {},
   "outputs": [
    {
     "name": "stdout",
     "output_type": "stream",
     "text": [
      "Model:  GaussianProcessRegressor(alpha=1e-10, copy_X_train=True,\n",
      "                         kernel=DotProduct(sigma_0=1), n_restarts_optimizer=0,\n",
      "                         normalize_y=False, optimizer='fmin_l_bfgs_b',\n",
      "                         random_state=None)\n",
      "[0.26045948 0.37864411 0.36652631 0.33416442 0.23448767]\n",
      "RMSE : 0.31 (+/- 0.11)\n"
     ]
    }
   ],
   "source": [
    "# # baseline: onehot embedding with DotProduct Kernel \n",
    "reg = Regression(GaussianProcessRegressor(kernel = DotProduct()), data, 'onehot')\n",
    "reg.train()\n",
    "reg.evaluate(cross_val_flag = cross_val_flag, plot_flag = plot_flag, k = k)"
   ]
  },
  {
   "cell_type": "code",
   "execution_count": 10,
   "metadata": {},
   "outputs": [
    {
     "name": "stdout",
     "output_type": "stream",
     "text": [
      "Model:  GaussianProcessRegressor(alpha=1e-10, copy_X_train=True,\n",
      "                         kernel=DotProduct(sigma_0=1), n_restarts_optimizer=0,\n",
      "                         normalize_y=False, optimizer='fmin_l_bfgs_b',\n",
      "                         random_state=None)\n",
      "[0.27693065 0.49052313 0.43820171 0.4088913  0.27202406]\n",
      "RMSE : 0.38 (+/- 0.18)\n"
     ]
    }
   ],
   "source": [
    "# kmer embedding (l = 3)\n",
    "reg = Regression(GaussianProcessRegressor(kernel = DotProduct()), data, 'kmer')\n",
    "reg.train()\n",
    "reg.evaluate(cross_val_flag = cross_val_flag, plot_flag = plot_flag, k = k)"
   ]
  },
  {
   "cell_type": "code",
   "execution_count": null,
   "metadata": {},
   "outputs": [
    {
     "name": "stdout",
     "output_type": "stream",
     "text": [
      "Model:  GaussianProcessRegressor(alpha=1e-10, copy_X_train=True,\n",
      "                         kernel=PairwiseKernel(gamma=1.0, metric=<function spectrum_kernel_pw at 0x7efec227e2f0>),\n",
      "                         n_restarts_optimizer=0, normalize_y=False,\n",
      "                         optimizer='fmin_l_bfgs_b', random_state=None)\n",
      "[0.27693254 0.49052647 0.43820379 0.40889041 0.27202653]\n",
      "RMSE : 0.38 (+/- 0.18)\n",
      "\n",
      "Model:  GaussianProcessRegressor(alpha=1e-10, copy_X_train=True,\n",
      "                         kernel=PairwiseKernel(gamma=1.0, metric=<function mixed_spectrum_kernel_pw at 0x7efec227e378>),\n",
      "                         n_restarts_optimizer=0, normalize_y=False,\n",
      "                         optimizer='fmin_l_bfgs_b', random_state=None)\n",
      "[0.27693407 0.490508   0.4382023  0.40888562 0.27201237]\n",
      "RMSE : 0.38 (+/- 0.18)\n",
      "\n"
     ]
    }
   ],
   "source": [
    "# Show string kernel performance (l = 3)\n",
    "# label embedding \n",
    "\n",
    "kernels = [spectrum_kernel_pw, mixed_spectrum_kernel_pw, WD_kernel_pw]\n",
    "\n",
    "for kernel in kernels:\n",
    "    reg = Regression(GaussianProcessRegressor(kernel = PairwiseKernel(metric = kernel)), data,\\\n",
    "                 embedding_method='label')\n",
    "    reg.train()\n",
    "    reg.evaluate(cross_val_flag = cross_val_flag, plot_flag = plot_flag, k = k)\n",
    "    print()"
   ]
  },
  {
   "cell_type": "code",
   "execution_count": null,
   "metadata": {},
   "outputs": [],
   "source": []
  }
 ],
 "metadata": {
  "kernelspec": {
   "display_name": "Python 3",
   "language": "python",
   "name": "python3"
  },
  "language_info": {
   "codemirror_mode": {
    "name": "ipython",
    "version": 3
   },
   "file_extension": ".py",
   "mimetype": "text/x-python",
   "name": "python",
   "nbconvert_exporter": "python",
   "pygments_lexer": "ipython3",
   "version": "3.7.3"
  }
 },
 "nbformat": 4,
 "nbformat_minor": 2
}
