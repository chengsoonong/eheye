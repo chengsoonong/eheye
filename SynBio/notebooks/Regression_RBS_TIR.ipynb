{
 "cells": [
  {
   "cell_type": "markdown",
   "metadata": {},
   "source": [
    "# Regression on RBS sequences - Escherichia coli\n",
    "\n",
    "This notebook shows the regression of RBS sequences.\n",
    "\n",
    "There are several parts of the implementation. \n",
    "\n",
    "- Reading the dataset\n",
    "- Embedding\n",
    "    - Label\n",
    "    - One-hot embedding\n",
    "    - K-mer \n",
    "    - PMW (to be added)\n",
    "    - Unsupervised (to be added)\n",
    "- Kernels\n",
    "    - Spectrum\n",
    "    - Mixed Spectrum\n",
    "    - Weighted Degree\n",
    "    - Weighted Degree with Shifting\n",
    "- Evaluate\n",
    "    - R2 score\n",
    "    - Plot"
   ]
  },
  {
   "cell_type": "code",
   "execution_count": 1,
   "metadata": {},
   "outputs": [],
   "source": [
    "# direct to proper path\n",
    "import os\n",
    "import sys\n",
    "module_path = os.path.abspath(os.path.join('..'))\n",
    "if module_path not in sys.path:\n",
    "    sys.path.append(module_path)"
   ]
  },
  {
   "cell_type": "code",
   "execution_count": 2,
   "metadata": {},
   "outputs": [],
   "source": [
    "import numpy as np\n",
    "\n",
    "import pandas as pd\n",
    "import matplotlib.pyplot as plt\n",
    "import itertools\n",
    "from collections import defaultdict\n",
    "\n",
    "from codes.embedding import Embedding\n",
    "from codes.environment import Rewards_env\n",
    "from codes.ucb import GPUCB\n",
    "from codes.evaluations import evaluate, plot_eva\n",
    "from codes.regression import Regression\n",
    "from codes.kernels_pairwise import spectrum_kernel_pw, mixed_spectrum_kernel_pw, WD_kernel_pw, WD_shift_kernel_pw\n",
    "\n",
    "from sklearn.gaussian_process import GaussianProcessRegressor\n",
    "from sklearn.gaussian_process.kernels import PairwiseKernel, DotProduct, RBF\n",
    "from sklearn.kernel_ridge import KernelRidge\n",
    "\n",
    "from ipywidgets import IntProgress\n",
    "from IPython.display import display\n",
    "import warnings\n",
    "%matplotlib inline"
   ]
  },
  {
   "cell_type": "markdown",
   "metadata": {},
   "source": [
    "## Reading the Dataset"
   ]
  },
  {
   "cell_type": "code",
   "execution_count": 3,
   "metadata": {},
   "outputs": [
    {
     "data": {
      "text/html": [
       "<div>\n",
       "<style scoped>\n",
       "    .dataframe tbody tr th:only-of-type {\n",
       "        vertical-align: middle;\n",
       "    }\n",
       "\n",
       "    .dataframe tbody tr th {\n",
       "        vertical-align: top;\n",
       "    }\n",
       "\n",
       "    .dataframe thead th {\n",
       "        text-align: right;\n",
       "    }\n",
       "</style>\n",
       "<table border=\"1\" class=\"dataframe\">\n",
       "  <thead>\n",
       "    <tr style=\"text-align: right;\">\n",
       "      <th></th>\n",
       "      <th>A</th>\n",
       "      <th>B</th>\n",
       "      <th>C</th>\n",
       "      <th>D</th>\n",
       "      <th>E</th>\n",
       "      <th>F</th>\n",
       "    </tr>\n",
       "  </thead>\n",
       "  <tbody>\n",
       "    <tr>\n",
       "      <th>0</th>\n",
       "      <td>ACGATCTTAAGTAAGCGGGGAAAATAATG</td>\n",
       "      <td>AAGTAAGCGGGGA</td>\n",
       "      <td>57706.0</td>\n",
       "      <td>NaN</td>\n",
       "      <td>AAGTAAGCGGGGA</td>\n",
       "      <td>57706.0</td>\n",
       "    </tr>\n",
       "    <tr>\n",
       "      <th>1</th>\n",
       "      <td>ACGATCTTAAGTAGACGCGGAAAATAATG</td>\n",
       "      <td>AAGTAGACGCGGA</td>\n",
       "      <td>613.0</td>\n",
       "      <td>NaN</td>\n",
       "      <td>AAGTAGACGCGGA</td>\n",
       "      <td>613.0</td>\n",
       "    </tr>\n",
       "    <tr>\n",
       "      <th>2</th>\n",
       "      <td>ACGATCTTAAGTAAGCGCGGAAAATAATG</td>\n",
       "      <td>AAGTAAGCGCGGA</td>\n",
       "      <td>5313.0</td>\n",
       "      <td>NaN</td>\n",
       "      <td>AAGTAAGCGCGGA</td>\n",
       "      <td>5313.0</td>\n",
       "    </tr>\n",
       "    <tr>\n",
       "      <th>3</th>\n",
       "      <td>ACGATCTTAAGTAAACGAGGAAAATAATG</td>\n",
       "      <td>AAGTAAACGAGGA</td>\n",
       "      <td>19594.0</td>\n",
       "      <td>NaN</td>\n",
       "      <td>AAGTAAACGAGGA</td>\n",
       "      <td>19594.0</td>\n",
       "    </tr>\n",
       "    <tr>\n",
       "      <th>4</th>\n",
       "      <td>ACGATCTTAAGTAGGCGAGGAAAATAATG</td>\n",
       "      <td>AAGTAGGCGAGGA</td>\n",
       "      <td>33626.0</td>\n",
       "      <td>NaN</td>\n",
       "      <td>AAGTAGGCGAGGA</td>\n",
       "      <td>33626.0</td>\n",
       "    </tr>\n",
       "  </tbody>\n",
       "</table>\n",
       "</div>"
      ],
      "text/plain": [
       "                               A              B        C   D              E  \\\n",
       "0  ACGATCTTAAGTAAGCGGGGAAAATAATG  AAGTAAGCGGGGA  57706.0 NaN  AAGTAAGCGGGGA   \n",
       "1  ACGATCTTAAGTAGACGCGGAAAATAATG  AAGTAGACGCGGA    613.0 NaN  AAGTAGACGCGGA   \n",
       "2  ACGATCTTAAGTAAGCGCGGAAAATAATG  AAGTAAGCGCGGA   5313.0 NaN  AAGTAAGCGCGGA   \n",
       "3  ACGATCTTAAGTAAACGAGGAAAATAATG  AAGTAAACGAGGA  19594.0 NaN  AAGTAAACGAGGA   \n",
       "4  ACGATCTTAAGTAGGCGAGGAAAATAATG  AAGTAGGCGAGGA  33626.0 NaN  AAGTAGGCGAGGA   \n",
       "\n",
       "         F  \n",
       "0  57706.0  \n",
       "1    613.0  \n",
       "2   5313.0  \n",
       "3  19594.0  \n",
       "4  33626.0  "
      ]
     },
     "execution_count": 3,
     "metadata": {},
     "output_type": "execute_result"
    }
   ],
   "source": [
    "# Data downloaded from https://github.com/synbiochem/opt-mva\n",
    "# Paper https://pubs.acs.org/doi/abs/10.1021/acssynbio.8b00398\n",
    "\n",
    "Path = '../data/RBS_list.xlsx'\n",
    "\n",
    "df = pd.read_excel(Path, sheet_name='Unique RBS')\n",
    "df.columns = ['A', 'B', 'C', 'D', 'E', 'F']\n",
    "df.head()"
   ]
  },
  {
   "cell_type": "code",
   "execution_count": 4,
   "metadata": {},
   "outputs": [
    {
     "data": {
      "text/plain": [
       "(113, 2)"
      ]
     },
     "execution_count": 4,
     "metadata": {},
     "output_type": "execute_result"
    }
   ],
   "source": [
    "df = df.drop_duplicates(subset =['B', 'C'])\n",
    "\n",
    "new_df = df[['B', 'C']].dropna()\n",
    "# mean normalization \n",
    "# new_df['normalized_F'] = (new_df['F'] - new_df['F'].mean())/new_df['F'].std()\n",
    "# min-max normalization\n",
    "new_df['normalized_C'] = (new_df['C'] - new_df['C'].min())/(new_df['C'].max() - new_df['C'].min())\n",
    "data = np.asarray(new_df[['B', 'normalized_C']])\n",
    "data.shape"
   ]
  },
  {
   "cell_type": "markdown",
   "metadata": {},
   "source": [
    "## Regression\n",
    "\n",
    "- Kernel Ridge Regression\n",
    "- Gaussian Process Regression\n"
   ]
  },
  {
   "cell_type": "code",
   "execution_count": 5,
   "metadata": {},
   "outputs": [],
   "source": [
    "cross_val_flag = False\n",
    "kernels = [spectrum_kernel_pw, mixed_spectrum_kernel_pw, WD_kernel_pw, WD_shift_kernel_pw]"
   ]
  },
  {
   "cell_type": "markdown",
   "metadata": {},
   "source": [
    "### Kernel Ridge Regression "
   ]
  },
  {
   "cell_type": "code",
   "execution_count": 6,
   "metadata": {},
   "outputs": [
    {
     "name": "stdout",
     "output_type": "stream",
     "text": [
      "Model:  KernelRidge(alpha=1, coef0=1, degree=3, gamma=None,\n",
      "            kernel=DotProduct(sigma_0=1), kernel_params=None)\n",
      "Train RMSE:  0.17498357503519216\n",
      "Test RMSE:  0.23697550581728308\n"
     ]
    },
    {
     "data": {
      "image/png": "[encoded data removed]",
      "text/plain": [
       "<Figure size 432x288 with 1 Axes>"
      ]
     },
     "metadata": {
      "needs_background": "light"
     },
     "output_type": "display_data"
    }
   ],
   "source": [
    "# Baseline: onehot embedding with DotProduct kernel\n",
    "\n",
    "reg = Regression(KernelRidge(kernel = DotProduct()), data, 'onehot')\n",
    "reg.train()\n",
    "reg.evaluate(cross_val_flag = cross_val_flag)"
   ]
  },
  {
   "cell_type": "code",
   "execution_count": 7,
   "metadata": {},
   "outputs": [
    {
     "name": "stdout",
     "output_type": "stream",
     "text": [
      "Model:  KernelRidge(alpha=1, coef0=1, degree=3, gamma=None,\n",
      "            kernel=DotProduct(sigma_0=1), kernel_params=None)\n",
      "Train RMSE:  0.20372091113816757\n",
      "Test RMSE:  0.25335940037303006\n"
     ]
    },
    {
     "data": {
      "image/png": "[encoded data removed]",
      "text/plain": [
       "<Figure size 432x288 with 1 Axes>"
      ]
     },
     "metadata": {
      "needs_background": "light"
     },
     "output_type": "display_data"
    }
   ],
   "source": [
    "# kmer embedding with DotProduct kernel (l = 3)\n",
    "\n",
    "reg = Regression(KernelRidge(kernel = DotProduct()), data, 'kmer')\n",
    "reg.train()\n",
    "reg.evaluate(cross_val_flag = cross_val_flag)"
   ]
  },
  {
   "cell_type": "code",
   "execution_count": null,
   "metadata": {},
   "outputs": [
    {
     "name": "stdout",
     "output_type": "stream",
     "text": [
      "Model:  KernelRidge(alpha=1, coef0=1, degree=3, gamma=None,\n",
      "            kernel=<function spectrum_kernel_pw at 0x7fa1bb0d0378>,\n",
      "            kernel_params=None)\n",
      "Train RMSE:  0.16853178909474487\n",
      "Test RMSE:  0.2716912829593022\n",
      "\n",
      "Model:  KernelRidge(alpha=1, coef0=1, degree=3, gamma=None,\n",
      "            kernel=<function mixed_spectrum_kernel_pw at 0x7fa1bb0d0400>,\n",
      "            kernel_params=None)\n",
      "Train RMSE:  0.17186650092145733\n",
      "Test RMSE:  0.26580441606885435\n",
      "\n",
      "Model:  KernelRidge(alpha=1, coef0=1, degree=3, gamma=None,\n",
      "            kernel=<function WD_kernel_pw at 0x7fa1bb0d0488>,\n",
      "            kernel_params=None)\n",
      "Train RMSE:  0.15982761197484005\n",
      "Test RMSE:  0.22877782480605377\n",
      "\n"
     ]
    }
   ],
   "source": [
    "# Show string kernel performance (l = 3)\n",
    "# label embedding \n",
    "\n",
    "for kernel in kernels:\n",
    "    reg = Regression(KernelRidge(kernel = kernel), data, embedding_method='label')\n",
    "    reg.train()\n",
    "    reg.evaluate(cross_val_flag = cross_val_flag, plot_flag = False)\n",
    "    print()"
   ]
  },
  {
   "cell_type": "markdown",
   "metadata": {},
   "source": [
    "### Gaussian Process Regression"
   ]
  },
  {
   "cell_type": "code",
   "execution_count": null,
   "metadata": {},
   "outputs": [],
   "source": [
    "# # baseline: onehot embedding with DotProduct Kernel \n",
    "reg = Regression(GaussianProcessRegressor(kernel = DotProduct()), data, 'onehot')\n",
    "reg.train()\n",
    "reg.evaluate(cross_val_flag = cross_val_flag, plot_flag = False)"
   ]
  },
  {
   "cell_type": "code",
   "execution_count": null,
   "metadata": {},
   "outputs": [],
   "source": [
    "# kmer embedding (l = 3)\n",
    "reg = Regression(GaussianProcessRegressor(kernel = DotProduct()), data, 'kmer')\n",
    "reg.train()\n",
    "reg.evaluate(cross_val_flag = cross_val_flag, plot_flag = False)"
   ]
  },
  {
   "cell_type": "code",
   "execution_count": null,
   "metadata": {},
   "outputs": [],
   "source": [
    "# Show string kernel performance (l = 3)\n",
    "# label embedding \n",
    "\n",
    "for kernel in kernels:\n",
    "    reg = Regression(GaussianProcessRegressor(kernel = PairwiseKernel(metric = kernel)), data,\\\n",
    "                 embedding_method='label')\n",
    "    reg.train()\n",
    "    reg.evaluate(cross_val_flag = cross_val_flag, plot_flag = False)\n",
    "    print()"
   ]
  },
  {
   "cell_type": "code",
   "execution_count": null,
   "metadata": {},
   "outputs": [],
   "source": []
  }
 ],
 "metadata": {
  "kernelspec": {
   "display_name": "Python 3",
   "language": "python",
   "name": "python3"
  },
  "language_info": {
   "codemirror_mode": {
    "name": "ipython",
    "version": 3
   },
   "file_extension": ".py",
   "mimetype": "text/x-python",
   "name": "python",
   "nbconvert_exporter": "python",
   "pygments_lexer": "ipython3",
   "version": "3.7.3"
  }
 },
 "nbformat": 4,
 "nbformat_minor": 2
}
